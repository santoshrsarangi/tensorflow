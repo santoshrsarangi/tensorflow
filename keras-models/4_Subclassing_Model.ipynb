{
  "nbformat": 4,
  "nbformat_minor": 0,
  "metadata": {
    "colab": {
      "provenance": [],
      "authorship_tag": "ABX9TyO0l/V37Cni20IeWzaoD90r",
      "include_colab_link": true
    },
    "kernelspec": {
      "name": "python3",
      "display_name": "Python 3"
    },
    "language_info": {
      "name": "python"
    }
  },
  "cells": [
    {
      "cell_type": "markdown",
      "metadata": {
        "id": "view-in-github",
        "colab_type": "text"
      },
      "source": [
        "<a href=\"https://colab.research.google.com/github/santoshrsarangi/tensorflow/blob/main/keras-models/4_Subclassing_Model.ipynb\" target=\"_parent\"><img src=\"https://colab.research.google.com/assets/colab-badge.svg\" alt=\"Open In Colab\"/></a>"
      ]
    },
    {
      "cell_type": "code",
      "execution_count": 1,
      "metadata": {
        "id": "wujoHm8RuffY"
      },
      "outputs": [],
      "source": [
        "import tensorflow as tf\n",
        "from tensorflow import keras"
      ]
    },
    {
      "cell_type": "code",
      "source": [
        "class CustomModel(keras.Model):\n",
        "\n",
        "  def __init__(self):\n",
        "    super.__init__()\n",
        "    self.concat_layer = keras.layers.Concatenate()\n",
        "    self.dense_layer = keras.layers.Dense(64, activation=\"relu\")\n",
        "    self.output1_layer = keras.layers.Dense(10, activation=\"softmax\")\n",
        "    self.output2_layer = keras.layers.Dense(1, activation=\"sigmoid\")\n",
        "\n",
        "\n",
        "  def __call__(self, inputs):\n",
        "    features = self.concat_layer(inputs[0], inputs[1], inputs[2])\n",
        "    features = self.dense_layer(features)\n",
        "\n",
        "    output_1 = self.output1_layer(features)\n",
        "    output_2 = self.output2_layer(features)\n",
        "\n",
        "    return output_1, output_2\n",
        "\n"
      ],
      "metadata": {
        "id": "E0P7u3dKu2Ja"
      },
      "execution_count": 2,
      "outputs": []
    },
    {
      "cell_type": "code",
      "source": [
        "import numpy as np"
      ],
      "metadata": {
        "id": "7Ys784c305Qu"
      },
      "execution_count": 3,
      "outputs": []
    },
    {
      "cell_type": "code",
      "source": [
        "train_input_1 = np.random.randint(0, 2, size=(5000, 32))\n",
        "train_input_2 = np.random.randint(0, 2, size=(5000, 32))\n",
        "train_input_3 = np.random.randint(0, 2, size=(5000, 32))"
      ],
      "metadata": {
        "id": "NhrpEKPS09s5"
      },
      "execution_count": null,
      "outputs": []
    }
  ]
}