{
  "nbformat": 4,
  "nbformat_minor": 0,
  "metadata": {
    "colab": {
      "provenance": [],
      "authorship_tag": "ABX9TyPc/R6qe7QTbTBeFJ495yA8",
      "include_colab_link": true
    },
    "kernelspec": {
      "name": "python3",
      "display_name": "Python 3"
    },
    "language_info": {
      "name": "python"
    }
  },
  "cells": [
    {
      "cell_type": "markdown",
      "metadata": {
        "id": "view-in-github",
        "colab_type": "text"
      },
      "source": [
        "<a href=\"https://colab.research.google.com/github/santoshrsarangi/tensorflow/blob/main/keras-models/5_Callbacks.ipynb\" target=\"_parent\"><img src=\"https://colab.research.google.com/assets/colab-badge.svg\" alt=\"Open In Colab\"/></a>"
      ]
    },
    {
      "cell_type": "code",
      "execution_count": 1,
      "metadata": {
        "id": "lPpxCwyL4Aag"
      },
      "outputs": [],
      "source": [
        "import tensorflow as tf\n",
        "from tensorflow import keras\n",
        "from keras.datasets import mnist"
      ]
    },
    {
      "cell_type": "code",
      "source": [
        "(train_data, train_label), (test_data, test_label) = mnist.load_data()"
      ],
      "metadata": {
        "id": "7HTwH8m-4Mze",
        "outputId": "cc4931fd-d3b6-4b27-fb4b-9f4ae86b5fb8",
        "colab": {
          "base_uri": "https://localhost:8080/"
        }
      },
      "execution_count": 2,
      "outputs": [
        {
          "output_type": "stream",
          "name": "stdout",
          "text": [
            "Downloading data from https://storage.googleapis.com/tensorflow/tf-keras-datasets/mnist.npz\n",
            "11493376/11490434 [==============================] - 0s 0us/step\n",
            "11501568/11490434 [==============================] - 0s 0us/step\n"
          ]
        }
      ]
    },
    {
      "cell_type": "code",
      "source": [
        "train_data = train_data / 255.\n",
        "test_data = test_data / 255."
      ],
      "metadata": {
        "id": "H1zPqaA_49xF"
      },
      "execution_count": 3,
      "outputs": []
    },
    {
      "cell_type": "code",
      "source": [
        "train_data.shape"
      ],
      "metadata": {
        "id": "wT8Zl_mi9Fr5",
        "outputId": "97f29161-66fa-416e-acd3-d8ff01c4c44d",
        "colab": {
          "base_uri": "https://localhost:8080/"
        }
      },
      "execution_count": 11,
      "outputs": [
        {
          "output_type": "execute_result",
          "data": {
            "text/plain": [
              "(60000, 784)"
            ]
          },
          "metadata": {},
          "execution_count": 11
        }
      ]
    },
    {
      "cell_type": "code",
      "source": [
        "train_data = train_data.reshape(len(train_data), 28*28)\n",
        "test_data = test_data.reshape(len(test_data), 28*28)"
      ],
      "metadata": {
        "id": "DsQWIMCU88IT"
      },
      "execution_count": 9,
      "outputs": []
    },
    {
      "cell_type": "code",
      "source": [
        "def getmodel():\n",
        "\n",
        "  model = keras.Sequential([\n",
        "    keras.layers.Dense(784, activation=\"relu\"),\n",
        "    keras.layers.Dense(512, activation = \"relu\"),\n",
        "    keras.layers.Dense(10, activation = \"softmax\")\n",
        "  ])\n",
        "\n",
        "  model.compile(\n",
        "      optimizer=\"rmsprop\",\n",
        "      loss = \"sparse_categorical_crossentropy\",\n",
        "      metrics = ['accuracy']\n",
        "  )\n",
        "\n",
        "  return model\n"
      ],
      "metadata": {
        "id": "SiARg_B_5HOf"
      },
      "execution_count": 15,
      "outputs": []
    },
    {
      "cell_type": "code",
      "source": [
        "model=getmodel() "
      ],
      "metadata": {
        "id": "2kfINbbD94q8"
      },
      "execution_count": 17,
      "outputs": []
    },
    {
      "cell_type": "code",
      "source": [
        "callbacks = [\n",
        "    keras.callbacks.EarlyStopping(monitor='val_accuracy', patience = 2),\n",
        "    keras.callbacks.ModelCheckpoint(filepath=\"mymnistmodel.keras\", save_best_only=True, monitor='val_loss')\n",
        "]"
      ],
      "metadata": {
        "id": "HItR7AeL-yxY"
      },
      "execution_count": 19,
      "outputs": []
    },
    {
      "cell_type": "code",
      "source": [
        "fithistory = model.fit(train_data,\n",
        "          train_label,\n",
        "          validation_split=0.2,\n",
        "          epochs = 20,\n",
        "          batch_size = 128,\n",
        "          callbacks=callbacks)"
      ],
      "metadata": {
        "id": "PgJTNPkZ-eZb",
        "outputId": "0c99cfb7-8577-43fa-f646-50c2c5e3bd31",
        "colab": {
          "base_uri": "https://localhost:8080/"
        }
      },
      "execution_count": 23,
      "outputs": [
        {
          "output_type": "stream",
          "name": "stdout",
          "text": [
            "Epoch 1/20\n",
            "375/375 [==============================] - 6s 17ms/step - loss: 0.0303 - accuracy: 0.9911 - val_loss: 0.1290 - val_accuracy: 0.9724\n",
            "Epoch 2/20\n",
            "375/375 [==============================] - 6s 17ms/step - loss: 0.0225 - accuracy: 0.9930 - val_loss: 0.1114 - val_accuracy: 0.9782\n",
            "Epoch 3/20\n",
            "375/375 [==============================] - 7s 18ms/step - loss: 0.0167 - accuracy: 0.9948 - val_loss: 0.1273 - val_accuracy: 0.9772\n",
            "Epoch 4/20\n",
            "375/375 [==============================] - 6s 17ms/step - loss: 0.0166 - accuracy: 0.9949 - val_loss: 0.1259 - val_accuracy: 0.9786\n",
            "Epoch 5/20\n",
            "375/375 [==============================] - 6s 17ms/step - loss: 0.0139 - accuracy: 0.9960 - val_loss: 0.1349 - val_accuracy: 0.9795\n",
            "Epoch 6/20\n",
            "375/375 [==============================] - 6s 17ms/step - loss: 0.0111 - accuracy: 0.9965 - val_loss: 0.1747 - val_accuracy: 0.9758\n",
            "Epoch 7/20\n",
            "375/375 [==============================] - 6s 17ms/step - loss: 0.0109 - accuracy: 0.9972 - val_loss: 0.1492 - val_accuracy: 0.9797\n",
            "Epoch 8/20\n",
            "375/375 [==============================] - 6s 17ms/step - loss: 0.0095 - accuracy: 0.9970 - val_loss: 0.1649 - val_accuracy: 0.9782\n",
            "Epoch 9/20\n",
            "375/375 [==============================] - 6s 17ms/step - loss: 0.0070 - accuracy: 0.9979 - val_loss: 0.1779 - val_accuracy: 0.9785\n"
          ]
        }
      ]
    },
    {
      "cell_type": "code",
      "source": [
        "ls -lart"
      ],
      "metadata": {
        "id": "JkjfKvjpALSI",
        "outputId": "e47e3d9a-95e0-4027-8f1a-677037209b27",
        "colab": {
          "base_uri": "https://localhost:8080/"
        }
      },
      "execution_count": 24,
      "outputs": [
        {
          "output_type": "stream",
          "name": "stdout",
          "text": [
            "total 8036\n",
            "drwxr-xr-x 4 root root    4096 Aug 31 13:47 \u001b[0m\u001b[01;34m.config\u001b[0m/\n",
            "drwxr-xr-x 1 root root    4096 Aug 31 13:47 \u001b[01;34msample_data\u001b[0m/\n",
            "drwxr-xr-x 1 root root    4096 Sep  3 10:25 \u001b[01;34m..\u001b[0m/\n",
            "drwxr-xr-x 1 root root    4096 Sep  3 10:58 \u001b[01;34m.\u001b[0m/\n",
            "-rw-r--r-- 1 root root 8211752 Sep  3 10:58 mymnistmodel.keras\n"
          ]
        }
      ]
    }
  ]
}