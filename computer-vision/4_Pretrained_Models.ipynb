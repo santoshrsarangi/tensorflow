{
  "nbformat": 4,
  "nbformat_minor": 0,
  "metadata": {
    "colab": {
      "provenance": [],
      "authorship_tag": "ABX9TyMjPN9TmS60xxlILyy3Qmue",
      "include_colab_link": true
    },
    "kernelspec": {
      "name": "python3",
      "display_name": "Python 3"
    },
    "language_info": {
      "name": "python"
    },
    "gpuClass": "standard",
    "accelerator": "GPU"
  },
  "cells": [
    {
      "cell_type": "markdown",
      "metadata": {
        "id": "view-in-github",
        "colab_type": "text"
      },
      "source": [
        "<a href=\"https://colab.research.google.com/github/santoshrsarangi/tensorflow/blob/main/computer-vision/4_Pretrained_Models.ipynb\" target=\"_parent\"><img src=\"https://colab.research.google.com/assets/colab-badge.svg\" alt=\"Open In Colab\"/></a>"
      ]
    },
    {
      "cell_type": "code",
      "execution_count": 1,
      "metadata": {
        "id": "Of3nohwReGWU"
      },
      "outputs": [],
      "source": [
        "import tensorflow as tf\n",
        "from tensorflow import keras\n",
        "from tensorflow.keras import layers\n",
        "from tensorflow.keras.utils import image_dataset_from_directory"
      ]
    },
    {
      "cell_type": "code",
      "source": [
        "from google.colab import files\n",
        "r=files.upload()"
      ],
      "metadata": {
        "colab": {
          "resources": {
            "http://localhost:8080/nbextensions/google.colab/files.js": {
              "data": "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",
              "ok": true,
              "headers": [
                [
                  "content-type",
                  "application/javascript"
                ]
              ],
              "status": 200,
              "status_text": ""
            }
          },
          "base_uri": "https://localhost:8080/",
          "height": 92
        },
        "id": "24drv6Ewo0qj",
        "outputId": "a596cfd4-8329-4452-8682-23f2f6c2cc18"
      },
      "execution_count": 2,
      "outputs": [
        {
          "output_type": "display_data",
          "data": {
            "text/plain": [
              "<IPython.core.display.HTML object>"
            ],
            "text/html": [
              "\n",
              "     <input type=\"file\" id=\"files-f3e5745c-2bf5-43d1-ae91-1fbbce3b07c7\" name=\"files[]\" multiple disabled\n",
              "        style=\"border:none\" />\n",
              "     <output id=\"result-f3e5745c-2bf5-43d1-ae91-1fbbce3b07c7\">\n",
              "      Upload widget is only available when the cell has been executed in the\n",
              "      current browser session. Please rerun this cell to enable.\n",
              "      </output>\n",
              "      <script src=\"/nbextensions/google.colab/files.js\"></script> "
            ]
          },
          "metadata": {}
        },
        {
          "output_type": "stream",
          "name": "stdout",
          "text": [
            "Saving kaggle.json to kaggle.json\n"
          ]
        }
      ]
    },
    {
      "cell_type": "code",
      "source": [
        "!mkdir ~/.kaggle\n",
        "!cp kaggle.json ~/.kaggle/\n",
        "!chmod 600 ~/.kaggle/kaggle.json"
      ],
      "metadata": {
        "id": "S89UVtBvpwJq"
      },
      "execution_count": 3,
      "outputs": []
    },
    {
      "cell_type": "code",
      "source": [
        "!kaggle competitions download -c dogs-vs-cats"
      ],
      "metadata": {
        "colab": {
          "base_uri": "https://localhost:8080/"
        },
        "id": "Lj0VHCRJp-T-",
        "outputId": "3c347bdd-e4ea-4c96-b642-c4fcfe556779"
      },
      "execution_count": 4,
      "outputs": [
        {
          "output_type": "stream",
          "name": "stdout",
          "text": [
            "Downloading dogs-vs-cats.zip to /content\n",
            " 99% 803M/812M [00:06<00:00, 130MB/s]\n",
            "100% 812M/812M [00:06<00:00, 138MB/s]\n"
          ]
        }
      ]
    },
    {
      "cell_type": "code",
      "source": [
        "!unzip -qq dogs-vs-cats.zip"
      ],
      "metadata": {
        "id": "P7IHot_-rFAH"
      },
      "execution_count": 5,
      "outputs": []
    },
    {
      "cell_type": "code",
      "source": [
        "!unzip -qq train.zip"
      ],
      "metadata": {
        "id": "KeaFmyYSs-SL"
      },
      "execution_count": 6,
      "outputs": []
    },
    {
      "cell_type": "code",
      "source": [
        "import os, pathlib, shutil"
      ],
      "metadata": {
        "id": "CqANQEaYtG72"
      },
      "execution_count": 7,
      "outputs": []
    },
    {
      "cell_type": "code",
      "source": [
        "src_dir = pathlib.Path(\"train\")\n",
        "dst_dir = pathlib.Path(\"cats-vs-dogs\")"
      ],
      "metadata": {
        "id": "jckY8vXAtdgK"
      },
      "execution_count": 8,
      "outputs": []
    },
    {
      "cell_type": "code",
      "source": [
        "def create_directory(name, start_index, end_index):\n",
        "\n",
        "  for category in [\"cat\", \"dog\"]:\n",
        "\n",
        "    sub_dir = dst_dir / name/ category\n",
        "    os.makedirs(sub_dir)\n",
        "\n",
        "    for i in range(start_index, end_index):\n",
        "      src_file = src_dir / f\"{category}.{i}.jpg\"\n",
        "      shutil.copy(src=src_file, dst=sub_dir)"
      ],
      "metadata": {
        "id": "0ds1SoBFtrul"
      },
      "execution_count": 9,
      "outputs": []
    },
    {
      "cell_type": "code",
      "source": [
        "create_directory(\"train\", 0, 1000)\n",
        "create_directory(\"validation\", 1000, 1500)\n",
        "create_directory(\"test\", 1500, 2500)"
      ],
      "metadata": {
        "id": "wPwdlCH2wMfM"
      },
      "execution_count": 10,
      "outputs": []
    },
    {
      "cell_type": "code",
      "source": [
        "train_dataset = image_dataset_from_directory(dst_dir / \"train\", image_size = (180, 180), batch_size=32)\n",
        "validation_dataset = image_dataset_from_directory(dst_dir / \"validation\", image_size = (180, 180), batch_size=32)\n",
        "test_dataset = image_dataset_from_directory(dst_dir / \"test\", image_size = (180, 180), batch_size=32)"
      ],
      "metadata": {
        "colab": {
          "base_uri": "https://localhost:8080/"
        },
        "id": "Otm7yQUQweD1",
        "outputId": "a5d8d6ed-262f-4bda-be7d-555062e67dde"
      },
      "execution_count": 11,
      "outputs": [
        {
          "output_type": "stream",
          "name": "stdout",
          "text": [
            "Found 2000 files belonging to 2 classes.\n",
            "Found 1000 files belonging to 2 classes.\n",
            "Found 2000 files belonging to 2 classes.\n"
          ]
        }
      ]
    },
    {
      "cell_type": "code",
      "source": [
        "base_model = keras.applications.vgg16.VGG16(include_top=False, weights='imagenet', input_shape=(180, 180, 3))\n",
        "base_model.summary()"
      ],
      "metadata": {
        "colab": {
          "base_uri": "https://localhost:8080/"
        },
        "id": "fGK3AeZE1Xjy",
        "outputId": "0828cffd-87ac-4e34-a40f-392df2282ea8"
      },
      "execution_count": 12,
      "outputs": [
        {
          "output_type": "stream",
          "name": "stdout",
          "text": [
            "Downloading data from https://storage.googleapis.com/tensorflow/keras-applications/vgg16/vgg16_weights_tf_dim_ordering_tf_kernels_notop.h5\n",
            "58892288/58889256 [==============================] - 0s 0us/step\n",
            "58900480/58889256 [==============================] - 0s 0us/step\n",
            "Model: \"vgg16\"\n",
            "_________________________________________________________________\n",
            " Layer (type)                Output Shape              Param #   \n",
            "=================================================================\n",
            " input_1 (InputLayer)        [(None, 180, 180, 3)]     0         \n",
            "                                                                 \n",
            " block1_conv1 (Conv2D)       (None, 180, 180, 64)      1792      \n",
            "                                                                 \n",
            " block1_conv2 (Conv2D)       (None, 180, 180, 64)      36928     \n",
            "                                                                 \n",
            " block1_pool (MaxPooling2D)  (None, 90, 90, 64)        0         \n",
            "                                                                 \n",
            " block2_conv1 (Conv2D)       (None, 90, 90, 128)       73856     \n",
            "                                                                 \n",
            " block2_conv2 (Conv2D)       (None, 90, 90, 128)       147584    \n",
            "                                                                 \n",
            " block2_pool (MaxPooling2D)  (None, 45, 45, 128)       0         \n",
            "                                                                 \n",
            " block3_conv1 (Conv2D)       (None, 45, 45, 256)       295168    \n",
            "                                                                 \n",
            " block3_conv2 (Conv2D)       (None, 45, 45, 256)       590080    \n",
            "                                                                 \n",
            " block3_conv3 (Conv2D)       (None, 45, 45, 256)       590080    \n",
            "                                                                 \n",
            " block3_pool (MaxPooling2D)  (None, 22, 22, 256)       0         \n",
            "                                                                 \n",
            " block4_conv1 (Conv2D)       (None, 22, 22, 512)       1180160   \n",
            "                                                                 \n",
            " block4_conv2 (Conv2D)       (None, 22, 22, 512)       2359808   \n",
            "                                                                 \n",
            " block4_conv3 (Conv2D)       (None, 22, 22, 512)       2359808   \n",
            "                                                                 \n",
            " block4_pool (MaxPooling2D)  (None, 11, 11, 512)       0         \n",
            "                                                                 \n",
            " block5_conv1 (Conv2D)       (None, 11, 11, 512)       2359808   \n",
            "                                                                 \n",
            " block5_conv2 (Conv2D)       (None, 11, 11, 512)       2359808   \n",
            "                                                                 \n",
            " block5_conv3 (Conv2D)       (None, 11, 11, 512)       2359808   \n",
            "                                                                 \n",
            " block5_pool (MaxPooling2D)  (None, 5, 5, 512)         0         \n",
            "                                                                 \n",
            "=================================================================\n",
            "Total params: 14,714,688\n",
            "Trainable params: 14,714,688\n",
            "Non-trainable params: 0\n",
            "_________________________________________________________________\n"
          ]
        }
      ]
    },
    {
      "cell_type": "code",
      "source": [
        "base_model_with_top_layer = keras.applications.vgg16.VGG16(include_top=True, weights='imagenet', input_shape=(224, 224, 3))\n",
        "base_model_with_top_layer.summary()"
      ],
      "metadata": {
        "colab": {
          "base_uri": "https://localhost:8080/"
        },
        "id": "fZA2DnrXSORe",
        "outputId": "d0185feb-8ad2-49da-895a-34822c0232ca"
      },
      "execution_count": 13,
      "outputs": [
        {
          "output_type": "stream",
          "name": "stdout",
          "text": [
            "Downloading data from https://storage.googleapis.com/tensorflow/keras-applications/vgg16/vgg16_weights_tf_dim_ordering_tf_kernels.h5\n",
            "553467904/553467096 [==============================] - 3s 0us/step\n",
            "553476096/553467096 [==============================] - 3s 0us/step\n",
            "Model: \"vgg16\"\n",
            "_________________________________________________________________\n",
            " Layer (type)                Output Shape              Param #   \n",
            "=================================================================\n",
            " input_2 (InputLayer)        [(None, 224, 224, 3)]     0         \n",
            "                                                                 \n",
            " block1_conv1 (Conv2D)       (None, 224, 224, 64)      1792      \n",
            "                                                                 \n",
            " block1_conv2 (Conv2D)       (None, 224, 224, 64)      36928     \n",
            "                                                                 \n",
            " block1_pool (MaxPooling2D)  (None, 112, 112, 64)      0         \n",
            "                                                                 \n",
            " block2_conv1 (Conv2D)       (None, 112, 112, 128)     73856     \n",
            "                                                                 \n",
            " block2_conv2 (Conv2D)       (None, 112, 112, 128)     147584    \n",
            "                                                                 \n",
            " block2_pool (MaxPooling2D)  (None, 56, 56, 128)       0         \n",
            "                                                                 \n",
            " block3_conv1 (Conv2D)       (None, 56, 56, 256)       295168    \n",
            "                                                                 \n",
            " block3_conv2 (Conv2D)       (None, 56, 56, 256)       590080    \n",
            "                                                                 \n",
            " block3_conv3 (Conv2D)       (None, 56, 56, 256)       590080    \n",
            "                                                                 \n",
            " block3_pool (MaxPooling2D)  (None, 28, 28, 256)       0         \n",
            "                                                                 \n",
            " block4_conv1 (Conv2D)       (None, 28, 28, 512)       1180160   \n",
            "                                                                 \n",
            " block4_conv2 (Conv2D)       (None, 28, 28, 512)       2359808   \n",
            "                                                                 \n",
            " block4_conv3 (Conv2D)       (None, 28, 28, 512)       2359808   \n",
            "                                                                 \n",
            " block4_pool (MaxPooling2D)  (None, 14, 14, 512)       0         \n",
            "                                                                 \n",
            " block5_conv1 (Conv2D)       (None, 14, 14, 512)       2359808   \n",
            "                                                                 \n",
            " block5_conv2 (Conv2D)       (None, 14, 14, 512)       2359808   \n",
            "                                                                 \n",
            " block5_conv3 (Conv2D)       (None, 14, 14, 512)       2359808   \n",
            "                                                                 \n",
            " block5_pool (MaxPooling2D)  (None, 7, 7, 512)         0         \n",
            "                                                                 \n",
            " flatten (Flatten)           (None, 25088)             0         \n",
            "                                                                 \n",
            " fc1 (Dense)                 (None, 4096)              102764544 \n",
            "                                                                 \n",
            " fc2 (Dense)                 (None, 4096)              16781312  \n",
            "                                                                 \n",
            " predictions (Dense)         (None, 1000)              4097000   \n",
            "                                                                 \n",
            "=================================================================\n",
            "Total params: 138,357,544\n",
            "Trainable params: 138,357,544\n",
            "Non-trainable params: 0\n",
            "_________________________________________________________________\n"
          ]
        }
      ]
    },
    {
      "cell_type": "markdown",
      "source": [
        "## Extract base model (VGG16) features and labels and add classification layers to train and validate. "
      ],
      "metadata": {
        "id": "V1wSlBItegV_"
      }
    },
    {
      "cell_type": "code",
      "source": [
        "import numpy as np\n",
        "\n",
        "def get_features_and_labels(dataset):\n",
        "\n",
        "  allfeatures = []\n",
        "  alllabels = []\n",
        "\n",
        "  for images, labels in dataset:\n",
        "\n",
        "    processed_image = keras.applications.vgg16.preprocess_input(images)\n",
        "\n",
        "    features = base_model.predict(processed_image)\n",
        "\n",
        "    allfeatures.append(features)\n",
        "    alllabels.append(labels)\n",
        "\n",
        "  return np.concatenate(allfeatures), np.concatenate(alllabels)"
      ],
      "metadata": {
        "id": "KsNWBvW0e91M"
      },
      "execution_count": 14,
      "outputs": []
    },
    {
      "cell_type": "code",
      "source": [
        "train_features, train_labels = get_features_and_labels(train_dataset)\n",
        "val_features, val_labels = get_features_and_labels(validation_dataset)\n",
        "test_features, test_labels = get_features_and_labels(test_dataset)"
      ],
      "metadata": {
        "id": "r3oGvymCgXId"
      },
      "execution_count": 15,
      "outputs": []
    },
    {
      "cell_type": "code",
      "source": [
        "train_features.shape"
      ],
      "metadata": {
        "id": "KIoHW29fgsAV",
        "outputId": "d4f0e7a0-5e2f-4749-b46d-e5b31a243b69",
        "colab": {
          "base_uri": "https://localhost:8080/"
        }
      },
      "execution_count": 16,
      "outputs": [
        {
          "output_type": "execute_result",
          "data": {
            "text/plain": [
              "(2000, 5, 5, 512)"
            ]
          },
          "metadata": {},
          "execution_count": 16
        }
      ]
    },
    {
      "cell_type": "code",
      "source": [
        "input = keras.Input(shape=(5,5,512))\n",
        "\n",
        "x = layers.Flatten()(input)\n",
        "x = layers.Dense(256)(x)\n",
        "x = layers.Dropout(0.5)(x)\n",
        "output = layers.Dense(1, activation=\"sigmoid\")(x)\n",
        "\n",
        "model = keras.Model(input, output)"
      ],
      "metadata": {
        "id": "FEq3WK15kC9V"
      },
      "execution_count": 17,
      "outputs": []
    },
    {
      "cell_type": "code",
      "source": [
        "model.compile(optimizer = \"rmsprop\", loss=\"binary_crossentropy\", metrics=['accuracy'])"
      ],
      "metadata": {
        "id": "ZA9d-IBT1wFh"
      },
      "execution_count": 18,
      "outputs": []
    },
    {
      "cell_type": "code",
      "source": [
        "mycallback = [\n",
        "    keras.callbacks.ModelCheckpoint(\n",
        "        filepath = \"feature_extraction.keras\",\n",
        "        save_best_only=True,\n",
        "        monitor='val_loss'\n",
        "    )\n",
        "]"
      ],
      "metadata": {
        "id": "WoRTQXwy2IKc"
      },
      "execution_count": 19,
      "outputs": []
    },
    {
      "cell_type": "code",
      "source": [
        "history = model.fit(train_features, train_labels, epochs=20, validation_data=(val_features, val_labels), callbacks=mycallback)"
      ],
      "metadata": {
        "id": "HxQQHGXd2gWt",
        "outputId": "f9e75fca-6fb2-4f34-ab3b-58d264998c2a",
        "colab": {
          "base_uri": "https://localhost:8080/"
        }
      },
      "execution_count": 20,
      "outputs": [
        {
          "output_type": "stream",
          "name": "stdout",
          "text": [
            "Epoch 1/20\n",
            "63/63 [==============================] - 3s 14ms/step - loss: 18.6975 - accuracy: 0.9210 - val_loss: 7.9481 - val_accuracy: 0.9520\n",
            "Epoch 2/20\n",
            "63/63 [==============================] - 0s 7ms/step - loss: 2.8080 - accuracy: 0.9765 - val_loss: 3.6507 - val_accuracy: 0.9720\n",
            "Epoch 3/20\n",
            "63/63 [==============================] - 0s 7ms/step - loss: 1.3423 - accuracy: 0.9870 - val_loss: 9.1898 - val_accuracy: 0.9560\n",
            "Epoch 4/20\n",
            "63/63 [==============================] - 0s 7ms/step - loss: 2.1334 - accuracy: 0.9860 - val_loss: 4.6921 - val_accuracy: 0.9740\n",
            "Epoch 5/20\n",
            "63/63 [==============================] - 0s 7ms/step - loss: 1.1805 - accuracy: 0.9890 - val_loss: 4.4855 - val_accuracy: 0.9790\n",
            "Epoch 6/20\n",
            "63/63 [==============================] - 0s 7ms/step - loss: 0.7306 - accuracy: 0.9950 - val_loss: 3.3150 - val_accuracy: 0.9790\n",
            "Epoch 7/20\n",
            "63/63 [==============================] - 0s 6ms/step - loss: 0.5404 - accuracy: 0.9960 - val_loss: 3.7418 - val_accuracy: 0.9790\n",
            "Epoch 8/20\n",
            "63/63 [==============================] - 0s 6ms/step - loss: 0.3511 - accuracy: 0.9950 - val_loss: 4.1523 - val_accuracy: 0.9790\n",
            "Epoch 9/20\n",
            "63/63 [==============================] - 0s 6ms/step - loss: 0.4600 - accuracy: 0.9950 - val_loss: 5.1315 - val_accuracy: 0.9790\n",
            "Epoch 10/20\n",
            "63/63 [==============================] - 0s 7ms/step - loss: 0.1273 - accuracy: 0.9975 - val_loss: 5.1784 - val_accuracy: 0.9760\n",
            "Epoch 11/20\n",
            "63/63 [==============================] - 0s 6ms/step - loss: 0.2991 - accuracy: 0.9970 - val_loss: 5.1216 - val_accuracy: 0.9720\n",
            "Epoch 12/20\n",
            "63/63 [==============================] - 0s 6ms/step - loss: 0.2835 - accuracy: 0.9985 - val_loss: 6.6698 - val_accuracy: 0.9740\n",
            "Epoch 13/20\n",
            "63/63 [==============================] - 0s 7ms/step - loss: 0.3355 - accuracy: 0.9950 - val_loss: 4.0506 - val_accuracy: 0.9760\n",
            "Epoch 14/20\n",
            "63/63 [==============================] - 0s 6ms/step - loss: 0.3301 - accuracy: 0.9965 - val_loss: 6.3619 - val_accuracy: 0.9790\n",
            "Epoch 15/20\n",
            "63/63 [==============================] - 0s 6ms/step - loss: 0.5618 - accuracy: 0.9960 - val_loss: 6.6726 - val_accuracy: 0.9730\n",
            "Epoch 16/20\n",
            "63/63 [==============================] - 0s 6ms/step - loss: 0.0362 - accuracy: 0.9990 - val_loss: 8.5513 - val_accuracy: 0.9720\n",
            "Epoch 17/20\n",
            "63/63 [==============================] - 0s 6ms/step - loss: 0.1920 - accuracy: 0.9970 - val_loss: 6.2046 - val_accuracy: 0.9770\n",
            "Epoch 18/20\n",
            "63/63 [==============================] - 0s 7ms/step - loss: 9.9068e-12 - accuracy: 1.0000 - val_loss: 6.2026 - val_accuracy: 0.9770\n",
            "Epoch 19/20\n",
            "63/63 [==============================] - 0s 7ms/step - loss: 0.0250 - accuracy: 0.9990 - val_loss: 6.1603 - val_accuracy: 0.9730\n",
            "Epoch 20/20\n",
            "63/63 [==============================] - 0s 7ms/step - loss: 0.0663 - accuracy: 0.9990 - val_loss: 6.4515 - val_accuracy: 0.9760\n"
          ]
        }
      ]
    },
    {
      "cell_type": "markdown",
      "source": [
        "## Plot results"
      ],
      "metadata": {
        "id": "4w13qLyi3HFG"
      }
    },
    {
      "cell_type": "code",
      "source": [
        "import matplotlib.pyplot as plt\n",
        "\n",
        "epochs = range(1, 21)\n",
        "\n",
        "plt.plot(epochs, history.history['accuracy'], label=\"Training Accuracy\")\n",
        "plt.plot(epochs, history.history['val_accuracy'], label=\"Validation Accuracy\")\n",
        "plt.legend()\n",
        "\n",
        "plt.figure()\n",
        "plt.plot(epochs, history.history['loss'], label=\"Training Loss\")\n",
        "plt.plot(epochs, history.history['val_loss'], label=\"Validation Loss\")\n",
        "plt.legend()\n",
        "\n",
        "plt.show()"
      ],
      "metadata": {
        "id": "9MVrWvVb26kC",
        "outputId": "eee94bc7-dfa1-4e1c-b49f-f82b863c4277",
        "colab": {
          "base_uri": "https://localhost:8080/",
          "height": 533
        }
      },
      "execution_count": 21,
      "outputs": [
        {
          "output_type": "display_data",
          "data": {
            "text/plain": [
              "<Figure size 432x288 with 1 Axes>"
            ],
            "image/png": "[encoded data removed]"
          },
          "metadata": {
            "needs_background": "light"
          }
        },
        {
          "output_type": "display_data",
          "data": {
            "text/plain": [
              "<Figure size 432x288 with 1 Axes>"
            ],
            "image/png": "[encoded data removed]"
          },
          "metadata": {
            "needs_background": "light"
          }
        }
      ]
    },
    {
      "cell_type": "code",
      "source": [
        "#Feature extraction, Data Augumentation and training...."
      ],
      "metadata": {
        "id": "jBwcEzP88rIY"
      },
      "execution_count": 22,
      "outputs": []
    },
    {
      "cell_type": "code",
      "source": [
        "new_model_base = keras.applications.vgg16.VGG16(weights='imagenet', include_top=False)\n",
        "\n",
        "len(new_model_base.trainable_weights)"
      ],
      "metadata": {
        "id": "cJoaf6Wd844E",
        "outputId": "a05618b4-5411-47ea-9c06-706d42b83043",
        "colab": {
          "base_uri": "https://localhost:8080/"
        }
      },
      "execution_count": 56,
      "outputs": [
        {
          "output_type": "execute_result",
          "data": {
            "text/plain": [
              "26"
            ]
          },
          "metadata": {},
          "execution_count": 56
        }
      ]
    },
    {
      "cell_type": "code",
      "source": [
        "new_model_base.trainable = False"
      ],
      "metadata": {
        "id": "uHZqw4ok9rLA"
      },
      "execution_count": 24,
      "outputs": []
    },
    {
      "cell_type": "code",
      "source": [
        "len(new_model_base.trainable_weights)"
      ],
      "metadata": {
        "id": "VqYqtA2W9xmu",
        "outputId": "1d8137c5-64df-4081-fec6-b79097e3c725",
        "colab": {
          "base_uri": "https://localhost:8080/"
        }
      },
      "execution_count": 25,
      "outputs": [
        {
          "output_type": "execute_result",
          "data": {
            "text/plain": [
              "0"
            ]
          },
          "metadata": {},
          "execution_count": 25
        }
      ]
    },
    {
      "cell_type": "code",
      "source": [
        "data_augumentation = keras.Sequential([\n",
        "    layers.RandomFlip('horizontal'),\n",
        "    layers.RandomRotation(0.1),\n",
        "    layers.RandomZoom(0.1)\n",
        "])"
      ],
      "metadata": {
        "id": "OLA2lkKg91mS"
      },
      "execution_count": 26,
      "outputs": []
    },
    {
      "cell_type": "code",
      "source": [
        "inputs = keras.Input(shape=(180,180,3))\n",
        "\n",
        "x = data_augumentation(inputs)\n",
        "x = keras.applications.vgg16.preprocess_input(x)\n",
        "x = new_model_base(x)\n",
        "x = layers.Flatten()(x)\n",
        "x = layers.Dense(256)(x)\n",
        "x = layers.Dropout(0.5)(x)\n",
        "\n",
        "outputs = layers.Dense(1, activation=\"sigmoid\")(x)\n",
        "\n",
        "model = keras.Model(inputs, outputs)\n",
        "\n",
        "model.compile (optimizer=\"rmsprop\", loss=\"binary_crossentropy\", metrics=['accuracy'])\n"
      ],
      "metadata": {
        "id": "5xKdhBws-Not"
      },
      "execution_count": 28,
      "outputs": []
    },
    {
      "cell_type": "code",
      "source": [
        "mycb = [\n",
        "    keras.callbacks.ModelCheckpoint(\n",
        "        filepath=\"feature_extraction_data_augumentation.keras\",\n",
        "        save_best_only=True,\n",
        "        monitor='val_loss'\n",
        "    )\n",
        "    ]"
      ],
      "metadata": {
        "id": "xdo1vDqK2GSu"
      },
      "execution_count": 29,
      "outputs": []
    },
    {
      "cell_type": "code",
      "source": [
        "dahistory = model.fit(train_dataset, epochs=50, validation_data=validation_dataset, callbacks=mycb)"
      ],
      "metadata": {
        "id": "ViiYfmOg2hue",
        "outputId": "6dda2204-57a0-402c-e824-d262efb4bc83",
        "colab": {
          "base_uri": "https://localhost:8080/"
        }
      },
      "execution_count": 31,
      "outputs": [
        {
          "output_type": "stream",
          "name": "stdout",
          "text": [
            "Epoch 1/50\n",
            "63/63 [==============================] - 15s 174ms/step - loss: 15.5316 - accuracy: 0.8935 - val_loss: 5.0728 - val_accuracy: 0.9540\n",
            "Epoch 2/50\n",
            "63/63 [==============================] - 11s 171ms/step - loss: 6.3569 - accuracy: 0.9520 - val_loss: 4.5168 - val_accuracy: 0.9730\n",
            "Epoch 3/50\n",
            "63/63 [==============================] - 11s 171ms/step - loss: 5.0565 - accuracy: 0.9570 - val_loss: 3.2522 - val_accuracy: 0.9780\n",
            "Epoch 4/50\n",
            "63/63 [==============================] - 11s 171ms/step - loss: 3.9974 - accuracy: 0.9660 - val_loss: 3.1576 - val_accuracy: 0.9790\n",
            "Epoch 5/50\n",
            "63/63 [==============================] - 11s 168ms/step - loss: 3.1183 - accuracy: 0.9665 - val_loss: 4.1424 - val_accuracy: 0.9730\n",
            "Epoch 6/50\n",
            "63/63 [==============================] - 11s 170ms/step - loss: 2.9846 - accuracy: 0.9665 - val_loss: 3.5491 - val_accuracy: 0.9770\n",
            "Epoch 7/50\n",
            "63/63 [==============================] - 11s 174ms/step - loss: 2.1280 - accuracy: 0.9790 - val_loss: 3.1224 - val_accuracy: 0.9760\n",
            "Epoch 8/50\n",
            "63/63 [==============================] - 11s 174ms/step - loss: 3.6234 - accuracy: 0.9740 - val_loss: 3.0970 - val_accuracy: 0.9770\n",
            "Epoch 9/50\n",
            "63/63 [==============================] - 11s 175ms/step - loss: 2.3401 - accuracy: 0.9750 - val_loss: 3.0725 - val_accuracy: 0.9790\n",
            "Epoch 10/50\n",
            "63/63 [==============================] - 11s 172ms/step - loss: 1.4594 - accuracy: 0.9825 - val_loss: 3.7018 - val_accuracy: 0.9740\n",
            "Epoch 11/50\n",
            "63/63 [==============================] - 11s 171ms/step - loss: 1.9562 - accuracy: 0.9810 - val_loss: 3.8761 - val_accuracy: 0.9720\n",
            "Epoch 12/50\n",
            "63/63 [==============================] - 11s 175ms/step - loss: 1.6514 - accuracy: 0.9800 - val_loss: 2.4848 - val_accuracy: 0.9820\n",
            "Epoch 13/50\n",
            "63/63 [==============================] - 11s 171ms/step - loss: 1.9153 - accuracy: 0.9825 - val_loss: 3.1471 - val_accuracy: 0.9770\n",
            "Epoch 14/50\n",
            "63/63 [==============================] - 11s 171ms/step - loss: 1.8053 - accuracy: 0.9805 - val_loss: 2.8050 - val_accuracy: 0.9790\n",
            "Epoch 15/50\n",
            "63/63 [==============================] - 11s 171ms/step - loss: 0.9607 - accuracy: 0.9885 - val_loss: 3.3618 - val_accuracy: 0.9740\n",
            "Epoch 16/50\n",
            "63/63 [==============================] - 11s 171ms/step - loss: 1.3776 - accuracy: 0.9855 - val_loss: 3.1247 - val_accuracy: 0.9800\n",
            "Epoch 17/50\n",
            "63/63 [==============================] - 11s 172ms/step - loss: 1.0119 - accuracy: 0.9865 - val_loss: 3.6230 - val_accuracy: 0.9740\n",
            "Epoch 18/50\n",
            "63/63 [==============================] - 11s 173ms/step - loss: 0.8901 - accuracy: 0.9870 - val_loss: 4.8867 - val_accuracy: 0.9700\n",
            "Epoch 19/50\n",
            "63/63 [==============================] - 11s 173ms/step - loss: 1.3734 - accuracy: 0.9795 - val_loss: 3.2030 - val_accuracy: 0.9780\n",
            "Epoch 20/50\n",
            "63/63 [==============================] - 11s 172ms/step - loss: 1.1143 - accuracy: 0.9850 - val_loss: 3.0358 - val_accuracy: 0.9790\n",
            "Epoch 21/50\n",
            "63/63 [==============================] - 11s 177ms/step - loss: 1.0797 - accuracy: 0.9885 - val_loss: 2.2369 - val_accuracy: 0.9840\n",
            "Epoch 22/50\n",
            "63/63 [==============================] - 11s 174ms/step - loss: 1.2987 - accuracy: 0.9850 - val_loss: 3.0992 - val_accuracy: 0.9790\n",
            "Epoch 23/50\n",
            "63/63 [==============================] - 11s 172ms/step - loss: 0.7535 - accuracy: 0.9870 - val_loss: 3.7248 - val_accuracy: 0.9760\n",
            "Epoch 24/50\n",
            "63/63 [==============================] - 11s 173ms/step - loss: 0.8618 - accuracy: 0.9905 - val_loss: 2.6286 - val_accuracy: 0.9780\n",
            "Epoch 25/50\n",
            "63/63 [==============================] - 11s 174ms/step - loss: 1.1250 - accuracy: 0.9865 - val_loss: 2.3910 - val_accuracy: 0.9810\n",
            "Epoch 26/50\n",
            "63/63 [==============================] - 11s 175ms/step - loss: 0.4697 - accuracy: 0.9915 - val_loss: 2.4865 - val_accuracy: 0.9790\n",
            "Epoch 27/50\n",
            "63/63 [==============================] - 11s 174ms/step - loss: 0.7054 - accuracy: 0.9885 - val_loss: 2.4518 - val_accuracy: 0.9800\n",
            "Epoch 28/50\n",
            "63/63 [==============================] - 11s 172ms/step - loss: 0.6811 - accuracy: 0.9875 - val_loss: 3.6069 - val_accuracy: 0.9750\n",
            "Epoch 29/50\n",
            "63/63 [==============================] - 11s 172ms/step - loss: 0.7946 - accuracy: 0.9875 - val_loss: 2.4726 - val_accuracy: 0.9820\n",
            "Epoch 30/50\n",
            "63/63 [==============================] - 11s 172ms/step - loss: 0.5499 - accuracy: 0.9920 - val_loss: 2.6160 - val_accuracy: 0.9800\n",
            "Epoch 31/50\n",
            "63/63 [==============================] - 11s 172ms/step - loss: 1.0218 - accuracy: 0.9855 - val_loss: 2.4203 - val_accuracy: 0.9810\n",
            "Epoch 32/50\n",
            "63/63 [==============================] - 11s 173ms/step - loss: 0.5151 - accuracy: 0.9925 - val_loss: 2.4837 - val_accuracy: 0.9830\n",
            "Epoch 33/50\n",
            "63/63 [==============================] - 11s 172ms/step - loss: 0.5203 - accuracy: 0.9910 - val_loss: 2.3828 - val_accuracy: 0.9820\n",
            "Epoch 34/50\n",
            "63/63 [==============================] - 11s 173ms/step - loss: 0.9562 - accuracy: 0.9855 - val_loss: 2.2531 - val_accuracy: 0.9840\n",
            "Epoch 35/50\n",
            "63/63 [==============================] - 11s 172ms/step - loss: 0.6103 - accuracy: 0.9895 - val_loss: 3.7960 - val_accuracy: 0.9760\n",
            "Epoch 36/50\n",
            "63/63 [==============================] - 11s 173ms/step - loss: 0.4615 - accuracy: 0.9910 - val_loss: 3.1802 - val_accuracy: 0.9770\n",
            "Epoch 37/50\n",
            "63/63 [==============================] - 11s 173ms/step - loss: 0.9097 - accuracy: 0.9870 - val_loss: 2.4614 - val_accuracy: 0.9800\n",
            "Epoch 38/50\n",
            "63/63 [==============================] - 11s 174ms/step - loss: 0.4748 - accuracy: 0.9940 - val_loss: 2.5337 - val_accuracy: 0.9780\n",
            "Epoch 39/50\n",
            "63/63 [==============================] - 11s 173ms/step - loss: 1.0655 - accuracy: 0.9840 - val_loss: 2.5761 - val_accuracy: 0.9750\n",
            "Epoch 40/50\n",
            "63/63 [==============================] - 11s 177ms/step - loss: 0.6206 - accuracy: 0.9880 - val_loss: 1.9924 - val_accuracy: 0.9820\n",
            "Epoch 41/50\n",
            "63/63 [==============================] - 11s 177ms/step - loss: 0.4848 - accuracy: 0.9910 - val_loss: 1.9659 - val_accuracy: 0.9760\n",
            "Epoch 42/50\n",
            "63/63 [==============================] - 11s 172ms/step - loss: 0.6578 - accuracy: 0.9915 - val_loss: 2.0463 - val_accuracy: 0.9810\n",
            "Epoch 43/50\n",
            "63/63 [==============================] - 11s 173ms/step - loss: 0.5954 - accuracy: 0.9865 - val_loss: 2.2681 - val_accuracy: 0.9780\n",
            "Epoch 44/50\n",
            "63/63 [==============================] - 11s 172ms/step - loss: 0.3297 - accuracy: 0.9925 - val_loss: 2.1306 - val_accuracy: 0.9770\n",
            "Epoch 45/50\n",
            "63/63 [==============================] - 11s 172ms/step - loss: 0.4737 - accuracy: 0.9915 - val_loss: 2.2335 - val_accuracy: 0.9770\n",
            "Epoch 46/50\n",
            "63/63 [==============================] - 11s 173ms/step - loss: 0.4089 - accuracy: 0.9915 - val_loss: 2.5587 - val_accuracy: 0.9740\n",
            "Epoch 47/50\n",
            "63/63 [==============================] - 11s 174ms/step - loss: 0.4460 - accuracy: 0.9895 - val_loss: 3.5384 - val_accuracy: 0.9730\n",
            "Epoch 48/50\n",
            "63/63 [==============================] - 11s 175ms/step - loss: 0.1744 - accuracy: 0.9950 - val_loss: 2.7665 - val_accuracy: 0.9710\n",
            "Epoch 49/50\n",
            "63/63 [==============================] - 11s 174ms/step - loss: 0.5317 - accuracy: 0.9890 - val_loss: 2.5343 - val_accuracy: 0.9720\n",
            "Epoch 50/50\n",
            "63/63 [==============================] - 11s 174ms/step - loss: 0.2625 - accuracy: 0.9910 - val_loss: 2.4797 - val_accuracy: 0.9780\n"
          ]
        }
      ]
    },
    {
      "cell_type": "code",
      "source": [
        "epochs = range(1, 51)\n",
        "\n",
        "plt.plot(epochs, dahistory.history['accuracy'], label=\"Training Accuracy\")\n",
        "plt.plot(epochs, dahistory.history['val_accuracy'], label=\"Validation Accuracy\")\n",
        "plt.legend()\n",
        "\n",
        "plt.figure()\n",
        "plt.plot(epochs, dahistory.history['loss'], label=\"Training Loss\")\n",
        "plt.plot(epochs, dahistory.history['val_loss'], label=\"Validation Loss\")\n",
        "plt.legend()\n",
        "\n",
        "plt.show()"
      ],
      "metadata": {
        "id": "_jQTbHQh21Fa",
        "outputId": "7cadb5fb-eec3-4ffa-81cc-2e0ca9de3e55",
        "colab": {
          "base_uri": "https://localhost:8080/",
          "height": 538
        }
      },
      "execution_count": 32,
      "outputs": [
        {
          "output_type": "display_data",
          "data": {
            "text/plain": [
              "<Figure size 432x288 with 1 Axes>"
            ],
            "image/png": "[encoded data removed]"
          },
          "metadata": {
            "needs_background": "light"
          }
        },
        {
          "output_type": "display_data",
          "data": {
            "text/plain": [
              "<Figure size 432x288 with 1 Axes>"
            ],
            "image/png": "[encoded data removed]"
          },
          "metadata": {
            "needs_background": "light"
          }
        }
      ]
    },
    {
      "cell_type": "code",
      "source": [
        "test_model = keras.models.load_model(\"feature_extraction_data_augumentation.keras\")\n",
        "\n",
        "test_loss, test_accuracy = test_model.evaluate(test_dataset)\n",
        "\n",
        "print (f\"Test accuracy: {test_accuracy: .3f}\")"
      ],
      "metadata": {
        "id": "7Q4BNctD29Wj",
        "outputId": "9a7ae21e-749e-4034-c815-9fc4195aaf1a",
        "colab": {
          "base_uri": "https://localhost:8080/"
        }
      },
      "execution_count": 33,
      "outputs": [
        {
          "output_type": "stream",
          "name": "stdout",
          "text": [
            "63/63 [==============================] - 8s 113ms/step - loss: 2.6552 - accuracy: 0.9765\n",
            "Test accuracy:  0.976\n"
          ]
        }
      ]
    },
    {
      "cell_type": "markdown",
      "source": [
        "# Fine tuning model by freezing all layers other than the last 4"
      ],
      "metadata": {
        "id": "WnQw-w8n4Cgd"
      }
    },
    {
      "cell_type": "code",
      "source": [
        "new_model_base.trainable = True\n",
        "\n",
        "for layer in new_model_base.layers[:-4]:\n",
        "  layer.trainable = False"
      ],
      "metadata": {
        "id": "dtVynUGR4UI4"
      },
      "execution_count": 58,
      "outputs": []
    },
    {
      "cell_type": "code",
      "source": [
        "inputs22 = keras.Input(shape=(180,180,3))\n",
        "\n",
        "x = data_augumentation(inputs22)\n",
        "x = keras.applications.vgg16.preprocess_input(x)\n",
        "x = new_model_base(x)\n",
        "x = layers.Flatten()(x)\n",
        "x = layers.Dense(256)(x)\n",
        "x = layers.Dropout(0.5)(x)\n",
        "\n",
        "outputs22 = layers.Dense(1, activation=\"sigmoid\")(x)\n",
        "\n",
        "model_ft = keras.Model(inputs22, outputs22)\n",
        "\n",
        "#model.compile (optimizer=\"rmsprop\", loss=\"binary_crossentropy\", metrics=['accuracy'])"
      ],
      "metadata": {
        "id": "bnMt39GOyBF-"
      },
      "execution_count": 59,
      "outputs": []
    },
    {
      "cell_type": "code",
      "source": [
        "model_ft.compile (optimizer=keras.optimizers.RMSprop(learning_rate=1e-5), loss=\"binary_crossentropy\", metrics=['accuracy'])"
      ],
      "metadata": {
        "id": "85_uiM-941Hq"
      },
      "execution_count": 60,
      "outputs": []
    },
    {
      "cell_type": "code",
      "source": [
        "mycb2 = [\n",
        "    keras.callbacks.ModelCheckpoint(\n",
        "        filepath=\"fine_tuning.keras\",\n",
        "        save_best_only=True,\n",
        "        monitor='val_loss'\n",
        "    )\n",
        "    ]"
      ],
      "metadata": {
        "id": "Kv0ocDf_5BgM"
      },
      "execution_count": 61,
      "outputs": []
    },
    {
      "cell_type": "code",
      "source": [
        "dahistory2 = model_ft.fit(train_dataset, epochs=30, validation_data=validation_dataset, callbacks=mycb)"
      ],
      "metadata": {
        "id": "iHmw8GsF5Fhe",
        "outputId": "02fb079a-1733-403c-babe-fab1f056892d",
        "colab": {
          "base_uri": "https://localhost:8080/"
        }
      },
      "execution_count": 62,
      "outputs": [
        {
          "output_type": "stream",
          "name": "stdout",
          "text": [
            "Epoch 1/30\n",
            "63/63 [==============================] - 14s 203ms/step - loss: 2.7015 - accuracy: 0.8190 - val_loss: 0.4513 - val_accuracy: 0.9480\n",
            "Epoch 2/30\n",
            "63/63 [==============================] - 13s 202ms/step - loss: 1.0613 - accuracy: 0.8995 - val_loss: 0.2927 - val_accuracy: 0.9620\n",
            "Epoch 3/30\n",
            "63/63 [==============================] - 13s 200ms/step - loss: 0.5065 - accuracy: 0.9215 - val_loss: 0.2695 - val_accuracy: 0.9590\n",
            "Epoch 4/30\n",
            "63/63 [==============================] - 13s 196ms/step - loss: 0.4472 - accuracy: 0.9290 - val_loss: 0.2269 - val_accuracy: 0.9660\n",
            "Epoch 5/30\n",
            "63/63 [==============================] - 13s 196ms/step - loss: 0.2521 - accuracy: 0.9520 - val_loss: 0.2118 - val_accuracy: 0.9650\n",
            "Epoch 6/30\n",
            "63/63 [==============================] - 12s 193ms/step - loss: 0.2430 - accuracy: 0.9540 - val_loss: 0.2328 - val_accuracy: 0.9650\n",
            "Epoch 7/30\n",
            "63/63 [==============================] - 13s 196ms/step - loss: 0.1929 - accuracy: 0.9605 - val_loss: 0.2307 - val_accuracy: 0.9720\n",
            "Epoch 8/30\n",
            "63/63 [==============================] - 13s 195ms/step - loss: 0.1917 - accuracy: 0.9605 - val_loss: 0.2352 - val_accuracy: 0.9700\n",
            "Epoch 9/30\n",
            "63/63 [==============================] - 13s 198ms/step - loss: 0.1444 - accuracy: 0.9665 - val_loss: 0.2017 - val_accuracy: 0.9730\n",
            "Epoch 10/30\n",
            "63/63 [==============================] - 13s 195ms/step - loss: 0.1298 - accuracy: 0.9740 - val_loss: 0.1971 - val_accuracy: 0.9700\n",
            "Epoch 11/30\n",
            "63/63 [==============================] - 12s 191ms/step - loss: 0.1344 - accuracy: 0.9695 - val_loss: 0.2023 - val_accuracy: 0.9700\n",
            "Epoch 12/30\n",
            "63/63 [==============================] - 13s 196ms/step - loss: 0.0844 - accuracy: 0.9725 - val_loss: 0.1721 - val_accuracy: 0.9710\n",
            "Epoch 13/30\n",
            "63/63 [==============================] - 12s 191ms/step - loss: 0.0825 - accuracy: 0.9795 - val_loss: 0.2056 - val_accuracy: 0.9690\n",
            "Epoch 14/30\n",
            "63/63 [==============================] - 12s 192ms/step - loss: 0.0868 - accuracy: 0.9805 - val_loss: 0.1823 - val_accuracy: 0.9710\n",
            "Epoch 15/30\n",
            "63/63 [==============================] - 12s 194ms/step - loss: 0.0708 - accuracy: 0.9800 - val_loss: 0.2266 - val_accuracy: 0.9700\n",
            "Epoch 16/30\n",
            "63/63 [==============================] - 13s 196ms/step - loss: 0.0628 - accuracy: 0.9835 - val_loss: 0.1938 - val_accuracy: 0.9720\n",
            "Epoch 17/30\n",
            "63/63 [==============================] - 13s 199ms/step - loss: 0.0560 - accuracy: 0.9850 - val_loss: 0.1608 - val_accuracy: 0.9740\n",
            "Epoch 18/30\n",
            "63/63 [==============================] - 13s 196ms/step - loss: 0.0823 - accuracy: 0.9845 - val_loss: 0.1454 - val_accuracy: 0.9740\n",
            "Epoch 19/30\n",
            "63/63 [==============================] - 12s 192ms/step - loss: 0.0613 - accuracy: 0.9830 - val_loss: 0.1744 - val_accuracy: 0.9770\n",
            "Epoch 20/30\n",
            "63/63 [==============================] - 13s 198ms/step - loss: 0.0522 - accuracy: 0.9865 - val_loss: 0.1431 - val_accuracy: 0.9710\n",
            "Epoch 21/30\n",
            "63/63 [==============================] - 12s 194ms/step - loss: 0.0327 - accuracy: 0.9890 - val_loss: 0.1506 - val_accuracy: 0.9760\n",
            "Epoch 22/30\n",
            "63/63 [==============================] - 12s 193ms/step - loss: 0.0244 - accuracy: 0.9935 - val_loss: 0.1742 - val_accuracy: 0.9770\n",
            "Epoch 23/30\n",
            "63/63 [==============================] - 12s 194ms/step - loss: 0.0264 - accuracy: 0.9915 - val_loss: 0.1848 - val_accuracy: 0.9770\n",
            "Epoch 24/30\n",
            "63/63 [==============================] - 12s 194ms/step - loss: 0.0364 - accuracy: 0.9900 - val_loss: 0.1774 - val_accuracy: 0.9760\n",
            "Epoch 25/30\n",
            "63/63 [==============================] - 12s 195ms/step - loss: 0.0313 - accuracy: 0.9930 - val_loss: 0.1831 - val_accuracy: 0.9750\n",
            "Epoch 26/30\n",
            "63/63 [==============================] - 12s 194ms/step - loss: 0.0195 - accuracy: 0.9945 - val_loss: 0.1968 - val_accuracy: 0.9760\n",
            "Epoch 27/30\n",
            "63/63 [==============================] - 12s 192ms/step - loss: 0.0187 - accuracy: 0.9945 - val_loss: 0.2349 - val_accuracy: 0.9800\n",
            "Epoch 28/30\n",
            "63/63 [==============================] - 12s 194ms/step - loss: 0.0162 - accuracy: 0.9955 - val_loss: 0.2060 - val_accuracy: 0.9740\n",
            "Epoch 29/30\n",
            "63/63 [==============================] - 12s 192ms/step - loss: 0.0108 - accuracy: 0.9970 - val_loss: 0.2321 - val_accuracy: 0.9770\n",
            "Epoch 30/30\n",
            "63/63 [==============================] - 12s 195ms/step - loss: 0.0226 - accuracy: 0.9940 - val_loss: 0.2207 - val_accuracy: 0.9770\n"
          ]
        }
      ]
    },
    {
      "cell_type": "code",
      "source": [
        "epochs = range(1, 31)\n",
        "\n",
        "plt.plot(epochs, dahistory2.history['accuracy'], label=\"Training Accuracy\")\n",
        "plt.plot(epochs, dahistory2.history['val_accuracy'], label=\"Validation Accuracy\")\n",
        "plt.legend()\n",
        "\n",
        "plt.figure()\n",
        "plt.plot(epochs, dahistory2.history['loss'], label=\"Training Loss\")\n",
        "plt.plot(epochs, dahistory2.history['val_loss'], label=\"Validation Loss\")\n",
        "plt.legend()\n",
        "\n",
        "plt.show()"
      ],
      "metadata": {
        "id": "VrtAHv9u5LUT",
        "outputId": "52cdc5b7-0d09-4509-ec8f-eef85e5f559b",
        "colab": {
          "base_uri": "https://localhost:8080/",
          "height": 533
        }
      },
      "execution_count": 63,
      "outputs": [
        {
          "output_type": "display_data",
          "data": {
            "text/plain": [
              "<Figure size 432x288 with 1 Axes>"
            ],
            "image/png": "[encoded data removed]"
          },
          "metadata": {
            "needs_background": "light"
          }
        },
        {
          "output_type": "display_data",
          "data": {
            "text/plain": [
              "<Figure size 432x288 with 1 Axes>"
            ],
            "image/png": "[encoded data removed]"
          },
          "metadata": {
            "needs_background": "light"
          }
        }
      ]
    }
  ]
}