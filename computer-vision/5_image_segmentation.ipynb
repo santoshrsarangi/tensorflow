{
  "nbformat": 4,
  "nbformat_minor": 0,
  "metadata": {
    "colab": {
      "provenance": [],
      "authorship_tag": "ABX9TyMEt+LS7dtpTCVQQs+QZC/s",
      "include_colab_link": true
    },
    "kernelspec": {
      "name": "python3",
      "display_name": "Python 3"
    },
    "language_info": {
      "name": "python"
    },
    "accelerator": "GPU"
  },
  "cells": [
    {
      "cell_type": "markdown",
      "metadata": {
        "id": "view-in-github",
        "colab_type": "text"
      },
      "source": [
        "<a href=\"https://colab.research.google.com/github/santoshrsarangi/tensorflow/blob/main/computer-vision/5_image_segmentation.ipynb\" target=\"_parent\"><img src=\"https://colab.research.google.com/assets/colab-badge.svg\" alt=\"Open In Colab\"/></a>"
      ]
    },
    {
      "cell_type": "code",
      "source": [
        "!wget http://www.robots.ox.ac.uk/~vgg/data/pets/data/images.tar.gz"
      ],
      "metadata": {
        "colab": {
          "base_uri": "https://localhost:8080/"
        },
        "id": "QS7P_WgeI7Bu",
        "outputId": "a052eeb6-931f-43d2-dd0f-a0062de0967c"
      },
      "execution_count": 1,
      "outputs": [
        {
          "output_type": "stream",
          "name": "stdout",
          "text": [
            "--2022-09-19 12:26:18--  http://www.robots.ox.ac.uk/~vgg/data/pets/data/images.tar.gz\n",
            "Resolving www.robots.ox.ac.uk (www.robots.ox.ac.uk)... 129.67.94.2\n",
            "Connecting to www.robots.ox.ac.uk (www.robots.ox.ac.uk)|129.67.94.2|:80... connected.\n",
            "HTTP request sent, awaiting response... 301 Moved Permanently\n",
            "Location: https://www.robots.ox.ac.uk/~vgg/data/pets/data/images.tar.gz [following]\n",
            "--2022-09-19 12:26:19--  https://www.robots.ox.ac.uk/~vgg/data/pets/data/images.tar.gz\n",
            "Connecting to www.robots.ox.ac.uk (www.robots.ox.ac.uk)|129.67.94.2|:443... connected.\n",
            "HTTP request sent, awaiting response... 301 Moved Permanently\n",
            "Location: https://thor.robots.ox.ac.uk/~vgg/data/pets/images.tar.gz [following]\n",
            "--2022-09-19 12:26:19--  https://thor.robots.ox.ac.uk/~vgg/data/pets/images.tar.gz\n",
            "Resolving thor.robots.ox.ac.uk (thor.robots.ox.ac.uk)... 129.67.95.98\n",
            "Connecting to thor.robots.ox.ac.uk (thor.robots.ox.ac.uk)|129.67.95.98|:443... connected.\n",
            "HTTP request sent, awaiting response... 200 OK\n",
            "Length: 791918971 (755M) [application/octet-stream]\n",
            "Saving to: ‘images.tar.gz’\n",
            "\n",
            "images.tar.gz       100%[===================>] 755.23M  28.9MB/s    in 26s     \n",
            "\n",
            "2022-09-19 12:26:46 (28.6 MB/s) - ‘images.tar.gz’ saved [791918971/791918971]\n",
            "\n"
          ]
        }
      ]
    },
    {
      "cell_type": "code",
      "source": [
        "!wget https://thor.robots.ox.ac.uk/~vgg/data/pets/annotations.tar.gz"
      ],
      "metadata": {
        "colab": {
          "base_uri": "https://localhost:8080/"
        },
        "id": "tTU6xgbFJKNm",
        "outputId": "8a3d7cf9-c999-40ba-f42e-5956d243d2c7"
      },
      "execution_count": 2,
      "outputs": [
        {
          "output_type": "stream",
          "name": "stdout",
          "text": [
            "--2022-09-19 12:26:46--  https://thor.robots.ox.ac.uk/~vgg/data/pets/annotations.tar.gz\n",
            "Resolving thor.robots.ox.ac.uk (thor.robots.ox.ac.uk)... 129.67.95.98\n",
            "Connecting to thor.robots.ox.ac.uk (thor.robots.ox.ac.uk)|129.67.95.98|:443... connected.\n",
            "HTTP request sent, awaiting response... 200 OK\n",
            "Length: 19173078 (18M) [application/octet-stream]\n",
            "Saving to: ‘annotations.tar.gz’\n",
            "\n",
            "annotations.tar.gz  100%[===================>]  18.28M  15.6MB/s    in 1.2s    \n",
            "\n",
            "2022-09-19 12:26:48 (15.6 MB/s) - ‘annotations.tar.gz’ saved [19173078/19173078]\n",
            "\n"
          ]
        }
      ]
    },
    {
      "cell_type": "code",
      "source": [
        "ls -l"
      ],
      "metadata": {
        "colab": {
          "base_uri": "https://localhost:8080/"
        },
        "id": "LAf3NU1qJa6R",
        "outputId": "9ccd2e75-5988-4db8-f8f5-54ffab3c053a"
      },
      "execution_count": 3,
      "outputs": [
        {
          "output_type": "stream",
          "name": "stdout",
          "text": [
            "total 792092\n",
            "-rw-r--r-- 1 root root  19173078 Jul 29 08:44 annotations.tar.gz\n",
            "-rw-r--r-- 1 root root 791918971 Jul 29 08:44 images.tar.gz\n",
            "drwxr-xr-x 1 root root      4096 Sep 14 13:44 \u001b[0m\u001b[01;34msample_data\u001b[0m/\n"
          ]
        }
      ]
    },
    {
      "cell_type": "code",
      "source": [
        "!tar -xf annotations.tar.gz\n",
        "!tar -xf images.tar.gz"
      ],
      "metadata": {
        "id": "4HtjM71nKNVL"
      },
      "execution_count": 4,
      "outputs": []
    },
    {
      "cell_type": "code",
      "source": [
        "ls -lrt"
      ],
      "metadata": {
        "colab": {
          "base_uri": "https://localhost:8080/"
        },
        "id": "V6jd7-X7KWzA",
        "outputId": "501196ae-3596-4039-f7f8-7af943d162c4"
      },
      "execution_count": 5,
      "outputs": [
        {
          "output_type": "stream",
          "name": "stdout",
          "text": [
            "total 792384\n",
            "drwxr-xr-x 2 1001  1001    294912 Jun 18  2012 \u001b[0m\u001b[01;34mimages\u001b[0m/\n",
            "drwxr-xr-x 4  501 staff      4096 Jun 30  2012 \u001b[01;34mannotations\u001b[0m/\n",
            "-rw-r--r-- 1 root root   19173078 Jul 29 08:44 annotations.tar.gz\n",
            "-rw-r--r-- 1 root root  791918971 Jul 29 08:44 images.tar.gz\n",
            "drwxr-xr-x 1 root root       4096 Sep 14 13:44 \u001b[01;34msample_data\u001b[0m/\n"
          ]
        }
      ]
    },
    {
      "cell_type": "code",
      "source": [
        "import os, pathlib, shutil"
      ],
      "metadata": {
        "id": "mu9lGPeIMUCj"
      },
      "execution_count": 6,
      "outputs": []
    },
    {
      "cell_type": "code",
      "source": [
        "src_dir_images = pathlib.Path(\"images\")"
      ],
      "metadata": {
        "id": "CGnQZPteWYl-"
      },
      "execution_count": 7,
      "outputs": []
    },
    {
      "cell_type": "code",
      "source": [
        "image_files = []\n",
        "\n",
        "for file in sorted(os.listdir(src_dir_images)):\n",
        "\n",
        "  if file.endswith(\".jpg\"):\n",
        "    image_files.append(file)"
      ],
      "metadata": {
        "id": "w4iiD8VoWggk"
      },
      "execution_count": 8,
      "outputs": []
    },
    {
      "cell_type": "code",
      "source": [
        "src_dir_annotations = pathlib.Path(\"annotations/trimaps\")"
      ],
      "metadata": {
        "id": "jC1EIPlKXm6a"
      },
      "execution_count": 9,
      "outputs": []
    },
    {
      "cell_type": "code",
      "source": [
        "annotation_files = []\n",
        "\n",
        "for file in sorted(os.listdir(src_dir_annotations)):\n",
        "\n",
        "  if file.endswith(\".png\") and not file.startswith(\".\"):\n",
        "    annotation_files.append(file)"
      ],
      "metadata": {
        "id": "5tp1L5GnW5JQ"
      },
      "execution_count": 10,
      "outputs": []
    },
    {
      "cell_type": "code",
      "source": [
        "import matplotlib.pyplot as plt"
      ],
      "metadata": {
        "id": "I37EGi6MX185"
      },
      "execution_count": 11,
      "outputs": []
    },
    {
      "cell_type": "code",
      "execution_count": 12,
      "metadata": {
        "id": "fPw5SMHNIi4B"
      },
      "outputs": [],
      "source": [
        "import tensorflow as tf\n",
        "from tensorflow import keras\n",
        "from tensorflow.keras import layers\n",
        "from tensorflow.keras.utils import load_img, img_to_array"
      ]
    },
    {
      "cell_type": "code",
      "source": [
        "plt.imshow(load_img(src_dir_images / image_files[0]))\n",
        "plt.show()"
      ],
      "metadata": {
        "id": "GJDdjqmcY08H",
        "outputId": "baeed75d-5284-4a2b-edfb-060de234ada9",
        "colab": {
          "base_uri": "https://localhost:8080/",
          "height": 290
        }
      },
      "execution_count": 13,
      "outputs": [
        {
          "output_type": "display_data",
          "data": {
            "text/plain": [
              "<Figure size 432x288 with 1 Axes>"
            ],
            "image/png": "[encoded data removed]"
          },
          "metadata": {
            "needs_background": "light"
          }
        }
      ]
    },
    {
      "cell_type": "code",
      "source": [
        "image_files[0]"
      ],
      "metadata": {
        "id": "1Z5JytIKsi6r",
        "outputId": "c19b5977-ed03-432c-e867-04c15a620151",
        "colab": {
          "base_uri": "https://localhost:8080/",
          "height": 58
        }
      },
      "execution_count": 14,
      "outputs": [
        {
          "output_type": "execute_result",
          "data": {
            "text/plain": [
              "'Abyssinian_1.jpg'"
            ],
            "application/vnd.google.colaboratory.intrinsic+json": {
              "type": "string"
            }
          },
          "metadata": {},
          "execution_count": 14
        }
      ]
    },
    {
      "cell_type": "code",
      "source": [
        "len(annotation_files)"
      ],
      "metadata": {
        "id": "g9qVsClqaCTX",
        "outputId": "c726af2f-bb96-43a9-e078-aa6181acf20a",
        "colab": {
          "base_uri": "https://localhost:8080/"
        }
      },
      "execution_count": 15,
      "outputs": [
        {
          "output_type": "execute_result",
          "data": {
            "text/plain": [
              "7390"
            ]
          },
          "metadata": {},
          "execution_count": 15
        }
      ]
    },
    {
      "cell_type": "code",
      "source": [
        "annotation_files[0]"
      ],
      "metadata": {
        "id": "BpaKymZVseo1",
        "outputId": "a1457910-4618-4c68-dc71-a1c568b6f6bf",
        "colab": {
          "base_uri": "https://localhost:8080/",
          "height": 58
        }
      },
      "execution_count": 16,
      "outputs": [
        {
          "output_type": "execute_result",
          "data": {
            "text/plain": [
              "'Abyssinian_1.png'"
            ],
            "application/vnd.google.colaboratory.intrinsic+json": {
              "type": "string"
            }
          },
          "metadata": {},
          "execution_count": 16
        }
      ]
    },
    {
      "cell_type": "code",
      "source": [
        "x = src_dir_annotations / annotation_files[0]"
      ],
      "metadata": {
        "id": "6lfI2Wu-Z5Yd"
      },
      "execution_count": 17,
      "outputs": []
    },
    {
      "cell_type": "code",
      "source": [
        "y = img_to_array(load_img(x)).astype(\"uint8\")"
      ],
      "metadata": {
        "id": "I6LfXns1Z7TF"
      },
      "execution_count": 18,
      "outputs": []
    },
    {
      "cell_type": "code",
      "source": [
        "y.shape"
      ],
      "metadata": {
        "id": "VXG28zIPqx4Z",
        "outputId": "314dba41-8749-48bd-a9e2-6eccc1d42ae9",
        "colab": {
          "base_uri": "https://localhost:8080/"
        }
      },
      "execution_count": 19,
      "outputs": [
        {
          "output_type": "execute_result",
          "data": {
            "text/plain": [
              "(400, 600, 3)"
            ]
          },
          "metadata": {},
          "execution_count": 19
        }
      ]
    },
    {
      "cell_type": "code",
      "source": [
        "y = (y - 1)*127"
      ],
      "metadata": {
        "id": "lLX6VhqcrLxL"
      },
      "execution_count": 20,
      "outputs": []
    },
    {
      "cell_type": "code",
      "source": [
        "plt.imshow(y[:, :, 2])\n",
        "plt.show()"
      ],
      "metadata": {
        "id": "QmfM4b_YZFXp",
        "outputId": "66cbf820-8e60-46a9-bd47-85d343471348",
        "colab": {
          "base_uri": "https://localhost:8080/",
          "height": 290
        }
      },
      "execution_count": 21,
      "outputs": [
        {
          "output_type": "display_data",
          "data": {
            "text/plain": [
              "<Figure size 432x288 with 1 Axes>"
            ],
            "image/png": "[encoded data removed]"
          },
          "metadata": {
            "needs_background": "light"
          }
        }
      ]
    },
    {
      "cell_type": "code",
      "source": [
        "import numpy as np\n",
        "import random"
      ],
      "metadata": {
        "id": "vCXAciNEI4XQ"
      },
      "execution_count": 22,
      "outputs": []
    },
    {
      "cell_type": "code",
      "source": [
        "img_size = (200, 200)"
      ],
      "metadata": {
        "id": "cOAIiMfOPux9"
      },
      "execution_count": 23,
      "outputs": []
    },
    {
      "cell_type": "code",
      "source": [
        "num_images = len (image_files)"
      ],
      "metadata": {
        "id": "8br9Y8L9Py-A"
      },
      "execution_count": 24,
      "outputs": []
    },
    {
      "cell_type": "code",
      "source": [
        "random.Random(1337).shuffle(image_files)\n",
        "random.Random(1337).shuffle(annotation_files)"
      ],
      "metadata": {
        "id": "cL0nGaNUQC1f"
      },
      "execution_count": 25,
      "outputs": []
    },
    {
      "cell_type": "code",
      "source": [
        "def img_array(path):\n",
        "  return img_to_array(load_img(path, target_size = img_size))"
      ],
      "metadata": {
        "id": "v098nYNkQe3u"
      },
      "execution_count": 26,
      "outputs": []
    },
    {
      "cell_type": "code",
      "source": [
        "def annotation_array(path):\n",
        "  return img_to_array(load_img(path, target_size=img_size, color_mode='grayscale')).astype(\"uint8\") - 1"
      ],
      "metadata": {
        "id": "oOzF9q8PREUq"
      },
      "execution_count": 27,
      "outputs": []
    },
    {
      "cell_type": "code",
      "source": [
        "input_images = np.zeros((num_images,) + img_size + (3,), dtype=\"float32\")"
      ],
      "metadata": {
        "id": "aO-otuUMRlQ-"
      },
      "execution_count": 28,
      "outputs": []
    },
    {
      "cell_type": "code",
      "source": [
        "input_images.shape"
      ],
      "metadata": {
        "colab": {
          "base_uri": "https://localhost:8080/"
        },
        "id": "asdhQyewgvUF",
        "outputId": "a064a0ad-f2e9-4030-af37-b42814437558"
      },
      "execution_count": 29,
      "outputs": [
        {
          "output_type": "execute_result",
          "data": {
            "text/plain": [
              "(7390, 200, 200, 3)"
            ]
          },
          "metadata": {},
          "execution_count": 29
        }
      ]
    },
    {
      "cell_type": "code",
      "source": [
        "targets = np.zeros((num_images, ) + img_size + (1,), dtype=\"uint8\")"
      ],
      "metadata": {
        "id": "yhqN-BlEg1Qw"
      },
      "execution_count": 30,
      "outputs": []
    },
    {
      "cell_type": "code",
      "source": [
        "targets.shape"
      ],
      "metadata": {
        "colab": {
          "base_uri": "https://localhost:8080/"
        },
        "id": "QIIjPegjhYlq",
        "outputId": "9bcd27b9-8d4b-4db9-a634-7e4d03e98a4d"
      },
      "execution_count": 31,
      "outputs": [
        {
          "output_type": "execute_result",
          "data": {
            "text/plain": [
              "(7390, 200, 200, 1)"
            ]
          },
          "metadata": {},
          "execution_count": 31
        }
      ]
    },
    {
      "cell_type": "code",
      "source": [
        "for i in range(num_images):\n",
        "  input_images[i] = img_array(src_dir_images / image_files[i])\n",
        "  targets[i] = annotation_array(src_dir_annotations / annotation_files[i])"
      ],
      "metadata": {
        "id": "QdIa1WyjhbK3"
      },
      "execution_count": 32,
      "outputs": []
    },
    {
      "cell_type": "code",
      "source": [
        "val_size = 1000"
      ],
      "metadata": {
        "id": "QGDJnnERh4B9"
      },
      "execution_count": 33,
      "outputs": []
    },
    {
      "cell_type": "code",
      "source": [
        "training_images = input_images[: -val_size]\n",
        "training_labels = targets[:-val_size]\n",
        "\n",
        "validation_images = input_images[-val_size:]\n",
        "validation_labels = targets[-val_size:]"
      ],
      "metadata": {
        "id": "cARXVvsiZjuW"
      },
      "execution_count": 34,
      "outputs": []
    },
    {
      "cell_type": "code",
      "source": [
        "def get_model(img_size, num_classes):\n",
        "\n",
        "  inputs = keras.Input(shape=img_size + (3, ))\n",
        "\n",
        "  x = layers.Rescaling(1./255)(inputs)\n",
        "\n",
        "  x = layers.Conv2D(filters=64, kernel_size=3, strides=2, activation=\"relu\", padding='same')(x)\n",
        "  x = layers.Conv2D(filters=64, kernel_size=3, activation=\"relu\", padding='same')(x)\n",
        "  x = layers.Conv2D(filters=128, kernel_size=3, strides=2, activation=\"relu\", padding='same')(x)\n",
        "  x = layers.Conv2D(filters=128, kernel_size=3, activation=\"relu\", padding='same')(x)\n",
        "  x = layers.Conv2D(filters=256, kernel_size=3, strides=2, activation=\"relu\", padding='same')(x)\n",
        "  x = layers.Conv2D(filters=256, kernel_size=3, activation=\"relu\", padding='same')(x)\n",
        "\n",
        "  x = layers.Conv2DTranspose(filters=256, kernel_size=3, activation=\"relu\", padding=\"same\")(x)\n",
        "  x = layers.Conv2DTranspose(filters=256, kernel_size=3, activation=\"relu\", padding=\"same\", strides=2)(x)\n",
        "  x = layers.Conv2DTranspose(filters=128, kernel_size=3, activation=\"relu\", padding=\"same\")(x)\n",
        "  x = layers.Conv2DTranspose(filters=128, kernel_size=3, activation=\"relu\", padding=\"same\", strides=2)(x)\n",
        "  x = layers.Conv2DTranspose(filters=64, kernel_size=3, activation=\"relu\", padding=\"same\")(x)\n",
        "  x = layers.Conv2DTranspose(filters=64, kernel_size=3, activation=\"relu\", padding=\"same\", strides=2)(x)\n",
        "\n",
        "  outputs = layers.Conv2D(filters=num_classes, kernel_size=3, activation=\"softmax\", padding=\"same\")(x)\n",
        "\n",
        "  model = keras.Model(inputs, outputs)\n",
        "\n",
        "  return model\n"
      ],
      "metadata": {
        "id": "XPmhwn3naM56"
      },
      "execution_count": 35,
      "outputs": []
    },
    {
      "cell_type": "code",
      "source": [
        "model = get_model(img_size, 3)"
      ],
      "metadata": {
        "id": "ab9jDAYVdljF"
      },
      "execution_count": 36,
      "outputs": []
    },
    {
      "cell_type": "code",
      "source": [
        "model.summary()"
      ],
      "metadata": {
        "colab": {
          "base_uri": "https://localhost:8080/"
        },
        "id": "iugbNUgEdzHx",
        "outputId": "12510d0f-3990-467d-d788-4bcc3e3dfd33"
      },
      "execution_count": 37,
      "outputs": [
        {
          "output_type": "stream",
          "name": "stdout",
          "text": [
            "Model: \"model\"\n",
            "_________________________________________________________________\n",
            " Layer (type)                Output Shape              Param #   \n",
            "=================================================================\n",
            " input_1 (InputLayer)        [(None, 200, 200, 3)]     0         \n",
            "                                                                 \n",
            " rescaling (Rescaling)       (None, 200, 200, 3)       0         \n",
            "                                                                 \n",
            " conv2d (Conv2D)             (None, 100, 100, 64)      1792      \n",
            "                                                                 \n",
            " conv2d_1 (Conv2D)           (None, 100, 100, 64)      36928     \n",
            "                                                                 \n",
            " conv2d_2 (Conv2D)           (None, 50, 50, 128)       73856     \n",
            "                                                                 \n",
            " conv2d_3 (Conv2D)           (None, 50, 50, 128)       147584    \n",
            "                                                                 \n",
            " conv2d_4 (Conv2D)           (None, 25, 25, 256)       295168    \n",
            "                                                                 \n",
            " conv2d_5 (Conv2D)           (None, 25, 25, 256)       590080    \n",
            "                                                                 \n",
            " conv2d_transpose (Conv2DTra  (None, 25, 25, 256)      590080    \n",
            " nspose)                                                         \n",
            "                                                                 \n",
            " conv2d_transpose_1 (Conv2DT  (None, 50, 50, 256)      590080    \n",
            " ranspose)                                                       \n",
            "                                                                 \n",
            " conv2d_transpose_2 (Conv2DT  (None, 50, 50, 128)      295040    \n",
            " ranspose)                                                       \n",
            "                                                                 \n",
            " conv2d_transpose_3 (Conv2DT  (None, 100, 100, 128)    147584    \n",
            " ranspose)                                                       \n",
            "                                                                 \n",
            " conv2d_transpose_4 (Conv2DT  (None, 100, 100, 64)     73792     \n",
            " ranspose)                                                       \n",
            "                                                                 \n",
            " conv2d_transpose_5 (Conv2DT  (None, 200, 200, 64)     36928     \n",
            " ranspose)                                                       \n",
            "                                                                 \n",
            " conv2d_6 (Conv2D)           (None, 200, 200, 3)       1731      \n",
            "                                                                 \n",
            "=================================================================\n",
            "Total params: 2,880,643\n",
            "Trainable params: 2,880,643\n",
            "Non-trainable params: 0\n",
            "_________________________________________________________________\n"
          ]
        }
      ]
    },
    {
      "cell_type": "code",
      "source": [
        "model.compile(optimizer=\"rmsprop\",\n",
        "              loss=\"sparse_categorical_crossentropy\",\n",
        "              metrics=[\"accuracy\"])\n"
      ],
      "metadata": {
        "id": "UL2KSKQ6gbhn"
      },
      "execution_count": 38,
      "outputs": []
    },
    {
      "cell_type": "code",
      "source": [
        "callbacks = [\n",
        "    keras.callbacks.ModelCheckpoint(filepath=\"image-segmentation.keras\", monitor=\"val_loss\", save_best_only=True),\n",
        "    keras.callbacks.TensorBoard(log_dir=\"seg-logs\")\n",
        "]"
      ],
      "metadata": {
        "id": "c07Fl0ElgoUI"
      },
      "execution_count": 39,
      "outputs": []
    },
    {
      "cell_type": "code",
      "source": [
        "training_images.shape"
      ],
      "metadata": {
        "colab": {
          "base_uri": "https://localhost:8080/"
        },
        "id": "vnzRzvxKh0WM",
        "outputId": "43179da8-0eb6-43f0-a037-a46bb938cef4"
      },
      "execution_count": 40,
      "outputs": [
        {
          "output_type": "execute_result",
          "data": {
            "text/plain": [
              "(6390, 200, 200, 3)"
            ]
          },
          "metadata": {},
          "execution_count": 40
        }
      ]
    },
    {
      "cell_type": "code",
      "source": [
        "validation_images.shape"
      ],
      "metadata": {
        "colab": {
          "base_uri": "https://localhost:8080/"
        },
        "id": "nLsChbj2h2S7",
        "outputId": "26121db0-6c81-4918-e3f1-958daa4f260e"
      },
      "execution_count": 41,
      "outputs": [
        {
          "output_type": "execute_result",
          "data": {
            "text/plain": [
              "(1000, 200, 200, 3)"
            ]
          },
          "metadata": {},
          "execution_count": 41
        }
      ]
    },
    {
      "cell_type": "code",
      "source": [
        "training_labels.shape"
      ],
      "metadata": {
        "colab": {
          "base_uri": "https://localhost:8080/"
        },
        "id": "gdgO5Fkzh4zr",
        "outputId": "0eddc668-72c9-4b3f-b41d-7f12ecd5801c"
      },
      "execution_count": 42,
      "outputs": [
        {
          "output_type": "execute_result",
          "data": {
            "text/plain": [
              "(6390, 200, 200, 1)"
            ]
          },
          "metadata": {},
          "execution_count": 42
        }
      ]
    },
    {
      "cell_type": "code",
      "source": [
        "validation_labels.shape"
      ],
      "metadata": {
        "colab": {
          "base_uri": "https://localhost:8080/"
        },
        "id": "9_o9JTXxh_6F",
        "outputId": "5135ce9f-0aca-4120-e715-64da8801bf0c"
      },
      "execution_count": 43,
      "outputs": [
        {
          "output_type": "execute_result",
          "data": {
            "text/plain": [
              "(1000, 200, 200, 1)"
            ]
          },
          "metadata": {},
          "execution_count": 43
        }
      ]
    },
    {
      "cell_type": "code",
      "source": [
        "history = model.fit(training_images,\n",
        "                    training_labels,\n",
        "                    epochs=20,\n",
        "                    callbacks=callbacks,\n",
        "                    validation_data=(validation_images, validation_labels),\n",
        "                    #validation_split=0.2,\n",
        "                    batch_size=32)"
      ],
      "metadata": {
        "colab": {
          "base_uri": "https://localhost:8080/"
        },
        "id": "7Z0-1Zw6hL2j",
        "outputId": "e948a23f-c07c-4fe4-fbcc-0c567976151b"
      },
      "execution_count": 51,
      "outputs": [
        {
          "output_type": "stream",
          "name": "stdout",
          "text": [
            "Epoch 1/20\n",
            "200/200 [==============================] - 80s 316ms/step - loss: 10.1182 - accuracy: 0.5801 - val_loss: 0.8323 - val_accuracy: 0.6170\n",
            "Epoch 2/20\n",
            "200/200 [==============================] - 60s 301ms/step - loss: 0.8366 - accuracy: 0.6510 - val_loss: 0.8584 - val_accuracy: 0.6558\n",
            "Epoch 3/20\n",
            "200/200 [==============================] - 61s 306ms/step - loss: 0.7356 - accuracy: 0.6915 - val_loss: 0.6236 - val_accuracy: 0.7467\n",
            "Epoch 4/20\n",
            "200/200 [==============================] - 63s 317ms/step - loss: 0.6636 - accuracy: 0.7336 - val_loss: 0.7870 - val_accuracy: 0.6899\n",
            "Epoch 5/20\n",
            "200/200 [==============================] - 64s 318ms/step - loss: 0.6017 - accuracy: 0.7577 - val_loss: 0.5565 - val_accuracy: 0.7775\n",
            "Epoch 6/20\n",
            "200/200 [==============================] - 62s 312ms/step - loss: 0.5613 - accuracy: 0.7772 - val_loss: 0.5212 - val_accuracy: 0.7928\n",
            "Epoch 7/20\n",
            "200/200 [==============================] - 62s 312ms/step - loss: 0.5259 - accuracy: 0.7925 - val_loss: 0.6449 - val_accuracy: 0.7227\n",
            "Epoch 8/20\n",
            "200/200 [==============================] - 62s 312ms/step - loss: 0.5007 - accuracy: 0.8026 - val_loss: 0.4421 - val_accuracy: 0.8279\n",
            "Epoch 9/20\n",
            "200/200 [==============================] - 62s 311ms/step - loss: 0.4868 - accuracy: 0.8106 - val_loss: 0.4875 - val_accuracy: 0.8109\n",
            "Epoch 10/20\n",
            "200/200 [==============================] - 62s 311ms/step - loss: 0.4583 - accuracy: 0.8216 - val_loss: 0.4599 - val_accuracy: 0.8200\n",
            "Epoch 11/20\n",
            "200/200 [==============================] - 62s 312ms/step - loss: 0.4440 - accuracy: 0.8271 - val_loss: 0.4412 - val_accuracy: 0.8331\n",
            "Epoch 12/20\n",
            "200/200 [==============================] - 64s 319ms/step - loss: 0.4280 - accuracy: 0.8335 - val_loss: 0.4210 - val_accuracy: 0.8358\n",
            "Epoch 13/20\n",
            "200/200 [==============================] - 62s 311ms/step - loss: 0.4108 - accuracy: 0.8404 - val_loss: 0.4436 - val_accuracy: 0.8276\n",
            "Epoch 14/20\n",
            "200/200 [==============================] - 62s 311ms/step - loss: 0.4023 - accuracy: 0.8458 - val_loss: 0.3834 - val_accuracy: 0.8520\n",
            "Epoch 15/20\n",
            "200/200 [==============================] - 62s 311ms/step - loss: 0.3849 - accuracy: 0.8514 - val_loss: 0.4705 - val_accuracy: 0.8358\n",
            "Epoch 16/20\n",
            "200/200 [==============================] - 62s 312ms/step - loss: 0.3705 - accuracy: 0.8569 - val_loss: 0.3778 - val_accuracy: 0.8547\n",
            "Epoch 17/20\n",
            "200/200 [==============================] - 64s 319ms/step - loss: 0.3577 - accuracy: 0.8619 - val_loss: 0.3730 - val_accuracy: 0.8586\n",
            "Epoch 18/20\n",
            "200/200 [==============================] - 64s 318ms/step - loss: 0.3438 - accuracy: 0.8673 - val_loss: 0.3774 - val_accuracy: 0.8564\n",
            "Epoch 19/20\n",
            "200/200 [==============================] - 64s 318ms/step - loss: 0.3352 - accuracy: 0.8705 - val_loss: 0.3834 - val_accuracy: 0.8553\n",
            "Epoch 20/20\n",
            "200/200 [==============================] - 62s 312ms/step - loss: 0.3210 - accuracy: 0.8759 - val_loss: 0.3687 - val_accuracy: 0.8583\n"
          ]
        }
      ]
    },
    {
      "cell_type": "code",
      "source": [
        "model = keras.models.load_model(\"image-segmentation.keras\")"
      ],
      "metadata": {
        "id": "aiX8w2v3sQfn"
      },
      "execution_count": 52,
      "outputs": []
    },
    {
      "cell_type": "code",
      "source": [
        "model.summary()"
      ],
      "metadata": {
        "colab": {
          "base_uri": "https://localhost:8080/"
        },
        "id": "_2WKfGeLsdG6",
        "outputId": "5c125bc6-e847-47a5-8df9-25e83f2c6532"
      },
      "execution_count": 55,
      "outputs": [
        {
          "output_type": "stream",
          "name": "stdout",
          "text": [
            "Model: \"model\"\n",
            "_________________________________________________________________\n",
            " Layer (type)                Output Shape              Param #   \n",
            "=================================================================\n",
            " input_1 (InputLayer)        [(None, 200, 200, 3)]     0         \n",
            "                                                                 \n",
            " rescaling (Rescaling)       (None, 200, 200, 3)       0         \n",
            "                                                                 \n",
            " conv2d (Conv2D)             (None, 100, 100, 64)      1792      \n",
            "                                                                 \n",
            " conv2d_1 (Conv2D)           (None, 100, 100, 64)      36928     \n",
            "                                                                 \n",
            " conv2d_2 (Conv2D)           (None, 50, 50, 128)       73856     \n",
            "                                                                 \n",
            " conv2d_3 (Conv2D)           (None, 50, 50, 128)       147584    \n",
            "                                                                 \n",
            " conv2d_4 (Conv2D)           (None, 25, 25, 256)       295168    \n",
            "                                                                 \n",
            " conv2d_5 (Conv2D)           (None, 25, 25, 256)       590080    \n",
            "                                                                 \n",
            " conv2d_transpose (Conv2DTra  (None, 25, 25, 256)      590080    \n",
            " nspose)                                                         \n",
            "                                                                 \n",
            " conv2d_transpose_1 (Conv2DT  (None, 50, 50, 256)      590080    \n",
            " ranspose)                                                       \n",
            "                                                                 \n",
            " conv2d_transpose_2 (Conv2DT  (None, 50, 50, 128)      295040    \n",
            " ranspose)                                                       \n",
            "                                                                 \n",
            " conv2d_transpose_3 (Conv2DT  (None, 100, 100, 128)    147584    \n",
            " ranspose)                                                       \n",
            "                                                                 \n",
            " conv2d_transpose_4 (Conv2DT  (None, 100, 100, 64)     73792     \n",
            " ranspose)                                                       \n",
            "                                                                 \n",
            " conv2d_transpose_5 (Conv2DT  (None, 200, 200, 64)     36928     \n",
            " ranspose)                                                       \n",
            "                                                                 \n",
            " conv2d_6 (Conv2D)           (None, 200, 200, 3)       1731      \n",
            "                                                                 \n",
            "=================================================================\n",
            "Total params: 2,880,643\n",
            "Trainable params: 2,880,643\n",
            "Non-trainable params: 0\n",
            "_________________________________________________________________\n"
          ]
        }
      ]
    },
    {
      "cell_type": "code",
      "source": [
        "from tensorflow.keras.utils import array_to_img"
      ],
      "metadata": {
        "id": "3ZQLjXvVs2Fy"
      },
      "execution_count": 56,
      "outputs": []
    },
    {
      "cell_type": "code",
      "source": [
        "test_image = validation_images[4]\n",
        "\n",
        "plt.imshow(array_to_img(test_image))"
      ],
      "metadata": {
        "colab": {
          "base_uri": "https://localhost:8080/",
          "height": 306
        },
        "id": "_IQcVob4sfgJ",
        "outputId": "e7d0f4ec-7a0c-4f1a-e4d4-867ff7e2a9d2"
      },
      "execution_count": 57,
      "outputs": [
        {
          "output_type": "execute_result",
          "data": {
            "text/plain": [
              "<matplotlib.image.AxesImage at 0x7fb7dca08d90>"
            ]
          },
          "metadata": {},
          "execution_count": 57
        },
        {
          "output_type": "display_data",
          "data": {
            "text/plain": [
              "<Figure size 432x288 with 1 Axes>"
            ],
            "image/png": "[encoded data removed]"
          },
          "metadata": {
            "needs_background": "light"
          }
        }
      ]
    },
    {
      "cell_type": "code",
      "source": [
        "y = np.expand_dims(test_image, 0)"
      ],
      "metadata": {
        "id": "PmyQrKVR0MpK"
      },
      "execution_count": 61,
      "outputs": []
    },
    {
      "cell_type": "code",
      "source": [
        "y.shape"
      ],
      "metadata": {
        "id": "y-v5uXKk0Tnm",
        "outputId": "5f8deb0a-1726-4d3c-e7a4-26a734fbcd3c",
        "colab": {
          "base_uri": "https://localhost:8080/"
        }
      },
      "execution_count": 62,
      "outputs": [
        {
          "output_type": "execute_result",
          "data": {
            "text/plain": [
              "(1, 200, 200, 3)"
            ]
          },
          "metadata": {},
          "execution_count": 62
        }
      ]
    },
    {
      "cell_type": "code",
      "source": [
        "test_image.shape"
      ],
      "metadata": {
        "id": "_y3lLdlW0XTS",
        "outputId": "46a9eb01-afc1-4071-f4dc-c0ac7ea322eb",
        "colab": {
          "base_uri": "https://localhost:8080/"
        }
      },
      "execution_count": 65,
      "outputs": [
        {
          "output_type": "execute_result",
          "data": {
            "text/plain": [
              "(200, 200, 3)"
            ]
          },
          "metadata": {},
          "execution_count": 65
        }
      ]
    },
    {
      "cell_type": "code",
      "source": [
        "mask = model.predict(y)"
      ],
      "metadata": {
        "id": "RJq-o-ovtIPd"
      },
      "execution_count": 66,
      "outputs": []
    },
    {
      "cell_type": "code",
      "source": [
        "mask.shape"
      ],
      "metadata": {
        "id": "AET-ui6V0t5K",
        "outputId": "7102f2f0-3161-462d-ac0c-00591236fb9e",
        "colab": {
          "base_uri": "https://localhost:8080/"
        }
      },
      "execution_count": 67,
      "outputs": [
        {
          "output_type": "execute_result",
          "data": {
            "text/plain": [
              "(1, 200, 200, 3)"
            ]
          },
          "metadata": {},
          "execution_count": 67
        }
      ]
    },
    {
      "cell_type": "code",
      "source": [
        "def display_mask(pred):\n",
        "  mask = np.argmax(pred, axis=-1)\n",
        "  mask *= 127\n",
        "  plt.axis(\"off\")\n",
        "  plt.imshow(mask)"
      ],
      "metadata": {
        "id": "1OlQ688ftq35"
      },
      "execution_count": 59,
      "outputs": []
    },
    {
      "cell_type": "code",
      "source": [
        "display_mask(mask[0])"
      ],
      "metadata": {
        "colab": {
          "base_uri": "https://localhost:8080/",
          "height": 269
        },
        "id": "FVeZELfCt8TD",
        "outputId": "36f2c2b4-ae80-420e-f043-60c4f9774b61"
      },
      "execution_count": 68,
      "outputs": [
        {
          "output_type": "display_data",
          "data": {
            "text/plain": [
              "<Figure size 432x288 with 1 Axes>"
            ],
            "image/png": "[encoded data removed]"
          },
          "metadata": {
            "needs_background": "light"
          }
        }
      ]
    }
  ]
}