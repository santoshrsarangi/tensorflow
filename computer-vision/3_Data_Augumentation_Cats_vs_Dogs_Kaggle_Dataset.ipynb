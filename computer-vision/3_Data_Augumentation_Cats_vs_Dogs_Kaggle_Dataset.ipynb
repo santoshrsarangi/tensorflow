{
  "nbformat": 4,
  "nbformat_minor": 0,
  "metadata": {
    "colab": {
      "provenance": [],
      "authorship_tag": "ABX9TyMghaMmLTMUD5daTd3jza0p",
      "include_colab_link": true
    },
    "kernelspec": {
      "name": "python3",
      "display_name": "Python 3"
    },
    "language_info": {
      "name": "python"
    },
    "accelerator": "GPU",
    "gpuClass": "standard"
  },
  "cells": [
    {
      "cell_type": "markdown",
      "metadata": {
        "id": "view-in-github",
        "colab_type": "text"
      },
      "source": [
        "<a href=\"https://colab.research.google.com/github/santoshrsarangi/tensorflow/blob/main/computer-vision/3_Data_Augumentation_Cats_vs_Dogs_Kaggle_Dataset.ipynb\" target=\"_parent\"><img src=\"https://colab.research.google.com/assets/colab-badge.svg\" alt=\"Open In Colab\"/></a>"
      ]
    },
    {
      "cell_type": "markdown",
      "source": [
        "For this exercise we will be working with the Dogs vs Cats dataset available in Kaggle. Do login to your Kaggle account (and if you dont have one then you can create it easily). Download your Kaggle API keys to local system and then continue here. Step 1: upload API keys to colab environment"
      ],
      "metadata": {
        "id": "5pmzyGzQqpvF"
      }
    },
    {
      "cell_type": "code",
      "source": [
        "from google.colab import files"
      ],
      "metadata": {
        "id": "W9xD5f6dzT8B"
      },
      "execution_count": 3,
      "outputs": []
    },
    {
      "cell_type": "code",
      "source": [
        "r = files.upload()"
      ],
      "metadata": {
        "id": "XvrI7-cbzZmF",
        "outputId": "aca64c14-cdec-46b8-ea90-da1275b0d928",
        "colab": {
          "resources": {
            "http://localhost:8080/nbextensions/google.colab/files.js": {
              "data": "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",
              "ok": true,
              "headers": [
                [
                  "content-type",
                  "application/javascript"
                ]
              ],
              "status": 200,
              "status_text": ""
            }
          },
          "base_uri": "https://localhost:8080/",
          "height": 59
        }
      },
      "execution_count": 4,
      "outputs": [
        {
          "output_type": "display_data",
          "data": {
            "text/plain": [
              "<IPython.core.display.HTML object>"
            ],
            "text/html": [
              "\n",
              "     <input type=\"file\" id=\"files-b243245e-5d72-4c70-919a-8b15085470a0\" name=\"files[]\" multiple disabled\n",
              "        style=\"border:none\" />\n",
              "     <output id=\"result-b243245e-5d72-4c70-919a-8b15085470a0\">\n",
              "      Upload widget is only available when the cell has been executed in the\n",
              "      current browser session. Please rerun this cell to enable.\n",
              "      </output>\n",
              "      <script src=\"/nbextensions/google.colab/files.js\"></script> "
            ]
          },
          "metadata": {}
        }
      ]
    },
    {
      "cell_type": "code",
      "source": [
        "!mkdir ~/.kaggle"
      ],
      "metadata": {
        "id": "PaDepyLVrTIW"
      },
      "execution_count": 5,
      "outputs": []
    },
    {
      "cell_type": "code",
      "source": [
        "!cp kaggle.json ~/.kaggle/"
      ],
      "metadata": {
        "id": "W5qMrPAxsMsc"
      },
      "execution_count": 6,
      "outputs": []
    },
    {
      "cell_type": "code",
      "source": [
        "# Change access to your Kaggle API so only current account has access to read/write\n",
        "!chmod 600 ~/.kaggle/kaggle.json"
      ],
      "metadata": {
        "id": "F5k2liYGspgx"
      },
      "execution_count": 7,
      "outputs": []
    },
    {
      "cell_type": "code",
      "source": [
        "!kaggle competitions download -c dogs-vs-cats"
      ],
      "metadata": {
        "id": "7JgpNAAttRLx",
        "colab": {
          "base_uri": "https://localhost:8080/"
        },
        "outputId": "83ac1c2f-bbd2-48b0-a1c1-a01324d1eae3"
      },
      "execution_count": 8,
      "outputs": [
        {
          "output_type": "stream",
          "name": "stdout",
          "text": [
            "Downloading dogs-vs-cats.zip to /content\n",
            " 98% 794M/812M [00:03<00:00, 221MB/s]\n",
            "100% 812M/812M [00:03<00:00, 251MB/s]\n"
          ]
        }
      ]
    },
    {
      "cell_type": "code",
      "source": [
        "!unzip --qq dogs-vs-cats.zip"
      ],
      "metadata": {
        "id": "9MX06-qSHFDj"
      },
      "execution_count": 9,
      "outputs": []
    },
    {
      "cell_type": "code",
      "source": [
        "!unzip --qq train.zip"
      ],
      "metadata": {
        "id": "vo88G-DVHdi7"
      },
      "execution_count": 10,
      "outputs": []
    },
    {
      "cell_type": "code",
      "source": [
        "!unzip --qq test1.zip"
      ],
      "metadata": {
        "id": "PNTU_syfIGxn"
      },
      "execution_count": 11,
      "outputs": []
    },
    {
      "cell_type": "code",
      "source": [
        "import os, shutil, pathlib"
      ],
      "metadata": {
        "id": "BHROTJAhJju0"
      },
      "execution_count": 12,
      "outputs": []
    },
    {
      "cell_type": "code",
      "source": [
        "original_dir = pathlib.Path(\"train\")\n",
        "new_dir = pathlib.Path(\"cats_vs_dogs\")"
      ],
      "metadata": {
        "id": "xiO2AjoZJuNm"
      },
      "execution_count": 13,
      "outputs": []
    },
    {
      "cell_type": "code",
      "source": [
        "def create_folder_structure(name, start_index, end_index):\n",
        "\n",
        "  for category in (\"cat\", \"dog\"):\n",
        "\n",
        "    dir=new_dir / name / category\n",
        "    os.makedirs(dir)\n",
        "\n",
        "    file_names = [f\"{category}.{i}.jpg\" for i in range(start_index, end_index)]\n",
        "\n",
        "    for files in file_names:\n",
        "      shutil.copyfile(src=original_dir / files, dst=dir / files)"
      ],
      "metadata": {
        "id": "6V56cqjyJ9cc"
      },
      "execution_count": 14,
      "outputs": []
    },
    {
      "cell_type": "code",
      "source": [
        "create_folder_structure(\"train\", start_index=0,end_index = 1000)\n",
        "create_folder_structure(\"validation\", start_index=1000, end_index=1500)\n",
        "create_folder_structure(\"test\", start_index=1500, end_index=2500 )"
      ],
      "metadata": {
        "id": "Exex7rDWN9-t"
      },
      "execution_count": 15,
      "outputs": []
    },
    {
      "cell_type": "code",
      "source": [
        "import tensorflow as tf\n",
        "from tensorflow import keras\n",
        "from keras import layers"
      ],
      "metadata": {
        "id": "OLTFi9qbhUk-"
      },
      "execution_count": 16,
      "outputs": []
    },
    {
      "cell_type": "code",
      "source": [
        "def getmodel(augument_data = True):\n",
        "\n",
        "  inputs = keras.Input(shape=(180, 180, 3))\n",
        "\n",
        "  if(augument_data):\n",
        "    inputs2 = layers.RandomFlip(\"horizontal\")(inputs)\n",
        "    inputs3 = layers.RandomRotation(0.1)(inputs2)\n",
        "    inputs4 = layers.RandomZoom(0.2)(inputs3)\n",
        "\n",
        "  #rescale the image to 1 - 255\n",
        "  x = layers.Rescaling(scale=1./255)(inputs4)\n",
        "\n",
        "  x = layers.Conv2D(filters=32, activation=\"relu\", kernel_size=3) (x)\n",
        "  x = layers.MaxPool2D(pool_size=(2,2))(x)\n",
        "\n",
        "  x = layers.Conv2D(filters=64, activation=\"relu\", kernel_size=3) (x)\n",
        "  x = layers.MaxPool2D(pool_size=(2,2))(x)\n",
        "\n",
        "  x = layers.Conv2D(filters=128, activation=\"relu\", kernel_size=3) (x)\n",
        "  x = layers.MaxPool2D(pool_size=(2,2))(x)\n",
        "\n",
        "  x = layers.Conv2D(filters=256, activation=\"relu\", kernel_size=3) (x)\n",
        "  x = layers.MaxPool2D(pool_size=(2,2))(x)\n",
        "\n",
        "  x = layers.Conv2D(filters=256, activation=\"relu\", kernel_size=3) (x)\n",
        "  \n",
        "  x = layers.Flatten()(x)\n",
        "\n",
        "  outputs = layers.Dense(1, activation=\"sigmoid\")(x)\n",
        "\n",
        "  model = keras.Model(inputs, outputs)\n",
        "\n",
        "  model.compile(optimizer=\"rmsprop\",\n",
        "                loss=\"binary_crossentropy\",\n",
        "                metrics = [\"accuracy\"])\n",
        "  \n",
        "  return model"
      ],
      "metadata": {
        "id": "tmZ1FN-jiA-e"
      },
      "execution_count": 37,
      "outputs": []
    },
    {
      "cell_type": "code",
      "source": [
        "model = getmodel(augument_data=True)\n",
        "model.summary()"
      ],
      "metadata": {
        "id": "3kpZgw68j48P",
        "outputId": "821749fe-b6f4-4670-bfbf-59c247e71720",
        "colab": {
          "base_uri": "https://localhost:8080/"
        }
      },
      "execution_count": 38,
      "outputs": [
        {
          "output_type": "stream",
          "name": "stdout",
          "text": [
            "Model: \"model_2\"\n",
            "_________________________________________________________________\n",
            " Layer (type)                Output Shape              Param #   \n",
            "=================================================================\n",
            " input_4 (InputLayer)        [(None, 180, 180, 3)]     0         \n",
            "                                                                 \n",
            " random_flip_1 (RandomFlip)  (None, 180, 180, 3)       0         \n",
            "                                                                 \n",
            " random_rotation_1 (RandomRo  (None, 180, 180, 3)      0         \n",
            " tation)                                                         \n",
            "                                                                 \n",
            " random_zoom_1 (RandomZoom)  (None, 180, 180, 3)       0         \n",
            "                                                                 \n",
            " rescaling_2 (Rescaling)     (None, 180, 180, 3)       0         \n",
            "                                                                 \n",
            " conv2d_10 (Conv2D)          (None, 178, 178, 32)      896       \n",
            "                                                                 \n",
            " max_pooling2d_8 (MaxPooling  (None, 89, 89, 32)       0         \n",
            " 2D)                                                             \n",
            "                                                                 \n",
            " conv2d_11 (Conv2D)          (None, 87, 87, 64)        18496     \n",
            "                                                                 \n",
            " max_pooling2d_9 (MaxPooling  (None, 43, 43, 64)       0         \n",
            " 2D)                                                             \n",
            "                                                                 \n",
            " conv2d_12 (Conv2D)          (None, 41, 41, 128)       73856     \n",
            "                                                                 \n",
            " max_pooling2d_10 (MaxPoolin  (None, 20, 20, 128)      0         \n",
            " g2D)                                                            \n",
            "                                                                 \n",
            " conv2d_13 (Conv2D)          (None, 18, 18, 256)       295168    \n",
            "                                                                 \n",
            " max_pooling2d_11 (MaxPoolin  (None, 9, 9, 256)        0         \n",
            " g2D)                                                            \n",
            "                                                                 \n",
            " conv2d_14 (Conv2D)          (None, 7, 7, 256)         590080    \n",
            "                                                                 \n",
            " flatten_2 (Flatten)         (None, 12544)             0         \n",
            "                                                                 \n",
            " dense_2 (Dense)             (None, 1)                 12545     \n",
            "                                                                 \n",
            "=================================================================\n",
            "Total params: 991,041\n",
            "Trainable params: 991,041\n",
            "Non-trainable params: 0\n",
            "_________________________________________________________________\n"
          ]
        }
      ]
    },
    {
      "cell_type": "code",
      "source": [
        "from keras import utils\n",
        "from tensorflow.keras.utils import image_dataset_from_directory"
      ],
      "metadata": {
        "id": "-QXNSaHoZgqL"
      },
      "execution_count": 19,
      "outputs": []
    },
    {
      "cell_type": "code",
      "source": [
        "train_dataset = image_dataset_from_directory(new_dir / \"train\", batch_size=32, image_size=(180, 180))"
      ],
      "metadata": {
        "id": "T9MCPS7lZzP3",
        "outputId": "b25c8f7d-7968-4775-911b-d3c6babcb456",
        "colab": {
          "base_uri": "https://localhost:8080/"
        }
      },
      "execution_count": 20,
      "outputs": [
        {
          "output_type": "stream",
          "name": "stdout",
          "text": [
            "Found 2000 files belonging to 2 classes.\n"
          ]
        }
      ]
    },
    {
      "cell_type": "code",
      "source": [
        "validation_dataset = image_dataset_from_directory(new_dir / \"validation\", batch_size=32, image_size=(180, 180))"
      ],
      "metadata": {
        "id": "s6FdoEdMaR22",
        "outputId": "d72ea161-6147-4517-fe32-ff0e0f41f371",
        "colab": {
          "base_uri": "https://localhost:8080/"
        }
      },
      "execution_count": 21,
      "outputs": [
        {
          "output_type": "stream",
          "name": "stdout",
          "text": [
            "Found 1000 files belonging to 2 classes.\n"
          ]
        }
      ]
    },
    {
      "cell_type": "code",
      "source": [
        "test_dataset = image_dataset_from_directory(new_dir / \"test\", batch_size=32, image_size=(180, 180))"
      ],
      "metadata": {
        "id": "3KL0-0djagqr",
        "outputId": "bfdd761c-78cf-472a-f2a2-3c8a83b122a5",
        "colab": {
          "base_uri": "https://localhost:8080/"
        }
      },
      "execution_count": 22,
      "outputs": [
        {
          "output_type": "stream",
          "name": "stdout",
          "text": [
            "Found 2000 files belonging to 2 classes.\n"
          ]
        }
      ]
    },
    {
      "cell_type": "code",
      "source": [
        "it = iter(train_dataset)\n",
        "\n",
        "d, l = next(it)"
      ],
      "metadata": {
        "id": "9z6YUOHymzuc"
      },
      "execution_count": 23,
      "outputs": []
    },
    {
      "cell_type": "code",
      "source": [
        "d.shape"
      ],
      "metadata": {
        "colab": {
          "base_uri": "https://localhost:8080/"
        },
        "id": "4-sZdhYynqIg",
        "outputId": "9dbac78f-e504-4956-ca1b-c792d549d564"
      },
      "execution_count": 24,
      "outputs": [
        {
          "output_type": "execute_result",
          "data": {
            "text/plain": [
              "TensorShape([32, 180, 180, 3])"
            ]
          },
          "metadata": {},
          "execution_count": 24
        }
      ]
    },
    {
      "cell_type": "code",
      "source": [
        "l.shape"
      ],
      "metadata": {
        "colab": {
          "base_uri": "https://localhost:8080/"
        },
        "id": "YuraOWARntND",
        "outputId": "a6066047-3f3d-49b3-9d7d-8fd76577fb49"
      },
      "execution_count": 25,
      "outputs": [
        {
          "output_type": "execute_result",
          "data": {
            "text/plain": [
              "TensorShape([32])"
            ]
          },
          "metadata": {},
          "execution_count": 25
        }
      ]
    },
    {
      "cell_type": "code",
      "source": [
        "mycallbacks = [keras.callbacks.ModelCheckpoint(filepath=\"cats_vs_dogs.keras\", monitor=\"val_loss\", save_best_only=True)]"
      ],
      "metadata": {
        "id": "erCG6Oc6j4yE"
      },
      "execution_count": 26,
      "outputs": []
    },
    {
      "cell_type": "code",
      "source": [
        "trainin_history = model.fit(train_dataset, epochs=30, validation_data=validation_dataset, callbacks=mycallbacks)"
      ],
      "metadata": {
        "colab": {
          "base_uri": "https://localhost:8080/"
        },
        "id": "7ZaDXymxka_h",
        "outputId": "640ae8e2-c07d-4b38-cb4a-b201a559e922"
      },
      "execution_count": 27,
      "outputs": [
        {
          "output_type": "stream",
          "name": "stdout",
          "text": [
            "Epoch 1/30\n",
            "63/63 [==============================] - 19s 80ms/step - loss: 0.7726 - accuracy: 0.4980 - val_loss: 0.6917 - val_accuracy: 0.5890\n",
            "Epoch 2/30\n",
            "63/63 [==============================] - 4s 67ms/step - loss: 0.7075 - accuracy: 0.5365 - val_loss: 0.6937 - val_accuracy: 0.5040\n",
            "Epoch 3/30\n",
            "63/63 [==============================] - 4s 67ms/step - loss: 0.6810 - accuracy: 0.5770 - val_loss: 0.7177 - val_accuracy: 0.5490\n",
            "Epoch 4/30\n",
            "63/63 [==============================] - 5s 69ms/step - loss: 0.6365 - accuracy: 0.6425 - val_loss: 0.6172 - val_accuracy: 0.6680\n",
            "Epoch 5/30\n",
            "63/63 [==============================] - 4s 67ms/step - loss: 0.5863 - accuracy: 0.7065 - val_loss: 0.6389 - val_accuracy: 0.6840\n",
            "Epoch 6/30\n",
            "63/63 [==============================] - 4s 68ms/step - loss: 0.5433 - accuracy: 0.7215 - val_loss: 0.6245 - val_accuracy: 0.6630\n",
            "Epoch 7/30\n",
            "63/63 [==============================] - 5s 69ms/step - loss: 0.4953 - accuracy: 0.7595 - val_loss: 0.5934 - val_accuracy: 0.6960\n",
            "Epoch 8/30\n",
            "63/63 [==============================] - 4s 67ms/step - loss: 0.4555 - accuracy: 0.7780 - val_loss: 0.6493 - val_accuracy: 0.6740\n",
            "Epoch 9/30\n",
            "63/63 [==============================] - 5s 69ms/step - loss: 0.4081 - accuracy: 0.8125 - val_loss: 0.5689 - val_accuracy: 0.7250\n",
            "Epoch 10/30\n",
            "63/63 [==============================] - 5s 69ms/step - loss: 0.3677 - accuracy: 0.8385 - val_loss: 0.6820 - val_accuracy: 0.7180\n",
            "Epoch 11/30\n",
            "63/63 [==============================] - 5s 68ms/step - loss: 0.3273 - accuracy: 0.8555 - val_loss: 0.9174 - val_accuracy: 0.6680\n",
            "Epoch 12/30\n",
            "63/63 [==============================] - 5s 69ms/step - loss: 0.2652 - accuracy: 0.8910 - val_loss: 0.7343 - val_accuracy: 0.7450\n",
            "Epoch 13/30\n",
            "63/63 [==============================] - 5s 68ms/step - loss: 0.2286 - accuracy: 0.9050 - val_loss: 0.8594 - val_accuracy: 0.7000\n",
            "Epoch 14/30\n",
            "63/63 [==============================] - 4s 68ms/step - loss: 0.1817 - accuracy: 0.9305 - val_loss: 0.8233 - val_accuracy: 0.7420\n",
            "Epoch 15/30\n",
            "63/63 [==============================] - 4s 67ms/step - loss: 0.1386 - accuracy: 0.9480 - val_loss: 1.1536 - val_accuracy: 0.7170\n",
            "Epoch 16/30\n",
            "63/63 [==============================] - 5s 77ms/step - loss: 0.1296 - accuracy: 0.9560 - val_loss: 1.0476 - val_accuracy: 0.7350\n",
            "Epoch 17/30\n",
            "63/63 [==============================] - 5s 69ms/step - loss: 0.1056 - accuracy: 0.9565 - val_loss: 1.0628 - val_accuracy: 0.7320\n",
            "Epoch 18/30\n",
            "63/63 [==============================] - 5s 68ms/step - loss: 0.0817 - accuracy: 0.9700 - val_loss: 1.3597 - val_accuracy: 0.6900\n",
            "Epoch 19/30\n",
            "63/63 [==============================] - 5s 68ms/step - loss: 0.0628 - accuracy: 0.9755 - val_loss: 1.6496 - val_accuracy: 0.7030\n",
            "Epoch 20/30\n",
            "63/63 [==============================] - 5s 69ms/step - loss: 0.0834 - accuracy: 0.9780 - val_loss: 1.4404 - val_accuracy: 0.7160\n",
            "Epoch 21/30\n",
            "63/63 [==============================] - 4s 67ms/step - loss: 0.0580 - accuracy: 0.9760 - val_loss: 1.4762 - val_accuracy: 0.7120\n",
            "Epoch 22/30\n",
            "63/63 [==============================] - 4s 68ms/step - loss: 0.0524 - accuracy: 0.9830 - val_loss: 1.5538 - val_accuracy: 0.7280\n",
            "Epoch 23/30\n",
            "63/63 [==============================] - 5s 68ms/step - loss: 0.0622 - accuracy: 0.9865 - val_loss: 1.5481 - val_accuracy: 0.7400\n",
            "Epoch 24/30\n",
            "63/63 [==============================] - 5s 68ms/step - loss: 0.0944 - accuracy: 0.9720 - val_loss: 1.7230 - val_accuracy: 0.7310\n",
            "Epoch 25/30\n",
            "63/63 [==============================] - 5s 68ms/step - loss: 0.0524 - accuracy: 0.9850 - val_loss: 2.0401 - val_accuracy: 0.6990\n",
            "Epoch 26/30\n",
            "63/63 [==============================] - 4s 68ms/step - loss: 0.0360 - accuracy: 0.9850 - val_loss: 1.9369 - val_accuracy: 0.7220\n",
            "Epoch 27/30\n",
            "63/63 [==============================] - 5s 68ms/step - loss: 0.0503 - accuracy: 0.9895 - val_loss: 1.6076 - val_accuracy: 0.7400\n",
            "Epoch 28/30\n",
            "63/63 [==============================] - 5s 69ms/step - loss: 0.0428 - accuracy: 0.9900 - val_loss: 2.1600 - val_accuracy: 0.7180\n",
            "Epoch 29/30\n",
            "63/63 [==============================] - 5s 68ms/step - loss: 0.0607 - accuracy: 0.9830 - val_loss: 2.0653 - val_accuracy: 0.7480\n",
            "Epoch 30/30\n",
            "63/63 [==============================] - 4s 68ms/step - loss: 0.0507 - accuracy: 0.9905 - val_loss: 2.0955 - val_accuracy: 0.7370\n"
          ]
        }
      ]
    },
    {
      "cell_type": "code",
      "source": [
        "import matplotlib.pyplot as plt\n",
        "epochs = range(1, 31)\n",
        "plt.plot(epochs, trainin_history.history[\"accuracy\"], label=\"Training Accuracy\")\n",
        "plt.plot(epochs, trainin_history.history[\"val_accuracy\"], label=\"Validation Accuracy\")\n",
        "plt.legend()\n",
        "plt.xlabel(\"epochs\")\n",
        "plt.ylabel(\"accuracy\")\n",
        "plt.title(\"Training and Validation Accuracy\")\n",
        "\n",
        "plt.figure()\n",
        "plt.plot(epochs, trainin_history.history[\"loss\"], label=\"Training Loss\")\n",
        "plt.plot(epochs, trainin_history.history[\"val_loss\"], label=\"Validation Loss\")\n",
        "plt.legend()\n",
        "plt.xlabel(\"epochs\")\n",
        "plt.ylabel(\"loss\")\n",
        "plt.title(\"Training and Validation Loss\")\n",
        "\n",
        "plt.show()"
      ],
      "metadata": {
        "colab": {
          "base_uri": "https://localhost:8080/",
          "height": 594
        },
        "id": "y1nqGZl5k2aL",
        "outputId": "53955ce2-9bd1-4ceb-d17b-492eee73ecb5"
      },
      "execution_count": 28,
      "outputs": [
        {
          "output_type": "display_data",
          "data": {
            "text/plain": [
              "<Figure size 432x288 with 1 Axes>"
            ],
            "image/png": "[encoded data removed]"
          },
          "metadata": {
            "needs_background": "light"
          }
        },
        {
          "output_type": "display_data",
          "data": {
            "text/plain": [
              "<Figure size 432x288 with 1 Axes>"
            ],
            "image/png": "[encoded data removed]"
          },
          "metadata": {
            "needs_background": "light"
          }
        }
      ]
    },
    {
      "cell_type": "code",
      "source": [
        "#load the model that was saved\n",
        "test_model = keras.models.load_model(\"cats_vs_dogs.keras\")"
      ],
      "metadata": {
        "id": "htT79D1Et-4E"
      },
      "execution_count": 29,
      "outputs": []
    },
    {
      "cell_type": "code",
      "source": [
        "test_loss, test_accuracy = test_model.evaluate(test_dataset)"
      ],
      "metadata": {
        "colab": {
          "base_uri": "https://localhost:8080/"
        },
        "id": "aqto-aaVuVng",
        "outputId": "6a4a0137-04ba-4083-fbd7-3fee64ec8b1c"
      },
      "execution_count": 30,
      "outputs": [
        {
          "output_type": "stream",
          "name": "stdout",
          "text": [
            "63/63 [==============================] - 3s 36ms/step - loss: 0.5976 - accuracy: 0.7095\n"
          ]
        }
      ]
    },
    {
      "cell_type": "code",
      "source": [
        "print(f\"Testing accuracy: {test_accuracy: .4f}\")"
      ],
      "metadata": {
        "colab": {
          "base_uri": "https://localhost:8080/"
        },
        "id": "E7W00ychuhS-",
        "outputId": "3d542c93-6289-4a48-a894-24a709c9bc13"
      },
      "execution_count": 31,
      "outputs": [
        {
          "output_type": "stream",
          "name": "stdout",
          "text": [
            "Testing accuracy:  0.7095\n"
          ]
        }
      ]
    },
    {
      "cell_type": "code",
      "source": [
        "print(f\"Testing loss: {test_loss: .3f}\")"
      ],
      "metadata": {
        "colab": {
          "base_uri": "https://localhost:8080/"
        },
        "id": "jQDkpGMBwD_D",
        "outputId": "e09a3a38-1b53-4407-a730-3f40b4baaba4"
      },
      "execution_count": 32,
      "outputs": [
        {
          "output_type": "stream",
          "name": "stdout",
          "text": [
            "Testing loss:  0.598\n"
          ]
        }
      ]
    }
  ]
}