{
  "nbformat": 4,
  "nbformat_minor": 0,
  "metadata": {
    "colab": {
      "provenance": [],
      "authorship_tag": "ABX9TyMGBlFWLo7XFFMFTChzKdyb",
      "include_colab_link": true
    },
    "kernelspec": {
      "name": "python3",
      "display_name": "Python 3"
    },
    "language_info": {
      "name": "python"
    },
    "accelerator": "GPU",
    "gpuClass": "standard"
  },
  "cells": [
    {
      "cell_type": "markdown",
      "metadata": {
        "id": "view-in-github",
        "colab_type": "text"
      },
      "source": [
        "<a href=\"https://colab.research.google.com/github/santoshrsarangi/tensorflow/blob/main/computer-vision/3_Data_Augumentation_Cats_vs_Dogs_Kaggle_Dataset.ipynb\" target=\"_parent\"><img src=\"https://colab.research.google.com/assets/colab-badge.svg\" alt=\"Open In Colab\"/></a>"
      ]
    },
    {
      "cell_type": "markdown",
      "source": [
        "For this exercise we will be working with the Dogs vs Cats dataset available in Kaggle. Do login to your Kaggle account (and if you dont have one then you can create it easily). Download your Kaggle API keys to local system and then continue here. Step 1: upload API keys to colab environment"
      ],
      "metadata": {
        "id": "5pmzyGzQqpvF"
      }
    },
    {
      "cell_type": "code",
      "source": [
        "from google.colab import files"
      ],
      "metadata": {
        "id": "W9xD5f6dzT8B"
      },
      "execution_count": 1,
      "outputs": []
    },
    {
      "cell_type": "code",
      "source": [
        "r = files.upload()"
      ],
      "metadata": {
        "id": "XvrI7-cbzZmF",
        "outputId": "b2c5765b-af05-4e05-e381-1ee606948c67",
        "colab": {
          "resources": {
            "http://localhost:8080/nbextensions/google.colab/files.js": {
              "data": "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",
              "ok": true,
              "headers": [
                [
                  "content-type",
                  "application/javascript"
                ]
              ],
              "status": 200,
              "status_text": ""
            }
          },
          "base_uri": "https://localhost:8080/",
          "height": 92
        }
      },
      "execution_count": 2,
      "outputs": [
        {
          "output_type": "display_data",
          "data": {
            "text/plain": [
              "<IPython.core.display.HTML object>"
            ],
            "text/html": [
              "\n",
              "     <input type=\"file\" id=\"files-ab1d304b-2bd7-4ce9-a1ac-4837a0b64bfb\" name=\"files[]\" multiple disabled\n",
              "        style=\"border:none\" />\n",
              "     <output id=\"result-ab1d304b-2bd7-4ce9-a1ac-4837a0b64bfb\">\n",
              "      Upload widget is only available when the cell has been executed in the\n",
              "      current browser session. Please rerun this cell to enable.\n",
              "      </output>\n",
              "      <script src=\"/nbextensions/google.colab/files.js\"></script> "
            ]
          },
          "metadata": {}
        },
        {
          "output_type": "stream",
          "name": "stdout",
          "text": [
            "Saving kaggle.json to kaggle.json\n"
          ]
        }
      ]
    },
    {
      "cell_type": "code",
      "source": [
        "!mkdir ~/.kaggle"
      ],
      "metadata": {
        "id": "PaDepyLVrTIW"
      },
      "execution_count": 3,
      "outputs": []
    },
    {
      "cell_type": "code",
      "source": [
        "!cp kaggle.json ~/.kaggle/"
      ],
      "metadata": {
        "id": "W5qMrPAxsMsc"
      },
      "execution_count": 4,
      "outputs": []
    },
    {
      "cell_type": "code",
      "source": [
        "# Change access to your Kaggle API so only current account has access to read/write\n",
        "!chmod 600 ~/.kaggle/kaggle.json"
      ],
      "metadata": {
        "id": "F5k2liYGspgx"
      },
      "execution_count": 5,
      "outputs": []
    },
    {
      "cell_type": "code",
      "source": [
        "!kaggle competitions download -c dogs-vs-cats"
      ],
      "metadata": {
        "id": "7JgpNAAttRLx",
        "colab": {
          "base_uri": "https://localhost:8080/"
        },
        "outputId": "07e38874-ec56-4b57-fef2-484b510c354c"
      },
      "execution_count": 6,
      "outputs": [
        {
          "output_type": "stream",
          "name": "stdout",
          "text": [
            "Downloading dogs-vs-cats.zip to /content\n",
            " 98% 798M/812M [00:04<00:00, 271MB/s]\n",
            "100% 812M/812M [00:04<00:00, 202MB/s]\n"
          ]
        }
      ]
    },
    {
      "cell_type": "code",
      "source": [
        "!unzip --qq dogs-vs-cats.zip"
      ],
      "metadata": {
        "id": "9MX06-qSHFDj"
      },
      "execution_count": 7,
      "outputs": []
    },
    {
      "cell_type": "code",
      "source": [
        "!unzip --qq train.zip"
      ],
      "metadata": {
        "id": "vo88G-DVHdi7"
      },
      "execution_count": 8,
      "outputs": []
    },
    {
      "cell_type": "code",
      "source": [
        "!unzip --qq test1.zip"
      ],
      "metadata": {
        "id": "PNTU_syfIGxn"
      },
      "execution_count": 9,
      "outputs": []
    },
    {
      "cell_type": "code",
      "source": [
        "import os, shutil, pathlib"
      ],
      "metadata": {
        "id": "BHROTJAhJju0"
      },
      "execution_count": 10,
      "outputs": []
    },
    {
      "cell_type": "code",
      "source": [
        "original_dir = pathlib.Path(\"train\")\n",
        "new_dir = pathlib.Path(\"cats_vs_dogs\")"
      ],
      "metadata": {
        "id": "xiO2AjoZJuNm"
      },
      "execution_count": 11,
      "outputs": []
    },
    {
      "cell_type": "code",
      "source": [
        "def create_folder_structure(name, start_index, end_index):\n",
        "\n",
        "  for category in (\"cat\", \"dog\"):\n",
        "\n",
        "    dir=new_dir / name / category\n",
        "    os.makedirs(dir)\n",
        "\n",
        "    file_names = [f\"{category}.{i}.jpg\" for i in range(start_index, end_index)]\n",
        "\n",
        "    for files in file_names:\n",
        "      shutil.copyfile(src=original_dir / files, dst=dir / files)"
      ],
      "metadata": {
        "id": "6V56cqjyJ9cc"
      },
      "execution_count": 12,
      "outputs": []
    },
    {
      "cell_type": "code",
      "source": [
        "create_folder_structure(\"train\", start_index=0,end_index = 1000)\n",
        "create_folder_structure(\"validation\", start_index=1000, end_index=1500)\n",
        "create_folder_structure(\"test\", start_index=1500, end_index=2500 )"
      ],
      "metadata": {
        "id": "Exex7rDWN9-t"
      },
      "execution_count": 13,
      "outputs": []
    },
    {
      "cell_type": "code",
      "source": [
        "import tensorflow as tf\n",
        "from tensorflow import keras\n",
        "from keras import layers"
      ],
      "metadata": {
        "id": "OLTFi9qbhUk-"
      },
      "execution_count": 14,
      "outputs": []
    },
    {
      "cell_type": "code",
      "source": [
        "def getmodel(augument_data = True, dropout=True):\n",
        "\n",
        "  inputs = keras.Input(shape=(180, 180, 3), name=\"InputLayer\")\n",
        "\n",
        "  if(augument_data):\n",
        "    inputs_rf = layers.RandomFlip(\"horizontal\", name=\"RF\")(inputs)\n",
        "    inputs_rr = layers.RandomRotation(0.1, name=\"RR\")(inputs_rf)\n",
        "    inputs_rz = layers.RandomZoom(0.2, name=\"RZ\")(inputs_rr)\n",
        "\n",
        "  #rescale the image to 1 - 255\n",
        "  x = layers.Rescaling(scale=1./255, name=\"Rescaling_Layer\")(inputs_rz)\n",
        "\n",
        "  x = layers.Conv2D(filters=32, activation=\"relu\", kernel_size=3, name=\"Conv2D1\") (x)\n",
        "  x = layers.MaxPool2D(pool_size=(2,2), name=\"MaxPool1\")(x)\n",
        "\n",
        "  x = layers.Conv2D(filters=64, activation=\"relu\", kernel_size=3, name=\"Conv2D2\") (x)\n",
        "  x = layers.MaxPool2D(pool_size=(2,2), name=\"MaxPool2\")(x)\n",
        "\n",
        "  x = layers.Conv2D(filters=128, activation=\"relu\", kernel_size=3, name=\"Conv2D3\") (x)\n",
        "  x = layers.MaxPool2D(pool_size=(2,2), name=\"MaxPool3\")(x)\n",
        "\n",
        "  x = layers.Conv2D(filters=256, activation=\"relu\", kernel_size=3, name=\"Conv2D4\") (x)\n",
        "  x = layers.MaxPool2D(pool_size=(2,2), name=\"MaxPool4\")(x)\n",
        "\n",
        "  x = layers.Conv2D(filters=256, activation=\"relu\", kernel_size=3, name=\"Conv2D5\") (x)\n",
        "  \n",
        "  x = layers.Flatten(name=\"Flatten\")(x)\n",
        "\n",
        "  #if(dropout):\n",
        "  x = layers.Dropout(0.5)(x)\n",
        "\n",
        "  outputs = layers.Dense(1, activation=\"sigmoid\", name=\"OutputLayer\")(x)\n",
        "\n",
        "  model = keras.Model(inputs, outputs, name=\"CnDModel\")\n",
        "\n",
        "  model.compile(optimizer=\"rmsprop\",\n",
        "                loss=\"binary_crossentropy\",\n",
        "                metrics = [\"accuracy\"])\n",
        "  \n",
        "  return model"
      ],
      "metadata": {
        "id": "tmZ1FN-jiA-e"
      },
      "execution_count": 55,
      "outputs": []
    },
    {
      "cell_type": "code",
      "source": [
        "model = getmodel(augument_data=True, dropout=False)\n",
        "model.summary()"
      ],
      "metadata": {
        "id": "3kpZgw68j48P",
        "outputId": "dce246ad-edda-4ab5-fe83-81b246f79284",
        "colab": {
          "base_uri": "https://localhost:8080/"
        }
      },
      "execution_count": 56,
      "outputs": [
        {
          "output_type": "stream",
          "name": "stdout",
          "text": [
            "Model: \"CnDModel\"\n",
            "_________________________________________________________________\n",
            " Layer (type)                Output Shape              Param #   \n",
            "=================================================================\n",
            " InputLayer (InputLayer)     [(None, 180, 180, 3)]     0         \n",
            "                                                                 \n",
            " RF (RandomFlip)             (None, 180, 180, 3)       0         \n",
            "                                                                 \n",
            " RR (RandomRotation)         (None, 180, 180, 3)       0         \n",
            "                                                                 \n",
            " RZ (RandomZoom)             (None, 180, 180, 3)       0         \n",
            "                                                                 \n",
            " Rescaling_Layer (Rescaling)  (None, 180, 180, 3)      0         \n",
            "                                                                 \n",
            " Conv2D1 (Conv2D)            (None, 178, 178, 32)      896       \n",
            "                                                                 \n",
            " MaxPool1 (MaxPooling2D)     (None, 89, 89, 32)        0         \n",
            "                                                                 \n",
            " Conv2D2 (Conv2D)            (None, 87, 87, 64)        18496     \n",
            "                                                                 \n",
            " MaxPool2 (MaxPooling2D)     (None, 43, 43, 64)        0         \n",
            "                                                                 \n",
            " Conv2D3 (Conv2D)            (None, 41, 41, 128)       73856     \n",
            "                                                                 \n",
            " MaxPool3 (MaxPooling2D)     (None, 20, 20, 128)       0         \n",
            "                                                                 \n",
            " Conv2D4 (Conv2D)            (None, 18, 18, 256)       295168    \n",
            "                                                                 \n",
            " MaxPool4 (MaxPooling2D)     (None, 9, 9, 256)         0         \n",
            "                                                                 \n",
            " Conv2D5 (Conv2D)            (None, 7, 7, 256)         590080    \n",
            "                                                                 \n",
            " Flatten (Flatten)           (None, 12544)             0         \n",
            "                                                                 \n",
            " dropout_1 (Dropout)         (None, 12544)             0         \n",
            "                                                                 \n",
            " OutputLayer (Dense)         (None, 1)                 12545     \n",
            "                                                                 \n",
            "=================================================================\n",
            "Total params: 991,041\n",
            "Trainable params: 991,041\n",
            "Non-trainable params: 0\n",
            "_________________________________________________________________\n"
          ]
        }
      ]
    },
    {
      "cell_type": "code",
      "source": [
        "from keras import utils\n",
        "from tensorflow.keras.utils import image_dataset_from_directory"
      ],
      "metadata": {
        "id": "-QXNSaHoZgqL"
      },
      "execution_count": 30,
      "outputs": []
    },
    {
      "cell_type": "code",
      "source": [
        "train_dataset = image_dataset_from_directory(new_dir / \"train\", batch_size=32, image_size=(180, 180))"
      ],
      "metadata": {
        "id": "T9MCPS7lZzP3",
        "outputId": "273c38ba-ef0b-4efb-b7e7-35a36746e71b",
        "colab": {
          "base_uri": "https://localhost:8080/"
        }
      },
      "execution_count": 31,
      "outputs": [
        {
          "output_type": "stream",
          "name": "stdout",
          "text": [
            "Found 2000 files belonging to 2 classes.\n"
          ]
        }
      ]
    },
    {
      "cell_type": "code",
      "source": [
        "validation_dataset = image_dataset_from_directory(new_dir / \"validation\", batch_size=32, image_size=(180, 180))"
      ],
      "metadata": {
        "id": "s6FdoEdMaR22",
        "outputId": "3b1174e9-1ea4-4efd-df6d-3c87cd835cf9",
        "colab": {
          "base_uri": "https://localhost:8080/"
        }
      },
      "execution_count": 32,
      "outputs": [
        {
          "output_type": "stream",
          "name": "stdout",
          "text": [
            "Found 1000 files belonging to 2 classes.\n"
          ]
        }
      ]
    },
    {
      "cell_type": "code",
      "source": [
        "test_dataset = image_dataset_from_directory(new_dir / \"test\", batch_size=32, image_size=(180, 180))"
      ],
      "metadata": {
        "id": "3KL0-0djagqr",
        "outputId": "318e8558-a923-48f5-d045-b5cf2d6b9af8",
        "colab": {
          "base_uri": "https://localhost:8080/"
        }
      },
      "execution_count": 33,
      "outputs": [
        {
          "output_type": "stream",
          "name": "stdout",
          "text": [
            "Found 2000 files belonging to 2 classes.\n"
          ]
        }
      ]
    },
    {
      "cell_type": "code",
      "source": [
        "it = iter(train_dataset)\n",
        "\n",
        "d, l = next(it)"
      ],
      "metadata": {
        "id": "9z6YUOHymzuc"
      },
      "execution_count": 34,
      "outputs": []
    },
    {
      "cell_type": "code",
      "source": [
        "d.shape"
      ],
      "metadata": {
        "colab": {
          "base_uri": "https://localhost:8080/"
        },
        "id": "4-sZdhYynqIg",
        "outputId": "47624dd1-238a-4bb0-fc89-ef07266c67e1"
      },
      "execution_count": 35,
      "outputs": [
        {
          "output_type": "execute_result",
          "data": {
            "text/plain": [
              "TensorShape([32, 180, 180, 3])"
            ]
          },
          "metadata": {},
          "execution_count": 35
        }
      ]
    },
    {
      "cell_type": "code",
      "source": [
        "l.shape"
      ],
      "metadata": {
        "colab": {
          "base_uri": "https://localhost:8080/"
        },
        "id": "YuraOWARntND",
        "outputId": "af5dd90c-aa93-43de-d8c7-9c225f084e5f"
      },
      "execution_count": 36,
      "outputs": [
        {
          "output_type": "execute_result",
          "data": {
            "text/plain": [
              "TensorShape([32])"
            ]
          },
          "metadata": {},
          "execution_count": 36
        }
      ]
    },
    {
      "cell_type": "code",
      "source": [
        "mycallbacks = [keras.callbacks.ModelCheckpoint(filepath=\"cats_vs_dogs_with_data_aug.keras\", monitor=\"val_loss\", save_best_only=True)]"
      ],
      "metadata": {
        "id": "erCG6Oc6j4yE"
      },
      "execution_count": 37,
      "outputs": []
    },
    {
      "cell_type": "code",
      "source": [
        "trainin_history = model.fit(train_dataset, epochs=30, validation_data=validation_dataset, callbacks=mycallbacks)"
      ],
      "metadata": {
        "colab": {
          "base_uri": "https://localhost:8080/"
        },
        "id": "7ZaDXymxka_h",
        "outputId": "a6b1e91b-1f67-4fb0-ddac-4052b1a8235e"
      },
      "execution_count": 38,
      "outputs": [
        {
          "output_type": "stream",
          "name": "stdout",
          "text": [
            "Epoch 1/30\n",
            "63/63 [==============================] - 19s 81ms/step - loss: 0.7264 - accuracy: 0.5245 - val_loss: 0.6915 - val_accuracy: 0.5110\n",
            "Epoch 2/30\n",
            "63/63 [==============================] - 5s 70ms/step - loss: 0.6972 - accuracy: 0.5470 - val_loss: 0.6904 - val_accuracy: 0.5020\n",
            "Epoch 3/30\n",
            "63/63 [==============================] - 5s 68ms/step - loss: 0.6823 - accuracy: 0.5905 - val_loss: 0.6758 - val_accuracy: 0.5940\n",
            "Epoch 4/30\n",
            "63/63 [==============================] - 4s 67ms/step - loss: 0.6632 - accuracy: 0.6240 - val_loss: 0.6805 - val_accuracy: 0.5770\n",
            "Epoch 5/30\n",
            "63/63 [==============================] - 5s 68ms/step - loss: 0.6667 - accuracy: 0.6305 - val_loss: 1.4849 - val_accuracy: 0.5040\n",
            "Epoch 6/30\n",
            "63/63 [==============================] - 5s 69ms/step - loss: 0.6431 - accuracy: 0.6440 - val_loss: 0.6110 - val_accuracy: 0.6560\n",
            "Epoch 7/30\n",
            "63/63 [==============================] - 5s 80ms/step - loss: 0.6086 - accuracy: 0.6625 - val_loss: 0.6121 - val_accuracy: 0.6530\n",
            "Epoch 8/30\n",
            "63/63 [==============================] - 6s 82ms/step - loss: 0.6015 - accuracy: 0.6695 - val_loss: 0.6071 - val_accuracy: 0.6640\n",
            "Epoch 9/30\n",
            "63/63 [==============================] - 5s 69ms/step - loss: 0.5799 - accuracy: 0.6970 - val_loss: 1.2918 - val_accuracy: 0.5630\n",
            "Epoch 10/30\n",
            "63/63 [==============================] - 5s 70ms/step - loss: 0.5714 - accuracy: 0.6965 - val_loss: 0.5382 - val_accuracy: 0.7100\n",
            "Epoch 11/30\n",
            "63/63 [==============================] - 5s 69ms/step - loss: 0.5676 - accuracy: 0.7255 - val_loss: 0.6743 - val_accuracy: 0.6340\n",
            "Epoch 12/30\n",
            "63/63 [==============================] - 5s 68ms/step - loss: 0.5483 - accuracy: 0.7360 - val_loss: 0.5584 - val_accuracy: 0.7090\n",
            "Epoch 13/30\n",
            "63/63 [==============================] - 5s 69ms/step - loss: 0.5315 - accuracy: 0.7480 - val_loss: 0.5168 - val_accuracy: 0.7470\n",
            "Epoch 14/30\n",
            "63/63 [==============================] - 5s 69ms/step - loss: 0.5227 - accuracy: 0.7370 - val_loss: 0.4651 - val_accuracy: 0.7620\n",
            "Epoch 15/30\n",
            "63/63 [==============================] - 5s 69ms/step - loss: 0.5243 - accuracy: 0.7540 - val_loss: 0.5052 - val_accuracy: 0.7790\n",
            "Epoch 16/30\n",
            "63/63 [==============================] - 5s 69ms/step - loss: 0.4807 - accuracy: 0.7760 - val_loss: 0.8524 - val_accuracy: 0.6350\n",
            "Epoch 17/30\n",
            "63/63 [==============================] - 5s 68ms/step - loss: 0.4792 - accuracy: 0.7795 - val_loss: 0.5706 - val_accuracy: 0.7290\n",
            "Epoch 18/30\n",
            "63/63 [==============================] - 5s 68ms/step - loss: 0.4808 - accuracy: 0.7725 - val_loss: 0.5500 - val_accuracy: 0.7440\n",
            "Epoch 19/30\n",
            "63/63 [==============================] - 5s 69ms/step - loss: 0.4599 - accuracy: 0.7770 - val_loss: 0.6394 - val_accuracy: 0.7320\n",
            "Epoch 20/30\n",
            "63/63 [==============================] - 5s 68ms/step - loss: 0.4369 - accuracy: 0.7945 - val_loss: 0.5216 - val_accuracy: 0.7470\n",
            "Epoch 21/30\n",
            "63/63 [==============================] - 4s 67ms/step - loss: 0.4450 - accuracy: 0.7950 - val_loss: 0.4769 - val_accuracy: 0.7980\n",
            "Epoch 22/30\n",
            "63/63 [==============================] - 5s 69ms/step - loss: 0.4451 - accuracy: 0.8115 - val_loss: 0.4536 - val_accuracy: 0.7960\n",
            "Epoch 23/30\n",
            "63/63 [==============================] - 5s 68ms/step - loss: 0.4054 - accuracy: 0.8160 - val_loss: 0.6036 - val_accuracy: 0.7430\n",
            "Epoch 24/30\n",
            "63/63 [==============================] - 6s 86ms/step - loss: 0.4030 - accuracy: 0.8240 - val_loss: 0.5759 - val_accuracy: 0.7820\n",
            "Epoch 25/30\n",
            "63/63 [==============================] - 5s 70ms/step - loss: 0.4120 - accuracy: 0.8170 - val_loss: 0.4127 - val_accuracy: 0.8170\n",
            "Epoch 26/30\n",
            "63/63 [==============================] - 5s 70ms/step - loss: 0.4022 - accuracy: 0.8160 - val_loss: 0.4144 - val_accuracy: 0.8140\n",
            "Epoch 27/30\n",
            "63/63 [==============================] - 5s 70ms/step - loss: 0.3785 - accuracy: 0.8405 - val_loss: 0.4502 - val_accuracy: 0.8150\n",
            "Epoch 28/30\n",
            "63/63 [==============================] - 5s 69ms/step - loss: 0.3744 - accuracy: 0.8400 - val_loss: 0.4873 - val_accuracy: 0.7920\n",
            "Epoch 29/30\n",
            "63/63 [==============================] - 5s 69ms/step - loss: 0.3714 - accuracy: 0.8290 - val_loss: 0.4906 - val_accuracy: 0.8060\n",
            "Epoch 30/30\n",
            "63/63 [==============================] - 5s 68ms/step - loss: 0.3709 - accuracy: 0.8295 - val_loss: 0.4506 - val_accuracy: 0.8010\n"
          ]
        }
      ]
    },
    {
      "cell_type": "code",
      "source": [
        "import matplotlib.pyplot as plt\n",
        "epochs = range(1, 31)\n",
        "plt.plot(epochs, trainin_history.history[\"accuracy\"], label=\"Training Accuracy\")\n",
        "plt.plot(epochs, trainin_history.history[\"val_accuracy\"], label=\"Validation Accuracy\")\n",
        "plt.legend()\n",
        "plt.xlabel(\"epochs\")\n",
        "plt.ylabel(\"accuracy\")\n",
        "plt.title(\"Training and Validation Accuracy\")\n",
        "\n",
        "plt.figure()\n",
        "plt.plot(epochs, trainin_history.history[\"loss\"], label=\"Training Loss\")\n",
        "plt.plot(epochs, trainin_history.history[\"val_loss\"], label=\"Validation Loss\")\n",
        "plt.legend()\n",
        "plt.xlabel(\"epochs\")\n",
        "plt.ylabel(\"loss\")\n",
        "plt.title(\"Training and Validation Loss\")\n",
        "\n",
        "plt.show()"
      ],
      "metadata": {
        "colab": {
          "base_uri": "https://localhost:8080/",
          "height": 594
        },
        "id": "y1nqGZl5k2aL",
        "outputId": "872c1d2a-4e37-46f4-e394-99c02c730b03"
      },
      "execution_count": 39,
      "outputs": [
        {
          "output_type": "display_data",
          "data": {
            "text/plain": [
              "<Figure size 432x288 with 1 Axes>"
            ],
            "image/png": "[encoded data removed]"
          },
          "metadata": {
            "needs_background": "light"
          }
        },
        {
          "output_type": "display_data",
          "data": {
            "text/plain": [
              "<Figure size 432x288 with 1 Axes>"
            ],
            "image/png": "[encoded data removed]"
          },
          "metadata": {
            "needs_background": "light"
          }
        }
      ]
    },
    {
      "cell_type": "code",
      "source": [
        "#load the model that was saved\n",
        "test_model = keras.models.load_model(\"cats_vs_dogs_with_data_aug.keras\")"
      ],
      "metadata": {
        "id": "htT79D1Et-4E"
      },
      "execution_count": 60,
      "outputs": []
    },
    {
      "cell_type": "code",
      "source": [
        "files.download(\"cats_vs_dogs_with_data_aug.keras\")"
      ],
      "metadata": {
        "colab": {
          "base_uri": "https://localhost:8080/",
          "height": 38
        },
        "id": "50KHNmx6-5Fo",
        "outputId": "64d34eaa-4aef-4826-c7ea-827b55497493"
      },
      "execution_count": 67,
      "outputs": [
        {
          "output_type": "display_data",
          "data": {
            "text/plain": [
              "<IPython.core.display.Javascript object>"
            ],
            "application/javascript": [
              "\n",
              "    async function download(id, filename, size) {\n",
              "      if (!google.colab.kernel.accessAllowed) {\n",
              "        return;\n",
              "      }\n",
              "      const div = document.createElement('div');\n",
              "      const label = document.createElement('label');\n",
              "      label.textContent = `Downloading \"${filename}\": `;\n",
              "      div.appendChild(label);\n",
              "      const progress = document.createElement('progress');\n",
              "      progress.max = size;\n",
              "      div.appendChild(progress);\n",
              "      document.body.appendChild(div);\n",
              "\n",
              "      const buffers = [];\n",
              "      let downloaded = 0;\n",
              "\n",
              "      const channel = await google.colab.kernel.comms.open(id);\n",
              "      // Send a message to notify the kernel that we're ready.\n",
              "      channel.send({})\n",
              "\n",
              "      for await (const message of channel.messages) {\n",
              "        // Send a message to notify the kernel that we're ready.\n",
              "        channel.send({})\n",
              "        if (message.buffers) {\n",
              "          for (const buffer of message.buffers) {\n",
              "            buffers.push(buffer);\n",
              "            downloaded += buffer.byteLength;\n",
              "            progress.value = downloaded;\n",
              "          }\n",
              "        }\n",
              "      }\n",
              "      const blob = new Blob(buffers, {type: 'application/binary'});\n",
              "      const a = document.createElement('a');\n",
              "      a.href = window.URL.createObjectURL(blob);\n",
              "      a.download = filename;\n",
              "      div.appendChild(a);\n",
              "      a.click();\n",
              "      div.remove();\n",
              "    }\n",
              "  "
            ]
          },
          "metadata": {}
        },
        {
          "output_type": "display_data",
          "data": {
            "text/plain": [
              "<IPython.core.display.Javascript object>"
            ],
            "application/javascript": [
              "download(\"download_db4640af-4405-42c2-a45e-86f5ce2c9885\", \"cats_vs_dogs_with_data_aug.keras\", 7996440)"
            ]
          },
          "metadata": {}
        }
      ]
    },
    {
      "cell_type": "code",
      "source": [
        "test_loss, test_accuracy = test_model.evaluate(test_dataset)"
      ],
      "metadata": {
        "colab": {
          "base_uri": "https://localhost:8080/"
        },
        "id": "aqto-aaVuVng",
        "outputId": "c6dc800e-ba58-4a07-bdfb-6a8c20739829"
      },
      "execution_count": 61,
      "outputs": [
        {
          "output_type": "stream",
          "name": "stdout",
          "text": [
            "63/63 [==============================] - 3s 34ms/step - loss: 0.4351 - accuracy: 0.8085\n"
          ]
        }
      ]
    },
    {
      "cell_type": "code",
      "source": [
        "print(f\"Testing accuracy: {test_accuracy: .4f}\")"
      ],
      "metadata": {
        "colab": {
          "base_uri": "https://localhost:8080/"
        },
        "id": "E7W00ychuhS-",
        "outputId": "eaa10ba8-de7a-4948-d931-2ebaa4080282"
      },
      "execution_count": 62,
      "outputs": [
        {
          "output_type": "stream",
          "name": "stdout",
          "text": [
            "Testing accuracy:  0.8085\n"
          ]
        }
      ]
    },
    {
      "cell_type": "code",
      "source": [
        "print(f\"Testing loss: {test_loss: .3f}\")"
      ],
      "metadata": {
        "colab": {
          "base_uri": "https://localhost:8080/"
        },
        "id": "jQDkpGMBwD_D",
        "outputId": "380a102e-13cb-49dd-8ac4-de467353f69b"
      },
      "execution_count": 63,
      "outputs": [
        {
          "output_type": "stream",
          "name": "stdout",
          "text": [
            "Testing loss:  0.435\n"
          ]
        }
      ]
    },
    {
      "cell_type": "code",
      "source": [
        "model = getmodel(augument_data=True, dropout=True)"
      ],
      "metadata": {
        "id": "NTJ2jxFB3U6n"
      },
      "execution_count": 57,
      "outputs": []
    },
    {
      "cell_type": "code",
      "source": [
        "trainin_history = model.fit(train_dataset, epochs=100, validation_data=validation_dataset, callbacks=mycallbacks)"
      ],
      "metadata": {
        "colab": {
          "base_uri": "https://localhost:8080/"
        },
        "id": "r96uSC-R3ngS",
        "outputId": "162e0926-4278-4ef8-dd57-713d51b5ffa1"
      },
      "execution_count": 58,
      "outputs": [
        {
          "output_type": "stream",
          "name": "stdout",
          "text": [
            "Epoch 1/100\n",
            "63/63 [==============================] - 6s 71ms/step - loss: 0.7446 - accuracy: 0.5190 - val_loss: 0.6913 - val_accuracy: 0.5780\n",
            "Epoch 2/100\n",
            "63/63 [==============================] - 5s 68ms/step - loss: 0.6969 - accuracy: 0.5200 - val_loss: 0.6742 - val_accuracy: 0.5540\n",
            "Epoch 3/100\n",
            "63/63 [==============================] - 5s 68ms/step - loss: 0.6895 - accuracy: 0.5495 - val_loss: 0.6813 - val_accuracy: 0.5280\n",
            "Epoch 4/100\n",
            "63/63 [==============================] - 4s 67ms/step - loss: 0.6705 - accuracy: 0.6095 - val_loss: 1.2984 - val_accuracy: 0.5260\n",
            "Epoch 5/100\n",
            "63/63 [==============================] - 4s 67ms/step - loss: 0.6471 - accuracy: 0.6350 - val_loss: 0.6383 - val_accuracy: 0.6070\n",
            "Epoch 6/100\n",
            "63/63 [==============================] - 5s 68ms/step - loss: 0.6155 - accuracy: 0.6625 - val_loss: 0.6037 - val_accuracy: 0.6860\n",
            "Epoch 7/100\n",
            "63/63 [==============================] - 5s 80ms/step - loss: 0.6052 - accuracy: 0.6935 - val_loss: 0.7128 - val_accuracy: 0.6460\n",
            "Epoch 8/100\n",
            "63/63 [==============================] - 5s 69ms/step - loss: 0.6079 - accuracy: 0.6770 - val_loss: 0.5390 - val_accuracy: 0.7260\n",
            "Epoch 9/100\n",
            "63/63 [==============================] - 5s 68ms/step - loss: 0.5760 - accuracy: 0.6975 - val_loss: 0.5274 - val_accuracy: 0.7360\n",
            "Epoch 10/100\n",
            "63/63 [==============================] - 5s 68ms/step - loss: 0.5720 - accuracy: 0.7090 - val_loss: 0.5547 - val_accuracy: 0.6960\n",
            "Epoch 11/100\n",
            "63/63 [==============================] - 5s 68ms/step - loss: 0.5534 - accuracy: 0.7330 - val_loss: 0.6152 - val_accuracy: 0.7070\n",
            "Epoch 12/100\n",
            "63/63 [==============================] - 5s 69ms/step - loss: 0.5445 - accuracy: 0.7415 - val_loss: 0.5844 - val_accuracy: 0.7360\n",
            "Epoch 13/100\n",
            "63/63 [==============================] - 5s 69ms/step - loss: 0.5293 - accuracy: 0.7540 - val_loss: 0.4849 - val_accuracy: 0.7650\n",
            "Epoch 14/100\n",
            "63/63 [==============================] - 5s 69ms/step - loss: 0.5252 - accuracy: 0.7385 - val_loss: 0.5085 - val_accuracy: 0.7580\n",
            "Epoch 15/100\n",
            "63/63 [==============================] - 5s 69ms/step - loss: 0.5076 - accuracy: 0.7415 - val_loss: 0.5182 - val_accuracy: 0.7530\n",
            "Epoch 16/100\n",
            "63/63 [==============================] - 4s 68ms/step - loss: 0.4974 - accuracy: 0.7575 - val_loss: 0.4757 - val_accuracy: 0.7760\n",
            "Epoch 17/100\n",
            "63/63 [==============================] - 5s 68ms/step - loss: 0.4873 - accuracy: 0.7605 - val_loss: 0.4614 - val_accuracy: 0.7810\n",
            "Epoch 18/100\n",
            "63/63 [==============================] - 5s 68ms/step - loss: 0.4614 - accuracy: 0.7905 - val_loss: 0.4749 - val_accuracy: 0.7650\n",
            "Epoch 19/100\n",
            "63/63 [==============================] - 5s 69ms/step - loss: 0.4633 - accuracy: 0.7775 - val_loss: 0.9048 - val_accuracy: 0.6870\n",
            "Epoch 20/100\n",
            "63/63 [==============================] - 5s 68ms/step - loss: 0.4570 - accuracy: 0.7915 - val_loss: 0.4376 - val_accuracy: 0.7950\n",
            "Epoch 21/100\n",
            "63/63 [==============================] - 5s 68ms/step - loss: 0.4483 - accuracy: 0.8010 - val_loss: 0.4949 - val_accuracy: 0.7600\n",
            "Epoch 22/100\n",
            "63/63 [==============================] - 5s 68ms/step - loss: 0.4446 - accuracy: 0.7960 - val_loss: 0.4712 - val_accuracy: 0.7940\n",
            "Epoch 23/100\n",
            "63/63 [==============================] - 5s 69ms/step - loss: 0.4047 - accuracy: 0.8165 - val_loss: 0.5046 - val_accuracy: 0.7750\n",
            "Epoch 24/100\n",
            "63/63 [==============================] - 5s 68ms/step - loss: 0.4383 - accuracy: 0.8130 - val_loss: 0.4637 - val_accuracy: 0.8000\n",
            "Epoch 25/100\n",
            "63/63 [==============================] - 5s 68ms/step - loss: 0.4039 - accuracy: 0.8150 - val_loss: 0.4373 - val_accuracy: 0.8050\n",
            "Epoch 26/100\n",
            "63/63 [==============================] - 5s 68ms/step - loss: 0.4075 - accuracy: 0.8125 - val_loss: 0.6357 - val_accuracy: 0.7850\n",
            "Epoch 27/100\n",
            "63/63 [==============================] - 5s 70ms/step - loss: 0.3976 - accuracy: 0.8275 - val_loss: 0.5688 - val_accuracy: 0.7450\n",
            "Epoch 28/100\n",
            "63/63 [==============================] - 5s 68ms/step - loss: 0.3922 - accuracy: 0.8220 - val_loss: 0.4452 - val_accuracy: 0.7950\n",
            "Epoch 29/100\n",
            "63/63 [==============================] - 5s 69ms/step - loss: 0.3808 - accuracy: 0.8340 - val_loss: 0.4762 - val_accuracy: 0.7660\n",
            "Epoch 30/100\n",
            "63/63 [==============================] - 5s 69ms/step - loss: 0.3725 - accuracy: 0.8325 - val_loss: 0.5004 - val_accuracy: 0.8090\n",
            "Epoch 31/100\n",
            "63/63 [==============================] - 5s 70ms/step - loss: 0.3667 - accuracy: 0.8390 - val_loss: 0.6082 - val_accuracy: 0.7470\n",
            "Epoch 32/100\n",
            "63/63 [==============================] - 5s 70ms/step - loss: 0.3540 - accuracy: 0.8430 - val_loss: 0.4914 - val_accuracy: 0.7750\n",
            "Epoch 33/100\n",
            "63/63 [==============================] - 5s 70ms/step - loss: 0.3499 - accuracy: 0.8415 - val_loss: 0.3855 - val_accuracy: 0.8250\n",
            "Epoch 34/100\n",
            "63/63 [==============================] - 5s 69ms/step - loss: 0.3332 - accuracy: 0.8505 - val_loss: 0.4469 - val_accuracy: 0.8260\n",
            "Epoch 35/100\n",
            "63/63 [==============================] - 5s 69ms/step - loss: 0.3417 - accuracy: 0.8535 - val_loss: 0.4655 - val_accuracy: 0.8010\n",
            "Epoch 36/100\n",
            "63/63 [==============================] - 5s 68ms/step - loss: 0.3223 - accuracy: 0.8680 - val_loss: 0.4287 - val_accuracy: 0.8330\n",
            "Epoch 37/100\n",
            "63/63 [==============================] - 5s 68ms/step - loss: 0.3116 - accuracy: 0.8620 - val_loss: 0.4737 - val_accuracy: 0.8480\n",
            "Epoch 38/100\n",
            "63/63 [==============================] - 5s 82ms/step - loss: 0.3252 - accuracy: 0.8655 - val_loss: 0.4888 - val_accuracy: 0.7970\n",
            "Epoch 39/100\n",
            "63/63 [==============================] - 5s 70ms/step - loss: 0.3142 - accuracy: 0.8695 - val_loss: 0.4016 - val_accuracy: 0.8400\n",
            "Epoch 40/100\n",
            "63/63 [==============================] - 5s 68ms/step - loss: 0.3090 - accuracy: 0.8795 - val_loss: 0.4924 - val_accuracy: 0.8400\n",
            "Epoch 41/100\n",
            "63/63 [==============================] - 5s 68ms/step - loss: 0.3042 - accuracy: 0.8760 - val_loss: 0.3908 - val_accuracy: 0.8250\n",
            "Epoch 42/100\n",
            "63/63 [==============================] - 5s 69ms/step - loss: 0.2906 - accuracy: 0.8820 - val_loss: 0.4609 - val_accuracy: 0.8410\n",
            "Epoch 43/100\n",
            "63/63 [==============================] - 5s 70ms/step - loss: 0.3165 - accuracy: 0.8685 - val_loss: 0.4335 - val_accuracy: 0.8370\n",
            "Epoch 44/100\n",
            "63/63 [==============================] - 5s 69ms/step - loss: 0.2915 - accuracy: 0.8840 - val_loss: 0.6425 - val_accuracy: 0.7770\n",
            "Epoch 45/100\n",
            "63/63 [==============================] - 5s 69ms/step - loss: 0.2881 - accuracy: 0.8770 - val_loss: 0.4503 - val_accuracy: 0.8440\n",
            "Epoch 46/100\n",
            "63/63 [==============================] - 5s 70ms/step - loss: 0.2675 - accuracy: 0.8835 - val_loss: 0.5550 - val_accuracy: 0.7920\n",
            "Epoch 47/100\n",
            "63/63 [==============================] - 5s 69ms/step - loss: 0.2675 - accuracy: 0.8925 - val_loss: 0.6050 - val_accuracy: 0.7960\n",
            "Epoch 48/100\n",
            "63/63 [==============================] - 5s 69ms/step - loss: 0.2683 - accuracy: 0.9000 - val_loss: 1.3544 - val_accuracy: 0.7610\n",
            "Epoch 49/100\n",
            "63/63 [==============================] - 5s 68ms/step - loss: 0.2414 - accuracy: 0.8985 - val_loss: 0.5736 - val_accuracy: 0.7930\n",
            "Epoch 50/100\n",
            "63/63 [==============================] - 5s 68ms/step - loss: 0.2764 - accuracy: 0.8920 - val_loss: 0.4887 - val_accuracy: 0.8360\n",
            "Epoch 51/100\n",
            "63/63 [==============================] - 5s 68ms/step - loss: 0.2422 - accuracy: 0.8985 - val_loss: 0.6520 - val_accuracy: 0.8110\n",
            "Epoch 52/100\n",
            "63/63 [==============================] - 5s 68ms/step - loss: 0.2495 - accuracy: 0.9040 - val_loss: 0.5248 - val_accuracy: 0.8280\n",
            "Epoch 53/100\n",
            "63/63 [==============================] - 5s 69ms/step - loss: 0.2448 - accuracy: 0.9070 - val_loss: 0.4816 - val_accuracy: 0.8200\n",
            "Epoch 54/100\n",
            "63/63 [==============================] - 5s 70ms/step - loss: 0.2665 - accuracy: 0.9015 - val_loss: 0.5579 - val_accuracy: 0.8130\n",
            "Epoch 55/100\n",
            "63/63 [==============================] - 5s 69ms/step - loss: 0.2573 - accuracy: 0.9040 - val_loss: 0.5473 - val_accuracy: 0.8130\n",
            "Epoch 56/100\n",
            "63/63 [==============================] - 5s 71ms/step - loss: 0.2398 - accuracy: 0.9030 - val_loss: 0.6496 - val_accuracy: 0.8050\n",
            "Epoch 57/100\n",
            "63/63 [==============================] - 5s 68ms/step - loss: 0.2456 - accuracy: 0.9030 - val_loss: 0.4603 - val_accuracy: 0.8470\n",
            "Epoch 58/100\n",
            "63/63 [==============================] - 5s 68ms/step - loss: 0.2476 - accuracy: 0.8975 - val_loss: 0.4160 - val_accuracy: 0.8670\n",
            "Epoch 59/100\n",
            "63/63 [==============================] - 5s 68ms/step - loss: 0.2235 - accuracy: 0.9100 - val_loss: 0.5220 - val_accuracy: 0.8320\n",
            "Epoch 60/100\n",
            "63/63 [==============================] - 5s 69ms/step - loss: 0.2523 - accuracy: 0.9095 - val_loss: 0.4278 - val_accuracy: 0.8500\n",
            "Epoch 61/100\n",
            "63/63 [==============================] - 5s 68ms/step - loss: 0.2162 - accuracy: 0.9110 - val_loss: 0.6611 - val_accuracy: 0.8100\n",
            "Epoch 62/100\n",
            "63/63 [==============================] - 5s 69ms/step - loss: 0.2150 - accuracy: 0.9185 - val_loss: 0.7820 - val_accuracy: 0.7890\n",
            "Epoch 63/100\n",
            "63/63 [==============================] - 5s 70ms/step - loss: 0.2385 - accuracy: 0.9080 - val_loss: 0.4519 - val_accuracy: 0.8640\n",
            "Epoch 64/100\n",
            "63/63 [==============================] - 5s 69ms/step - loss: 0.2126 - accuracy: 0.9160 - val_loss: 0.4632 - val_accuracy: 0.8590\n",
            "Epoch 65/100\n",
            "63/63 [==============================] - 5s 69ms/step - loss: 0.2372 - accuracy: 0.9120 - val_loss: 0.4823 - val_accuracy: 0.8480\n",
            "Epoch 66/100\n",
            "63/63 [==============================] - 5s 68ms/step - loss: 0.2050 - accuracy: 0.9250 - val_loss: 0.5058 - val_accuracy: 0.8750\n",
            "Epoch 67/100\n",
            "63/63 [==============================] - 5s 68ms/step - loss: 0.2067 - accuracy: 0.9175 - val_loss: 0.4360 - val_accuracy: 0.8570\n",
            "Epoch 68/100\n",
            "63/63 [==============================] - 4s 67ms/step - loss: 0.2189 - accuracy: 0.9180 - val_loss: 0.4464 - val_accuracy: 0.8530\n",
            "Epoch 69/100\n",
            "63/63 [==============================] - 5s 82ms/step - loss: 0.2104 - accuracy: 0.9285 - val_loss: 0.6860 - val_accuracy: 0.8120\n",
            "Epoch 70/100\n",
            "63/63 [==============================] - 5s 68ms/step - loss: 0.2092 - accuracy: 0.9190 - val_loss: 0.6980 - val_accuracy: 0.7970\n",
            "Epoch 71/100\n",
            "63/63 [==============================] - 5s 69ms/step - loss: 0.1929 - accuracy: 0.9275 - val_loss: 0.5145 - val_accuracy: 0.8420\n",
            "Epoch 72/100\n",
            "63/63 [==============================] - 5s 69ms/step - loss: 0.1982 - accuracy: 0.9225 - val_loss: 0.4276 - val_accuracy: 0.8720\n",
            "Epoch 73/100\n",
            "63/63 [==============================] - 5s 69ms/step - loss: 0.1938 - accuracy: 0.9290 - val_loss: 0.4846 - val_accuracy: 0.8570\n",
            "Epoch 74/100\n",
            "63/63 [==============================] - 5s 68ms/step - loss: 0.2050 - accuracy: 0.9240 - val_loss: 0.5826 - val_accuracy: 0.8080\n",
            "Epoch 75/100\n",
            "63/63 [==============================] - 5s 68ms/step - loss: 0.1978 - accuracy: 0.9275 - val_loss: 0.5727 - val_accuracy: 0.8290\n",
            "Epoch 76/100\n",
            "63/63 [==============================] - 5s 69ms/step - loss: 0.2184 - accuracy: 0.9220 - val_loss: 0.5633 - val_accuracy: 0.8340\n",
            "Epoch 77/100\n",
            "63/63 [==============================] - 5s 69ms/step - loss: 0.1885 - accuracy: 0.9350 - val_loss: 0.7526 - val_accuracy: 0.7970\n",
            "Epoch 78/100\n",
            "63/63 [==============================] - 5s 68ms/step - loss: 0.1905 - accuracy: 0.9235 - val_loss: 0.6262 - val_accuracy: 0.8260\n",
            "Epoch 79/100\n",
            "63/63 [==============================] - 5s 69ms/step - loss: 0.1943 - accuracy: 0.9225 - val_loss: 0.6102 - val_accuracy: 0.8340\n",
            "Epoch 80/100\n",
            "63/63 [==============================] - 5s 69ms/step - loss: 0.1924 - accuracy: 0.9315 - val_loss: 0.6322 - val_accuracy: 0.8510\n",
            "Epoch 81/100\n",
            "63/63 [==============================] - 5s 69ms/step - loss: 0.1879 - accuracy: 0.9320 - val_loss: 0.6982 - val_accuracy: 0.8310\n",
            "Epoch 82/100\n",
            "63/63 [==============================] - 5s 69ms/step - loss: 0.2077 - accuracy: 0.9270 - val_loss: 0.4933 - val_accuracy: 0.8570\n",
            "Epoch 83/100\n",
            "63/63 [==============================] - 5s 68ms/step - loss: 0.1792 - accuracy: 0.9310 - val_loss: 0.5458 - val_accuracy: 0.8630\n",
            "Epoch 84/100\n",
            "63/63 [==============================] - 5s 68ms/step - loss: 0.2137 - accuracy: 0.9270 - val_loss: 0.5508 - val_accuracy: 0.8240\n",
            "Epoch 85/100\n",
            "63/63 [==============================] - 5s 69ms/step - loss: 0.1809 - accuracy: 0.9365 - val_loss: 0.4236 - val_accuracy: 0.8670\n",
            "Epoch 86/100\n",
            "63/63 [==============================] - 5s 69ms/step - loss: 0.1759 - accuracy: 0.9435 - val_loss: 0.8203 - val_accuracy: 0.8290\n",
            "Epoch 87/100\n",
            "63/63 [==============================] - 5s 68ms/step - loss: 0.2251 - accuracy: 0.9250 - val_loss: 0.4877 - val_accuracy: 0.8690\n",
            "Epoch 88/100\n",
            "63/63 [==============================] - 5s 69ms/step - loss: 0.2414 - accuracy: 0.9195 - val_loss: 0.4843 - val_accuracy: 0.8470\n",
            "Epoch 89/100\n",
            "63/63 [==============================] - 5s 68ms/step - loss: 0.1907 - accuracy: 0.9305 - val_loss: 0.4422 - val_accuracy: 0.8500\n",
            "Epoch 90/100\n",
            "63/63 [==============================] - 5s 69ms/step - loss: 0.1792 - accuracy: 0.9360 - val_loss: 0.6875 - val_accuracy: 0.8530\n",
            "Epoch 91/100\n",
            "63/63 [==============================] - 5s 68ms/step - loss: 0.1959 - accuracy: 0.9340 - val_loss: 0.6778 - val_accuracy: 0.8650\n",
            "Epoch 92/100\n",
            "63/63 [==============================] - 4s 68ms/step - loss: 0.2112 - accuracy: 0.9300 - val_loss: 0.7625 - val_accuracy: 0.8420\n",
            "Epoch 93/100\n",
            "63/63 [==============================] - 5s 68ms/step - loss: 0.1817 - accuracy: 0.9420 - val_loss: 0.8876 - val_accuracy: 0.8230\n",
            "Epoch 94/100\n",
            "63/63 [==============================] - 5s 69ms/step - loss: 0.2069 - accuracy: 0.9310 - val_loss: 0.4510 - val_accuracy: 0.8520\n",
            "Epoch 95/100\n",
            "63/63 [==============================] - 5s 68ms/step - loss: 0.1705 - accuracy: 0.9430 - val_loss: 0.6963 - val_accuracy: 0.8360\n",
            "Epoch 96/100\n",
            "63/63 [==============================] - 5s 70ms/step - loss: 0.2128 - accuracy: 0.9290 - val_loss: 0.7734 - val_accuracy: 0.8290\n",
            "Epoch 97/100\n",
            "63/63 [==============================] - 5s 69ms/step - loss: 0.1890 - accuracy: 0.9320 - val_loss: 0.5576 - val_accuracy: 0.8480\n",
            "Epoch 98/100\n",
            "63/63 [==============================] - 5s 69ms/step - loss: 0.1835 - accuracy: 0.9360 - val_loss: 0.4587 - val_accuracy: 0.8670\n",
            "Epoch 99/100\n",
            "63/63 [==============================] - 5s 68ms/step - loss: 0.2371 - accuracy: 0.9160 - val_loss: 0.5824 - val_accuracy: 0.8710\n",
            "Epoch 100/100\n",
            "63/63 [==============================] - 5s 68ms/step - loss: 0.1838 - accuracy: 0.9425 - val_loss: 0.5937 - val_accuracy: 0.8720\n"
          ]
        }
      ]
    },
    {
      "cell_type": "code",
      "source": [
        "import matplotlib.pyplot as plt\n",
        "epochs = range(1, 101)\n",
        "plt.plot(epochs, trainin_history.history[\"accuracy\"], label=\"Training Accuracy\")\n",
        "plt.plot(epochs, trainin_history.history[\"val_accuracy\"], label=\"Validation Accuracy\")\n",
        "plt.legend()\n",
        "plt.xlabel(\"epochs\")\n",
        "plt.ylabel(\"accuracy\")\n",
        "plt.title(\"Training and Validation Accuracy\")\n",
        "\n",
        "plt.figure()\n",
        "plt.plot(epochs, trainin_history.history[\"loss\"], label=\"Training Loss\")\n",
        "plt.plot(epochs, trainin_history.history[\"val_loss\"], label=\"Validation Loss\")\n",
        "plt.legend()\n",
        "plt.xlabel(\"epochs\")\n",
        "plt.ylabel(\"loss\")\n",
        "plt.title(\"Training and Validation Loss\")\n",
        "\n",
        "plt.show()"
      ],
      "metadata": {
        "colab": {
          "base_uri": "https://localhost:8080/",
          "height": 594
        },
        "id": "B2G-rLqY3pAl",
        "outputId": "567f7439-54a1-4d30-92a8-ea9746802088"
      },
      "execution_count": 59,
      "outputs": [
        {
          "output_type": "display_data",
          "data": {
            "text/plain": [
              "<Figure size 432x288 with 1 Axes>"
            ],
            "image/png": "[encoded data removed]"
          },
          "metadata": {
            "needs_background": "light"
          }
        },
        {
          "output_type": "display_data",
          "data": {
            "text/plain": [
              "<Figure size 432x288 with 1 Axes>"
            ],
            "image/png": "[encoded data removed]"
          },
          "metadata": {
            "needs_background": "light"
          }
        }
      ]
    }
  ]
}