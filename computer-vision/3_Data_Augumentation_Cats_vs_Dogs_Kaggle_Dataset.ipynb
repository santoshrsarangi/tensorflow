{
  "nbformat": 4,
  "nbformat_minor": 0,
  "metadata": {
    "colab": {
      "provenance": [],
      "authorship_tag": "ABX9TyOnrAh3lXACpSTP/vziJyKu",
      "include_colab_link": true
    },
    "kernelspec": {
      "name": "python3",
      "display_name": "Python 3"
    },
    "language_info": {
      "name": "python"
    },
    "accelerator": "GPU",
    "gpuClass": "standard"
  },
  "cells": [
    {
      "cell_type": "markdown",
      "metadata": {
        "id": "view-in-github",
        "colab_type": "text"
      },
      "source": [
        "<a href=\"https://colab.research.google.com/github/santoshrsarangi/tensorflow/blob/main/computer-vision/3_Data_Augumentation_Cats_vs_Dogs_Kaggle_Dataset.ipynb\" target=\"_parent\"><img src=\"https://colab.research.google.com/assets/colab-badge.svg\" alt=\"Open In Colab\"/></a>"
      ]
    },
    {
      "cell_type": "markdown",
      "source": [
        "For this exercise we will be working with the Dogs vs Cats dataset available in Kaggle. Do login to your Kaggle account (and if you dont have one then you can create it easily). Download your Kaggle API keys to local system and then continue here. Step 1: upload API keys to colab environment"
      ],
      "metadata": {
        "id": "5pmzyGzQqpvF"
      }
    },
    {
      "cell_type": "code",
      "source": [
        "!mkdir ~/.kaggle"
      ],
      "metadata": {
        "id": "PaDepyLVrTIW"
      },
      "execution_count": 3,
      "outputs": []
    },
    {
      "cell_type": "code",
      "source": [
        "!cp kaggle.json ~/.kaggle/"
      ],
      "metadata": {
        "id": "W5qMrPAxsMsc"
      },
      "execution_count": 4,
      "outputs": []
    },
    {
      "cell_type": "code",
      "source": [
        "# Change access to your Kaggle API so only current account has access to read/write\n",
        "!chmod 600 ~/.kaggle/kaggle.json"
      ],
      "metadata": {
        "id": "F5k2liYGspgx"
      },
      "execution_count": 5,
      "outputs": []
    },
    {
      "cell_type": "code",
      "source": [
        "!kaggle competitions download -c dogs-vs-cats"
      ],
      "metadata": {
        "id": "7JgpNAAttRLx",
        "colab": {
          "base_uri": "https://localhost:8080/"
        },
        "outputId": "f53b4ce2-d78f-4964-bb1d-9c711c0d7d24"
      },
      "execution_count": 6,
      "outputs": [
        {
          "output_type": "stream",
          "name": "stdout",
          "text": [
            "Downloading dogs-vs-cats.zip to /content\n",
            " 99% 802M/812M [00:14<00:00, 83.0MB/s]\n",
            "100% 812M/812M [00:14<00:00, 59.1MB/s]\n"
          ]
        }
      ]
    },
    {
      "cell_type": "code",
      "source": [
        "!unzip --qq dogs-vs-cats.zip"
      ],
      "metadata": {
        "id": "9MX06-qSHFDj"
      },
      "execution_count": 7,
      "outputs": []
    },
    {
      "cell_type": "code",
      "source": [
        "!unzip --qq train.zip"
      ],
      "metadata": {
        "id": "vo88G-DVHdi7"
      },
      "execution_count": 8,
      "outputs": []
    },
    {
      "cell_type": "code",
      "source": [
        "!unzip --qq test1.zip"
      ],
      "metadata": {
        "id": "PNTU_syfIGxn"
      },
      "execution_count": 9,
      "outputs": []
    },
    {
      "cell_type": "code",
      "source": [
        "import os, shutil, pathlib"
      ],
      "metadata": {
        "id": "BHROTJAhJju0"
      },
      "execution_count": 10,
      "outputs": []
    },
    {
      "cell_type": "code",
      "source": [
        "original_dir = pathlib.Path(\"train\")\n",
        "new_dir = pathlib.Path(\"cats_vs_dogs\")"
      ],
      "metadata": {
        "id": "xiO2AjoZJuNm"
      },
      "execution_count": 11,
      "outputs": []
    },
    {
      "cell_type": "code",
      "source": [
        "def create_folder_structure(name, start_index, end_index):\n",
        "\n",
        "  for category in (\"cat\", \"dog\"):\n",
        "\n",
        "    dir=new_dir / name / category\n",
        "    os.makedirs(dir)\n",
        "\n",
        "    file_names = [f\"{category}.{i}.jpg\" for i in range(start_index, end_index)]\n",
        "\n",
        "    for files in file_names:\n",
        "      shutil.copyfile(src=original_dir / files, dst=dir / files)"
      ],
      "metadata": {
        "id": "6V56cqjyJ9cc"
      },
      "execution_count": 12,
      "outputs": []
    },
    {
      "cell_type": "code",
      "source": [
        "create_folder_structure(\"train\", start_index=0,end_index = 1000)\n",
        "create_folder_structure(\"validation\", start_index=1000, end_index=1500)\n",
        "create_folder_structure(\"test\", start_index=1500, end_index=2500 )"
      ],
      "metadata": {
        "id": "Exex7rDWN9-t"
      },
      "execution_count": 13,
      "outputs": []
    },
    {
      "cell_type": "code",
      "source": [
        "import tensorflow as tf\n",
        "from tensorflow import keras\n",
        "from keras import layers"
      ],
      "metadata": {
        "id": "OLTFi9qbhUk-"
      },
      "execution_count": 27,
      "outputs": []
    },
    {
      "cell_type": "code",
      "source": [
        "def getmodel():\n",
        "\n",
        "  inputs = keras.Input(shape=(180, 180, 3))\n",
        "\n",
        "  #rescale the image to 1 - 255\n",
        "  x = layers.Rescaling(scale=1./255)(inputs)\n",
        "\n",
        "  x = layers.Conv2D(filters=32, activation=\"relu\", kernel_size=3) (x)\n",
        "  x = layers.MaxPool2D(pool_size=(2,2))(x)\n",
        "\n",
        "  x = layers.Conv2D(filters=64, activation=\"relu\", kernel_size=3) (x)\n",
        "  x = layers.MaxPool2D(pool_size=(2,2))(x)\n",
        "\n",
        "  x = layers.Conv2D(filters=128, activation=\"relu\", kernel_size=3) (x)\n",
        "  x = layers.MaxPool2D(pool_size=(2,2))(x)\n",
        "\n",
        "  x = layers.Conv2D(filters=256, activation=\"relu\", kernel_size=3) (x)\n",
        "  x = layers.MaxPool2D(pool_size=(2,2))(x)\n",
        "\n",
        "  x = layers.Conv2D(filters=256, activation=\"relu\", kernel_size=3) (x)\n",
        "  \n",
        "  x = layers.Flatten()(x)\n",
        "\n",
        "  outputs = layers.Dense(1, activation=\"sigmoid\")(x)\n",
        "\n",
        "  model = keras.Model(inputs, outputs)\n",
        "\n",
        "  model.compile(optimizer=\"rmsprop\",\n",
        "                loss=\"binary_crossentropy\",\n",
        "                metrics = [\"accuracy\"])\n",
        "  \n",
        "  return model"
      ],
      "metadata": {
        "id": "tmZ1FN-jiA-e"
      },
      "execution_count": 15,
      "outputs": []
    },
    {
      "cell_type": "code",
      "source": [
        "model = getmodel()\n",
        "model.summary()"
      ],
      "metadata": {
        "id": "3kpZgw68j48P",
        "outputId": "fbdd3ec8-7762-43bc-d5c9-07a283d27b2b",
        "colab": {
          "base_uri": "https://localhost:8080/"
        }
      },
      "execution_count": 16,
      "outputs": [
        {
          "output_type": "stream",
          "name": "stdout",
          "text": [
            "Model: \"model\"\n",
            "_________________________________________________________________\n",
            " Layer (type)                Output Shape              Param #   \n",
            "=================================================================\n",
            " input_1 (InputLayer)        [(None, 180, 180, 3)]     0         \n",
            "                                                                 \n",
            " rescaling (Rescaling)       (None, 180, 180, 3)       0         \n",
            "                                                                 \n",
            " conv2d (Conv2D)             (None, 178, 178, 32)      896       \n",
            "                                                                 \n",
            " max_pooling2d (MaxPooling2D  (None, 89, 89, 32)       0         \n",
            " )                                                               \n",
            "                                                                 \n",
            " conv2d_1 (Conv2D)           (None, 87, 87, 64)        18496     \n",
            "                                                                 \n",
            " max_pooling2d_1 (MaxPooling  (None, 43, 43, 64)       0         \n",
            " 2D)                                                             \n",
            "                                                                 \n",
            " conv2d_2 (Conv2D)           (None, 41, 41, 128)       73856     \n",
            "                                                                 \n",
            " max_pooling2d_2 (MaxPooling  (None, 20, 20, 128)      0         \n",
            " 2D)                                                             \n",
            "                                                                 \n",
            " conv2d_3 (Conv2D)           (None, 18, 18, 256)       295168    \n",
            "                                                                 \n",
            " max_pooling2d_3 (MaxPooling  (None, 9, 9, 256)        0         \n",
            " 2D)                                                             \n",
            "                                                                 \n",
            " conv2d_4 (Conv2D)           (None, 7, 7, 256)         590080    \n",
            "                                                                 \n",
            " flatten (Flatten)           (None, 12544)             0         \n",
            "                                                                 \n",
            " dense (Dense)               (None, 1)                 12545     \n",
            "                                                                 \n",
            "=================================================================\n",
            "Total params: 991,041\n",
            "Trainable params: 991,041\n",
            "Non-trainable params: 0\n",
            "_________________________________________________________________\n"
          ]
        }
      ]
    },
    {
      "cell_type": "code",
      "source": [
        "from keras import utils\n",
        "from tensorflow.keras.utils import image_dataset_from_directory"
      ],
      "metadata": {
        "id": "-QXNSaHoZgqL"
      },
      "execution_count": 31,
      "outputs": []
    },
    {
      "cell_type": "code",
      "source": [
        "train_dataset = image_dataset_from_directory(new_dir / \"train\", batch_size=32, image_size=(180, 180))"
      ],
      "metadata": {
        "id": "T9MCPS7lZzP3",
        "outputId": "b657566a-6c89-4e47-efdb-07bf5dab1e61",
        "colab": {
          "base_uri": "https://localhost:8080/"
        }
      },
      "execution_count": 18,
      "outputs": [
        {
          "output_type": "stream",
          "name": "stdout",
          "text": [
            "Found 2000 files belonging to 2 classes.\n"
          ]
        }
      ]
    },
    {
      "cell_type": "code",
      "source": [
        "validation_dataset = image_dataset_from_directory(new_dir / \"validation\", batch_size=32, image_size=(180, 180))"
      ],
      "metadata": {
        "id": "s6FdoEdMaR22",
        "outputId": "d777a177-c639-41ea-bc11-1621569d14aa",
        "colab": {
          "base_uri": "https://localhost:8080/"
        }
      },
      "execution_count": 19,
      "outputs": [
        {
          "output_type": "stream",
          "name": "stdout",
          "text": [
            "Found 1000 files belonging to 2 classes.\n"
          ]
        }
      ]
    },
    {
      "cell_type": "code",
      "source": [
        "test_dataset = image_dataset_from_directory(new_dir / \"test\", batch_size=32, image_size=(180, 180))"
      ],
      "metadata": {
        "id": "3KL0-0djagqr",
        "outputId": "7bf920ff-c099-45b1-d84b-311eb1b034f8",
        "colab": {
          "base_uri": "https://localhost:8080/"
        }
      },
      "execution_count": 20,
      "outputs": [
        {
          "output_type": "stream",
          "name": "stdout",
          "text": [
            "Found 2000 files belonging to 2 classes.\n"
          ]
        }
      ]
    },
    {
      "cell_type": "code",
      "source": [
        "it = iter(train_dataset)\n",
        "\n",
        "d, l = next(it)"
      ],
      "metadata": {
        "id": "9z6YUOHymzuc"
      },
      "execution_count": 21,
      "outputs": []
    },
    {
      "cell_type": "code",
      "source": [
        "d.shape"
      ],
      "metadata": {
        "colab": {
          "base_uri": "https://localhost:8080/"
        },
        "id": "4-sZdhYynqIg",
        "outputId": "725157e9-72bc-4894-9dbc-7c58d390917d"
      },
      "execution_count": 22,
      "outputs": [
        {
          "output_type": "execute_result",
          "data": {
            "text/plain": [
              "TensorShape([32, 180, 180, 3])"
            ]
          },
          "metadata": {},
          "execution_count": 22
        }
      ]
    },
    {
      "cell_type": "code",
      "source": [
        "l.shape"
      ],
      "metadata": {
        "colab": {
          "base_uri": "https://localhost:8080/"
        },
        "id": "YuraOWARntND",
        "outputId": "fb5f4cc1-4399-48ce-81b0-f87756304f6a"
      },
      "execution_count": 23,
      "outputs": [
        {
          "output_type": "execute_result",
          "data": {
            "text/plain": [
              "TensorShape([32])"
            ]
          },
          "metadata": {},
          "execution_count": 23
        }
      ]
    },
    {
      "cell_type": "code",
      "source": [
        "mycallbacks = [keras.callbacks.ModelCheckpoint(filepath=\"cats_vs_dogs.keras\", monitor=\"val_loss\", save_best_only=True)]"
      ],
      "metadata": {
        "id": "erCG6Oc6j4yE"
      },
      "execution_count": 25,
      "outputs": []
    },
    {
      "cell_type": "code",
      "source": [
        "trainin_history = model.fit(train_dataset, epochs=30, validation_data=validation_dataset, callbacks=mycallbacks)"
      ],
      "metadata": {
        "colab": {
          "base_uri": "https://localhost:8080/"
        },
        "id": "7ZaDXymxka_h",
        "outputId": "bed288d7-41ee-4b37-ab02-ddab0bceba6c"
      },
      "execution_count": 26,
      "outputs": [
        {
          "output_type": "stream",
          "name": "stdout",
          "text": [
            "Epoch 1/30\n",
            "63/63 [==============================] - 19s 79ms/step - loss: 0.7155 - accuracy: 0.5040 - val_loss: 0.6918 - val_accuracy: 0.5010\n",
            "Epoch 2/30\n",
            "63/63 [==============================] - 5s 69ms/step - loss: 0.6932 - accuracy: 0.5485 - val_loss: 0.6683 - val_accuracy: 0.5890\n",
            "Epoch 3/30\n",
            "63/63 [==============================] - 5s 68ms/step - loss: 0.6766 - accuracy: 0.6105 - val_loss: 0.6367 - val_accuracy: 0.6510\n",
            "Epoch 4/30\n",
            "63/63 [==============================] - 5s 69ms/step - loss: 0.6280 - accuracy: 0.6530 - val_loss: 0.6102 - val_accuracy: 0.6660\n",
            "Epoch 5/30\n",
            "63/63 [==============================] - 5s 69ms/step - loss: 0.5837 - accuracy: 0.7040 - val_loss: 0.5943 - val_accuracy: 0.6870\n",
            "Epoch 6/30\n",
            "63/63 [==============================] - 5s 69ms/step - loss: 0.5401 - accuracy: 0.7265 - val_loss: 0.6261 - val_accuracy: 0.6550\n",
            "Epoch 7/30\n",
            "63/63 [==============================] - 5s 69ms/step - loss: 0.4851 - accuracy: 0.7700 - val_loss: 0.7610 - val_accuracy: 0.6310\n",
            "Epoch 8/30\n",
            "63/63 [==============================] - 5s 68ms/step - loss: 0.4673 - accuracy: 0.7780 - val_loss: 0.6231 - val_accuracy: 0.7360\n",
            "Epoch 9/30\n",
            "63/63 [==============================] - 5s 69ms/step - loss: 0.3960 - accuracy: 0.8210 - val_loss: 0.5794 - val_accuracy: 0.7260\n",
            "Epoch 10/30\n",
            "63/63 [==============================] - 5s 70ms/step - loss: 0.3624 - accuracy: 0.8405 - val_loss: 0.5676 - val_accuracy: 0.7460\n",
            "Epoch 11/30\n",
            "63/63 [==============================] - 5s 69ms/step - loss: 0.3112 - accuracy: 0.8615 - val_loss: 0.5833 - val_accuracy: 0.7650\n",
            "Epoch 12/30\n",
            "63/63 [==============================] - 5s 70ms/step - loss: 0.2561 - accuracy: 0.8925 - val_loss: 0.8899 - val_accuracy: 0.7470\n",
            "Epoch 13/30\n",
            "63/63 [==============================] - 5s 72ms/step - loss: 0.2137 - accuracy: 0.9185 - val_loss: 0.6957 - val_accuracy: 0.7650\n",
            "Epoch 14/30\n",
            "63/63 [==============================] - 5s 68ms/step - loss: 0.1835 - accuracy: 0.9270 - val_loss: 0.7689 - val_accuracy: 0.7390\n",
            "Epoch 15/30\n",
            "63/63 [==============================] - 5s 68ms/step - loss: 0.1408 - accuracy: 0.9480 - val_loss: 0.8079 - val_accuracy: 0.7420\n",
            "Epoch 16/30\n",
            "63/63 [==============================] - 5s 68ms/step - loss: 0.1380 - accuracy: 0.9540 - val_loss: 1.4380 - val_accuracy: 0.7180\n",
            "Epoch 17/30\n",
            "63/63 [==============================] - 5s 68ms/step - loss: 0.1079 - accuracy: 0.9645 - val_loss: 1.2129 - val_accuracy: 0.7130\n",
            "Epoch 18/30\n",
            "63/63 [==============================] - 4s 67ms/step - loss: 0.1069 - accuracy: 0.9620 - val_loss: 1.2136 - val_accuracy: 0.7570\n",
            "Epoch 19/30\n",
            "63/63 [==============================] - 5s 70ms/step - loss: 0.0902 - accuracy: 0.9700 - val_loss: 1.1937 - val_accuracy: 0.7510\n",
            "Epoch 20/30\n",
            "63/63 [==============================] - 5s 83ms/step - loss: 0.0540 - accuracy: 0.9815 - val_loss: 1.5827 - val_accuracy: 0.7200\n",
            "Epoch 21/30\n",
            "63/63 [==============================] - 5s 69ms/step - loss: 0.0646 - accuracy: 0.9805 - val_loss: 1.5249 - val_accuracy: 0.7310\n",
            "Epoch 22/30\n",
            "63/63 [==============================] - 4s 67ms/step - loss: 0.1055 - accuracy: 0.9655 - val_loss: 1.5314 - val_accuracy: 0.7500\n",
            "Epoch 23/30\n",
            "63/63 [==============================] - 4s 67ms/step - loss: 0.0561 - accuracy: 0.9845 - val_loss: 1.6921 - val_accuracy: 0.7400\n",
            "Epoch 24/30\n",
            "63/63 [==============================] - 4s 67ms/step - loss: 0.0397 - accuracy: 0.9875 - val_loss: 1.6595 - val_accuracy: 0.7260\n",
            "Epoch 25/30\n",
            "63/63 [==============================] - 4s 67ms/step - loss: 0.0767 - accuracy: 0.9790 - val_loss: 1.6547 - val_accuracy: 0.7380\n",
            "Epoch 26/30\n",
            "63/63 [==============================] - 4s 67ms/step - loss: 0.0527 - accuracy: 0.9835 - val_loss: 2.3778 - val_accuracy: 0.7170\n",
            "Epoch 27/30\n",
            "63/63 [==============================] - 4s 68ms/step - loss: 0.0597 - accuracy: 0.9825 - val_loss: 1.7455 - val_accuracy: 0.7440\n",
            "Epoch 28/30\n",
            "63/63 [==============================] - 4s 67ms/step - loss: 0.0521 - accuracy: 0.9880 - val_loss: 2.1196 - val_accuracy: 0.7600\n",
            "Epoch 29/30\n",
            "63/63 [==============================] - 4s 66ms/step - loss: 0.0418 - accuracy: 0.9840 - val_loss: 1.9403 - val_accuracy: 0.7370\n",
            "Epoch 30/30\n",
            "63/63 [==============================] - 4s 67ms/step - loss: 0.0427 - accuracy: 0.9865 - val_loss: 1.8891 - val_accuracy: 0.7490\n"
          ]
        }
      ]
    },
    {
      "cell_type": "code",
      "source": [
        "import matplotlib.pyplot as plt\n",
        "epochs = range(1, 31)\n",
        "plt.plot(epochs, trainin_history.history[\"accuracy\"], label=\"Training Accuracy\")\n",
        "plt.plot(epochs, trainin_history.history[\"val_accuracy\"], label=\"Validation Accuracy\")\n",
        "plt.legend()\n",
        "plt.xlabel(\"epochs\")\n",
        "plt.ylabel(\"accuracy\")\n",
        "plt.title(\"Training and Validation Accuracy\")\n",
        "\n",
        "plt.figure()\n",
        "plt.plot(epochs, trainin_history.history[\"loss\"], label=\"Training Loss\")\n",
        "plt.plot(epochs, trainin_history.history[\"val_loss\"], label=\"Validation Loss\")\n",
        "plt.legend()\n",
        "plt.xlabel(\"epochs\")\n",
        "plt.ylabel(\"loss\")\n",
        "plt.title(\"Training and Validation Loss\")\n",
        "\n",
        "plt.show()"
      ],
      "metadata": {
        "colab": {
          "base_uri": "https://localhost:8080/",
          "height": 594
        },
        "id": "y1nqGZl5k2aL",
        "outputId": "3f74749f-c40a-4928-8aec-21194a66e99a"
      },
      "execution_count": 43,
      "outputs": [
        {
          "output_type": "display_data",
          "data": {
            "text/plain": [
              "<Figure size 432x288 with 1 Axes>"
            ],
            "image/png": "[encoded data removed]"
          },
          "metadata": {
            "needs_background": "light"
          }
        },
        {
          "output_type": "display_data",
          "data": {
            "text/plain": [
              "<Figure size 432x288 with 1 Axes>"
            ],
            "image/png": "[encoded data removed]"
          },
          "metadata": {
            "needs_background": "light"
          }
        }
      ]
    },
    {
      "cell_type": "code",
      "source": [
        "#load the model that was saved\n",
        "test_model = keras.models.load_model(\"cats_vs_dogs.keras\")"
      ],
      "metadata": {
        "id": "htT79D1Et-4E"
      },
      "execution_count": 45,
      "outputs": []
    },
    {
      "cell_type": "code",
      "source": [
        "test_loss, test_accuracy = test_model.evaluate(test_dataset)"
      ],
      "metadata": {
        "colab": {
          "base_uri": "https://localhost:8080/"
        },
        "id": "aqto-aaVuVng",
        "outputId": "ec321913-8404-42e7-a49b-5041c02639aa"
      },
      "execution_count": 50,
      "outputs": [
        {
          "output_type": "stream",
          "name": "stdout",
          "text": [
            "63/63 [==============================] - 4s 53ms/step - loss: 0.5920 - accuracy: 0.7320\n"
          ]
        }
      ]
    },
    {
      "cell_type": "code",
      "source": [
        "print(f\"Testing accuracy: {test_accuracy: .4f}\")"
      ],
      "metadata": {
        "colab": {
          "base_uri": "https://localhost:8080/"
        },
        "id": "E7W00ychuhS-",
        "outputId": "1a61d557-f813-4fcd-a13b-5f5e302f1845"
      },
      "execution_count": 55,
      "outputs": [
        {
          "output_type": "stream",
          "name": "stdout",
          "text": [
            "Testing accuracy:  0.7320\n"
          ]
        }
      ]
    },
    {
      "cell_type": "code",
      "source": [
        "print(f\"Testing loss: {test_loss: .3f}\")"
      ],
      "metadata": {
        "colab": {
          "base_uri": "https://localhost:8080/"
        },
        "id": "jQDkpGMBwD_D",
        "outputId": "1a0797fd-e09b-4e66-d9b7-abf73e0eb814"
      },
      "execution_count": 56,
      "outputs": [
        {
          "output_type": "stream",
          "name": "stdout",
          "text": [
            "Testing loss:  0.592\n"
          ]
        }
      ]
    }
  ]
}