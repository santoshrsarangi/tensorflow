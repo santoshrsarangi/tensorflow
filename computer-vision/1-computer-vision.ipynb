{
  "nbformat": 4,
  "nbformat_minor": 0,
  "metadata": {
    "colab": {
      "provenance": [],
      "authorship_tag": "ABX9TyMZ/ZZX2k+adNG2mM/7UjZZ",
      "include_colab_link": true
    },
    "kernelspec": {
      "name": "python3",
      "display_name": "Python 3"
    },
    "language_info": {
      "name": "python"
    },
    "accelerator": "GPU",
    "gpuClass": "standard"
  },
  "cells": [
    {
      "cell_type": "markdown",
      "metadata": {
        "id": "view-in-github",
        "colab_type": "text"
      },
      "source": [
        "<a href=\"https://colab.research.google.com/github/santoshrsarangi/tensorflow/blob/main/computer-vision/1-computer-vision.ipynb\" target=\"_parent\"><img src=\"https://colab.research.google.com/assets/colab-badge.svg\" alt=\"Open In Colab\"/></a>"
      ]
    },
    {
      "cell_type": "code",
      "execution_count": 1,
      "metadata": {
        "id": "3m4IG6so7RAu"
      },
      "outputs": [],
      "source": [
        "import tensorflow as tf\n",
        "from tensorflow import keras\n",
        "from keras.datasets import mnist"
      ]
    },
    {
      "cell_type": "code",
      "source": [
        "(train_data, train_label), (test_data, test_label) = mnist.load_data()"
      ],
      "metadata": {
        "colab": {
          "base_uri": "https://localhost:8080/"
        },
        "id": "hepL-_2zuQS6",
        "outputId": "d7849c03-8a6c-4c04-a4c9-62936bffed6c"
      },
      "execution_count": 2,
      "outputs": [
        {
          "output_type": "stream",
          "name": "stdout",
          "text": [
            "Downloading data from https://storage.googleapis.com/tensorflow/tf-keras-datasets/mnist.npz\n",
            "11493376/11490434 [==============================] - 0s 0us/step\n",
            "11501568/11490434 [==============================] - 0s 0us/step\n"
          ]
        }
      ]
    },
    {
      "cell_type": "code",
      "source": [
        "train_data, test_data = train_data/255., test_data/255."
      ],
      "metadata": {
        "id": "cOFYwP34ubci"
      },
      "execution_count": 3,
      "outputs": []
    },
    {
      "cell_type": "code",
      "source": [
        "def getmodel():\n",
        "\n",
        "  input = keras.Input(shape=(28, 28, 1))\n",
        "  x = keras.layers.Conv2D(filters=32, kernel_size=3, activation=\"relu\")(input)\n",
        "  x = keras.layers.MaxPool2D(pool_size=(2,2))(x)\n",
        "  x = keras.layers.Conv2D(filters=64, kernel_size=3, activation=\"relu\")(x)\n",
        "  x = keras.layers.MaxPool2D(pool_size=(2,2))(x)\n",
        "  x = keras.layers.Conv2D(filters=128, kernel_size=3, activation=\"relu\")(x)\n",
        "  x = keras.layers.MaxPool2D(pool_size=(2,2))(x)\n",
        "  x = keras.layers.Flatten()(x)\n",
        "  output = keras.layers.Dense(units=10, activation=\"softmax\")(x)\n",
        "\n",
        "  model = keras.Model(input, output)\n",
        "\n",
        "  return model"
      ],
      "metadata": {
        "id": "DYjyJVxAun4a"
      },
      "execution_count": 4,
      "outputs": []
    },
    {
      "cell_type": "code",
      "source": [
        "model = getmodel()"
      ],
      "metadata": {
        "id": "Wd-7qcffwr5p"
      },
      "execution_count": 5,
      "outputs": []
    },
    {
      "cell_type": "code",
      "source": [
        "model.summary()"
      ],
      "metadata": {
        "colab": {
          "base_uri": "https://localhost:8080/"
        },
        "id": "sXJdD1kwwuwH",
        "outputId": "41743cde-9981-42c4-c7de-a2719ec9bb67"
      },
      "execution_count": 6,
      "outputs": [
        {
          "output_type": "stream",
          "name": "stdout",
          "text": [
            "Model: \"model\"\n",
            "_________________________________________________________________\n",
            " Layer (type)                Output Shape              Param #   \n",
            "=================================================================\n",
            " input_1 (InputLayer)        [(None, 28, 28, 1)]       0         \n",
            "                                                                 \n",
            " conv2d (Conv2D)             (None, 26, 26, 32)        320       \n",
            "                                                                 \n",
            " max_pooling2d (MaxPooling2D  (None, 13, 13, 32)       0         \n",
            " )                                                               \n",
            "                                                                 \n",
            " conv2d_1 (Conv2D)           (None, 11, 11, 64)        18496     \n",
            "                                                                 \n",
            " max_pooling2d_1 (MaxPooling  (None, 5, 5, 64)         0         \n",
            " 2D)                                                             \n",
            "                                                                 \n",
            " conv2d_2 (Conv2D)           (None, 3, 3, 128)         73856     \n",
            "                                                                 \n",
            " max_pooling2d_2 (MaxPooling  (None, 1, 1, 128)        0         \n",
            " 2D)                                                             \n",
            "                                                                 \n",
            " flatten (Flatten)           (None, 128)               0         \n",
            "                                                                 \n",
            " dense (Dense)               (None, 10)                1290      \n",
            "                                                                 \n",
            "=================================================================\n",
            "Total params: 93,962\n",
            "Trainable params: 93,962\n",
            "Non-trainable params: 0\n",
            "_________________________________________________________________\n"
          ]
        }
      ]
    },
    {
      "cell_type": "code",
      "source": [
        "model.compile(optimizer=\"rmsprop\",\n",
        "              loss = \"sparse_categorical_crossentropy\",\n",
        "              metrics=[\"accuracy\"])"
      ],
      "metadata": {
        "id": "4w11tUmgxFR-"
      },
      "execution_count": 7,
      "outputs": []
    },
    {
      "cell_type": "code",
      "source": [
        "mycallbacks = [keras.callbacks.EarlyStopping(monitor=\"loss\", patience=2, )]"
      ],
      "metadata": {
        "id": "RcxWNgjvxxdh"
      },
      "execution_count": 8,
      "outputs": []
    },
    {
      "cell_type": "code",
      "source": [
        "class mycustomcallback(keras.callbacks.Callback):\n",
        "\n",
        "  def on_epoch_end(self,epochs,logs):\n",
        "    if(logs[\"accuracy\"]>0.99):\n",
        "      print(f\"\\n reached 99% accuracy. Stopping training. Loss at: {logs['loss']}\")\n",
        "      self.model.stop_training=True\n"
      ],
      "metadata": {
        "id": "pPg5LVItcFOd"
      },
      "execution_count": 9,
      "outputs": []
    },
    {
      "cell_type": "code",
      "source": [
        "fithistory = model.fit(train_data, \n",
        "                       train_label, \n",
        "                       validation_data = (test_data, test_label),\n",
        "                       batch_size = 128,\n",
        "                       epochs=20,\n",
        "                       callbacks = mycustomcallback())"
      ],
      "metadata": {
        "colab": {
          "base_uri": "https://localhost:8080/"
        },
        "id": "cPUW3MdWxUcd",
        "outputId": "23f5edf9-6202-469c-9eef-0706c618b2ec"
      },
      "execution_count": 10,
      "outputs": [
        {
          "output_type": "stream",
          "name": "stdout",
          "text": [
            "Epoch 1/20\n",
            "469/469 [==============================] - 15s 6ms/step - loss: 0.3042 - accuracy: 0.9078 - val_loss: 0.1119 - val_accuracy: 0.9647\n",
            "Epoch 2/20\n",
            "469/469 [==============================] - 3s 6ms/step - loss: 0.0876 - accuracy: 0.9730 - val_loss: 0.0639 - val_accuracy: 0.9799\n",
            "Epoch 3/20\n",
            "469/469 [==============================] - 3s 5ms/step - loss: 0.0595 - accuracy: 0.9818 - val_loss: 0.0569 - val_accuracy: 0.9812\n",
            "Epoch 4/20\n",
            "469/469 [==============================] - 3s 5ms/step - loss: 0.0450 - accuracy: 0.9860 - val_loss: 0.0522 - val_accuracy: 0.9831\n",
            "Epoch 5/20\n",
            "469/469 [==============================] - 3s 5ms/step - loss: 0.0367 - accuracy: 0.9888 - val_loss: 0.0421 - val_accuracy: 0.9870\n",
            "Epoch 6/20\n",
            "459/469 [============================>.] - ETA: 0s - loss: 0.0296 - accuracy: 0.9914\n",
            " reached 99% accuracy. Stopping training. Loss at: 0.029674120247364044\n",
            "469/469 [==============================] - 3s 6ms/step - loss: 0.0297 - accuracy: 0.9914 - val_loss: 0.0455 - val_accuracy: 0.9871\n"
          ]
        }
      ]
    }
  ]
}