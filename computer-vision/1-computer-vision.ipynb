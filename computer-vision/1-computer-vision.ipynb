{
  "nbformat": 4,
  "nbformat_minor": 0,
  "metadata": {
    "colab": {
      "provenance": [],
      "authorship_tag": "ABX9TyM9ZYbd89gmkBF7qbEVM6N2",
      "include_colab_link": true
    },
    "kernelspec": {
      "name": "python3",
      "display_name": "Python 3"
    },
    "language_info": {
      "name": "python"
    },
    "accelerator": "GPU",
    "gpuClass": "standard"
  },
  "cells": [
    {
      "cell_type": "markdown",
      "metadata": {
        "id": "view-in-github",
        "colab_type": "text"
      },
      "source": [
        "<a href=\"https://colab.research.google.com/github/santoshrsarangi/tensorflow/blob/main/computer-vision/1-computer-vision.ipynb\" target=\"_parent\"><img src=\"https://colab.research.google.com/assets/colab-badge.svg\" alt=\"Open In Colab\"/></a>"
      ]
    },
    {
      "cell_type": "code",
      "execution_count": 1,
      "metadata": {
        "id": "3m4IG6so7RAu"
      },
      "outputs": [],
      "source": [
        "import tensorflow as tf\n",
        "from tensorflow import keras\n",
        "from keras.datasets import mnist"
      ]
    },
    {
      "cell_type": "code",
      "source": [
        "(train_data, train_label), (test_data, test_label) = mnist.load_data()"
      ],
      "metadata": {
        "id": "hepL-_2zuQS6",
        "outputId": "3cdcffb4-2d0e-4e1f-a8ff-945e2d63327c",
        "colab": {
          "base_uri": "https://localhost:8080/"
        }
      },
      "execution_count": 2,
      "outputs": [
        {
          "output_type": "stream",
          "name": "stdout",
          "text": [
            "Downloading data from https://storage.googleapis.com/tensorflow/tf-keras-datasets/mnist.npz\n",
            "11493376/11490434 [==============================] - 0s 0us/step\n",
            "11501568/11490434 [==============================] - 0s 0us/step\n"
          ]
        }
      ]
    },
    {
      "cell_type": "code",
      "source": [
        "train_data, test_data = train_data/255., test_data/255."
      ],
      "metadata": {
        "id": "cOFYwP34ubci"
      },
      "execution_count": 3,
      "outputs": []
    },
    {
      "cell_type": "code",
      "source": [
        "def getmodel():\n",
        "\n",
        "  input = keras.Input(shape=(28, 28, 1))\n",
        "  x = keras.layers.Conv2D(filters=32, kernel_size=3, activation=\"relu\")(input)\n",
        "  x = keras.layers.MaxPool2D(pool_size=(2,2))(x)\n",
        "  x = keras.layers.Conv2D(filters=64, kernel_size=3, activation=\"relu\")(x)\n",
        "  x = keras.layers.MaxPool2D(pool_size=(2,2))(x)\n",
        "  x = keras.layers.Conv2D(filters=128, kernel_size=3, activation=\"relu\")(x)\n",
        "  x = keras.layers.MaxPool2D(pool_size=(2,2))(x)\n",
        "  x = keras.layers.Flatten()(x)\n",
        "  output = keras.layers.Dense(units=10, activation=\"softmax\")(x)\n",
        "\n",
        "  model = keras.Model(input, output)\n",
        "\n",
        "  return model"
      ],
      "metadata": {
        "id": "DYjyJVxAun4a"
      },
      "execution_count": 6,
      "outputs": []
    },
    {
      "cell_type": "code",
      "source": [
        "model = getmodel()"
      ],
      "metadata": {
        "id": "Wd-7qcffwr5p"
      },
      "execution_count": 15,
      "outputs": []
    },
    {
      "cell_type": "code",
      "source": [
        "model.summary()"
      ],
      "metadata": {
        "id": "sXJdD1kwwuwH",
        "outputId": "e1ee7257-51cd-4af9-8511-2310fe6af45f",
        "colab": {
          "base_uri": "https://localhost:8080/"
        }
      },
      "execution_count": 8,
      "outputs": [
        {
          "output_type": "stream",
          "name": "stdout",
          "text": [
            "Model: \"model_1\"\n",
            "_________________________________________________________________\n",
            " Layer (type)                Output Shape              Param #   \n",
            "=================================================================\n",
            " input_2 (InputLayer)        [(None, 28, 28, 1)]       0         \n",
            "                                                                 \n",
            " conv2d_3 (Conv2D)           (None, 26, 26, 32)        320       \n",
            "                                                                 \n",
            " max_pooling2d_3 (MaxPooling  (None, 13, 13, 32)       0         \n",
            " 2D)                                                             \n",
            "                                                                 \n",
            " conv2d_4 (Conv2D)           (None, 11, 11, 64)        18496     \n",
            "                                                                 \n",
            " max_pooling2d_4 (MaxPooling  (None, 5, 5, 64)         0         \n",
            " 2D)                                                             \n",
            "                                                                 \n",
            " conv2d_5 (Conv2D)           (None, 3, 3, 128)         73856     \n",
            "                                                                 \n",
            " max_pooling2d_5 (MaxPooling  (None, 1, 1, 128)        0         \n",
            " 2D)                                                             \n",
            "                                                                 \n",
            " flatten_1 (Flatten)         (None, 128)               0         \n",
            "                                                                 \n",
            " dense_1 (Dense)             (None, 10)                1290      \n",
            "                                                                 \n",
            "=================================================================\n",
            "Total params: 93,962\n",
            "Trainable params: 93,962\n",
            "Non-trainable params: 0\n",
            "_________________________________________________________________\n"
          ]
        }
      ]
    },
    {
      "cell_type": "code",
      "source": [
        "model.compile(optimizer=\"rmsprop\",\n",
        "              loss = \"sparse_categorical_crossentropy\",\n",
        "              metrics=[\"accuracy\"])"
      ],
      "metadata": {
        "id": "4w11tUmgxFR-"
      },
      "execution_count": 16,
      "outputs": []
    },
    {
      "cell_type": "code",
      "source": [
        "mycallbacks = [keras.callbacks.EarlyStopping(monitor=\"val_accuracy\", patience=2)]"
      ],
      "metadata": {
        "id": "RcxWNgjvxxdh"
      },
      "execution_count": 13,
      "outputs": []
    },
    {
      "cell_type": "code",
      "source": [
        "fithistory = model.fit(train_data, \n",
        "                       train_label, \n",
        "                       validation_data = (test_data, test_label),\n",
        "                       batch_size = 128,\n",
        "                       epochs=20,\n",
        "                       callbacks = mycallbacks)"
      ],
      "metadata": {
        "id": "cPUW3MdWxUcd",
        "outputId": "db412243-dd50-4240-e961-0b1d50dc7532",
        "colab": {
          "base_uri": "https://localhost:8080/"
        }
      },
      "execution_count": 17,
      "outputs": [
        {
          "output_type": "stream",
          "name": "stdout",
          "text": [
            "Epoch 1/20\n",
            "469/469 [==============================] - 4s 6ms/step - loss: 0.3392 - accuracy: 0.8940 - val_loss: 0.0921 - val_accuracy: 0.9720\n",
            "Epoch 2/20\n",
            "469/469 [==============================] - 3s 6ms/step - loss: 0.0941 - accuracy: 0.9714 - val_loss: 0.0705 - val_accuracy: 0.9787\n",
            "Epoch 3/20\n",
            "469/469 [==============================] - 3s 6ms/step - loss: 0.0639 - accuracy: 0.9805 - val_loss: 0.0618 - val_accuracy: 0.9826\n",
            "Epoch 4/20\n",
            "469/469 [==============================] - 3s 6ms/step - loss: 0.0479 - accuracy: 0.9852 - val_loss: 0.0501 - val_accuracy: 0.9851\n",
            "Epoch 5/20\n",
            "469/469 [==============================] - 3s 6ms/step - loss: 0.0376 - accuracy: 0.9886 - val_loss: 0.0571 - val_accuracy: 0.9826\n",
            "Epoch 6/20\n",
            "469/469 [==============================] - 3s 6ms/step - loss: 0.0306 - accuracy: 0.9904 - val_loss: 0.0460 - val_accuracy: 0.9861\n",
            "Epoch 7/20\n",
            "469/469 [==============================] - 3s 6ms/step - loss: 0.0245 - accuracy: 0.9925 - val_loss: 0.0722 - val_accuracy: 0.9796\n",
            "Epoch 8/20\n",
            "469/469 [==============================] - 3s 6ms/step - loss: 0.0203 - accuracy: 0.9935 - val_loss: 0.0486 - val_accuracy: 0.9859\n"
          ]
        }
      ]
    }
  ]
}