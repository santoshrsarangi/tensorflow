{
  "nbformat": 4,
  "nbformat_minor": 0,
  "metadata": {
    "colab": {
      "provenance": [],
      "authorship_tag": "ABX9TyP+l25Nh/O2zNqCG4b6S4ND",
      "include_colab_link": true
    },
    "kernelspec": {
      "name": "python3",
      "display_name": "Python 3"
    },
    "language_info": {
      "name": "python"
    },
    "accelerator": "GPU",
    "gpuClass": "standard"
  },
  "cells": [
    {
      "cell_type": "markdown",
      "metadata": {
        "id": "view-in-github",
        "colab_type": "text"
      },
      "source": [
        "<a href=\"https://colab.research.google.com/github/santoshrsarangi/tensorflow/blob/main/computer-vision/2_Cats_vs_Dogs_Kaggle_Dataset.ipynb\" target=\"_parent\"><img src=\"https://colab.research.google.com/assets/colab-badge.svg\" alt=\"Open In Colab\"/></a>"
      ]
    },
    {
      "cell_type": "markdown",
      "source": [
        "Download your Kaggle API keys to local system and then upload to colab environment"
      ],
      "metadata": {
        "id": "5pmzyGzQqpvF"
      }
    },
    {
      "cell_type": "code",
      "execution_count": null,
      "metadata": {
        "id": "mQUCOzC6qC52"
      },
      "outputs": [],
      "source": [
        "from google.colab import files\n",
        "files.upload()\n"
      ]
    },
    {
      "cell_type": "code",
      "source": [
        "ls -l"
      ],
      "metadata": {
        "id": "rirDCu41rG9c",
        "outputId": "6a2abea8-927a-4a8b-b0bb-576b96327001",
        "colab": {
          "base_uri": "https://localhost:8080/"
        }
      },
      "execution_count": 12,
      "outputs": [
        {
          "output_type": "stream",
          "name": "stdout",
          "text": [
            "total 8\n",
            "drwxr-xr-x 2 root root 4096 Sep  4 13:28 \u001b[0m\u001b[01;34mkaggle\u001b[0m/\n",
            "drwxr-xr-x 1 root root 4096 Aug 31 13:47 \u001b[01;34msample_data\u001b[0m/\n"
          ]
        }
      ]
    },
    {
      "cell_type": "code",
      "source": [
        "!mkdir ./kaggle"
      ],
      "metadata": {
        "id": "PaDepyLVrTIW"
      },
      "execution_count": null,
      "outputs": []
    },
    {
      "cell_type": "code",
      "source": [
        "!cp kaggle-2.json ./kaggle/kaggle-2.json"
      ],
      "metadata": {
        "id": "W5qMrPAxsMsc"
      },
      "execution_count": 7,
      "outputs": []
    },
    {
      "cell_type": "code",
      "source": [
        "ls -l kaggle"
      ],
      "metadata": {
        "id": "GiIY-eG9syK0",
        "outputId": "240ba101-838d-486b-b247-75871b8b807f",
        "colab": {
          "base_uri": "https://localhost:8080/"
        }
      },
      "execution_count": 16,
      "outputs": [
        {
          "output_type": "stream",
          "name": "stdout",
          "text": [
            "total 4\n",
            "-rw------- 1 root root 65 Sep  4 13:29 kaggle-2.json\n"
          ]
        }
      ]
    },
    {
      "cell_type": "code",
      "source": [
        "# Change access to your Kaggle API so only current account has access to read/write\n",
        "!chmod 600 ./kaggle/kaggle-2.json"
      ],
      "metadata": {
        "id": "F5k2liYGspgx"
      },
      "execution_count": 15,
      "outputs": []
    },
    {
      "cell_type": "code",
      "source": [],
      "metadata": {
        "id": "7JgpNAAttRLx"
      },
      "execution_count": null,
      "outputs": []
    }
  ]
}