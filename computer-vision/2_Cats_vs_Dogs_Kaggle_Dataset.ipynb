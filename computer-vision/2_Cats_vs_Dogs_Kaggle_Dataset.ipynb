{
  "nbformat": 4,
  "nbformat_minor": 0,
  "metadata": {
    "colab": {
      "provenance": [],
      "authorship_tag": "ABX9TyMYPU5alUCTXRnWoPJqJ59k",
      "include_colab_link": true
    },
    "kernelspec": {
      "name": "python3",
      "display_name": "Python 3"
    },
    "language_info": {
      "name": "python"
    },
    "accelerator": "GPU",
    "gpuClass": "standard"
  },
  "cells": [
    {
      "cell_type": "markdown",
      "metadata": {
        "id": "view-in-github",
        "colab_type": "text"
      },
      "source": [
        "<a href=\"https://colab.research.google.com/github/santoshrsarangi/tensorflow/blob/main/computer-vision/2_Cats_vs_Dogs_Kaggle_Dataset.ipynb\" target=\"_parent\"><img src=\"https://colab.research.google.com/assets/colab-badge.svg\" alt=\"Open In Colab\"/></a>"
      ]
    },
    {
      "cell_type": "markdown",
      "source": [
        "Download your Kaggle API keys to local system and then upload to colab environment"
      ],
      "metadata": {
        "id": "5pmzyGzQqpvF"
      }
    },
    {
      "cell_type": "code",
      "execution_count": null,
      "metadata": {
        "id": "mQUCOzC6qC52"
      },
      "outputs": [],
      "source": [
        "from google.colab import files\n",
        "r = files.upload()"
      ]
    },
    {
      "cell_type": "code",
      "source": [
        "!mkdir ~/.kaggle"
      ],
      "metadata": {
        "id": "PaDepyLVrTIW"
      },
      "execution_count": 2,
      "outputs": []
    },
    {
      "cell_type": "code",
      "source": [
        "!cp kaggle.json ~/.kaggle/"
      ],
      "metadata": {
        "id": "W5qMrPAxsMsc"
      },
      "execution_count": 3,
      "outputs": []
    },
    {
      "cell_type": "code",
      "source": [
        "# Change access to your Kaggle API so only current account has access to read/write\n",
        "!chmod 600 ~/.kaggle/kaggle.json"
      ],
      "metadata": {
        "id": "F5k2liYGspgx"
      },
      "execution_count": 4,
      "outputs": []
    },
    {
      "cell_type": "code",
      "source": [
        "!kaggle competitions download -c dogs-vs-cats"
      ],
      "metadata": {
        "id": "7JgpNAAttRLx",
        "colab": {
          "base_uri": "https://localhost:8080/"
        },
        "outputId": "3d5aafd5-0185-4335-e58f-f8794c3943c0"
      },
      "execution_count": 5,
      "outputs": [
        {
          "output_type": "stream",
          "name": "stdout",
          "text": [
            "Downloading dogs-vs-cats.zip to /content\n",
            " 98% 793M/812M [00:24<00:00, 45.4MB/s]\n",
            "100% 812M/812M [00:24<00:00, 34.4MB/s]\n"
          ]
        }
      ]
    },
    {
      "cell_type": "code",
      "source": [
        "!unzip --qq dogs-vs-cats.zip"
      ],
      "metadata": {
        "id": "9MX06-qSHFDj"
      },
      "execution_count": 6,
      "outputs": []
    },
    {
      "cell_type": "code",
      "source": [
        "!unzip --qq train.zip"
      ],
      "metadata": {
        "id": "vo88G-DVHdi7"
      },
      "execution_count": 7,
      "outputs": []
    },
    {
      "cell_type": "code",
      "source": [
        "!unzip --qq test1.zip"
      ],
      "metadata": {
        "id": "PNTU_syfIGxn"
      },
      "execution_count": 8,
      "outputs": []
    },
    {
      "cell_type": "code",
      "source": [
        "import os, shutil, pathlib"
      ],
      "metadata": {
        "id": "BHROTJAhJju0"
      },
      "execution_count": 9,
      "outputs": []
    },
    {
      "cell_type": "code",
      "source": [
        "original_dir = pathlib.Path(\"train\")\n",
        "new_dir = pathlib.Path(\"cats_vs_dogs\")"
      ],
      "metadata": {
        "id": "xiO2AjoZJuNm"
      },
      "execution_count": 10,
      "outputs": []
    },
    {
      "cell_type": "code",
      "source": [
        "def create_folder_structure(name, start_index, end_index):\n",
        "\n",
        "  for category in (\"cat\", \"dog\"):\n",
        "\n",
        "    dir=new_dir / name / category\n",
        "    os.makedirs(dir)\n",
        "\n",
        "    file_names = [f\"{category}.{i}.jpg\" for i in range(start_index, end_index)]\n",
        "\n",
        "    for files in file_names:\n",
        "      shutil.copyfile(src=original_dir / files, dst=dir / files)"
      ],
      "metadata": {
        "id": "6V56cqjyJ9cc"
      },
      "execution_count": 11,
      "outputs": []
    },
    {
      "cell_type": "code",
      "source": [
        "create_folder_structure(\"train\", start_index=0,end_index = 1000)\n",
        "create_folder_structure(\"validation\", start_index=1000, end_index=1500)\n",
        "create_folder_structure(\"test\", start_index=1500, end_index=2500 )"
      ],
      "metadata": {
        "id": "Exex7rDWN9-t"
      },
      "execution_count": 12,
      "outputs": []
    },
    {
      "cell_type": "code",
      "source": [
        "import tensorflow as tf\n",
        "from tensorflow import keras\n",
        "from tensorflow.keras import layers"
      ],
      "metadata": {
        "id": "OLTFi9qbhUk-"
      },
      "execution_count": 13,
      "outputs": []
    },
    {
      "cell_type": "code",
      "source": [
        "def getmodel():\n",
        "\n",
        "  inputs = keras.Input(shape=(180, 180, 3))\n",
        "\n",
        "  #rescale the image to 1 - 255\n",
        "  x = layers.Rescaling(scale=1./255)(inputs)\n",
        "\n",
        "  x = layers.Conv2D(filters=32, activation=\"relu\", kernel_size=3) (x)\n",
        "  x = layers.MaxPool2D(pool_size=(2,2))(x)\n",
        "\n",
        "  x = layers.Conv2D(filters=64, activation=\"relu\", kernel_size=3) (x)\n",
        "  x = layers.MaxPool2D(pool_size=(2,2))(x)\n",
        "\n",
        "  x = layers.Conv2D(filters=128, activation=\"relu\", kernel_size=3) (x)\n",
        "  x = layers.MaxPool2D(pool_size=(2,2))(x)\n",
        "\n",
        "  x = layers.Conv2D(filters=256, activation=\"relu\", kernel_size=3) (x)\n",
        "  x = layers.MaxPool2D(pool_size=(2,2))(x)\n",
        "\n",
        "  x = layers.Conv2D(filters=256, activation=\"relu\", kernel_size=3) (x)\n",
        "  \n",
        "  x = layers.Flatten()(x)\n",
        "\n",
        "  outputs = layers.Dense(1, activation=\"sigmoid\")(x)\n",
        "\n",
        "  model = keras.Model(inputs, outputs)\n",
        "\n",
        "  model.compile(optimizer=\"rmsprop\",\n",
        "                loss=\"binary_crossentropy\",\n",
        "                metrics = [\"accuracy\"])\n",
        "  \n",
        "  return model"
      ],
      "metadata": {
        "id": "tmZ1FN-jiA-e"
      },
      "execution_count": 14,
      "outputs": []
    },
    {
      "cell_type": "code",
      "source": [
        "model = getmodel()\n",
        "model.summary()"
      ],
      "metadata": {
        "id": "3kpZgw68j48P",
        "outputId": "5a5ef983-f29c-494e-a948-bd29b77c87b4",
        "colab": {
          "base_uri": "https://localhost:8080/"
        }
      },
      "execution_count": 15,
      "outputs": [
        {
          "output_type": "stream",
          "name": "stdout",
          "text": [
            "Model: \"model\"\n",
            "_________________________________________________________________\n",
            " Layer (type)                Output Shape              Param #   \n",
            "=================================================================\n",
            " input_1 (InputLayer)        [(None, 180, 180, 3)]     0         \n",
            "                                                                 \n",
            " rescaling (Rescaling)       (None, 180, 180, 3)       0         \n",
            "                                                                 \n",
            " conv2d (Conv2D)             (None, 178, 178, 32)      896       \n",
            "                                                                 \n",
            " max_pooling2d (MaxPooling2D  (None, 89, 89, 32)       0         \n",
            " )                                                               \n",
            "                                                                 \n",
            " conv2d_1 (Conv2D)           (None, 87, 87, 64)        18496     \n",
            "                                                                 \n",
            " max_pooling2d_1 (MaxPooling  (None, 43, 43, 64)       0         \n",
            " 2D)                                                             \n",
            "                                                                 \n",
            " conv2d_2 (Conv2D)           (None, 41, 41, 128)       73856     \n",
            "                                                                 \n",
            " max_pooling2d_2 (MaxPooling  (None, 20, 20, 128)      0         \n",
            " 2D)                                                             \n",
            "                                                                 \n",
            " conv2d_3 (Conv2D)           (None, 18, 18, 256)       295168    \n",
            "                                                                 \n",
            " max_pooling2d_3 (MaxPooling  (None, 9, 9, 256)        0         \n",
            " 2D)                                                             \n",
            "                                                                 \n",
            " conv2d_4 (Conv2D)           (None, 7, 7, 256)         590080    \n",
            "                                                                 \n",
            " flatten (Flatten)           (None, 12544)             0         \n",
            "                                                                 \n",
            " dense (Dense)               (None, 1)                 12545     \n",
            "                                                                 \n",
            "=================================================================\n",
            "Total params: 991,041\n",
            "Trainable params: 991,041\n",
            "Non-trainable params: 0\n",
            "_________________________________________________________________\n"
          ]
        }
      ]
    },
    {
      "cell_type": "code",
      "source": [
        "from tensorflow.keras.utils import image_dataset_from_directory"
      ],
      "metadata": {
        "id": "-QXNSaHoZgqL"
      },
      "execution_count": 16,
      "outputs": []
    },
    {
      "cell_type": "code",
      "source": [
        "train_dataset = image_dataset_from_directory(new_dir / \"train\", batch_size=32, image_size=(180, 180))"
      ],
      "metadata": {
        "id": "T9MCPS7lZzP3",
        "outputId": "574589a2-a8b3-42d1-b28e-7a1c1f29d09f",
        "colab": {
          "base_uri": "https://localhost:8080/"
        }
      },
      "execution_count": 17,
      "outputs": [
        {
          "output_type": "stream",
          "name": "stdout",
          "text": [
            "Found 2000 files belonging to 2 classes.\n"
          ]
        }
      ]
    },
    {
      "cell_type": "code",
      "source": [
        "validation_dataset = image_dataset_from_directory(new_dir / \"validation\", batch_size=32, image_size=(180, 180))"
      ],
      "metadata": {
        "id": "s6FdoEdMaR22",
        "outputId": "9b1fb8e4-3598-4e26-be09-2efc2ca0be47",
        "colab": {
          "base_uri": "https://localhost:8080/"
        }
      },
      "execution_count": 18,
      "outputs": [
        {
          "output_type": "stream",
          "name": "stdout",
          "text": [
            "Found 1000 files belonging to 2 classes.\n"
          ]
        }
      ]
    },
    {
      "cell_type": "code",
      "source": [
        "test_dataset = image_dataset_from_directory(new_dir / \"test\", batch_size=32, image_size=(180, 180))"
      ],
      "metadata": {
        "id": "3KL0-0djagqr",
        "outputId": "e77a82db-4081-4aa8-ed0f-44730def5a3b",
        "colab": {
          "base_uri": "https://localhost:8080/"
        }
      },
      "execution_count": 19,
      "outputs": [
        {
          "output_type": "stream",
          "name": "stdout",
          "text": [
            "Found 2000 files belonging to 2 classes.\n"
          ]
        }
      ]
    },
    {
      "cell_type": "code",
      "source": [
        "callbacks = [\n",
        "    keras.callbacks.ModelCheckpoint(filepath=\"cats-vs-dogs.keras\", monitor='val_loss', save_best_only=True)\n",
        "]"
      ],
      "metadata": {
        "id": "kEM8pxuEgPcm"
      },
      "execution_count": 23,
      "outputs": []
    },
    {
      "cell_type": "code",
      "source": [
        "model = getmodel()"
      ],
      "metadata": {
        "id": "QbIYm0EReMrO"
      },
      "execution_count": 26,
      "outputs": []
    },
    {
      "cell_type": "code",
      "source": [
        "history = model.fit(train_dataset,\n",
        "                    validation_data=validation_dataset,\n",
        "                    epochs=30,\n",
        "                    batch_size=32,\n",
        "                    callbacks = callbacks\n",
        "                    )"
      ],
      "metadata": {
        "id": "PkIZnux3eRl2",
        "outputId": "ac1e0a4a-8edf-4e60-be9f-24ec52359ee5",
        "colab": {
          "base_uri": "https://localhost:8080/"
        }
      },
      "execution_count": 27,
      "outputs": [
        {
          "metadata": {
            "tags": null
          },
          "name": "stdout",
          "output_type": "stream",
          "text": [
            "Epoch 1/30\n",
            "63/63 [==============================] - 6s 80ms/step - loss: 0.7129 - accuracy: 0.5405 - val_loss: 0.6887 - val_accuracy: 0.5110\n",
            "Epoch 2/30\n",
            "63/63 [==============================] - 5s 72ms/step - loss: 0.6872 - accuracy: 0.5860 - val_loss: 0.6543 - val_accuracy: 0.6190\n",
            "Epoch 3/30\n",
            "63/63 [==============================] - 5s 81ms/step - loss: 0.6813 - accuracy: 0.6425 - val_loss: 0.6221 - val_accuracy: 0.6330\n",
            "Epoch 4/30\n",
            "63/63 [==============================] - 5s 78ms/step - loss: 0.6138 - accuracy: 0.6790 - val_loss: 0.6203 - val_accuracy: 0.6490\n",
            "Epoch 5/30\n",
            "63/63 [==============================] - 5s 70ms/step - loss: 0.5890 - accuracy: 0.7035 - val_loss: 0.5684 - val_accuracy: 0.6900\n",
            "Epoch 6/30\n",
            "63/63 [==============================] - 5s 69ms/step - loss: 0.5530 - accuracy: 0.7205 - val_loss: 0.5614 - val_accuracy: 0.7030\n",
            "Epoch 7/30\n",
            "63/63 [==============================] - 6s 99ms/step - loss: 0.5095 - accuracy: 0.7425 - val_loss: 0.5828 - val_accuracy: 0.7160\n",
            "Epoch 8/30\n",
            "63/63 [==============================] - 5s 70ms/step - loss: 0.4687 - accuracy: 0.7825 - val_loss: 0.5558 - val_accuracy: 0.7230\n",
            "Epoch 9/30\n",
            "63/63 [==============================] - 5s 76ms/step - loss: 0.4174 - accuracy: 0.8065 - val_loss: 0.6161 - val_accuracy: 0.7220\n",
            "Epoch 10/30\n",
            "63/63 [==============================] - 6s 88ms/step - loss: 0.3696 - accuracy: 0.8330 - val_loss: 0.6434 - val_accuracy: 0.7290\n",
            "Epoch 11/30\n",
            "63/63 [==============================] - 6s 96ms/step - loss: 0.3169 - accuracy: 0.8730 - val_loss: 0.7140 - val_accuracy: 0.7270\n",
            "Epoch 12/30\n",
            "63/63 [==============================] - 6s 96ms/step - loss: 0.2733 - accuracy: 0.8845 - val_loss: 0.6832 - val_accuracy: 0.7440\n",
            "Epoch 13/30\n",
            "63/63 [==============================] - 7s 100ms/step - loss: 0.2419 - accuracy: 0.9100 - val_loss: 0.7669 - val_accuracy: 0.7190\n",
            "Epoch 14/30\n",
            "63/63 [==============================] - 5s 69ms/step - loss: 0.1891 - accuracy: 0.9265 - val_loss: 0.7574 - val_accuracy: 0.7690\n",
            "Epoch 15/30\n",
            "63/63 [==============================] - 5s 69ms/step - loss: 0.1605 - accuracy: 0.9385 - val_loss: 0.7249 - val_accuracy: 0.7730\n",
            "Epoch 16/30\n",
            "63/63 [==============================] - 5s 70ms/step - loss: 0.1330 - accuracy: 0.9515 - val_loss: 2.3106 - val_accuracy: 0.6450\n",
            "Epoch 17/30\n",
            "63/63 [==============================] - 5s 69ms/step - loss: 0.1031 - accuracy: 0.9650 - val_loss: 1.1189 - val_accuracy: 0.7360\n",
            "Epoch 18/30\n",
            "63/63 [==============================] - 5s 68ms/step - loss: 0.0927 - accuracy: 0.9655 - val_loss: 1.2051 - val_accuracy: 0.7420\n",
            "Epoch 19/30\n",
            "63/63 [==============================] - 4s 67ms/step - loss: 0.0784 - accuracy: 0.9730 - val_loss: 1.1269 - val_accuracy: 0.7300\n",
            "Epoch 20/30\n",
            "63/63 [==============================] - 5s 68ms/step - loss: 0.0606 - accuracy: 0.9820 - val_loss: 1.2458 - val_accuracy: 0.7440\n",
            "Epoch 21/30\n",
            "63/63 [==============================] - 5s 69ms/step - loss: 0.0958 - accuracy: 0.9765 - val_loss: 1.3637 - val_accuracy: 0.7490\n",
            "Epoch 22/30\n",
            "63/63 [==============================] - 5s 68ms/step - loss: 0.0703 - accuracy: 0.9795 - val_loss: 1.3929 - val_accuracy: 0.7540\n",
            "Epoch 23/30\n",
            "63/63 [==============================] - 5s 69ms/step - loss: 0.0390 - accuracy: 0.9855 - val_loss: 1.5618 - val_accuracy: 0.7290\n",
            "Epoch 24/30\n",
            "63/63 [==============================] - 5s 69ms/step - loss: 0.0562 - accuracy: 0.9825 - val_loss: 1.5466 - val_accuracy: 0.7370\n",
            "Epoch 25/30\n",
            "63/63 [==============================] - 5s 70ms/step - loss: 0.0632 - accuracy: 0.9875 - val_loss: 1.7467 - val_accuracy: 0.7510\n",
            "Epoch 26/30\n",
            "63/63 [==============================] - 5s 70ms/step - loss: 0.0476 - accuracy: 0.9850 - val_loss: 1.8489 - val_accuracy: 0.7480\n",
            "Epoch 27/30\n",
            "63/63 [==============================] - 5s 68ms/step - loss: 0.0496 - accuracy: 0.9835 - val_loss: 2.2029 - val_accuracy: 0.7180\n",
            "Epoch 28/30\n",
            "63/63 [==============================] - 5s 76ms/step - loss: 0.0449 - accuracy: 0.9840 - val_loss: 2.5643 - val_accuracy: 0.7230\n",
            "Epoch 29/30\n",
            "63/63 [==============================] - 5s 82ms/step - loss: 0.0504 - accuracy: 0.9890 - val_loss: 1.8598 - val_accuracy: 0.7480\n",
            "Epoch 30/30\n",
            "63/63 [==============================] - 5s 70ms/step - loss: 0.0269 - accuracy: 0.9900 - val_loss: 1.9766 - val_accuracy: 0.7550\n"
          ]
        }
      ]
    },
    {
      "cell_type": "code",
      "source": [
        "import matplotlib.pyplot as plt\n",
        "\n",
        "epochs = len(history.history[\"val_loss\"])\n",
        "\n",
        "plt.plot(range(1, epochs+1), history.history[\"accuracy\"], label=\"Training Accuracy\")\n",
        "plt.plot(range(1, epochs+1), history.history[\"val_accuracy\"], label=\"Validation Accuracy\")\n",
        "plt.legend()\n",
        "\n",
        "plt.figure()\n",
        "plt.plot(range(1, epochs+1), history.history[\"loss\"], label=\"Training Loss\")\n",
        "plt.plot(range(1, epochs+1), history.history[\"val_loss\"], label=\"Validation Loss\")\n",
        "plt.legend()\n",
        "\n",
        "plt.show()"
      ],
      "metadata": {
        "id": "-uERM_JAet9-",
        "outputId": "7f5ea6fb-af8b-4b3f-a688-59058bfb5159",
        "colab": {
          "base_uri": "https://localhost:8080/",
          "height": 533
        }
      },
      "execution_count": 28,
      "outputs": [
        {
          "data": {
            "image/png": "[encoded data removed]",
            "text/plain": [
              "<Figure size 432x288 with 1 Axes>"
            ]
          },
          "metadata": {},
          "output_type": "display_data"
        },
        {
          "data": {
            "image/png": "[encoded data removed]",
            "text/plain": [
              "<Figure size 432x288 with 1 Axes>"
            ]
          },
          "metadata": {},
          "output_type": "display_data"
        }
      ]
    },
    {
      "cell_type": "code",
      "source": [
        "model = keras.models.load_model(\"cats-vs-dogs.keras\")\n",
        "test_loss, test_accuracy = model.evaluate(test_dataset)\n",
        "print(f\"Testing loss was : {test_loss: .2f}\")\n",
        "print(f\"Testing accuracy was : {test_accuracy: .2f}\")"
      ],
      "metadata": {
        "id": "rVyJ7Dw5gyDd",
        "outputId": "b176082c-5dcf-42ef-d061-d2b73d4c5e40",
        "colab": {
          "base_uri": "https://localhost:8080/"
        }
      },
      "execution_count": 29,
      "outputs": [
        {
          "output_type": "stream",
          "name": "stdout",
          "text": [
            "63/63 [==============================] - 3s 39ms/step - loss: 0.6036 - accuracy: 0.7005\n",
            "Testing loss was :  0.60\n",
            "Testing accuracy was :  0.70\n"
          ]
        }
      ]
    },
    {
      "cell_type": "code",
      "source": [],
      "metadata": {
        "id": "arCIM3xDiQP_"
      },
      "execution_count": null,
      "outputs": []
    }
  ]
}