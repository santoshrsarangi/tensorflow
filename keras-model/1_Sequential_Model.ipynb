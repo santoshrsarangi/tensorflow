{
  "nbformat": 4,
  "nbformat_minor": 0,
  "metadata": {
    "colab": {
      "provenance": [],
      "collapsed_sections": [],
      "authorship_tag": "ABX9TyPUKP2I0gReg4h6WEvlCGm2",
      "include_colab_link": true
    },
    "kernelspec": {
      "name": "python3",
      "display_name": "Python 3"
    },
    "language_info": {
      "name": "python"
    }
  },
  "cells": [
    {
      "cell_type": "markdown",
      "metadata": {
        "id": "view-in-github",
        "colab_type": "text"
      },
      "source": [
        "<a href=\"https://colab.research.google.com/github/santoshrsarangi/tensorflow/blob/main/1_Sequential_Model.ipynb\" target=\"_parent\"><img src=\"https://colab.research.google.com/assets/colab-badge.svg\" alt=\"Open In Colab\"/></a>"
      ]
    },
    {
      "cell_type": "code",
      "execution_count": null,
      "metadata": {
        "id": "gw9B5mhu0iBR"
      },
      "outputs": [],
      "source": [
        "import tensorflow as tf\n",
        "from tensorflow import keras\n",
        "from keras import layers"
      ]
    },
    {
      "cell_type": "code",
      "source": [
        "model = keras.Sequential(name = \"mysequential-model\")"
      ],
      "metadata": {
        "id": "zxu8zFY72r3U"
      },
      "execution_count": null,
      "outputs": []
    },
    {
      "cell_type": "code",
      "source": [
        "model.add(layers.Dense(16, activation = \"relu\", name=\"layer-1\"))\n",
        "model.add(layers.Dense(10, activation = \"softmax\", name = \"layer-2\"))"
      ],
      "metadata": {
        "id": "9zFHyyt723y4"
      },
      "execution_count": null,
      "outputs": []
    },
    {
      "cell_type": "markdown",
      "source": [
        "Try calling model summary or weights before calling build. What happens? The shape / or the weights of the layers depends on the shape of the inputs."
      ],
      "metadata": {
        "id": "6d7BiivJc_N3"
      }
    },
    {
      "cell_type": "code",
      "source": [
        "model.build(input_shape=(None, 4))"
      ],
      "metadata": {
        "id": "foD8P2oF3RVd"
      },
      "execution_count": null,
      "outputs": []
    },
    {
      "cell_type": "code",
      "source": [
        "model.summary()"
      ],
      "metadata": {
        "id": "h--8UltF3mnn"
      },
      "execution_count": null,
      "outputs": []
    },
    {
      "cell_type": "code",
      "source": [
        "model.weights"
      ],
      "metadata": {
        "id": "qFawJXo95Qbp"
      },
      "execution_count": null,
      "outputs": []
    },
    {
      "cell_type": "markdown",
      "source": [
        "Now create a new model. This time add the Input class with shape. Are you able to see the model summary/weights?"
      ],
      "metadata": {
        "id": "bfoip8S0fkPH"
      }
    },
    {
      "cell_type": "code",
      "source": [
        "model_2 = keras.Sequential()\n",
        "model_2.add(keras.Input(shape=(4,)))\n",
        "model_2.add(layers.Dense(16, activation = \"relu\"))\n",
        "model_2.add(layers.Dense(10, activation=\"softmax\"))"
      ],
      "metadata": {
        "id": "sCu1Bs1q5r99"
      },
      "execution_count": null,
      "outputs": []
    },
    {
      "cell_type": "code",
      "source": [
        "model_2.summary()"
      ],
      "metadata": {
        "id": "TxqDIYDlgAQF"
      },
      "execution_count": null,
      "outputs": []
    },
    {
      "cell_type": "code",
      "source": [
        "model_2.weights"
      ],
      "metadata": {
        "id": "Fcg1bPwagQV9"
      },
      "execution_count": null,
      "outputs": []
    }
  ]
}
