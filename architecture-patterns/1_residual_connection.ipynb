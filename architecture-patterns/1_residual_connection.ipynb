{
  "nbformat": 4,
  "nbformat_minor": 0,
  "metadata": {
    "colab": {
      "provenance": [],
      "authorship_tag": "ABX9TyPdMjLLvt187ymXs17JWxDl",
      "include_colab_link": true
    },
    "kernelspec": {
      "name": "python3",
      "display_name": "Python 3"
    },
    "language_info": {
      "name": "python"
    }
  },
  "cells": [
    {
      "cell_type": "markdown",
      "metadata": {
        "id": "view-in-github",
        "colab_type": "text"
      },
      "source": [
        "<a href=\"https://colab.research.google.com/github/santoshrsarangi/tensorflow/blob/main/architecture-patterns/1_residual_connection.ipynb\" target=\"_parent\"><img src=\"https://colab.research.google.com/assets/colab-badge.svg\" alt=\"Open In Colab\"/></a>"
      ]
    },
    {
      "cell_type": "code",
      "execution_count": 1,
      "metadata": {
        "id": "BY9Q6lR74Y_f"
      },
      "outputs": [],
      "source": [
        "import tensorflow as tf\n",
        "from tensorflow import keras\n",
        "from tensorflow.keras import layers"
      ]
    },
    {
      "cell_type": "markdown",
      "source": [
        "## Residual block where filter size changes"
      ],
      "metadata": {
        "id": "oBWQ-qvdQwMz"
      }
    },
    {
      "cell_type": "code",
      "source": [
        "input = keras.Input(shape=(32, 32, 3))\n",
        "\n",
        "x = layers.Conv2D(filters = 32, kernel_size=3, activation=\"relu\")(input)\n",
        "residual = x"
      ],
      "metadata": {
        "id": "Ab7axxC_EqVE"
      },
      "execution_count": 2,
      "outputs": []
    },
    {
      "cell_type": "code",
      "source": [
        "residual.shape"
      ],
      "metadata": {
        "id": "qiZi9Qw0FV6_",
        "outputId": "71ee296e-1c71-4833-af66-c1a44a6e565a",
        "colab": {
          "base_uri": "https://localhost:8080/"
        }
      },
      "execution_count": 3,
      "outputs": [
        {
          "output_type": "execute_result",
          "data": {
            "text/plain": [
              "TensorShape([None, 30, 30, 32])"
            ]
          },
          "metadata": {},
          "execution_count": 3
        }
      ]
    },
    {
      "cell_type": "code",
      "source": [
        "x = layers.Conv2D(filters = 64, kernel_size=3, activation=\"relu\", padding='same')(x)"
      ],
      "metadata": {
        "id": "L3CcrEzDFs0n"
      },
      "execution_count": 4,
      "outputs": []
    },
    {
      "cell_type": "code",
      "source": [
        "x.shape"
      ],
      "metadata": {
        "id": "Rb_KIptvGLNa",
        "outputId": "3879da71-ecb2-4907-fee2-d237a2d0d45f",
        "colab": {
          "base_uri": "https://localhost:8080/"
        }
      },
      "execution_count": 5,
      "outputs": [
        {
          "output_type": "execute_result",
          "data": {
            "text/plain": [
              "TensorShape([None, 30, 30, 64])"
            ]
          },
          "metadata": {},
          "execution_count": 5
        }
      ]
    },
    {
      "cell_type": "code",
      "source": [
        "#use Conv2D with kernel size 1 and required units to reshape to desired shape\n",
        "residual = layers.Conv2D(64, kernel_size=1)(residual)"
      ],
      "metadata": {
        "id": "HaBgtkINQU18"
      },
      "execution_count": 6,
      "outputs": []
    },
    {
      "cell_type": "code",
      "source": [
        "residual.shape"
      ],
      "metadata": {
        "id": "YOX4HTSxQfY8",
        "outputId": "82e56c97-d625-4ab3-d720-ef7a22dd0f0a",
        "colab": {
          "base_uri": "https://localhost:8080/"
        }
      },
      "execution_count": 7,
      "outputs": [
        {
          "output_type": "execute_result",
          "data": {
            "text/plain": [
              "TensorShape([None, 30, 30, 64])"
            ]
          },
          "metadata": {},
          "execution_count": 7
        }
      ]
    },
    {
      "cell_type": "code",
      "source": [
        "x = layers.add([x, residual])"
      ],
      "metadata": {
        "id": "qAd-MjNYQIej"
      },
      "execution_count": 8,
      "outputs": []
    },
    {
      "cell_type": "markdown",
      "source": [
        "## Residual block when using max pooling"
      ],
      "metadata": {
        "id": "9s-tXz8uRmG7"
      }
    },
    {
      "cell_type": "code",
      "source": [
        "inputs = keras.Input(shape=(32, 32, 3))"
      ],
      "metadata": {
        "id": "30s0raabRr1T"
      },
      "execution_count": 9,
      "outputs": []
    },
    {
      "cell_type": "code",
      "source": [
        "x = layers.Conv2D(filters=32, kernel_size=3, activation=\"relu\")(inputs)"
      ],
      "metadata": {
        "id": "8e-ft41GJMGf"
      },
      "execution_count": 10,
      "outputs": []
    },
    {
      "cell_type": "code",
      "source": [
        "residual = x "
      ],
      "metadata": {
        "id": "_sW-ppTLJm85"
      },
      "execution_count": 11,
      "outputs": []
    },
    {
      "cell_type": "code",
      "source": [
        "residual.shape"
      ],
      "metadata": {
        "id": "BmBx_B9pJpxm",
        "outputId": "39579e77-0e53-4e80-df63-a98830292eea",
        "colab": {
          "base_uri": "https://localhost:8080/"
        }
      },
      "execution_count": 12,
      "outputs": [
        {
          "output_type": "execute_result",
          "data": {
            "text/plain": [
              "TensorShape([None, 30, 30, 32])"
            ]
          },
          "metadata": {},
          "execution_count": 12
        }
      ]
    },
    {
      "cell_type": "code",
      "source": [
        "x = layers.Conv2D(filters=64, kernel_size=3, activation=\"relu\", padding='same')(x)"
      ],
      "metadata": {
        "id": "x8C4z3ruJrX5"
      },
      "execution_count": 13,
      "outputs": []
    },
    {
      "cell_type": "code",
      "source": [
        "x.shape"
      ],
      "metadata": {
        "id": "9u8ZNZG8J6KS",
        "outputId": "63f2f3bd-e52a-42ed-ea7c-53a0614eb37c",
        "colab": {
          "base_uri": "https://localhost:8080/"
        }
      },
      "execution_count": 14,
      "outputs": [
        {
          "output_type": "execute_result",
          "data": {
            "text/plain": [
              "TensorShape([None, 30, 30, 64])"
            ]
          },
          "metadata": {},
          "execution_count": 14
        }
      ]
    },
    {
      "cell_type": "code",
      "source": [
        "x = layers.MaxPool2D(pool_size=(2,2), padding='same')(x)"
      ],
      "metadata": {
        "id": "l7Uy-OrlJ70w"
      },
      "execution_count": 15,
      "outputs": []
    },
    {
      "cell_type": "code",
      "source": [
        "x.shape"
      ],
      "metadata": {
        "id": "2XHIHuYZKYIF",
        "outputId": "4713b677-3325-4688-e1c5-02a31f727eff",
        "colab": {
          "base_uri": "https://localhost:8080/"
        }
      },
      "execution_count": 16,
      "outputs": [
        {
          "output_type": "execute_result",
          "data": {
            "text/plain": [
              "TensorShape([None, 15, 15, 64])"
            ]
          },
          "metadata": {},
          "execution_count": 16
        }
      ]
    },
    {
      "cell_type": "code",
      "source": [
        "#Use Conv2D with strides = 2\n",
        "residual = layers.Conv2D(filters=64, kernel_size=1, strides=2)(residual)"
      ],
      "metadata": {
        "id": "q7rLYG5PKZUq"
      },
      "execution_count": 17,
      "outputs": []
    },
    {
      "cell_type": "code",
      "source": [
        "residual.shape"
      ],
      "metadata": {
        "id": "qXwr0KYkKwwH",
        "outputId": "865925f2-a889-4b1d-9eb2-32b0572e99bb",
        "colab": {
          "base_uri": "https://localhost:8080/"
        }
      },
      "execution_count": 18,
      "outputs": [
        {
          "output_type": "execute_result",
          "data": {
            "text/plain": [
              "TensorShape([None, 15, 15, 64])"
            ]
          },
          "metadata": {},
          "execution_count": 18
        }
      ]
    },
    {
      "cell_type": "code",
      "source": [
        "x = layers.add([x, residual])"
      ],
      "metadata": {
        "id": "rffJFUqFKyIY"
      },
      "execution_count": 19,
      "outputs": []
    },
    {
      "cell_type": "code",
      "source": [
        "x.shape"
      ],
      "metadata": {
        "id": "rlFt5ev5K3WV",
        "outputId": "f927d4eb-a880-4a8c-f47b-9e03a0287eb5",
        "colab": {
          "base_uri": "https://localhost:8080/"
        }
      },
      "execution_count": 20,
      "outputs": [
        {
          "output_type": "execute_result",
          "data": {
            "text/plain": [
              "TensorShape([None, 15, 15, 64])"
            ]
          },
          "metadata": {},
          "execution_count": 20
        }
      ]
    },
    {
      "cell_type": "markdown",
      "source": [
        "## Simple Covnet with structured blocks"
      ],
      "metadata": {
        "id": "sn9XW2odP_DW"
      }
    },
    {
      "cell_type": "code",
      "source": [
        "input = keras.Input(shape=(32, 32, 3))\n",
        "\n",
        "x = layers.Rescaling (1./255)(input)"
      ],
      "metadata": {
        "id": "7r0-v8fEQDe8"
      },
      "execution_count": 25,
      "outputs": []
    },
    {
      "cell_type": "code",
      "source": [
        "def get_residual_block(x, filters, pooling=False):\n",
        "\n",
        "  residual = x\n",
        "\n",
        "  x = layers.Conv2D(filters, kernel_size=3, padding=\"same\", activation=\"relu\")(x)\n",
        "  x = layers.Conv2D(filters, kernel_size=3, padding=\"same\", activation=\"relu\")(x)\n",
        "  \n",
        "  if pooling:\n",
        "    x = layers.MaxPool2D(pool_size=2, padding=\"same\")(x)\n",
        "    residual = layers.Conv2D(filters, padding=\"same\", kernel_size=1, strides=2)(residual)\n",
        "  else:\n",
        "    residual = layers.Conv2D(filters, 1)(residual)\n",
        "\n",
        "  x = layers.add([x, residual])\n",
        "\n",
        "  return x   "
      ],
      "metadata": {
        "id": "SWsjhNsXQYo2"
      },
      "execution_count": 26,
      "outputs": []
    },
    {
      "cell_type": "code",
      "source": [
        "x = get_residual_block(x, filters=32, pooling=True)\n",
        "x = get_residual_block(x, filters=64, pooling=True)\n",
        "x = get_residual_block(x, filters=128, pooling=False)\n"
      ],
      "metadata": {
        "id": "E4BBEaXaR6zH"
      },
      "execution_count": 27,
      "outputs": []
    },
    {
      "cell_type": "code",
      "source": [
        "x = layers.GlobalAveragePooling2D()(x)\n",
        "output = layers.Dense(1, activation=\"sigmoid\")(x)\n",
        "\n",
        "model = keras.Model(input, output)"
      ],
      "metadata": {
        "id": "TISnv2pmSSP8"
      },
      "execution_count": 28,
      "outputs": []
    },
    {
      "cell_type": "code",
      "source": [
        "model.summary()"
      ],
      "metadata": {
        "id": "IRz2PnsqSz9G",
        "outputId": "775f3b4a-a45d-4d04-e142-de6c9bf7ce58",
        "colab": {
          "base_uri": "https://localhost:8080/"
        }
      },
      "execution_count": 29,
      "outputs": [
        {
          "output_type": "stream",
          "name": "stdout",
          "text": [
            "Model: \"model\"\n",
            "__________________________________________________________________________________________________\n",
            " Layer (type)                   Output Shape         Param #     Connected to                     \n",
            "==================================================================================================\n",
            " input_4 (InputLayer)           [(None, 32, 32, 3)]  0           []                               \n",
            "                                                                                                  \n",
            " rescaling_1 (Rescaling)        (None, 32, 32, 3)    0           ['input_4[0][0]']                \n",
            "                                                                                                  \n",
            " conv2d_7 (Conv2D)              (None, 32, 32, 32)   896         ['rescaling_1[0][0]']            \n",
            "                                                                                                  \n",
            " conv2d_8 (Conv2D)              (None, 32, 32, 32)   9248        ['conv2d_7[0][0]']               \n",
            "                                                                                                  \n",
            " max_pooling2d_1 (MaxPooling2D)  (None, 16, 16, 32)  0           ['conv2d_8[0][0]']               \n",
            "                                                                                                  \n",
            " conv2d_9 (Conv2D)              (None, 16, 16, 32)   128         ['rescaling_1[0][0]']            \n",
            "                                                                                                  \n",
            " add_2 (Add)                    (None, 16, 16, 32)   0           ['max_pooling2d_1[0][0]',        \n",
            "                                                                  'conv2d_9[0][0]']               \n",
            "                                                                                                  \n",
            " conv2d_10 (Conv2D)             (None, 16, 16, 64)   18496       ['add_2[0][0]']                  \n",
            "                                                                                                  \n",
            " conv2d_11 (Conv2D)             (None, 16, 16, 64)   36928       ['conv2d_10[0][0]']              \n",
            "                                                                                                  \n",
            " max_pooling2d_2 (MaxPooling2D)  (None, 8, 8, 64)    0           ['conv2d_11[0][0]']              \n",
            "                                                                                                  \n",
            " conv2d_12 (Conv2D)             (None, 8, 8, 64)     2112        ['add_2[0][0]']                  \n",
            "                                                                                                  \n",
            " add_3 (Add)                    (None, 8, 8, 64)     0           ['max_pooling2d_2[0][0]',        \n",
            "                                                                  'conv2d_12[0][0]']              \n",
            "                                                                                                  \n",
            " conv2d_13 (Conv2D)             (None, 8, 8, 128)    73856       ['add_3[0][0]']                  \n",
            "                                                                                                  \n",
            " conv2d_14 (Conv2D)             (None, 8, 8, 128)    147584      ['conv2d_13[0][0]']              \n",
            "                                                                                                  \n",
            " conv2d_15 (Conv2D)             (None, 8, 8, 128)    8320        ['add_3[0][0]']                  \n",
            "                                                                                                  \n",
            " add_4 (Add)                    (None, 8, 8, 128)    0           ['conv2d_14[0][0]',              \n",
            "                                                                  'conv2d_15[0][0]']              \n",
            "                                                                                                  \n",
            " global_average_pooling2d (Glob  (None, 128)         0           ['add_4[0][0]']                  \n",
            " alAveragePooling2D)                                                                              \n",
            "                                                                                                  \n",
            " dense (Dense)                  (None, 1)            129         ['global_average_pooling2d[0][0]'\n",
            "                                                                 ]                                \n",
            "                                                                                                  \n",
            "==================================================================================================\n",
            "Total params: 297,697\n",
            "Trainable params: 297,697\n",
            "Non-trainable params: 0\n",
            "__________________________________________________________________________________________________\n"
          ]
        }
      ]
    },
    {
      "cell_type": "code",
      "source": [
        "from keras.utils.vis_utils import plot_model"
      ],
      "metadata": {
        "id": "rPc1kayiS6X7"
      },
      "execution_count": 34,
      "outputs": []
    },
    {
      "cell_type": "code",
      "source": [
        "plot_model(model)"
      ],
      "metadata": {
        "id": "zF4s2bOyS_Nf",
        "outputId": "edc7d82a-3ecf-40ff-9cc4-fba5f4344739",
        "colab": {
          "base_uri": "https://localhost:8080/",
          "height": 1000
        }
      },
      "execution_count": 35,
      "outputs": [
        {
          "output_type": "execute_result",
          "data": {
            "image/png": "[encoded data removed]",
            "text/plain": [
              "<IPython.core.display.Image object>"
            ]
          },
          "metadata": {},
          "execution_count": 35
        }
      ]
    }
  ]
}