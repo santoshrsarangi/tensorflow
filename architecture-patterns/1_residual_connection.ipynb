{
  "nbformat": 4,
  "nbformat_minor": 0,
  "metadata": {
    "colab": {
      "provenance": [],
      "authorship_tag": "ABX9TyNuQX+aZsJL/GGURQPdmMXn",
      "include_colab_link": true
    },
    "kernelspec": {
      "name": "python3",
      "display_name": "Python 3"
    },
    "language_info": {
      "name": "python"
    }
  },
  "cells": [
    {
      "cell_type": "markdown",
      "metadata": {
        "id": "view-in-github",
        "colab_type": "text"
      },
      "source": [
        "<a href=\"https://colab.research.google.com/github/santoshrsarangi/tensorflow/blob/main/architecture-patterns/1_residual_connection.ipynb\" target=\"_parent\"><img src=\"https://colab.research.google.com/assets/colab-badge.svg\" alt=\"Open In Colab\"/></a>"
      ]
    },
    {
      "cell_type": "code",
      "execution_count": 1,
      "metadata": {
        "id": "BY9Q6lR74Y_f"
      },
      "outputs": [],
      "source": [
        "import tensorflow as tf\n",
        "from tensorflow import keras\n",
        "from tensorflow.keras import layers"
      ]
    },
    {
      "cell_type": "markdown",
      "source": [
        "## Residual block where filter size changes"
      ],
      "metadata": {
        "id": "oBWQ-qvdQwMz"
      }
    },
    {
      "cell_type": "code",
      "source": [
        "input = keras.Input(shape=(32, 32, 3))\n",
        "\n",
        "x = layers.Conv2D(filters = 32, kernel_size=3, activation=\"relu\")(input)\n",
        "residual = x"
      ],
      "metadata": {
        "id": "Ab7axxC_EqVE"
      },
      "execution_count": 21,
      "outputs": []
    },
    {
      "cell_type": "code",
      "source": [
        "residual.shape"
      ],
      "metadata": {
        "id": "qiZi9Qw0FV6_",
        "outputId": "7f35c1e1-668d-4fe9-9b09-23fba1e73a45",
        "colab": {
          "base_uri": "https://localhost:8080/"
        }
      },
      "execution_count": 22,
      "outputs": [
        {
          "output_type": "execute_result",
          "data": {
            "text/plain": [
              "TensorShape([None, 30, 30, 32])"
            ]
          },
          "metadata": {},
          "execution_count": 22
        }
      ]
    },
    {
      "cell_type": "code",
      "source": [
        "x = layers.Conv2D(filters = 64, kernel_size=3, activation=\"relu\", padding='same')(x)"
      ],
      "metadata": {
        "id": "L3CcrEzDFs0n"
      },
      "execution_count": 23,
      "outputs": []
    },
    {
      "cell_type": "code",
      "source": [
        "x.shape"
      ],
      "metadata": {
        "id": "Rb_KIptvGLNa",
        "outputId": "85faa9ff-65bf-41b7-edb7-2f506ad03410",
        "colab": {
          "base_uri": "https://localhost:8080/"
        }
      },
      "execution_count": 24,
      "outputs": [
        {
          "output_type": "execute_result",
          "data": {
            "text/plain": [
              "TensorShape([None, 30, 30, 64])"
            ]
          },
          "metadata": {},
          "execution_count": 24
        }
      ]
    },
    {
      "cell_type": "code",
      "source": [
        "#use Conv2D with kernel size 1 and required units to reshape to desired shape\n",
        "residual = layers.Conv2D(64, kernel_size=1)(residual)"
      ],
      "metadata": {
        "id": "HaBgtkINQU18"
      },
      "execution_count": 26,
      "outputs": []
    },
    {
      "cell_type": "code",
      "source": [
        "residual.shape"
      ],
      "metadata": {
        "id": "YOX4HTSxQfY8",
        "outputId": "48026d0f-1d29-454d-ff9a-5908a658f3d9",
        "colab": {
          "base_uri": "https://localhost:8080/"
        }
      },
      "execution_count": 27,
      "outputs": [
        {
          "output_type": "execute_result",
          "data": {
            "text/plain": [
              "TensorShape([None, 30, 30, 64])"
            ]
          },
          "metadata": {},
          "execution_count": 27
        }
      ]
    },
    {
      "cell_type": "code",
      "source": [
        "x = layers.add([x, residual])"
      ],
      "metadata": {
        "id": "qAd-MjNYQIej"
      },
      "execution_count": 28,
      "outputs": []
    },
    {
      "cell_type": "markdown",
      "source": [
        "## Residual block when using max pooling"
      ],
      "metadata": {
        "id": "9s-tXz8uRmG7"
      }
    },
    {
      "cell_type": "code",
      "source": [
        "inputs = keras.Input(shape=(32, 32, 3))"
      ],
      "metadata": {
        "id": "30s0raabRr1T"
      },
      "execution_count": 36,
      "outputs": []
    },
    {
      "cell_type": "code",
      "source": [
        "x = layers.Conv2D(filters=32, kernel_size=3, activation=\"relu\")(inputs)"
      ],
      "metadata": {
        "id": "8e-ft41GJMGf"
      },
      "execution_count": 37,
      "outputs": []
    },
    {
      "cell_type": "code",
      "source": [
        "residual = x "
      ],
      "metadata": {
        "id": "_sW-ppTLJm85"
      },
      "execution_count": 38,
      "outputs": []
    },
    {
      "cell_type": "code",
      "source": [
        "residual.shape"
      ],
      "metadata": {
        "id": "BmBx_B9pJpxm",
        "outputId": "43f4e58c-8ec0-4ea2-9f4d-2533aa00a2e0",
        "colab": {
          "base_uri": "https://localhost:8080/"
        }
      },
      "execution_count": 39,
      "outputs": [
        {
          "output_type": "execute_result",
          "data": {
            "text/plain": [
              "TensorShape([None, 30, 30, 32])"
            ]
          },
          "metadata": {},
          "execution_count": 39
        }
      ]
    },
    {
      "cell_type": "code",
      "source": [
        "x = layers.Conv2D(filters=64, kernel_size=3, activation=\"relu\", padding='same')(x)"
      ],
      "metadata": {
        "id": "x8C4z3ruJrX5"
      },
      "execution_count": 40,
      "outputs": []
    },
    {
      "cell_type": "code",
      "source": [
        "x.shape"
      ],
      "metadata": {
        "id": "9u8ZNZG8J6KS",
        "outputId": "4c15fcf8-df34-4502-b6f4-539d92bb592c",
        "colab": {
          "base_uri": "https://localhost:8080/"
        }
      },
      "execution_count": 41,
      "outputs": [
        {
          "output_type": "execute_result",
          "data": {
            "text/plain": [
              "TensorShape([None, 30, 30, 64])"
            ]
          },
          "metadata": {},
          "execution_count": 41
        }
      ]
    },
    {
      "cell_type": "code",
      "source": [
        "x = layers.MaxPool2D(pool_size=(2,2), padding='same')(x)"
      ],
      "metadata": {
        "id": "l7Uy-OrlJ70w"
      },
      "execution_count": 42,
      "outputs": []
    },
    {
      "cell_type": "code",
      "source": [
        "x.shape"
      ],
      "metadata": {
        "id": "2XHIHuYZKYIF",
        "outputId": "5d1198d6-27a1-4aa2-c26b-764e495e38a9",
        "colab": {
          "base_uri": "https://localhost:8080/"
        }
      },
      "execution_count": 43,
      "outputs": [
        {
          "output_type": "execute_result",
          "data": {
            "text/plain": [
              "TensorShape([None, 15, 15, 64])"
            ]
          },
          "metadata": {},
          "execution_count": 43
        }
      ]
    },
    {
      "cell_type": "code",
      "source": [
        "residual = layers.Conv2D(filters=64, kernel_size=1, strides=2)(residual)"
      ],
      "metadata": {
        "id": "q7rLYG5PKZUq"
      },
      "execution_count": 44,
      "outputs": []
    },
    {
      "cell_type": "code",
      "source": [
        "residual.shape"
      ],
      "metadata": {
        "id": "qXwr0KYkKwwH",
        "outputId": "e6094b05-fe33-426f-b7a9-335b40a358a7",
        "colab": {
          "base_uri": "https://localhost:8080/"
        }
      },
      "execution_count": 45,
      "outputs": [
        {
          "output_type": "execute_result",
          "data": {
            "text/plain": [
              "TensorShape([None, 15, 15, 64])"
            ]
          },
          "metadata": {},
          "execution_count": 45
        }
      ]
    },
    {
      "cell_type": "code",
      "source": [
        "x = layers.add([x, residual])"
      ],
      "metadata": {
        "id": "rffJFUqFKyIY"
      },
      "execution_count": 47,
      "outputs": []
    },
    {
      "cell_type": "code",
      "source": [
        "x.shape"
      ],
      "metadata": {
        "id": "rlFt5ev5K3WV",
        "outputId": "355ff4b3-905e-42f3-e7f8-8278f532d8df",
        "colab": {
          "base_uri": "https://localhost:8080/"
        }
      },
      "execution_count": 48,
      "outputs": [
        {
          "output_type": "execute_result",
          "data": {
            "text/plain": [
              "TensorShape([None, 15, 15, 64])"
            ]
          },
          "metadata": {},
          "execution_count": 48
        }
      ]
    }
  ]
}