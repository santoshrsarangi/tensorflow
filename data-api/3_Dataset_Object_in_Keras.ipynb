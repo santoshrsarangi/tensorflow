{
  "nbformat": 4,
  "nbformat_minor": 0,
  "metadata": {
    "colab": {
      "provenance": [],
      "authorship_tag": "ABX9TyOO3C14Xw9U0ccBWjwR+2j3",
      "include_colab_link": true
    },
    "kernelspec": {
      "name": "python3",
      "display_name": "Python 3"
    },
    "language_info": {
      "name": "python"
    }
  },
  "cells": [
    {
      "cell_type": "markdown",
      "metadata": {
        "id": "view-in-github",
        "colab_type": "text"
      },
      "source": [
        "<a href=\"https://colab.research.google.com/github/santoshrsarangi/tensorflow/blob/main/data-api/3_Dataset_Object_in_Keras.ipynb\" target=\"_parent\"><img src=\"https://colab.research.google.com/assets/colab-badge.svg\" alt=\"Open In Colab\"/></a>"
      ]
    },
    {
      "cell_type": "code",
      "execution_count": 1,
      "metadata": {
        "id": "-f34AzMkcfCW"
      },
      "outputs": [],
      "source": [
        "import tensorflow as tf\n",
        "import numpy as np"
      ]
    },
    {
      "cell_type": "code",
      "source": [
        "random_numbers = np.random.normal(size=(1000,16))"
      ],
      "metadata": {
        "id": "p3-G3tv7c8du"
      },
      "execution_count": 2,
      "outputs": []
    },
    {
      "cell_type": "code",
      "source": [
        "random_numbers[0]"
      ],
      "metadata": {
        "id": "HogCfmGHdRyZ",
        "outputId": "5bf74d8e-e20c-4986-a155-741c82c4ca0c",
        "colab": {
          "base_uri": "https://localhost:8080/"
        }
      },
      "execution_count": 3,
      "outputs": [
        {
          "output_type": "execute_result",
          "data": {
            "text/plain": [
              "array([ 0.34574178, -0.20982546, -0.17469944, -0.38021277,  0.25044075,\n",
              "        2.07284802,  0.59399392, -0.30308333, -0.7596228 , -1.32840107,\n",
              "        1.85100534,  0.98205677,  0.45403446, -1.0691125 ,  2.01595453,\n",
              "       -0.563987  ])"
            ]
          },
          "metadata": {},
          "execution_count": 3
        }
      ]
    },
    {
      "cell_type": "code",
      "source": [
        "type(random_numbers)"
      ],
      "metadata": {
        "id": "yzogcA2td-yZ",
        "outputId": "f9c6712e-c6b9-4007-a535-b6b45ba2bfdf",
        "colab": {
          "base_uri": "https://localhost:8080/"
        }
      },
      "execution_count": 7,
      "outputs": [
        {
          "output_type": "execute_result",
          "data": {
            "text/plain": [
              "numpy.ndarray"
            ]
          },
          "metadata": {},
          "execution_count": 7
        }
      ]
    },
    {
      "cell_type": "code",
      "source": [
        "mydataset = tf.data.Dataset.from_tensor_slices(random_numbers)"
      ],
      "metadata": {
        "id": "VFEiHQpzdbel"
      },
      "execution_count": 4,
      "outputs": []
    },
    {
      "cell_type": "code",
      "source": [
        "type(mydataset)"
      ],
      "metadata": {
        "id": "zssk9B2vdrC6",
        "outputId": "50e1f8ea-1d7f-4e78-cf90-8fb844fd77ac",
        "colab": {
          "base_uri": "https://localhost:8080/"
        }
      },
      "execution_count": 6,
      "outputs": [
        {
          "output_type": "execute_result",
          "data": {
            "text/plain": [
              "tensorflow.python.data.ops.dataset_ops.TensorSliceDataset"
            ]
          },
          "metadata": {},
          "execution_count": 6
        }
      ]
    },
    {
      "cell_type": "code",
      "source": [
        "for i, element in enumerate(mydataset):\n",
        "\n",
        "  print(element.shape)\n",
        "  print(i)\n",
        "  \n",
        "  if i >= 1:\n",
        "    break"
      ],
      "metadata": {
        "id": "HWJM3lbXesds",
        "outputId": "1245e941-d1ff-4779-ff26-95d561e9bf4f",
        "colab": {
          "base_uri": "https://localhost:8080/"
        }
      },
      "execution_count": 14,
      "outputs": [
        {
          "output_type": "stream",
          "name": "stdout",
          "text": [
            "(16,)\n",
            "0\n",
            "(16,)\n",
            "1\n"
          ]
        }
      ]
    },
    {
      "cell_type": "code",
      "source": [
        "my_batch_dataset = mydataset.batch(batch_size=32)"
      ],
      "metadata": {
        "id": "qIfbeunJf0dQ"
      },
      "execution_count": 15,
      "outputs": []
    },
    {
      "cell_type": "code",
      "source": [
        "for i, element in enumerate(my_batch_dataset):\n",
        "\n",
        "  print(element[0])\n",
        "  print(i)\n",
        "\n",
        "  if i>=1:\n",
        "    break"
      ],
      "metadata": {
        "id": "alujl3uTgDtj",
        "outputId": "09b9cdea-34fa-4df7-be1b-023e1da1823b",
        "colab": {
          "base_uri": "https://localhost:8080/"
        }
      },
      "execution_count": 17,
      "outputs": [
        {
          "output_type": "stream",
          "name": "stdout",
          "text": [
            "tf.Tensor(\n",
            "[ 0.34574178 -0.20982546 -0.17469944 -0.38021277  0.25044075  2.07284802\n",
            "  0.59399392 -0.30308333 -0.7596228  -1.32840107  1.85100534  0.98205677\n",
            "  0.45403446 -1.0691125   2.01595453 -0.563987  ], shape=(16,), dtype=float64)\n",
            "0\n",
            "tf.Tensor(\n",
            "[ 0.67741828 -0.77987398 -2.05108096  0.15963299 -1.00437379  2.21299427\n",
            " -0.22107879  1.09716739  0.30903262 -1.23855175  0.41204567  0.02227097\n",
            "  1.04466784  0.95644695  0.30724867 -1.20990964], shape=(16,), dtype=float64)\n",
            "1\n"
          ]
        }
      ]
    }
  ]
}
