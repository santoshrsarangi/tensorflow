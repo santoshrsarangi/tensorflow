{
  "nbformat": 4,
  "nbformat_minor": 0,
  "metadata": {
    "colab": {
      "provenance": [],
      "authorship_tag": "ABX9TyPmNtDH+D0SdhWemdhGvwPG",
      "include_colab_link": true
    },
    "kernelspec": {
      "name": "python3",
      "display_name": "Python 3"
    },
    "language_info": {
      "name": "python"
    }
  },
  "cells": [
    {
      "cell_type": "markdown",
      "metadata": {
        "id": "view-in-github",
        "colab_type": "text"
      },
      "source": [
        "<a href=\"https://colab.research.google.com/github/santoshrsarangi/tensorflow/blob/main/data-api/5_Tensorflow_Data_API.ipynb\" target=\"_parent\"><img src=\"https://colab.research.google.com/assets/colab-badge.svg\" alt=\"Open In Colab\"/></a>"
      ]
    },
    {
      "cell_type": "code",
      "execution_count": 2,
      "metadata": {
        "id": "xxqG3MaxgbQ8"
      },
      "outputs": [],
      "source": [
        "import tensorflow as tf"
      ]
    },
    {
      "cell_type": "code",
      "source": [
        "import os, pathlib\n",
        "import matplotlib.pyplot as plt\n",
        "import pandas as pd\n",
        "import numpy as np\n"
      ],
      "metadata": {
        "id": "WMUyQ-klg668"
      },
      "execution_count": 3,
      "outputs": []
    },
    {
      "cell_type": "code",
      "source": [
        "np.set_printoptions(precision=4)"
      ],
      "metadata": {
        "id": "Ua-6-rXfhF-j"
      },
      "execution_count": 4,
      "outputs": []
    },
    {
      "cell_type": "code",
      "source": [
        "sample_dataset = tf.data.Dataset.from_tensor_slices([1, 2, 3, 4, 5, 6, 7, 8, 9, 10])"
      ],
      "metadata": {
        "id": "uVwgPy76hTgB"
      },
      "execution_count": 5,
      "outputs": []
    },
    {
      "cell_type": "code",
      "source": [
        "sample_dataset"
      ],
      "metadata": {
        "colab": {
          "base_uri": "https://localhost:8080/"
        },
        "id": "Xtpld5oLkJjV",
        "outputId": "780bb9ad-97ab-4b7f-968a-6346412b0959"
      },
      "execution_count": 6,
      "outputs": [
        {
          "output_type": "execute_result",
          "data": {
            "text/plain": [
              "<TensorSliceDataset element_spec=TensorSpec(shape=(), dtype=tf.int32, name=None)>"
            ]
          },
          "metadata": {},
          "execution_count": 6
        }
      ]
    },
    {
      "cell_type": "code",
      "source": [
        "for data in sample_dataset:\n",
        "  print(data.numpy())"
      ],
      "metadata": {
        "colab": {
          "base_uri": "https://localhost:8080/"
        },
        "id": "aKutHuO7kPYT",
        "outputId": "39cf1dc0-b028-4c69-b1ad-a34eb2b3198c"
      },
      "execution_count": 7,
      "outputs": [
        {
          "output_type": "stream",
          "name": "stdout",
          "text": [
            "1\n",
            "2\n",
            "3\n",
            "4\n",
            "5\n",
            "6\n",
            "7\n",
            "8\n",
            "9\n",
            "10\n"
          ]
        }
      ]
    },
    {
      "cell_type": "code",
      "source": [
        "#We can also use Python iter and next to access the elements\n",
        "it=iter(sample_dataset)"
      ],
      "metadata": {
        "id": "mwMVr475kqG_"
      },
      "execution_count": 8,
      "outputs": []
    },
    {
      "cell_type": "code",
      "source": [
        "print(next(it).numpy())"
      ],
      "metadata": {
        "colab": {
          "base_uri": "https://localhost:8080/"
        },
        "id": "Q0ipkdSSkzLd",
        "outputId": "5b573da5-5067-472f-b9b2-a2194106c6cf"
      },
      "execution_count": 9,
      "outputs": [
        {
          "output_type": "stream",
          "name": "stdout",
          "text": [
            "1\n"
          ]
        }
      ]
    },
    {
      "cell_type": "code",
      "source": [
        "#We can also use the dataset reduce function to return a single value. \n",
        "#Here's a definitio of the reduce funtion.\n",
        "#reduce(\n",
        "#    initial_state, reduce_func, name=None\n",
        "#)\n",
        "\n",
        "#The reduce_func is called on every element of the input \n",
        "#dataset until the dataset is exhausted, aggregating information in \n",
        "#\"previous_total\" (see code below)\n",
        "#The initial_state argument is used for the initial value of \"previous_total\"\n",
        "\n",
        "print(sample_dataset.reduce(0, lambda previous_total, data: previous_total + data).numpy())\n"
      ],
      "metadata": {
        "colab": {
          "base_uri": "https://localhost:8080/"
        },
        "id": "RLpwALXdmGNo",
        "outputId": "dc0bc5b5-e624-4d2a-b912-d47341dfa68a"
      },
      "execution_count": 10,
      "outputs": [
        {
          "output_type": "stream",
          "name": "stdout",
          "text": [
            "55\n"
          ]
        }
      ]
    },
    {
      "cell_type": "code",
      "source": [
        "#Question: What will be the output of the followin?\n",
        "#print(sample_dataset.reduce(0, lambda previous_total, data: previous_total * data).numpy()\n",
        "#How can you get the product of all elements?\n",
        "\n",
        "# https://www.tensorflow.org/guide/data#batching_dataset_elements\n",
        "# https://www.tensorflow.org/api_docs/python/tf/data/Dataset#reduce"
      ],
      "metadata": {
        "id": "fEKXM9-Jp_BR"
      },
      "execution_count": null,
      "outputs": []
    },
    {
      "cell_type": "code",
      "source": [],
      "metadata": {
        "id": "R6OY-9vOq2hU"
      },
      "execution_count": null,
      "outputs": []
    }
  ]
}