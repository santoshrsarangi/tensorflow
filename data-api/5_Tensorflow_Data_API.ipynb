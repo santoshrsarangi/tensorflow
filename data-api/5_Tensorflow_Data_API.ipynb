{
  "nbformat": 4,
  "nbformat_minor": 0,
  "metadata": {
    "colab": {
      "provenance": [],
      "authorship_tag": "ABX9TyNk4GG+0xD8iJc84f8tvthv",
      "include_colab_link": true
    },
    "kernelspec": {
      "name": "python3",
      "display_name": "Python 3"
    },
    "language_info": {
      "name": "python"
    }
  },
  "cells": [
    {
      "cell_type": "markdown",
      "metadata": {
        "id": "view-in-github",
        "colab_type": "text"
      },
      "source": [
        "<a href=\"https://colab.research.google.com/github/santoshrsarangi/tensorflow/blob/main/data-api/5_Tensorflow_Data_API.ipynb\" target=\"_parent\"><img src=\"https://colab.research.google.com/assets/colab-badge.svg\" alt=\"Open In Colab\"/></a>"
      ]
    },
    {
      "cell_type": "code",
      "execution_count": 3,
      "metadata": {
        "id": "xxqG3MaxgbQ8"
      },
      "outputs": [],
      "source": [
        "import tensorflow as tf"
      ]
    },
    {
      "cell_type": "code",
      "source": [
        "import os, pathlib\n",
        "import matplotlib.pyplot as plt\n",
        "import pandas as pd\n",
        "import numpy as np\n"
      ],
      "metadata": {
        "id": "WMUyQ-klg668"
      },
      "execution_count": 4,
      "outputs": []
    },
    {
      "cell_type": "code",
      "source": [
        "np.set_printoptions(precision=4)"
      ],
      "metadata": {
        "id": "Ua-6-rXfhF-j"
      },
      "execution_count": 5,
      "outputs": []
    },
    {
      "cell_type": "code",
      "source": [
        "sample_dataset = tf.data.Dataset.from_tensor_slices([1, 2, 3, 4, 5, 6, 7, 8, 9, 10])"
      ],
      "metadata": {
        "id": "uVwgPy76hTgB"
      },
      "execution_count": 6,
      "outputs": []
    },
    {
      "cell_type": "code",
      "source": [
        "sample_dataset"
      ],
      "metadata": {
        "colab": {
          "base_uri": "https://localhost:8080/"
        },
        "id": "Xtpld5oLkJjV",
        "outputId": "29b16286-a1ad-427c-a2b1-f14ecfd644ae"
      },
      "execution_count": 7,
      "outputs": [
        {
          "output_type": "execute_result",
          "data": {
            "text/plain": [
              "<TensorSliceDataset element_spec=TensorSpec(shape=(), dtype=tf.int32, name=None)>"
            ]
          },
          "metadata": {},
          "execution_count": 7
        }
      ]
    },
    {
      "cell_type": "code",
      "source": [
        "for data in sample_dataset:\n",
        "  print(data.numpy())"
      ],
      "metadata": {
        "colab": {
          "base_uri": "https://localhost:8080/"
        },
        "id": "aKutHuO7kPYT",
        "outputId": "93d37f77-d65e-44df-a8b4-ba49d4db70b4"
      },
      "execution_count": 8,
      "outputs": [
        {
          "output_type": "stream",
          "name": "stdout",
          "text": [
            "1\n",
            "2\n",
            "3\n",
            "4\n",
            "5\n",
            "6\n",
            "7\n",
            "8\n",
            "9\n",
            "10\n"
          ]
        }
      ]
    },
    {
      "cell_type": "code",
      "source": [
        "#We can also use Python iter and next to access the elements\n",
        "it=iter(sample_dataset)"
      ],
      "metadata": {
        "id": "mwMVr475kqG_"
      },
      "execution_count": 9,
      "outputs": []
    },
    {
      "cell_type": "code",
      "source": [
        "print(next(it).numpy())"
      ],
      "metadata": {
        "colab": {
          "base_uri": "https://localhost:8080/"
        },
        "id": "Q0ipkdSSkzLd",
        "outputId": "cf108bda-2b92-4381-8a3d-09f942a3c037"
      },
      "execution_count": 10,
      "outputs": [
        {
          "output_type": "stream",
          "name": "stdout",
          "text": [
            "1\n"
          ]
        }
      ]
    },
    {
      "cell_type": "code",
      "source": [
        "#We can also use the dataset reduce function to return a single value. \n",
        "#Here's a definitio of the reduce funtion.\n",
        "#reduce(\n",
        "#    initial_state, reduce_func, name=None\n",
        "#)\n",
        "\n",
        "#The reduce_func is called on every element of the input \n",
        "#dataset until the dataset is exhausted, aggregating information in \n",
        "#\"previous_total\" (see code below)\n",
        "#The initial_state argument is used for the initial value of \"previous_total\"\n",
        "\n",
        "print(sample_dataset.reduce(0, lambda previous_total, data: previous_total + data).numpy())\n"
      ],
      "metadata": {
        "colab": {
          "base_uri": "https://localhost:8080/"
        },
        "id": "RLpwALXdmGNo",
        "outputId": "54368d03-65f0-4d34-b561-cc8eca755ff6"
      },
      "execution_count": 11,
      "outputs": [
        {
          "output_type": "stream",
          "name": "stdout",
          "text": [
            "55\n"
          ]
        }
      ]
    },
    {
      "cell_type": "code",
      "source": [
        "#Question: What will be the output of the followin?\n",
        "#print(sample_dataset.reduce(0, lambda previous_total, data: previous_total * data).numpy()\n",
        "#How can you get the product of all elements?\n",
        "\n",
        "# https://www.tensorflow.org/guide/data#batching_dataset_elements\n",
        "# https://www.tensorflow.org/api_docs/python/tf/data/Dataset#reduce"
      ],
      "metadata": {
        "id": "fEKXM9-Jp_BR"
      },
      "execution_count": 12,
      "outputs": []
    },
    {
      "cell_type": "code",
      "source": [
        "tf.random.uniform([4, 10])"
      ],
      "metadata": {
        "id": "h4ILp2oMt5uh",
        "outputId": "c569e4b0-e783-4256-dcd4-b83eed3b1aaf",
        "colab": {
          "base_uri": "https://localhost:8080/"
        }
      },
      "execution_count": 13,
      "outputs": [
        {
          "output_type": "execute_result",
          "data": {
            "text/plain": [
              "<tf.Tensor: shape=(4, 10), dtype=float32, numpy=\n",
              "array([[0.2369, 0.3125, 0.4729, 0.8274, 0.6314, 0.9101, 0.9688, 0.5641,\n",
              "        0.6663, 0.6673],\n",
              "       [0.0148, 0.0531, 0.1048, 0.2456, 0.4826, 0.8302, 0.3299, 0.1179,\n",
              "        0.7396, 0.3606],\n",
              "       [0.5728, 0.0947, 0.305 , 0.792 , 0.7397, 0.3084, 0.0127, 0.6349,\n",
              "        0.9101, 0.8871],\n",
              "       [0.4732, 0.4566, 0.4087, 0.628 , 0.0311, 0.009 , 0.4054, 0.3076,\n",
              "        0.9635, 0.873 ]], dtype=float32)>"
            ]
          },
          "metadata": {},
          "execution_count": 13
        }
      ]
    },
    {
      "cell_type": "code",
      "source": [
        "dataset1 = tf.data.Dataset.from_tensor_slices(tf.random.uniform([4, 10]))"
      ],
      "metadata": {
        "id": "R6OY-9vOq2hU"
      },
      "execution_count": 14,
      "outputs": []
    },
    {
      "cell_type": "code",
      "source": [
        "dataset1.element_spec"
      ],
      "metadata": {
        "id": "tk_bJQ1jtpth",
        "outputId": "eaa7b4fa-673c-4ecf-eb46-4c2c088f7c81",
        "colab": {
          "base_uri": "https://localhost:8080/"
        }
      },
      "execution_count": 15,
      "outputs": [
        {
          "output_type": "execute_result",
          "data": {
            "text/plain": [
              "TensorSpec(shape=(10,), dtype=tf.float32, name=None)"
            ]
          },
          "metadata": {},
          "execution_count": 15
        }
      ]
    },
    {
      "cell_type": "code",
      "source": [
        "tf.random.uniform([4])"
      ],
      "metadata": {
        "id": "XahgzoN3uI5Q",
        "outputId": "103fee3b-8037-47fb-9276-c7f6c711e730",
        "colab": {
          "base_uri": "https://localhost:8080/"
        }
      },
      "execution_count": 16,
      "outputs": [
        {
          "output_type": "execute_result",
          "data": {
            "text/plain": [
              "<tf.Tensor: shape=(4,), dtype=float32, numpy=array([0.1699, 0.3421, 0.6083, 0.326 ], dtype=float32)>"
            ]
          },
          "metadata": {},
          "execution_count": 16
        }
      ]
    },
    {
      "cell_type": "code",
      "source": [
        "tf.random.uniform([4, 20], maxval=10, dtype=tf.int32)"
      ],
      "metadata": {
        "id": "fWhoxPqNutJn",
        "outputId": "2c76f055-aff9-4f3a-c326-b9d19a135e80",
        "colab": {
          "base_uri": "https://localhost:8080/"
        }
      },
      "execution_count": 17,
      "outputs": [
        {
          "output_type": "execute_result",
          "data": {
            "text/plain": [
              "<tf.Tensor: shape=(4, 20), dtype=int32, numpy=\n",
              "array([[8, 9, 2, 2, 6, 5, 1, 1, 4, 6, 0, 7, 0, 7, 3, 3, 5, 6, 8, 1],\n",
              "       [8, 6, 1, 6, 4, 3, 8, 2, 4, 5, 0, 8, 7, 9, 2, 1, 9, 4, 3, 2],\n",
              "       [6, 1, 7, 1, 4, 4, 3, 7, 2, 6, 8, 7, 9, 4, 7, 8, 5, 3, 7, 6],\n",
              "       [7, 9, 7, 6, 6, 1, 0, 0, 8, 9, 8, 8, 1, 4, 3, 1, 0, 4, 2, 5]],\n",
              "      dtype=int32)>"
            ]
          },
          "metadata": {},
          "execution_count": 17
        }
      ]
    },
    {
      "cell_type": "code",
      "source": [
        "dataset2 = tf.data.Dataset.from_tensor_slices((\n",
        "    tf.random.uniform([4]),\n",
        "    tf.random.uniform([4, 10], maxval=10, dtype=tf.int32)\n",
        "))"
      ],
      "metadata": {
        "id": "lqVbYPsTu8Mi"
      },
      "execution_count": 18,
      "outputs": []
    },
    {
      "cell_type": "code",
      "source": [
        "dataset2.element_spec"
      ],
      "metadata": {
        "id": "N1f1YIjOvTaS",
        "outputId": "db35343f-b91b-4c0a-ddfa-9bc7e6815432",
        "colab": {
          "base_uri": "https://localhost:8080/"
        }
      },
      "execution_count": 19,
      "outputs": [
        {
          "output_type": "execute_result",
          "data": {
            "text/plain": [
              "(TensorSpec(shape=(), dtype=tf.float32, name=None),\n",
              " TensorSpec(shape=(10,), dtype=tf.int32, name=None))"
            ]
          },
          "metadata": {},
          "execution_count": 19
        }
      ]
    },
    {
      "cell_type": "code",
      "source": [
        "dataset3 = tf.data.Dataset.zip((dataset1, dataset2))\n",
        "dataset3.element_spec"
      ],
      "metadata": {
        "id": "C1XeSwJYwj3V",
        "outputId": "6ac2bf9b-da32-4718-d5a2-ee95548bc9f4",
        "colab": {
          "base_uri": "https://localhost:8080/"
        }
      },
      "execution_count": 20,
      "outputs": [
        {
          "output_type": "execute_result",
          "data": {
            "text/plain": [
              "(TensorSpec(shape=(10,), dtype=tf.float32, name=None),\n",
              " (TensorSpec(shape=(), dtype=tf.float32, name=None),\n",
              "  TensorSpec(shape=(10,), dtype=tf.int32, name=None)))"
            ]
          },
          "metadata": {},
          "execution_count": 20
        }
      ]
    },
    {
      "cell_type": "code",
      "source": [
        "x = tf.sparse.SparseTensor(indices=[[1],[2]], values=[3,4], dense_shape=[9])\n",
        "x.values"
      ],
      "metadata": {
        "id": "iwBnkgQCy583",
        "outputId": "9d433e28-29c1-4e69-a2fd-32a45e8e9382",
        "colab": {
          "base_uri": "https://localhost:8080/"
        }
      },
      "execution_count": 26,
      "outputs": [
        {
          "output_type": "execute_result",
          "data": {
            "text/plain": [
              "<tf.Tensor: shape=(2,), dtype=int32, numpy=array([3, 4], dtype=int32)>"
            ]
          },
          "metadata": {},
          "execution_count": 26
        }
      ]
    },
    {
      "cell_type": "code",
      "source": [
        "dataset4 = tf.data.Dataset.from_tensors(tf.SparseTensor(indices=[[0,0], [3,3]], values=[1,9], dense_shape=[3,3]))"
      ],
      "metadata": {
        "id": "qSIUtGF7fq7O"
      },
      "execution_count": 28,
      "outputs": []
    },
    {
      "cell_type": "code",
      "source": [
        "dataset4.element_spec"
      ],
      "metadata": {
        "id": "BEIQbbS4gW7o",
        "outputId": "aa9d4f04-fdea-47c3-af86-505bb90fcfd6",
        "colab": {
          "base_uri": "https://localhost:8080/"
        }
      },
      "execution_count": 31,
      "outputs": [
        {
          "output_type": "execute_result",
          "data": {
            "text/plain": [
              "SparseTensorSpec(TensorShape([3, 3]), tf.int32)"
            ]
          },
          "metadata": {},
          "execution_count": 31
        }
      ]
    },
    {
      "cell_type": "code",
      "source": [
        "for x in dataset1:\n",
        "  print(x.numpy())"
      ],
      "metadata": {
        "id": "Nhf9P46Bg0fV",
        "outputId": "8442ed54-99b9-4ba4-c64c-cdd002dd7fe8",
        "colab": {
          "base_uri": "https://localhost:8080/"
        }
      },
      "execution_count": 35,
      "outputs": [
        {
          "output_type": "stream",
          "name": "stdout",
          "text": [
            "[0.2509 0.6811 0.9301 0.4916 0.5752 0.3044 0.2075 0.8756 0.3903 0.0392]\n",
            "[0.7225 0.3381 0.2436 0.6865 0.1842 0.5873 0.0363 0.7419 0.9536 0.1656]\n",
            "[0.1122 0.6636 0.0137 0.6327 0.4097 0.5981 0.0567 0.6935 0.711  0.9153]\n",
            "[0.7216 0.9151 0.8179 0.1198 0.3411 0.041  0.2015 0.7587 0.8276 0.1443]\n"
          ]
        }
      ]
    }
  ]
}