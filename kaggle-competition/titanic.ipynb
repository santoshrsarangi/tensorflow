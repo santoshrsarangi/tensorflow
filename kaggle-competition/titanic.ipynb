{
  "nbformat": 4,
  "nbformat_minor": 0,
  "metadata": {
    "colab": {
      "provenance": [],
      "authorship_tag": "ABX9TyPi64OSimO7MwBsIcA0ObHE",
      "include_colab_link": true
    },
    "kernelspec": {
      "name": "python3",
      "display_name": "Python 3"
    },
    "language_info": {
      "name": "python"
    }
  },
  "cells": [
    {
      "cell_type": "markdown",
      "metadata": {
        "id": "view-in-github",
        "colab_type": "text"
      },
      "source": [
        "<a href=\"https://colab.research.google.com/github/santoshrsarangi/tensorflow/blob/main/kaggle-competition/titanic.ipynb\" target=\"_parent\"><img src=\"https://colab.research.google.com/assets/colab-badge.svg\" alt=\"Open In Colab\"/></a>"
      ]
    },
    {
      "cell_type": "code",
      "execution_count": 1,
      "metadata": {
        "id": "8MFuTPzrHrFc",
        "colab": {
          "resources": {
            "http://localhost:8080/nbextensions/google.colab/files.js": {
              "data": "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",
              "ok": true,
              "headers": [
                [
                  "content-type",
                  "application/javascript"
                ]
              ],
              "status": 200,
              "status_text": ""
            }
          },
          "base_uri": "https://localhost:8080/",
          "height": 92
        },
        "outputId": "2128e795-b31c-4eff-b161-f9937dc9ce86"
      },
      "outputs": [
        {
          "output_type": "display_data",
          "data": {
            "text/plain": [
              "<IPython.core.display.HTML object>"
            ],
            "text/html": [
              "\n",
              "     <input type=\"file\" id=\"files-fa24d137-d043-497b-9d3a-e6cfd44aa318\" name=\"files[]\" multiple disabled\n",
              "        style=\"border:none\" />\n",
              "     <output id=\"result-fa24d137-d043-497b-9d3a-e6cfd44aa318\">\n",
              "      Upload widget is only available when the cell has been executed in the\n",
              "      current browser session. Please rerun this cell to enable.\n",
              "      </output>\n",
              "      <script src=\"/nbextensions/google.colab/files.js\"></script> "
            ]
          },
          "metadata": {}
        },
        {
          "output_type": "stream",
          "name": "stdout",
          "text": [
            "Saving kaggle.json to kaggle.json\n"
          ]
        }
      ],
      "source": [
        "from google.colab import files\n",
        "r = files.upload()"
      ]
    },
    {
      "cell_type": "code",
      "source": [
        "!mkdir ~/.kaggle\n",
        "!cp kaggle.json ~/.kaggle/\n",
        "!chmod 600 ~/.kaggle/kaggle.json"
      ],
      "metadata": {
        "id": "MJcnPKeSIy5X"
      },
      "execution_count": 2,
      "outputs": []
    },
    {
      "cell_type": "code",
      "source": [
        "!kaggle competitions download -c titanic "
      ],
      "metadata": {
        "colab": {
          "base_uri": "https://localhost:8080/"
        },
        "id": "vVIKkOdZJBnK",
        "outputId": "dc08b8af-71e8-42fd-9e6e-f4f4d23db957"
      },
      "execution_count": 3,
      "outputs": [
        {
          "output_type": "stream",
          "name": "stdout",
          "text": [
            "Downloading titanic.zip to /content\n",
            "\r  0% 0.00/34.1k [00:00<?, ?B/s]\n",
            "\r100% 34.1k/34.1k [00:00<00:00, 14.3MB/s]\n"
          ]
        }
      ]
    },
    {
      "cell_type": "code",
      "source": [
        "!unzip -qq titanic.zip"
      ],
      "metadata": {
        "id": "5ROR06bqJYok"
      },
      "execution_count": 4,
      "outputs": []
    },
    {
      "cell_type": "code",
      "source": [
        "import numpy as np\n",
        "import pandas as pd"
      ],
      "metadata": {
        "id": "nxEOLJ9HJk20"
      },
      "execution_count": 5,
      "outputs": []
    },
    {
      "cell_type": "code",
      "source": [
        "df = pd.read_csv(\"train.csv\")"
      ],
      "metadata": {
        "id": "4K40roYCJ8Ww"
      },
      "execution_count": 6,
      "outputs": []
    },
    {
      "cell_type": "code",
      "source": [
        "df.info()"
      ],
      "metadata": {
        "colab": {
          "base_uri": "https://localhost:8080/"
        },
        "id": "W7j3bIOVKI2P",
        "outputId": "6159d29e-00b3-43be-b793-5536780476d9"
      },
      "execution_count": 7,
      "outputs": [
        {
          "output_type": "stream",
          "name": "stdout",
          "text": [
            "<class 'pandas.core.frame.DataFrame'>\n",
            "RangeIndex: 891 entries, 0 to 890\n",
            "Data columns (total 12 columns):\n",
            " #   Column       Non-Null Count  Dtype  \n",
            "---  ------       --------------  -----  \n",
            " 0   PassengerId  891 non-null    int64  \n",
            " 1   Survived     891 non-null    int64  \n",
            " 2   Pclass       891 non-null    int64  \n",
            " 3   Name         891 non-null    object \n",
            " 4   Sex          891 non-null    object \n",
            " 5   Age          714 non-null    float64\n",
            " 6   SibSp        891 non-null    int64  \n",
            " 7   Parch        891 non-null    int64  \n",
            " 8   Ticket       891 non-null    object \n",
            " 9   Fare         891 non-null    float64\n",
            " 10  Cabin        204 non-null    object \n",
            " 11  Embarked     889 non-null    object \n",
            "dtypes: float64(2), int64(5), object(5)\n",
            "memory usage: 83.7+ KB\n"
          ]
        }
      ]
    },
    {
      "cell_type": "code",
      "source": [
        "import seaborn as sns"
      ],
      "metadata": {
        "id": "eG7GoPvKYNLb"
      },
      "execution_count": 8,
      "outputs": []
    },
    {
      "cell_type": "code",
      "source": [
        "sns.heatmap(df.isnull(), cbar=False)"
      ],
      "metadata": {
        "id": "ufPGI_SKY7tc",
        "outputId": "9f018a9a-22e2-446a-f1c6-1dd8f07b1ef1",
        "colab": {
          "base_uri": "https://localhost:8080/",
          "height": 359
        }
      },
      "execution_count": 9,
      "outputs": [
        {
          "output_type": "execute_result",
          "data": {
            "text/plain": [
              "<matplotlib.axes._subplots.AxesSubplot at 0x7f0418253590>"
            ]
          },
          "metadata": {},
          "execution_count": 9
        },
        {
          "output_type": "display_data",
          "data": {
            "text/plain": [
              "<Figure size 432x288 with 1 Axes>"
            ],
            "image/png": "[encoded data removed]"
          },
          "metadata": {
            "needs_background": "light"
          }
        }
      ]
    },
    {
      "cell_type": "code",
      "source": [
        "df.head(1)"
      ],
      "metadata": {
        "colab": {
          "base_uri": "https://localhost:8080/",
          "height": 100
        },
        "id": "igNUPIrcKK9N",
        "outputId": "e945ea38-5658-4003-b73d-ac765c5f5beb"
      },
      "execution_count": 10,
      "outputs": [
        {
          "output_type": "execute_result",
          "data": {
            "text/plain": [
              "   PassengerId  Survived  Pclass                     Name   Sex   Age  SibSp  \\\n",
              "0            1         0       3  Braund, Mr. Owen Harris  male  22.0      1   \n",
              "\n",
              "   Parch     Ticket  Fare Cabin Embarked  \n",
              "0      0  A/5 21171  7.25   NaN        S  "
            ],
            "text/html": [
              "\n",
              "  <div id=\"df-7ae0f493-eddf-4b21-8cb1-848e40020aa7\">\n",
              "    <div class=\"colab-df-container\">\n",
              "      <div>\n",
              "<style scoped>\n",
              "    .dataframe tbody tr th:only-of-type {\n",
              "        vertical-align: middle;\n",
              "    }\n",
              "\n",
              "    .dataframe tbody tr th {\n",
              "        vertical-align: top;\n",
              "    }\n",
              "\n",
              "    .dataframe thead th {\n",
              "        text-align: right;\n",
              "    }\n",
              "</style>\n",
              "<table border=\"1\" class=\"dataframe\">\n",
              "  <thead>\n",
              "    <tr style=\"text-align: right;\">\n",
              "      <th></th>\n",
              "      <th>PassengerId</th>\n",
              "      <th>Survived</th>\n",
              "      <th>Pclass</th>\n",
              "      <th>Name</th>\n",
              "      <th>Sex</th>\n",
              "      <th>Age</th>\n",
              "      <th>SibSp</th>\n",
              "      <th>Parch</th>\n",
              "      <th>Ticket</th>\n",
              "      <th>Fare</th>\n",
              "      <th>Cabin</th>\n",
              "      <th>Embarked</th>\n",
              "    </tr>\n",
              "  </thead>\n",
              "  <tbody>\n",
              "    <tr>\n",
              "      <th>0</th>\n",
              "      <td>1</td>\n",
              "      <td>0</td>\n",
              "      <td>3</td>\n",
              "      <td>Braund, Mr. Owen Harris</td>\n",
              "      <td>male</td>\n",
              "      <td>22.0</td>\n",
              "      <td>1</td>\n",
              "      <td>0</td>\n",
              "      <td>A/5 21171</td>\n",
              "      <td>7.25</td>\n",
              "      <td>NaN</td>\n",
              "      <td>S</td>\n",
              "    </tr>\n",
              "  </tbody>\n",
              "</table>\n",
              "</div>\n",
              "      <button class=\"colab-df-convert\" onclick=\"convertToInteractive('df-7ae0f493-eddf-4b21-8cb1-848e40020aa7')\"\n",
              "              title=\"Convert this dataframe to an interactive table.\"\n",
              "              style=\"display:none;\">\n",
              "        \n",
              "  <svg xmlns=\"http://www.w3.org/2000/svg\" height=\"24px\"viewBox=\"0 0 24 24\"\n",
              "       width=\"24px\">\n",
              "    <path d=\"M0 0h24v24H0V0z\" fill=\"none\"/>\n",
              "    <path d=\"M18.56 5.44l.94 2.06.94-2.06 2.06-.94-2.06-.94-.94-2.06-.94 2.06-2.06.94zm-11 1L8.5 8.5l.94-2.06 2.06-.94-2.06-.94L8.5 2.5l-.94 2.06-2.06.94zm10 10l.94 2.06.94-2.06 2.06-.94-2.06-.94-.94-2.06-.94 2.06-2.06.94z\"/><path d=\"M17.41 7.96l-1.37-1.37c-.4-.4-.92-.59-1.43-.59-.52 0-1.04.2-1.43.59L10.3 9.45l-7.72 7.72c-.78.78-.78 2.05 0 2.83L4 21.41c.39.39.9.59 1.41.59.51 0 1.02-.2 1.41-.59l7.78-7.78 2.81-2.81c.8-.78.8-2.07 0-2.86zM5.41 20L4 18.59l7.72-7.72 1.47 1.35L5.41 20z\"/>\n",
              "  </svg>\n",
              "      </button>\n",
              "      \n",
              "  <style>\n",
              "    .colab-df-container {\n",
              "      display:flex;\n",
              "      flex-wrap:wrap;\n",
              "      gap: 12px;\n",
              "    }\n",
              "\n",
              "    .colab-df-convert {\n",
              "      background-color: #E8F0FE;\n",
              "      border: none;\n",
              "      border-radius: 50%;\n",
              "      cursor: pointer;\n",
              "      display: none;\n",
              "      fill: #1967D2;\n",
              "      height: 32px;\n",
              "      padding: 0 0 0 0;\n",
              "      width: 32px;\n",
              "    }\n",
              "\n",
              "    .colab-df-convert:hover {\n",
              "      background-color: #E2EBFA;\n",
              "      box-shadow: 0px 1px 2px rgba(60, 64, 67, 0.3), 0px 1px 3px 1px rgba(60, 64, 67, 0.15);\n",
              "      fill: #174EA6;\n",
              "    }\n",
              "\n",
              "    [theme=dark] .colab-df-convert {\n",
              "      background-color: #3B4455;\n",
              "      fill: #D2E3FC;\n",
              "    }\n",
              "\n",
              "    [theme=dark] .colab-df-convert:hover {\n",
              "      background-color: #434B5C;\n",
              "      box-shadow: 0px 1px 3px 1px rgba(0, 0, 0, 0.15);\n",
              "      filter: drop-shadow(0px 1px 2px rgba(0, 0, 0, 0.3));\n",
              "      fill: #FFFFFF;\n",
              "    }\n",
              "  </style>\n",
              "\n",
              "      <script>\n",
              "        const buttonEl =\n",
              "          document.querySelector('#df-7ae0f493-eddf-4b21-8cb1-848e40020aa7 button.colab-df-convert');\n",
              "        buttonEl.style.display =\n",
              "          google.colab.kernel.accessAllowed ? 'block' : 'none';\n",
              "\n",
              "        async function convertToInteractive(key) {\n",
              "          const element = document.querySelector('#df-7ae0f493-eddf-4b21-8cb1-848e40020aa7');\n",
              "          const dataTable =\n",
              "            await google.colab.kernel.invokeFunction('convertToInteractive',\n",
              "                                                     [key], {});\n",
              "          if (!dataTable) return;\n",
              "\n",
              "          const docLinkHtml = 'Like what you see? Visit the ' +\n",
              "            '<a target=\"_blank\" href=https://colab.research.google.com/notebooks/data_table.ipynb>data table notebook</a>'\n",
              "            + ' to learn more about interactive tables.';\n",
              "          element.innerHTML = '';\n",
              "          dataTable['output_type'] = 'display_data';\n",
              "          await google.colab.output.renderOutput(dataTable, element);\n",
              "          const docLink = document.createElement('div');\n",
              "          docLink.innerHTML = docLinkHtml;\n",
              "          element.appendChild(docLink);\n",
              "        }\n",
              "      </script>\n",
              "    </div>\n",
              "  </div>\n",
              "  "
            ]
          },
          "metadata": {},
          "execution_count": 10
        }
      ]
    },
    {
      "cell_type": "code",
      "source": [
        "df_label = df[\"Survived\"]"
      ],
      "metadata": {
        "id": "kmvRs73mKQrN"
      },
      "execution_count": 11,
      "outputs": []
    },
    {
      "cell_type": "code",
      "source": [
        "df_label.head(10)"
      ],
      "metadata": {
        "colab": {
          "base_uri": "https://localhost:8080/"
        },
        "id": "FLttxM4xKp8_",
        "outputId": "bfa21830-1193-4948-ba7c-7ca311792484"
      },
      "execution_count": 12,
      "outputs": [
        {
          "output_type": "execute_result",
          "data": {
            "text/plain": [
              "0    0\n",
              "1    1\n",
              "2    1\n",
              "3    1\n",
              "4    0\n",
              "5    0\n",
              "6    0\n",
              "7    0\n",
              "8    1\n",
              "9    1\n",
              "Name: Survived, dtype: int64"
            ]
          },
          "metadata": {},
          "execution_count": 12
        }
      ]
    },
    {
      "cell_type": "code",
      "source": [
        "df_data = df[[\"PassengerId\", \"Pclass\", \"Sex\", \"Age\", \"SibSp\", \"Parch\", \"Fare\", \"Survived\"]]"
      ],
      "metadata": {
        "id": "ecgLgiJpKuRY"
      },
      "execution_count": 57,
      "outputs": []
    },
    {
      "cell_type": "code",
      "source": [
        "df_data.info()"
      ],
      "metadata": {
        "colab": {
          "base_uri": "https://localhost:8080/"
        },
        "id": "NN9T-0RjLeKQ",
        "outputId": "de9ab6e3-40f6-45eb-ceb0-a86b95a70307"
      },
      "execution_count": 58,
      "outputs": [
        {
          "output_type": "stream",
          "name": "stdout",
          "text": [
            "<class 'pandas.core.frame.DataFrame'>\n",
            "RangeIndex: 891 entries, 0 to 890\n",
            "Data columns (total 8 columns):\n",
            " #   Column       Non-Null Count  Dtype  \n",
            "---  ------       --------------  -----  \n",
            " 0   PassengerId  891 non-null    int64  \n",
            " 1   Pclass       891 non-null    int64  \n",
            " 2   Sex          891 non-null    object \n",
            " 3   Age          714 non-null    float64\n",
            " 4   SibSp        891 non-null    int64  \n",
            " 5   Parch        891 non-null    int64  \n",
            " 6   Fare         891 non-null    float64\n",
            " 7   Survived     891 non-null    int64  \n",
            "dtypes: float64(2), int64(5), object(1)\n",
            "memory usage: 55.8+ KB\n"
          ]
        }
      ]
    },
    {
      "cell_type": "code",
      "source": [
        "sns.heatmap(df_data.isnull(), cbar=False)"
      ],
      "metadata": {
        "id": "EU6uHlrhYRgz",
        "outputId": "a449cd8d-9322-4847-bc96-93e38180196e",
        "colab": {
          "base_uri": "https://localhost:8080/",
          "height": 359
        }
      },
      "execution_count": 59,
      "outputs": [
        {
          "output_type": "execute_result",
          "data": {
            "text/plain": [
              "<matplotlib.axes._subplots.AxesSubplot at 0x7f03b1812550>"
            ]
          },
          "metadata": {},
          "execution_count": 59
        },
        {
          "output_type": "display_data",
          "data": {
            "text/plain": [
              "<Figure size 432x288 with 1 Axes>"
            ],
            "image/png": "[encoded data removed]"
          },
          "metadata": {
            "needs_background": "light"
          }
        }
      ]
    },
    {
      "cell_type": "code",
      "source": [
        "r = sns.displot(data=df_data[\"Survived\"])"
      ],
      "metadata": {
        "id": "D0nG-f4a4hfa",
        "outputId": "3f1c5e9b-f0ad-4913-93d8-a591d86e287a",
        "colab": {
          "base_uri": "https://localhost:8080/",
          "height": 390
        }
      },
      "execution_count": 60,
      "outputs": [
        {
          "output_type": "display_data",
          "data": {
            "text/plain": [
              "<Figure size 360x360 with 1 Axes>"
            ],
            "image/png": "[encoded data removed]"
          },
          "metadata": {
            "needs_background": "light"
          }
        }
      ]
    },
    {
      "cell_type": "code",
      "source": [
        "r = sns.catplot(data=df_data, x=\"Pclass\", y=\"Survived\", kind='bar', ci=None)"
      ],
      "metadata": {
        "id": "pHiq4cIF5OtD",
        "outputId": "722f01ac-b643-46a4-b876-35d181805d45",
        "colab": {
          "base_uri": "https://localhost:8080/",
          "height": 390
        }
      },
      "execution_count": 61,
      "outputs": [
        {
          "output_type": "display_data",
          "data": {
            "text/plain": [
              "<Figure size 360x360 with 1 Axes>"
            ],
            "image/png": "[encoded data removed]"
          },
          "metadata": {
            "needs_background": "light"
          }
        }
      ]
    },
    {
      "cell_type": "code",
      "source": [
        "r = sns.catplot(data=df_data, y=\"Survived\", x=\"Pclass\", hue=\"Sex\", kind=\"bar\", ci=None)"
      ],
      "metadata": {
        "id": "vv-9MH1V-azP",
        "outputId": "143583a5-d6ee-48c2-8348-4877eadafc62",
        "colab": {
          "base_uri": "https://localhost:8080/",
          "height": 390
        }
      },
      "execution_count": 62,
      "outputs": [
        {
          "output_type": "display_data",
          "data": {
            "text/plain": [
              "<Figure size 430.5x360 with 1 Axes>"
            ],
            "image/png": "[encoded data removed]"
          },
          "metadata": {
            "needs_background": "light"
          }
        }
      ]
    },
    {
      "cell_type": "code",
      "source": [
        "r= sns.catplot(data=df_data, x=\"Survived\", y=\"Age\", hue=\"Sex\", kind=\"violin\")"
      ],
      "metadata": {
        "id": "-zCFwrTL_V_7",
        "outputId": "209096f6-e865-4907-ccf1-39ee3dea318a",
        "colab": {
          "base_uri": "https://localhost:8080/",
          "height": 390
        }
      },
      "execution_count": 63,
      "outputs": [
        {
          "output_type": "display_data",
          "data": {
            "text/plain": [
              "<Figure size 430.5x360 with 1 Axes>"
            ],
            "image/png": "[encoded data removed]"
          },
          "metadata": {
            "needs_background": "light"
          }
        }
      ]
    },
    {
      "cell_type": "code",
      "source": [
        "r=sns.catplot(data=df_data, x=\"Survived\", y=\"Age\", hue=\"Pclass\", kind=\"violin\")"
      ],
      "metadata": {
        "id": "8E45dAR6BEaP",
        "outputId": "802f4145-7a9e-4af6-97cc-dfd146bff184",
        "colab": {
          "base_uri": "https://localhost:8080/",
          "height": 390
        }
      },
      "execution_count": 64,
      "outputs": [
        {
          "output_type": "display_data",
          "data": {
            "text/plain": [
              "<Figure size 402.375x360 with 1 Axes>"
            ],
            "image/png": "[encoded data removed]"
          },
          "metadata": {
            "needs_background": "light"
          }
        }
      ]
    },
    {
      "cell_type": "code",
      "source": [
        "encoding_ref = {\"Sex\": {\"male\": 0, \"female\": 1}}"
      ],
      "metadata": {
        "id": "9o65lu-wD1Xm"
      },
      "execution_count": 65,
      "outputs": []
    },
    {
      "cell_type": "code",
      "source": [
        "df_data = df_data.replace(encoding_ref)\n",
        "\n",
        "df_data.head(5)"
      ],
      "metadata": {
        "colab": {
          "base_uri": "https://localhost:8080/",
          "height": 221
        },
        "id": "YAGq1Ch2EGxT",
        "outputId": "2e83c500-8380-4dae-a500-421d79ce2701"
      },
      "execution_count": 66,
      "outputs": [
        {
          "output_type": "execute_result",
          "data": {
            "text/plain": [
              "   PassengerId  Pclass  Sex   Age  SibSp  Parch     Fare  Survived\n",
              "0            1       3    0  22.0      1      0   7.2500         0\n",
              "1            2       1    1  38.0      1      0  71.2833         1\n",
              "2            3       3    1  26.0      0      0   7.9250         1\n",
              "3            4       1    1  35.0      1      0  53.1000         1\n",
              "4            5       3    0  35.0      0      0   8.0500         0"
            ],
            "text/html": [
              "\n",
              "  <div id=\"df-e6e4453c-a727-4c51-bdd5-0f377fd0ad99\">\n",
              "    <div class=\"colab-df-container\">\n",
              "      <div>\n",
              "<style scoped>\n",
              "    .dataframe tbody tr th:only-of-type {\n",
              "        vertical-align: middle;\n",
              "    }\n",
              "\n",
              "    .dataframe tbody tr th {\n",
              "        vertical-align: top;\n",
              "    }\n",
              "\n",
              "    .dataframe thead th {\n",
              "        text-align: right;\n",
              "    }\n",
              "</style>\n",
              "<table border=\"1\" class=\"dataframe\">\n",
              "  <thead>\n",
              "    <tr style=\"text-align: right;\">\n",
              "      <th></th>\n",
              "      <th>PassengerId</th>\n",
              "      <th>Pclass</th>\n",
              "      <th>Sex</th>\n",
              "      <th>Age</th>\n",
              "      <th>SibSp</th>\n",
              "      <th>Parch</th>\n",
              "      <th>Fare</th>\n",
              "      <th>Survived</th>\n",
              "    </tr>\n",
              "  </thead>\n",
              "  <tbody>\n",
              "    <tr>\n",
              "      <th>0</th>\n",
              "      <td>1</td>\n",
              "      <td>3</td>\n",
              "      <td>0</td>\n",
              "      <td>22.0</td>\n",
              "      <td>1</td>\n",
              "      <td>0</td>\n",
              "      <td>7.2500</td>\n",
              "      <td>0</td>\n",
              "    </tr>\n",
              "    <tr>\n",
              "      <th>1</th>\n",
              "      <td>2</td>\n",
              "      <td>1</td>\n",
              "      <td>1</td>\n",
              "      <td>38.0</td>\n",
              "      <td>1</td>\n",
              "      <td>0</td>\n",
              "      <td>71.2833</td>\n",
              "      <td>1</td>\n",
              "    </tr>\n",
              "    <tr>\n",
              "      <th>2</th>\n",
              "      <td>3</td>\n",
              "      <td>3</td>\n",
              "      <td>1</td>\n",
              "      <td>26.0</td>\n",
              "      <td>0</td>\n",
              "      <td>0</td>\n",
              "      <td>7.9250</td>\n",
              "      <td>1</td>\n",
              "    </tr>\n",
              "    <tr>\n",
              "      <th>3</th>\n",
              "      <td>4</td>\n",
              "      <td>1</td>\n",
              "      <td>1</td>\n",
              "      <td>35.0</td>\n",
              "      <td>1</td>\n",
              "      <td>0</td>\n",
              "      <td>53.1000</td>\n",
              "      <td>1</td>\n",
              "    </tr>\n",
              "    <tr>\n",
              "      <th>4</th>\n",
              "      <td>5</td>\n",
              "      <td>3</td>\n",
              "      <td>0</td>\n",
              "      <td>35.0</td>\n",
              "      <td>0</td>\n",
              "      <td>0</td>\n",
              "      <td>8.0500</td>\n",
              "      <td>0</td>\n",
              "    </tr>\n",
              "  </tbody>\n",
              "</table>\n",
              "</div>\n",
              "      <button class=\"colab-df-convert\" onclick=\"convertToInteractive('df-e6e4453c-a727-4c51-bdd5-0f377fd0ad99')\"\n",
              "              title=\"Convert this dataframe to an interactive table.\"\n",
              "              style=\"display:none;\">\n",
              "        \n",
              "  <svg xmlns=\"http://www.w3.org/2000/svg\" height=\"24px\"viewBox=\"0 0 24 24\"\n",
              "       width=\"24px\">\n",
              "    <path d=\"M0 0h24v24H0V0z\" fill=\"none\"/>\n",
              "    <path d=\"M18.56 5.44l.94 2.06.94-2.06 2.06-.94-2.06-.94-.94-2.06-.94 2.06-2.06.94zm-11 1L8.5 8.5l.94-2.06 2.06-.94-2.06-.94L8.5 2.5l-.94 2.06-2.06.94zm10 10l.94 2.06.94-2.06 2.06-.94-2.06-.94-.94-2.06-.94 2.06-2.06.94z\"/><path d=\"M17.41 7.96l-1.37-1.37c-.4-.4-.92-.59-1.43-.59-.52 0-1.04.2-1.43.59L10.3 9.45l-7.72 7.72c-.78.78-.78 2.05 0 2.83L4 21.41c.39.39.9.59 1.41.59.51 0 1.02-.2 1.41-.59l7.78-7.78 2.81-2.81c.8-.78.8-2.07 0-2.86zM5.41 20L4 18.59l7.72-7.72 1.47 1.35L5.41 20z\"/>\n",
              "  </svg>\n",
              "      </button>\n",
              "      \n",
              "  <style>\n",
              "    .colab-df-container {\n",
              "      display:flex;\n",
              "      flex-wrap:wrap;\n",
              "      gap: 12px;\n",
              "    }\n",
              "\n",
              "    .colab-df-convert {\n",
              "      background-color: #E8F0FE;\n",
              "      border: none;\n",
              "      border-radius: 50%;\n",
              "      cursor: pointer;\n",
              "      display: none;\n",
              "      fill: #1967D2;\n",
              "      height: 32px;\n",
              "      padding: 0 0 0 0;\n",
              "      width: 32px;\n",
              "    }\n",
              "\n",
              "    .colab-df-convert:hover {\n",
              "      background-color: #E2EBFA;\n",
              "      box-shadow: 0px 1px 2px rgba(60, 64, 67, 0.3), 0px 1px 3px 1px rgba(60, 64, 67, 0.15);\n",
              "      fill: #174EA6;\n",
              "    }\n",
              "\n",
              "    [theme=dark] .colab-df-convert {\n",
              "      background-color: #3B4455;\n",
              "      fill: #D2E3FC;\n",
              "    }\n",
              "\n",
              "    [theme=dark] .colab-df-convert:hover {\n",
              "      background-color: #434B5C;\n",
              "      box-shadow: 0px 1px 3px 1px rgba(0, 0, 0, 0.15);\n",
              "      filter: drop-shadow(0px 1px 2px rgba(0, 0, 0, 0.3));\n",
              "      fill: #FFFFFF;\n",
              "    }\n",
              "  </style>\n",
              "\n",
              "      <script>\n",
              "        const buttonEl =\n",
              "          document.querySelector('#df-e6e4453c-a727-4c51-bdd5-0f377fd0ad99 button.colab-df-convert');\n",
              "        buttonEl.style.display =\n",
              "          google.colab.kernel.accessAllowed ? 'block' : 'none';\n",
              "\n",
              "        async function convertToInteractive(key) {\n",
              "          const element = document.querySelector('#df-e6e4453c-a727-4c51-bdd5-0f377fd0ad99');\n",
              "          const dataTable =\n",
              "            await google.colab.kernel.invokeFunction('convertToInteractive',\n",
              "                                                     [key], {});\n",
              "          if (!dataTable) return;\n",
              "\n",
              "          const docLinkHtml = 'Like what you see? Visit the ' +\n",
              "            '<a target=\"_blank\" href=https://colab.research.google.com/notebooks/data_table.ipynb>data table notebook</a>'\n",
              "            + ' to learn more about interactive tables.';\n",
              "          element.innerHTML = '';\n",
              "          dataTable['output_type'] = 'display_data';\n",
              "          await google.colab.output.renderOutput(dataTable, element);\n",
              "          const docLink = document.createElement('div');\n",
              "          docLink.innerHTML = docLinkHtml;\n",
              "          element.appendChild(docLink);\n",
              "        }\n",
              "      </script>\n",
              "    </div>\n",
              "  </div>\n",
              "  "
            ]
          },
          "metadata": {},
          "execution_count": 66
        }
      ]
    },
    {
      "cell_type": "code",
      "source": [
        "df_data.info()"
      ],
      "metadata": {
        "colab": {
          "base_uri": "https://localhost:8080/"
        },
        "id": "6nz9Wym2SgE9",
        "outputId": "059fe2f8-8224-4fcb-a9a8-f5d457f28583"
      },
      "execution_count": 67,
      "outputs": [
        {
          "output_type": "stream",
          "name": "stdout",
          "text": [
            "<class 'pandas.core.frame.DataFrame'>\n",
            "RangeIndex: 891 entries, 0 to 890\n",
            "Data columns (total 8 columns):\n",
            " #   Column       Non-Null Count  Dtype  \n",
            "---  ------       --------------  -----  \n",
            " 0   PassengerId  891 non-null    int64  \n",
            " 1   Pclass       891 non-null    int64  \n",
            " 2   Sex          891 non-null    int64  \n",
            " 3   Age          714 non-null    float64\n",
            " 4   SibSp        891 non-null    int64  \n",
            " 5   Parch        891 non-null    int64  \n",
            " 6   Fare         891 non-null    float64\n",
            " 7   Survived     891 non-null    int64  \n",
            "dtypes: float64(2), int64(6)\n",
            "memory usage: 55.8 KB\n"
          ]
        }
      ]
    },
    {
      "cell_type": "code",
      "source": [
        "mean_age = round(df_data[\"Age\"].mean(), 2)\n",
        "mean_age"
      ],
      "metadata": {
        "colab": {
          "base_uri": "https://localhost:8080/"
        },
        "id": "2u7wU91tSsvT",
        "outputId": "2aab89f2-9b5a-4083-c252-41bb1e49f84d"
      },
      "execution_count": 68,
      "outputs": [
        {
          "output_type": "execute_result",
          "data": {
            "text/plain": [
              "29.7"
            ]
          },
          "metadata": {},
          "execution_count": 68
        }
      ]
    },
    {
      "cell_type": "code",
      "source": [
        "#Fill blanks with mean of Age\n",
        "df_data[\"Age\"] = df_data[\"Age\"].fillna(mean_age)"
      ],
      "metadata": {
        "id": "lK5rCoC5S2_U"
      },
      "execution_count": 69,
      "outputs": []
    },
    {
      "cell_type": "code",
      "source": [
        "df_data.info()"
      ],
      "metadata": {
        "colab": {
          "base_uri": "https://localhost:8080/"
        },
        "id": "DSicwrCSTTFO",
        "outputId": "f50f37b4-d76b-41a5-959b-1313e1386685"
      },
      "execution_count": 70,
      "outputs": [
        {
          "output_type": "stream",
          "name": "stdout",
          "text": [
            "<class 'pandas.core.frame.DataFrame'>\n",
            "RangeIndex: 891 entries, 0 to 890\n",
            "Data columns (total 8 columns):\n",
            " #   Column       Non-Null Count  Dtype  \n",
            "---  ------       --------------  -----  \n",
            " 0   PassengerId  891 non-null    int64  \n",
            " 1   Pclass       891 non-null    int64  \n",
            " 2   Sex          891 non-null    int64  \n",
            " 3   Age          891 non-null    float64\n",
            " 4   SibSp        891 non-null    int64  \n",
            " 5   Parch        891 non-null    int64  \n",
            " 6   Fare         891 non-null    float64\n",
            " 7   Survived     891 non-null    int64  \n",
            "dtypes: float64(2), int64(6)\n",
            "memory usage: 55.8 KB\n"
          ]
        }
      ]
    },
    {
      "cell_type": "code",
      "source": [
        "def return_data_and_label(df_data):\n",
        "  #shuffle rows\n",
        "  df_data = df_data.sample(frac = 1)\n",
        "  return df_data[[\"Pclass\", \"Sex\", \"Age\", \"SibSp\", \"Parch\", \"Fare\"]].to_numpy(), df_data[\"Survived\"].to_numpy()"
      ],
      "metadata": {
        "id": "OYMX6ZnvJIJn"
      },
      "execution_count": 72,
      "outputs": []
    },
    {
      "cell_type": "code",
      "source": [
        "training_data, training_label = return_data_and_label(df_data)"
      ],
      "metadata": {
        "id": "PoGRFjQ_JX3n"
      },
      "execution_count": 73,
      "outputs": []
    },
    {
      "cell_type": "code",
      "source": [
        "training_data.shape"
      ],
      "metadata": {
        "colab": {
          "base_uri": "https://localhost:8080/"
        },
        "id": "2dHjFQ6BLFib",
        "outputId": "35988643-31bb-4947-82a7-ed6c60fd5c35"
      },
      "execution_count": 74,
      "outputs": [
        {
          "output_type": "execute_result",
          "data": {
            "text/plain": [
              "(891, 6)"
            ]
          },
          "metadata": {},
          "execution_count": 74
        }
      ]
    },
    {
      "cell_type": "code",
      "source": [
        "#normalize data\n",
        "training_data = training_data / 100."
      ],
      "metadata": {
        "id": "GXzYKZHyP-xW"
      },
      "execution_count": 75,
      "outputs": []
    },
    {
      "cell_type": "code",
      "source": [
        "training_data"
      ],
      "metadata": {
        "colab": {
          "base_uri": "https://localhost:8080/"
        },
        "id": "-uoKZ-WDSSbn",
        "outputId": "58705cbe-2624-4773-d20b-e834197787d9"
      },
      "execution_count": 76,
      "outputs": [
        {
          "output_type": "execute_result",
          "data": {
            "text/plain": [
              "array([[0.03    , 0.      , 0.22    , 0.      , 0.      , 0.07125 ],\n",
              "       [0.03    , 0.      , 0.25    , 0.01    , 0.      , 0.178   ],\n",
              "       [0.03    , 0.      , 0.28    , 0.02    , 0.      , 0.07925 ],\n",
              "       ...,\n",
              "       [0.03    , 0.      , 0.17    , 0.      , 0.      , 0.086625],\n",
              "       [0.01    , 0.01    , 0.19    , 0.01    , 0.      , 0.910792],\n",
              "       [0.03    , 0.      , 0.297   , 0.      , 0.      , 0.072292]])"
            ]
          },
          "metadata": {},
          "execution_count": 76
        }
      ]
    },
    {
      "cell_type": "code",
      "source": [
        "training_label.shape"
      ],
      "metadata": {
        "colab": {
          "base_uri": "https://localhost:8080/"
        },
        "id": "Wkd2NWkwLOlj",
        "outputId": "42ffba97-d385-434d-bd57-197860c9fbea"
      },
      "execution_count": 77,
      "outputs": [
        {
          "output_type": "execute_result",
          "data": {
            "text/plain": [
              "(891,)"
            ]
          },
          "metadata": {},
          "execution_count": 77
        }
      ]
    },
    {
      "cell_type": "code",
      "source": [
        "import tensorflow as tf\n",
        "from tensorflow import keras\n",
        "from tensorflow.keras import layers"
      ],
      "metadata": {
        "id": "rXn6mEY7OJMk"
      },
      "execution_count": 78,
      "outputs": []
    },
    {
      "cell_type": "code",
      "source": [
        "def get_model():\n",
        "  model = keras.Sequential([\n",
        "      layers.Input(shape=(6,)),\n",
        "      layers.Dense(64, activation=\"relu\"),\n",
        "      #layers.Dense(128, activation=\"relu\"),\n",
        "      #layers.Dense(256, activation=\"relu\"),\n",
        "      layers.Dropout(0.5),\n",
        "      layers.Dense(1, activation=\"sigmoid\")\n",
        "  ])\n",
        "\n",
        "  model.compile(optimizer=\"rmsprop\",\n",
        "                loss=\"binary_crossentropy\",\n",
        "                metrics=['accuracy'])\n",
        "\n",
        "  return model"
      ],
      "metadata": {
        "id": "MyE5J_E6LRSX"
      },
      "execution_count": 79,
      "outputs": []
    },
    {
      "cell_type": "code",
      "source": [
        "#Try various options. Training loss bottoms out around 320 epochs\n",
        "epochs=500"
      ],
      "metadata": {
        "id": "4TRmqV4tUELL"
      },
      "execution_count": 80,
      "outputs": []
    },
    {
      "cell_type": "code",
      "source": [
        "model = get_model()\n",
        "\n",
        "run_history = model.fit(training_data,\n",
        "                        training_label,\n",
        "                        epochs = epochs,\n",
        "                        validation_split=0.3,\n",
        "                        batch_size=32)"
      ],
      "metadata": {
        "colab": {
          "base_uri": "https://localhost:8080/"
        },
        "id": "_E8QmZ7iPFpa",
        "outputId": "77f34d17-e5be-4e79-8495-8f71b1eb3429"
      },
      "execution_count": 81,
      "outputs": [
        {
          "output_type": "stream",
          "name": "stdout",
          "text": [
            "Epoch 1/500\n",
            "20/20 [==============================] - 1s 11ms/step - loss: 0.6856 - accuracy: 0.6100 - val_loss: 0.6797 - val_accuracy: 0.6082\n",
            "Epoch 2/500\n",
            "20/20 [==============================] - 0s 3ms/step - loss: 0.6768 - accuracy: 0.6196 - val_loss: 0.6710 - val_accuracy: 0.6082\n",
            "Epoch 3/500\n",
            "20/20 [==============================] - 0s 3ms/step - loss: 0.6654 - accuracy: 0.6308 - val_loss: 0.6636 - val_accuracy: 0.6082\n",
            "Epoch 4/500\n",
            "20/20 [==============================] - 0s 4ms/step - loss: 0.6626 - accuracy: 0.6340 - val_loss: 0.6574 - val_accuracy: 0.6231\n",
            "Epoch 5/500\n",
            "20/20 [==============================] - 0s 4ms/step - loss: 0.6552 - accuracy: 0.6388 - val_loss: 0.6516 - val_accuracy: 0.6343\n",
            "Epoch 6/500\n",
            "20/20 [==============================] - 0s 4ms/step - loss: 0.6532 - accuracy: 0.6372 - val_loss: 0.6467 - val_accuracy: 0.6381\n",
            "Epoch 7/500\n",
            "20/20 [==============================] - 0s 4ms/step - loss: 0.6485 - accuracy: 0.6340 - val_loss: 0.6423 - val_accuracy: 0.6418\n",
            "Epoch 8/500\n",
            "20/20 [==============================] - 0s 3ms/step - loss: 0.6423 - accuracy: 0.6404 - val_loss: 0.6382 - val_accuracy: 0.6567\n",
            "Epoch 9/500\n",
            "20/20 [==============================] - 0s 3ms/step - loss: 0.6395 - accuracy: 0.6437 - val_loss: 0.6345 - val_accuracy: 0.6604\n",
            "Epoch 10/500\n",
            "20/20 [==============================] - 0s 3ms/step - loss: 0.6424 - accuracy: 0.6501 - val_loss: 0.6319 - val_accuracy: 0.6604\n",
            "Epoch 11/500\n",
            "20/20 [==============================] - 0s 4ms/step - loss: 0.6347 - accuracy: 0.6597 - val_loss: 0.6293 - val_accuracy: 0.6642\n",
            "Epoch 12/500\n",
            "20/20 [==============================] - 0s 4ms/step - loss: 0.6334 - accuracy: 0.6597 - val_loss: 0.6266 - val_accuracy: 0.6642\n",
            "Epoch 13/500\n",
            "20/20 [==============================] - 0s 3ms/step - loss: 0.6346 - accuracy: 0.6613 - val_loss: 0.6244 - val_accuracy: 0.6604\n",
            "Epoch 14/500\n",
            "20/20 [==============================] - 0s 4ms/step - loss: 0.6367 - accuracy: 0.6581 - val_loss: 0.6225 - val_accuracy: 0.6604\n",
            "Epoch 15/500\n",
            "20/20 [==============================] - 0s 4ms/step - loss: 0.6295 - accuracy: 0.6549 - val_loss: 0.6205 - val_accuracy: 0.6604\n",
            "Epoch 16/500\n",
            "20/20 [==============================] - 0s 4ms/step - loss: 0.6286 - accuracy: 0.6549 - val_loss: 0.6187 - val_accuracy: 0.6679\n",
            "Epoch 17/500\n",
            "20/20 [==============================] - 0s 4ms/step - loss: 0.6286 - accuracy: 0.6613 - val_loss: 0.6170 - val_accuracy: 0.6754\n",
            "Epoch 18/500\n",
            "20/20 [==============================] - 0s 3ms/step - loss: 0.6240 - accuracy: 0.6613 - val_loss: 0.6157 - val_accuracy: 0.6754\n",
            "Epoch 19/500\n",
            "20/20 [==============================] - 0s 4ms/step - loss: 0.6247 - accuracy: 0.6597 - val_loss: 0.6143 - val_accuracy: 0.6754\n",
            "Epoch 20/500\n",
            "20/20 [==============================] - 0s 4ms/step - loss: 0.6241 - accuracy: 0.6661 - val_loss: 0.6131 - val_accuracy: 0.6754\n",
            "Epoch 21/500\n",
            "20/20 [==============================] - 0s 4ms/step - loss: 0.6248 - accuracy: 0.6709 - val_loss: 0.6117 - val_accuracy: 0.6679\n",
            "Epoch 22/500\n",
            "20/20 [==============================] - 0s 4ms/step - loss: 0.6265 - accuracy: 0.6549 - val_loss: 0.6107 - val_accuracy: 0.6642\n",
            "Epoch 23/500\n",
            "20/20 [==============================] - 0s 3ms/step - loss: 0.6194 - accuracy: 0.6613 - val_loss: 0.6094 - val_accuracy: 0.6679\n",
            "Epoch 24/500\n",
            "20/20 [==============================] - 0s 4ms/step - loss: 0.6288 - accuracy: 0.6629 - val_loss: 0.6086 - val_accuracy: 0.6679\n",
            "Epoch 25/500\n",
            "20/20 [==============================] - 0s 3ms/step - loss: 0.6163 - accuracy: 0.6709 - val_loss: 0.6073 - val_accuracy: 0.6679\n",
            "Epoch 26/500\n",
            "20/20 [==============================] - 0s 4ms/step - loss: 0.6198 - accuracy: 0.6806 - val_loss: 0.6066 - val_accuracy: 0.6679\n",
            "Epoch 27/500\n",
            "20/20 [==============================] - 0s 3ms/step - loss: 0.6225 - accuracy: 0.6742 - val_loss: 0.6059 - val_accuracy: 0.6716\n",
            "Epoch 28/500\n",
            "20/20 [==============================] - 0s 3ms/step - loss: 0.6244 - accuracy: 0.6838 - val_loss: 0.6051 - val_accuracy: 0.6828\n",
            "Epoch 29/500\n",
            "20/20 [==============================] - 0s 3ms/step - loss: 0.6207 - accuracy: 0.6693 - val_loss: 0.6045 - val_accuracy: 0.6791\n",
            "Epoch 30/500\n",
            "20/20 [==============================] - 0s 4ms/step - loss: 0.6120 - accuracy: 0.6742 - val_loss: 0.6035 - val_accuracy: 0.6791\n",
            "Epoch 31/500\n",
            "20/20 [==============================] - 0s 4ms/step - loss: 0.6153 - accuracy: 0.6854 - val_loss: 0.6026 - val_accuracy: 0.6791\n",
            "Epoch 32/500\n",
            "20/20 [==============================] - 0s 4ms/step - loss: 0.6122 - accuracy: 0.6661 - val_loss: 0.6018 - val_accuracy: 0.6828\n",
            "Epoch 33/500\n",
            "20/20 [==============================] - 0s 4ms/step - loss: 0.6214 - accuracy: 0.6581 - val_loss: 0.6013 - val_accuracy: 0.6866\n",
            "Epoch 34/500\n",
            "20/20 [==============================] - 0s 4ms/step - loss: 0.6144 - accuracy: 0.6790 - val_loss: 0.6006 - val_accuracy: 0.6903\n",
            "Epoch 35/500\n",
            "20/20 [==============================] - 0s 3ms/step - loss: 0.6223 - accuracy: 0.6693 - val_loss: 0.6001 - val_accuracy: 0.6940\n",
            "Epoch 36/500\n",
            "20/20 [==============================] - 0s 4ms/step - loss: 0.6193 - accuracy: 0.6597 - val_loss: 0.5997 - val_accuracy: 0.6903\n",
            "Epoch 37/500\n",
            "20/20 [==============================] - 0s 3ms/step - loss: 0.6215 - accuracy: 0.6677 - val_loss: 0.5994 - val_accuracy: 0.6903\n",
            "Epoch 38/500\n",
            "20/20 [==============================] - 0s 3ms/step - loss: 0.6191 - accuracy: 0.6629 - val_loss: 0.5989 - val_accuracy: 0.6866\n",
            "Epoch 39/500\n",
            "20/20 [==============================] - 0s 4ms/step - loss: 0.6137 - accuracy: 0.6709 - val_loss: 0.5984 - val_accuracy: 0.6903\n",
            "Epoch 40/500\n",
            "20/20 [==============================] - 0s 3ms/step - loss: 0.6089 - accuracy: 0.6709 - val_loss: 0.5978 - val_accuracy: 0.6940\n",
            "Epoch 41/500\n",
            "20/20 [==============================] - 0s 4ms/step - loss: 0.6133 - accuracy: 0.6790 - val_loss: 0.5974 - val_accuracy: 0.6903\n",
            "Epoch 42/500\n",
            "20/20 [==============================] - 0s 4ms/step - loss: 0.6158 - accuracy: 0.6693 - val_loss: 0.5970 - val_accuracy: 0.6940\n",
            "Epoch 43/500\n",
            "20/20 [==============================] - 0s 3ms/step - loss: 0.6124 - accuracy: 0.6822 - val_loss: 0.5963 - val_accuracy: 0.6940\n",
            "Epoch 44/500\n",
            "20/20 [==============================] - 0s 3ms/step - loss: 0.6111 - accuracy: 0.6661 - val_loss: 0.5956 - val_accuracy: 0.6940\n",
            "Epoch 45/500\n",
            "20/20 [==============================] - 0s 4ms/step - loss: 0.6147 - accuracy: 0.6758 - val_loss: 0.5954 - val_accuracy: 0.6940\n",
            "Epoch 46/500\n",
            "20/20 [==============================] - 0s 4ms/step - loss: 0.6045 - accuracy: 0.6854 - val_loss: 0.5946 - val_accuracy: 0.6940\n",
            "Epoch 47/500\n",
            "20/20 [==============================] - 0s 3ms/step - loss: 0.6070 - accuracy: 0.6822 - val_loss: 0.5942 - val_accuracy: 0.6940\n",
            "Epoch 48/500\n",
            "20/20 [==============================] - 0s 3ms/step - loss: 0.6207 - accuracy: 0.6726 - val_loss: 0.5942 - val_accuracy: 0.6903\n",
            "Epoch 49/500\n",
            "20/20 [==============================] - 0s 4ms/step - loss: 0.6130 - accuracy: 0.6774 - val_loss: 0.5938 - val_accuracy: 0.6866\n",
            "Epoch 50/500\n",
            "20/20 [==============================] - 0s 3ms/step - loss: 0.6115 - accuracy: 0.6758 - val_loss: 0.5935 - val_accuracy: 0.6903\n",
            "Epoch 51/500\n",
            "20/20 [==============================] - 0s 4ms/step - loss: 0.6063 - accuracy: 0.6790 - val_loss: 0.5930 - val_accuracy: 0.6866\n",
            "Epoch 52/500\n",
            "20/20 [==============================] - 0s 3ms/step - loss: 0.6198 - accuracy: 0.6693 - val_loss: 0.5930 - val_accuracy: 0.6903\n",
            "Epoch 53/500\n",
            "20/20 [==============================] - 0s 3ms/step - loss: 0.6130 - accuracy: 0.6726 - val_loss: 0.5928 - val_accuracy: 0.6866\n",
            "Epoch 54/500\n",
            "20/20 [==============================] - 0s 4ms/step - loss: 0.6094 - accuracy: 0.6822 - val_loss: 0.5924 - val_accuracy: 0.6866\n",
            "Epoch 55/500\n",
            "20/20 [==============================] - 0s 3ms/step - loss: 0.6148 - accuracy: 0.6726 - val_loss: 0.5920 - val_accuracy: 0.6903\n",
            "Epoch 56/500\n",
            "20/20 [==============================] - 0s 4ms/step - loss: 0.6104 - accuracy: 0.6790 - val_loss: 0.5915 - val_accuracy: 0.6903\n",
            "Epoch 57/500\n",
            "20/20 [==============================] - 0s 4ms/step - loss: 0.6105 - accuracy: 0.6742 - val_loss: 0.5913 - val_accuracy: 0.6866\n",
            "Epoch 58/500\n",
            "20/20 [==============================] - 0s 3ms/step - loss: 0.6162 - accuracy: 0.6709 - val_loss: 0.5914 - val_accuracy: 0.6866\n",
            "Epoch 59/500\n",
            "20/20 [==============================] - 0s 4ms/step - loss: 0.6072 - accuracy: 0.6677 - val_loss: 0.5908 - val_accuracy: 0.6866\n",
            "Epoch 60/500\n",
            "20/20 [==============================] - 0s 3ms/step - loss: 0.6096 - accuracy: 0.6758 - val_loss: 0.5907 - val_accuracy: 0.6866\n",
            "Epoch 61/500\n",
            "20/20 [==============================] - 0s 3ms/step - loss: 0.6054 - accuracy: 0.6758 - val_loss: 0.5901 - val_accuracy: 0.6866\n",
            "Epoch 62/500\n",
            "20/20 [==============================] - 0s 5ms/step - loss: 0.6048 - accuracy: 0.6726 - val_loss: 0.5895 - val_accuracy: 0.6866\n",
            "Epoch 63/500\n",
            "20/20 [==============================] - 0s 4ms/step - loss: 0.6097 - accuracy: 0.6742 - val_loss: 0.5890 - val_accuracy: 0.6866\n",
            "Epoch 64/500\n",
            "20/20 [==============================] - 0s 4ms/step - loss: 0.5979 - accuracy: 0.6790 - val_loss: 0.5884 - val_accuracy: 0.6903\n",
            "Epoch 65/500\n",
            "20/20 [==============================] - 0s 3ms/step - loss: 0.6027 - accuracy: 0.6758 - val_loss: 0.5877 - val_accuracy: 0.6903\n",
            "Epoch 66/500\n",
            "20/20 [==============================] - 0s 3ms/step - loss: 0.6063 - accuracy: 0.6774 - val_loss: 0.5873 - val_accuracy: 0.6940\n",
            "Epoch 67/500\n",
            "20/20 [==============================] - 0s 4ms/step - loss: 0.6115 - accuracy: 0.6822 - val_loss: 0.5872 - val_accuracy: 0.6940\n",
            "Epoch 68/500\n",
            "20/20 [==============================] - 0s 4ms/step - loss: 0.6043 - accuracy: 0.6693 - val_loss: 0.5868 - val_accuracy: 0.6978\n",
            "Epoch 69/500\n",
            "20/20 [==============================] - 0s 3ms/step - loss: 0.6071 - accuracy: 0.6758 - val_loss: 0.5865 - val_accuracy: 0.6940\n",
            "Epoch 70/500\n",
            "20/20 [==============================] - 0s 3ms/step - loss: 0.6114 - accuracy: 0.6774 - val_loss: 0.5864 - val_accuracy: 0.6978\n",
            "Epoch 71/500\n",
            "20/20 [==============================] - 0s 3ms/step - loss: 0.6058 - accuracy: 0.6822 - val_loss: 0.5860 - val_accuracy: 0.6940\n",
            "Epoch 72/500\n",
            "20/20 [==============================] - 0s 3ms/step - loss: 0.6034 - accuracy: 0.6870 - val_loss: 0.5856 - val_accuracy: 0.6940\n",
            "Epoch 73/500\n",
            "20/20 [==============================] - 0s 4ms/step - loss: 0.6027 - accuracy: 0.6806 - val_loss: 0.5851 - val_accuracy: 0.6978\n",
            "Epoch 74/500\n",
            "20/20 [==============================] - 0s 3ms/step - loss: 0.6017 - accuracy: 0.6774 - val_loss: 0.5849 - val_accuracy: 0.6940\n",
            "Epoch 75/500\n",
            "20/20 [==============================] - 0s 4ms/step - loss: 0.6084 - accuracy: 0.6854 - val_loss: 0.5845 - val_accuracy: 0.6940\n",
            "Epoch 76/500\n",
            "20/20 [==============================] - 0s 3ms/step - loss: 0.5978 - accuracy: 0.6758 - val_loss: 0.5839 - val_accuracy: 0.6978\n",
            "Epoch 77/500\n",
            "20/20 [==============================] - 0s 3ms/step - loss: 0.6001 - accuracy: 0.6854 - val_loss: 0.5835 - val_accuracy: 0.6978\n",
            "Epoch 78/500\n",
            "20/20 [==============================] - 0s 3ms/step - loss: 0.6104 - accuracy: 0.6806 - val_loss: 0.5835 - val_accuracy: 0.7015\n",
            "Epoch 79/500\n",
            "20/20 [==============================] - 0s 4ms/step - loss: 0.5961 - accuracy: 0.6774 - val_loss: 0.5829 - val_accuracy: 0.6940\n",
            "Epoch 80/500\n",
            "20/20 [==============================] - 0s 3ms/step - loss: 0.6027 - accuracy: 0.6758 - val_loss: 0.5827 - val_accuracy: 0.6978\n",
            "Epoch 81/500\n",
            "20/20 [==============================] - 0s 3ms/step - loss: 0.6058 - accuracy: 0.6870 - val_loss: 0.5824 - val_accuracy: 0.7015\n",
            "Epoch 82/500\n",
            "20/20 [==============================] - 0s 3ms/step - loss: 0.5987 - accuracy: 0.6966 - val_loss: 0.5819 - val_accuracy: 0.7015\n",
            "Epoch 83/500\n",
            "20/20 [==============================] - 0s 4ms/step - loss: 0.6052 - accuracy: 0.6822 - val_loss: 0.5814 - val_accuracy: 0.7052\n",
            "Epoch 84/500\n",
            "20/20 [==============================] - 0s 3ms/step - loss: 0.6031 - accuracy: 0.6902 - val_loss: 0.5813 - val_accuracy: 0.7015\n",
            "Epoch 85/500\n",
            "20/20 [==============================] - 0s 4ms/step - loss: 0.6008 - accuracy: 0.6790 - val_loss: 0.5809 - val_accuracy: 0.7090\n",
            "Epoch 86/500\n",
            "20/20 [==============================] - 0s 3ms/step - loss: 0.6071 - accuracy: 0.6822 - val_loss: 0.5809 - val_accuracy: 0.7090\n",
            "Epoch 87/500\n",
            "20/20 [==============================] - 0s 4ms/step - loss: 0.5938 - accuracy: 0.6838 - val_loss: 0.5802 - val_accuracy: 0.7090\n",
            "Epoch 88/500\n",
            "20/20 [==============================] - 0s 4ms/step - loss: 0.5975 - accuracy: 0.6886 - val_loss: 0.5795 - val_accuracy: 0.7090\n",
            "Epoch 89/500\n",
            "20/20 [==============================] - 0s 3ms/step - loss: 0.6023 - accuracy: 0.6918 - val_loss: 0.5790 - val_accuracy: 0.7090\n",
            "Epoch 90/500\n",
            "20/20 [==============================] - 0s 3ms/step - loss: 0.5933 - accuracy: 0.6790 - val_loss: 0.5784 - val_accuracy: 0.7052\n",
            "Epoch 91/500\n",
            "20/20 [==============================] - 0s 3ms/step - loss: 0.5908 - accuracy: 0.6902 - val_loss: 0.5777 - val_accuracy: 0.7090\n",
            "Epoch 92/500\n",
            "20/20 [==============================] - 0s 4ms/step - loss: 0.6001 - accuracy: 0.6982 - val_loss: 0.5772 - val_accuracy: 0.7090\n",
            "Epoch 93/500\n",
            "20/20 [==============================] - 0s 3ms/step - loss: 0.5966 - accuracy: 0.6950 - val_loss: 0.5770 - val_accuracy: 0.7090\n",
            "Epoch 94/500\n",
            "20/20 [==============================] - 0s 4ms/step - loss: 0.5943 - accuracy: 0.6886 - val_loss: 0.5768 - val_accuracy: 0.7127\n",
            "Epoch 95/500\n",
            "20/20 [==============================] - 0s 3ms/step - loss: 0.5971 - accuracy: 0.6966 - val_loss: 0.5765 - val_accuracy: 0.7127\n",
            "Epoch 96/500\n",
            "20/20 [==============================] - 0s 3ms/step - loss: 0.5986 - accuracy: 0.6790 - val_loss: 0.5762 - val_accuracy: 0.7127\n",
            "Epoch 97/500\n",
            "20/20 [==============================] - 0s 3ms/step - loss: 0.5885 - accuracy: 0.6982 - val_loss: 0.5753 - val_accuracy: 0.7127\n",
            "Epoch 98/500\n",
            "20/20 [==============================] - 0s 3ms/step - loss: 0.5980 - accuracy: 0.6902 - val_loss: 0.5750 - val_accuracy: 0.7127\n",
            "Epoch 99/500\n",
            "20/20 [==============================] - 0s 3ms/step - loss: 0.5940 - accuracy: 0.6886 - val_loss: 0.5743 - val_accuracy: 0.7127\n",
            "Epoch 100/500\n",
            "20/20 [==============================] - 0s 4ms/step - loss: 0.5991 - accuracy: 0.6886 - val_loss: 0.5742 - val_accuracy: 0.7127\n",
            "Epoch 101/500\n",
            "20/20 [==============================] - 0s 3ms/step - loss: 0.5893 - accuracy: 0.6934 - val_loss: 0.5738 - val_accuracy: 0.7127\n",
            "Epoch 102/500\n",
            "20/20 [==============================] - 0s 3ms/step - loss: 0.5912 - accuracy: 0.6982 - val_loss: 0.5733 - val_accuracy: 0.7127\n",
            "Epoch 103/500\n",
            "20/20 [==============================] - 0s 3ms/step - loss: 0.5916 - accuracy: 0.6886 - val_loss: 0.5730 - val_accuracy: 0.7127\n",
            "Epoch 104/500\n",
            "20/20 [==============================] - 0s 4ms/step - loss: 0.5896 - accuracy: 0.6902 - val_loss: 0.5729 - val_accuracy: 0.7164\n",
            "Epoch 105/500\n",
            "20/20 [==============================] - 0s 4ms/step - loss: 0.5893 - accuracy: 0.6934 - val_loss: 0.5721 - val_accuracy: 0.7164\n",
            "Epoch 106/500\n",
            "20/20 [==============================] - 0s 3ms/step - loss: 0.5880 - accuracy: 0.6918 - val_loss: 0.5713 - val_accuracy: 0.7201\n",
            "Epoch 107/500\n",
            "20/20 [==============================] - 0s 4ms/step - loss: 0.5932 - accuracy: 0.6982 - val_loss: 0.5709 - val_accuracy: 0.7201\n",
            "Epoch 108/500\n",
            "20/20 [==============================] - 0s 4ms/step - loss: 0.5890 - accuracy: 0.6982 - val_loss: 0.5706 - val_accuracy: 0.7164\n",
            "Epoch 109/500\n",
            "20/20 [==============================] - 0s 3ms/step - loss: 0.5909 - accuracy: 0.6950 - val_loss: 0.5699 - val_accuracy: 0.7164\n",
            "Epoch 110/500\n",
            "20/20 [==============================] - 0s 3ms/step - loss: 0.5861 - accuracy: 0.6982 - val_loss: 0.5693 - val_accuracy: 0.7164\n",
            "Epoch 111/500\n",
            "20/20 [==============================] - 0s 3ms/step - loss: 0.5805 - accuracy: 0.7063 - val_loss: 0.5686 - val_accuracy: 0.7164\n",
            "Epoch 112/500\n",
            "20/20 [==============================] - 0s 3ms/step - loss: 0.5903 - accuracy: 0.6918 - val_loss: 0.5682 - val_accuracy: 0.7164\n",
            "Epoch 113/500\n",
            "20/20 [==============================] - 0s 4ms/step - loss: 0.5898 - accuracy: 0.7030 - val_loss: 0.5676 - val_accuracy: 0.7164\n",
            "Epoch 114/500\n",
            "20/20 [==============================] - 0s 3ms/step - loss: 0.5870 - accuracy: 0.6998 - val_loss: 0.5672 - val_accuracy: 0.7276\n",
            "Epoch 115/500\n",
            "20/20 [==============================] - 0s 3ms/step - loss: 0.5872 - accuracy: 0.6838 - val_loss: 0.5671 - val_accuracy: 0.7239\n",
            "Epoch 116/500\n",
            "20/20 [==============================] - 0s 4ms/step - loss: 0.5908 - accuracy: 0.6870 - val_loss: 0.5665 - val_accuracy: 0.7239\n",
            "Epoch 117/500\n",
            "20/20 [==============================] - 0s 3ms/step - loss: 0.5865 - accuracy: 0.7175 - val_loss: 0.5660 - val_accuracy: 0.7276\n",
            "Epoch 118/500\n",
            "20/20 [==============================] - 0s 4ms/step - loss: 0.5851 - accuracy: 0.6934 - val_loss: 0.5652 - val_accuracy: 0.7276\n",
            "Epoch 119/500\n",
            "20/20 [==============================] - 0s 3ms/step - loss: 0.5819 - accuracy: 0.6982 - val_loss: 0.5648 - val_accuracy: 0.7313\n",
            "Epoch 120/500\n",
            "20/20 [==============================] - 0s 3ms/step - loss: 0.5816 - accuracy: 0.7014 - val_loss: 0.5639 - val_accuracy: 0.7276\n",
            "Epoch 121/500\n",
            "20/20 [==============================] - 0s 3ms/step - loss: 0.5842 - accuracy: 0.7095 - val_loss: 0.5634 - val_accuracy: 0.7276\n",
            "Epoch 122/500\n",
            "20/20 [==============================] - 0s 4ms/step - loss: 0.5848 - accuracy: 0.7014 - val_loss: 0.5631 - val_accuracy: 0.7276\n",
            "Epoch 123/500\n",
            "20/20 [==============================] - 0s 3ms/step - loss: 0.5850 - accuracy: 0.7030 - val_loss: 0.5631 - val_accuracy: 0.7313\n",
            "Epoch 124/500\n",
            "20/20 [==============================] - 0s 3ms/step - loss: 0.5885 - accuracy: 0.6966 - val_loss: 0.5625 - val_accuracy: 0.7276\n",
            "Epoch 125/500\n",
            "20/20 [==============================] - 0s 4ms/step - loss: 0.5871 - accuracy: 0.7030 - val_loss: 0.5621 - val_accuracy: 0.7276\n",
            "Epoch 126/500\n",
            "20/20 [==============================] - 0s 4ms/step - loss: 0.5837 - accuracy: 0.7030 - val_loss: 0.5616 - val_accuracy: 0.7276\n",
            "Epoch 127/500\n",
            "20/20 [==============================] - 0s 3ms/step - loss: 0.5802 - accuracy: 0.7079 - val_loss: 0.5611 - val_accuracy: 0.7276\n",
            "Epoch 128/500\n",
            "20/20 [==============================] - 0s 4ms/step - loss: 0.5806 - accuracy: 0.7014 - val_loss: 0.5604 - val_accuracy: 0.7276\n",
            "Epoch 129/500\n",
            "20/20 [==============================] - 0s 3ms/step - loss: 0.5826 - accuracy: 0.7047 - val_loss: 0.5598 - val_accuracy: 0.7313\n",
            "Epoch 130/500\n",
            "20/20 [==============================] - 0s 4ms/step - loss: 0.5832 - accuracy: 0.6998 - val_loss: 0.5597 - val_accuracy: 0.7313\n",
            "Epoch 131/500\n",
            "20/20 [==============================] - 0s 4ms/step - loss: 0.5759 - accuracy: 0.7095 - val_loss: 0.5586 - val_accuracy: 0.7351\n",
            "Epoch 132/500\n",
            "20/20 [==============================] - 0s 3ms/step - loss: 0.5799 - accuracy: 0.7143 - val_loss: 0.5582 - val_accuracy: 0.7313\n",
            "Epoch 133/500\n",
            "20/20 [==============================] - 0s 4ms/step - loss: 0.5865 - accuracy: 0.7127 - val_loss: 0.5580 - val_accuracy: 0.7351\n",
            "Epoch 134/500\n",
            "20/20 [==============================] - 0s 3ms/step - loss: 0.5740 - accuracy: 0.7175 - val_loss: 0.5570 - val_accuracy: 0.7351\n",
            "Epoch 135/500\n",
            "20/20 [==============================] - 0s 3ms/step - loss: 0.5834 - accuracy: 0.6998 - val_loss: 0.5570 - val_accuracy: 0.7313\n",
            "Epoch 136/500\n",
            "20/20 [==============================] - 0s 3ms/step - loss: 0.5801 - accuracy: 0.7079 - val_loss: 0.5565 - val_accuracy: 0.7313\n",
            "Epoch 137/500\n",
            "20/20 [==============================] - 0s 3ms/step - loss: 0.5833 - accuracy: 0.7079 - val_loss: 0.5558 - val_accuracy: 0.7351\n",
            "Epoch 138/500\n",
            "20/20 [==============================] - 0s 4ms/step - loss: 0.5801 - accuracy: 0.7255 - val_loss: 0.5557 - val_accuracy: 0.7351\n",
            "Epoch 139/500\n",
            "20/20 [==============================] - 0s 4ms/step - loss: 0.5754 - accuracy: 0.7047 - val_loss: 0.5548 - val_accuracy: 0.7351\n",
            "Epoch 140/500\n",
            "20/20 [==============================] - 0s 3ms/step - loss: 0.5722 - accuracy: 0.7175 - val_loss: 0.5537 - val_accuracy: 0.7388\n",
            "Epoch 141/500\n",
            "20/20 [==============================] - 0s 4ms/step - loss: 0.5784 - accuracy: 0.7143 - val_loss: 0.5533 - val_accuracy: 0.7351\n",
            "Epoch 142/500\n",
            "20/20 [==============================] - 0s 4ms/step - loss: 0.5748 - accuracy: 0.7175 - val_loss: 0.5526 - val_accuracy: 0.7388\n",
            "Epoch 143/500\n",
            "20/20 [==============================] - 0s 3ms/step - loss: 0.5754 - accuracy: 0.7079 - val_loss: 0.5526 - val_accuracy: 0.7351\n",
            "Epoch 144/500\n",
            "20/20 [==============================] - 0s 4ms/step - loss: 0.5733 - accuracy: 0.7095 - val_loss: 0.5519 - val_accuracy: 0.7388\n",
            "Epoch 145/500\n",
            "20/20 [==============================] - 0s 4ms/step - loss: 0.5833 - accuracy: 0.7111 - val_loss: 0.5514 - val_accuracy: 0.7388\n",
            "Epoch 146/500\n",
            "20/20 [==============================] - 0s 3ms/step - loss: 0.5722 - accuracy: 0.7079 - val_loss: 0.5509 - val_accuracy: 0.7388\n",
            "Epoch 147/500\n",
            "20/20 [==============================] - 0s 3ms/step - loss: 0.5777 - accuracy: 0.7127 - val_loss: 0.5506 - val_accuracy: 0.7351\n",
            "Epoch 148/500\n",
            "20/20 [==============================] - 0s 4ms/step - loss: 0.5778 - accuracy: 0.7063 - val_loss: 0.5499 - val_accuracy: 0.7351\n",
            "Epoch 149/500\n",
            "20/20 [==============================] - 0s 4ms/step - loss: 0.5715 - accuracy: 0.7223 - val_loss: 0.5493 - val_accuracy: 0.7351\n",
            "Epoch 150/500\n",
            "20/20 [==============================] - 0s 4ms/step - loss: 0.5737 - accuracy: 0.7223 - val_loss: 0.5492 - val_accuracy: 0.7351\n",
            "Epoch 151/500\n",
            "20/20 [==============================] - 0s 3ms/step - loss: 0.5612 - accuracy: 0.7255 - val_loss: 0.5476 - val_accuracy: 0.7351\n",
            "Epoch 152/500\n",
            "20/20 [==============================] - 0s 3ms/step - loss: 0.5741 - accuracy: 0.7207 - val_loss: 0.5464 - val_accuracy: 0.7351\n",
            "Epoch 153/500\n",
            "20/20 [==============================] - 0s 3ms/step - loss: 0.5709 - accuracy: 0.7111 - val_loss: 0.5466 - val_accuracy: 0.7351\n",
            "Epoch 154/500\n",
            "20/20 [==============================] - 0s 3ms/step - loss: 0.5696 - accuracy: 0.7191 - val_loss: 0.5457 - val_accuracy: 0.7351\n",
            "Epoch 155/500\n",
            "20/20 [==============================] - 0s 3ms/step - loss: 0.5684 - accuracy: 0.7223 - val_loss: 0.5452 - val_accuracy: 0.7351\n",
            "Epoch 156/500\n",
            "20/20 [==============================] - 0s 4ms/step - loss: 0.5641 - accuracy: 0.7175 - val_loss: 0.5444 - val_accuracy: 0.7351\n",
            "Epoch 157/500\n",
            "20/20 [==============================] - 0s 4ms/step - loss: 0.5666 - accuracy: 0.6998 - val_loss: 0.5437 - val_accuracy: 0.7388\n",
            "Epoch 158/500\n",
            "20/20 [==============================] - 0s 4ms/step - loss: 0.5666 - accuracy: 0.7159 - val_loss: 0.5434 - val_accuracy: 0.7351\n",
            "Epoch 159/500\n",
            "20/20 [==============================] - 0s 4ms/step - loss: 0.5641 - accuracy: 0.7175 - val_loss: 0.5426 - val_accuracy: 0.7351\n",
            "Epoch 160/500\n",
            "20/20 [==============================] - 0s 3ms/step - loss: 0.5729 - accuracy: 0.7127 - val_loss: 0.5421 - val_accuracy: 0.7351\n",
            "Epoch 161/500\n",
            "20/20 [==============================] - 0s 3ms/step - loss: 0.5589 - accuracy: 0.7191 - val_loss: 0.5412 - val_accuracy: 0.7351\n",
            "Epoch 162/500\n",
            "20/20 [==============================] - 0s 4ms/step - loss: 0.5685 - accuracy: 0.7207 - val_loss: 0.5408 - val_accuracy: 0.7351\n",
            "Epoch 163/500\n",
            "20/20 [==============================] - 0s 4ms/step - loss: 0.5739 - accuracy: 0.7223 - val_loss: 0.5406 - val_accuracy: 0.7351\n",
            "Epoch 164/500\n",
            "20/20 [==============================] - 0s 3ms/step - loss: 0.5667 - accuracy: 0.7159 - val_loss: 0.5402 - val_accuracy: 0.7351\n",
            "Epoch 165/500\n",
            "20/20 [==============================] - 0s 3ms/step - loss: 0.5683 - accuracy: 0.7127 - val_loss: 0.5394 - val_accuracy: 0.7351\n",
            "Epoch 166/500\n",
            "20/20 [==============================] - 0s 4ms/step - loss: 0.5598 - accuracy: 0.7159 - val_loss: 0.5385 - val_accuracy: 0.7351\n",
            "Epoch 167/500\n",
            "20/20 [==============================] - 0s 3ms/step - loss: 0.5577 - accuracy: 0.7191 - val_loss: 0.5374 - val_accuracy: 0.7351\n",
            "Epoch 168/500\n",
            "20/20 [==============================] - 0s 4ms/step - loss: 0.5604 - accuracy: 0.7191 - val_loss: 0.5370 - val_accuracy: 0.7351\n",
            "Epoch 169/500\n",
            "20/20 [==============================] - 0s 3ms/step - loss: 0.5605 - accuracy: 0.7239 - val_loss: 0.5363 - val_accuracy: 0.7276\n",
            "Epoch 170/500\n",
            "20/20 [==============================] - 0s 4ms/step - loss: 0.5678 - accuracy: 0.7079 - val_loss: 0.5362 - val_accuracy: 0.7388\n",
            "Epoch 171/500\n",
            "20/20 [==============================] - 0s 3ms/step - loss: 0.5566 - accuracy: 0.7239 - val_loss: 0.5353 - val_accuracy: 0.7388\n",
            "Epoch 172/500\n",
            "20/20 [==============================] - 0s 3ms/step - loss: 0.5513 - accuracy: 0.7352 - val_loss: 0.5337 - val_accuracy: 0.7351\n",
            "Epoch 173/500\n",
            "20/20 [==============================] - 0s 3ms/step - loss: 0.5551 - accuracy: 0.7127 - val_loss: 0.5334 - val_accuracy: 0.7388\n",
            "Epoch 174/500\n",
            "20/20 [==============================] - 0s 4ms/step - loss: 0.5604 - accuracy: 0.7175 - val_loss: 0.5327 - val_accuracy: 0.7388\n",
            "Epoch 175/500\n",
            "20/20 [==============================] - 0s 4ms/step - loss: 0.5687 - accuracy: 0.7255 - val_loss: 0.5326 - val_accuracy: 0.7276\n",
            "Epoch 176/500\n",
            "20/20 [==============================] - 0s 4ms/step - loss: 0.5561 - accuracy: 0.7303 - val_loss: 0.5321 - val_accuracy: 0.7313\n",
            "Epoch 177/500\n",
            "20/20 [==============================] - 0s 4ms/step - loss: 0.5545 - accuracy: 0.7319 - val_loss: 0.5316 - val_accuracy: 0.7313\n",
            "Epoch 178/500\n",
            "20/20 [==============================] - 0s 3ms/step - loss: 0.5490 - accuracy: 0.7400 - val_loss: 0.5312 - val_accuracy: 0.7351\n",
            "Epoch 179/500\n",
            "20/20 [==============================] - 0s 4ms/step - loss: 0.5604 - accuracy: 0.7303 - val_loss: 0.5311 - val_accuracy: 0.7388\n",
            "Epoch 180/500\n",
            "20/20 [==============================] - 0s 4ms/step - loss: 0.5481 - accuracy: 0.7287 - val_loss: 0.5301 - val_accuracy: 0.7388\n",
            "Epoch 181/500\n",
            "20/20 [==============================] - 0s 4ms/step - loss: 0.5499 - accuracy: 0.7143 - val_loss: 0.5295 - val_accuracy: 0.7463\n",
            "Epoch 182/500\n",
            "20/20 [==============================] - 0s 3ms/step - loss: 0.5577 - accuracy: 0.7384 - val_loss: 0.5289 - val_accuracy: 0.7425\n",
            "Epoch 183/500\n",
            "20/20 [==============================] - 0s 4ms/step - loss: 0.5561 - accuracy: 0.7271 - val_loss: 0.5285 - val_accuracy: 0.7276\n",
            "Epoch 184/500\n",
            "20/20 [==============================] - 0s 3ms/step - loss: 0.5479 - accuracy: 0.7335 - val_loss: 0.5274 - val_accuracy: 0.7425\n",
            "Epoch 185/500\n",
            "20/20 [==============================] - 0s 3ms/step - loss: 0.5548 - accuracy: 0.7175 - val_loss: 0.5272 - val_accuracy: 0.7388\n",
            "Epoch 186/500\n",
            "20/20 [==============================] - 0s 4ms/step - loss: 0.5567 - accuracy: 0.7319 - val_loss: 0.5267 - val_accuracy: 0.7388\n",
            "Epoch 187/500\n",
            "20/20 [==============================] - 0s 3ms/step - loss: 0.5653 - accuracy: 0.7207 - val_loss: 0.5267 - val_accuracy: 0.7425\n",
            "Epoch 188/500\n",
            "20/20 [==============================] - 0s 4ms/step - loss: 0.5595 - accuracy: 0.7143 - val_loss: 0.5257 - val_accuracy: 0.7388\n",
            "Epoch 189/500\n",
            "20/20 [==============================] - 0s 3ms/step - loss: 0.5420 - accuracy: 0.7335 - val_loss: 0.5244 - val_accuracy: 0.7351\n",
            "Epoch 190/500\n",
            "20/20 [==============================] - 0s 4ms/step - loss: 0.5441 - accuracy: 0.7271 - val_loss: 0.5234 - val_accuracy: 0.7351\n",
            "Epoch 191/500\n",
            "20/20 [==============================] - 0s 3ms/step - loss: 0.5664 - accuracy: 0.7143 - val_loss: 0.5235 - val_accuracy: 0.7425\n",
            "Epoch 192/500\n",
            "20/20 [==============================] - 0s 3ms/step - loss: 0.5426 - accuracy: 0.7127 - val_loss: 0.5226 - val_accuracy: 0.7388\n",
            "Epoch 193/500\n",
            "20/20 [==============================] - 0s 4ms/step - loss: 0.5441 - accuracy: 0.7400 - val_loss: 0.5214 - val_accuracy: 0.7425\n",
            "Epoch 194/500\n",
            "20/20 [==============================] - 0s 3ms/step - loss: 0.5590 - accuracy: 0.7223 - val_loss: 0.5216 - val_accuracy: 0.7463\n",
            "Epoch 195/500\n",
            "20/20 [==============================] - 0s 3ms/step - loss: 0.5467 - accuracy: 0.7271 - val_loss: 0.5206 - val_accuracy: 0.7351\n",
            "Epoch 196/500\n",
            "20/20 [==============================] - 0s 4ms/step - loss: 0.5493 - accuracy: 0.7448 - val_loss: 0.5212 - val_accuracy: 0.7575\n",
            "Epoch 197/500\n",
            "20/20 [==============================] - 0s 3ms/step - loss: 0.5439 - accuracy: 0.7368 - val_loss: 0.5204 - val_accuracy: 0.7500\n",
            "Epoch 198/500\n",
            "20/20 [==============================] - 0s 3ms/step - loss: 0.5433 - accuracy: 0.7271 - val_loss: 0.5184 - val_accuracy: 0.7463\n",
            "Epoch 199/500\n",
            "20/20 [==============================] - 0s 4ms/step - loss: 0.5516 - accuracy: 0.7271 - val_loss: 0.5185 - val_accuracy: 0.7463\n",
            "Epoch 200/500\n",
            "20/20 [==============================] - 0s 3ms/step - loss: 0.5440 - accuracy: 0.7319 - val_loss: 0.5179 - val_accuracy: 0.7500\n",
            "Epoch 201/500\n",
            "20/20 [==============================] - 0s 4ms/step - loss: 0.5456 - accuracy: 0.7319 - val_loss: 0.5170 - val_accuracy: 0.7500\n",
            "Epoch 202/500\n",
            "20/20 [==============================] - 0s 4ms/step - loss: 0.5486 - accuracy: 0.7319 - val_loss: 0.5163 - val_accuracy: 0.7463\n",
            "Epoch 203/500\n",
            "20/20 [==============================] - 0s 3ms/step - loss: 0.5520 - accuracy: 0.7271 - val_loss: 0.5166 - val_accuracy: 0.7463\n",
            "Epoch 204/500\n",
            "20/20 [==============================] - 0s 3ms/step - loss: 0.5432 - accuracy: 0.7416 - val_loss: 0.5151 - val_accuracy: 0.7500\n",
            "Epoch 205/500\n",
            "20/20 [==============================] - 0s 4ms/step - loss: 0.5400 - accuracy: 0.7239 - val_loss: 0.5141 - val_accuracy: 0.7537\n",
            "Epoch 206/500\n",
            "20/20 [==============================] - 0s 3ms/step - loss: 0.5350 - accuracy: 0.7287 - val_loss: 0.5133 - val_accuracy: 0.7463\n",
            "Epoch 207/500\n",
            "20/20 [==============================] - 0s 3ms/step - loss: 0.5401 - accuracy: 0.7223 - val_loss: 0.5126 - val_accuracy: 0.7500\n",
            "Epoch 208/500\n",
            "20/20 [==============================] - 0s 3ms/step - loss: 0.5410 - accuracy: 0.7384 - val_loss: 0.5117 - val_accuracy: 0.7575\n",
            "Epoch 209/500\n",
            "20/20 [==============================] - 0s 4ms/step - loss: 0.5485 - accuracy: 0.7352 - val_loss: 0.5126 - val_accuracy: 0.7537\n",
            "Epoch 210/500\n",
            "20/20 [==============================] - 0s 4ms/step - loss: 0.5438 - accuracy: 0.7191 - val_loss: 0.5121 - val_accuracy: 0.7575\n",
            "Epoch 211/500\n",
            "20/20 [==============================] - 0s 4ms/step - loss: 0.5472 - accuracy: 0.7271 - val_loss: 0.5105 - val_accuracy: 0.7612\n",
            "Epoch 212/500\n",
            "20/20 [==============================] - 0s 4ms/step - loss: 0.5364 - accuracy: 0.7352 - val_loss: 0.5104 - val_accuracy: 0.7537\n",
            "Epoch 213/500\n",
            "20/20 [==============================] - 0s 3ms/step - loss: 0.5441 - accuracy: 0.7335 - val_loss: 0.5098 - val_accuracy: 0.7537\n",
            "Epoch 214/500\n",
            "20/20 [==============================] - 0s 4ms/step - loss: 0.5307 - accuracy: 0.7352 - val_loss: 0.5090 - val_accuracy: 0.7575\n",
            "Epoch 215/500\n",
            "20/20 [==============================] - 0s 4ms/step - loss: 0.5348 - accuracy: 0.7287 - val_loss: 0.5076 - val_accuracy: 0.7612\n",
            "Epoch 216/500\n",
            "20/20 [==============================] - 0s 3ms/step - loss: 0.5352 - accuracy: 0.7480 - val_loss: 0.5065 - val_accuracy: 0.7537\n",
            "Epoch 217/500\n",
            "20/20 [==============================] - 0s 4ms/step - loss: 0.5403 - accuracy: 0.7255 - val_loss: 0.5064 - val_accuracy: 0.7575\n",
            "Epoch 218/500\n",
            "20/20 [==============================] - 0s 5ms/step - loss: 0.5471 - accuracy: 0.7352 - val_loss: 0.5059 - val_accuracy: 0.7575\n",
            "Epoch 219/500\n",
            "20/20 [==============================] - 0s 4ms/step - loss: 0.5403 - accuracy: 0.7384 - val_loss: 0.5051 - val_accuracy: 0.7575\n",
            "Epoch 220/500\n",
            "20/20 [==============================] - 0s 3ms/step - loss: 0.5237 - accuracy: 0.7448 - val_loss: 0.5036 - val_accuracy: 0.7575\n",
            "Epoch 221/500\n",
            "20/20 [==============================] - 0s 4ms/step - loss: 0.5440 - accuracy: 0.7384 - val_loss: 0.5036 - val_accuracy: 0.7575\n",
            "Epoch 222/500\n",
            "20/20 [==============================] - 0s 4ms/step - loss: 0.5263 - accuracy: 0.7432 - val_loss: 0.5022 - val_accuracy: 0.7575\n",
            "Epoch 223/500\n",
            "20/20 [==============================] - 0s 4ms/step - loss: 0.5318 - accuracy: 0.7448 - val_loss: 0.5016 - val_accuracy: 0.7612\n",
            "Epoch 224/500\n",
            "20/20 [==============================] - 0s 3ms/step - loss: 0.5368 - accuracy: 0.7175 - val_loss: 0.5017 - val_accuracy: 0.7612\n",
            "Epoch 225/500\n",
            "20/20 [==============================] - 0s 4ms/step - loss: 0.5277 - accuracy: 0.7464 - val_loss: 0.5025 - val_accuracy: 0.7649\n",
            "Epoch 226/500\n",
            "20/20 [==============================] - 0s 4ms/step - loss: 0.5243 - accuracy: 0.7416 - val_loss: 0.5009 - val_accuracy: 0.7649\n",
            "Epoch 227/500\n",
            "20/20 [==============================] - 0s 4ms/step - loss: 0.5382 - accuracy: 0.7303 - val_loss: 0.5004 - val_accuracy: 0.7649\n",
            "Epoch 228/500\n",
            "20/20 [==============================] - 0s 3ms/step - loss: 0.5167 - accuracy: 0.7416 - val_loss: 0.4999 - val_accuracy: 0.7649\n",
            "Epoch 229/500\n",
            "20/20 [==============================] - 0s 3ms/step - loss: 0.5383 - accuracy: 0.7368 - val_loss: 0.4984 - val_accuracy: 0.7649\n",
            "Epoch 230/500\n",
            "20/20 [==============================] - 0s 4ms/step - loss: 0.5265 - accuracy: 0.7496 - val_loss: 0.4974 - val_accuracy: 0.7649\n",
            "Epoch 231/500\n",
            "20/20 [==============================] - 0s 3ms/step - loss: 0.5262 - accuracy: 0.7560 - val_loss: 0.4991 - val_accuracy: 0.7724\n",
            "Epoch 232/500\n",
            "20/20 [==============================] - 0s 4ms/step - loss: 0.5274 - accuracy: 0.7448 - val_loss: 0.4971 - val_accuracy: 0.7687\n",
            "Epoch 233/500\n",
            "20/20 [==============================] - 0s 4ms/step - loss: 0.5189 - accuracy: 0.7528 - val_loss: 0.4952 - val_accuracy: 0.7649\n",
            "Epoch 234/500\n",
            "20/20 [==============================] - 0s 3ms/step - loss: 0.5178 - accuracy: 0.7673 - val_loss: 0.4943 - val_accuracy: 0.7687\n",
            "Epoch 235/500\n",
            "20/20 [==============================] - 0s 3ms/step - loss: 0.5288 - accuracy: 0.7368 - val_loss: 0.4944 - val_accuracy: 0.7575\n",
            "Epoch 236/500\n",
            "20/20 [==============================] - 0s 3ms/step - loss: 0.5206 - accuracy: 0.7512 - val_loss: 0.4940 - val_accuracy: 0.7612\n",
            "Epoch 237/500\n",
            "20/20 [==============================] - 0s 3ms/step - loss: 0.5246 - accuracy: 0.7544 - val_loss: 0.4934 - val_accuracy: 0.7687\n",
            "Epoch 238/500\n",
            "20/20 [==============================] - 0s 3ms/step - loss: 0.5221 - accuracy: 0.7496 - val_loss: 0.4924 - val_accuracy: 0.7687\n",
            "Epoch 239/500\n",
            "20/20 [==============================] - 0s 4ms/step - loss: 0.5203 - accuracy: 0.7592 - val_loss: 0.4923 - val_accuracy: 0.7649\n",
            "Epoch 240/500\n",
            "20/20 [==============================] - 0s 3ms/step - loss: 0.5278 - accuracy: 0.7384 - val_loss: 0.4918 - val_accuracy: 0.7687\n",
            "Epoch 241/500\n",
            "20/20 [==============================] - 0s 3ms/step - loss: 0.5178 - accuracy: 0.7528 - val_loss: 0.4908 - val_accuracy: 0.7649\n",
            "Epoch 242/500\n",
            "20/20 [==============================] - 0s 3ms/step - loss: 0.5242 - accuracy: 0.7480 - val_loss: 0.4891 - val_accuracy: 0.7724\n",
            "Epoch 243/500\n",
            "20/20 [==============================] - 0s 3ms/step - loss: 0.5227 - accuracy: 0.7480 - val_loss: 0.4891 - val_accuracy: 0.7687\n",
            "Epoch 244/500\n",
            "20/20 [==============================] - 0s 3ms/step - loss: 0.5215 - accuracy: 0.7400 - val_loss: 0.4885 - val_accuracy: 0.7687\n",
            "Epoch 245/500\n",
            "20/20 [==============================] - 0s 3ms/step - loss: 0.5125 - accuracy: 0.7673 - val_loss: 0.4866 - val_accuracy: 0.7687\n",
            "Epoch 246/500\n",
            "20/20 [==============================] - 0s 4ms/step - loss: 0.5141 - accuracy: 0.7640 - val_loss: 0.4848 - val_accuracy: 0.7687\n",
            "Epoch 247/500\n",
            "20/20 [==============================] - 0s 3ms/step - loss: 0.5095 - accuracy: 0.7448 - val_loss: 0.4847 - val_accuracy: 0.7724\n",
            "Epoch 248/500\n",
            "20/20 [==============================] - 0s 3ms/step - loss: 0.5202 - accuracy: 0.7689 - val_loss: 0.4854 - val_accuracy: 0.7724\n",
            "Epoch 249/500\n",
            "20/20 [==============================] - 0s 4ms/step - loss: 0.5170 - accuracy: 0.7432 - val_loss: 0.4849 - val_accuracy: 0.7687\n",
            "Epoch 250/500\n",
            "20/20 [==============================] - 0s 3ms/step - loss: 0.5023 - accuracy: 0.7657 - val_loss: 0.4837 - val_accuracy: 0.7649\n",
            "Epoch 251/500\n",
            "20/20 [==============================] - 0s 4ms/step - loss: 0.5070 - accuracy: 0.7512 - val_loss: 0.4829 - val_accuracy: 0.7724\n",
            "Epoch 252/500\n",
            "20/20 [==============================] - 0s 4ms/step - loss: 0.5125 - accuracy: 0.7560 - val_loss: 0.4831 - val_accuracy: 0.7687\n",
            "Epoch 253/500\n",
            "20/20 [==============================] - 0s 3ms/step - loss: 0.5123 - accuracy: 0.7673 - val_loss: 0.4832 - val_accuracy: 0.7799\n",
            "Epoch 254/500\n",
            "20/20 [==============================] - 0s 3ms/step - loss: 0.5081 - accuracy: 0.7576 - val_loss: 0.4809 - val_accuracy: 0.7649\n",
            "Epoch 255/500\n",
            "20/20 [==============================] - 0s 4ms/step - loss: 0.5159 - accuracy: 0.7673 - val_loss: 0.4816 - val_accuracy: 0.7761\n",
            "Epoch 256/500\n",
            "20/20 [==============================] - 0s 4ms/step - loss: 0.5099 - accuracy: 0.7624 - val_loss: 0.4798 - val_accuracy: 0.7799\n",
            "Epoch 257/500\n",
            "20/20 [==============================] - 0s 3ms/step - loss: 0.5237 - accuracy: 0.7432 - val_loss: 0.4803 - val_accuracy: 0.7799\n",
            "Epoch 258/500\n",
            "20/20 [==============================] - 0s 3ms/step - loss: 0.5036 - accuracy: 0.7576 - val_loss: 0.4796 - val_accuracy: 0.7724\n",
            "Epoch 259/500\n",
            "20/20 [==============================] - 0s 3ms/step - loss: 0.5088 - accuracy: 0.7528 - val_loss: 0.4798 - val_accuracy: 0.7761\n",
            "Epoch 260/500\n",
            "20/20 [==============================] - 0s 4ms/step - loss: 0.5099 - accuracy: 0.7737 - val_loss: 0.4786 - val_accuracy: 0.7724\n",
            "Epoch 261/500\n",
            "20/20 [==============================] - 0s 4ms/step - loss: 0.5099 - accuracy: 0.7657 - val_loss: 0.4782 - val_accuracy: 0.7836\n",
            "Epoch 262/500\n",
            "20/20 [==============================] - 0s 3ms/step - loss: 0.5078 - accuracy: 0.7640 - val_loss: 0.4770 - val_accuracy: 0.7687\n",
            "Epoch 263/500\n",
            "20/20 [==============================] - 0s 4ms/step - loss: 0.5062 - accuracy: 0.7624 - val_loss: 0.4761 - val_accuracy: 0.7724\n",
            "Epoch 264/500\n",
            "20/20 [==============================] - 0s 4ms/step - loss: 0.5062 - accuracy: 0.7721 - val_loss: 0.4758 - val_accuracy: 0.7724\n",
            "Epoch 265/500\n",
            "20/20 [==============================] - 0s 3ms/step - loss: 0.5022 - accuracy: 0.7721 - val_loss: 0.4744 - val_accuracy: 0.7761\n",
            "Epoch 266/500\n",
            "20/20 [==============================] - 0s 4ms/step - loss: 0.5091 - accuracy: 0.7705 - val_loss: 0.4753 - val_accuracy: 0.7948\n",
            "Epoch 267/500\n",
            "20/20 [==============================] - 0s 4ms/step - loss: 0.5066 - accuracy: 0.7817 - val_loss: 0.4744 - val_accuracy: 0.7799\n",
            "Epoch 268/500\n",
            "20/20 [==============================] - 0s 3ms/step - loss: 0.5140 - accuracy: 0.7608 - val_loss: 0.4746 - val_accuracy: 0.7724\n",
            "Epoch 269/500\n",
            "20/20 [==============================] - 0s 4ms/step - loss: 0.5062 - accuracy: 0.7721 - val_loss: 0.4730 - val_accuracy: 0.7799\n",
            "Epoch 270/500\n",
            "20/20 [==============================] - 0s 4ms/step - loss: 0.5015 - accuracy: 0.7721 - val_loss: 0.4730 - val_accuracy: 0.7724\n",
            "Epoch 271/500\n",
            "20/20 [==============================] - 0s 4ms/step - loss: 0.4986 - accuracy: 0.7705 - val_loss: 0.4723 - val_accuracy: 0.7724\n",
            "Epoch 272/500\n",
            "20/20 [==============================] - 0s 4ms/step - loss: 0.5105 - accuracy: 0.7528 - val_loss: 0.4722 - val_accuracy: 0.7799\n",
            "Epoch 273/500\n",
            "20/20 [==============================] - 0s 4ms/step - loss: 0.4975 - accuracy: 0.7705 - val_loss: 0.4734 - val_accuracy: 0.7910\n",
            "Epoch 274/500\n",
            "20/20 [==============================] - 0s 4ms/step - loss: 0.4949 - accuracy: 0.7576 - val_loss: 0.4699 - val_accuracy: 0.7761\n",
            "Epoch 275/500\n",
            "20/20 [==============================] - 0s 3ms/step - loss: 0.4990 - accuracy: 0.7753 - val_loss: 0.4683 - val_accuracy: 0.7799\n",
            "Epoch 276/500\n",
            "20/20 [==============================] - 0s 5ms/step - loss: 0.5006 - accuracy: 0.7624 - val_loss: 0.4684 - val_accuracy: 0.7649\n",
            "Epoch 277/500\n",
            "20/20 [==============================] - 0s 4ms/step - loss: 0.5037 - accuracy: 0.7849 - val_loss: 0.4683 - val_accuracy: 0.7687\n",
            "Epoch 278/500\n",
            "20/20 [==============================] - 0s 3ms/step - loss: 0.5025 - accuracy: 0.7657 - val_loss: 0.4680 - val_accuracy: 0.7724\n",
            "Epoch 279/500\n",
            "20/20 [==============================] - 0s 4ms/step - loss: 0.4924 - accuracy: 0.7705 - val_loss: 0.4680 - val_accuracy: 0.7649\n",
            "Epoch 280/500\n",
            "20/20 [==============================] - 0s 4ms/step - loss: 0.5029 - accuracy: 0.7785 - val_loss: 0.4664 - val_accuracy: 0.7687\n",
            "Epoch 281/500\n",
            "20/20 [==============================] - 0s 4ms/step - loss: 0.4988 - accuracy: 0.7833 - val_loss: 0.4688 - val_accuracy: 0.7948\n",
            "Epoch 282/500\n",
            "20/20 [==============================] - 0s 4ms/step - loss: 0.4929 - accuracy: 0.7801 - val_loss: 0.4655 - val_accuracy: 0.7724\n",
            "Epoch 283/500\n",
            "20/20 [==============================] - 0s 4ms/step - loss: 0.4832 - accuracy: 0.7769 - val_loss: 0.4649 - val_accuracy: 0.7687\n",
            "Epoch 284/500\n",
            "20/20 [==============================] - 0s 4ms/step - loss: 0.4960 - accuracy: 0.7769 - val_loss: 0.4640 - val_accuracy: 0.7649\n",
            "Epoch 285/500\n",
            "20/20 [==============================] - 0s 4ms/step - loss: 0.4912 - accuracy: 0.7624 - val_loss: 0.4658 - val_accuracy: 0.7873\n",
            "Epoch 286/500\n",
            "20/20 [==============================] - 0s 4ms/step - loss: 0.5007 - accuracy: 0.7657 - val_loss: 0.4666 - val_accuracy: 0.7761\n",
            "Epoch 287/500\n",
            "20/20 [==============================] - 0s 4ms/step - loss: 0.4962 - accuracy: 0.7769 - val_loss: 0.4653 - val_accuracy: 0.7761\n",
            "Epoch 288/500\n",
            "20/20 [==============================] - 0s 5ms/step - loss: 0.4998 - accuracy: 0.7849 - val_loss: 0.4643 - val_accuracy: 0.7799\n",
            "Epoch 289/500\n",
            "20/20 [==============================] - 0s 4ms/step - loss: 0.5032 - accuracy: 0.7705 - val_loss: 0.4644 - val_accuracy: 0.7799\n",
            "Epoch 290/500\n",
            "20/20 [==============================] - 0s 4ms/step - loss: 0.5027 - accuracy: 0.7897 - val_loss: 0.4636 - val_accuracy: 0.7761\n",
            "Epoch 291/500\n",
            "20/20 [==============================] - 0s 4ms/step - loss: 0.4923 - accuracy: 0.7817 - val_loss: 0.4632 - val_accuracy: 0.7799\n",
            "Epoch 292/500\n",
            "20/20 [==============================] - 0s 4ms/step - loss: 0.5013 - accuracy: 0.7721 - val_loss: 0.4627 - val_accuracy: 0.7836\n",
            "Epoch 293/500\n",
            "20/20 [==============================] - 0s 4ms/step - loss: 0.4933 - accuracy: 0.7705 - val_loss: 0.4626 - val_accuracy: 0.7687\n",
            "Epoch 294/500\n",
            "20/20 [==============================] - 0s 4ms/step - loss: 0.4800 - accuracy: 0.7929 - val_loss: 0.4608 - val_accuracy: 0.7799\n",
            "Epoch 295/500\n",
            "20/20 [==============================] - 0s 4ms/step - loss: 0.4902 - accuracy: 0.7833 - val_loss: 0.4596 - val_accuracy: 0.7761\n",
            "Epoch 296/500\n",
            "20/20 [==============================] - 0s 4ms/step - loss: 0.5023 - accuracy: 0.7673 - val_loss: 0.4616 - val_accuracy: 0.7687\n",
            "Epoch 297/500\n",
            "20/20 [==============================] - 0s 4ms/step - loss: 0.4885 - accuracy: 0.7865 - val_loss: 0.4603 - val_accuracy: 0.7724\n",
            "Epoch 298/500\n",
            "20/20 [==============================] - 0s 4ms/step - loss: 0.4867 - accuracy: 0.7785 - val_loss: 0.4589 - val_accuracy: 0.7799\n",
            "Epoch 299/500\n",
            "20/20 [==============================] - 0s 5ms/step - loss: 0.4921 - accuracy: 0.7769 - val_loss: 0.4588 - val_accuracy: 0.7836\n",
            "Epoch 300/500\n",
            "20/20 [==============================] - 0s 4ms/step - loss: 0.4764 - accuracy: 0.7945 - val_loss: 0.4580 - val_accuracy: 0.7836\n",
            "Epoch 301/500\n",
            "20/20 [==============================] - 0s 4ms/step - loss: 0.4889 - accuracy: 0.7689 - val_loss: 0.4584 - val_accuracy: 0.7799\n",
            "Epoch 302/500\n",
            "20/20 [==============================] - 0s 4ms/step - loss: 0.4897 - accuracy: 0.7624 - val_loss: 0.4594 - val_accuracy: 0.7687\n",
            "Epoch 303/500\n",
            "20/20 [==============================] - 0s 5ms/step - loss: 0.4838 - accuracy: 0.7881 - val_loss: 0.4583 - val_accuracy: 0.7836\n",
            "Epoch 304/500\n",
            "20/20 [==============================] - 0s 4ms/step - loss: 0.4916 - accuracy: 0.7833 - val_loss: 0.4578 - val_accuracy: 0.7799\n",
            "Epoch 305/500\n",
            "20/20 [==============================] - 0s 4ms/step - loss: 0.4854 - accuracy: 0.7849 - val_loss: 0.4576 - val_accuracy: 0.7761\n",
            "Epoch 306/500\n",
            "20/20 [==============================] - 0s 5ms/step - loss: 0.4851 - accuracy: 0.7785 - val_loss: 0.4565 - val_accuracy: 0.7836\n",
            "Epoch 307/500\n",
            "20/20 [==============================] - 0s 4ms/step - loss: 0.4864 - accuracy: 0.7737 - val_loss: 0.4574 - val_accuracy: 0.7799\n",
            "Epoch 308/500\n",
            "20/20 [==============================] - 0s 4ms/step - loss: 0.4811 - accuracy: 0.7929 - val_loss: 0.4562 - val_accuracy: 0.7799\n",
            "Epoch 309/500\n",
            "20/20 [==============================] - 0s 4ms/step - loss: 0.4829 - accuracy: 0.7945 - val_loss: 0.4564 - val_accuracy: 0.7799\n",
            "Epoch 310/500\n",
            "20/20 [==============================] - 0s 4ms/step - loss: 0.4806 - accuracy: 0.7897 - val_loss: 0.4570 - val_accuracy: 0.7873\n",
            "Epoch 311/500\n",
            "20/20 [==============================] - 0s 4ms/step - loss: 0.4841 - accuracy: 0.7897 - val_loss: 0.4549 - val_accuracy: 0.7761\n",
            "Epoch 312/500\n",
            "20/20 [==============================] - 0s 4ms/step - loss: 0.4801 - accuracy: 0.7833 - val_loss: 0.4542 - val_accuracy: 0.7799\n",
            "Epoch 313/500\n",
            "20/20 [==============================] - 0s 4ms/step - loss: 0.4742 - accuracy: 0.7849 - val_loss: 0.4527 - val_accuracy: 0.7761\n",
            "Epoch 314/500\n",
            "20/20 [==============================] - 0s 4ms/step - loss: 0.4802 - accuracy: 0.7689 - val_loss: 0.4522 - val_accuracy: 0.7761\n",
            "Epoch 315/500\n",
            "20/20 [==============================] - 0s 4ms/step - loss: 0.4781 - accuracy: 0.7929 - val_loss: 0.4526 - val_accuracy: 0.7873\n",
            "Epoch 316/500\n",
            "20/20 [==============================] - 0s 4ms/step - loss: 0.4933 - accuracy: 0.7528 - val_loss: 0.4527 - val_accuracy: 0.7761\n",
            "Epoch 317/500\n",
            "20/20 [==============================] - 0s 4ms/step - loss: 0.4856 - accuracy: 0.7929 - val_loss: 0.4533 - val_accuracy: 0.7799\n",
            "Epoch 318/500\n",
            "20/20 [==============================] - 0s 4ms/step - loss: 0.4685 - accuracy: 0.7978 - val_loss: 0.4506 - val_accuracy: 0.7873\n",
            "Epoch 319/500\n",
            "20/20 [==============================] - 0s 4ms/step - loss: 0.4855 - accuracy: 0.7753 - val_loss: 0.4516 - val_accuracy: 0.7910\n",
            "Epoch 320/500\n",
            "20/20 [==============================] - 0s 4ms/step - loss: 0.4813 - accuracy: 0.7881 - val_loss: 0.4508 - val_accuracy: 0.7873\n",
            "Epoch 321/500\n",
            "20/20 [==============================] - 0s 4ms/step - loss: 0.4907 - accuracy: 0.7769 - val_loss: 0.4502 - val_accuracy: 0.7873\n",
            "Epoch 322/500\n",
            "20/20 [==============================] - 0s 4ms/step - loss: 0.4803 - accuracy: 0.7913 - val_loss: 0.4517 - val_accuracy: 0.7873\n",
            "Epoch 323/500\n",
            "20/20 [==============================] - 0s 4ms/step - loss: 0.4788 - accuracy: 0.7945 - val_loss: 0.4520 - val_accuracy: 0.7873\n",
            "Epoch 324/500\n",
            "20/20 [==============================] - 0s 4ms/step - loss: 0.4893 - accuracy: 0.7769 - val_loss: 0.4518 - val_accuracy: 0.7873\n",
            "Epoch 325/500\n",
            "20/20 [==============================] - 0s 4ms/step - loss: 0.4890 - accuracy: 0.7801 - val_loss: 0.4534 - val_accuracy: 0.7873\n",
            "Epoch 326/500\n",
            "20/20 [==============================] - 0s 4ms/step - loss: 0.4764 - accuracy: 0.7945 - val_loss: 0.4504 - val_accuracy: 0.7873\n",
            "Epoch 327/500\n",
            "20/20 [==============================] - 0s 4ms/step - loss: 0.4846 - accuracy: 0.7785 - val_loss: 0.4498 - val_accuracy: 0.7873\n",
            "Epoch 328/500\n",
            "20/20 [==============================] - 0s 4ms/step - loss: 0.4769 - accuracy: 0.7785 - val_loss: 0.4506 - val_accuracy: 0.7873\n",
            "Epoch 329/500\n",
            "20/20 [==============================] - 0s 4ms/step - loss: 0.4694 - accuracy: 0.7865 - val_loss: 0.4523 - val_accuracy: 0.7910\n",
            "Epoch 330/500\n",
            "20/20 [==============================] - 0s 4ms/step - loss: 0.4834 - accuracy: 0.7945 - val_loss: 0.4499 - val_accuracy: 0.7836\n",
            "Epoch 331/500\n",
            "20/20 [==============================] - 0s 4ms/step - loss: 0.4771 - accuracy: 0.7833 - val_loss: 0.4500 - val_accuracy: 0.7873\n",
            "Epoch 332/500\n",
            "20/20 [==============================] - 0s 4ms/step - loss: 0.4755 - accuracy: 0.7817 - val_loss: 0.4493 - val_accuracy: 0.7836\n",
            "Epoch 333/500\n",
            "20/20 [==============================] - 0s 5ms/step - loss: 0.4776 - accuracy: 0.7897 - val_loss: 0.4475 - val_accuracy: 0.7836\n",
            "Epoch 334/500\n",
            "20/20 [==============================] - 0s 4ms/step - loss: 0.4683 - accuracy: 0.7929 - val_loss: 0.4465 - val_accuracy: 0.7873\n",
            "Epoch 335/500\n",
            "20/20 [==============================] - 0s 4ms/step - loss: 0.4841 - accuracy: 0.8042 - val_loss: 0.4471 - val_accuracy: 0.7873\n",
            "Epoch 336/500\n",
            "20/20 [==============================] - 0s 4ms/step - loss: 0.4879 - accuracy: 0.7769 - val_loss: 0.4470 - val_accuracy: 0.7873\n",
            "Epoch 337/500\n",
            "20/20 [==============================] - 0s 4ms/step - loss: 0.4742 - accuracy: 0.7994 - val_loss: 0.4477 - val_accuracy: 0.7873\n",
            "Epoch 338/500\n",
            "20/20 [==============================] - 0s 5ms/step - loss: 0.4748 - accuracy: 0.7929 - val_loss: 0.4472 - val_accuracy: 0.7873\n",
            "Epoch 339/500\n",
            "20/20 [==============================] - 0s 5ms/step - loss: 0.4756 - accuracy: 0.7897 - val_loss: 0.4473 - val_accuracy: 0.7873\n",
            "Epoch 340/500\n",
            "20/20 [==============================] - 0s 5ms/step - loss: 0.4785 - accuracy: 0.7865 - val_loss: 0.4464 - val_accuracy: 0.7910\n",
            "Epoch 341/500\n",
            "20/20 [==============================] - 0s 4ms/step - loss: 0.4758 - accuracy: 0.7817 - val_loss: 0.4460 - val_accuracy: 0.7873\n",
            "Epoch 342/500\n",
            "20/20 [==============================] - 0s 4ms/step - loss: 0.4663 - accuracy: 0.7897 - val_loss: 0.4446 - val_accuracy: 0.7910\n",
            "Epoch 343/500\n",
            "20/20 [==============================] - 0s 4ms/step - loss: 0.4612 - accuracy: 0.7881 - val_loss: 0.4453 - val_accuracy: 0.7873\n",
            "Epoch 344/500\n",
            "20/20 [==============================] - 0s 5ms/step - loss: 0.4808 - accuracy: 0.7881 - val_loss: 0.4467 - val_accuracy: 0.7836\n",
            "Epoch 345/500\n",
            "20/20 [==============================] - 0s 4ms/step - loss: 0.4738 - accuracy: 0.7881 - val_loss: 0.4460 - val_accuracy: 0.7836\n",
            "Epoch 346/500\n",
            "20/20 [==============================] - 0s 4ms/step - loss: 0.4690 - accuracy: 0.7881 - val_loss: 0.4462 - val_accuracy: 0.7799\n",
            "Epoch 347/500\n",
            "20/20 [==============================] - 0s 5ms/step - loss: 0.4628 - accuracy: 0.7929 - val_loss: 0.4443 - val_accuracy: 0.7836\n",
            "Epoch 348/500\n",
            "20/20 [==============================] - 0s 4ms/step - loss: 0.4734 - accuracy: 0.7929 - val_loss: 0.4451 - val_accuracy: 0.7836\n",
            "Epoch 349/500\n",
            "20/20 [==============================] - 0s 4ms/step - loss: 0.4597 - accuracy: 0.8074 - val_loss: 0.4439 - val_accuracy: 0.7836\n",
            "Epoch 350/500\n",
            "20/20 [==============================] - 0s 4ms/step - loss: 0.4698 - accuracy: 0.7978 - val_loss: 0.4447 - val_accuracy: 0.7836\n",
            "Epoch 351/500\n",
            "20/20 [==============================] - 0s 4ms/step - loss: 0.4737 - accuracy: 0.7978 - val_loss: 0.4442 - val_accuracy: 0.7799\n",
            "Epoch 352/500\n",
            "20/20 [==============================] - 0s 4ms/step - loss: 0.4725 - accuracy: 0.8106 - val_loss: 0.4434 - val_accuracy: 0.7836\n",
            "Epoch 353/500\n",
            "20/20 [==============================] - 0s 4ms/step - loss: 0.4873 - accuracy: 0.7945 - val_loss: 0.4443 - val_accuracy: 0.7836\n",
            "Epoch 354/500\n",
            "20/20 [==============================] - 0s 4ms/step - loss: 0.4606 - accuracy: 0.7945 - val_loss: 0.4423 - val_accuracy: 0.7836\n",
            "Epoch 355/500\n",
            "20/20 [==============================] - 0s 4ms/step - loss: 0.4713 - accuracy: 0.7865 - val_loss: 0.4437 - val_accuracy: 0.7836\n",
            "Epoch 356/500\n",
            "20/20 [==============================] - 0s 4ms/step - loss: 0.4851 - accuracy: 0.7737 - val_loss: 0.4441 - val_accuracy: 0.7836\n",
            "Epoch 357/500\n",
            "20/20 [==============================] - 0s 4ms/step - loss: 0.4689 - accuracy: 0.7961 - val_loss: 0.4437 - val_accuracy: 0.7836\n",
            "Epoch 358/500\n",
            "20/20 [==============================] - 0s 5ms/step - loss: 0.4814 - accuracy: 0.7897 - val_loss: 0.4440 - val_accuracy: 0.7799\n",
            "Epoch 359/500\n",
            "20/20 [==============================] - 0s 4ms/step - loss: 0.4707 - accuracy: 0.7849 - val_loss: 0.4439 - val_accuracy: 0.7836\n",
            "Epoch 360/500\n",
            "20/20 [==============================] - 0s 4ms/step - loss: 0.4682 - accuracy: 0.8010 - val_loss: 0.4425 - val_accuracy: 0.7836\n",
            "Epoch 361/500\n",
            "20/20 [==============================] - 0s 4ms/step - loss: 0.4654 - accuracy: 0.8058 - val_loss: 0.4433 - val_accuracy: 0.7799\n",
            "Epoch 362/500\n",
            "20/20 [==============================] - 0s 4ms/step - loss: 0.4730 - accuracy: 0.7881 - val_loss: 0.4417 - val_accuracy: 0.7799\n",
            "Epoch 363/500\n",
            "20/20 [==============================] - 0s 4ms/step - loss: 0.4689 - accuracy: 0.7961 - val_loss: 0.4415 - val_accuracy: 0.7761\n",
            "Epoch 364/500\n",
            "20/20 [==============================] - 0s 4ms/step - loss: 0.4766 - accuracy: 0.7769 - val_loss: 0.4430 - val_accuracy: 0.7799\n",
            "Epoch 365/500\n",
            "20/20 [==============================] - 0s 4ms/step - loss: 0.4644 - accuracy: 0.7961 - val_loss: 0.4436 - val_accuracy: 0.7799\n",
            "Epoch 366/500\n",
            "20/20 [==============================] - 0s 5ms/step - loss: 0.4713 - accuracy: 0.7929 - val_loss: 0.4444 - val_accuracy: 0.7799\n",
            "Epoch 367/500\n",
            "20/20 [==============================] - 0s 4ms/step - loss: 0.4622 - accuracy: 0.7978 - val_loss: 0.4423 - val_accuracy: 0.7761\n",
            "Epoch 368/500\n",
            "20/20 [==============================] - 0s 4ms/step - loss: 0.4699 - accuracy: 0.7978 - val_loss: 0.4410 - val_accuracy: 0.7799\n",
            "Epoch 369/500\n",
            "20/20 [==============================] - 0s 4ms/step - loss: 0.4630 - accuracy: 0.7865 - val_loss: 0.4410 - val_accuracy: 0.7761\n",
            "Epoch 370/500\n",
            "20/20 [==============================] - 0s 4ms/step - loss: 0.4733 - accuracy: 0.7737 - val_loss: 0.4421 - val_accuracy: 0.7799\n",
            "Epoch 371/500\n",
            "20/20 [==============================] - 0s 4ms/step - loss: 0.4751 - accuracy: 0.7913 - val_loss: 0.4430 - val_accuracy: 0.7761\n",
            "Epoch 372/500\n",
            "20/20 [==============================] - 0s 4ms/step - loss: 0.4635 - accuracy: 0.7897 - val_loss: 0.4407 - val_accuracy: 0.7799\n",
            "Epoch 373/500\n",
            "20/20 [==============================] - 0s 4ms/step - loss: 0.4596 - accuracy: 0.8010 - val_loss: 0.4389 - val_accuracy: 0.7799\n",
            "Epoch 374/500\n",
            "20/20 [==============================] - 0s 4ms/step - loss: 0.4731 - accuracy: 0.7913 - val_loss: 0.4387 - val_accuracy: 0.7799\n",
            "Epoch 375/500\n",
            "20/20 [==============================] - 0s 4ms/step - loss: 0.4642 - accuracy: 0.7961 - val_loss: 0.4375 - val_accuracy: 0.7836\n",
            "Epoch 376/500\n",
            "20/20 [==============================] - 0s 4ms/step - loss: 0.4609 - accuracy: 0.7897 - val_loss: 0.4375 - val_accuracy: 0.7799\n",
            "Epoch 377/500\n",
            "20/20 [==============================] - 0s 4ms/step - loss: 0.4655 - accuracy: 0.7833 - val_loss: 0.4393 - val_accuracy: 0.7761\n",
            "Epoch 378/500\n",
            "20/20 [==============================] - 0s 4ms/step - loss: 0.4730 - accuracy: 0.7945 - val_loss: 0.4396 - val_accuracy: 0.7761\n",
            "Epoch 379/500\n",
            "20/20 [==============================] - 0s 4ms/step - loss: 0.4599 - accuracy: 0.8058 - val_loss: 0.4392 - val_accuracy: 0.7761\n",
            "Epoch 380/500\n",
            "20/20 [==============================] - 0s 4ms/step - loss: 0.4736 - accuracy: 0.7961 - val_loss: 0.4389 - val_accuracy: 0.7761\n",
            "Epoch 381/500\n",
            "20/20 [==============================] - 0s 4ms/step - loss: 0.4713 - accuracy: 0.7961 - val_loss: 0.4405 - val_accuracy: 0.7761\n",
            "Epoch 382/500\n",
            "20/20 [==============================] - 0s 4ms/step - loss: 0.4637 - accuracy: 0.8026 - val_loss: 0.4394 - val_accuracy: 0.7761\n",
            "Epoch 383/500\n",
            "20/20 [==============================] - 0s 4ms/step - loss: 0.4663 - accuracy: 0.7961 - val_loss: 0.4410 - val_accuracy: 0.7761\n",
            "Epoch 384/500\n",
            "20/20 [==============================] - 0s 4ms/step - loss: 0.4608 - accuracy: 0.7913 - val_loss: 0.4399 - val_accuracy: 0.7761\n",
            "Epoch 385/500\n",
            "20/20 [==============================] - 0s 5ms/step - loss: 0.4714 - accuracy: 0.8026 - val_loss: 0.4394 - val_accuracy: 0.7761\n",
            "Epoch 386/500\n",
            "20/20 [==============================] - 0s 4ms/step - loss: 0.4615 - accuracy: 0.7994 - val_loss: 0.4385 - val_accuracy: 0.7799\n",
            "Epoch 387/500\n",
            "20/20 [==============================] - 0s 4ms/step - loss: 0.4764 - accuracy: 0.7897 - val_loss: 0.4382 - val_accuracy: 0.7761\n",
            "Epoch 388/500\n",
            "20/20 [==============================] - 0s 4ms/step - loss: 0.4694 - accuracy: 0.7994 - val_loss: 0.4400 - val_accuracy: 0.7761\n",
            "Epoch 389/500\n",
            "20/20 [==============================] - 0s 5ms/step - loss: 0.4739 - accuracy: 0.7961 - val_loss: 0.4411 - val_accuracy: 0.7761\n",
            "Epoch 390/500\n",
            "20/20 [==============================] - 0s 4ms/step - loss: 0.4768 - accuracy: 0.7865 - val_loss: 0.4415 - val_accuracy: 0.7761\n",
            "Epoch 391/500\n",
            "20/20 [==============================] - 0s 4ms/step - loss: 0.4735 - accuracy: 0.7785 - val_loss: 0.4410 - val_accuracy: 0.7799\n",
            "Epoch 392/500\n",
            "20/20 [==============================] - 0s 4ms/step - loss: 0.4570 - accuracy: 0.7994 - val_loss: 0.4382 - val_accuracy: 0.7761\n",
            "Epoch 393/500\n",
            "20/20 [==============================] - 0s 4ms/step - loss: 0.4615 - accuracy: 0.7945 - val_loss: 0.4413 - val_accuracy: 0.7873\n",
            "Epoch 394/500\n",
            "20/20 [==============================] - 0s 4ms/step - loss: 0.4723 - accuracy: 0.7929 - val_loss: 0.4394 - val_accuracy: 0.7761\n",
            "Epoch 395/500\n",
            "20/20 [==============================] - 0s 4ms/step - loss: 0.4627 - accuracy: 0.7961 - val_loss: 0.4390 - val_accuracy: 0.7724\n",
            "Epoch 396/500\n",
            "20/20 [==============================] - 0s 4ms/step - loss: 0.4699 - accuracy: 0.7881 - val_loss: 0.4396 - val_accuracy: 0.7836\n",
            "Epoch 397/500\n",
            "20/20 [==============================] - 0s 4ms/step - loss: 0.4643 - accuracy: 0.7994 - val_loss: 0.4388 - val_accuracy: 0.7799\n",
            "Epoch 398/500\n",
            "20/20 [==============================] - 0s 4ms/step - loss: 0.4620 - accuracy: 0.7913 - val_loss: 0.4385 - val_accuracy: 0.7761\n",
            "Epoch 399/500\n",
            "20/20 [==============================] - 0s 4ms/step - loss: 0.4695 - accuracy: 0.7913 - val_loss: 0.4380 - val_accuracy: 0.7761\n",
            "Epoch 400/500\n",
            "20/20 [==============================] - 0s 5ms/step - loss: 0.4767 - accuracy: 0.7929 - val_loss: 0.4390 - val_accuracy: 0.7761\n",
            "Epoch 401/500\n",
            "20/20 [==============================] - 0s 4ms/step - loss: 0.4597 - accuracy: 0.7881 - val_loss: 0.4373 - val_accuracy: 0.7836\n",
            "Epoch 402/500\n",
            "20/20 [==============================] - 0s 4ms/step - loss: 0.4671 - accuracy: 0.7961 - val_loss: 0.4376 - val_accuracy: 0.7799\n",
            "Epoch 403/500\n",
            "20/20 [==============================] - 0s 4ms/step - loss: 0.4592 - accuracy: 0.7929 - val_loss: 0.4381 - val_accuracy: 0.7836\n",
            "Epoch 404/500\n",
            "20/20 [==============================] - 0s 4ms/step - loss: 0.4614 - accuracy: 0.7978 - val_loss: 0.4385 - val_accuracy: 0.7761\n",
            "Epoch 405/500\n",
            "20/20 [==============================] - 0s 4ms/step - loss: 0.4629 - accuracy: 0.7833 - val_loss: 0.4384 - val_accuracy: 0.7836\n",
            "Epoch 406/500\n",
            "20/20 [==============================] - 0s 4ms/step - loss: 0.4567 - accuracy: 0.8026 - val_loss: 0.4357 - val_accuracy: 0.7761\n",
            "Epoch 407/500\n",
            "20/20 [==============================] - 0s 4ms/step - loss: 0.4578 - accuracy: 0.7945 - val_loss: 0.4362 - val_accuracy: 0.7761\n",
            "Epoch 408/500\n",
            "20/20 [==============================] - 0s 4ms/step - loss: 0.4649 - accuracy: 0.7849 - val_loss: 0.4393 - val_accuracy: 0.7836\n",
            "Epoch 409/500\n",
            "20/20 [==============================] - 0s 4ms/step - loss: 0.4637 - accuracy: 0.7897 - val_loss: 0.4367 - val_accuracy: 0.7761\n",
            "Epoch 410/500\n",
            "20/20 [==============================] - 0s 5ms/step - loss: 0.4800 - accuracy: 0.7881 - val_loss: 0.4388 - val_accuracy: 0.7761\n",
            "Epoch 411/500\n",
            "20/20 [==============================] - 0s 5ms/step - loss: 0.4587 - accuracy: 0.7978 - val_loss: 0.4383 - val_accuracy: 0.7799\n",
            "Epoch 412/500\n",
            "20/20 [==============================] - 0s 4ms/step - loss: 0.4655 - accuracy: 0.7994 - val_loss: 0.4385 - val_accuracy: 0.7836\n",
            "Epoch 413/500\n",
            "20/20 [==============================] - 0s 4ms/step - loss: 0.4646 - accuracy: 0.7817 - val_loss: 0.4361 - val_accuracy: 0.7761\n",
            "Epoch 414/500\n",
            "20/20 [==============================] - 0s 5ms/step - loss: 0.4607 - accuracy: 0.7961 - val_loss: 0.4369 - val_accuracy: 0.7761\n",
            "Epoch 415/500\n",
            "20/20 [==============================] - 0s 4ms/step - loss: 0.4739 - accuracy: 0.8026 - val_loss: 0.4397 - val_accuracy: 0.7799\n",
            "Epoch 416/500\n",
            "20/20 [==============================] - 0s 4ms/step - loss: 0.4596 - accuracy: 0.7945 - val_loss: 0.4375 - val_accuracy: 0.7761\n",
            "Epoch 417/500\n",
            "20/20 [==============================] - 0s 4ms/step - loss: 0.4635 - accuracy: 0.8026 - val_loss: 0.4371 - val_accuracy: 0.7761\n",
            "Epoch 418/500\n",
            "20/20 [==============================] - 0s 4ms/step - loss: 0.4623 - accuracy: 0.7913 - val_loss: 0.4379 - val_accuracy: 0.7836\n",
            "Epoch 419/500\n",
            "20/20 [==============================] - 0s 4ms/step - loss: 0.4676 - accuracy: 0.7913 - val_loss: 0.4368 - val_accuracy: 0.7799\n",
            "Epoch 420/500\n",
            "20/20 [==============================] - 0s 4ms/step - loss: 0.4588 - accuracy: 0.8010 - val_loss: 0.4360 - val_accuracy: 0.7761\n",
            "Epoch 421/500\n",
            "20/20 [==============================] - 0s 4ms/step - loss: 0.4715 - accuracy: 0.8026 - val_loss: 0.4365 - val_accuracy: 0.7761\n",
            "Epoch 422/500\n",
            "20/20 [==============================] - 0s 4ms/step - loss: 0.4594 - accuracy: 0.7945 - val_loss: 0.4356 - val_accuracy: 0.7761\n",
            "Epoch 423/500\n",
            "20/20 [==============================] - 0s 4ms/step - loss: 0.4638 - accuracy: 0.7881 - val_loss: 0.4377 - val_accuracy: 0.7799\n",
            "Epoch 424/500\n",
            "20/20 [==============================] - 0s 4ms/step - loss: 0.4689 - accuracy: 0.7978 - val_loss: 0.4378 - val_accuracy: 0.7761\n",
            "Epoch 425/500\n",
            "20/20 [==============================] - 0s 4ms/step - loss: 0.4661 - accuracy: 0.7994 - val_loss: 0.4374 - val_accuracy: 0.7724\n",
            "Epoch 426/500\n",
            "20/20 [==============================] - 0s 5ms/step - loss: 0.4676 - accuracy: 0.8042 - val_loss: 0.4368 - val_accuracy: 0.7799\n",
            "Epoch 427/500\n",
            "20/20 [==============================] - 0s 4ms/step - loss: 0.4648 - accuracy: 0.7913 - val_loss: 0.4368 - val_accuracy: 0.7724\n",
            "Epoch 428/500\n",
            "20/20 [==============================] - 0s 4ms/step - loss: 0.4640 - accuracy: 0.7945 - val_loss: 0.4355 - val_accuracy: 0.7799\n",
            "Epoch 429/500\n",
            "20/20 [==============================] - 0s 4ms/step - loss: 0.4784 - accuracy: 0.7865 - val_loss: 0.4368 - val_accuracy: 0.7761\n",
            "Epoch 430/500\n",
            "20/20 [==============================] - 0s 4ms/step - loss: 0.4562 - accuracy: 0.8026 - val_loss: 0.4362 - val_accuracy: 0.7799\n",
            "Epoch 431/500\n",
            "20/20 [==============================] - 0s 4ms/step - loss: 0.4612 - accuracy: 0.7881 - val_loss: 0.4363 - val_accuracy: 0.7799\n",
            "Epoch 432/500\n",
            "20/20 [==============================] - 0s 4ms/step - loss: 0.4579 - accuracy: 0.8042 - val_loss: 0.4358 - val_accuracy: 0.7799\n",
            "Epoch 433/500\n",
            "20/20 [==============================] - 0s 4ms/step - loss: 0.4594 - accuracy: 0.7897 - val_loss: 0.4370 - val_accuracy: 0.7799\n",
            "Epoch 434/500\n",
            "20/20 [==============================] - 0s 5ms/step - loss: 0.4610 - accuracy: 0.7913 - val_loss: 0.4360 - val_accuracy: 0.7761\n",
            "Epoch 435/500\n",
            "20/20 [==============================] - 0s 4ms/step - loss: 0.4547 - accuracy: 0.8010 - val_loss: 0.4365 - val_accuracy: 0.7761\n",
            "Epoch 436/500\n",
            "20/20 [==============================] - 0s 4ms/step - loss: 0.4673 - accuracy: 0.7961 - val_loss: 0.4374 - val_accuracy: 0.7761\n",
            "Epoch 437/500\n",
            "20/20 [==============================] - 0s 4ms/step - loss: 0.4539 - accuracy: 0.7994 - val_loss: 0.4384 - val_accuracy: 0.7761\n",
            "Epoch 438/500\n",
            "20/20 [==============================] - 0s 4ms/step - loss: 0.4654 - accuracy: 0.7849 - val_loss: 0.4361 - val_accuracy: 0.7799\n",
            "Epoch 439/500\n",
            "20/20 [==============================] - 0s 4ms/step - loss: 0.4600 - accuracy: 0.7961 - val_loss: 0.4363 - val_accuracy: 0.7799\n",
            "Epoch 440/500\n",
            "20/20 [==============================] - 0s 4ms/step - loss: 0.4585 - accuracy: 0.8010 - val_loss: 0.4362 - val_accuracy: 0.7799\n",
            "Epoch 441/500\n",
            "20/20 [==============================] - 0s 4ms/step - loss: 0.4689 - accuracy: 0.7945 - val_loss: 0.4369 - val_accuracy: 0.7799\n",
            "Epoch 442/500\n",
            "20/20 [==============================] - 0s 4ms/step - loss: 0.4665 - accuracy: 0.7865 - val_loss: 0.4366 - val_accuracy: 0.7799\n",
            "Epoch 443/500\n",
            "20/20 [==============================] - 0s 4ms/step - loss: 0.4632 - accuracy: 0.7994 - val_loss: 0.4371 - val_accuracy: 0.7724\n",
            "Epoch 444/500\n",
            "20/20 [==============================] - 0s 5ms/step - loss: 0.4653 - accuracy: 0.7994 - val_loss: 0.4362 - val_accuracy: 0.7799\n",
            "Epoch 445/500\n",
            "20/20 [==============================] - 0s 5ms/step - loss: 0.4557 - accuracy: 0.7961 - val_loss: 0.4362 - val_accuracy: 0.7724\n",
            "Epoch 446/500\n",
            "20/20 [==============================] - 0s 4ms/step - loss: 0.4711 - accuracy: 0.7929 - val_loss: 0.4377 - val_accuracy: 0.7687\n",
            "Epoch 447/500\n",
            "20/20 [==============================] - 0s 5ms/step - loss: 0.4740 - accuracy: 0.7929 - val_loss: 0.4380 - val_accuracy: 0.7724\n",
            "Epoch 448/500\n",
            "20/20 [==============================] - 0s 4ms/step - loss: 0.4656 - accuracy: 0.7849 - val_loss: 0.4379 - val_accuracy: 0.7761\n",
            "Epoch 449/500\n",
            "20/20 [==============================] - 0s 4ms/step - loss: 0.4578 - accuracy: 0.7961 - val_loss: 0.4362 - val_accuracy: 0.7836\n",
            "Epoch 450/500\n",
            "20/20 [==============================] - 0s 5ms/step - loss: 0.4674 - accuracy: 0.7961 - val_loss: 0.4365 - val_accuracy: 0.7761\n",
            "Epoch 451/500\n",
            "20/20 [==============================] - 0s 4ms/step - loss: 0.4607 - accuracy: 0.7881 - val_loss: 0.4373 - val_accuracy: 0.7799\n",
            "Epoch 452/500\n",
            "20/20 [==============================] - 0s 4ms/step - loss: 0.4617 - accuracy: 0.7881 - val_loss: 0.4365 - val_accuracy: 0.7724\n",
            "Epoch 453/500\n",
            "20/20 [==============================] - 0s 5ms/step - loss: 0.4555 - accuracy: 0.7801 - val_loss: 0.4358 - val_accuracy: 0.7799\n",
            "Epoch 454/500\n",
            "20/20 [==============================] - 0s 5ms/step - loss: 0.4541 - accuracy: 0.8058 - val_loss: 0.4356 - val_accuracy: 0.7724\n",
            "Epoch 455/500\n",
            "20/20 [==============================] - 0s 5ms/step - loss: 0.4704 - accuracy: 0.7929 - val_loss: 0.4379 - val_accuracy: 0.7724\n",
            "Epoch 456/500\n",
            "20/20 [==============================] - 0s 4ms/step - loss: 0.4608 - accuracy: 0.7994 - val_loss: 0.4379 - val_accuracy: 0.7799\n",
            "Epoch 457/500\n",
            "20/20 [==============================] - 0s 4ms/step - loss: 0.4557 - accuracy: 0.7978 - val_loss: 0.4362 - val_accuracy: 0.7799\n",
            "Epoch 458/500\n",
            "20/20 [==============================] - 0s 5ms/step - loss: 0.4705 - accuracy: 0.7913 - val_loss: 0.4372 - val_accuracy: 0.7724\n",
            "Epoch 459/500\n",
            "20/20 [==============================] - 0s 4ms/step - loss: 0.4537 - accuracy: 0.8058 - val_loss: 0.4341 - val_accuracy: 0.7799\n",
            "Epoch 460/500\n",
            "20/20 [==============================] - 0s 4ms/step - loss: 0.4732 - accuracy: 0.7913 - val_loss: 0.4351 - val_accuracy: 0.7761\n",
            "Epoch 461/500\n",
            "20/20 [==============================] - 0s 4ms/step - loss: 0.4620 - accuracy: 0.7961 - val_loss: 0.4365 - val_accuracy: 0.7836\n",
            "Epoch 462/500\n",
            "20/20 [==============================] - 0s 4ms/step - loss: 0.4743 - accuracy: 0.8010 - val_loss: 0.4378 - val_accuracy: 0.7761\n",
            "Epoch 463/500\n",
            "20/20 [==============================] - 0s 4ms/step - loss: 0.4655 - accuracy: 0.7945 - val_loss: 0.4381 - val_accuracy: 0.7761\n",
            "Epoch 464/500\n",
            "20/20 [==============================] - 0s 4ms/step - loss: 0.4598 - accuracy: 0.8010 - val_loss: 0.4380 - val_accuracy: 0.7761\n",
            "Epoch 465/500\n",
            "20/20 [==============================] - 0s 5ms/step - loss: 0.4613 - accuracy: 0.7929 - val_loss: 0.4361 - val_accuracy: 0.7724\n",
            "Epoch 466/500\n",
            "20/20 [==============================] - 0s 5ms/step - loss: 0.4635 - accuracy: 0.8042 - val_loss: 0.4362 - val_accuracy: 0.7799\n",
            "Epoch 467/500\n",
            "20/20 [==============================] - 0s 4ms/step - loss: 0.4684 - accuracy: 0.7961 - val_loss: 0.4358 - val_accuracy: 0.7799\n",
            "Epoch 468/500\n",
            "20/20 [==============================] - 0s 4ms/step - loss: 0.4556 - accuracy: 0.8026 - val_loss: 0.4357 - val_accuracy: 0.7761\n",
            "Epoch 469/500\n",
            "20/20 [==============================] - 0s 4ms/step - loss: 0.4613 - accuracy: 0.7994 - val_loss: 0.4353 - val_accuracy: 0.7761\n",
            "Epoch 470/500\n",
            "20/20 [==============================] - 0s 4ms/step - loss: 0.4611 - accuracy: 0.7961 - val_loss: 0.4374 - val_accuracy: 0.7761\n",
            "Epoch 471/500\n",
            "20/20 [==============================] - 0s 5ms/step - loss: 0.4596 - accuracy: 0.7945 - val_loss: 0.4350 - val_accuracy: 0.7761\n",
            "Epoch 472/500\n",
            "20/20 [==============================] - 0s 5ms/step - loss: 0.4485 - accuracy: 0.8010 - val_loss: 0.4348 - val_accuracy: 0.7761\n",
            "Epoch 473/500\n",
            "20/20 [==============================] - 0s 4ms/step - loss: 0.4565 - accuracy: 0.7978 - val_loss: 0.4346 - val_accuracy: 0.7761\n",
            "Epoch 474/500\n",
            "20/20 [==============================] - 0s 4ms/step - loss: 0.4588 - accuracy: 0.8010 - val_loss: 0.4345 - val_accuracy: 0.7761\n",
            "Epoch 475/500\n",
            "20/20 [==============================] - 0s 4ms/step - loss: 0.4630 - accuracy: 0.7994 - val_loss: 0.4351 - val_accuracy: 0.7761\n",
            "Epoch 476/500\n",
            "20/20 [==============================] - 0s 4ms/step - loss: 0.4468 - accuracy: 0.8026 - val_loss: 0.4337 - val_accuracy: 0.7836\n",
            "Epoch 477/500\n",
            "20/20 [==============================] - 0s 5ms/step - loss: 0.4549 - accuracy: 0.7978 - val_loss: 0.4352 - val_accuracy: 0.7761\n",
            "Epoch 478/500\n",
            "20/20 [==============================] - 0s 4ms/step - loss: 0.4582 - accuracy: 0.7961 - val_loss: 0.4332 - val_accuracy: 0.7687\n",
            "Epoch 479/500\n",
            "20/20 [==============================] - 0s 4ms/step - loss: 0.4645 - accuracy: 0.8026 - val_loss: 0.4341 - val_accuracy: 0.7724\n",
            "Epoch 480/500\n",
            "20/20 [==============================] - 0s 4ms/step - loss: 0.4614 - accuracy: 0.8010 - val_loss: 0.4350 - val_accuracy: 0.7761\n",
            "Epoch 481/500\n",
            "20/20 [==============================] - 0s 5ms/step - loss: 0.4544 - accuracy: 0.7994 - val_loss: 0.4354 - val_accuracy: 0.7687\n",
            "Epoch 482/500\n",
            "20/20 [==============================] - 0s 4ms/step - loss: 0.4559 - accuracy: 0.7994 - val_loss: 0.4357 - val_accuracy: 0.7761\n",
            "Epoch 483/500\n",
            "20/20 [==============================] - 0s 4ms/step - loss: 0.4611 - accuracy: 0.7945 - val_loss: 0.4354 - val_accuracy: 0.7761\n",
            "Epoch 484/500\n",
            "20/20 [==============================] - 0s 4ms/step - loss: 0.4572 - accuracy: 0.7897 - val_loss: 0.4366 - val_accuracy: 0.7724\n",
            "Epoch 485/500\n",
            "20/20 [==============================] - 0s 4ms/step - loss: 0.4672 - accuracy: 0.7994 - val_loss: 0.4363 - val_accuracy: 0.7761\n",
            "Epoch 486/500\n",
            "20/20 [==============================] - 0s 4ms/step - loss: 0.4622 - accuracy: 0.8026 - val_loss: 0.4369 - val_accuracy: 0.7724\n",
            "Epoch 487/500\n",
            "20/20 [==============================] - 0s 4ms/step - loss: 0.4583 - accuracy: 0.8026 - val_loss: 0.4356 - val_accuracy: 0.7799\n",
            "Epoch 488/500\n",
            "20/20 [==============================] - 0s 5ms/step - loss: 0.4675 - accuracy: 0.7929 - val_loss: 0.4371 - val_accuracy: 0.7761\n",
            "Epoch 489/500\n",
            "20/20 [==============================] - 0s 4ms/step - loss: 0.4776 - accuracy: 0.7961 - val_loss: 0.4387 - val_accuracy: 0.7761\n",
            "Epoch 490/500\n",
            "20/20 [==============================] - 0s 4ms/step - loss: 0.4595 - accuracy: 0.7961 - val_loss: 0.4380 - val_accuracy: 0.7761\n",
            "Epoch 491/500\n",
            "20/20 [==============================] - 0s 4ms/step - loss: 0.4534 - accuracy: 0.7994 - val_loss: 0.4365 - val_accuracy: 0.7761\n",
            "Epoch 492/500\n",
            "20/20 [==============================] - 0s 4ms/step - loss: 0.4685 - accuracy: 0.7945 - val_loss: 0.4377 - val_accuracy: 0.7761\n",
            "Epoch 493/500\n",
            "20/20 [==============================] - 0s 4ms/step - loss: 0.4582 - accuracy: 0.7978 - val_loss: 0.4374 - val_accuracy: 0.7761\n",
            "Epoch 494/500\n",
            "20/20 [==============================] - 0s 4ms/step - loss: 0.4321 - accuracy: 0.7994 - val_loss: 0.4358 - val_accuracy: 0.7761\n",
            "Epoch 495/500\n",
            "20/20 [==============================] - 0s 4ms/step - loss: 0.4577 - accuracy: 0.8090 - val_loss: 0.4354 - val_accuracy: 0.7761\n",
            "Epoch 496/500\n",
            "20/20 [==============================] - 0s 4ms/step - loss: 0.4532 - accuracy: 0.7897 - val_loss: 0.4353 - val_accuracy: 0.7761\n",
            "Epoch 497/500\n",
            "20/20 [==============================] - 0s 4ms/step - loss: 0.4596 - accuracy: 0.7978 - val_loss: 0.4355 - val_accuracy: 0.7799\n",
            "Epoch 498/500\n",
            "20/20 [==============================] - 0s 4ms/step - loss: 0.4649 - accuracy: 0.7978 - val_loss: 0.4366 - val_accuracy: 0.7724\n",
            "Epoch 499/500\n",
            "20/20 [==============================] - 0s 5ms/step - loss: 0.4649 - accuracy: 0.7865 - val_loss: 0.4369 - val_accuracy: 0.7761\n",
            "Epoch 500/500\n",
            "20/20 [==============================] - 0s 5ms/step - loss: 0.4513 - accuracy: 0.7961 - val_loss: 0.4361 - val_accuracy: 0.7761\n"
          ]
        }
      ]
    },
    {
      "cell_type": "code",
      "source": [
        "import matplotlib.pyplot as plt"
      ],
      "metadata": {
        "id": "HM0TQnzuT94E"
      },
      "execution_count": 82,
      "outputs": []
    },
    {
      "cell_type": "code",
      "source": [
        "chart_epochs = range(1, epochs + 1)\n",
        "\n",
        "plt.plot(chart_epochs, run_history.history['accuracy'], label=\"Training Accuracy\")\n",
        "plt.plot(chart_epochs, run_history.history['val_accuracy'], label=\"Validation Accuracy\")\n",
        "plt.legend()\n",
        "\n",
        "plt.figure()\n",
        "plt.plot(chart_epochs, run_history.history['loss'], label=\"Training Loss\")\n",
        "plt.plot(chart_epochs, run_history.history['val_loss'], label=\"Validation Loss\")\n",
        "plt.legend()\n",
        "\n",
        "plt.show()"
      ],
      "metadata": {
        "colab": {
          "base_uri": "https://localhost:8080/",
          "height": 533
        },
        "id": "O8aAtuEgUBZR",
        "outputId": "749725a3-9f6c-44d6-ce90-4b66303621de"
      },
      "execution_count": 83,
      "outputs": [
        {
          "output_type": "display_data",
          "data": {
            "text/plain": [
              "<Figure size 432x288 with 1 Axes>"
            ],
            "image/png": "[encoded data removed]"
          },
          "metadata": {
            "needs_background": "light"
          }
        },
        {
          "output_type": "display_data",
          "data": {
            "text/plain": [
              "<Figure size 432x288 with 1 Axes>"
            ],
            "image/png": "[encoded data removed]"
          },
          "metadata": {
            "needs_background": "light"
          }
        }
      ]
    },
    {
      "cell_type": "code",
      "source": [
        "test_df = pd.read_csv(\"test.csv\")"
      ],
      "metadata": {
        "id": "9GlYh3NInpIj"
      },
      "execution_count": 84,
      "outputs": []
    },
    {
      "cell_type": "code",
      "source": [
        "test_df.info()"
      ],
      "metadata": {
        "id": "PrXjNd0in1qt",
        "outputId": "c51dcd8c-3680-4c0a-f7f6-546256837e7f",
        "colab": {
          "base_uri": "https://localhost:8080/"
        }
      },
      "execution_count": 85,
      "outputs": [
        {
          "output_type": "stream",
          "name": "stdout",
          "text": [
            "<class 'pandas.core.frame.DataFrame'>\n",
            "RangeIndex: 418 entries, 0 to 417\n",
            "Data columns (total 11 columns):\n",
            " #   Column       Non-Null Count  Dtype  \n",
            "---  ------       --------------  -----  \n",
            " 0   PassengerId  418 non-null    int64  \n",
            " 1   Pclass       418 non-null    int64  \n",
            " 2   Name         418 non-null    object \n",
            " 3   Sex          418 non-null    object \n",
            " 4   Age          332 non-null    float64\n",
            " 5   SibSp        418 non-null    int64  \n",
            " 6   Parch        418 non-null    int64  \n",
            " 7   Ticket       418 non-null    object \n",
            " 8   Fare         417 non-null    float64\n",
            " 9   Cabin        91 non-null     object \n",
            " 10  Embarked     418 non-null    object \n",
            "dtypes: float64(2), int64(4), object(5)\n",
            "memory usage: 36.0+ KB\n"
          ]
        }
      ]
    },
    {
      "cell_type": "code",
      "source": [
        "test_df[\"Age\"] = test_df[\"Age\"].fillna(mean_age)"
      ],
      "metadata": {
        "id": "hipCZi15n3dI"
      },
      "execution_count": 86,
      "outputs": []
    },
    {
      "cell_type": "code",
      "source": [
        "test_df[\"Fare\"] = test_df[\"Fare\"].fillna(round(df_data[\"Fare\"].mean(), 2))"
      ],
      "metadata": {
        "id": "Aczgyl7UqISh"
      },
      "execution_count": 87,
      "outputs": []
    },
    {
      "cell_type": "code",
      "source": [
        "test_df.info()"
      ],
      "metadata": {
        "id": "em-PnZbYpl4I",
        "outputId": "409e7f61-8fcc-40c6-f819-5be75b3de793",
        "colab": {
          "base_uri": "https://localhost:8080/"
        }
      },
      "execution_count": 88,
      "outputs": [
        {
          "output_type": "stream",
          "name": "stdout",
          "text": [
            "<class 'pandas.core.frame.DataFrame'>\n",
            "RangeIndex: 418 entries, 0 to 417\n",
            "Data columns (total 11 columns):\n",
            " #   Column       Non-Null Count  Dtype  \n",
            "---  ------       --------------  -----  \n",
            " 0   PassengerId  418 non-null    int64  \n",
            " 1   Pclass       418 non-null    int64  \n",
            " 2   Name         418 non-null    object \n",
            " 3   Sex          418 non-null    object \n",
            " 4   Age          418 non-null    float64\n",
            " 5   SibSp        418 non-null    int64  \n",
            " 6   Parch        418 non-null    int64  \n",
            " 7   Ticket       418 non-null    object \n",
            " 8   Fare         418 non-null    float64\n",
            " 9   Cabin        91 non-null     object \n",
            " 10  Embarked     418 non-null    object \n",
            "dtypes: float64(2), int64(4), object(5)\n",
            "memory usage: 36.0+ KB\n"
          ]
        }
      ]
    },
    {
      "cell_type": "code",
      "source": [
        "test_df = test_df.replace(encoding_ref)"
      ],
      "metadata": {
        "id": "7ojaesC4-Hj0"
      },
      "execution_count": 89,
      "outputs": []
    },
    {
      "cell_type": "code",
      "source": [
        "test_df.head()"
      ],
      "metadata": {
        "id": "y9tHD_7Y-faS",
        "outputId": "a1d52c1c-bdcb-45c7-9466-080f0d820082",
        "colab": {
          "base_uri": "https://localhost:8080/",
          "height": 221
        }
      },
      "execution_count": 90,
      "outputs": [
        {
          "output_type": "execute_result",
          "data": {
            "text/plain": [
              "   PassengerId  Pclass                                          Name  Sex  \\\n",
              "0          892       3                              Kelly, Mr. James    0   \n",
              "1          893       3              Wilkes, Mrs. James (Ellen Needs)    1   \n",
              "2          894       2                     Myles, Mr. Thomas Francis    0   \n",
              "3          895       3                              Wirz, Mr. Albert    0   \n",
              "4          896       3  Hirvonen, Mrs. Alexander (Helga E Lindqvist)    1   \n",
              "\n",
              "    Age  SibSp  Parch   Ticket     Fare Cabin Embarked  \n",
              "0  34.5      0      0   330911   7.8292   NaN        Q  \n",
              "1  47.0      1      0   363272   7.0000   NaN        S  \n",
              "2  62.0      0      0   240276   9.6875   NaN        Q  \n",
              "3  27.0      0      0   315154   8.6625   NaN        S  \n",
              "4  22.0      1      1  3101298  12.2875   NaN        S  "
            ],
            "text/html": [
              "\n",
              "  <div id=\"df-8c16a1ba-67ea-4b9b-8233-c08c5cba5a29\">\n",
              "    <div class=\"colab-df-container\">\n",
              "      <div>\n",
              "<style scoped>\n",
              "    .dataframe tbody tr th:only-of-type {\n",
              "        vertical-align: middle;\n",
              "    }\n",
              "\n",
              "    .dataframe tbody tr th {\n",
              "        vertical-align: top;\n",
              "    }\n",
              "\n",
              "    .dataframe thead th {\n",
              "        text-align: right;\n",
              "    }\n",
              "</style>\n",
              "<table border=\"1\" class=\"dataframe\">\n",
              "  <thead>\n",
              "    <tr style=\"text-align: right;\">\n",
              "      <th></th>\n",
              "      <th>PassengerId</th>\n",
              "      <th>Pclass</th>\n",
              "      <th>Name</th>\n",
              "      <th>Sex</th>\n",
              "      <th>Age</th>\n",
              "      <th>SibSp</th>\n",
              "      <th>Parch</th>\n",
              "      <th>Ticket</th>\n",
              "      <th>Fare</th>\n",
              "      <th>Cabin</th>\n",
              "      <th>Embarked</th>\n",
              "    </tr>\n",
              "  </thead>\n",
              "  <tbody>\n",
              "    <tr>\n",
              "      <th>0</th>\n",
              "      <td>892</td>\n",
              "      <td>3</td>\n",
              "      <td>Kelly, Mr. James</td>\n",
              "      <td>0</td>\n",
              "      <td>34.5</td>\n",
              "      <td>0</td>\n",
              "      <td>0</td>\n",
              "      <td>330911</td>\n",
              "      <td>7.8292</td>\n",
              "      <td>NaN</td>\n",
              "      <td>Q</td>\n",
              "    </tr>\n",
              "    <tr>\n",
              "      <th>1</th>\n",
              "      <td>893</td>\n",
              "      <td>3</td>\n",
              "      <td>Wilkes, Mrs. James (Ellen Needs)</td>\n",
              "      <td>1</td>\n",
              "      <td>47.0</td>\n",
              "      <td>1</td>\n",
              "      <td>0</td>\n",
              "      <td>363272</td>\n",
              "      <td>7.0000</td>\n",
              "      <td>NaN</td>\n",
              "      <td>S</td>\n",
              "    </tr>\n",
              "    <tr>\n",
              "      <th>2</th>\n",
              "      <td>894</td>\n",
              "      <td>2</td>\n",
              "      <td>Myles, Mr. Thomas Francis</td>\n",
              "      <td>0</td>\n",
              "      <td>62.0</td>\n",
              "      <td>0</td>\n",
              "      <td>0</td>\n",
              "      <td>240276</td>\n",
              "      <td>9.6875</td>\n",
              "      <td>NaN</td>\n",
              "      <td>Q</td>\n",
              "    </tr>\n",
              "    <tr>\n",
              "      <th>3</th>\n",
              "      <td>895</td>\n",
              "      <td>3</td>\n",
              "      <td>Wirz, Mr. Albert</td>\n",
              "      <td>0</td>\n",
              "      <td>27.0</td>\n",
              "      <td>0</td>\n",
              "      <td>0</td>\n",
              "      <td>315154</td>\n",
              "      <td>8.6625</td>\n",
              "      <td>NaN</td>\n",
              "      <td>S</td>\n",
              "    </tr>\n",
              "    <tr>\n",
              "      <th>4</th>\n",
              "      <td>896</td>\n",
              "      <td>3</td>\n",
              "      <td>Hirvonen, Mrs. Alexander (Helga E Lindqvist)</td>\n",
              "      <td>1</td>\n",
              "      <td>22.0</td>\n",
              "      <td>1</td>\n",
              "      <td>1</td>\n",
              "      <td>3101298</td>\n",
              "      <td>12.2875</td>\n",
              "      <td>NaN</td>\n",
              "      <td>S</td>\n",
              "    </tr>\n",
              "  </tbody>\n",
              "</table>\n",
              "</div>\n",
              "      <button class=\"colab-df-convert\" onclick=\"convertToInteractive('df-8c16a1ba-67ea-4b9b-8233-c08c5cba5a29')\"\n",
              "              title=\"Convert this dataframe to an interactive table.\"\n",
              "              style=\"display:none;\">\n",
              "        \n",
              "  <svg xmlns=\"http://www.w3.org/2000/svg\" height=\"24px\"viewBox=\"0 0 24 24\"\n",
              "       width=\"24px\">\n",
              "    <path d=\"M0 0h24v24H0V0z\" fill=\"none\"/>\n",
              "    <path d=\"M18.56 5.44l.94 2.06.94-2.06 2.06-.94-2.06-.94-.94-2.06-.94 2.06-2.06.94zm-11 1L8.5 8.5l.94-2.06 2.06-.94-2.06-.94L8.5 2.5l-.94 2.06-2.06.94zm10 10l.94 2.06.94-2.06 2.06-.94-2.06-.94-.94-2.06-.94 2.06-2.06.94z\"/><path d=\"M17.41 7.96l-1.37-1.37c-.4-.4-.92-.59-1.43-.59-.52 0-1.04.2-1.43.59L10.3 9.45l-7.72 7.72c-.78.78-.78 2.05 0 2.83L4 21.41c.39.39.9.59 1.41.59.51 0 1.02-.2 1.41-.59l7.78-7.78 2.81-2.81c.8-.78.8-2.07 0-2.86zM5.41 20L4 18.59l7.72-7.72 1.47 1.35L5.41 20z\"/>\n",
              "  </svg>\n",
              "      </button>\n",
              "      \n",
              "  <style>\n",
              "    .colab-df-container {\n",
              "      display:flex;\n",
              "      flex-wrap:wrap;\n",
              "      gap: 12px;\n",
              "    }\n",
              "\n",
              "    .colab-df-convert {\n",
              "      background-color: #E8F0FE;\n",
              "      border: none;\n",
              "      border-radius: 50%;\n",
              "      cursor: pointer;\n",
              "      display: none;\n",
              "      fill: #1967D2;\n",
              "      height: 32px;\n",
              "      padding: 0 0 0 0;\n",
              "      width: 32px;\n",
              "    }\n",
              "\n",
              "    .colab-df-convert:hover {\n",
              "      background-color: #E2EBFA;\n",
              "      box-shadow: 0px 1px 2px rgba(60, 64, 67, 0.3), 0px 1px 3px 1px rgba(60, 64, 67, 0.15);\n",
              "      fill: #174EA6;\n",
              "    }\n",
              "\n",
              "    [theme=dark] .colab-df-convert {\n",
              "      background-color: #3B4455;\n",
              "      fill: #D2E3FC;\n",
              "    }\n",
              "\n",
              "    [theme=dark] .colab-df-convert:hover {\n",
              "      background-color: #434B5C;\n",
              "      box-shadow: 0px 1px 3px 1px rgba(0, 0, 0, 0.15);\n",
              "      filter: drop-shadow(0px 1px 2px rgba(0, 0, 0, 0.3));\n",
              "      fill: #FFFFFF;\n",
              "    }\n",
              "  </style>\n",
              "\n",
              "      <script>\n",
              "        const buttonEl =\n",
              "          document.querySelector('#df-8c16a1ba-67ea-4b9b-8233-c08c5cba5a29 button.colab-df-convert');\n",
              "        buttonEl.style.display =\n",
              "          google.colab.kernel.accessAllowed ? 'block' : 'none';\n",
              "\n",
              "        async function convertToInteractive(key) {\n",
              "          const element = document.querySelector('#df-8c16a1ba-67ea-4b9b-8233-c08c5cba5a29');\n",
              "          const dataTable =\n",
              "            await google.colab.kernel.invokeFunction('convertToInteractive',\n",
              "                                                     [key], {});\n",
              "          if (!dataTable) return;\n",
              "\n",
              "          const docLinkHtml = 'Like what you see? Visit the ' +\n",
              "            '<a target=\"_blank\" href=https://colab.research.google.com/notebooks/data_table.ipynb>data table notebook</a>'\n",
              "            + ' to learn more about interactive tables.';\n",
              "          element.innerHTML = '';\n",
              "          dataTable['output_type'] = 'display_data';\n",
              "          await google.colab.output.renderOutput(dataTable, element);\n",
              "          const docLink = document.createElement('div');\n",
              "          docLink.innerHTML = docLinkHtml;\n",
              "          element.appendChild(docLink);\n",
              "        }\n",
              "      </script>\n",
              "    </div>\n",
              "  </div>\n",
              "  "
            ]
          },
          "metadata": {},
          "execution_count": 90
        }
      ]
    },
    {
      "cell_type": "code",
      "source": [
        "test_data = test_df[[\"Pclass\", \"Sex\", \"Age\", \"SibSp\", \"Parch\", \"Fare\"]].to_numpy()"
      ],
      "metadata": {
        "id": "NNdnZT24-AXr"
      },
      "execution_count": 91,
      "outputs": []
    },
    {
      "cell_type": "code",
      "source": [
        "test_data = test_data / 100."
      ],
      "metadata": {
        "id": "_t3wuVgf-ui1"
      },
      "execution_count": 92,
      "outputs": []
    },
    {
      "cell_type": "code",
      "source": [
        "test_data.shape"
      ],
      "metadata": {
        "id": "TR0_eAV5_0fi",
        "outputId": "8a482a98-6e46-4ff6-c585-ee6846873196",
        "colab": {
          "base_uri": "https://localhost:8080/"
        }
      },
      "execution_count": 93,
      "outputs": [
        {
          "output_type": "execute_result",
          "data": {
            "text/plain": [
              "(418, 6)"
            ]
          },
          "metadata": {},
          "execution_count": 93
        }
      ]
    },
    {
      "cell_type": "code",
      "source": [
        "test_data[0]"
      ],
      "metadata": {
        "id": "bXyahRTg_48m",
        "outputId": "2de1bee0-83d5-4b2c-9cff-89fd5faaf46e",
        "colab": {
          "base_uri": "https://localhost:8080/"
        }
      },
      "execution_count": 94,
      "outputs": [
        {
          "output_type": "execute_result",
          "data": {
            "text/plain": [
              "array([0.03    , 0.      , 0.345   , 0.      , 0.      , 0.078292])"
            ]
          },
          "metadata": {},
          "execution_count": 94
        }
      ]
    },
    {
      "cell_type": "code",
      "source": [
        "prediction = (model.predict(test_data)>0.5).astype(\"int32\")"
      ],
      "metadata": {
        "id": "TYJOhPRI-5O-"
      },
      "execution_count": 95,
      "outputs": []
    },
    {
      "cell_type": "code",
      "source": [
        "test_df[\"Survived\"] = prediction"
      ],
      "metadata": {
        "id": "ObLqdLJzoChn"
      },
      "execution_count": 96,
      "outputs": []
    },
    {
      "cell_type": "code",
      "source": [
        "test_df.head()"
      ],
      "metadata": {
        "colab": {
          "base_uri": "https://localhost:8080/",
          "height": 221
        },
        "id": "5KgqPQgaoJac",
        "outputId": "be3e3608-0cb3-40e8-e0ab-9cd04efa00f5"
      },
      "execution_count": 97,
      "outputs": [
        {
          "output_type": "execute_result",
          "data": {
            "text/plain": [
              "   PassengerId  Pclass                                          Name  Sex  \\\n",
              "0          892       3                              Kelly, Mr. James    0   \n",
              "1          893       3              Wilkes, Mrs. James (Ellen Needs)    1   \n",
              "2          894       2                     Myles, Mr. Thomas Francis    0   \n",
              "3          895       3                              Wirz, Mr. Albert    0   \n",
              "4          896       3  Hirvonen, Mrs. Alexander (Helga E Lindqvist)    1   \n",
              "\n",
              "    Age  SibSp  Parch   Ticket     Fare Cabin Embarked  Survived  \n",
              "0  34.5      0      0   330911   7.8292   NaN        Q         0  \n",
              "1  47.0      1      0   363272   7.0000   NaN        S         0  \n",
              "2  62.0      0      0   240276   9.6875   NaN        Q         0  \n",
              "3  27.0      0      0   315154   8.6625   NaN        S         0  \n",
              "4  22.0      1      1  3101298  12.2875   NaN        S         1  "
            ],
            "text/html": [
              "\n",
              "  <div id=\"df-12f9ffa6-498d-45c8-b6ea-2968770548c9\">\n",
              "    <div class=\"colab-df-container\">\n",
              "      <div>\n",
              "<style scoped>\n",
              "    .dataframe tbody tr th:only-of-type {\n",
              "        vertical-align: middle;\n",
              "    }\n",
              "\n",
              "    .dataframe tbody tr th {\n",
              "        vertical-align: top;\n",
              "    }\n",
              "\n",
              "    .dataframe thead th {\n",
              "        text-align: right;\n",
              "    }\n",
              "</style>\n",
              "<table border=\"1\" class=\"dataframe\">\n",
              "  <thead>\n",
              "    <tr style=\"text-align: right;\">\n",
              "      <th></th>\n",
              "      <th>PassengerId</th>\n",
              "      <th>Pclass</th>\n",
              "      <th>Name</th>\n",
              "      <th>Sex</th>\n",
              "      <th>Age</th>\n",
              "      <th>SibSp</th>\n",
              "      <th>Parch</th>\n",
              "      <th>Ticket</th>\n",
              "      <th>Fare</th>\n",
              "      <th>Cabin</th>\n",
              "      <th>Embarked</th>\n",
              "      <th>Survived</th>\n",
              "    </tr>\n",
              "  </thead>\n",
              "  <tbody>\n",
              "    <tr>\n",
              "      <th>0</th>\n",
              "      <td>892</td>\n",
              "      <td>3</td>\n",
              "      <td>Kelly, Mr. James</td>\n",
              "      <td>0</td>\n",
              "      <td>34.5</td>\n",
              "      <td>0</td>\n",
              "      <td>0</td>\n",
              "      <td>330911</td>\n",
              "      <td>7.8292</td>\n",
              "      <td>NaN</td>\n",
              "      <td>Q</td>\n",
              "      <td>0</td>\n",
              "    </tr>\n",
              "    <tr>\n",
              "      <th>1</th>\n",
              "      <td>893</td>\n",
              "      <td>3</td>\n",
              "      <td>Wilkes, Mrs. James (Ellen Needs)</td>\n",
              "      <td>1</td>\n",
              "      <td>47.0</td>\n",
              "      <td>1</td>\n",
              "      <td>0</td>\n",
              "      <td>363272</td>\n",
              "      <td>7.0000</td>\n",
              "      <td>NaN</td>\n",
              "      <td>S</td>\n",
              "      <td>0</td>\n",
              "    </tr>\n",
              "    <tr>\n",
              "      <th>2</th>\n",
              "      <td>894</td>\n",
              "      <td>2</td>\n",
              "      <td>Myles, Mr. Thomas Francis</td>\n",
              "      <td>0</td>\n",
              "      <td>62.0</td>\n",
              "      <td>0</td>\n",
              "      <td>0</td>\n",
              "      <td>240276</td>\n",
              "      <td>9.6875</td>\n",
              "      <td>NaN</td>\n",
              "      <td>Q</td>\n",
              "      <td>0</td>\n",
              "    </tr>\n",
              "    <tr>\n",
              "      <th>3</th>\n",
              "      <td>895</td>\n",
              "      <td>3</td>\n",
              "      <td>Wirz, Mr. Albert</td>\n",
              "      <td>0</td>\n",
              "      <td>27.0</td>\n",
              "      <td>0</td>\n",
              "      <td>0</td>\n",
              "      <td>315154</td>\n",
              "      <td>8.6625</td>\n",
              "      <td>NaN</td>\n",
              "      <td>S</td>\n",
              "      <td>0</td>\n",
              "    </tr>\n",
              "    <tr>\n",
              "      <th>4</th>\n",
              "      <td>896</td>\n",
              "      <td>3</td>\n",
              "      <td>Hirvonen, Mrs. Alexander (Helga E Lindqvist)</td>\n",
              "      <td>1</td>\n",
              "      <td>22.0</td>\n",
              "      <td>1</td>\n",
              "      <td>1</td>\n",
              "      <td>3101298</td>\n",
              "      <td>12.2875</td>\n",
              "      <td>NaN</td>\n",
              "      <td>S</td>\n",
              "      <td>1</td>\n",
              "    </tr>\n",
              "  </tbody>\n",
              "</table>\n",
              "</div>\n",
              "      <button class=\"colab-df-convert\" onclick=\"convertToInteractive('df-12f9ffa6-498d-45c8-b6ea-2968770548c9')\"\n",
              "              title=\"Convert this dataframe to an interactive table.\"\n",
              "              style=\"display:none;\">\n",
              "        \n",
              "  <svg xmlns=\"http://www.w3.org/2000/svg\" height=\"24px\"viewBox=\"0 0 24 24\"\n",
              "       width=\"24px\">\n",
              "    <path d=\"M0 0h24v24H0V0z\" fill=\"none\"/>\n",
              "    <path d=\"M18.56 5.44l.94 2.06.94-2.06 2.06-.94-2.06-.94-.94-2.06-.94 2.06-2.06.94zm-11 1L8.5 8.5l.94-2.06 2.06-.94-2.06-.94L8.5 2.5l-.94 2.06-2.06.94zm10 10l.94 2.06.94-2.06 2.06-.94-2.06-.94-.94-2.06-.94 2.06-2.06.94z\"/><path d=\"M17.41 7.96l-1.37-1.37c-.4-.4-.92-.59-1.43-.59-.52 0-1.04.2-1.43.59L10.3 9.45l-7.72 7.72c-.78.78-.78 2.05 0 2.83L4 21.41c.39.39.9.59 1.41.59.51 0 1.02-.2 1.41-.59l7.78-7.78 2.81-2.81c.8-.78.8-2.07 0-2.86zM5.41 20L4 18.59l7.72-7.72 1.47 1.35L5.41 20z\"/>\n",
              "  </svg>\n",
              "      </button>\n",
              "      \n",
              "  <style>\n",
              "    .colab-df-container {\n",
              "      display:flex;\n",
              "      flex-wrap:wrap;\n",
              "      gap: 12px;\n",
              "    }\n",
              "\n",
              "    .colab-df-convert {\n",
              "      background-color: #E8F0FE;\n",
              "      border: none;\n",
              "      border-radius: 50%;\n",
              "      cursor: pointer;\n",
              "      display: none;\n",
              "      fill: #1967D2;\n",
              "      height: 32px;\n",
              "      padding: 0 0 0 0;\n",
              "      width: 32px;\n",
              "    }\n",
              "\n",
              "    .colab-df-convert:hover {\n",
              "      background-color: #E2EBFA;\n",
              "      box-shadow: 0px 1px 2px rgba(60, 64, 67, 0.3), 0px 1px 3px 1px rgba(60, 64, 67, 0.15);\n",
              "      fill: #174EA6;\n",
              "    }\n",
              "\n",
              "    [theme=dark] .colab-df-convert {\n",
              "      background-color: #3B4455;\n",
              "      fill: #D2E3FC;\n",
              "    }\n",
              "\n",
              "    [theme=dark] .colab-df-convert:hover {\n",
              "      background-color: #434B5C;\n",
              "      box-shadow: 0px 1px 3px 1px rgba(0, 0, 0, 0.15);\n",
              "      filter: drop-shadow(0px 1px 2px rgba(0, 0, 0, 0.3));\n",
              "      fill: #FFFFFF;\n",
              "    }\n",
              "  </style>\n",
              "\n",
              "      <script>\n",
              "        const buttonEl =\n",
              "          document.querySelector('#df-12f9ffa6-498d-45c8-b6ea-2968770548c9 button.colab-df-convert');\n",
              "        buttonEl.style.display =\n",
              "          google.colab.kernel.accessAllowed ? 'block' : 'none';\n",
              "\n",
              "        async function convertToInteractive(key) {\n",
              "          const element = document.querySelector('#df-12f9ffa6-498d-45c8-b6ea-2968770548c9');\n",
              "          const dataTable =\n",
              "            await google.colab.kernel.invokeFunction('convertToInteractive',\n",
              "                                                     [key], {});\n",
              "          if (!dataTable) return;\n",
              "\n",
              "          const docLinkHtml = 'Like what you see? Visit the ' +\n",
              "            '<a target=\"_blank\" href=https://colab.research.google.com/notebooks/data_table.ipynb>data table notebook</a>'\n",
              "            + ' to learn more about interactive tables.';\n",
              "          element.innerHTML = '';\n",
              "          dataTable['output_type'] = 'display_data';\n",
              "          await google.colab.output.renderOutput(dataTable, element);\n",
              "          const docLink = document.createElement('div');\n",
              "          docLink.innerHTML = docLinkHtml;\n",
              "          element.appendChild(docLink);\n",
              "        }\n",
              "      </script>\n",
              "    </div>\n",
              "  </div>\n",
              "  "
            ]
          },
          "metadata": {},
          "execution_count": 97
        }
      ]
    },
    {
      "cell_type": "code",
      "source": [
        "output_df = test_df[[\"PassengerId\", \"Survived\"]]"
      ],
      "metadata": {
        "id": "fr_iP4jnoT9B"
      },
      "execution_count": 98,
      "outputs": []
    },
    {
      "cell_type": "code",
      "source": [
        "output_df.to_csv(\"mysubmission2.csv\", index=False)"
      ],
      "metadata": {
        "id": "0MazXdTbodpV"
      },
      "execution_count": 99,
      "outputs": []
    },
    {
      "cell_type": "code",
      "source": [
        "!kaggle competitions submit -c titanic -f mysubmission2.csv -m \"Prediction 1 - SRS 12 SEPT\""
      ],
      "metadata": {
        "colab": {
          "base_uri": "https://localhost:8080/"
        },
        "id": "rSqoyF8CouJM",
        "outputId": "b4e90d9d-7c9f-4214-dcb6-7f0c6fbf6c63"
      },
      "execution_count": 100,
      "outputs": [
        {
          "output_type": "stream",
          "name": "stdout",
          "text": [
            "100% 2.77k/2.77k [00:00<00:00, 14.3kB/s]\n",
            "Successfully submitted to Titanic - Machine Learning from Disaster"
          ]
        }
      ]
    }
  ]
}