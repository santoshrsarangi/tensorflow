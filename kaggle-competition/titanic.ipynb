{
  "nbformat": 4,
  "nbformat_minor": 0,
  "metadata": {
    "colab": {
      "provenance": [],
      "authorship_tag": "ABX9TyNufaYaJc+PNDQQRev2FKG1",
      "include_colab_link": true
    },
    "kernelspec": {
      "name": "python3",
      "display_name": "Python 3"
    },
    "language_info": {
      "name": "python"
    }
  },
  "cells": [
    {
      "cell_type": "markdown",
      "metadata": {
        "id": "view-in-github",
        "colab_type": "text"
      },
      "source": [
        "<a href=\"https://colab.research.google.com/github/santoshrsarangi/tensorflow/blob/main/kaggle-competition/titanic.ipynb\" target=\"_parent\"><img src=\"https://colab.research.google.com/assets/colab-badge.svg\" alt=\"Open In Colab\"/></a>"
      ]
    },
    {
      "cell_type": "code",
      "execution_count": 1,
      "metadata": {
        "id": "8MFuTPzrHrFc",
        "colab": {
          "resources": {
            "http://localhost:8080/nbextensions/google.colab/files.js": {
              "data": "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",
              "ok": true,
              "headers": [
                [
                  "content-type",
                  "application/javascript"
                ]
              ],
              "status": 200,
              "status_text": ""
            }
          },
          "base_uri": "https://localhost:8080/",
          "height": 92
        },
        "outputId": "bd439eb9-f903-41f4-feee-913087eccc31"
      },
      "outputs": [
        {
          "output_type": "display_data",
          "data": {
            "text/plain": [
              "<IPython.core.display.HTML object>"
            ],
            "text/html": [
              "\n",
              "     <input type=\"file\" id=\"files-17987617-839c-4bda-a853-7d3243b0583d\" name=\"files[]\" multiple disabled\n",
              "        style=\"border:none\" />\n",
              "     <output id=\"result-17987617-839c-4bda-a853-7d3243b0583d\">\n",
              "      Upload widget is only available when the cell has been executed in the\n",
              "      current browser session. Please rerun this cell to enable.\n",
              "      </output>\n",
              "      <script src=\"/nbextensions/google.colab/files.js\"></script> "
            ]
          },
          "metadata": {}
        },
        {
          "output_type": "stream",
          "name": "stdout",
          "text": [
            "Saving kaggle.json to kaggle.json\n"
          ]
        }
      ],
      "source": [
        "from google.colab import files\n",
        "r = files.upload()"
      ]
    },
    {
      "cell_type": "code",
      "source": [
        "!mkdir ~/.kaggle\n",
        "!cp kaggle.json ~/.kaggle/\n",
        "!chmod 600 ~/.kaggle/kaggle.json"
      ],
      "metadata": {
        "id": "MJcnPKeSIy5X"
      },
      "execution_count": 2,
      "outputs": []
    },
    {
      "cell_type": "code",
      "source": [
        "!kaggle competitions download -c titanic "
      ],
      "metadata": {
        "colab": {
          "base_uri": "https://localhost:8080/"
        },
        "id": "vVIKkOdZJBnK",
        "outputId": "dfc3b1dc-266f-44c4-c38d-45fa11c80356"
      },
      "execution_count": 3,
      "outputs": [
        {
          "output_type": "stream",
          "name": "stdout",
          "text": [
            "Downloading titanic.zip to /content\n",
            "\r  0% 0.00/34.1k [00:00<?, ?B/s]\n",
            "\r100% 34.1k/34.1k [00:00<00:00, 21.3MB/s]\n"
          ]
        }
      ]
    },
    {
      "cell_type": "code",
      "source": [
        "!unzip -qq titanic.zip"
      ],
      "metadata": {
        "id": "5ROR06bqJYok"
      },
      "execution_count": 4,
      "outputs": []
    },
    {
      "cell_type": "code",
      "source": [
        "import numpy as np\n",
        "import pandas as pd"
      ],
      "metadata": {
        "id": "nxEOLJ9HJk20"
      },
      "execution_count": 5,
      "outputs": []
    },
    {
      "cell_type": "code",
      "source": [
        "df = pd.read_csv(\"train.csv\")"
      ],
      "metadata": {
        "id": "4K40roYCJ8Ww"
      },
      "execution_count": 6,
      "outputs": []
    },
    {
      "cell_type": "code",
      "source": [
        "df.info()"
      ],
      "metadata": {
        "colab": {
          "base_uri": "https://localhost:8080/"
        },
        "id": "W7j3bIOVKI2P",
        "outputId": "fe167877-0b3f-4c34-effb-c9482a53b19d"
      },
      "execution_count": 7,
      "outputs": [
        {
          "output_type": "stream",
          "name": "stdout",
          "text": [
            "<class 'pandas.core.frame.DataFrame'>\n",
            "RangeIndex: 891 entries, 0 to 890\n",
            "Data columns (total 12 columns):\n",
            " #   Column       Non-Null Count  Dtype  \n",
            "---  ------       --------------  -----  \n",
            " 0   PassengerId  891 non-null    int64  \n",
            " 1   Survived     891 non-null    int64  \n",
            " 2   Pclass       891 non-null    int64  \n",
            " 3   Name         891 non-null    object \n",
            " 4   Sex          891 non-null    object \n",
            " 5   Age          714 non-null    float64\n",
            " 6   SibSp        891 non-null    int64  \n",
            " 7   Parch        891 non-null    int64  \n",
            " 8   Ticket       891 non-null    object \n",
            " 9   Fare         891 non-null    float64\n",
            " 10  Cabin        204 non-null    object \n",
            " 11  Embarked     889 non-null    object \n",
            "dtypes: float64(2), int64(5), object(5)\n",
            "memory usage: 83.7+ KB\n"
          ]
        }
      ]
    },
    {
      "cell_type": "code",
      "source": [
        "import seaborn as sns"
      ],
      "metadata": {
        "id": "eG7GoPvKYNLb"
      },
      "execution_count": 9,
      "outputs": []
    },
    {
      "cell_type": "code",
      "source": [
        "sns.heatmap(df.isnull(), cbar=False)"
      ],
      "metadata": {
        "id": "ufPGI_SKY7tc",
        "outputId": "75796647-dbad-4875-9c20-1c322fe20f19",
        "colab": {
          "base_uri": "https://localhost:8080/",
          "height": 359
        }
      },
      "execution_count": 10,
      "outputs": [
        {
          "output_type": "execute_result",
          "data": {
            "text/plain": [
              "<matplotlib.axes._subplots.AxesSubplot at 0x7fc3e32e8fd0>"
            ]
          },
          "metadata": {},
          "execution_count": 10
        },
        {
          "output_type": "display_data",
          "data": {
            "text/plain": [
              "<Figure size 432x288 with 1 Axes>"
            ],
            "image/png": "[encoded data removed]"
          },
          "metadata": {
            "needs_background": "light"
          }
        }
      ]
    },
    {
      "cell_type": "code",
      "source": [
        "df.head(1)"
      ],
      "metadata": {
        "colab": {
          "base_uri": "https://localhost:8080/",
          "height": 100
        },
        "id": "igNUPIrcKK9N",
        "outputId": "a9da4d01-1fff-47c2-e0f4-838587f7b355"
      },
      "execution_count": 11,
      "outputs": [
        {
          "output_type": "execute_result",
          "data": {
            "text/plain": [
              "   PassengerId  Survived  Pclass                     Name   Sex   Age  SibSp  \\\n",
              "0            1         0       3  Braund, Mr. Owen Harris  male  22.0      1   \n",
              "\n",
              "   Parch     Ticket  Fare Cabin Embarked  \n",
              "0      0  A/5 21171  7.25   NaN        S  "
            ],
            "text/html": [
              "\n",
              "  <div id=\"df-afb2d316-a8da-491e-a30f-39a98015a914\">\n",
              "    <div class=\"colab-df-container\">\n",
              "      <div>\n",
              "<style scoped>\n",
              "    .dataframe tbody tr th:only-of-type {\n",
              "        vertical-align: middle;\n",
              "    }\n",
              "\n",
              "    .dataframe tbody tr th {\n",
              "        vertical-align: top;\n",
              "    }\n",
              "\n",
              "    .dataframe thead th {\n",
              "        text-align: right;\n",
              "    }\n",
              "</style>\n",
              "<table border=\"1\" class=\"dataframe\">\n",
              "  <thead>\n",
              "    <tr style=\"text-align: right;\">\n",
              "      <th></th>\n",
              "      <th>PassengerId</th>\n",
              "      <th>Survived</th>\n",
              "      <th>Pclass</th>\n",
              "      <th>Name</th>\n",
              "      <th>Sex</th>\n",
              "      <th>Age</th>\n",
              "      <th>SibSp</th>\n",
              "      <th>Parch</th>\n",
              "      <th>Ticket</th>\n",
              "      <th>Fare</th>\n",
              "      <th>Cabin</th>\n",
              "      <th>Embarked</th>\n",
              "    </tr>\n",
              "  </thead>\n",
              "  <tbody>\n",
              "    <tr>\n",
              "      <th>0</th>\n",
              "      <td>1</td>\n",
              "      <td>0</td>\n",
              "      <td>3</td>\n",
              "      <td>Braund, Mr. Owen Harris</td>\n",
              "      <td>male</td>\n",
              "      <td>22.0</td>\n",
              "      <td>1</td>\n",
              "      <td>0</td>\n",
              "      <td>A/5 21171</td>\n",
              "      <td>7.25</td>\n",
              "      <td>NaN</td>\n",
              "      <td>S</td>\n",
              "    </tr>\n",
              "  </tbody>\n",
              "</table>\n",
              "</div>\n",
              "      <button class=\"colab-df-convert\" onclick=\"convertToInteractive('df-afb2d316-a8da-491e-a30f-39a98015a914')\"\n",
              "              title=\"Convert this dataframe to an interactive table.\"\n",
              "              style=\"display:none;\">\n",
              "        \n",
              "  <svg xmlns=\"http://www.w3.org/2000/svg\" height=\"24px\"viewBox=\"0 0 24 24\"\n",
              "       width=\"24px\">\n",
              "    <path d=\"M0 0h24v24H0V0z\" fill=\"none\"/>\n",
              "    <path d=\"M18.56 5.44l.94 2.06.94-2.06 2.06-.94-2.06-.94-.94-2.06-.94 2.06-2.06.94zm-11 1L8.5 8.5l.94-2.06 2.06-.94-2.06-.94L8.5 2.5l-.94 2.06-2.06.94zm10 10l.94 2.06.94-2.06 2.06-.94-2.06-.94-.94-2.06-.94 2.06-2.06.94z\"/><path d=\"M17.41 7.96l-1.37-1.37c-.4-.4-.92-.59-1.43-.59-.52 0-1.04.2-1.43.59L10.3 9.45l-7.72 7.72c-.78.78-.78 2.05 0 2.83L4 21.41c.39.39.9.59 1.41.59.51 0 1.02-.2 1.41-.59l7.78-7.78 2.81-2.81c.8-.78.8-2.07 0-2.86zM5.41 20L4 18.59l7.72-7.72 1.47 1.35L5.41 20z\"/>\n",
              "  </svg>\n",
              "      </button>\n",
              "      \n",
              "  <style>\n",
              "    .colab-df-container {\n",
              "      display:flex;\n",
              "      flex-wrap:wrap;\n",
              "      gap: 12px;\n",
              "    }\n",
              "\n",
              "    .colab-df-convert {\n",
              "      background-color: #E8F0FE;\n",
              "      border: none;\n",
              "      border-radius: 50%;\n",
              "      cursor: pointer;\n",
              "      display: none;\n",
              "      fill: #1967D2;\n",
              "      height: 32px;\n",
              "      padding: 0 0 0 0;\n",
              "      width: 32px;\n",
              "    }\n",
              "\n",
              "    .colab-df-convert:hover {\n",
              "      background-color: #E2EBFA;\n",
              "      box-shadow: 0px 1px 2px rgba(60, 64, 67, 0.3), 0px 1px 3px 1px rgba(60, 64, 67, 0.15);\n",
              "      fill: #174EA6;\n",
              "    }\n",
              "\n",
              "    [theme=dark] .colab-df-convert {\n",
              "      background-color: #3B4455;\n",
              "      fill: #D2E3FC;\n",
              "    }\n",
              "\n",
              "    [theme=dark] .colab-df-convert:hover {\n",
              "      background-color: #434B5C;\n",
              "      box-shadow: 0px 1px 3px 1px rgba(0, 0, 0, 0.15);\n",
              "      filter: drop-shadow(0px 1px 2px rgba(0, 0, 0, 0.3));\n",
              "      fill: #FFFFFF;\n",
              "    }\n",
              "  </style>\n",
              "\n",
              "      <script>\n",
              "        const buttonEl =\n",
              "          document.querySelector('#df-afb2d316-a8da-491e-a30f-39a98015a914 button.colab-df-convert');\n",
              "        buttonEl.style.display =\n",
              "          google.colab.kernel.accessAllowed ? 'block' : 'none';\n",
              "\n",
              "        async function convertToInteractive(key) {\n",
              "          const element = document.querySelector('#df-afb2d316-a8da-491e-a30f-39a98015a914');\n",
              "          const dataTable =\n",
              "            await google.colab.kernel.invokeFunction('convertToInteractive',\n",
              "                                                     [key], {});\n",
              "          if (!dataTable) return;\n",
              "\n",
              "          const docLinkHtml = 'Like what you see? Visit the ' +\n",
              "            '<a target=\"_blank\" href=https://colab.research.google.com/notebooks/data_table.ipynb>data table notebook</a>'\n",
              "            + ' to learn more about interactive tables.';\n",
              "          element.innerHTML = '';\n",
              "          dataTable['output_type'] = 'display_data';\n",
              "          await google.colab.output.renderOutput(dataTable, element);\n",
              "          const docLink = document.createElement('div');\n",
              "          docLink.innerHTML = docLinkHtml;\n",
              "          element.appendChild(docLink);\n",
              "        }\n",
              "      </script>\n",
              "    </div>\n",
              "  </div>\n",
              "  "
            ]
          },
          "metadata": {},
          "execution_count": 11
        }
      ]
    },
    {
      "cell_type": "code",
      "source": [
        "df_label = df[\"Survived\"]"
      ],
      "metadata": {
        "id": "kmvRs73mKQrN"
      },
      "execution_count": 12,
      "outputs": []
    },
    {
      "cell_type": "code",
      "source": [
        "df_label.head(10)"
      ],
      "metadata": {
        "colab": {
          "base_uri": "https://localhost:8080/"
        },
        "id": "FLttxM4xKp8_",
        "outputId": "189f75ac-61f9-4856-86a5-11de90ed72d9"
      },
      "execution_count": 13,
      "outputs": [
        {
          "output_type": "execute_result",
          "data": {
            "text/plain": [
              "0    0\n",
              "1    1\n",
              "2    1\n",
              "3    1\n",
              "4    0\n",
              "5    0\n",
              "6    0\n",
              "7    0\n",
              "8    1\n",
              "9    1\n",
              "Name: Survived, dtype: int64"
            ]
          },
          "metadata": {},
          "execution_count": 13
        }
      ]
    },
    {
      "cell_type": "code",
      "source": [
        "df_data = df[[\"PassengerId\", \"Pclass\", \"Sex\", \"Age\", \"Fare\", \"Survived\"]]"
      ],
      "metadata": {
        "id": "ecgLgiJpKuRY"
      },
      "execution_count": 14,
      "outputs": []
    },
    {
      "cell_type": "code",
      "source": [
        "df_data.info()"
      ],
      "metadata": {
        "colab": {
          "base_uri": "https://localhost:8080/"
        },
        "id": "NN9T-0RjLeKQ",
        "outputId": "f89859c7-8562-49db-89ac-3befbee8a7bd"
      },
      "execution_count": 15,
      "outputs": [
        {
          "output_type": "stream",
          "name": "stdout",
          "text": [
            "<class 'pandas.core.frame.DataFrame'>\n",
            "RangeIndex: 891 entries, 0 to 890\n",
            "Data columns (total 6 columns):\n",
            " #   Column       Non-Null Count  Dtype  \n",
            "---  ------       --------------  -----  \n",
            " 0   PassengerId  891 non-null    int64  \n",
            " 1   Pclass       891 non-null    int64  \n",
            " 2   Sex          891 non-null    object \n",
            " 3   Age          714 non-null    float64\n",
            " 4   Fare         891 non-null    float64\n",
            " 5   Survived     891 non-null    int64  \n",
            "dtypes: float64(2), int64(3), object(1)\n",
            "memory usage: 41.9+ KB\n"
          ]
        }
      ]
    },
    {
      "cell_type": "code",
      "source": [
        "sns.heatmap(df_data.isnull(), cbar=False)"
      ],
      "metadata": {
        "id": "EU6uHlrhYRgz",
        "outputId": "9307a16b-7c30-40f5-819c-fef74b1903e4",
        "colab": {
          "base_uri": "https://localhost:8080/",
          "height": 307
        }
      },
      "execution_count": 16,
      "outputs": [
        {
          "output_type": "execute_result",
          "data": {
            "text/plain": [
              "<matplotlib.axes._subplots.AxesSubplot at 0x7fc3e04f7090>"
            ]
          },
          "metadata": {},
          "execution_count": 16
        },
        {
          "output_type": "display_data",
          "data": {
            "text/plain": [
              "<Figure size 432x288 with 1 Axes>"
            ],
            "image/png": "[encoded data removed]"
          },
          "metadata": {
            "needs_background": "light"
          }
        }
      ]
    },
    {
      "cell_type": "code",
      "source": [
        "r = sns.displot(data=df_data[\"Survived\"])"
      ],
      "metadata": {
        "id": "D0nG-f4a4hfa",
        "outputId": "1d59c27c-8ac1-44a2-bb80-63aa30bfe011",
        "colab": {
          "base_uri": "https://localhost:8080/",
          "height": 390
        }
      },
      "execution_count": 17,
      "outputs": [
        {
          "output_type": "display_data",
          "data": {
            "text/plain": [
              "<Figure size 360x360 with 1 Axes>"
            ],
            "image/png": "[encoded data removed]"
          },
          "metadata": {
            "needs_background": "light"
          }
        }
      ]
    },
    {
      "cell_type": "code",
      "source": [
        "r = sns.catplot(data=df_data, x=\"Pclass\", y=\"Survived\", kind='bar', ci=None)"
      ],
      "metadata": {
        "id": "pHiq4cIF5OtD",
        "outputId": "9d6145f8-d70d-491d-a4a0-86d34331eb63",
        "colab": {
          "base_uri": "https://localhost:8080/",
          "height": 390
        }
      },
      "execution_count": 18,
      "outputs": [
        {
          "output_type": "display_data",
          "data": {
            "text/plain": [
              "<Figure size 360x360 with 1 Axes>"
            ],
            "image/png": "[encoded data removed]"
          },
          "metadata": {
            "needs_background": "light"
          }
        }
      ]
    },
    {
      "cell_type": "code",
      "source": [
        "r = sns.catplot(data=df_data, y=\"Survived\", x=\"Pclass\", hue=\"Sex\", kind=\"bar\", ci=None)"
      ],
      "metadata": {
        "id": "vv-9MH1V-azP",
        "outputId": "c9436be3-c6d5-428b-8dcc-92e49e5e3623",
        "colab": {
          "base_uri": "https://localhost:8080/",
          "height": 390
        }
      },
      "execution_count": 19,
      "outputs": [
        {
          "output_type": "display_data",
          "data": {
            "text/plain": [
              "<Figure size 430.5x360 with 1 Axes>"
            ],
            "image/png": "[encoded data removed]"
          },
          "metadata": {
            "needs_background": "light"
          }
        }
      ]
    },
    {
      "cell_type": "code",
      "source": [
        "r= sns.catplot(data=df_data, x=\"Survived\", y=\"Age\", hue=\"Sex\", kind=\"violin\")"
      ],
      "metadata": {
        "id": "-zCFwrTL_V_7",
        "outputId": "12a15208-f409-49b0-8f54-1cb9ddeb5a51",
        "colab": {
          "base_uri": "https://localhost:8080/",
          "height": 390
        }
      },
      "execution_count": 20,
      "outputs": [
        {
          "output_type": "display_data",
          "data": {
            "text/plain": [
              "<Figure size 430.5x360 with 1 Axes>"
            ],
            "image/png": "[encoded data removed]"
          },
          "metadata": {
            "needs_background": "light"
          }
        }
      ]
    },
    {
      "cell_type": "code",
      "source": [
        "r=sns.catplot(data=df_data, x=\"Survived\", y=\"Age\", hue=\"Pclass\", kind=\"violin\")"
      ],
      "metadata": {
        "id": "8E45dAR6BEaP",
        "outputId": "c80d8e0c-55e3-4905-be75-39007186398e",
        "colab": {
          "base_uri": "https://localhost:8080/",
          "height": 390
        }
      },
      "execution_count": 21,
      "outputs": [
        {
          "output_type": "display_data",
          "data": {
            "text/plain": [
              "<Figure size 402.375x360 with 1 Axes>"
            ],
            "image/png": "[encoded data removed]"
          },
          "metadata": {
            "needs_background": "light"
          }
        }
      ]
    },
    {
      "cell_type": "code",
      "source": [
        "encoding_ref = {\"Sex\": {\"male\": 0, \"female\": 1}}"
      ],
      "metadata": {
        "id": "9o65lu-wD1Xm"
      },
      "execution_count": 24,
      "outputs": []
    },
    {
      "cell_type": "code",
      "source": [
        "df_data = df_data.replace(encoding_ref)\n",
        "\n",
        "df_data.head(5)"
      ],
      "metadata": {
        "id": "YAGq1Ch2EGxT",
        "outputId": "07174df4-e737-48d4-ed58-feb1760f3a3b",
        "colab": {
          "base_uri": "https://localhost:8080/",
          "height": 221
        }
      },
      "execution_count": 25,
      "outputs": [
        {
          "output_type": "execute_result",
          "data": {
            "text/plain": [
              "   PassengerId  Pclass  Sex   Age     Fare  Survived\n",
              "0            1       3    0  22.0   7.2500         0\n",
              "1            2       1    1  38.0  71.2833         1\n",
              "2            3       3    1  26.0   7.9250         1\n",
              "3            4       1    1  35.0  53.1000         1\n",
              "4            5       3    0  35.0   8.0500         0"
            ],
            "text/html": [
              "\n",
              "  <div id=\"df-f1496282-54c2-42e7-a668-39510048a3d8\">\n",
              "    <div class=\"colab-df-container\">\n",
              "      <div>\n",
              "<style scoped>\n",
              "    .dataframe tbody tr th:only-of-type {\n",
              "        vertical-align: middle;\n",
              "    }\n",
              "\n",
              "    .dataframe tbody tr th {\n",
              "        vertical-align: top;\n",
              "    }\n",
              "\n",
              "    .dataframe thead th {\n",
              "        text-align: right;\n",
              "    }\n",
              "</style>\n",
              "<table border=\"1\" class=\"dataframe\">\n",
              "  <thead>\n",
              "    <tr style=\"text-align: right;\">\n",
              "      <th></th>\n",
              "      <th>PassengerId</th>\n",
              "      <th>Pclass</th>\n",
              "      <th>Sex</th>\n",
              "      <th>Age</th>\n",
              "      <th>Fare</th>\n",
              "      <th>Survived</th>\n",
              "    </tr>\n",
              "  </thead>\n",
              "  <tbody>\n",
              "    <tr>\n",
              "      <th>0</th>\n",
              "      <td>1</td>\n",
              "      <td>3</td>\n",
              "      <td>0</td>\n",
              "      <td>22.0</td>\n",
              "      <td>7.2500</td>\n",
              "      <td>0</td>\n",
              "    </tr>\n",
              "    <tr>\n",
              "      <th>1</th>\n",
              "      <td>2</td>\n",
              "      <td>1</td>\n",
              "      <td>1</td>\n",
              "      <td>38.0</td>\n",
              "      <td>71.2833</td>\n",
              "      <td>1</td>\n",
              "    </tr>\n",
              "    <tr>\n",
              "      <th>2</th>\n",
              "      <td>3</td>\n",
              "      <td>3</td>\n",
              "      <td>1</td>\n",
              "      <td>26.0</td>\n",
              "      <td>7.9250</td>\n",
              "      <td>1</td>\n",
              "    </tr>\n",
              "    <tr>\n",
              "      <th>3</th>\n",
              "      <td>4</td>\n",
              "      <td>1</td>\n",
              "      <td>1</td>\n",
              "      <td>35.0</td>\n",
              "      <td>53.1000</td>\n",
              "      <td>1</td>\n",
              "    </tr>\n",
              "    <tr>\n",
              "      <th>4</th>\n",
              "      <td>5</td>\n",
              "      <td>3</td>\n",
              "      <td>0</td>\n",
              "      <td>35.0</td>\n",
              "      <td>8.0500</td>\n",
              "      <td>0</td>\n",
              "    </tr>\n",
              "  </tbody>\n",
              "</table>\n",
              "</div>\n",
              "      <button class=\"colab-df-convert\" onclick=\"convertToInteractive('df-f1496282-54c2-42e7-a668-39510048a3d8')\"\n",
              "              title=\"Convert this dataframe to an interactive table.\"\n",
              "              style=\"display:none;\">\n",
              "        \n",
              "  <svg xmlns=\"http://www.w3.org/2000/svg\" height=\"24px\"viewBox=\"0 0 24 24\"\n",
              "       width=\"24px\">\n",
              "    <path d=\"M0 0h24v24H0V0z\" fill=\"none\"/>\n",
              "    <path d=\"M18.56 5.44l.94 2.06.94-2.06 2.06-.94-2.06-.94-.94-2.06-.94 2.06-2.06.94zm-11 1L8.5 8.5l.94-2.06 2.06-.94-2.06-.94L8.5 2.5l-.94 2.06-2.06.94zm10 10l.94 2.06.94-2.06 2.06-.94-2.06-.94-.94-2.06-.94 2.06-2.06.94z\"/><path d=\"M17.41 7.96l-1.37-1.37c-.4-.4-.92-.59-1.43-.59-.52 0-1.04.2-1.43.59L10.3 9.45l-7.72 7.72c-.78.78-.78 2.05 0 2.83L4 21.41c.39.39.9.59 1.41.59.51 0 1.02-.2 1.41-.59l7.78-7.78 2.81-2.81c.8-.78.8-2.07 0-2.86zM5.41 20L4 18.59l7.72-7.72 1.47 1.35L5.41 20z\"/>\n",
              "  </svg>\n",
              "      </button>\n",
              "      \n",
              "  <style>\n",
              "    .colab-df-container {\n",
              "      display:flex;\n",
              "      flex-wrap:wrap;\n",
              "      gap: 12px;\n",
              "    }\n",
              "\n",
              "    .colab-df-convert {\n",
              "      background-color: #E8F0FE;\n",
              "      border: none;\n",
              "      border-radius: 50%;\n",
              "      cursor: pointer;\n",
              "      display: none;\n",
              "      fill: #1967D2;\n",
              "      height: 32px;\n",
              "      padding: 0 0 0 0;\n",
              "      width: 32px;\n",
              "    }\n",
              "\n",
              "    .colab-df-convert:hover {\n",
              "      background-color: #E2EBFA;\n",
              "      box-shadow: 0px 1px 2px rgba(60, 64, 67, 0.3), 0px 1px 3px 1px rgba(60, 64, 67, 0.15);\n",
              "      fill: #174EA6;\n",
              "    }\n",
              "\n",
              "    [theme=dark] .colab-df-convert {\n",
              "      background-color: #3B4455;\n",
              "      fill: #D2E3FC;\n",
              "    }\n",
              "\n",
              "    [theme=dark] .colab-df-convert:hover {\n",
              "      background-color: #434B5C;\n",
              "      box-shadow: 0px 1px 3px 1px rgba(0, 0, 0, 0.15);\n",
              "      filter: drop-shadow(0px 1px 2px rgba(0, 0, 0, 0.3));\n",
              "      fill: #FFFFFF;\n",
              "    }\n",
              "  </style>\n",
              "\n",
              "      <script>\n",
              "        const buttonEl =\n",
              "          document.querySelector('#df-f1496282-54c2-42e7-a668-39510048a3d8 button.colab-df-convert');\n",
              "        buttonEl.style.display =\n",
              "          google.colab.kernel.accessAllowed ? 'block' : 'none';\n",
              "\n",
              "        async function convertToInteractive(key) {\n",
              "          const element = document.querySelector('#df-f1496282-54c2-42e7-a668-39510048a3d8');\n",
              "          const dataTable =\n",
              "            await google.colab.kernel.invokeFunction('convertToInteractive',\n",
              "                                                     [key], {});\n",
              "          if (!dataTable) return;\n",
              "\n",
              "          const docLinkHtml = 'Like what you see? Visit the ' +\n",
              "            '<a target=\"_blank\" href=https://colab.research.google.com/notebooks/data_table.ipynb>data table notebook</a>'\n",
              "            + ' to learn more about interactive tables.';\n",
              "          element.innerHTML = '';\n",
              "          dataTable['output_type'] = 'display_data';\n",
              "          await google.colab.output.renderOutput(dataTable, element);\n",
              "          const docLink = document.createElement('div');\n",
              "          docLink.innerHTML = docLinkHtml;\n",
              "          element.appendChild(docLink);\n",
              "        }\n",
              "      </script>\n",
              "    </div>\n",
              "  </div>\n",
              "  "
            ]
          },
          "metadata": {},
          "execution_count": 25
        }
      ]
    },
    {
      "cell_type": "code",
      "source": [
        "df_data.info()"
      ],
      "metadata": {
        "id": "6nz9Wym2SgE9",
        "outputId": "949ec1ac-2184-4f25-9470-07d85ca0c102",
        "colab": {
          "base_uri": "https://localhost:8080/"
        }
      },
      "execution_count": 50,
      "outputs": [
        {
          "output_type": "stream",
          "name": "stdout",
          "text": [
            "<class 'pandas.core.frame.DataFrame'>\n",
            "RangeIndex: 891 entries, 0 to 890\n",
            "Data columns (total 6 columns):\n",
            " #   Column       Non-Null Count  Dtype  \n",
            "---  ------       --------------  -----  \n",
            " 0   PassengerId  891 non-null    int64  \n",
            " 1   Pclass       891 non-null    int64  \n",
            " 2   Sex          891 non-null    int64  \n",
            " 3   Age          714 non-null    float64\n",
            " 4   Fare         891 non-null    float64\n",
            " 5   Survived     891 non-null    int64  \n",
            "dtypes: float64(2), int64(4)\n",
            "memory usage: 41.9 KB\n"
          ]
        }
      ]
    },
    {
      "cell_type": "code",
      "source": [
        "df_data[\"Age\"].mean()"
      ],
      "metadata": {
        "id": "2u7wU91tSsvT",
        "outputId": "0aacd014-b8c7-42ef-9775-c4e96b149133",
        "colab": {
          "base_uri": "https://localhost:8080/"
        }
      },
      "execution_count": 51,
      "outputs": [
        {
          "output_type": "execute_result",
          "data": {
            "text/plain": [
              "29.69911764705882"
            ]
          },
          "metadata": {},
          "execution_count": 51
        }
      ]
    },
    {
      "cell_type": "code",
      "source": [
        "#Fill blanks with mean of Age\n",
        "df_data[\"Age\"] = df_data[\"Age\"].fillna(29.69)"
      ],
      "metadata": {
        "id": "lK5rCoC5S2_U"
      },
      "execution_count": 54,
      "outputs": []
    },
    {
      "cell_type": "code",
      "source": [
        "df_data.info()"
      ],
      "metadata": {
        "id": "DSicwrCSTTFO",
        "outputId": "881ea4dc-c9af-41bd-82e9-9d6923335299",
        "colab": {
          "base_uri": "https://localhost:8080/"
        }
      },
      "execution_count": 55,
      "outputs": [
        {
          "output_type": "stream",
          "name": "stdout",
          "text": [
            "<class 'pandas.core.frame.DataFrame'>\n",
            "RangeIndex: 891 entries, 0 to 890\n",
            "Data columns (total 6 columns):\n",
            " #   Column       Non-Null Count  Dtype  \n",
            "---  ------       --------------  -----  \n",
            " 0   PassengerId  891 non-null    int64  \n",
            " 1   Pclass       891 non-null    int64  \n",
            " 2   Sex          891 non-null    int64  \n",
            " 3   Age          891 non-null    float64\n",
            " 4   Fare         891 non-null    float64\n",
            " 5   Survived     891 non-null    int64  \n",
            "dtypes: float64(2), int64(4)\n",
            "memory usage: 41.9 KB\n"
          ]
        }
      ]
    },
    {
      "cell_type": "code",
      "source": [
        "def return_data_and_label(df_data):\n",
        "  #shuffle rows\n",
        "  df_data = df_data.sample(frac = 1)\n",
        "  return df_data[[\"Pclass\", \"Sex\", \"Age\", \"Fare\"]].to_numpy(), df_data[\"Survived\"].to_numpy()"
      ],
      "metadata": {
        "id": "OYMX6ZnvJIJn"
      },
      "execution_count": 97,
      "outputs": []
    },
    {
      "cell_type": "code",
      "source": [
        "training_data, training_label = return_data_and_label(df_data)"
      ],
      "metadata": {
        "id": "PoGRFjQ_JX3n"
      },
      "execution_count": 98,
      "outputs": []
    },
    {
      "cell_type": "code",
      "source": [
        "training_data.shape"
      ],
      "metadata": {
        "id": "2dHjFQ6BLFib",
        "outputId": "d8577a47-1933-45bc-ffc5-25cfdf028438",
        "colab": {
          "base_uri": "https://localhost:8080/"
        }
      },
      "execution_count": 99,
      "outputs": [
        {
          "output_type": "execute_result",
          "data": {
            "text/plain": [
              "(891, 4)"
            ]
          },
          "metadata": {},
          "execution_count": 99
        }
      ]
    },
    {
      "cell_type": "code",
      "source": [
        "#normalize data\n",
        "training_data = training_data / 100."
      ],
      "metadata": {
        "id": "GXzYKZHyP-xW"
      },
      "execution_count": 100,
      "outputs": []
    },
    {
      "cell_type": "code",
      "source": [
        "training_data"
      ],
      "metadata": {
        "id": "-uoKZ-WDSSbn",
        "outputId": "80cf7232-4c0b-4fd3-cc86-5454bf253177",
        "colab": {
          "base_uri": "https://localhost:8080/"
        }
      },
      "execution_count": 101,
      "outputs": [
        {
          "output_type": "execute_result",
          "data": {
            "text/plain": [
              "array([[0.03   , 0.     , 0.28   , 0.07925],\n",
              "       [0.02   , 0.     , 0.39   , 0.13   ],\n",
              "       [0.03   , 0.     , 0.405  , 0.0775 ],\n",
              "       ...,\n",
              "       [0.03   , 0.01   , 0.2969 , 0.0775 ],\n",
              "       [0.02   , 0.     , 0.57   , 0.1235 ],\n",
              "       [0.02   , 0.     , 0.32   , 0.105  ]])"
            ]
          },
          "metadata": {},
          "execution_count": 101
        }
      ]
    },
    {
      "cell_type": "code",
      "source": [
        "training_label.shape"
      ],
      "metadata": {
        "id": "Wkd2NWkwLOlj",
        "outputId": "62065e70-41c3-4817-d2dd-f5f6002824b3",
        "colab": {
          "base_uri": "https://localhost:8080/"
        }
      },
      "execution_count": 102,
      "outputs": [
        {
          "output_type": "execute_result",
          "data": {
            "text/plain": [
              "(891,)"
            ]
          },
          "metadata": {},
          "execution_count": 102
        }
      ]
    },
    {
      "cell_type": "code",
      "source": [
        "import tensorflow as tf\n",
        "from tensorflow import keras\n",
        "from tensorflow.keras import layers"
      ],
      "metadata": {
        "id": "rXn6mEY7OJMk"
      },
      "execution_count": 103,
      "outputs": []
    },
    {
      "cell_type": "code",
      "source": [
        "def get_model():\n",
        "  model = keras.Sequential([\n",
        "      layers.Input(shape=(4,)),\n",
        "      layers.Dense(64, activation=\"relu\"),\n",
        "      #layers.Dense(128, activation=\"relu\"),\n",
        "      #layers.Dense(256, activation=\"relu\"),\n",
        "      layers.Dense(1, activation=\"sigmoid\")\n",
        "  ])\n",
        "\n",
        "  model.compile(optimizer=\"rmsprop\",\n",
        "                loss=\"binary_crossentropy\",\n",
        "                metrics=['accuracy'])\n",
        "\n",
        "  return model"
      ],
      "metadata": {
        "id": "MyE5J_E6LRSX"
      },
      "execution_count": 104,
      "outputs": []
    },
    {
      "cell_type": "code",
      "source": [
        "#Try various options. Training loss bottoms out around 320 epochs\n",
        "epochs=350"
      ],
      "metadata": {
        "id": "4TRmqV4tUELL"
      },
      "execution_count": 109,
      "outputs": []
    },
    {
      "cell_type": "code",
      "source": [
        "model = get_model()\n",
        "\n",
        "run_history = model.fit(training_data,\n",
        "                        training_label,\n",
        "                        epochs = epochs,\n",
        "                        validation_split=0.3,\n",
        "                        batch_size=32)"
      ],
      "metadata": {
        "id": "_E8QmZ7iPFpa",
        "outputId": "dc01262a-996e-4fdc-d173-8b10edec04ec",
        "colab": {
          "base_uri": "https://localhost:8080/"
        }
      },
      "execution_count": 110,
      "outputs": [
        {
          "output_type": "stream",
          "name": "stdout",
          "text": [
            "Epoch 1/350\n",
            "20/20 [==============================] - 1s 11ms/step - loss: 0.6796 - accuracy: 0.6180 - val_loss: 0.6704 - val_accuracy: 0.6007\n",
            "Epoch 2/350\n",
            "20/20 [==============================] - 0s 4ms/step - loss: 0.6634 - accuracy: 0.6469 - val_loss: 0.6582 - val_accuracy: 0.6231\n",
            "Epoch 3/350\n",
            "20/20 [==============================] - 0s 3ms/step - loss: 0.6521 - accuracy: 0.6565 - val_loss: 0.6497 - val_accuracy: 0.6269\n",
            "Epoch 4/350\n",
            "20/20 [==============================] - 0s 3ms/step - loss: 0.6442 - accuracy: 0.6597 - val_loss: 0.6425 - val_accuracy: 0.6418\n",
            "Epoch 5/350\n",
            "20/20 [==============================] - 0s 4ms/step - loss: 0.6374 - accuracy: 0.6581 - val_loss: 0.6371 - val_accuracy: 0.6530\n",
            "Epoch 6/350\n",
            "20/20 [==============================] - 0s 4ms/step - loss: 0.6319 - accuracy: 0.6581 - val_loss: 0.6327 - val_accuracy: 0.6530\n",
            "Epoch 7/350\n",
            "20/20 [==============================] - 0s 4ms/step - loss: 0.6270 - accuracy: 0.6629 - val_loss: 0.6299 - val_accuracy: 0.6530\n",
            "Epoch 8/350\n",
            "20/20 [==============================] - 0s 4ms/step - loss: 0.6235 - accuracy: 0.6613 - val_loss: 0.6269 - val_accuracy: 0.6642\n",
            "Epoch 9/350\n",
            "20/20 [==============================] - 0s 3ms/step - loss: 0.6206 - accuracy: 0.6613 - val_loss: 0.6252 - val_accuracy: 0.6567\n",
            "Epoch 10/350\n",
            "20/20 [==============================] - 0s 3ms/step - loss: 0.6194 - accuracy: 0.6629 - val_loss: 0.6239 - val_accuracy: 0.6604\n",
            "Epoch 11/350\n",
            "20/20 [==============================] - 0s 4ms/step - loss: 0.6169 - accuracy: 0.6613 - val_loss: 0.6229 - val_accuracy: 0.6604\n",
            "Epoch 12/350\n",
            "20/20 [==============================] - 0s 4ms/step - loss: 0.6151 - accuracy: 0.6613 - val_loss: 0.6216 - val_accuracy: 0.6567\n",
            "Epoch 13/350\n",
            "20/20 [==============================] - 0s 4ms/step - loss: 0.6139 - accuracy: 0.6693 - val_loss: 0.6212 - val_accuracy: 0.6567\n",
            "Epoch 14/350\n",
            "20/20 [==============================] - 0s 4ms/step - loss: 0.6127 - accuracy: 0.6693 - val_loss: 0.6208 - val_accuracy: 0.6567\n",
            "Epoch 15/350\n",
            "20/20 [==============================] - 0s 3ms/step - loss: 0.6117 - accuracy: 0.6726 - val_loss: 0.6201 - val_accuracy: 0.6567\n",
            "Epoch 16/350\n",
            "20/20 [==============================] - 0s 4ms/step - loss: 0.6107 - accuracy: 0.6742 - val_loss: 0.6195 - val_accuracy: 0.6642\n",
            "Epoch 17/350\n",
            "20/20 [==============================] - 0s 4ms/step - loss: 0.6102 - accuracy: 0.6726 - val_loss: 0.6192 - val_accuracy: 0.6642\n",
            "Epoch 18/350\n",
            "20/20 [==============================] - 0s 4ms/step - loss: 0.6095 - accuracy: 0.6742 - val_loss: 0.6186 - val_accuracy: 0.6791\n",
            "Epoch 19/350\n",
            "20/20 [==============================] - 0s 6ms/step - loss: 0.6092 - accuracy: 0.6709 - val_loss: 0.6183 - val_accuracy: 0.6791\n",
            "Epoch 20/350\n",
            "20/20 [==============================] - 0s 10ms/step - loss: 0.6088 - accuracy: 0.6709 - val_loss: 0.6179 - val_accuracy: 0.6903\n",
            "Epoch 21/350\n",
            "20/20 [==============================] - 0s 10ms/step - loss: 0.6077 - accuracy: 0.6726 - val_loss: 0.6181 - val_accuracy: 0.6791\n",
            "Epoch 22/350\n",
            "20/20 [==============================] - 0s 5ms/step - loss: 0.6076 - accuracy: 0.6742 - val_loss: 0.6177 - val_accuracy: 0.6828\n",
            "Epoch 23/350\n",
            "20/20 [==============================] - 0s 10ms/step - loss: 0.6072 - accuracy: 0.6726 - val_loss: 0.6171 - val_accuracy: 0.6940\n",
            "Epoch 24/350\n",
            "20/20 [==============================] - 0s 13ms/step - loss: 0.6071 - accuracy: 0.6693 - val_loss: 0.6168 - val_accuracy: 0.6940\n",
            "Epoch 25/350\n",
            "20/20 [==============================] - 0s 8ms/step - loss: 0.6065 - accuracy: 0.6774 - val_loss: 0.6166 - val_accuracy: 0.6940\n",
            "Epoch 26/350\n",
            "20/20 [==============================] - 0s 11ms/step - loss: 0.6062 - accuracy: 0.6742 - val_loss: 0.6164 - val_accuracy: 0.6940\n",
            "Epoch 27/350\n",
            "20/20 [==============================] - 0s 7ms/step - loss: 0.6059 - accuracy: 0.6742 - val_loss: 0.6160 - val_accuracy: 0.6940\n",
            "Epoch 28/350\n",
            "20/20 [==============================] - 0s 8ms/step - loss: 0.6050 - accuracy: 0.6790 - val_loss: 0.6161 - val_accuracy: 0.6940\n",
            "Epoch 29/350\n",
            "20/20 [==============================] - 0s 10ms/step - loss: 0.6050 - accuracy: 0.6774 - val_loss: 0.6154 - val_accuracy: 0.6866\n",
            "Epoch 30/350\n",
            "20/20 [==============================] - 0s 10ms/step - loss: 0.6043 - accuracy: 0.6758 - val_loss: 0.6153 - val_accuracy: 0.6940\n",
            "Epoch 31/350\n",
            "20/20 [==============================] - 0s 8ms/step - loss: 0.6043 - accuracy: 0.6806 - val_loss: 0.6147 - val_accuracy: 0.6866\n",
            "Epoch 32/350\n",
            "20/20 [==============================] - 0s 10ms/step - loss: 0.6037 - accuracy: 0.6742 - val_loss: 0.6146 - val_accuracy: 0.6940\n",
            "Epoch 33/350\n",
            "20/20 [==============================] - 0s 7ms/step - loss: 0.6038 - accuracy: 0.6806 - val_loss: 0.6142 - val_accuracy: 0.6903\n",
            "Epoch 34/350\n",
            "20/20 [==============================] - 0s 4ms/step - loss: 0.6034 - accuracy: 0.6790 - val_loss: 0.6140 - val_accuracy: 0.6903\n",
            "Epoch 35/350\n",
            "20/20 [==============================] - 0s 3ms/step - loss: 0.6027 - accuracy: 0.6774 - val_loss: 0.6139 - val_accuracy: 0.6940\n",
            "Epoch 36/350\n",
            "20/20 [==============================] - 0s 4ms/step - loss: 0.6027 - accuracy: 0.6790 - val_loss: 0.6136 - val_accuracy: 0.6940\n",
            "Epoch 37/350\n",
            "20/20 [==============================] - 0s 3ms/step - loss: 0.6019 - accuracy: 0.6790 - val_loss: 0.6137 - val_accuracy: 0.6903\n",
            "Epoch 38/350\n",
            "20/20 [==============================] - 0s 3ms/step - loss: 0.6019 - accuracy: 0.6806 - val_loss: 0.6124 - val_accuracy: 0.6866\n",
            "Epoch 39/350\n",
            "20/20 [==============================] - 0s 3ms/step - loss: 0.6011 - accuracy: 0.6822 - val_loss: 0.6125 - val_accuracy: 0.6978\n",
            "Epoch 40/350\n",
            "20/20 [==============================] - 0s 3ms/step - loss: 0.6011 - accuracy: 0.6758 - val_loss: 0.6119 - val_accuracy: 0.6903\n",
            "Epoch 41/350\n",
            "20/20 [==============================] - 0s 4ms/step - loss: 0.6008 - accuracy: 0.6774 - val_loss: 0.6114 - val_accuracy: 0.6903\n",
            "Epoch 42/350\n",
            "20/20 [==============================] - 0s 4ms/step - loss: 0.5999 - accuracy: 0.6774 - val_loss: 0.6107 - val_accuracy: 0.6828\n",
            "Epoch 43/350\n",
            "20/20 [==============================] - 0s 4ms/step - loss: 0.6002 - accuracy: 0.6774 - val_loss: 0.6103 - val_accuracy: 0.6828\n",
            "Epoch 44/350\n",
            "20/20 [==============================] - 0s 3ms/step - loss: 0.5998 - accuracy: 0.6758 - val_loss: 0.6101 - val_accuracy: 0.6866\n",
            "Epoch 45/350\n",
            "20/20 [==============================] - 0s 4ms/step - loss: 0.5988 - accuracy: 0.6774 - val_loss: 0.6097 - val_accuracy: 0.6866\n",
            "Epoch 46/350\n",
            "20/20 [==============================] - 0s 4ms/step - loss: 0.5987 - accuracy: 0.6822 - val_loss: 0.6093 - val_accuracy: 0.6903\n",
            "Epoch 47/350\n",
            "20/20 [==============================] - 0s 4ms/step - loss: 0.5984 - accuracy: 0.6742 - val_loss: 0.6092 - val_accuracy: 0.6978\n",
            "Epoch 48/350\n",
            "20/20 [==============================] - 0s 4ms/step - loss: 0.5976 - accuracy: 0.6758 - val_loss: 0.6087 - val_accuracy: 0.6978\n",
            "Epoch 49/350\n",
            "20/20 [==============================] - 0s 4ms/step - loss: 0.5971 - accuracy: 0.6774 - val_loss: 0.6076 - val_accuracy: 0.6828\n",
            "Epoch 50/350\n",
            "20/20 [==============================] - 0s 4ms/step - loss: 0.5975 - accuracy: 0.6790 - val_loss: 0.6073 - val_accuracy: 0.6828\n",
            "Epoch 51/350\n",
            "20/20 [==============================] - 0s 3ms/step - loss: 0.5965 - accuracy: 0.6774 - val_loss: 0.6078 - val_accuracy: 0.6940\n",
            "Epoch 52/350\n",
            "20/20 [==============================] - 0s 3ms/step - loss: 0.5961 - accuracy: 0.6790 - val_loss: 0.6069 - val_accuracy: 0.6866\n",
            "Epoch 53/350\n",
            "20/20 [==============================] - 0s 4ms/step - loss: 0.5953 - accuracy: 0.6742 - val_loss: 0.6063 - val_accuracy: 0.6828\n",
            "Epoch 54/350\n",
            "20/20 [==============================] - 0s 3ms/step - loss: 0.5953 - accuracy: 0.6806 - val_loss: 0.6063 - val_accuracy: 0.6903\n",
            "Epoch 55/350\n",
            "20/20 [==============================] - 0s 4ms/step - loss: 0.5948 - accuracy: 0.6790 - val_loss: 0.6061 - val_accuracy: 0.6940\n",
            "Epoch 56/350\n",
            "20/20 [==============================] - 0s 4ms/step - loss: 0.5943 - accuracy: 0.6806 - val_loss: 0.6052 - val_accuracy: 0.6903\n",
            "Epoch 57/350\n",
            "20/20 [==============================] - 0s 3ms/step - loss: 0.5936 - accuracy: 0.6774 - val_loss: 0.6045 - val_accuracy: 0.6828\n",
            "Epoch 58/350\n",
            "20/20 [==============================] - 0s 4ms/step - loss: 0.5940 - accuracy: 0.6774 - val_loss: 0.6045 - val_accuracy: 0.6903\n",
            "Epoch 59/350\n",
            "20/20 [==============================] - 0s 4ms/step - loss: 0.5929 - accuracy: 0.6822 - val_loss: 0.6036 - val_accuracy: 0.6828\n",
            "Epoch 60/350\n",
            "20/20 [==============================] - 0s 3ms/step - loss: 0.5925 - accuracy: 0.6790 - val_loss: 0.6033 - val_accuracy: 0.6903\n",
            "Epoch 61/350\n",
            "20/20 [==============================] - 0s 4ms/step - loss: 0.5920 - accuracy: 0.6774 - val_loss: 0.6031 - val_accuracy: 0.6903\n",
            "Epoch 62/350\n",
            "20/20 [==============================] - 0s 4ms/step - loss: 0.5917 - accuracy: 0.6790 - val_loss: 0.6022 - val_accuracy: 0.6828\n",
            "Epoch 63/350\n",
            "20/20 [==============================] - 0s 4ms/step - loss: 0.5911 - accuracy: 0.6774 - val_loss: 0.6022 - val_accuracy: 0.6903\n",
            "Epoch 64/350\n",
            "20/20 [==============================] - 0s 4ms/step - loss: 0.5909 - accuracy: 0.6790 - val_loss: 0.6013 - val_accuracy: 0.6866\n",
            "Epoch 65/350\n",
            "20/20 [==============================] - 0s 3ms/step - loss: 0.5900 - accuracy: 0.6790 - val_loss: 0.6011 - val_accuracy: 0.6903\n",
            "Epoch 66/350\n",
            "20/20 [==============================] - 0s 3ms/step - loss: 0.5896 - accuracy: 0.6774 - val_loss: 0.6006 - val_accuracy: 0.6940\n",
            "Epoch 67/350\n",
            "20/20 [==============================] - 0s 4ms/step - loss: 0.5888 - accuracy: 0.6838 - val_loss: 0.5995 - val_accuracy: 0.6866\n",
            "Epoch 68/350\n",
            "20/20 [==============================] - 0s 3ms/step - loss: 0.5888 - accuracy: 0.6742 - val_loss: 0.5988 - val_accuracy: 0.6903\n",
            "Epoch 69/350\n",
            "20/20 [==============================] - 0s 4ms/step - loss: 0.5884 - accuracy: 0.6806 - val_loss: 0.5986 - val_accuracy: 0.6866\n",
            "Epoch 70/350\n",
            "20/20 [==============================] - 0s 4ms/step - loss: 0.5878 - accuracy: 0.6758 - val_loss: 0.5980 - val_accuracy: 0.6866\n",
            "Epoch 71/350\n",
            "20/20 [==============================] - 0s 4ms/step - loss: 0.5869 - accuracy: 0.6822 - val_loss: 0.5978 - val_accuracy: 0.6866\n",
            "Epoch 72/350\n",
            "20/20 [==============================] - 0s 3ms/step - loss: 0.5865 - accuracy: 0.6806 - val_loss: 0.5970 - val_accuracy: 0.6903\n",
            "Epoch 73/350\n",
            "20/20 [==============================] - 0s 5ms/step - loss: 0.5859 - accuracy: 0.6758 - val_loss: 0.5965 - val_accuracy: 0.6903\n",
            "Epoch 74/350\n",
            "20/20 [==============================] - 0s 3ms/step - loss: 0.5856 - accuracy: 0.6790 - val_loss: 0.5964 - val_accuracy: 0.6866\n",
            "Epoch 75/350\n",
            "20/20 [==============================] - 0s 4ms/step - loss: 0.5852 - accuracy: 0.6774 - val_loss: 0.5960 - val_accuracy: 0.6866\n",
            "Epoch 76/350\n",
            "20/20 [==============================] - 0s 4ms/step - loss: 0.5844 - accuracy: 0.6758 - val_loss: 0.5955 - val_accuracy: 0.6866\n",
            "Epoch 77/350\n",
            "20/20 [==============================] - 0s 4ms/step - loss: 0.5842 - accuracy: 0.6806 - val_loss: 0.5954 - val_accuracy: 0.6903\n",
            "Epoch 78/350\n",
            "20/20 [==============================] - 0s 4ms/step - loss: 0.5830 - accuracy: 0.6806 - val_loss: 0.5945 - val_accuracy: 0.6866\n",
            "Epoch 79/350\n",
            "20/20 [==============================] - 0s 4ms/step - loss: 0.5827 - accuracy: 0.6806 - val_loss: 0.5941 - val_accuracy: 0.6866\n",
            "Epoch 80/350\n",
            "20/20 [==============================] - 0s 4ms/step - loss: 0.5822 - accuracy: 0.6790 - val_loss: 0.5935 - val_accuracy: 0.6903\n",
            "Epoch 81/350\n",
            "20/20 [==============================] - 0s 3ms/step - loss: 0.5820 - accuracy: 0.6806 - val_loss: 0.5932 - val_accuracy: 0.6866\n",
            "Epoch 82/350\n",
            "20/20 [==============================] - 0s 4ms/step - loss: 0.5809 - accuracy: 0.6790 - val_loss: 0.5919 - val_accuracy: 0.6978\n",
            "Epoch 83/350\n",
            "20/20 [==============================] - 0s 4ms/step - loss: 0.5806 - accuracy: 0.6806 - val_loss: 0.5916 - val_accuracy: 0.6978\n",
            "Epoch 84/350\n",
            "20/20 [==============================] - 0s 4ms/step - loss: 0.5798 - accuracy: 0.6822 - val_loss: 0.5912 - val_accuracy: 0.6940\n",
            "Epoch 85/350\n",
            "20/20 [==============================] - 0s 5ms/step - loss: 0.5794 - accuracy: 0.6838 - val_loss: 0.5910 - val_accuracy: 0.6903\n",
            "Epoch 86/350\n",
            "20/20 [==============================] - 0s 4ms/step - loss: 0.5791 - accuracy: 0.6838 - val_loss: 0.5901 - val_accuracy: 0.6940\n",
            "Epoch 87/350\n",
            "20/20 [==============================] - 0s 4ms/step - loss: 0.5785 - accuracy: 0.6822 - val_loss: 0.5900 - val_accuracy: 0.6940\n",
            "Epoch 88/350\n",
            "20/20 [==============================] - 0s 4ms/step - loss: 0.5782 - accuracy: 0.6838 - val_loss: 0.5887 - val_accuracy: 0.6940\n",
            "Epoch 89/350\n",
            "20/20 [==============================] - 0s 3ms/step - loss: 0.5771 - accuracy: 0.6774 - val_loss: 0.5881 - val_accuracy: 0.6940\n",
            "Epoch 90/350\n",
            "20/20 [==============================] - 0s 3ms/step - loss: 0.5769 - accuracy: 0.6822 - val_loss: 0.5889 - val_accuracy: 0.6978\n",
            "Epoch 91/350\n",
            "20/20 [==============================] - 0s 3ms/step - loss: 0.5760 - accuracy: 0.6886 - val_loss: 0.5880 - val_accuracy: 0.6940\n",
            "Epoch 92/350\n",
            "20/20 [==============================] - 0s 4ms/step - loss: 0.5757 - accuracy: 0.6822 - val_loss: 0.5865 - val_accuracy: 0.6940\n",
            "Epoch 93/350\n",
            "20/20 [==============================] - 0s 4ms/step - loss: 0.5750 - accuracy: 0.6822 - val_loss: 0.5868 - val_accuracy: 0.6978\n",
            "Epoch 94/350\n",
            "20/20 [==============================] - 0s 3ms/step - loss: 0.5745 - accuracy: 0.6806 - val_loss: 0.5859 - val_accuracy: 0.6903\n",
            "Epoch 95/350\n",
            "20/20 [==============================] - 0s 4ms/step - loss: 0.5740 - accuracy: 0.6822 - val_loss: 0.5851 - val_accuracy: 0.6903\n",
            "Epoch 96/350\n",
            "20/20 [==============================] - 0s 3ms/step - loss: 0.5733 - accuracy: 0.6870 - val_loss: 0.5842 - val_accuracy: 0.6940\n",
            "Epoch 97/350\n",
            "20/20 [==============================] - 0s 4ms/step - loss: 0.5724 - accuracy: 0.6854 - val_loss: 0.5836 - val_accuracy: 0.6903\n",
            "Epoch 98/350\n",
            "20/20 [==============================] - 0s 3ms/step - loss: 0.5721 - accuracy: 0.6886 - val_loss: 0.5832 - val_accuracy: 0.6940\n",
            "Epoch 99/350\n",
            "20/20 [==============================] - 0s 3ms/step - loss: 0.5714 - accuracy: 0.6822 - val_loss: 0.5823 - val_accuracy: 0.6940\n",
            "Epoch 100/350\n",
            "20/20 [==============================] - 0s 4ms/step - loss: 0.5705 - accuracy: 0.6870 - val_loss: 0.5832 - val_accuracy: 0.7015\n",
            "Epoch 101/350\n",
            "20/20 [==============================] - 0s 3ms/step - loss: 0.5701 - accuracy: 0.6918 - val_loss: 0.5824 - val_accuracy: 0.7015\n",
            "Epoch 102/350\n",
            "20/20 [==============================] - 0s 4ms/step - loss: 0.5697 - accuracy: 0.6870 - val_loss: 0.5813 - val_accuracy: 0.6940\n",
            "Epoch 103/350\n",
            "20/20 [==============================] - 0s 4ms/step - loss: 0.5687 - accuracy: 0.6870 - val_loss: 0.5805 - val_accuracy: 0.6940\n",
            "Epoch 104/350\n",
            "20/20 [==============================] - 0s 4ms/step - loss: 0.5686 - accuracy: 0.6886 - val_loss: 0.5800 - val_accuracy: 0.6940\n",
            "Epoch 105/350\n",
            "20/20 [==============================] - 0s 4ms/step - loss: 0.5674 - accuracy: 0.6870 - val_loss: 0.5789 - val_accuracy: 0.6978\n",
            "Epoch 106/350\n",
            "20/20 [==============================] - 0s 4ms/step - loss: 0.5669 - accuracy: 0.6918 - val_loss: 0.5788 - val_accuracy: 0.6940\n",
            "Epoch 107/350\n",
            "20/20 [==============================] - 0s 4ms/step - loss: 0.5666 - accuracy: 0.6886 - val_loss: 0.5785 - val_accuracy: 0.6940\n",
            "Epoch 108/350\n",
            "20/20 [==============================] - 0s 4ms/step - loss: 0.5657 - accuracy: 0.6854 - val_loss: 0.5776 - val_accuracy: 0.6940\n",
            "Epoch 109/350\n",
            "20/20 [==============================] - 0s 4ms/step - loss: 0.5649 - accuracy: 0.6902 - val_loss: 0.5764 - val_accuracy: 0.7015\n",
            "Epoch 110/350\n",
            "20/20 [==============================] - 0s 3ms/step - loss: 0.5644 - accuracy: 0.6918 - val_loss: 0.5758 - val_accuracy: 0.6978\n",
            "Epoch 111/350\n",
            "20/20 [==============================] - 0s 3ms/step - loss: 0.5633 - accuracy: 0.6918 - val_loss: 0.5761 - val_accuracy: 0.6978\n",
            "Epoch 112/350\n",
            "20/20 [==============================] - 0s 3ms/step - loss: 0.5631 - accuracy: 0.6998 - val_loss: 0.5749 - val_accuracy: 0.6978\n",
            "Epoch 113/350\n",
            "20/20 [==============================] - 0s 4ms/step - loss: 0.5619 - accuracy: 0.6998 - val_loss: 0.5740 - val_accuracy: 0.7090\n",
            "Epoch 114/350\n",
            "20/20 [==============================] - 0s 4ms/step - loss: 0.5616 - accuracy: 0.6998 - val_loss: 0.5731 - val_accuracy: 0.7015\n",
            "Epoch 115/350\n",
            "20/20 [==============================] - 0s 3ms/step - loss: 0.5615 - accuracy: 0.6950 - val_loss: 0.5725 - val_accuracy: 0.6978\n",
            "Epoch 116/350\n",
            "20/20 [==============================] - 0s 3ms/step - loss: 0.5607 - accuracy: 0.7030 - val_loss: 0.5721 - val_accuracy: 0.6978\n",
            "Epoch 117/350\n",
            "20/20 [==============================] - 0s 3ms/step - loss: 0.5596 - accuracy: 0.6982 - val_loss: 0.5716 - val_accuracy: 0.6978\n",
            "Epoch 118/350\n",
            "20/20 [==============================] - 0s 3ms/step - loss: 0.5584 - accuracy: 0.7030 - val_loss: 0.5705 - val_accuracy: 0.7090\n",
            "Epoch 119/350\n",
            "20/20 [==============================] - 0s 4ms/step - loss: 0.5587 - accuracy: 0.7030 - val_loss: 0.5696 - val_accuracy: 0.7052\n",
            "Epoch 120/350\n",
            "20/20 [==============================] - 0s 3ms/step - loss: 0.5577 - accuracy: 0.7047 - val_loss: 0.5696 - val_accuracy: 0.6978\n",
            "Epoch 121/350\n",
            "20/20 [==============================] - 0s 3ms/step - loss: 0.5570 - accuracy: 0.7063 - val_loss: 0.5698 - val_accuracy: 0.7090\n",
            "Epoch 122/350\n",
            "20/20 [==============================] - 0s 4ms/step - loss: 0.5564 - accuracy: 0.7014 - val_loss: 0.5679 - val_accuracy: 0.6978\n",
            "Epoch 123/350\n",
            "20/20 [==============================] - 0s 4ms/step - loss: 0.5553 - accuracy: 0.7095 - val_loss: 0.5672 - val_accuracy: 0.6978\n",
            "Epoch 124/350\n",
            "20/20 [==============================] - 0s 3ms/step - loss: 0.5544 - accuracy: 0.7143 - val_loss: 0.5664 - val_accuracy: 0.7015\n",
            "Epoch 125/350\n",
            "20/20 [==============================] - 0s 4ms/step - loss: 0.5539 - accuracy: 0.7047 - val_loss: 0.5661 - val_accuracy: 0.6978\n",
            "Epoch 126/350\n",
            "20/20 [==============================] - 0s 3ms/step - loss: 0.5534 - accuracy: 0.7079 - val_loss: 0.5652 - val_accuracy: 0.6978\n",
            "Epoch 127/350\n",
            "20/20 [==============================] - 0s 3ms/step - loss: 0.5526 - accuracy: 0.7063 - val_loss: 0.5640 - val_accuracy: 0.7052\n",
            "Epoch 128/350\n",
            "20/20 [==============================] - 0s 4ms/step - loss: 0.5515 - accuracy: 0.7030 - val_loss: 0.5659 - val_accuracy: 0.7127\n",
            "Epoch 129/350\n",
            "20/20 [==============================] - 0s 3ms/step - loss: 0.5510 - accuracy: 0.7063 - val_loss: 0.5630 - val_accuracy: 0.7015\n",
            "Epoch 130/350\n",
            "20/20 [==============================] - 0s 3ms/step - loss: 0.5489 - accuracy: 0.7047 - val_loss: 0.5655 - val_accuracy: 0.7127\n",
            "Epoch 131/350\n",
            "20/20 [==============================] - 0s 4ms/step - loss: 0.5500 - accuracy: 0.7095 - val_loss: 0.5626 - val_accuracy: 0.7015\n",
            "Epoch 132/350\n",
            "20/20 [==============================] - 0s 4ms/step - loss: 0.5486 - accuracy: 0.7127 - val_loss: 0.5613 - val_accuracy: 0.7052\n",
            "Epoch 133/350\n",
            "20/20 [==============================] - 0s 4ms/step - loss: 0.5483 - accuracy: 0.7095 - val_loss: 0.5612 - val_accuracy: 0.7052\n",
            "Epoch 134/350\n",
            "20/20 [==============================] - 0s 4ms/step - loss: 0.5472 - accuracy: 0.7111 - val_loss: 0.5601 - val_accuracy: 0.7052\n",
            "Epoch 135/350\n",
            "20/20 [==============================] - 0s 4ms/step - loss: 0.5466 - accuracy: 0.7095 - val_loss: 0.5588 - val_accuracy: 0.7164\n",
            "Epoch 136/350\n",
            "20/20 [==============================] - 0s 4ms/step - loss: 0.5460 - accuracy: 0.7143 - val_loss: 0.5590 - val_accuracy: 0.7090\n",
            "Epoch 137/350\n",
            "20/20 [==============================] - 0s 4ms/step - loss: 0.5444 - accuracy: 0.7175 - val_loss: 0.5577 - val_accuracy: 0.7164\n",
            "Epoch 138/350\n",
            "20/20 [==============================] - 0s 3ms/step - loss: 0.5448 - accuracy: 0.7111 - val_loss: 0.5572 - val_accuracy: 0.7201\n",
            "Epoch 139/350\n",
            "20/20 [==============================] - 0s 4ms/step - loss: 0.5438 - accuracy: 0.7127 - val_loss: 0.5572 - val_accuracy: 0.7090\n",
            "Epoch 140/350\n",
            "20/20 [==============================] - 0s 3ms/step - loss: 0.5425 - accuracy: 0.7127 - val_loss: 0.5559 - val_accuracy: 0.7201\n",
            "Epoch 141/350\n",
            "20/20 [==============================] - 0s 4ms/step - loss: 0.5421 - accuracy: 0.7127 - val_loss: 0.5549 - val_accuracy: 0.7239\n",
            "Epoch 142/350\n",
            "20/20 [==============================] - 0s 4ms/step - loss: 0.5413 - accuracy: 0.7175 - val_loss: 0.5543 - val_accuracy: 0.7239\n",
            "Epoch 143/350\n",
            "20/20 [==============================] - 0s 4ms/step - loss: 0.5400 - accuracy: 0.7143 - val_loss: 0.5536 - val_accuracy: 0.7201\n",
            "Epoch 144/350\n",
            "20/20 [==============================] - 0s 4ms/step - loss: 0.5392 - accuracy: 0.7143 - val_loss: 0.5525 - val_accuracy: 0.7239\n",
            "Epoch 145/350\n",
            "20/20 [==============================] - 0s 4ms/step - loss: 0.5380 - accuracy: 0.7223 - val_loss: 0.5530 - val_accuracy: 0.7276\n",
            "Epoch 146/350\n",
            "20/20 [==============================] - 0s 4ms/step - loss: 0.5371 - accuracy: 0.7271 - val_loss: 0.5509 - val_accuracy: 0.7201\n",
            "Epoch 147/350\n",
            "20/20 [==============================] - 0s 4ms/step - loss: 0.5367 - accuracy: 0.7239 - val_loss: 0.5500 - val_accuracy: 0.7201\n",
            "Epoch 148/350\n",
            "20/20 [==============================] - 0s 3ms/step - loss: 0.5358 - accuracy: 0.7175 - val_loss: 0.5492 - val_accuracy: 0.7239\n",
            "Epoch 149/350\n",
            "20/20 [==============================] - 0s 3ms/step - loss: 0.5350 - accuracy: 0.7239 - val_loss: 0.5484 - val_accuracy: 0.7201\n",
            "Epoch 150/350\n",
            "20/20 [==============================] - 0s 3ms/step - loss: 0.5341 - accuracy: 0.7191 - val_loss: 0.5488 - val_accuracy: 0.7313\n",
            "Epoch 151/350\n",
            "20/20 [==============================] - 0s 4ms/step - loss: 0.5328 - accuracy: 0.7223 - val_loss: 0.5469 - val_accuracy: 0.7201\n",
            "Epoch 152/350\n",
            "20/20 [==============================] - 0s 3ms/step - loss: 0.5325 - accuracy: 0.7207 - val_loss: 0.5470 - val_accuracy: 0.7276\n",
            "Epoch 153/350\n",
            "20/20 [==============================] - 0s 3ms/step - loss: 0.5316 - accuracy: 0.7255 - val_loss: 0.5455 - val_accuracy: 0.7201\n",
            "Epoch 154/350\n",
            "20/20 [==============================] - 0s 3ms/step - loss: 0.5303 - accuracy: 0.7191 - val_loss: 0.5458 - val_accuracy: 0.7313\n",
            "Epoch 155/350\n",
            "20/20 [==============================] - 0s 3ms/step - loss: 0.5300 - accuracy: 0.7255 - val_loss: 0.5443 - val_accuracy: 0.7201\n",
            "Epoch 156/350\n",
            "20/20 [==============================] - 0s 3ms/step - loss: 0.5287 - accuracy: 0.7239 - val_loss: 0.5457 - val_accuracy: 0.7313\n",
            "Epoch 157/350\n",
            "20/20 [==============================] - 0s 4ms/step - loss: 0.5283 - accuracy: 0.7239 - val_loss: 0.5440 - val_accuracy: 0.7276\n",
            "Epoch 158/350\n",
            "20/20 [==============================] - 0s 4ms/step - loss: 0.5275 - accuracy: 0.7303 - val_loss: 0.5418 - val_accuracy: 0.7201\n",
            "Epoch 159/350\n",
            "20/20 [==============================] - 0s 4ms/step - loss: 0.5262 - accuracy: 0.7239 - val_loss: 0.5417 - val_accuracy: 0.7276\n",
            "Epoch 160/350\n",
            "20/20 [==============================] - 0s 3ms/step - loss: 0.5253 - accuracy: 0.7303 - val_loss: 0.5425 - val_accuracy: 0.7313\n",
            "Epoch 161/350\n",
            "20/20 [==============================] - 0s 3ms/step - loss: 0.5234 - accuracy: 0.7319 - val_loss: 0.5398 - val_accuracy: 0.7276\n",
            "Epoch 162/350\n",
            "20/20 [==============================] - 0s 4ms/step - loss: 0.5235 - accuracy: 0.7335 - val_loss: 0.5390 - val_accuracy: 0.7201\n",
            "Epoch 163/350\n",
            "20/20 [==============================] - 0s 4ms/step - loss: 0.5223 - accuracy: 0.7239 - val_loss: 0.5391 - val_accuracy: 0.7276\n",
            "Epoch 164/350\n",
            "20/20 [==============================] - 0s 4ms/step - loss: 0.5225 - accuracy: 0.7335 - val_loss: 0.5374 - val_accuracy: 0.7276\n",
            "Epoch 165/350\n",
            "20/20 [==============================] - 0s 4ms/step - loss: 0.5211 - accuracy: 0.7368 - val_loss: 0.5368 - val_accuracy: 0.7351\n",
            "Epoch 166/350\n",
            "20/20 [==============================] - 0s 3ms/step - loss: 0.5204 - accuracy: 0.7223 - val_loss: 0.5362 - val_accuracy: 0.7276\n",
            "Epoch 167/350\n",
            "20/20 [==============================] - 0s 4ms/step - loss: 0.5196 - accuracy: 0.7335 - val_loss: 0.5362 - val_accuracy: 0.7239\n",
            "Epoch 168/350\n",
            "20/20 [==============================] - 0s 4ms/step - loss: 0.5181 - accuracy: 0.7368 - val_loss: 0.5347 - val_accuracy: 0.7313\n",
            "Epoch 169/350\n",
            "20/20 [==============================] - 0s 4ms/step - loss: 0.5176 - accuracy: 0.7255 - val_loss: 0.5340 - val_accuracy: 0.7313\n",
            "Epoch 170/350\n",
            "20/20 [==============================] - 0s 3ms/step - loss: 0.5165 - accuracy: 0.7303 - val_loss: 0.5343 - val_accuracy: 0.7351\n",
            "Epoch 171/350\n",
            "20/20 [==============================] - 0s 4ms/step - loss: 0.5154 - accuracy: 0.7335 - val_loss: 0.5324 - val_accuracy: 0.7313\n",
            "Epoch 172/350\n",
            "20/20 [==============================] - 0s 4ms/step - loss: 0.5146 - accuracy: 0.7287 - val_loss: 0.5335 - val_accuracy: 0.7388\n",
            "Epoch 173/350\n",
            "20/20 [==============================] - 0s 3ms/step - loss: 0.5135 - accuracy: 0.7416 - val_loss: 0.5316 - val_accuracy: 0.7313\n",
            "Epoch 174/350\n",
            "20/20 [==============================] - 0s 3ms/step - loss: 0.5140 - accuracy: 0.7303 - val_loss: 0.5309 - val_accuracy: 0.7351\n",
            "Epoch 175/350\n",
            "20/20 [==============================] - 0s 4ms/step - loss: 0.5125 - accuracy: 0.7432 - val_loss: 0.5301 - val_accuracy: 0.7313\n",
            "Epoch 176/350\n",
            "20/20 [==============================] - 0s 3ms/step - loss: 0.5116 - accuracy: 0.7352 - val_loss: 0.5299 - val_accuracy: 0.7351\n",
            "Epoch 177/350\n",
            "20/20 [==============================] - 0s 4ms/step - loss: 0.5114 - accuracy: 0.7287 - val_loss: 0.5294 - val_accuracy: 0.7388\n",
            "Epoch 178/350\n",
            "20/20 [==============================] - 0s 4ms/step - loss: 0.5108 - accuracy: 0.7416 - val_loss: 0.5283 - val_accuracy: 0.7313\n",
            "Epoch 179/350\n",
            "20/20 [==============================] - 0s 4ms/step - loss: 0.5099 - accuracy: 0.7255 - val_loss: 0.5278 - val_accuracy: 0.7351\n",
            "Epoch 180/350\n",
            "20/20 [==============================] - 0s 3ms/step - loss: 0.5078 - accuracy: 0.7303 - val_loss: 0.5313 - val_accuracy: 0.7351\n",
            "Epoch 181/350\n",
            "20/20 [==============================] - 0s 3ms/step - loss: 0.5085 - accuracy: 0.7352 - val_loss: 0.5282 - val_accuracy: 0.7425\n",
            "Epoch 182/350\n",
            "20/20 [==============================] - 0s 4ms/step - loss: 0.5077 - accuracy: 0.7319 - val_loss: 0.5261 - val_accuracy: 0.7351\n",
            "Epoch 183/350\n",
            "20/20 [==============================] - 0s 4ms/step - loss: 0.5056 - accuracy: 0.7384 - val_loss: 0.5267 - val_accuracy: 0.7425\n",
            "Epoch 184/350\n",
            "20/20 [==============================] - 0s 4ms/step - loss: 0.5057 - accuracy: 0.7448 - val_loss: 0.5247 - val_accuracy: 0.7351\n",
            "Epoch 185/350\n",
            "20/20 [==============================] - 0s 3ms/step - loss: 0.5052 - accuracy: 0.7416 - val_loss: 0.5257 - val_accuracy: 0.7425\n",
            "Epoch 186/350\n",
            "20/20 [==============================] - 0s 4ms/step - loss: 0.5038 - accuracy: 0.7400 - val_loss: 0.5265 - val_accuracy: 0.7388\n",
            "Epoch 187/350\n",
            "20/20 [==============================] - 0s 3ms/step - loss: 0.5022 - accuracy: 0.7368 - val_loss: 0.5235 - val_accuracy: 0.7425\n",
            "Epoch 188/350\n",
            "20/20 [==============================] - 0s 4ms/step - loss: 0.5023 - accuracy: 0.7416 - val_loss: 0.5226 - val_accuracy: 0.7388\n",
            "Epoch 189/350\n",
            "20/20 [==============================] - 0s 4ms/step - loss: 0.5008 - accuracy: 0.7352 - val_loss: 0.5220 - val_accuracy: 0.7388\n",
            "Epoch 190/350\n",
            "20/20 [==============================] - 0s 4ms/step - loss: 0.5001 - accuracy: 0.7319 - val_loss: 0.5252 - val_accuracy: 0.7463\n",
            "Epoch 191/350\n",
            "20/20 [==============================] - 0s 4ms/step - loss: 0.5000 - accuracy: 0.7400 - val_loss: 0.5232 - val_accuracy: 0.7463\n",
            "Epoch 192/350\n",
            "20/20 [==============================] - 0s 3ms/step - loss: 0.4992 - accuracy: 0.7480 - val_loss: 0.5209 - val_accuracy: 0.7463\n",
            "Epoch 193/350\n",
            "20/20 [==============================] - 0s 4ms/step - loss: 0.4982 - accuracy: 0.7448 - val_loss: 0.5197 - val_accuracy: 0.7537\n",
            "Epoch 194/350\n",
            "20/20 [==============================] - 0s 3ms/step - loss: 0.4972 - accuracy: 0.7512 - val_loss: 0.5188 - val_accuracy: 0.7575\n",
            "Epoch 195/350\n",
            "20/20 [==============================] - 0s 4ms/step - loss: 0.4969 - accuracy: 0.7400 - val_loss: 0.5182 - val_accuracy: 0.7575\n",
            "Epoch 196/350\n",
            "20/20 [==============================] - 0s 4ms/step - loss: 0.4960 - accuracy: 0.7528 - val_loss: 0.5182 - val_accuracy: 0.7500\n",
            "Epoch 197/350\n",
            "20/20 [==============================] - 0s 4ms/step - loss: 0.4944 - accuracy: 0.7528 - val_loss: 0.5171 - val_accuracy: 0.7612\n",
            "Epoch 198/350\n",
            "20/20 [==============================] - 0s 3ms/step - loss: 0.4956 - accuracy: 0.7528 - val_loss: 0.5165 - val_accuracy: 0.7612\n",
            "Epoch 199/350\n",
            "20/20 [==============================] - 0s 4ms/step - loss: 0.4929 - accuracy: 0.7496 - val_loss: 0.5159 - val_accuracy: 0.7612\n",
            "Epoch 200/350\n",
            "20/20 [==============================] - 0s 4ms/step - loss: 0.4933 - accuracy: 0.7512 - val_loss: 0.5178 - val_accuracy: 0.7500\n",
            "Epoch 201/350\n",
            "20/20 [==============================] - 0s 4ms/step - loss: 0.4921 - accuracy: 0.7480 - val_loss: 0.5151 - val_accuracy: 0.7575\n",
            "Epoch 202/350\n",
            "20/20 [==============================] - 0s 4ms/step - loss: 0.4907 - accuracy: 0.7560 - val_loss: 0.5150 - val_accuracy: 0.7612\n",
            "Epoch 203/350\n",
            "20/20 [==============================] - 0s 4ms/step - loss: 0.4914 - accuracy: 0.7448 - val_loss: 0.5138 - val_accuracy: 0.7649\n",
            "Epoch 204/350\n",
            "20/20 [==============================] - 0s 4ms/step - loss: 0.4894 - accuracy: 0.7416 - val_loss: 0.5134 - val_accuracy: 0.7612\n",
            "Epoch 205/350\n",
            "20/20 [==============================] - 0s 4ms/step - loss: 0.4890 - accuracy: 0.7544 - val_loss: 0.5128 - val_accuracy: 0.7612\n",
            "Epoch 206/350\n",
            "20/20 [==============================] - 0s 3ms/step - loss: 0.4881 - accuracy: 0.7528 - val_loss: 0.5123 - val_accuracy: 0.7724\n",
            "Epoch 207/350\n",
            "20/20 [==============================] - 0s 4ms/step - loss: 0.4873 - accuracy: 0.7544 - val_loss: 0.5117 - val_accuracy: 0.7612\n",
            "Epoch 208/350\n",
            "20/20 [==============================] - 0s 4ms/step - loss: 0.4879 - accuracy: 0.7560 - val_loss: 0.5120 - val_accuracy: 0.7649\n",
            "Epoch 209/350\n",
            "20/20 [==============================] - 0s 4ms/step - loss: 0.4860 - accuracy: 0.7528 - val_loss: 0.5134 - val_accuracy: 0.7537\n",
            "Epoch 210/350\n",
            "20/20 [==============================] - 0s 3ms/step - loss: 0.4854 - accuracy: 0.7560 - val_loss: 0.5106 - val_accuracy: 0.7724\n",
            "Epoch 211/350\n",
            "20/20 [==============================] - 0s 4ms/step - loss: 0.4846 - accuracy: 0.7560 - val_loss: 0.5096 - val_accuracy: 0.7649\n",
            "Epoch 212/350\n",
            "20/20 [==============================] - 0s 4ms/step - loss: 0.4850 - accuracy: 0.7640 - val_loss: 0.5088 - val_accuracy: 0.7761\n",
            "Epoch 213/350\n",
            "20/20 [==============================] - 0s 3ms/step - loss: 0.4837 - accuracy: 0.7624 - val_loss: 0.5094 - val_accuracy: 0.7761\n",
            "Epoch 214/350\n",
            "20/20 [==============================] - 0s 4ms/step - loss: 0.4826 - accuracy: 0.7608 - val_loss: 0.5089 - val_accuracy: 0.7761\n",
            "Epoch 215/350\n",
            "20/20 [==============================] - 0s 4ms/step - loss: 0.4820 - accuracy: 0.7673 - val_loss: 0.5082 - val_accuracy: 0.7687\n",
            "Epoch 216/350\n",
            "20/20 [==============================] - 0s 4ms/step - loss: 0.4822 - accuracy: 0.7528 - val_loss: 0.5080 - val_accuracy: 0.7724\n",
            "Epoch 217/350\n",
            "20/20 [==============================] - 0s 3ms/step - loss: 0.4813 - accuracy: 0.7689 - val_loss: 0.5077 - val_accuracy: 0.7724\n",
            "Epoch 218/350\n",
            "20/20 [==============================] - 0s 3ms/step - loss: 0.4803 - accuracy: 0.7608 - val_loss: 0.5076 - val_accuracy: 0.7761\n",
            "Epoch 219/350\n",
            "20/20 [==============================] - 0s 3ms/step - loss: 0.4791 - accuracy: 0.7592 - val_loss: 0.5076 - val_accuracy: 0.7724\n",
            "Epoch 220/350\n",
            "20/20 [==============================] - 0s 4ms/step - loss: 0.4793 - accuracy: 0.7576 - val_loss: 0.5066 - val_accuracy: 0.7761\n",
            "Epoch 221/350\n",
            "20/20 [==============================] - 0s 4ms/step - loss: 0.4782 - accuracy: 0.7640 - val_loss: 0.5055 - val_accuracy: 0.7649\n",
            "Epoch 222/350\n",
            "20/20 [==============================] - 0s 3ms/step - loss: 0.4784 - accuracy: 0.7592 - val_loss: 0.5050 - val_accuracy: 0.7649\n",
            "Epoch 223/350\n",
            "20/20 [==============================] - 0s 4ms/step - loss: 0.4775 - accuracy: 0.7560 - val_loss: 0.5072 - val_accuracy: 0.7687\n",
            "Epoch 224/350\n",
            "20/20 [==============================] - 0s 4ms/step - loss: 0.4764 - accuracy: 0.7673 - val_loss: 0.5058 - val_accuracy: 0.7724\n",
            "Epoch 225/350\n",
            "20/20 [==============================] - 0s 4ms/step - loss: 0.4763 - accuracy: 0.7737 - val_loss: 0.5075 - val_accuracy: 0.7649\n",
            "Epoch 226/350\n",
            "20/20 [==============================] - 0s 4ms/step - loss: 0.4754 - accuracy: 0.7673 - val_loss: 0.5042 - val_accuracy: 0.7612\n",
            "Epoch 227/350\n",
            "20/20 [==============================] - 0s 4ms/step - loss: 0.4747 - accuracy: 0.7753 - val_loss: 0.5041 - val_accuracy: 0.7724\n",
            "Epoch 228/350\n",
            "20/20 [==============================] - 0s 4ms/step - loss: 0.4746 - accuracy: 0.7673 - val_loss: 0.5039 - val_accuracy: 0.7724\n",
            "Epoch 229/350\n",
            "20/20 [==============================] - 0s 3ms/step - loss: 0.4735 - accuracy: 0.7737 - val_loss: 0.5064 - val_accuracy: 0.7687\n",
            "Epoch 230/350\n",
            "20/20 [==============================] - 0s 4ms/step - loss: 0.4724 - accuracy: 0.7657 - val_loss: 0.5022 - val_accuracy: 0.7724\n",
            "Epoch 231/350\n",
            "20/20 [==============================] - 0s 4ms/step - loss: 0.4720 - accuracy: 0.7689 - val_loss: 0.5017 - val_accuracy: 0.7649\n",
            "Epoch 232/350\n",
            "20/20 [==============================] - 0s 4ms/step - loss: 0.4722 - accuracy: 0.7769 - val_loss: 0.5014 - val_accuracy: 0.7724\n",
            "Epoch 233/350\n",
            "20/20 [==============================] - 0s 4ms/step - loss: 0.4713 - accuracy: 0.7721 - val_loss: 0.5011 - val_accuracy: 0.7761\n",
            "Epoch 234/350\n",
            "20/20 [==============================] - 0s 4ms/step - loss: 0.4711 - accuracy: 0.7657 - val_loss: 0.5008 - val_accuracy: 0.7687\n",
            "Epoch 235/350\n",
            "20/20 [==============================] - 0s 3ms/step - loss: 0.4702 - accuracy: 0.7849 - val_loss: 0.5014 - val_accuracy: 0.7761\n",
            "Epoch 236/350\n",
            "20/20 [==============================] - 0s 4ms/step - loss: 0.4709 - accuracy: 0.7689 - val_loss: 0.5010 - val_accuracy: 0.7799\n",
            "Epoch 237/350\n",
            "20/20 [==============================] - 0s 4ms/step - loss: 0.4710 - accuracy: 0.7705 - val_loss: 0.5005 - val_accuracy: 0.7724\n",
            "Epoch 238/350\n",
            "20/20 [==============================] - 0s 4ms/step - loss: 0.4685 - accuracy: 0.7721 - val_loss: 0.5000 - val_accuracy: 0.7687\n",
            "Epoch 239/350\n",
            "20/20 [==============================] - 0s 3ms/step - loss: 0.4676 - accuracy: 0.7833 - val_loss: 0.5005 - val_accuracy: 0.7799\n",
            "Epoch 240/350\n",
            "20/20 [==============================] - 0s 3ms/step - loss: 0.4686 - accuracy: 0.7833 - val_loss: 0.4996 - val_accuracy: 0.7687\n",
            "Epoch 241/350\n",
            "20/20 [==============================] - 0s 3ms/step - loss: 0.4677 - accuracy: 0.7753 - val_loss: 0.4997 - val_accuracy: 0.7724\n",
            "Epoch 242/350\n",
            "20/20 [==============================] - 0s 3ms/step - loss: 0.4665 - accuracy: 0.7705 - val_loss: 0.5006 - val_accuracy: 0.7761\n",
            "Epoch 243/350\n",
            "20/20 [==============================] - 0s 4ms/step - loss: 0.4667 - accuracy: 0.7865 - val_loss: 0.4988 - val_accuracy: 0.7687\n",
            "Epoch 244/350\n",
            "20/20 [==============================] - 0s 4ms/step - loss: 0.4663 - accuracy: 0.7721 - val_loss: 0.4990 - val_accuracy: 0.7687\n",
            "Epoch 245/350\n",
            "20/20 [==============================] - 0s 4ms/step - loss: 0.4640 - accuracy: 0.7849 - val_loss: 0.5027 - val_accuracy: 0.7687\n",
            "Epoch 246/350\n",
            "20/20 [==============================] - 0s 3ms/step - loss: 0.4651 - accuracy: 0.7721 - val_loss: 0.4986 - val_accuracy: 0.7761\n",
            "Epoch 247/350\n",
            "20/20 [==============================] - 0s 4ms/step - loss: 0.4635 - accuracy: 0.7785 - val_loss: 0.5000 - val_accuracy: 0.7724\n",
            "Epoch 248/350\n",
            "20/20 [==============================] - 0s 4ms/step - loss: 0.4647 - accuracy: 0.7737 - val_loss: 0.4980 - val_accuracy: 0.7724\n",
            "Epoch 249/350\n",
            "20/20 [==============================] - 0s 4ms/step - loss: 0.4631 - accuracy: 0.7769 - val_loss: 0.4975 - val_accuracy: 0.7724\n",
            "Epoch 250/350\n",
            "20/20 [==============================] - 0s 4ms/step - loss: 0.4619 - accuracy: 0.7833 - val_loss: 0.4976 - val_accuracy: 0.7687\n",
            "Epoch 251/350\n",
            "20/20 [==============================] - 0s 3ms/step - loss: 0.4611 - accuracy: 0.7801 - val_loss: 0.5002 - val_accuracy: 0.7761\n",
            "Epoch 252/350\n",
            "20/20 [==============================] - 0s 4ms/step - loss: 0.4619 - accuracy: 0.7865 - val_loss: 0.4981 - val_accuracy: 0.7537\n",
            "Epoch 253/350\n",
            "20/20 [==============================] - 0s 4ms/step - loss: 0.4619 - accuracy: 0.7833 - val_loss: 0.4972 - val_accuracy: 0.7612\n",
            "Epoch 254/350\n",
            "20/20 [==============================] - 0s 3ms/step - loss: 0.4615 - accuracy: 0.7833 - val_loss: 0.4965 - val_accuracy: 0.7724\n",
            "Epoch 255/350\n",
            "20/20 [==============================] - 0s 4ms/step - loss: 0.4597 - accuracy: 0.7833 - val_loss: 0.4983 - val_accuracy: 0.7649\n",
            "Epoch 256/350\n",
            "20/20 [==============================] - 0s 4ms/step - loss: 0.4596 - accuracy: 0.7881 - val_loss: 0.4976 - val_accuracy: 0.7649\n",
            "Epoch 257/350\n",
            "20/20 [==============================] - 0s 4ms/step - loss: 0.4607 - accuracy: 0.7817 - val_loss: 0.4970 - val_accuracy: 0.7687\n",
            "Epoch 258/350\n",
            "20/20 [==============================] - 0s 5ms/step - loss: 0.4604 - accuracy: 0.7897 - val_loss: 0.4966 - val_accuracy: 0.7687\n",
            "Epoch 259/350\n",
            "20/20 [==============================] - 0s 4ms/step - loss: 0.4596 - accuracy: 0.7785 - val_loss: 0.4956 - val_accuracy: 0.7687\n",
            "Epoch 260/350\n",
            "20/20 [==============================] - 0s 4ms/step - loss: 0.4585 - accuracy: 0.7881 - val_loss: 0.4956 - val_accuracy: 0.7687\n",
            "Epoch 261/350\n",
            "20/20 [==============================] - 0s 4ms/step - loss: 0.4576 - accuracy: 0.8042 - val_loss: 0.4977 - val_accuracy: 0.7649\n",
            "Epoch 262/350\n",
            "20/20 [==============================] - 0s 4ms/step - loss: 0.4581 - accuracy: 0.7897 - val_loss: 0.4952 - val_accuracy: 0.7687\n",
            "Epoch 263/350\n",
            "20/20 [==============================] - 0s 4ms/step - loss: 0.4562 - accuracy: 0.7929 - val_loss: 0.4977 - val_accuracy: 0.7575\n",
            "Epoch 264/350\n",
            "20/20 [==============================] - 0s 4ms/step - loss: 0.4581 - accuracy: 0.7929 - val_loss: 0.4955 - val_accuracy: 0.7687\n",
            "Epoch 265/350\n",
            "20/20 [==============================] - 0s 3ms/step - loss: 0.4570 - accuracy: 0.7865 - val_loss: 0.4954 - val_accuracy: 0.7724\n",
            "Epoch 266/350\n",
            "20/20 [==============================] - 0s 3ms/step - loss: 0.4543 - accuracy: 0.7849 - val_loss: 0.4988 - val_accuracy: 0.7649\n",
            "Epoch 267/350\n",
            "20/20 [==============================] - 0s 4ms/step - loss: 0.4567 - accuracy: 0.7897 - val_loss: 0.4974 - val_accuracy: 0.7649\n",
            "Epoch 268/350\n",
            "20/20 [==============================] - 0s 5ms/step - loss: 0.4547 - accuracy: 0.7849 - val_loss: 0.4941 - val_accuracy: 0.7724\n",
            "Epoch 269/350\n",
            "20/20 [==============================] - 0s 4ms/step - loss: 0.4551 - accuracy: 0.7945 - val_loss: 0.4944 - val_accuracy: 0.7724\n",
            "Epoch 270/350\n",
            "20/20 [==============================] - 0s 4ms/step - loss: 0.4540 - accuracy: 0.7978 - val_loss: 0.4937 - val_accuracy: 0.7649\n",
            "Epoch 271/350\n",
            "20/20 [==============================] - 0s 4ms/step - loss: 0.4539 - accuracy: 0.7945 - val_loss: 0.4937 - val_accuracy: 0.7649\n",
            "Epoch 272/350\n",
            "20/20 [==============================] - 0s 4ms/step - loss: 0.4534 - accuracy: 0.7849 - val_loss: 0.4939 - val_accuracy: 0.7724\n",
            "Epoch 273/350\n",
            "20/20 [==============================] - 0s 3ms/step - loss: 0.4537 - accuracy: 0.7929 - val_loss: 0.4938 - val_accuracy: 0.7724\n",
            "Epoch 274/350\n",
            "20/20 [==============================] - 0s 4ms/step - loss: 0.4534 - accuracy: 0.7897 - val_loss: 0.4960 - val_accuracy: 0.7687\n",
            "Epoch 275/350\n",
            "20/20 [==============================] - 0s 4ms/step - loss: 0.4532 - accuracy: 0.7913 - val_loss: 0.4935 - val_accuracy: 0.7649\n",
            "Epoch 276/350\n",
            "20/20 [==============================] - 0s 4ms/step - loss: 0.4516 - accuracy: 0.7961 - val_loss: 0.4968 - val_accuracy: 0.7687\n",
            "Epoch 277/350\n",
            "20/20 [==============================] - 0s 3ms/step - loss: 0.4519 - accuracy: 0.7945 - val_loss: 0.4940 - val_accuracy: 0.7724\n",
            "Epoch 278/350\n",
            "20/20 [==============================] - 0s 4ms/step - loss: 0.4513 - accuracy: 0.7978 - val_loss: 0.4933 - val_accuracy: 0.7649\n",
            "Epoch 279/350\n",
            "20/20 [==============================] - 0s 4ms/step - loss: 0.4512 - accuracy: 0.7897 - val_loss: 0.4935 - val_accuracy: 0.7649\n",
            "Epoch 280/350\n",
            "20/20 [==============================] - 0s 4ms/step - loss: 0.4510 - accuracy: 0.7913 - val_loss: 0.4954 - val_accuracy: 0.7649\n",
            "Epoch 281/350\n",
            "20/20 [==============================] - 0s 4ms/step - loss: 0.4509 - accuracy: 0.7945 - val_loss: 0.4955 - val_accuracy: 0.7649\n",
            "Epoch 282/350\n",
            "20/20 [==============================] - 0s 4ms/step - loss: 0.4513 - accuracy: 0.7929 - val_loss: 0.4942 - val_accuracy: 0.7649\n",
            "Epoch 283/350\n",
            "20/20 [==============================] - 0s 3ms/step - loss: 0.4497 - accuracy: 0.7961 - val_loss: 0.4971 - val_accuracy: 0.7687\n",
            "Epoch 284/350\n",
            "20/20 [==============================] - 0s 4ms/step - loss: 0.4501 - accuracy: 0.7849 - val_loss: 0.4939 - val_accuracy: 0.7612\n",
            "Epoch 285/350\n",
            "20/20 [==============================] - 0s 4ms/step - loss: 0.4510 - accuracy: 0.7978 - val_loss: 0.4931 - val_accuracy: 0.7649\n",
            "Epoch 286/350\n",
            "20/20 [==============================] - 0s 3ms/step - loss: 0.4498 - accuracy: 0.7994 - val_loss: 0.4937 - val_accuracy: 0.7649\n",
            "Epoch 287/350\n",
            "20/20 [==============================] - 0s 4ms/step - loss: 0.4489 - accuracy: 0.7994 - val_loss: 0.4933 - val_accuracy: 0.7575\n",
            "Epoch 288/350\n",
            "20/20 [==============================] - 0s 4ms/step - loss: 0.4490 - accuracy: 0.8026 - val_loss: 0.4942 - val_accuracy: 0.7612\n",
            "Epoch 289/350\n",
            "20/20 [==============================] - 0s 3ms/step - loss: 0.4489 - accuracy: 0.7961 - val_loss: 0.4933 - val_accuracy: 0.7649\n",
            "Epoch 290/350\n",
            "20/20 [==============================] - 0s 4ms/step - loss: 0.4491 - accuracy: 0.7994 - val_loss: 0.4933 - val_accuracy: 0.7649\n",
            "Epoch 291/350\n",
            "20/20 [==============================] - 0s 4ms/step - loss: 0.4492 - accuracy: 0.7945 - val_loss: 0.4930 - val_accuracy: 0.7649\n",
            "Epoch 292/350\n",
            "20/20 [==============================] - 0s 5ms/step - loss: 0.4475 - accuracy: 0.7961 - val_loss: 0.4938 - val_accuracy: 0.7612\n",
            "Epoch 293/350\n",
            "20/20 [==============================] - 0s 4ms/step - loss: 0.4475 - accuracy: 0.7897 - val_loss: 0.4934 - val_accuracy: 0.7649\n",
            "Epoch 294/350\n",
            "20/20 [==============================] - 0s 4ms/step - loss: 0.4474 - accuracy: 0.7865 - val_loss: 0.4949 - val_accuracy: 0.7612\n",
            "Epoch 295/350\n",
            "20/20 [==============================] - 0s 4ms/step - loss: 0.4481 - accuracy: 0.7897 - val_loss: 0.4932 - val_accuracy: 0.7649\n",
            "Epoch 296/350\n",
            "20/20 [==============================] - 0s 5ms/step - loss: 0.4469 - accuracy: 0.7961 - val_loss: 0.4926 - val_accuracy: 0.7649\n",
            "Epoch 297/350\n",
            "20/20 [==============================] - 0s 4ms/step - loss: 0.4482 - accuracy: 0.7929 - val_loss: 0.4926 - val_accuracy: 0.7649\n",
            "Epoch 298/350\n",
            "20/20 [==============================] - 0s 4ms/step - loss: 0.4461 - accuracy: 0.7978 - val_loss: 0.4926 - val_accuracy: 0.7649\n",
            "Epoch 299/350\n",
            "20/20 [==============================] - 0s 4ms/step - loss: 0.4455 - accuracy: 0.7978 - val_loss: 0.4923 - val_accuracy: 0.7649\n",
            "Epoch 300/350\n",
            "20/20 [==============================] - 0s 4ms/step - loss: 0.4456 - accuracy: 0.8010 - val_loss: 0.4922 - val_accuracy: 0.7612\n",
            "Epoch 301/350\n",
            "20/20 [==============================] - 0s 4ms/step - loss: 0.4464 - accuracy: 0.7978 - val_loss: 0.4925 - val_accuracy: 0.7612\n",
            "Epoch 302/350\n",
            "20/20 [==============================] - 0s 4ms/step - loss: 0.4443 - accuracy: 0.7978 - val_loss: 0.4960 - val_accuracy: 0.7649\n",
            "Epoch 303/350\n",
            "20/20 [==============================] - 0s 4ms/step - loss: 0.4464 - accuracy: 0.7978 - val_loss: 0.4925 - val_accuracy: 0.7612\n",
            "Epoch 304/350\n",
            "20/20 [==============================] - 0s 4ms/step - loss: 0.4449 - accuracy: 0.7961 - val_loss: 0.4922 - val_accuracy: 0.7612\n",
            "Epoch 305/350\n",
            "20/20 [==============================] - 0s 4ms/step - loss: 0.4440 - accuracy: 0.8010 - val_loss: 0.4941 - val_accuracy: 0.7649\n",
            "Epoch 306/350\n",
            "20/20 [==============================] - 0s 4ms/step - loss: 0.4465 - accuracy: 0.7913 - val_loss: 0.4924 - val_accuracy: 0.7612\n",
            "Epoch 307/350\n",
            "20/20 [==============================] - 0s 4ms/step - loss: 0.4442 - accuracy: 0.7994 - val_loss: 0.4931 - val_accuracy: 0.7649\n",
            "Epoch 308/350\n",
            "20/20 [==============================] - 0s 4ms/step - loss: 0.4459 - accuracy: 0.7978 - val_loss: 0.4927 - val_accuracy: 0.7649\n",
            "Epoch 309/350\n",
            "20/20 [==============================] - 0s 4ms/step - loss: 0.4436 - accuracy: 0.7945 - val_loss: 0.4929 - val_accuracy: 0.7612\n",
            "Epoch 310/350\n",
            "20/20 [==============================] - 0s 4ms/step - loss: 0.4441 - accuracy: 0.7961 - val_loss: 0.4931 - val_accuracy: 0.7612\n",
            "Epoch 311/350\n",
            "20/20 [==============================] - 0s 4ms/step - loss: 0.4442 - accuracy: 0.7945 - val_loss: 0.4936 - val_accuracy: 0.7612\n",
            "Epoch 312/350\n",
            "20/20 [==============================] - 0s 4ms/step - loss: 0.4436 - accuracy: 0.7945 - val_loss: 0.4932 - val_accuracy: 0.7612\n",
            "Epoch 313/350\n",
            "20/20 [==============================] - 0s 3ms/step - loss: 0.4450 - accuracy: 0.7929 - val_loss: 0.4929 - val_accuracy: 0.7649\n",
            "Epoch 314/350\n",
            "20/20 [==============================] - 0s 4ms/step - loss: 0.4423 - accuracy: 0.7961 - val_loss: 0.4928 - val_accuracy: 0.7612\n",
            "Epoch 315/350\n",
            "20/20 [==============================] - 0s 4ms/step - loss: 0.4431 - accuracy: 0.8010 - val_loss: 0.4952 - val_accuracy: 0.7649\n",
            "Epoch 316/350\n",
            "20/20 [==============================] - 0s 4ms/step - loss: 0.4431 - accuracy: 0.7913 - val_loss: 0.4935 - val_accuracy: 0.7649\n",
            "Epoch 317/350\n",
            "20/20 [==============================] - 0s 3ms/step - loss: 0.4427 - accuracy: 0.7961 - val_loss: 0.4953 - val_accuracy: 0.7649\n",
            "Epoch 318/350\n",
            "20/20 [==============================] - 0s 4ms/step - loss: 0.4425 - accuracy: 0.7978 - val_loss: 0.4929 - val_accuracy: 0.7612\n",
            "Epoch 319/350\n",
            "20/20 [==============================] - 0s 4ms/step - loss: 0.4436 - accuracy: 0.7929 - val_loss: 0.4948 - val_accuracy: 0.7724\n",
            "Epoch 320/350\n",
            "20/20 [==============================] - 0s 4ms/step - loss: 0.4426 - accuracy: 0.7978 - val_loss: 0.4947 - val_accuracy: 0.7649\n",
            "Epoch 321/350\n",
            "20/20 [==============================] - 0s 4ms/step - loss: 0.4429 - accuracy: 0.8026 - val_loss: 0.4947 - val_accuracy: 0.7649\n",
            "Epoch 322/350\n",
            "20/20 [==============================] - 0s 4ms/step - loss: 0.4412 - accuracy: 0.8010 - val_loss: 0.4965 - val_accuracy: 0.7612\n",
            "Epoch 323/350\n",
            "20/20 [==============================] - 0s 4ms/step - loss: 0.4418 - accuracy: 0.7994 - val_loss: 0.4935 - val_accuracy: 0.7649\n",
            "Epoch 324/350\n",
            "20/20 [==============================] - 0s 4ms/step - loss: 0.4426 - accuracy: 0.7881 - val_loss: 0.4929 - val_accuracy: 0.7612\n",
            "Epoch 325/350\n",
            "20/20 [==============================] - 0s 4ms/step - loss: 0.4412 - accuracy: 0.7961 - val_loss: 0.4931 - val_accuracy: 0.7612\n",
            "Epoch 326/350\n",
            "20/20 [==============================] - 0s 4ms/step - loss: 0.4409 - accuracy: 0.7961 - val_loss: 0.4985 - val_accuracy: 0.7687\n",
            "Epoch 327/350\n",
            "20/20 [==============================] - 0s 4ms/step - loss: 0.4425 - accuracy: 0.7978 - val_loss: 0.4925 - val_accuracy: 0.7612\n",
            "Epoch 328/350\n",
            "20/20 [==============================] - 0s 4ms/step - loss: 0.4414 - accuracy: 0.7978 - val_loss: 0.4925 - val_accuracy: 0.7612\n",
            "Epoch 329/350\n",
            "20/20 [==============================] - 0s 3ms/step - loss: 0.4409 - accuracy: 0.7994 - val_loss: 0.4937 - val_accuracy: 0.7649\n",
            "Epoch 330/350\n",
            "20/20 [==============================] - 0s 4ms/step - loss: 0.4403 - accuracy: 0.7994 - val_loss: 0.4925 - val_accuracy: 0.7612\n",
            "Epoch 331/350\n",
            "20/20 [==============================] - 0s 4ms/step - loss: 0.4401 - accuracy: 0.7945 - val_loss: 0.4935 - val_accuracy: 0.7649\n",
            "Epoch 332/350\n",
            "20/20 [==============================] - 0s 3ms/step - loss: 0.4413 - accuracy: 0.7978 - val_loss: 0.4924 - val_accuracy: 0.7612\n",
            "Epoch 333/350\n",
            "20/20 [==============================] - 0s 4ms/step - loss: 0.4405 - accuracy: 0.8010 - val_loss: 0.4920 - val_accuracy: 0.7612\n",
            "Epoch 334/350\n",
            "20/20 [==============================] - 0s 4ms/step - loss: 0.4409 - accuracy: 0.7961 - val_loss: 0.4923 - val_accuracy: 0.7612\n",
            "Epoch 335/350\n",
            "20/20 [==============================] - 0s 3ms/step - loss: 0.4394 - accuracy: 0.7961 - val_loss: 0.4924 - val_accuracy: 0.7649\n",
            "Epoch 336/350\n",
            "20/20 [==============================] - 0s 4ms/step - loss: 0.4402 - accuracy: 0.7961 - val_loss: 0.4926 - val_accuracy: 0.7612\n",
            "Epoch 337/350\n",
            "20/20 [==============================] - 0s 4ms/step - loss: 0.4392 - accuracy: 0.7945 - val_loss: 0.4930 - val_accuracy: 0.7649\n",
            "Epoch 338/350\n",
            "20/20 [==============================] - 0s 4ms/step - loss: 0.4394 - accuracy: 0.7961 - val_loss: 0.4943 - val_accuracy: 0.7612\n",
            "Epoch 339/350\n",
            "20/20 [==============================] - 0s 4ms/step - loss: 0.4395 - accuracy: 0.7929 - val_loss: 0.4922 - val_accuracy: 0.7612\n",
            "Epoch 340/350\n",
            "20/20 [==============================] - 0s 3ms/step - loss: 0.4397 - accuracy: 0.7961 - val_loss: 0.4941 - val_accuracy: 0.7649\n",
            "Epoch 341/350\n",
            "20/20 [==============================] - 0s 4ms/step - loss: 0.4402 - accuracy: 0.7994 - val_loss: 0.4923 - val_accuracy: 0.7612\n",
            "Epoch 342/350\n",
            "20/20 [==============================] - 0s 4ms/step - loss: 0.4389 - accuracy: 0.7961 - val_loss: 0.4918 - val_accuracy: 0.7612\n",
            "Epoch 343/350\n",
            "20/20 [==============================] - 0s 3ms/step - loss: 0.4391 - accuracy: 0.7961 - val_loss: 0.4931 - val_accuracy: 0.7612\n",
            "Epoch 344/350\n",
            "20/20 [==============================] - 0s 3ms/step - loss: 0.4390 - accuracy: 0.7978 - val_loss: 0.4931 - val_accuracy: 0.7649\n",
            "Epoch 345/350\n",
            "20/20 [==============================] - 0s 4ms/step - loss: 0.4393 - accuracy: 0.7978 - val_loss: 0.4944 - val_accuracy: 0.7649\n",
            "Epoch 346/350\n",
            "20/20 [==============================] - 0s 4ms/step - loss: 0.4385 - accuracy: 0.7978 - val_loss: 0.4928 - val_accuracy: 0.7612\n",
            "Epoch 347/350\n",
            "20/20 [==============================] - 0s 3ms/step - loss: 0.4387 - accuracy: 0.7994 - val_loss: 0.4929 - val_accuracy: 0.7612\n",
            "Epoch 348/350\n",
            "20/20 [==============================] - 0s 3ms/step - loss: 0.4367 - accuracy: 0.7994 - val_loss: 0.4948 - val_accuracy: 0.7575\n",
            "Epoch 349/350\n",
            "20/20 [==============================] - 0s 4ms/step - loss: 0.4375 - accuracy: 0.7945 - val_loss: 0.4965 - val_accuracy: 0.7649\n",
            "Epoch 350/350\n",
            "20/20 [==============================] - 0s 4ms/step - loss: 0.4381 - accuracy: 0.7961 - val_loss: 0.4934 - val_accuracy: 0.7649\n"
          ]
        }
      ]
    },
    {
      "cell_type": "code",
      "source": [
        "import matplotlib.pyplot as plt"
      ],
      "metadata": {
        "id": "HM0TQnzuT94E"
      },
      "execution_count": 107,
      "outputs": []
    },
    {
      "cell_type": "code",
      "source": [
        "chart_epochs = range(1, epochs + 1)\n",
        "\n",
        "plt.plot(chart_epochs, run_history.history['accuracy'], label=\"Training Accuracy\")\n",
        "plt.plot(chart_epochs, run_history.history['val_accuracy'], label=\"Validation Accuracy\")\n",
        "plt.legend()\n",
        "\n",
        "plt.figure()\n",
        "plt.plot(chart_epochs, run_history.history['loss'], label=\"Training Loss\")\n",
        "plt.plot(chart_epochs, run_history.history['val_loss'], label=\"Validation Loss\")\n",
        "plt.legend()\n",
        "\n",
        "plt.show()"
      ],
      "metadata": {
        "id": "O8aAtuEgUBZR",
        "outputId": "552100b4-73d4-47fa-cfd8-735295420107",
        "colab": {
          "base_uri": "https://localhost:8080/",
          "height": 533
        }
      },
      "execution_count": 111,
      "outputs": [
        {
          "output_type": "display_data",
          "data": {
            "text/plain": [
              "<Figure size 432x288 with 1 Axes>"
            ],
            "image/png": "[encoded data removed]"
          },
          "metadata": {
            "needs_background": "light"
          }
        },
        {
          "output_type": "display_data",
          "data": {
            "text/plain": [
              "<Figure size 432x288 with 1 Axes>"
            ],
            "image/png": "[encoded data removed]"
          },
          "metadata": {
            "needs_background": "light"
          }
        }
      ]
    }
  ]
}