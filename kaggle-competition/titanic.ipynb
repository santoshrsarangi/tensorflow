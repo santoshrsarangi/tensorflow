{
  "nbformat": 4,
  "nbformat_minor": 0,
  "metadata": {
    "colab": {
      "provenance": [],
      "authorship_tag": "ABX9TyNILbXSpN2BV5XnmgIzNNms",
      "include_colab_link": true
    },
    "kernelspec": {
      "name": "python3",
      "display_name": "Python 3"
    },
    "language_info": {
      "name": "python"
    }
  },
  "cells": [
    {
      "cell_type": "markdown",
      "metadata": {
        "id": "view-in-github",
        "colab_type": "text"
      },
      "source": [
        "<a href=\"https://colab.research.google.com/github/santoshrsarangi/tensorflow/blob/main/kaggle-competition/titanic.ipynb\" target=\"_parent\"><img src=\"https://colab.research.google.com/assets/colab-badge.svg\" alt=\"Open In Colab\"/></a>"
      ]
    },
    {
      "cell_type": "code",
      "execution_count": 1,
      "metadata": {
        "id": "8MFuTPzrHrFc",
        "colab": {
          "resources": {
            "http://localhost:8080/nbextensions/google.colab/files.js": {
              "data": "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",
              "ok": true,
              "headers": [
                [
                  "content-type",
                  "application/javascript"
                ]
              ],
              "status": 200,
              "status_text": ""
            }
          },
          "base_uri": "https://localhost:8080/",
          "height": 92
        },
        "outputId": "e1343449-0751-471e-d1c2-93159826234f"
      },
      "outputs": [
        {
          "output_type": "display_data",
          "data": {
            "text/plain": [
              "<IPython.core.display.HTML object>"
            ],
            "text/html": [
              "\n",
              "     <input type=\"file\" id=\"files-53f03ffa-715a-4e30-9125-9770b0caece0\" name=\"files[]\" multiple disabled\n",
              "        style=\"border:none\" />\n",
              "     <output id=\"result-53f03ffa-715a-4e30-9125-9770b0caece0\">\n",
              "      Upload widget is only available when the cell has been executed in the\n",
              "      current browser session. Please rerun this cell to enable.\n",
              "      </output>\n",
              "      <script src=\"/nbextensions/google.colab/files.js\"></script> "
            ]
          },
          "metadata": {}
        },
        {
          "output_type": "stream",
          "name": "stdout",
          "text": [
            "Saving kaggle.json to kaggle.json\n"
          ]
        }
      ],
      "source": [
        "from google.colab import files\n",
        "r = files.upload()"
      ]
    },
    {
      "cell_type": "code",
      "source": [
        "!mkdir ~/.kaggle\n",
        "!cp kaggle.json ~/.kaggle/\n",
        "!chmod 600 ~/.kaggle/kaggle.json"
      ],
      "metadata": {
        "id": "MJcnPKeSIy5X"
      },
      "execution_count": 2,
      "outputs": []
    },
    {
      "cell_type": "code",
      "source": [
        "!kaggle competitions download -c titanic "
      ],
      "metadata": {
        "colab": {
          "base_uri": "https://localhost:8080/"
        },
        "id": "vVIKkOdZJBnK",
        "outputId": "183f5590-d683-4abd-fd45-7b8fa2984846"
      },
      "execution_count": 3,
      "outputs": [
        {
          "output_type": "stream",
          "name": "stdout",
          "text": [
            "Downloading titanic.zip to /content\n",
            "\r  0% 0.00/34.1k [00:00<?, ?B/s]\n",
            "\r100% 34.1k/34.1k [00:00<00:00, 20.5MB/s]\n"
          ]
        }
      ]
    },
    {
      "cell_type": "code",
      "source": [
        "!unzip -qq titanic.zip"
      ],
      "metadata": {
        "id": "5ROR06bqJYok"
      },
      "execution_count": 4,
      "outputs": []
    },
    {
      "cell_type": "code",
      "source": [
        "import numpy as np\n",
        "import pandas as pd"
      ],
      "metadata": {
        "id": "nxEOLJ9HJk20"
      },
      "execution_count": 5,
      "outputs": []
    },
    {
      "cell_type": "code",
      "source": [
        "df = pd.read_csv(\"train.csv\")"
      ],
      "metadata": {
        "id": "4K40roYCJ8Ww"
      },
      "execution_count": 6,
      "outputs": []
    },
    {
      "cell_type": "code",
      "source": [
        "df.info()"
      ],
      "metadata": {
        "colab": {
          "base_uri": "https://localhost:8080/"
        },
        "id": "W7j3bIOVKI2P",
        "outputId": "689942fa-0ab4-4d69-f2cc-17aabb058655"
      },
      "execution_count": 7,
      "outputs": [
        {
          "output_type": "stream",
          "name": "stdout",
          "text": [
            "<class 'pandas.core.frame.DataFrame'>\n",
            "RangeIndex: 891 entries, 0 to 890\n",
            "Data columns (total 12 columns):\n",
            " #   Column       Non-Null Count  Dtype  \n",
            "---  ------       --------------  -----  \n",
            " 0   PassengerId  891 non-null    int64  \n",
            " 1   Survived     891 non-null    int64  \n",
            " 2   Pclass       891 non-null    int64  \n",
            " 3   Name         891 non-null    object \n",
            " 4   Sex          891 non-null    object \n",
            " 5   Age          714 non-null    float64\n",
            " 6   SibSp        891 non-null    int64  \n",
            " 7   Parch        891 non-null    int64  \n",
            " 8   Ticket       891 non-null    object \n",
            " 9   Fare         891 non-null    float64\n",
            " 10  Cabin        204 non-null    object \n",
            " 11  Embarked     889 non-null    object \n",
            "dtypes: float64(2), int64(5), object(5)\n",
            "memory usage: 83.7+ KB\n"
          ]
        }
      ]
    },
    {
      "cell_type": "code",
      "source": [
        "import seaborn as sns"
      ],
      "metadata": {
        "id": "eG7GoPvKYNLb"
      },
      "execution_count": 8,
      "outputs": []
    },
    {
      "cell_type": "code",
      "source": [
        "sns.heatmap(df.isnull(), cbar=False)"
      ],
      "metadata": {
        "id": "ufPGI_SKY7tc",
        "outputId": "3b75ed1a-f70e-42e1-906d-09650b6614ac",
        "colab": {
          "base_uri": "https://localhost:8080/",
          "height": 359
        }
      },
      "execution_count": 9,
      "outputs": [
        {
          "output_type": "execute_result",
          "data": {
            "text/plain": [
              "<matplotlib.axes._subplots.AxesSubplot at 0x7f2f4717fb10>"
            ]
          },
          "metadata": {},
          "execution_count": 9
        },
        {
          "output_type": "display_data",
          "data": {
            "text/plain": [
              "<Figure size 432x288 with 1 Axes>"
            ],
            "image/png": "[encoded data removed]"
          },
          "metadata": {
            "needs_background": "light"
          }
        }
      ]
    },
    {
      "cell_type": "code",
      "source": [
        "df.head(1)"
      ],
      "metadata": {
        "colab": {
          "base_uri": "https://localhost:8080/",
          "height": 100
        },
        "id": "igNUPIrcKK9N",
        "outputId": "8a91f829-1671-480d-d4b2-e0817bb34678"
      },
      "execution_count": 10,
      "outputs": [
        {
          "output_type": "execute_result",
          "data": {
            "text/plain": [
              "   PassengerId  Survived  Pclass                     Name   Sex   Age  SibSp  \\\n",
              "0            1         0       3  Braund, Mr. Owen Harris  male  22.0      1   \n",
              "\n",
              "   Parch     Ticket  Fare Cabin Embarked  \n",
              "0      0  A/5 21171  7.25   NaN        S  "
            ],
            "text/html": [
              "\n",
              "  <div id=\"df-137db97e-6d48-4e77-9b12-f5d9a45337a3\">\n",
              "    <div class=\"colab-df-container\">\n",
              "      <div>\n",
              "<style scoped>\n",
              "    .dataframe tbody tr th:only-of-type {\n",
              "        vertical-align: middle;\n",
              "    }\n",
              "\n",
              "    .dataframe tbody tr th {\n",
              "        vertical-align: top;\n",
              "    }\n",
              "\n",
              "    .dataframe thead th {\n",
              "        text-align: right;\n",
              "    }\n",
              "</style>\n",
              "<table border=\"1\" class=\"dataframe\">\n",
              "  <thead>\n",
              "    <tr style=\"text-align: right;\">\n",
              "      <th></th>\n",
              "      <th>PassengerId</th>\n",
              "      <th>Survived</th>\n",
              "      <th>Pclass</th>\n",
              "      <th>Name</th>\n",
              "      <th>Sex</th>\n",
              "      <th>Age</th>\n",
              "      <th>SibSp</th>\n",
              "      <th>Parch</th>\n",
              "      <th>Ticket</th>\n",
              "      <th>Fare</th>\n",
              "      <th>Cabin</th>\n",
              "      <th>Embarked</th>\n",
              "    </tr>\n",
              "  </thead>\n",
              "  <tbody>\n",
              "    <tr>\n",
              "      <th>0</th>\n",
              "      <td>1</td>\n",
              "      <td>0</td>\n",
              "      <td>3</td>\n",
              "      <td>Braund, Mr. Owen Harris</td>\n",
              "      <td>male</td>\n",
              "      <td>22.0</td>\n",
              "      <td>1</td>\n",
              "      <td>0</td>\n",
              "      <td>A/5 21171</td>\n",
              "      <td>7.25</td>\n",
              "      <td>NaN</td>\n",
              "      <td>S</td>\n",
              "    </tr>\n",
              "  </tbody>\n",
              "</table>\n",
              "</div>\n",
              "      <button class=\"colab-df-convert\" onclick=\"convertToInteractive('df-137db97e-6d48-4e77-9b12-f5d9a45337a3')\"\n",
              "              title=\"Convert this dataframe to an interactive table.\"\n",
              "              style=\"display:none;\">\n",
              "        \n",
              "  <svg xmlns=\"http://www.w3.org/2000/svg\" height=\"24px\"viewBox=\"0 0 24 24\"\n",
              "       width=\"24px\">\n",
              "    <path d=\"M0 0h24v24H0V0z\" fill=\"none\"/>\n",
              "    <path d=\"M18.56 5.44l.94 2.06.94-2.06 2.06-.94-2.06-.94-.94-2.06-.94 2.06-2.06.94zm-11 1L8.5 8.5l.94-2.06 2.06-.94-2.06-.94L8.5 2.5l-.94 2.06-2.06.94zm10 10l.94 2.06.94-2.06 2.06-.94-2.06-.94-.94-2.06-.94 2.06-2.06.94z\"/><path d=\"M17.41 7.96l-1.37-1.37c-.4-.4-.92-.59-1.43-.59-.52 0-1.04.2-1.43.59L10.3 9.45l-7.72 7.72c-.78.78-.78 2.05 0 2.83L4 21.41c.39.39.9.59 1.41.59.51 0 1.02-.2 1.41-.59l7.78-7.78 2.81-2.81c.8-.78.8-2.07 0-2.86zM5.41 20L4 18.59l7.72-7.72 1.47 1.35L5.41 20z\"/>\n",
              "  </svg>\n",
              "      </button>\n",
              "      \n",
              "  <style>\n",
              "    .colab-df-container {\n",
              "      display:flex;\n",
              "      flex-wrap:wrap;\n",
              "      gap: 12px;\n",
              "    }\n",
              "\n",
              "    .colab-df-convert {\n",
              "      background-color: #E8F0FE;\n",
              "      border: none;\n",
              "      border-radius: 50%;\n",
              "      cursor: pointer;\n",
              "      display: none;\n",
              "      fill: #1967D2;\n",
              "      height: 32px;\n",
              "      padding: 0 0 0 0;\n",
              "      width: 32px;\n",
              "    }\n",
              "\n",
              "    .colab-df-convert:hover {\n",
              "      background-color: #E2EBFA;\n",
              "      box-shadow: 0px 1px 2px rgba(60, 64, 67, 0.3), 0px 1px 3px 1px rgba(60, 64, 67, 0.15);\n",
              "      fill: #174EA6;\n",
              "    }\n",
              "\n",
              "    [theme=dark] .colab-df-convert {\n",
              "      background-color: #3B4455;\n",
              "      fill: #D2E3FC;\n",
              "    }\n",
              "\n",
              "    [theme=dark] .colab-df-convert:hover {\n",
              "      background-color: #434B5C;\n",
              "      box-shadow: 0px 1px 3px 1px rgba(0, 0, 0, 0.15);\n",
              "      filter: drop-shadow(0px 1px 2px rgba(0, 0, 0, 0.3));\n",
              "      fill: #FFFFFF;\n",
              "    }\n",
              "  </style>\n",
              "\n",
              "      <script>\n",
              "        const buttonEl =\n",
              "          document.querySelector('#df-137db97e-6d48-4e77-9b12-f5d9a45337a3 button.colab-df-convert');\n",
              "        buttonEl.style.display =\n",
              "          google.colab.kernel.accessAllowed ? 'block' : 'none';\n",
              "\n",
              "        async function convertToInteractive(key) {\n",
              "          const element = document.querySelector('#df-137db97e-6d48-4e77-9b12-f5d9a45337a3');\n",
              "          const dataTable =\n",
              "            await google.colab.kernel.invokeFunction('convertToInteractive',\n",
              "                                                     [key], {});\n",
              "          if (!dataTable) return;\n",
              "\n",
              "          const docLinkHtml = 'Like what you see? Visit the ' +\n",
              "            '<a target=\"_blank\" href=https://colab.research.google.com/notebooks/data_table.ipynb>data table notebook</a>'\n",
              "            + ' to learn more about interactive tables.';\n",
              "          element.innerHTML = '';\n",
              "          dataTable['output_type'] = 'display_data';\n",
              "          await google.colab.output.renderOutput(dataTable, element);\n",
              "          const docLink = document.createElement('div');\n",
              "          docLink.innerHTML = docLinkHtml;\n",
              "          element.appendChild(docLink);\n",
              "        }\n",
              "      </script>\n",
              "    </div>\n",
              "  </div>\n",
              "  "
            ]
          },
          "metadata": {},
          "execution_count": 10
        }
      ]
    },
    {
      "cell_type": "code",
      "source": [
        "df_label = df[\"Survived\"]"
      ],
      "metadata": {
        "id": "kmvRs73mKQrN"
      },
      "execution_count": 11,
      "outputs": []
    },
    {
      "cell_type": "code",
      "source": [
        "df_label.head(10)"
      ],
      "metadata": {
        "colab": {
          "base_uri": "https://localhost:8080/"
        },
        "id": "FLttxM4xKp8_",
        "outputId": "cdce92ab-e172-449c-f8b2-ab11d735f386"
      },
      "execution_count": 12,
      "outputs": [
        {
          "output_type": "execute_result",
          "data": {
            "text/plain": [
              "0    0\n",
              "1    1\n",
              "2    1\n",
              "3    1\n",
              "4    0\n",
              "5    0\n",
              "6    0\n",
              "7    0\n",
              "8    1\n",
              "9    1\n",
              "Name: Survived, dtype: int64"
            ]
          },
          "metadata": {},
          "execution_count": 12
        }
      ]
    },
    {
      "cell_type": "code",
      "source": [
        "df_data = df[[\"PassengerId\", \"Pclass\", \"Sex\", \"Age\", \"Fare\", \"Survived\"]]"
      ],
      "metadata": {
        "id": "ecgLgiJpKuRY"
      },
      "execution_count": 13,
      "outputs": []
    },
    {
      "cell_type": "code",
      "source": [
        "df_data.info()"
      ],
      "metadata": {
        "colab": {
          "base_uri": "https://localhost:8080/"
        },
        "id": "NN9T-0RjLeKQ",
        "outputId": "5a033ac3-b50b-4f91-bce4-a460ee70827f"
      },
      "execution_count": 14,
      "outputs": [
        {
          "output_type": "stream",
          "name": "stdout",
          "text": [
            "<class 'pandas.core.frame.DataFrame'>\n",
            "RangeIndex: 891 entries, 0 to 890\n",
            "Data columns (total 6 columns):\n",
            " #   Column       Non-Null Count  Dtype  \n",
            "---  ------       --------------  -----  \n",
            " 0   PassengerId  891 non-null    int64  \n",
            " 1   Pclass       891 non-null    int64  \n",
            " 2   Sex          891 non-null    object \n",
            " 3   Age          714 non-null    float64\n",
            " 4   Fare         891 non-null    float64\n",
            " 5   Survived     891 non-null    int64  \n",
            "dtypes: float64(2), int64(3), object(1)\n",
            "memory usage: 41.9+ KB\n"
          ]
        }
      ]
    },
    {
      "cell_type": "code",
      "source": [
        "sns.heatmap(df_data.isnull(), cbar=False)"
      ],
      "metadata": {
        "id": "EU6uHlrhYRgz",
        "outputId": "812eb69d-0672-4bc5-8716-a886e0e35da9",
        "colab": {
          "base_uri": "https://localhost:8080/",
          "height": 307
        }
      },
      "execution_count": 15,
      "outputs": [
        {
          "output_type": "execute_result",
          "data": {
            "text/plain": [
              "<matplotlib.axes._subplots.AxesSubplot at 0x7f2f490aa290>"
            ]
          },
          "metadata": {},
          "execution_count": 15
        },
        {
          "output_type": "display_data",
          "data": {
            "text/plain": [
              "<Figure size 432x288 with 1 Axes>"
            ],
            "image/png": "[encoded data removed]"
          },
          "metadata": {
            "needs_background": "light"
          }
        }
      ]
    },
    {
      "cell_type": "code",
      "source": [
        "r = sns.displot(data=df_data[\"Survived\"])"
      ],
      "metadata": {
        "id": "D0nG-f4a4hfa",
        "outputId": "c529f0f7-0352-4e28-92d8-68cc86a8c83e",
        "colab": {
          "base_uri": "https://localhost:8080/",
          "height": 390
        }
      },
      "execution_count": 16,
      "outputs": [
        {
          "output_type": "display_data",
          "data": {
            "text/plain": [
              "<Figure size 360x360 with 1 Axes>"
            ],
            "image/png": "[encoded data removed]"
          },
          "metadata": {
            "needs_background": "light"
          }
        }
      ]
    },
    {
      "cell_type": "code",
      "source": [
        "r = sns.catplot(data=df_data, x=\"Pclass\", y=\"Survived\", kind='bar', ci=None)"
      ],
      "metadata": {
        "id": "pHiq4cIF5OtD",
        "outputId": "3eb5eee1-1110-4b06-8b2e-5758bb6d8985",
        "colab": {
          "base_uri": "https://localhost:8080/",
          "height": 390
        }
      },
      "execution_count": 17,
      "outputs": [
        {
          "output_type": "display_data",
          "data": {
            "text/plain": [
              "<Figure size 360x360 with 1 Axes>"
            ],
            "image/png": "[encoded data removed]"
          },
          "metadata": {
            "needs_background": "light"
          }
        }
      ]
    },
    {
      "cell_type": "code",
      "source": [
        "r = sns.catplot(data=df_data, y=\"Survived\", x=\"Pclass\", hue=\"Sex\", kind=\"bar\", ci=None)"
      ],
      "metadata": {
        "id": "vv-9MH1V-azP",
        "outputId": "fa9a8719-07a6-48b2-f3f1-25ec164aa98a",
        "colab": {
          "base_uri": "https://localhost:8080/",
          "height": 390
        }
      },
      "execution_count": 18,
      "outputs": [
        {
          "output_type": "display_data",
          "data": {
            "text/plain": [
              "<Figure size 430.5x360 with 1 Axes>"
            ],
            "image/png": "[encoded data removed]"
          },
          "metadata": {
            "needs_background": "light"
          }
        }
      ]
    },
    {
      "cell_type": "code",
      "source": [
        "r= sns.catplot(data=df_data, x=\"Survived\", y=\"Age\", hue=\"Sex\", kind=\"violin\")"
      ],
      "metadata": {
        "id": "-zCFwrTL_V_7",
        "outputId": "014e488b-0327-49e6-9520-b9b24fc6791b",
        "colab": {
          "base_uri": "https://localhost:8080/",
          "height": 390
        }
      },
      "execution_count": 19,
      "outputs": [
        {
          "output_type": "display_data",
          "data": {
            "text/plain": [
              "<Figure size 430.5x360 with 1 Axes>"
            ],
            "image/png": "[encoded data removed]"
          },
          "metadata": {
            "needs_background": "light"
          }
        }
      ]
    },
    {
      "cell_type": "code",
      "source": [
        "r=sns.catplot(data=df_data, x=\"Survived\", y=\"Age\", hue=\"Pclass\", kind=\"violin\")"
      ],
      "metadata": {
        "id": "8E45dAR6BEaP",
        "outputId": "80abbb53-cdfc-4e44-c9a6-281d2c59b5dd",
        "colab": {
          "base_uri": "https://localhost:8080/",
          "height": 390
        }
      },
      "execution_count": 20,
      "outputs": [
        {
          "output_type": "display_data",
          "data": {
            "text/plain": [
              "<Figure size 402.375x360 with 1 Axes>"
            ],
            "image/png": "[encoded data removed]"
          },
          "metadata": {
            "needs_background": "light"
          }
        }
      ]
    },
    {
      "cell_type": "code",
      "source": [
        "encoding_ref = {\"Sex\": {\"male\": 0, \"female\": 1}}"
      ],
      "metadata": {
        "id": "9o65lu-wD1Xm"
      },
      "execution_count": 21,
      "outputs": []
    },
    {
      "cell_type": "code",
      "source": [
        "df_data = df_data.replace(encoding_ref)\n",
        "\n",
        "df_data.head(5)"
      ],
      "metadata": {
        "colab": {
          "base_uri": "https://localhost:8080/",
          "height": 221
        },
        "id": "YAGq1Ch2EGxT",
        "outputId": "e698e82f-2a4c-4269-9388-e8a4e3f2892a"
      },
      "execution_count": 22,
      "outputs": [
        {
          "output_type": "execute_result",
          "data": {
            "text/plain": [
              "   PassengerId  Pclass  Sex   Age     Fare  Survived\n",
              "0            1       3    0  22.0   7.2500         0\n",
              "1            2       1    1  38.0  71.2833         1\n",
              "2            3       3    1  26.0   7.9250         1\n",
              "3            4       1    1  35.0  53.1000         1\n",
              "4            5       3    0  35.0   8.0500         0"
            ],
            "text/html": [
              "\n",
              "  <div id=\"df-16478f3a-fd2a-460f-a0dd-b7044e16bd48\">\n",
              "    <div class=\"colab-df-container\">\n",
              "      <div>\n",
              "<style scoped>\n",
              "    .dataframe tbody tr th:only-of-type {\n",
              "        vertical-align: middle;\n",
              "    }\n",
              "\n",
              "    .dataframe tbody tr th {\n",
              "        vertical-align: top;\n",
              "    }\n",
              "\n",
              "    .dataframe thead th {\n",
              "        text-align: right;\n",
              "    }\n",
              "</style>\n",
              "<table border=\"1\" class=\"dataframe\">\n",
              "  <thead>\n",
              "    <tr style=\"text-align: right;\">\n",
              "      <th></th>\n",
              "      <th>PassengerId</th>\n",
              "      <th>Pclass</th>\n",
              "      <th>Sex</th>\n",
              "      <th>Age</th>\n",
              "      <th>Fare</th>\n",
              "      <th>Survived</th>\n",
              "    </tr>\n",
              "  </thead>\n",
              "  <tbody>\n",
              "    <tr>\n",
              "      <th>0</th>\n",
              "      <td>1</td>\n",
              "      <td>3</td>\n",
              "      <td>0</td>\n",
              "      <td>22.0</td>\n",
              "      <td>7.2500</td>\n",
              "      <td>0</td>\n",
              "    </tr>\n",
              "    <tr>\n",
              "      <th>1</th>\n",
              "      <td>2</td>\n",
              "      <td>1</td>\n",
              "      <td>1</td>\n",
              "      <td>38.0</td>\n",
              "      <td>71.2833</td>\n",
              "      <td>1</td>\n",
              "    </tr>\n",
              "    <tr>\n",
              "      <th>2</th>\n",
              "      <td>3</td>\n",
              "      <td>3</td>\n",
              "      <td>1</td>\n",
              "      <td>26.0</td>\n",
              "      <td>7.9250</td>\n",
              "      <td>1</td>\n",
              "    </tr>\n",
              "    <tr>\n",
              "      <th>3</th>\n",
              "      <td>4</td>\n",
              "      <td>1</td>\n",
              "      <td>1</td>\n",
              "      <td>35.0</td>\n",
              "      <td>53.1000</td>\n",
              "      <td>1</td>\n",
              "    </tr>\n",
              "    <tr>\n",
              "      <th>4</th>\n",
              "      <td>5</td>\n",
              "      <td>3</td>\n",
              "      <td>0</td>\n",
              "      <td>35.0</td>\n",
              "      <td>8.0500</td>\n",
              "      <td>0</td>\n",
              "    </tr>\n",
              "  </tbody>\n",
              "</table>\n",
              "</div>\n",
              "      <button class=\"colab-df-convert\" onclick=\"convertToInteractive('df-16478f3a-fd2a-460f-a0dd-b7044e16bd48')\"\n",
              "              title=\"Convert this dataframe to an interactive table.\"\n",
              "              style=\"display:none;\">\n",
              "        \n",
              "  <svg xmlns=\"http://www.w3.org/2000/svg\" height=\"24px\"viewBox=\"0 0 24 24\"\n",
              "       width=\"24px\">\n",
              "    <path d=\"M0 0h24v24H0V0z\" fill=\"none\"/>\n",
              "    <path d=\"M18.56 5.44l.94 2.06.94-2.06 2.06-.94-2.06-.94-.94-2.06-.94 2.06-2.06.94zm-11 1L8.5 8.5l.94-2.06 2.06-.94-2.06-.94L8.5 2.5l-.94 2.06-2.06.94zm10 10l.94 2.06.94-2.06 2.06-.94-2.06-.94-.94-2.06-.94 2.06-2.06.94z\"/><path d=\"M17.41 7.96l-1.37-1.37c-.4-.4-.92-.59-1.43-.59-.52 0-1.04.2-1.43.59L10.3 9.45l-7.72 7.72c-.78.78-.78 2.05 0 2.83L4 21.41c.39.39.9.59 1.41.59.51 0 1.02-.2 1.41-.59l7.78-7.78 2.81-2.81c.8-.78.8-2.07 0-2.86zM5.41 20L4 18.59l7.72-7.72 1.47 1.35L5.41 20z\"/>\n",
              "  </svg>\n",
              "      </button>\n",
              "      \n",
              "  <style>\n",
              "    .colab-df-container {\n",
              "      display:flex;\n",
              "      flex-wrap:wrap;\n",
              "      gap: 12px;\n",
              "    }\n",
              "\n",
              "    .colab-df-convert {\n",
              "      background-color: #E8F0FE;\n",
              "      border: none;\n",
              "      border-radius: 50%;\n",
              "      cursor: pointer;\n",
              "      display: none;\n",
              "      fill: #1967D2;\n",
              "      height: 32px;\n",
              "      padding: 0 0 0 0;\n",
              "      width: 32px;\n",
              "    }\n",
              "\n",
              "    .colab-df-convert:hover {\n",
              "      background-color: #E2EBFA;\n",
              "      box-shadow: 0px 1px 2px rgba(60, 64, 67, 0.3), 0px 1px 3px 1px rgba(60, 64, 67, 0.15);\n",
              "      fill: #174EA6;\n",
              "    }\n",
              "\n",
              "    [theme=dark] .colab-df-convert {\n",
              "      background-color: #3B4455;\n",
              "      fill: #D2E3FC;\n",
              "    }\n",
              "\n",
              "    [theme=dark] .colab-df-convert:hover {\n",
              "      background-color: #434B5C;\n",
              "      box-shadow: 0px 1px 3px 1px rgba(0, 0, 0, 0.15);\n",
              "      filter: drop-shadow(0px 1px 2px rgba(0, 0, 0, 0.3));\n",
              "      fill: #FFFFFF;\n",
              "    }\n",
              "  </style>\n",
              "\n",
              "      <script>\n",
              "        const buttonEl =\n",
              "          document.querySelector('#df-16478f3a-fd2a-460f-a0dd-b7044e16bd48 button.colab-df-convert');\n",
              "        buttonEl.style.display =\n",
              "          google.colab.kernel.accessAllowed ? 'block' : 'none';\n",
              "\n",
              "        async function convertToInteractive(key) {\n",
              "          const element = document.querySelector('#df-16478f3a-fd2a-460f-a0dd-b7044e16bd48');\n",
              "          const dataTable =\n",
              "            await google.colab.kernel.invokeFunction('convertToInteractive',\n",
              "                                                     [key], {});\n",
              "          if (!dataTable) return;\n",
              "\n",
              "          const docLinkHtml = 'Like what you see? Visit the ' +\n",
              "            '<a target=\"_blank\" href=https://colab.research.google.com/notebooks/data_table.ipynb>data table notebook</a>'\n",
              "            + ' to learn more about interactive tables.';\n",
              "          element.innerHTML = '';\n",
              "          dataTable['output_type'] = 'display_data';\n",
              "          await google.colab.output.renderOutput(dataTable, element);\n",
              "          const docLink = document.createElement('div');\n",
              "          docLink.innerHTML = docLinkHtml;\n",
              "          element.appendChild(docLink);\n",
              "        }\n",
              "      </script>\n",
              "    </div>\n",
              "  </div>\n",
              "  "
            ]
          },
          "metadata": {},
          "execution_count": 22
        }
      ]
    },
    {
      "cell_type": "code",
      "source": [
        "df_data.info()"
      ],
      "metadata": {
        "colab": {
          "base_uri": "https://localhost:8080/"
        },
        "id": "6nz9Wym2SgE9",
        "outputId": "67d42610-952b-44f2-e50b-ba716db7fcf1"
      },
      "execution_count": 23,
      "outputs": [
        {
          "output_type": "stream",
          "name": "stdout",
          "text": [
            "<class 'pandas.core.frame.DataFrame'>\n",
            "RangeIndex: 891 entries, 0 to 890\n",
            "Data columns (total 6 columns):\n",
            " #   Column       Non-Null Count  Dtype  \n",
            "---  ------       --------------  -----  \n",
            " 0   PassengerId  891 non-null    int64  \n",
            " 1   Pclass       891 non-null    int64  \n",
            " 2   Sex          891 non-null    int64  \n",
            " 3   Age          714 non-null    float64\n",
            " 4   Fare         891 non-null    float64\n",
            " 5   Survived     891 non-null    int64  \n",
            "dtypes: float64(2), int64(4)\n",
            "memory usage: 41.9 KB\n"
          ]
        }
      ]
    },
    {
      "cell_type": "code",
      "source": [
        "mean_age = round(df_data[\"Age\"].mean(), 2)\n",
        "mean_age"
      ],
      "metadata": {
        "colab": {
          "base_uri": "https://localhost:8080/"
        },
        "id": "2u7wU91tSsvT",
        "outputId": "9caa7a80-f7d6-4dbe-e8a8-75322b40933b"
      },
      "execution_count": 24,
      "outputs": [
        {
          "output_type": "execute_result",
          "data": {
            "text/plain": [
              "29.7"
            ]
          },
          "metadata": {},
          "execution_count": 24
        }
      ]
    },
    {
      "cell_type": "code",
      "source": [
        "#Fill blanks with mean of Age\n",
        "df_data[\"Age\"] = df_data[\"Age\"].fillna(mean_age)"
      ],
      "metadata": {
        "id": "lK5rCoC5S2_U"
      },
      "execution_count": 25,
      "outputs": []
    },
    {
      "cell_type": "code",
      "source": [
        "df_data.info()"
      ],
      "metadata": {
        "colab": {
          "base_uri": "https://localhost:8080/"
        },
        "id": "DSicwrCSTTFO",
        "outputId": "1b398488-e858-4a27-eeff-f9a1d423b667"
      },
      "execution_count": 26,
      "outputs": [
        {
          "output_type": "stream",
          "name": "stdout",
          "text": [
            "<class 'pandas.core.frame.DataFrame'>\n",
            "RangeIndex: 891 entries, 0 to 890\n",
            "Data columns (total 6 columns):\n",
            " #   Column       Non-Null Count  Dtype  \n",
            "---  ------       --------------  -----  \n",
            " 0   PassengerId  891 non-null    int64  \n",
            " 1   Pclass       891 non-null    int64  \n",
            " 2   Sex          891 non-null    int64  \n",
            " 3   Age          891 non-null    float64\n",
            " 4   Fare         891 non-null    float64\n",
            " 5   Survived     891 non-null    int64  \n",
            "dtypes: float64(2), int64(4)\n",
            "memory usage: 41.9 KB\n"
          ]
        }
      ]
    },
    {
      "cell_type": "code",
      "source": [
        "def return_data_and_label(df_data):\n",
        "  #shuffle rows\n",
        "  df_data = df_data.sample(frac = 1)\n",
        "  return df_data[[\"Pclass\", \"Sex\", \"Age\", \"Fare\"]].to_numpy(), df_data[\"Survived\"].to_numpy()"
      ],
      "metadata": {
        "id": "OYMX6ZnvJIJn"
      },
      "execution_count": 27,
      "outputs": []
    },
    {
      "cell_type": "code",
      "source": [
        "training_data, training_label = return_data_and_label(df_data)"
      ],
      "metadata": {
        "id": "PoGRFjQ_JX3n"
      },
      "execution_count": 28,
      "outputs": []
    },
    {
      "cell_type": "code",
      "source": [
        "training_data.shape"
      ],
      "metadata": {
        "colab": {
          "base_uri": "https://localhost:8080/"
        },
        "id": "2dHjFQ6BLFib",
        "outputId": "51185e9f-c278-4bea-b1be-a06588798191"
      },
      "execution_count": 29,
      "outputs": [
        {
          "output_type": "execute_result",
          "data": {
            "text/plain": [
              "(891, 4)"
            ]
          },
          "metadata": {},
          "execution_count": 29
        }
      ]
    },
    {
      "cell_type": "code",
      "source": [
        "#normalize data\n",
        "training_data = training_data / 100."
      ],
      "metadata": {
        "id": "GXzYKZHyP-xW"
      },
      "execution_count": 30,
      "outputs": []
    },
    {
      "cell_type": "code",
      "source": [
        "training_data"
      ],
      "metadata": {
        "colab": {
          "base_uri": "https://localhost:8080/"
        },
        "id": "-uoKZ-WDSSbn",
        "outputId": "e1e92b37-f5e1-494c-b309-aee83885cc0c"
      },
      "execution_count": 31,
      "outputs": [
        {
          "output_type": "execute_result",
          "data": {
            "text/plain": [
              "array([[0.03    , 0.      , 0.07    , 0.396875],\n",
              "       [0.03    , 0.      , 0.09    , 0.469   ],\n",
              "       [0.02    , 0.      , 0.19    , 0.3675  ],\n",
              "       ...,\n",
              "       [0.03    , 0.      , 0.03    , 0.313875],\n",
              "       [0.03    , 0.      , 0.29    , 0.095   ],\n",
              "       [0.03    , 0.01    , 0.297   , 0.081375]])"
            ]
          },
          "metadata": {},
          "execution_count": 31
        }
      ]
    },
    {
      "cell_type": "code",
      "source": [
        "training_label.shape"
      ],
      "metadata": {
        "colab": {
          "base_uri": "https://localhost:8080/"
        },
        "id": "Wkd2NWkwLOlj",
        "outputId": "587e6e73-c1e6-40de-9c8b-eafaecaaef55"
      },
      "execution_count": 32,
      "outputs": [
        {
          "output_type": "execute_result",
          "data": {
            "text/plain": [
              "(891,)"
            ]
          },
          "metadata": {},
          "execution_count": 32
        }
      ]
    },
    {
      "cell_type": "code",
      "source": [
        "import tensorflow as tf\n",
        "from tensorflow import keras\n",
        "from tensorflow.keras import layers"
      ],
      "metadata": {
        "id": "rXn6mEY7OJMk"
      },
      "execution_count": 33,
      "outputs": []
    },
    {
      "cell_type": "code",
      "source": [
        "def get_model():\n",
        "  model = keras.Sequential([\n",
        "      layers.Input(shape=(4,)),\n",
        "      layers.Dense(64, activation=\"relu\"),\n",
        "      layers.Dense(128, activation=\"relu\"),\n",
        "      #layers.Dense(256, activation=\"relu\"),\n",
        "      layers.Dropout(0.5),\n",
        "      layers.Dense(1, activation=\"sigmoid\")\n",
        "  ])\n",
        "\n",
        "  model.compile(optimizer=\"rmsprop\",\n",
        "                loss=\"binary_crossentropy\",\n",
        "                metrics=['accuracy'])\n",
        "\n",
        "  return model"
      ],
      "metadata": {
        "id": "MyE5J_E6LRSX"
      },
      "execution_count": 103,
      "outputs": []
    },
    {
      "cell_type": "code",
      "source": [
        "#Try various options. Training loss bottoms out around 320 epochs\n",
        "epochs=500"
      ],
      "metadata": {
        "id": "4TRmqV4tUELL"
      },
      "execution_count": 104,
      "outputs": []
    },
    {
      "cell_type": "code",
      "source": [
        "model = get_model()\n",
        "\n",
        "run_history = model.fit(training_data,\n",
        "                        training_label,\n",
        "                        epochs = epochs,\n",
        "                        validation_split=0.3,\n",
        "                        batch_size=32)"
      ],
      "metadata": {
        "colab": {
          "base_uri": "https://localhost:8080/"
        },
        "id": "_E8QmZ7iPFpa",
        "outputId": "51f2fcea-405a-4afc-ddac-270e281f0847"
      },
      "execution_count": 105,
      "outputs": [
        {
          "output_type": "stream",
          "name": "stdout",
          "text": [
            "Epoch 1/500\n",
            "20/20 [==============================] - 1s 11ms/step - loss: 0.6665 - accuracy: 0.6469 - val_loss: 0.6477 - val_accuracy: 0.6866\n",
            "Epoch 2/500\n",
            "20/20 [==============================] - 0s 4ms/step - loss: 0.6413 - accuracy: 0.6565 - val_loss: 0.6306 - val_accuracy: 0.6679\n",
            "Epoch 3/500\n",
            "20/20 [==============================] - 0s 4ms/step - loss: 0.6296 - accuracy: 0.6645 - val_loss: 0.6213 - val_accuracy: 0.6567\n",
            "Epoch 4/500\n",
            "20/20 [==============================] - 0s 4ms/step - loss: 0.6139 - accuracy: 0.6758 - val_loss: 0.6137 - val_accuracy: 0.6866\n",
            "Epoch 5/500\n",
            "20/20 [==============================] - 0s 4ms/step - loss: 0.6095 - accuracy: 0.6742 - val_loss: 0.6130 - val_accuracy: 0.6679\n",
            "Epoch 6/500\n",
            "20/20 [==============================] - 0s 4ms/step - loss: 0.6114 - accuracy: 0.6790 - val_loss: 0.6196 - val_accuracy: 0.6604\n",
            "Epoch 7/500\n",
            "20/20 [==============================] - 0s 4ms/step - loss: 0.6144 - accuracy: 0.6774 - val_loss: 0.6116 - val_accuracy: 0.6567\n",
            "Epoch 8/500\n",
            "20/20 [==============================] - 0s 4ms/step - loss: 0.6106 - accuracy: 0.6790 - val_loss: 0.6093 - val_accuracy: 0.6567\n",
            "Epoch 9/500\n",
            "20/20 [==============================] - 0s 4ms/step - loss: 0.6086 - accuracy: 0.6838 - val_loss: 0.6106 - val_accuracy: 0.6604\n",
            "Epoch 10/500\n",
            "20/20 [==============================] - 0s 4ms/step - loss: 0.6099 - accuracy: 0.6870 - val_loss: 0.6098 - val_accuracy: 0.6754\n",
            "Epoch 11/500\n",
            "20/20 [==============================] - 0s 4ms/step - loss: 0.6023 - accuracy: 0.6934 - val_loss: 0.6075 - val_accuracy: 0.6604\n",
            "Epoch 12/500\n",
            "20/20 [==============================] - 0s 4ms/step - loss: 0.6048 - accuracy: 0.6886 - val_loss: 0.6046 - val_accuracy: 0.6604\n",
            "Epoch 13/500\n",
            "20/20 [==============================] - 0s 4ms/step - loss: 0.6016 - accuracy: 0.6886 - val_loss: 0.6073 - val_accuracy: 0.6791\n",
            "Epoch 14/500\n",
            "20/20 [==============================] - 0s 4ms/step - loss: 0.6095 - accuracy: 0.6918 - val_loss: 0.6045 - val_accuracy: 0.6642\n",
            "Epoch 15/500\n",
            "20/20 [==============================] - 0s 4ms/step - loss: 0.6042 - accuracy: 0.6822 - val_loss: 0.6032 - val_accuracy: 0.6604\n",
            "Epoch 16/500\n",
            "20/20 [==============================] - 0s 4ms/step - loss: 0.6005 - accuracy: 0.6870 - val_loss: 0.6045 - val_accuracy: 0.6754\n",
            "Epoch 17/500\n",
            "20/20 [==============================] - 0s 4ms/step - loss: 0.6022 - accuracy: 0.6886 - val_loss: 0.6014 - val_accuracy: 0.6642\n",
            "Epoch 18/500\n",
            "20/20 [==============================] - 0s 4ms/step - loss: 0.6009 - accuracy: 0.6870 - val_loss: 0.6015 - val_accuracy: 0.6754\n",
            "Epoch 19/500\n",
            "20/20 [==============================] - 0s 4ms/step - loss: 0.5957 - accuracy: 0.6950 - val_loss: 0.6016 - val_accuracy: 0.6791\n",
            "Epoch 20/500\n",
            "20/20 [==============================] - 0s 4ms/step - loss: 0.5951 - accuracy: 0.6918 - val_loss: 0.6034 - val_accuracy: 0.6828\n",
            "Epoch 21/500\n",
            "20/20 [==============================] - 0s 4ms/step - loss: 0.6039 - accuracy: 0.7014 - val_loss: 0.6001 - val_accuracy: 0.6791\n",
            "Epoch 22/500\n",
            "20/20 [==============================] - 0s 4ms/step - loss: 0.5919 - accuracy: 0.6934 - val_loss: 0.6003 - val_accuracy: 0.6642\n",
            "Epoch 23/500\n",
            "20/20 [==============================] - 0s 4ms/step - loss: 0.6001 - accuracy: 0.6998 - val_loss: 0.6016 - val_accuracy: 0.6828\n",
            "Epoch 24/500\n",
            "20/20 [==============================] - 0s 3ms/step - loss: 0.5952 - accuracy: 0.6950 - val_loss: 0.5996 - val_accuracy: 0.6828\n",
            "Epoch 25/500\n",
            "20/20 [==============================] - 0s 4ms/step - loss: 0.5915 - accuracy: 0.6950 - val_loss: 0.6019 - val_accuracy: 0.6866\n",
            "Epoch 26/500\n",
            "20/20 [==============================] - 0s 4ms/step - loss: 0.5969 - accuracy: 0.6934 - val_loss: 0.6028 - val_accuracy: 0.6940\n",
            "Epoch 27/500\n",
            "20/20 [==============================] - 0s 4ms/step - loss: 0.5940 - accuracy: 0.6982 - val_loss: 0.6004 - val_accuracy: 0.6866\n",
            "Epoch 28/500\n",
            "20/20 [==============================] - 0s 4ms/step - loss: 0.5902 - accuracy: 0.6918 - val_loss: 0.5991 - val_accuracy: 0.6866\n",
            "Epoch 29/500\n",
            "20/20 [==============================] - 0s 4ms/step - loss: 0.5942 - accuracy: 0.6950 - val_loss: 0.5954 - val_accuracy: 0.6791\n",
            "Epoch 30/500\n",
            "20/20 [==============================] - 0s 4ms/step - loss: 0.5903 - accuracy: 0.6918 - val_loss: 0.5951 - val_accuracy: 0.6828\n",
            "Epoch 31/500\n",
            "20/20 [==============================] - 0s 4ms/step - loss: 0.5888 - accuracy: 0.6966 - val_loss: 0.5936 - val_accuracy: 0.6754\n",
            "Epoch 32/500\n",
            "20/20 [==============================] - 0s 4ms/step - loss: 0.5931 - accuracy: 0.6886 - val_loss: 0.5973 - val_accuracy: 0.6940\n",
            "Epoch 33/500\n",
            "20/20 [==============================] - 0s 6ms/step - loss: 0.5932 - accuracy: 0.6854 - val_loss: 0.5957 - val_accuracy: 0.6866\n",
            "Epoch 34/500\n",
            "20/20 [==============================] - 0s 4ms/step - loss: 0.5869 - accuracy: 0.7047 - val_loss: 0.5924 - val_accuracy: 0.6791\n",
            "Epoch 35/500\n",
            "20/20 [==============================] - 0s 4ms/step - loss: 0.5868 - accuracy: 0.6950 - val_loss: 0.5986 - val_accuracy: 0.6903\n",
            "Epoch 36/500\n",
            "20/20 [==============================] - 0s 4ms/step - loss: 0.5839 - accuracy: 0.6934 - val_loss: 0.5988 - val_accuracy: 0.6866\n",
            "Epoch 37/500\n",
            "20/20 [==============================] - 0s 4ms/step - loss: 0.5893 - accuracy: 0.7014 - val_loss: 0.5912 - val_accuracy: 0.6866\n",
            "Epoch 38/500\n",
            "20/20 [==============================] - 0s 4ms/step - loss: 0.5852 - accuracy: 0.6886 - val_loss: 0.5918 - val_accuracy: 0.6903\n",
            "Epoch 39/500\n",
            "20/20 [==============================] - 0s 4ms/step - loss: 0.5815 - accuracy: 0.6950 - val_loss: 0.5907 - val_accuracy: 0.6866\n",
            "Epoch 40/500\n",
            "20/20 [==============================] - 0s 4ms/step - loss: 0.5794 - accuracy: 0.6982 - val_loss: 0.6048 - val_accuracy: 0.6791\n",
            "Epoch 41/500\n",
            "20/20 [==============================] - 0s 4ms/step - loss: 0.5833 - accuracy: 0.6982 - val_loss: 0.5880 - val_accuracy: 0.6903\n",
            "Epoch 42/500\n",
            "20/20 [==============================] - 0s 4ms/step - loss: 0.5788 - accuracy: 0.7079 - val_loss: 0.5886 - val_accuracy: 0.6866\n",
            "Epoch 43/500\n",
            "20/20 [==============================] - 0s 4ms/step - loss: 0.5806 - accuracy: 0.6982 - val_loss: 0.5865 - val_accuracy: 0.6903\n",
            "Epoch 44/500\n",
            "20/20 [==============================] - 0s 5ms/step - loss: 0.5741 - accuracy: 0.6950 - val_loss: 0.5861 - val_accuracy: 0.6866\n",
            "Epoch 45/500\n",
            "20/20 [==============================] - 0s 4ms/step - loss: 0.5773 - accuracy: 0.7159 - val_loss: 0.5848 - val_accuracy: 0.6866\n",
            "Epoch 46/500\n",
            "20/20 [==============================] - 0s 4ms/step - loss: 0.5748 - accuracy: 0.7030 - val_loss: 0.5843 - val_accuracy: 0.6828\n",
            "Epoch 47/500\n",
            "20/20 [==============================] - 0s 4ms/step - loss: 0.5691 - accuracy: 0.7030 - val_loss: 0.5840 - val_accuracy: 0.6940\n",
            "Epoch 48/500\n",
            "20/20 [==============================] - 0s 4ms/step - loss: 0.5720 - accuracy: 0.7030 - val_loss: 0.5891 - val_accuracy: 0.6828\n",
            "Epoch 49/500\n",
            "20/20 [==============================] - 0s 4ms/step - loss: 0.5782 - accuracy: 0.6902 - val_loss: 0.5824 - val_accuracy: 0.6903\n",
            "Epoch 50/500\n",
            "20/20 [==============================] - 0s 4ms/step - loss: 0.5749 - accuracy: 0.7030 - val_loss: 0.5822 - val_accuracy: 0.6903\n",
            "Epoch 51/500\n",
            "20/20 [==============================] - 0s 4ms/step - loss: 0.5658 - accuracy: 0.6950 - val_loss: 0.5837 - val_accuracy: 0.6903\n",
            "Epoch 52/500\n",
            "20/20 [==============================] - 0s 4ms/step - loss: 0.5709 - accuracy: 0.7143 - val_loss: 0.5786 - val_accuracy: 0.6940\n",
            "Epoch 53/500\n",
            "20/20 [==============================] - 0s 4ms/step - loss: 0.5692 - accuracy: 0.7030 - val_loss: 0.5783 - val_accuracy: 0.6940\n",
            "Epoch 54/500\n",
            "20/20 [==============================] - 0s 4ms/step - loss: 0.5598 - accuracy: 0.7079 - val_loss: 0.5802 - val_accuracy: 0.6866\n",
            "Epoch 55/500\n",
            "20/20 [==============================] - 0s 4ms/step - loss: 0.5636 - accuracy: 0.7047 - val_loss: 0.5762 - val_accuracy: 0.6903\n",
            "Epoch 56/500\n",
            "20/20 [==============================] - 0s 4ms/step - loss: 0.5613 - accuracy: 0.6982 - val_loss: 0.5760 - val_accuracy: 0.6866\n",
            "Epoch 57/500\n",
            "20/20 [==============================] - 0s 6ms/step - loss: 0.5592 - accuracy: 0.6998 - val_loss: 0.5794 - val_accuracy: 0.6866\n",
            "Epoch 58/500\n",
            "20/20 [==============================] - 0s 4ms/step - loss: 0.5627 - accuracy: 0.7175 - val_loss: 0.5748 - val_accuracy: 0.6978\n",
            "Epoch 59/500\n",
            "20/20 [==============================] - 0s 4ms/step - loss: 0.5601 - accuracy: 0.7111 - val_loss: 0.5712 - val_accuracy: 0.6978\n",
            "Epoch 60/500\n",
            "20/20 [==============================] - 0s 4ms/step - loss: 0.5532 - accuracy: 0.6982 - val_loss: 0.5693 - val_accuracy: 0.6903\n",
            "Epoch 61/500\n",
            "20/20 [==============================] - 0s 4ms/step - loss: 0.5559 - accuracy: 0.7111 - val_loss: 0.5664 - val_accuracy: 0.6903\n",
            "Epoch 62/500\n",
            "20/20 [==============================] - 0s 3ms/step - loss: 0.5516 - accuracy: 0.7143 - val_loss: 0.5664 - val_accuracy: 0.6940\n",
            "Epoch 63/500\n",
            "20/20 [==============================] - 0s 4ms/step - loss: 0.5519 - accuracy: 0.7079 - val_loss: 0.5641 - val_accuracy: 0.6828\n",
            "Epoch 64/500\n",
            "20/20 [==============================] - 0s 4ms/step - loss: 0.5457 - accuracy: 0.7095 - val_loss: 0.5636 - val_accuracy: 0.6903\n",
            "Epoch 65/500\n",
            "20/20 [==============================] - 0s 4ms/step - loss: 0.5402 - accuracy: 0.7335 - val_loss: 0.5665 - val_accuracy: 0.6978\n",
            "Epoch 66/500\n",
            "20/20 [==============================] - 0s 4ms/step - loss: 0.5448 - accuracy: 0.7143 - val_loss: 0.5567 - val_accuracy: 0.6903\n",
            "Epoch 67/500\n",
            "20/20 [==============================] - 0s 4ms/step - loss: 0.5462 - accuracy: 0.7255 - val_loss: 0.5564 - val_accuracy: 0.6978\n",
            "Epoch 68/500\n",
            "20/20 [==============================] - 0s 4ms/step - loss: 0.5400 - accuracy: 0.7191 - val_loss: 0.5601 - val_accuracy: 0.7015\n",
            "Epoch 69/500\n",
            "20/20 [==============================] - 0s 4ms/step - loss: 0.5396 - accuracy: 0.7143 - val_loss: 0.5531 - val_accuracy: 0.6940\n",
            "Epoch 70/500\n",
            "20/20 [==============================] - 0s 4ms/step - loss: 0.5373 - accuracy: 0.7368 - val_loss: 0.5502 - val_accuracy: 0.7015\n",
            "Epoch 71/500\n",
            "20/20 [==============================] - 0s 3ms/step - loss: 0.5303 - accuracy: 0.7335 - val_loss: 0.5587 - val_accuracy: 0.7090\n",
            "Epoch 72/500\n",
            "20/20 [==============================] - 0s 4ms/step - loss: 0.5351 - accuracy: 0.7400 - val_loss: 0.5511 - val_accuracy: 0.7052\n",
            "Epoch 73/500\n",
            "20/20 [==============================] - 0s 3ms/step - loss: 0.5286 - accuracy: 0.7303 - val_loss: 0.5584 - val_accuracy: 0.7090\n",
            "Epoch 74/500\n",
            "20/20 [==============================] - 0s 4ms/step - loss: 0.5231 - accuracy: 0.7416 - val_loss: 0.5410 - val_accuracy: 0.7015\n",
            "Epoch 75/500\n",
            "20/20 [==============================] - 0s 4ms/step - loss: 0.5267 - accuracy: 0.7271 - val_loss: 0.5372 - val_accuracy: 0.7052\n",
            "Epoch 76/500\n",
            "20/20 [==============================] - 0s 3ms/step - loss: 0.5154 - accuracy: 0.7432 - val_loss: 0.5387 - val_accuracy: 0.7052\n",
            "Epoch 77/500\n",
            "20/20 [==============================] - 0s 4ms/step - loss: 0.5160 - accuracy: 0.7384 - val_loss: 0.5469 - val_accuracy: 0.7164\n",
            "Epoch 78/500\n",
            "20/20 [==============================] - 0s 3ms/step - loss: 0.5113 - accuracy: 0.7496 - val_loss: 0.5299 - val_accuracy: 0.7164\n",
            "Epoch 79/500\n",
            "20/20 [==============================] - 0s 4ms/step - loss: 0.4981 - accuracy: 0.7624 - val_loss: 0.5316 - val_accuracy: 0.7015\n",
            "Epoch 80/500\n",
            "20/20 [==============================] - 0s 4ms/step - loss: 0.5065 - accuracy: 0.7528 - val_loss: 0.5283 - val_accuracy: 0.7201\n",
            "Epoch 81/500\n",
            "20/20 [==============================] - 0s 4ms/step - loss: 0.5036 - accuracy: 0.7400 - val_loss: 0.5290 - val_accuracy: 0.7201\n",
            "Epoch 82/500\n",
            "20/20 [==============================] - 0s 4ms/step - loss: 0.4938 - accuracy: 0.7528 - val_loss: 0.5465 - val_accuracy: 0.7239\n",
            "Epoch 83/500\n",
            "20/20 [==============================] - 0s 4ms/step - loss: 0.4961 - accuracy: 0.7753 - val_loss: 0.5238 - val_accuracy: 0.7090\n",
            "Epoch 84/500\n",
            "20/20 [==============================] - 0s 4ms/step - loss: 0.4901 - accuracy: 0.7673 - val_loss: 0.5233 - val_accuracy: 0.7239\n",
            "Epoch 85/500\n",
            "20/20 [==============================] - 0s 4ms/step - loss: 0.4829 - accuracy: 0.7753 - val_loss: 0.5173 - val_accuracy: 0.7201\n",
            "Epoch 86/500\n",
            "20/20 [==============================] - 0s 4ms/step - loss: 0.4896 - accuracy: 0.7721 - val_loss: 0.5704 - val_accuracy: 0.7276\n",
            "Epoch 87/500\n",
            "20/20 [==============================] - 0s 3ms/step - loss: 0.4903 - accuracy: 0.7801 - val_loss: 0.5122 - val_accuracy: 0.7463\n",
            "Epoch 88/500\n",
            "20/20 [==============================] - 0s 4ms/step - loss: 0.4796 - accuracy: 0.7721 - val_loss: 0.5075 - val_accuracy: 0.7463\n",
            "Epoch 89/500\n",
            "20/20 [==============================] - 0s 4ms/step - loss: 0.4739 - accuracy: 0.7913 - val_loss: 0.5273 - val_accuracy: 0.7425\n",
            "Epoch 90/500\n",
            "20/20 [==============================] - 0s 4ms/step - loss: 0.4734 - accuracy: 0.7833 - val_loss: 0.5186 - val_accuracy: 0.7313\n",
            "Epoch 91/500\n",
            "20/20 [==============================] - 0s 5ms/step - loss: 0.4654 - accuracy: 0.7961 - val_loss: 0.5295 - val_accuracy: 0.7313\n",
            "Epoch 92/500\n",
            "20/20 [==============================] - 0s 4ms/step - loss: 0.4723 - accuracy: 0.7817 - val_loss: 0.5247 - val_accuracy: 0.7388\n",
            "Epoch 93/500\n",
            "20/20 [==============================] - 0s 3ms/step - loss: 0.4691 - accuracy: 0.8074 - val_loss: 0.5060 - val_accuracy: 0.7687\n",
            "Epoch 94/500\n",
            "20/20 [==============================] - 0s 4ms/step - loss: 0.4577 - accuracy: 0.7881 - val_loss: 0.5089 - val_accuracy: 0.7724\n",
            "Epoch 95/500\n",
            "20/20 [==============================] - 0s 4ms/step - loss: 0.4702 - accuracy: 0.7897 - val_loss: 0.5153 - val_accuracy: 0.7313\n",
            "Epoch 96/500\n",
            "20/20 [==============================] - 0s 4ms/step - loss: 0.4631 - accuracy: 0.7801 - val_loss: 0.5154 - val_accuracy: 0.7687\n",
            "Epoch 97/500\n",
            "20/20 [==============================] - 0s 4ms/step - loss: 0.4672 - accuracy: 0.7881 - val_loss: 0.5016 - val_accuracy: 0.7463\n",
            "Epoch 98/500\n",
            "20/20 [==============================] - 0s 4ms/step - loss: 0.4509 - accuracy: 0.7994 - val_loss: 0.5016 - val_accuracy: 0.7425\n",
            "Epoch 99/500\n",
            "20/20 [==============================] - 0s 4ms/step - loss: 0.4612 - accuracy: 0.7881 - val_loss: 0.5083 - val_accuracy: 0.7649\n",
            "Epoch 100/500\n",
            "20/20 [==============================] - 0s 4ms/step - loss: 0.4621 - accuracy: 0.7913 - val_loss: 0.4943 - val_accuracy: 0.7612\n",
            "Epoch 101/500\n",
            "20/20 [==============================] - 0s 4ms/step - loss: 0.4505 - accuracy: 0.7994 - val_loss: 0.4995 - val_accuracy: 0.7649\n",
            "Epoch 102/500\n",
            "20/20 [==============================] - 0s 4ms/step - loss: 0.4628 - accuracy: 0.7833 - val_loss: 0.5076 - val_accuracy: 0.7388\n",
            "Epoch 103/500\n",
            "20/20 [==============================] - 0s 4ms/step - loss: 0.4474 - accuracy: 0.7961 - val_loss: 0.4950 - val_accuracy: 0.7388\n",
            "Epoch 104/500\n",
            "20/20 [==============================] - 0s 4ms/step - loss: 0.4507 - accuracy: 0.7929 - val_loss: 0.4950 - val_accuracy: 0.7575\n",
            "Epoch 105/500\n",
            "20/20 [==============================] - 0s 4ms/step - loss: 0.4602 - accuracy: 0.8074 - val_loss: 0.4936 - val_accuracy: 0.7575\n",
            "Epoch 106/500\n",
            "20/20 [==============================] - 0s 3ms/step - loss: 0.4484 - accuracy: 0.8026 - val_loss: 0.5076 - val_accuracy: 0.7537\n",
            "Epoch 107/500\n",
            "20/20 [==============================] - 0s 4ms/step - loss: 0.4534 - accuracy: 0.7978 - val_loss: 0.4920 - val_accuracy: 0.7649\n",
            "Epoch 108/500\n",
            "20/20 [==============================] - 0s 4ms/step - loss: 0.4525 - accuracy: 0.7849 - val_loss: 0.4975 - val_accuracy: 0.7724\n",
            "Epoch 109/500\n",
            "20/20 [==============================] - 0s 4ms/step - loss: 0.4536 - accuracy: 0.8058 - val_loss: 0.4931 - val_accuracy: 0.7799\n",
            "Epoch 110/500\n",
            "20/20 [==============================] - 0s 4ms/step - loss: 0.4427 - accuracy: 0.8026 - val_loss: 0.4883 - val_accuracy: 0.7649\n",
            "Epoch 111/500\n",
            "20/20 [==============================] - 0s 4ms/step - loss: 0.4383 - accuracy: 0.8170 - val_loss: 0.4940 - val_accuracy: 0.7724\n",
            "Epoch 112/500\n",
            "20/20 [==============================] - 0s 4ms/step - loss: 0.4532 - accuracy: 0.7945 - val_loss: 0.5090 - val_accuracy: 0.7575\n",
            "Epoch 113/500\n",
            "20/20 [==============================] - 0s 4ms/step - loss: 0.4438 - accuracy: 0.7929 - val_loss: 0.5168 - val_accuracy: 0.7351\n",
            "Epoch 114/500\n",
            "20/20 [==============================] - 0s 4ms/step - loss: 0.4507 - accuracy: 0.7961 - val_loss: 0.5099 - val_accuracy: 0.7500\n",
            "Epoch 115/500\n",
            "20/20 [==============================] - 0s 3ms/step - loss: 0.4510 - accuracy: 0.7897 - val_loss: 0.4947 - val_accuracy: 0.7649\n",
            "Epoch 116/500\n",
            "20/20 [==============================] - 0s 4ms/step - loss: 0.4454 - accuracy: 0.7961 - val_loss: 0.4896 - val_accuracy: 0.7575\n",
            "Epoch 117/500\n",
            "20/20 [==============================] - 0s 3ms/step - loss: 0.4452 - accuracy: 0.8090 - val_loss: 0.5294 - val_accuracy: 0.7313\n",
            "Epoch 118/500\n",
            "20/20 [==============================] - 0s 3ms/step - loss: 0.4410 - accuracy: 0.7994 - val_loss: 0.4881 - val_accuracy: 0.7649\n",
            "Epoch 119/500\n",
            "20/20 [==============================] - 0s 4ms/step - loss: 0.4391 - accuracy: 0.7978 - val_loss: 0.4915 - val_accuracy: 0.7687\n",
            "Epoch 120/500\n",
            "20/20 [==============================] - 0s 4ms/step - loss: 0.4455 - accuracy: 0.7897 - val_loss: 0.4892 - val_accuracy: 0.7612\n",
            "Epoch 121/500\n",
            "20/20 [==============================] - 0s 4ms/step - loss: 0.4328 - accuracy: 0.8122 - val_loss: 0.4892 - val_accuracy: 0.7799\n",
            "Epoch 122/500\n",
            "20/20 [==============================] - 0s 4ms/step - loss: 0.4341 - accuracy: 0.7994 - val_loss: 0.4983 - val_accuracy: 0.7761\n",
            "Epoch 123/500\n",
            "20/20 [==============================] - 0s 4ms/step - loss: 0.4345 - accuracy: 0.7945 - val_loss: 0.4902 - val_accuracy: 0.7612\n",
            "Epoch 124/500\n",
            "20/20 [==============================] - 0s 4ms/step - loss: 0.4455 - accuracy: 0.8090 - val_loss: 0.4889 - val_accuracy: 0.7836\n",
            "Epoch 125/500\n",
            "20/20 [==============================] - 0s 4ms/step - loss: 0.4406 - accuracy: 0.8026 - val_loss: 0.5040 - val_accuracy: 0.7836\n",
            "Epoch 126/500\n",
            "20/20 [==============================] - 0s 5ms/step - loss: 0.4409 - accuracy: 0.7961 - val_loss: 0.4890 - val_accuracy: 0.7687\n",
            "Epoch 127/500\n",
            "20/20 [==============================] - 0s 4ms/step - loss: 0.4407 - accuracy: 0.8186 - val_loss: 0.5050 - val_accuracy: 0.7910\n",
            "Epoch 128/500\n",
            "20/20 [==============================] - 0s 4ms/step - loss: 0.4463 - accuracy: 0.7817 - val_loss: 0.4943 - val_accuracy: 0.7612\n",
            "Epoch 129/500\n",
            "20/20 [==============================] - 0s 4ms/step - loss: 0.4345 - accuracy: 0.7994 - val_loss: 0.4946 - val_accuracy: 0.7575\n",
            "Epoch 130/500\n",
            "20/20 [==============================] - 0s 4ms/step - loss: 0.4256 - accuracy: 0.8122 - val_loss: 0.4929 - val_accuracy: 0.7612\n",
            "Epoch 131/500\n",
            "20/20 [==============================] - 0s 4ms/step - loss: 0.4234 - accuracy: 0.8026 - val_loss: 0.4929 - val_accuracy: 0.7575\n",
            "Epoch 132/500\n",
            "20/20 [==============================] - 0s 3ms/step - loss: 0.4346 - accuracy: 0.8042 - val_loss: 0.4897 - val_accuracy: 0.7799\n",
            "Epoch 133/500\n",
            "20/20 [==============================] - 0s 4ms/step - loss: 0.4374 - accuracy: 0.8026 - val_loss: 0.4937 - val_accuracy: 0.7649\n",
            "Epoch 134/500\n",
            "20/20 [==============================] - 0s 4ms/step - loss: 0.4328 - accuracy: 0.8090 - val_loss: 0.4985 - val_accuracy: 0.7799\n",
            "Epoch 135/500\n",
            "20/20 [==============================] - 0s 3ms/step - loss: 0.4371 - accuracy: 0.8090 - val_loss: 0.5497 - val_accuracy: 0.7537\n",
            "Epoch 136/500\n",
            "20/20 [==============================] - 0s 4ms/step - loss: 0.4376 - accuracy: 0.7994 - val_loss: 0.4951 - val_accuracy: 0.7761\n",
            "Epoch 137/500\n",
            "20/20 [==============================] - 0s 4ms/step - loss: 0.4380 - accuracy: 0.8042 - val_loss: 0.4959 - val_accuracy: 0.7799\n",
            "Epoch 138/500\n",
            "20/20 [==============================] - 0s 5ms/step - loss: 0.4360 - accuracy: 0.8026 - val_loss: 0.5074 - val_accuracy: 0.7985\n",
            "Epoch 139/500\n",
            "20/20 [==============================] - 0s 4ms/step - loss: 0.4342 - accuracy: 0.8026 - val_loss: 0.5096 - val_accuracy: 0.7388\n",
            "Epoch 140/500\n",
            "20/20 [==============================] - 0s 4ms/step - loss: 0.4281 - accuracy: 0.8042 - val_loss: 0.5358 - val_accuracy: 0.7388\n",
            "Epoch 141/500\n",
            "20/20 [==============================] - 0s 4ms/step - loss: 0.4375 - accuracy: 0.8026 - val_loss: 0.4944 - val_accuracy: 0.7724\n",
            "Epoch 142/500\n",
            "20/20 [==============================] - 0s 4ms/step - loss: 0.4415 - accuracy: 0.8090 - val_loss: 0.4901 - val_accuracy: 0.7761\n",
            "Epoch 143/500\n",
            "20/20 [==============================] - 0s 4ms/step - loss: 0.4198 - accuracy: 0.8042 - val_loss: 0.4938 - val_accuracy: 0.7761\n",
            "Epoch 144/500\n",
            "20/20 [==============================] - 0s 4ms/step - loss: 0.4337 - accuracy: 0.7945 - val_loss: 0.4969 - val_accuracy: 0.7910\n",
            "Epoch 145/500\n",
            "20/20 [==============================] - 0s 4ms/step - loss: 0.4439 - accuracy: 0.7961 - val_loss: 0.4899 - val_accuracy: 0.7537\n",
            "Epoch 146/500\n",
            "20/20 [==============================] - 0s 4ms/step - loss: 0.4352 - accuracy: 0.7897 - val_loss: 0.4915 - val_accuracy: 0.7612\n",
            "Epoch 147/500\n",
            "20/20 [==============================] - 0s 3ms/step - loss: 0.4441 - accuracy: 0.7961 - val_loss: 0.5228 - val_accuracy: 0.7425\n",
            "Epoch 148/500\n",
            "20/20 [==============================] - 0s 4ms/step - loss: 0.4409 - accuracy: 0.8138 - val_loss: 0.4926 - val_accuracy: 0.7873\n",
            "Epoch 149/500\n",
            "20/20 [==============================] - 0s 5ms/step - loss: 0.4386 - accuracy: 0.7994 - val_loss: 0.5034 - val_accuracy: 0.7612\n",
            "Epoch 150/500\n",
            "20/20 [==============================] - 0s 4ms/step - loss: 0.4306 - accuracy: 0.8058 - val_loss: 0.4860 - val_accuracy: 0.7575\n",
            "Epoch 151/500\n",
            "20/20 [==============================] - 0s 4ms/step - loss: 0.4319 - accuracy: 0.7929 - val_loss: 0.4855 - val_accuracy: 0.7649\n",
            "Epoch 152/500\n",
            "20/20 [==============================] - 0s 4ms/step - loss: 0.4363 - accuracy: 0.8074 - val_loss: 0.5189 - val_accuracy: 0.7351\n",
            "Epoch 153/500\n",
            "20/20 [==============================] - 0s 3ms/step - loss: 0.4250 - accuracy: 0.7994 - val_loss: 0.4905 - val_accuracy: 0.7687\n",
            "Epoch 154/500\n",
            "20/20 [==============================] - 0s 4ms/step - loss: 0.4250 - accuracy: 0.8154 - val_loss: 0.5030 - val_accuracy: 0.7985\n",
            "Epoch 155/500\n",
            "20/20 [==============================] - 0s 4ms/step - loss: 0.4298 - accuracy: 0.8090 - val_loss: 0.5111 - val_accuracy: 0.7985\n",
            "Epoch 156/500\n",
            "20/20 [==============================] - 0s 4ms/step - loss: 0.4396 - accuracy: 0.7994 - val_loss: 0.4867 - val_accuracy: 0.7799\n",
            "Epoch 157/500\n",
            "20/20 [==============================] - 0s 4ms/step - loss: 0.4272 - accuracy: 0.8106 - val_loss: 0.4918 - val_accuracy: 0.7799\n",
            "Epoch 158/500\n",
            "20/20 [==============================] - 0s 4ms/step - loss: 0.4233 - accuracy: 0.8010 - val_loss: 0.4958 - val_accuracy: 0.7948\n",
            "Epoch 159/500\n",
            "20/20 [==============================] - 0s 3ms/step - loss: 0.4293 - accuracy: 0.8058 - val_loss: 0.4885 - val_accuracy: 0.7687\n",
            "Epoch 160/500\n",
            "20/20 [==============================] - 0s 5ms/step - loss: 0.4279 - accuracy: 0.7978 - val_loss: 0.4885 - val_accuracy: 0.7612\n",
            "Epoch 161/500\n",
            "20/20 [==============================] - 0s 3ms/step - loss: 0.4270 - accuracy: 0.8122 - val_loss: 0.5305 - val_accuracy: 0.7463\n",
            "Epoch 162/500\n",
            "20/20 [==============================] - 0s 4ms/step - loss: 0.4425 - accuracy: 0.8010 - val_loss: 0.4923 - val_accuracy: 0.7799\n",
            "Epoch 163/500\n",
            "20/20 [==============================] - 0s 3ms/step - loss: 0.4298 - accuracy: 0.8106 - val_loss: 0.4864 - val_accuracy: 0.7537\n",
            "Epoch 164/500\n",
            "20/20 [==============================] - 0s 3ms/step - loss: 0.4208 - accuracy: 0.8042 - val_loss: 0.4826 - val_accuracy: 0.7575\n",
            "Epoch 165/500\n",
            "20/20 [==============================] - 0s 4ms/step - loss: 0.4261 - accuracy: 0.8122 - val_loss: 0.4940 - val_accuracy: 0.7948\n",
            "Epoch 166/500\n",
            "20/20 [==============================] - 0s 4ms/step - loss: 0.4326 - accuracy: 0.8042 - val_loss: 0.4964 - val_accuracy: 0.7724\n",
            "Epoch 167/500\n",
            "20/20 [==============================] - 0s 3ms/step - loss: 0.4230 - accuracy: 0.8090 - val_loss: 0.4916 - val_accuracy: 0.7724\n",
            "Epoch 168/500\n",
            "20/20 [==============================] - 0s 3ms/step - loss: 0.4233 - accuracy: 0.8186 - val_loss: 0.5106 - val_accuracy: 0.7649\n",
            "Epoch 169/500\n",
            "20/20 [==============================] - 0s 4ms/step - loss: 0.4259 - accuracy: 0.8090 - val_loss: 0.4862 - val_accuracy: 0.7612\n",
            "Epoch 170/500\n",
            "20/20 [==============================] - 0s 4ms/step - loss: 0.4196 - accuracy: 0.8234 - val_loss: 0.4968 - val_accuracy: 0.7761\n",
            "Epoch 171/500\n",
            "20/20 [==============================] - 0s 3ms/step - loss: 0.4322 - accuracy: 0.7978 - val_loss: 0.4863 - val_accuracy: 0.7761\n",
            "Epoch 172/500\n",
            "20/20 [==============================] - 0s 4ms/step - loss: 0.4163 - accuracy: 0.8186 - val_loss: 0.4903 - val_accuracy: 0.7910\n",
            "Epoch 173/500\n",
            "20/20 [==============================] - 0s 4ms/step - loss: 0.4362 - accuracy: 0.7897 - val_loss: 0.5010 - val_accuracy: 0.7985\n",
            "Epoch 174/500\n",
            "20/20 [==============================] - 0s 4ms/step - loss: 0.4324 - accuracy: 0.8074 - val_loss: 0.4921 - val_accuracy: 0.7537\n",
            "Epoch 175/500\n",
            "20/20 [==============================] - 0s 4ms/step - loss: 0.4138 - accuracy: 0.8234 - val_loss: 0.5196 - val_accuracy: 0.7500\n",
            "Epoch 176/500\n",
            "20/20 [==============================] - 0s 4ms/step - loss: 0.4192 - accuracy: 0.8186 - val_loss: 0.4936 - val_accuracy: 0.7612\n",
            "Epoch 177/500\n",
            "20/20 [==============================] - 0s 4ms/step - loss: 0.4274 - accuracy: 0.7994 - val_loss: 0.4921 - val_accuracy: 0.7724\n",
            "Epoch 178/500\n",
            "20/20 [==============================] - 0s 5ms/step - loss: 0.4247 - accuracy: 0.8042 - val_loss: 0.5532 - val_accuracy: 0.7463\n",
            "Epoch 179/500\n",
            "20/20 [==============================] - 0s 5ms/step - loss: 0.4252 - accuracy: 0.8186 - val_loss: 0.5210 - val_accuracy: 0.7425\n",
            "Epoch 180/500\n",
            "20/20 [==============================] - 0s 4ms/step - loss: 0.4294 - accuracy: 0.7978 - val_loss: 0.4870 - val_accuracy: 0.7463\n",
            "Epoch 181/500\n",
            "20/20 [==============================] - 0s 4ms/step - loss: 0.4217 - accuracy: 0.8138 - val_loss: 0.4841 - val_accuracy: 0.7724\n",
            "Epoch 182/500\n",
            "20/20 [==============================] - 0s 4ms/step - loss: 0.4317 - accuracy: 0.8058 - val_loss: 0.4892 - val_accuracy: 0.7537\n",
            "Epoch 183/500\n",
            "20/20 [==============================] - 0s 4ms/step - loss: 0.4247 - accuracy: 0.8106 - val_loss: 0.4984 - val_accuracy: 0.7500\n",
            "Epoch 184/500\n",
            "20/20 [==============================] - 0s 5ms/step - loss: 0.4115 - accuracy: 0.8154 - val_loss: 0.5302 - val_accuracy: 0.7500\n",
            "Epoch 185/500\n",
            "20/20 [==============================] - 0s 4ms/step - loss: 0.4132 - accuracy: 0.8106 - val_loss: 0.5213 - val_accuracy: 0.7575\n",
            "Epoch 186/500\n",
            "20/20 [==============================] - 0s 4ms/step - loss: 0.4277 - accuracy: 0.8010 - val_loss: 0.4945 - val_accuracy: 0.7687\n",
            "Epoch 187/500\n",
            "20/20 [==============================] - 0s 4ms/step - loss: 0.4278 - accuracy: 0.8042 - val_loss: 0.4912 - val_accuracy: 0.7612\n",
            "Epoch 188/500\n",
            "20/20 [==============================] - 0s 3ms/step - loss: 0.4161 - accuracy: 0.8154 - val_loss: 0.4940 - val_accuracy: 0.7948\n",
            "Epoch 189/500\n",
            "20/20 [==============================] - 0s 4ms/step - loss: 0.4268 - accuracy: 0.8106 - val_loss: 0.4906 - val_accuracy: 0.8022\n",
            "Epoch 190/500\n",
            "20/20 [==============================] - 0s 4ms/step - loss: 0.4196 - accuracy: 0.8090 - val_loss: 0.5188 - val_accuracy: 0.7537\n",
            "Epoch 191/500\n",
            "20/20 [==============================] - 0s 4ms/step - loss: 0.4156 - accuracy: 0.8106 - val_loss: 0.4961 - val_accuracy: 0.7799\n",
            "Epoch 192/500\n",
            "20/20 [==============================] - 0s 4ms/step - loss: 0.4234 - accuracy: 0.8058 - val_loss: 0.5072 - val_accuracy: 0.7612\n",
            "Epoch 193/500\n",
            "20/20 [==============================] - 0s 4ms/step - loss: 0.4312 - accuracy: 0.8122 - val_loss: 0.5312 - val_accuracy: 0.7500\n",
            "Epoch 194/500\n",
            "20/20 [==============================] - 0s 4ms/step - loss: 0.4188 - accuracy: 0.8026 - val_loss: 0.5007 - val_accuracy: 0.7500\n",
            "Epoch 195/500\n",
            "20/20 [==============================] - 0s 3ms/step - loss: 0.4234 - accuracy: 0.8058 - val_loss: 0.4920 - val_accuracy: 0.7873\n",
            "Epoch 196/500\n",
            "20/20 [==============================] - 0s 4ms/step - loss: 0.4168 - accuracy: 0.8138 - val_loss: 0.5213 - val_accuracy: 0.7612\n",
            "Epoch 197/500\n",
            "20/20 [==============================] - 0s 4ms/step - loss: 0.4185 - accuracy: 0.8218 - val_loss: 0.4914 - val_accuracy: 0.8022\n",
            "Epoch 198/500\n",
            "20/20 [==============================] - 0s 4ms/step - loss: 0.4143 - accuracy: 0.8106 - val_loss: 0.4866 - val_accuracy: 0.7799\n",
            "Epoch 199/500\n",
            "20/20 [==============================] - 0s 4ms/step - loss: 0.4137 - accuracy: 0.8138 - val_loss: 0.4952 - val_accuracy: 0.7761\n",
            "Epoch 200/500\n",
            "20/20 [==============================] - 0s 4ms/step - loss: 0.4172 - accuracy: 0.8058 - val_loss: 0.5026 - val_accuracy: 0.7948\n",
            "Epoch 201/500\n",
            "20/20 [==============================] - 0s 4ms/step - loss: 0.4195 - accuracy: 0.8170 - val_loss: 0.4916 - val_accuracy: 0.8022\n",
            "Epoch 202/500\n",
            "20/20 [==============================] - 0s 4ms/step - loss: 0.4127 - accuracy: 0.8283 - val_loss: 0.4970 - val_accuracy: 0.7724\n",
            "Epoch 203/500\n",
            "20/20 [==============================] - 0s 3ms/step - loss: 0.4058 - accuracy: 0.8154 - val_loss: 0.5159 - val_accuracy: 0.7463\n",
            "Epoch 204/500\n",
            "20/20 [==============================] - 0s 3ms/step - loss: 0.4266 - accuracy: 0.8042 - val_loss: 0.4958 - val_accuracy: 0.7761\n",
            "Epoch 205/500\n",
            "20/20 [==============================] - 0s 5ms/step - loss: 0.4110 - accuracy: 0.8186 - val_loss: 0.5112 - val_accuracy: 0.7575\n",
            "Epoch 206/500\n",
            "20/20 [==============================] - 0s 4ms/step - loss: 0.4127 - accuracy: 0.8058 - val_loss: 0.5080 - val_accuracy: 0.7575\n",
            "Epoch 207/500\n",
            "20/20 [==============================] - 0s 4ms/step - loss: 0.4228 - accuracy: 0.8074 - val_loss: 0.4914 - val_accuracy: 0.7799\n",
            "Epoch 208/500\n",
            "20/20 [==============================] - 0s 5ms/step - loss: 0.4084 - accuracy: 0.8202 - val_loss: 0.4931 - val_accuracy: 0.7575\n",
            "Epoch 209/500\n",
            "20/20 [==============================] - 0s 4ms/step - loss: 0.4150 - accuracy: 0.8026 - val_loss: 0.4949 - val_accuracy: 0.7948\n",
            "Epoch 210/500\n",
            "20/20 [==============================] - 0s 4ms/step - loss: 0.4323 - accuracy: 0.7929 - val_loss: 0.4970 - val_accuracy: 0.7575\n",
            "Epoch 211/500\n",
            "20/20 [==============================] - 0s 4ms/step - loss: 0.4166 - accuracy: 0.8154 - val_loss: 0.4918 - val_accuracy: 0.7985\n",
            "Epoch 212/500\n",
            "20/20 [==============================] - 0s 4ms/step - loss: 0.4226 - accuracy: 0.8106 - val_loss: 0.4955 - val_accuracy: 0.7873\n",
            "Epoch 213/500\n",
            "20/20 [==============================] - 0s 4ms/step - loss: 0.4193 - accuracy: 0.8202 - val_loss: 0.5014 - val_accuracy: 0.7724\n",
            "Epoch 214/500\n",
            "20/20 [==============================] - 0s 4ms/step - loss: 0.4219 - accuracy: 0.8074 - val_loss: 0.4953 - val_accuracy: 0.7873\n",
            "Epoch 215/500\n",
            "20/20 [==============================] - 0s 4ms/step - loss: 0.4143 - accuracy: 0.8234 - val_loss: 0.4895 - val_accuracy: 0.7948\n",
            "Epoch 216/500\n",
            "20/20 [==============================] - 0s 5ms/step - loss: 0.4164 - accuracy: 0.8122 - val_loss: 0.4831 - val_accuracy: 0.7910\n",
            "Epoch 217/500\n",
            "20/20 [==============================] - 0s 4ms/step - loss: 0.4156 - accuracy: 0.8186 - val_loss: 0.4897 - val_accuracy: 0.7724\n",
            "Epoch 218/500\n",
            "20/20 [==============================] - 0s 3ms/step - loss: 0.4112 - accuracy: 0.8074 - val_loss: 0.5159 - val_accuracy: 0.7463\n",
            "Epoch 219/500\n",
            "20/20 [==============================] - 0s 4ms/step - loss: 0.4220 - accuracy: 0.8042 - val_loss: 0.5066 - val_accuracy: 0.7612\n",
            "Epoch 220/500\n",
            "20/20 [==============================] - 0s 4ms/step - loss: 0.4238 - accuracy: 0.8010 - val_loss: 0.4903 - val_accuracy: 0.7985\n",
            "Epoch 221/500\n",
            "20/20 [==============================] - 0s 3ms/step - loss: 0.4071 - accuracy: 0.8170 - val_loss: 0.5066 - val_accuracy: 0.7687\n",
            "Epoch 222/500\n",
            "20/20 [==============================] - 0s 4ms/step - loss: 0.4078 - accuracy: 0.8154 - val_loss: 0.4896 - val_accuracy: 0.7873\n",
            "Epoch 223/500\n",
            "20/20 [==============================] - 0s 4ms/step - loss: 0.4145 - accuracy: 0.8186 - val_loss: 0.5025 - val_accuracy: 0.7873\n",
            "Epoch 224/500\n",
            "20/20 [==============================] - 0s 3ms/step - loss: 0.4259 - accuracy: 0.8042 - val_loss: 0.4891 - val_accuracy: 0.7948\n",
            "Epoch 225/500\n",
            "20/20 [==============================] - 0s 5ms/step - loss: 0.4106 - accuracy: 0.8315 - val_loss: 0.4949 - val_accuracy: 0.7985\n",
            "Epoch 226/500\n",
            "20/20 [==============================] - 0s 4ms/step - loss: 0.4172 - accuracy: 0.8074 - val_loss: 0.5188 - val_accuracy: 0.7799\n",
            "Epoch 227/500\n",
            "20/20 [==============================] - 0s 3ms/step - loss: 0.4077 - accuracy: 0.8218 - val_loss: 0.4970 - val_accuracy: 0.7948\n",
            "Epoch 228/500\n",
            "20/20 [==============================] - 0s 5ms/step - loss: 0.4120 - accuracy: 0.8122 - val_loss: 0.4928 - val_accuracy: 0.7985\n",
            "Epoch 229/500\n",
            "20/20 [==============================] - 0s 4ms/step - loss: 0.4144 - accuracy: 0.8170 - val_loss: 0.5784 - val_accuracy: 0.7463\n",
            "Epoch 230/500\n",
            "20/20 [==============================] - 0s 4ms/step - loss: 0.4146 - accuracy: 0.8170 - val_loss: 0.5389 - val_accuracy: 0.7463\n",
            "Epoch 231/500\n",
            "20/20 [==============================] - 0s 5ms/step - loss: 0.4098 - accuracy: 0.8106 - val_loss: 0.4916 - val_accuracy: 0.7910\n",
            "Epoch 232/500\n",
            "20/20 [==============================] - 0s 4ms/step - loss: 0.4170 - accuracy: 0.8218 - val_loss: 0.4914 - val_accuracy: 0.7985\n",
            "Epoch 233/500\n",
            "20/20 [==============================] - 0s 3ms/step - loss: 0.4166 - accuracy: 0.8202 - val_loss: 0.4895 - val_accuracy: 0.7724\n",
            "Epoch 234/500\n",
            "20/20 [==============================] - 0s 4ms/step - loss: 0.4085 - accuracy: 0.8202 - val_loss: 0.5418 - val_accuracy: 0.7500\n",
            "Epoch 235/500\n",
            "20/20 [==============================] - 0s 3ms/step - loss: 0.4150 - accuracy: 0.8122 - val_loss: 0.5029 - val_accuracy: 0.7948\n",
            "Epoch 236/500\n",
            "20/20 [==============================] - 0s 4ms/step - loss: 0.4122 - accuracy: 0.8250 - val_loss: 0.4848 - val_accuracy: 0.7948\n",
            "Epoch 237/500\n",
            "20/20 [==============================] - 0s 4ms/step - loss: 0.4097 - accuracy: 0.8283 - val_loss: 0.5157 - val_accuracy: 0.7910\n",
            "Epoch 238/500\n",
            "20/20 [==============================] - 0s 4ms/step - loss: 0.4125 - accuracy: 0.8186 - val_loss: 0.4951 - val_accuracy: 0.7985\n",
            "Epoch 239/500\n",
            "20/20 [==============================] - 0s 4ms/step - loss: 0.4125 - accuracy: 0.8202 - val_loss: 0.5121 - val_accuracy: 0.7575\n",
            "Epoch 240/500\n",
            "20/20 [==============================] - 0s 4ms/step - loss: 0.4166 - accuracy: 0.8106 - val_loss: 0.4898 - val_accuracy: 0.7761\n",
            "Epoch 241/500\n",
            "20/20 [==============================] - 0s 4ms/step - loss: 0.4114 - accuracy: 0.8283 - val_loss: 0.4868 - val_accuracy: 0.7836\n",
            "Epoch 242/500\n",
            "20/20 [==============================] - 0s 5ms/step - loss: 0.4134 - accuracy: 0.8250 - val_loss: 0.4952 - val_accuracy: 0.7948\n",
            "Epoch 243/500\n",
            "20/20 [==============================] - 0s 4ms/step - loss: 0.4117 - accuracy: 0.8138 - val_loss: 0.4979 - val_accuracy: 0.8022\n",
            "Epoch 244/500\n",
            "20/20 [==============================] - 0s 4ms/step - loss: 0.4027 - accuracy: 0.8122 - val_loss: 0.4876 - val_accuracy: 0.7873\n",
            "Epoch 245/500\n",
            "20/20 [==============================] - 0s 4ms/step - loss: 0.4064 - accuracy: 0.8186 - val_loss: 0.5015 - val_accuracy: 0.7948\n",
            "Epoch 246/500\n",
            "20/20 [==============================] - 0s 4ms/step - loss: 0.4094 - accuracy: 0.8170 - val_loss: 0.4921 - val_accuracy: 0.7948\n",
            "Epoch 247/500\n",
            "20/20 [==============================] - 0s 4ms/step - loss: 0.4108 - accuracy: 0.8154 - val_loss: 0.5018 - val_accuracy: 0.7985\n",
            "Epoch 248/500\n",
            "20/20 [==============================] - 0s 5ms/step - loss: 0.4076 - accuracy: 0.8250 - val_loss: 0.4910 - val_accuracy: 0.7985\n",
            "Epoch 249/500\n",
            "20/20 [==============================] - 0s 3ms/step - loss: 0.4191 - accuracy: 0.8154 - val_loss: 0.5362 - val_accuracy: 0.7500\n",
            "Epoch 250/500\n",
            "20/20 [==============================] - 0s 4ms/step - loss: 0.4135 - accuracy: 0.8202 - val_loss: 0.5099 - val_accuracy: 0.7724\n",
            "Epoch 251/500\n",
            "20/20 [==============================] - 0s 4ms/step - loss: 0.4131 - accuracy: 0.8170 - val_loss: 0.4921 - val_accuracy: 0.8022\n",
            "Epoch 252/500\n",
            "20/20 [==============================] - 0s 4ms/step - loss: 0.4124 - accuracy: 0.8186 - val_loss: 0.5418 - val_accuracy: 0.7537\n",
            "Epoch 253/500\n",
            "20/20 [==============================] - 0s 5ms/step - loss: 0.4112 - accuracy: 0.8202 - val_loss: 0.4936 - val_accuracy: 0.7910\n",
            "Epoch 254/500\n",
            "20/20 [==============================] - 0s 3ms/step - loss: 0.4074 - accuracy: 0.8234 - val_loss: 0.5139 - val_accuracy: 0.7799\n",
            "Epoch 255/500\n",
            "20/20 [==============================] - 0s 4ms/step - loss: 0.4039 - accuracy: 0.8170 - val_loss: 0.4908 - val_accuracy: 0.7985\n",
            "Epoch 256/500\n",
            "20/20 [==============================] - 0s 4ms/step - loss: 0.4129 - accuracy: 0.8218 - val_loss: 0.5050 - val_accuracy: 0.7985\n",
            "Epoch 257/500\n",
            "20/20 [==============================] - 0s 4ms/step - loss: 0.4071 - accuracy: 0.8218 - val_loss: 0.4996 - val_accuracy: 0.7873\n",
            "Epoch 258/500\n",
            "20/20 [==============================] - 0s 4ms/step - loss: 0.4090 - accuracy: 0.8154 - val_loss: 0.5249 - val_accuracy: 0.7612\n",
            "Epoch 259/500\n",
            "20/20 [==============================] - 0s 4ms/step - loss: 0.4210 - accuracy: 0.8074 - val_loss: 0.4865 - val_accuracy: 0.7985\n",
            "Epoch 260/500\n",
            "20/20 [==============================] - 0s 4ms/step - loss: 0.4056 - accuracy: 0.8154 - val_loss: 0.4927 - val_accuracy: 0.8022\n",
            "Epoch 261/500\n",
            "20/20 [==============================] - 0s 4ms/step - loss: 0.4029 - accuracy: 0.8154 - val_loss: 0.5192 - val_accuracy: 0.7724\n",
            "Epoch 262/500\n",
            "20/20 [==============================] - 0s 4ms/step - loss: 0.4091 - accuracy: 0.8331 - val_loss: 0.4913 - val_accuracy: 0.7761\n",
            "Epoch 263/500\n",
            "20/20 [==============================] - 0s 4ms/step - loss: 0.4028 - accuracy: 0.8186 - val_loss: 0.4995 - val_accuracy: 0.8060\n",
            "Epoch 264/500\n",
            "20/20 [==============================] - 0s 4ms/step - loss: 0.4136 - accuracy: 0.8154 - val_loss: 0.4884 - val_accuracy: 0.7985\n",
            "Epoch 265/500\n",
            "20/20 [==============================] - 0s 4ms/step - loss: 0.4068 - accuracy: 0.8411 - val_loss: 0.5081 - val_accuracy: 0.7985\n",
            "Epoch 266/500\n",
            "20/20 [==============================] - 0s 4ms/step - loss: 0.4144 - accuracy: 0.8186 - val_loss: 0.5368 - val_accuracy: 0.7873\n",
            "Epoch 267/500\n",
            "20/20 [==============================] - 0s 4ms/step - loss: 0.4019 - accuracy: 0.8299 - val_loss: 0.5034 - val_accuracy: 0.7836\n",
            "Epoch 268/500\n",
            "20/20 [==============================] - 0s 4ms/step - loss: 0.4065 - accuracy: 0.8154 - val_loss: 0.4889 - val_accuracy: 0.7910\n",
            "Epoch 269/500\n",
            "20/20 [==============================] - 0s 4ms/step - loss: 0.4109 - accuracy: 0.8234 - val_loss: 0.4930 - val_accuracy: 0.8022\n",
            "Epoch 270/500\n",
            "20/20 [==============================] - 0s 4ms/step - loss: 0.4061 - accuracy: 0.8266 - val_loss: 0.4957 - val_accuracy: 0.7985\n",
            "Epoch 271/500\n",
            "20/20 [==============================] - 0s 4ms/step - loss: 0.4097 - accuracy: 0.8250 - val_loss: 0.5078 - val_accuracy: 0.7910\n",
            "Epoch 272/500\n",
            "20/20 [==============================] - 0s 5ms/step - loss: 0.4121 - accuracy: 0.8283 - val_loss: 0.4893 - val_accuracy: 0.7985\n",
            "Epoch 273/500\n",
            "20/20 [==============================] - 0s 4ms/step - loss: 0.4082 - accuracy: 0.8202 - val_loss: 0.4887 - val_accuracy: 0.7910\n",
            "Epoch 274/500\n",
            "20/20 [==============================] - 0s 3ms/step - loss: 0.4029 - accuracy: 0.8250 - val_loss: 0.5175 - val_accuracy: 0.7649\n",
            "Epoch 275/500\n",
            "20/20 [==============================] - 0s 3ms/step - loss: 0.4088 - accuracy: 0.8234 - val_loss: 0.4843 - val_accuracy: 0.7948\n",
            "Epoch 276/500\n",
            "20/20 [==============================] - 0s 4ms/step - loss: 0.4069 - accuracy: 0.8315 - val_loss: 0.4893 - val_accuracy: 0.7948\n",
            "Epoch 277/500\n",
            "20/20 [==============================] - 0s 3ms/step - loss: 0.4019 - accuracy: 0.8250 - val_loss: 0.5396 - val_accuracy: 0.7537\n",
            "Epoch 278/500\n",
            "20/20 [==============================] - 0s 3ms/step - loss: 0.4069 - accuracy: 0.8315 - val_loss: 0.5175 - val_accuracy: 0.7799\n",
            "Epoch 279/500\n",
            "20/20 [==============================] - 0s 4ms/step - loss: 0.4171 - accuracy: 0.8170 - val_loss: 0.4997 - val_accuracy: 0.7948\n",
            "Epoch 280/500\n",
            "20/20 [==============================] - 0s 3ms/step - loss: 0.4110 - accuracy: 0.8266 - val_loss: 0.4877 - val_accuracy: 0.7910\n",
            "Epoch 281/500\n",
            "20/20 [==============================] - 0s 4ms/step - loss: 0.4055 - accuracy: 0.8266 - val_loss: 0.5036 - val_accuracy: 0.7873\n",
            "Epoch 282/500\n",
            "20/20 [==============================] - 0s 4ms/step - loss: 0.3993 - accuracy: 0.8315 - val_loss: 0.4960 - val_accuracy: 0.7724\n",
            "Epoch 283/500\n",
            "20/20 [==============================] - 0s 4ms/step - loss: 0.4212 - accuracy: 0.8266 - val_loss: 0.4932 - val_accuracy: 0.8022\n",
            "Epoch 284/500\n",
            "20/20 [==============================] - 0s 4ms/step - loss: 0.4044 - accuracy: 0.8315 - val_loss: 0.5204 - val_accuracy: 0.7761\n",
            "Epoch 285/500\n",
            "20/20 [==============================] - 0s 4ms/step - loss: 0.4078 - accuracy: 0.8283 - val_loss: 0.4924 - val_accuracy: 0.7948\n",
            "Epoch 286/500\n",
            "20/20 [==============================] - 0s 4ms/step - loss: 0.4087 - accuracy: 0.8363 - val_loss: 0.4905 - val_accuracy: 0.7948\n",
            "Epoch 287/500\n",
            "20/20 [==============================] - 0s 4ms/step - loss: 0.4027 - accuracy: 0.8186 - val_loss: 0.5210 - val_accuracy: 0.7799\n",
            "Epoch 288/500\n",
            "20/20 [==============================] - 0s 5ms/step - loss: 0.4008 - accuracy: 0.8427 - val_loss: 0.4894 - val_accuracy: 0.7985\n",
            "Epoch 289/500\n",
            "20/20 [==============================] - 0s 4ms/step - loss: 0.4097 - accuracy: 0.8347 - val_loss: 0.4890 - val_accuracy: 0.7985\n",
            "Epoch 290/500\n",
            "20/20 [==============================] - 0s 4ms/step - loss: 0.4109 - accuracy: 0.8202 - val_loss: 0.4867 - val_accuracy: 0.7985\n",
            "Epoch 291/500\n",
            "20/20 [==============================] - 0s 4ms/step - loss: 0.3998 - accuracy: 0.8234 - val_loss: 0.4894 - val_accuracy: 0.7948\n",
            "Epoch 292/500\n",
            "20/20 [==============================] - 0s 4ms/step - loss: 0.4032 - accuracy: 0.8250 - val_loss: 0.4954 - val_accuracy: 0.7948\n",
            "Epoch 293/500\n",
            "20/20 [==============================] - 0s 4ms/step - loss: 0.4094 - accuracy: 0.8234 - val_loss: 0.4960 - val_accuracy: 0.7985\n",
            "Epoch 294/500\n",
            "20/20 [==============================] - 0s 5ms/step - loss: 0.4034 - accuracy: 0.8299 - val_loss: 0.4955 - val_accuracy: 0.7985\n",
            "Epoch 295/500\n",
            "20/20 [==============================] - 0s 4ms/step - loss: 0.4017 - accuracy: 0.8218 - val_loss: 0.4899 - val_accuracy: 0.8022\n",
            "Epoch 296/500\n",
            "20/20 [==============================] - 0s 4ms/step - loss: 0.3972 - accuracy: 0.8283 - val_loss: 0.4989 - val_accuracy: 0.7910\n",
            "Epoch 297/500\n",
            "20/20 [==============================] - 0s 4ms/step - loss: 0.4025 - accuracy: 0.8218 - val_loss: 0.5352 - val_accuracy: 0.7649\n",
            "Epoch 298/500\n",
            "20/20 [==============================] - 0s 7ms/step - loss: 0.4070 - accuracy: 0.8138 - val_loss: 0.5390 - val_accuracy: 0.7537\n",
            "Epoch 299/500\n",
            "20/20 [==============================] - 0s 6ms/step - loss: 0.4053 - accuracy: 0.8202 - val_loss: 0.5041 - val_accuracy: 0.7985\n",
            "Epoch 300/500\n",
            "20/20 [==============================] - 0s 4ms/step - loss: 0.4096 - accuracy: 0.8266 - val_loss: 0.4970 - val_accuracy: 0.8022\n",
            "Epoch 301/500\n",
            "20/20 [==============================] - 0s 4ms/step - loss: 0.4007 - accuracy: 0.8331 - val_loss: 0.5487 - val_accuracy: 0.7537\n",
            "Epoch 302/500\n",
            "20/20 [==============================] - 0s 4ms/step - loss: 0.3978 - accuracy: 0.8234 - val_loss: 0.4945 - val_accuracy: 0.7985\n",
            "Epoch 303/500\n",
            "20/20 [==============================] - 0s 4ms/step - loss: 0.4053 - accuracy: 0.8202 - val_loss: 0.5097 - val_accuracy: 0.7799\n",
            "Epoch 304/500\n",
            "20/20 [==============================] - 0s 4ms/step - loss: 0.4061 - accuracy: 0.8347 - val_loss: 0.4948 - val_accuracy: 0.7724\n",
            "Epoch 305/500\n",
            "20/20 [==============================] - 0s 4ms/step - loss: 0.3952 - accuracy: 0.8299 - val_loss: 0.5479 - val_accuracy: 0.7873\n",
            "Epoch 306/500\n",
            "20/20 [==============================] - 0s 4ms/step - loss: 0.4060 - accuracy: 0.8266 - val_loss: 0.5210 - val_accuracy: 0.7724\n",
            "Epoch 307/500\n",
            "20/20 [==============================] - 0s 4ms/step - loss: 0.4123 - accuracy: 0.8138 - val_loss: 0.4987 - val_accuracy: 0.7761\n",
            "Epoch 308/500\n",
            "20/20 [==============================] - 0s 4ms/step - loss: 0.4087 - accuracy: 0.8234 - val_loss: 0.4925 - val_accuracy: 0.7985\n",
            "Epoch 309/500\n",
            "20/20 [==============================] - 0s 4ms/step - loss: 0.3968 - accuracy: 0.8315 - val_loss: 0.5076 - val_accuracy: 0.8022\n",
            "Epoch 310/500\n",
            "20/20 [==============================] - 0s 4ms/step - loss: 0.4028 - accuracy: 0.8218 - val_loss: 0.4941 - val_accuracy: 0.7985\n",
            "Epoch 311/500\n",
            "20/20 [==============================] - 0s 4ms/step - loss: 0.3954 - accuracy: 0.8379 - val_loss: 0.5141 - val_accuracy: 0.7910\n",
            "Epoch 312/500\n",
            "20/20 [==============================] - 0s 4ms/step - loss: 0.4030 - accuracy: 0.8266 - val_loss: 0.5222 - val_accuracy: 0.7985\n",
            "Epoch 313/500\n",
            "20/20 [==============================] - 0s 4ms/step - loss: 0.4068 - accuracy: 0.8379 - val_loss: 0.4925 - val_accuracy: 0.8097\n",
            "Epoch 314/500\n",
            "20/20 [==============================] - 0s 5ms/step - loss: 0.4042 - accuracy: 0.8218 - val_loss: 0.5164 - val_accuracy: 0.7985\n",
            "Epoch 315/500\n",
            "20/20 [==============================] - 0s 4ms/step - loss: 0.4019 - accuracy: 0.8266 - val_loss: 0.5121 - val_accuracy: 0.7948\n",
            "Epoch 316/500\n",
            "20/20 [==============================] - 0s 5ms/step - loss: 0.4079 - accuracy: 0.8186 - val_loss: 0.4881 - val_accuracy: 0.7948\n",
            "Epoch 317/500\n",
            "20/20 [==============================] - 0s 4ms/step - loss: 0.3979 - accuracy: 0.8315 - val_loss: 0.4956 - val_accuracy: 0.7985\n",
            "Epoch 318/500\n",
            "20/20 [==============================] - 0s 4ms/step - loss: 0.4087 - accuracy: 0.8154 - val_loss: 0.5096 - val_accuracy: 0.7985\n",
            "Epoch 319/500\n",
            "20/20 [==============================] - 0s 4ms/step - loss: 0.3978 - accuracy: 0.8202 - val_loss: 0.4920 - val_accuracy: 0.7873\n",
            "Epoch 320/500\n",
            "20/20 [==============================] - 0s 4ms/step - loss: 0.4042 - accuracy: 0.8363 - val_loss: 0.4950 - val_accuracy: 0.7836\n",
            "Epoch 321/500\n",
            "20/20 [==============================] - 0s 4ms/step - loss: 0.3975 - accuracy: 0.8202 - val_loss: 0.5015 - val_accuracy: 0.7910\n",
            "Epoch 322/500\n",
            "20/20 [==============================] - 0s 4ms/step - loss: 0.4046 - accuracy: 0.8250 - val_loss: 0.4949 - val_accuracy: 0.7910\n",
            "Epoch 323/500\n",
            "20/20 [==============================] - 0s 4ms/step - loss: 0.4120 - accuracy: 0.8202 - val_loss: 0.5062 - val_accuracy: 0.7873\n",
            "Epoch 324/500\n",
            "20/20 [==============================] - 0s 5ms/step - loss: 0.3930 - accuracy: 0.8266 - val_loss: 0.4992 - val_accuracy: 0.7985\n",
            "Epoch 325/500\n",
            "20/20 [==============================] - 0s 4ms/step - loss: 0.4036 - accuracy: 0.8250 - val_loss: 0.4897 - val_accuracy: 0.7948\n",
            "Epoch 326/500\n",
            "20/20 [==============================] - 0s 4ms/step - loss: 0.3944 - accuracy: 0.8090 - val_loss: 0.4941 - val_accuracy: 0.7985\n",
            "Epoch 327/500\n",
            "20/20 [==============================] - 0s 4ms/step - loss: 0.4035 - accuracy: 0.8395 - val_loss: 0.4914 - val_accuracy: 0.7985\n",
            "Epoch 328/500\n",
            "20/20 [==============================] - 0s 4ms/step - loss: 0.3966 - accuracy: 0.8234 - val_loss: 0.5012 - val_accuracy: 0.7948\n",
            "Epoch 329/500\n",
            "20/20 [==============================] - 0s 4ms/step - loss: 0.4079 - accuracy: 0.8379 - val_loss: 0.5114 - val_accuracy: 0.8022\n",
            "Epoch 330/500\n",
            "20/20 [==============================] - 0s 4ms/step - loss: 0.4002 - accuracy: 0.8122 - val_loss: 0.5059 - val_accuracy: 0.7985\n",
            "Epoch 331/500\n",
            "20/20 [==============================] - 0s 4ms/step - loss: 0.4094 - accuracy: 0.8250 - val_loss: 0.4969 - val_accuracy: 0.7948\n",
            "Epoch 332/500\n",
            "20/20 [==============================] - 0s 5ms/step - loss: 0.4002 - accuracy: 0.8266 - val_loss: 0.4962 - val_accuracy: 0.7985\n",
            "Epoch 333/500\n",
            "20/20 [==============================] - 0s 4ms/step - loss: 0.3964 - accuracy: 0.8331 - val_loss: 0.5121 - val_accuracy: 0.7985\n",
            "Epoch 334/500\n",
            "20/20 [==============================] - 0s 4ms/step - loss: 0.4002 - accuracy: 0.8218 - val_loss: 0.5032 - val_accuracy: 0.7948\n",
            "Epoch 335/500\n",
            "20/20 [==============================] - 0s 6ms/step - loss: 0.3986 - accuracy: 0.8331 - val_loss: 0.4949 - val_accuracy: 0.7985\n",
            "Epoch 336/500\n",
            "20/20 [==============================] - 0s 4ms/step - loss: 0.4048 - accuracy: 0.8283 - val_loss: 0.4837 - val_accuracy: 0.7948\n",
            "Epoch 337/500\n",
            "20/20 [==============================] - 0s 4ms/step - loss: 0.3911 - accuracy: 0.8331 - val_loss: 0.5068 - val_accuracy: 0.7948\n",
            "Epoch 338/500\n",
            "20/20 [==============================] - 0s 4ms/step - loss: 0.3991 - accuracy: 0.8315 - val_loss: 0.4850 - val_accuracy: 0.7948\n",
            "Epoch 339/500\n",
            "20/20 [==============================] - 0s 4ms/step - loss: 0.4008 - accuracy: 0.8299 - val_loss: 0.4962 - val_accuracy: 0.7985\n",
            "Epoch 340/500\n",
            "20/20 [==============================] - 0s 4ms/step - loss: 0.4073 - accuracy: 0.8186 - val_loss: 0.5316 - val_accuracy: 0.7910\n",
            "Epoch 341/500\n",
            "20/20 [==============================] - 0s 4ms/step - loss: 0.3960 - accuracy: 0.8347 - val_loss: 0.5159 - val_accuracy: 0.7948\n",
            "Epoch 342/500\n",
            "20/20 [==============================] - 0s 4ms/step - loss: 0.4034 - accuracy: 0.8266 - val_loss: 0.4999 - val_accuracy: 0.7985\n",
            "Epoch 343/500\n",
            "20/20 [==============================] - 0s 4ms/step - loss: 0.4019 - accuracy: 0.8170 - val_loss: 0.5089 - val_accuracy: 0.7985\n",
            "Epoch 344/500\n",
            "20/20 [==============================] - 0s 4ms/step - loss: 0.4004 - accuracy: 0.8427 - val_loss: 0.5319 - val_accuracy: 0.7799\n",
            "Epoch 345/500\n",
            "20/20 [==============================] - 0s 4ms/step - loss: 0.4096 - accuracy: 0.8122 - val_loss: 0.5096 - val_accuracy: 0.8097\n",
            "Epoch 346/500\n",
            "20/20 [==============================] - 0s 4ms/step - loss: 0.3973 - accuracy: 0.8283 - val_loss: 0.5108 - val_accuracy: 0.8060\n",
            "Epoch 347/500\n",
            "20/20 [==============================] - 0s 4ms/step - loss: 0.4005 - accuracy: 0.8347 - val_loss: 0.5087 - val_accuracy: 0.7948\n",
            "Epoch 348/500\n",
            "20/20 [==============================] - 0s 4ms/step - loss: 0.4019 - accuracy: 0.8347 - val_loss: 0.4915 - val_accuracy: 0.7985\n",
            "Epoch 349/500\n",
            "20/20 [==============================] - 0s 4ms/step - loss: 0.4043 - accuracy: 0.8363 - val_loss: 0.4889 - val_accuracy: 0.7910\n",
            "Epoch 350/500\n",
            "20/20 [==============================] - 0s 4ms/step - loss: 0.3955 - accuracy: 0.8218 - val_loss: 0.5269 - val_accuracy: 0.7948\n",
            "Epoch 351/500\n",
            "20/20 [==============================] - 0s 3ms/step - loss: 0.4033 - accuracy: 0.8202 - val_loss: 0.4963 - val_accuracy: 0.7948\n",
            "Epoch 352/500\n",
            "20/20 [==============================] - 0s 4ms/step - loss: 0.3990 - accuracy: 0.8299 - val_loss: 0.5004 - val_accuracy: 0.7985\n",
            "Epoch 353/500\n",
            "20/20 [==============================] - 0s 4ms/step - loss: 0.3948 - accuracy: 0.8411 - val_loss: 0.4982 - val_accuracy: 0.7948\n",
            "Epoch 354/500\n",
            "20/20 [==============================] - 0s 3ms/step - loss: 0.3978 - accuracy: 0.8218 - val_loss: 0.4929 - val_accuracy: 0.7948\n",
            "Epoch 355/500\n",
            "20/20 [==============================] - 0s 4ms/step - loss: 0.3985 - accuracy: 0.8266 - val_loss: 0.5211 - val_accuracy: 0.8134\n",
            "Epoch 356/500\n",
            "20/20 [==============================] - 0s 4ms/step - loss: 0.3995 - accuracy: 0.8154 - val_loss: 0.4932 - val_accuracy: 0.7910\n",
            "Epoch 357/500\n",
            "20/20 [==============================] - 0s 3ms/step - loss: 0.3895 - accuracy: 0.8443 - val_loss: 0.5062 - val_accuracy: 0.7985\n",
            "Epoch 358/500\n",
            "20/20 [==============================] - 0s 3ms/step - loss: 0.4014 - accuracy: 0.8170 - val_loss: 0.5127 - val_accuracy: 0.8060\n",
            "Epoch 359/500\n",
            "20/20 [==============================] - 0s 3ms/step - loss: 0.4043 - accuracy: 0.8138 - val_loss: 0.4882 - val_accuracy: 0.7948\n",
            "Epoch 360/500\n",
            "20/20 [==============================] - 0s 3ms/step - loss: 0.3865 - accuracy: 0.8331 - val_loss: 0.4942 - val_accuracy: 0.7985\n",
            "Epoch 361/500\n",
            "20/20 [==============================] - 0s 4ms/step - loss: 0.4026 - accuracy: 0.8266 - val_loss: 0.5112 - val_accuracy: 0.8134\n",
            "Epoch 362/500\n",
            "20/20 [==============================] - 0s 4ms/step - loss: 0.4007 - accuracy: 0.8250 - val_loss: 0.5085 - val_accuracy: 0.7948\n",
            "Epoch 363/500\n",
            "20/20 [==============================] - 0s 4ms/step - loss: 0.3900 - accuracy: 0.8299 - val_loss: 0.4972 - val_accuracy: 0.8134\n",
            "Epoch 364/500\n",
            "20/20 [==============================] - 0s 4ms/step - loss: 0.3927 - accuracy: 0.8266 - val_loss: 0.4962 - val_accuracy: 0.7910\n",
            "Epoch 365/500\n",
            "20/20 [==============================] - 0s 4ms/step - loss: 0.4024 - accuracy: 0.8266 - val_loss: 0.4986 - val_accuracy: 0.7985\n",
            "Epoch 366/500\n",
            "20/20 [==============================] - 0s 4ms/step - loss: 0.3936 - accuracy: 0.8491 - val_loss: 0.5153 - val_accuracy: 0.7948\n",
            "Epoch 367/500\n",
            "20/20 [==============================] - 0s 5ms/step - loss: 0.4012 - accuracy: 0.8170 - val_loss: 0.4955 - val_accuracy: 0.7948\n",
            "Epoch 368/500\n",
            "20/20 [==============================] - 0s 4ms/step - loss: 0.3866 - accuracy: 0.8331 - val_loss: 0.5037 - val_accuracy: 0.7910\n",
            "Epoch 369/500\n",
            "20/20 [==============================] - 0s 4ms/step - loss: 0.4019 - accuracy: 0.8186 - val_loss: 0.5041 - val_accuracy: 0.7948\n",
            "Epoch 370/500\n",
            "20/20 [==============================] - 0s 4ms/step - loss: 0.3941 - accuracy: 0.8363 - val_loss: 0.5126 - val_accuracy: 0.7799\n",
            "Epoch 371/500\n",
            "20/20 [==============================] - 0s 4ms/step - loss: 0.3986 - accuracy: 0.8299 - val_loss: 0.5155 - val_accuracy: 0.7948\n",
            "Epoch 372/500\n",
            "20/20 [==============================] - 0s 4ms/step - loss: 0.3907 - accuracy: 0.8379 - val_loss: 0.4954 - val_accuracy: 0.7910\n",
            "Epoch 373/500\n",
            "20/20 [==============================] - 0s 4ms/step - loss: 0.3913 - accuracy: 0.8507 - val_loss: 0.5447 - val_accuracy: 0.7799\n",
            "Epoch 374/500\n",
            "20/20 [==============================] - 0s 4ms/step - loss: 0.4002 - accuracy: 0.8299 - val_loss: 0.4961 - val_accuracy: 0.7985\n",
            "Epoch 375/500\n",
            "20/20 [==============================] - 0s 4ms/step - loss: 0.3932 - accuracy: 0.8283 - val_loss: 0.5097 - val_accuracy: 0.8060\n",
            "Epoch 376/500\n",
            "20/20 [==============================] - 0s 4ms/step - loss: 0.4023 - accuracy: 0.8042 - val_loss: 0.4963 - val_accuracy: 0.7985\n",
            "Epoch 377/500\n",
            "20/20 [==============================] - 0s 4ms/step - loss: 0.3965 - accuracy: 0.8347 - val_loss: 0.5237 - val_accuracy: 0.7985\n",
            "Epoch 378/500\n",
            "20/20 [==============================] - 0s 6ms/step - loss: 0.4118 - accuracy: 0.8234 - val_loss: 0.5004 - val_accuracy: 0.7985\n",
            "Epoch 379/500\n",
            "20/20 [==============================] - 0s 4ms/step - loss: 0.3959 - accuracy: 0.8283 - val_loss: 0.4905 - val_accuracy: 0.7948\n",
            "Epoch 380/500\n",
            "20/20 [==============================] - 0s 4ms/step - loss: 0.4017 - accuracy: 0.8283 - val_loss: 0.4985 - val_accuracy: 0.8209\n",
            "Epoch 381/500\n",
            "20/20 [==============================] - 0s 4ms/step - loss: 0.4035 - accuracy: 0.8331 - val_loss: 0.4903 - val_accuracy: 0.7948\n",
            "Epoch 382/500\n",
            "20/20 [==============================] - 0s 4ms/step - loss: 0.3991 - accuracy: 0.8379 - val_loss: 0.4991 - val_accuracy: 0.7687\n",
            "Epoch 383/500\n",
            "20/20 [==============================] - 0s 4ms/step - loss: 0.3910 - accuracy: 0.8363 - val_loss: 0.5156 - val_accuracy: 0.7948\n",
            "Epoch 384/500\n",
            "20/20 [==============================] - 0s 4ms/step - loss: 0.3938 - accuracy: 0.8299 - val_loss: 0.5000 - val_accuracy: 0.7985\n",
            "Epoch 385/500\n",
            "20/20 [==============================] - 0s 4ms/step - loss: 0.3988 - accuracy: 0.8250 - val_loss: 0.5237 - val_accuracy: 0.7910\n",
            "Epoch 386/500\n",
            "20/20 [==============================] - 0s 4ms/step - loss: 0.4019 - accuracy: 0.8250 - val_loss: 0.5005 - val_accuracy: 0.7948\n",
            "Epoch 387/500\n",
            "20/20 [==============================] - 0s 4ms/step - loss: 0.3967 - accuracy: 0.8347 - val_loss: 0.5581 - val_accuracy: 0.7724\n",
            "Epoch 388/500\n",
            "20/20 [==============================] - 0s 4ms/step - loss: 0.4009 - accuracy: 0.8299 - val_loss: 0.5122 - val_accuracy: 0.8022\n",
            "Epoch 389/500\n",
            "20/20 [==============================] - 0s 4ms/step - loss: 0.3879 - accuracy: 0.8363 - val_loss: 0.5013 - val_accuracy: 0.7985\n",
            "Epoch 390/500\n",
            "20/20 [==============================] - 0s 4ms/step - loss: 0.4033 - accuracy: 0.8299 - val_loss: 0.4995 - val_accuracy: 0.7985\n",
            "Epoch 391/500\n",
            "20/20 [==============================] - 0s 4ms/step - loss: 0.3995 - accuracy: 0.8250 - val_loss: 0.4907 - val_accuracy: 0.7836\n",
            "Epoch 392/500\n",
            "20/20 [==============================] - 0s 4ms/step - loss: 0.3951 - accuracy: 0.8234 - val_loss: 0.5018 - val_accuracy: 0.8060\n",
            "Epoch 393/500\n",
            "20/20 [==============================] - 0s 4ms/step - loss: 0.4047 - accuracy: 0.8250 - val_loss: 0.5030 - val_accuracy: 0.7799\n",
            "Epoch 394/500\n",
            "20/20 [==============================] - 0s 4ms/step - loss: 0.3956 - accuracy: 0.8266 - val_loss: 0.4948 - val_accuracy: 0.7910\n",
            "Epoch 395/500\n",
            "20/20 [==============================] - 0s 4ms/step - loss: 0.3948 - accuracy: 0.8315 - val_loss: 0.5384 - val_accuracy: 0.7799\n",
            "Epoch 396/500\n",
            "20/20 [==============================] - 0s 3ms/step - loss: 0.3930 - accuracy: 0.8331 - val_loss: 0.4941 - val_accuracy: 0.8209\n",
            "Epoch 397/500\n",
            "20/20 [==============================] - 0s 3ms/step - loss: 0.3865 - accuracy: 0.8475 - val_loss: 0.5053 - val_accuracy: 0.7985\n",
            "Epoch 398/500\n",
            "20/20 [==============================] - 0s 4ms/step - loss: 0.4050 - accuracy: 0.8234 - val_loss: 0.4942 - val_accuracy: 0.7873\n",
            "Epoch 399/500\n",
            "20/20 [==============================] - 0s 4ms/step - loss: 0.4011 - accuracy: 0.8154 - val_loss: 0.5089 - val_accuracy: 0.7948\n",
            "Epoch 400/500\n",
            "20/20 [==============================] - 0s 4ms/step - loss: 0.3997 - accuracy: 0.8202 - val_loss: 0.5604 - val_accuracy: 0.7724\n",
            "Epoch 401/500\n",
            "20/20 [==============================] - 0s 3ms/step - loss: 0.3907 - accuracy: 0.8283 - val_loss: 0.5215 - val_accuracy: 0.8022\n",
            "Epoch 402/500\n",
            "20/20 [==============================] - 0s 3ms/step - loss: 0.3960 - accuracy: 0.8266 - val_loss: 0.5519 - val_accuracy: 0.7799\n",
            "Epoch 403/500\n",
            "20/20 [==============================] - 0s 3ms/step - loss: 0.3933 - accuracy: 0.8395 - val_loss: 0.5373 - val_accuracy: 0.7948\n",
            "Epoch 404/500\n",
            "20/20 [==============================] - 0s 4ms/step - loss: 0.3939 - accuracy: 0.8250 - val_loss: 0.4951 - val_accuracy: 0.8097\n",
            "Epoch 405/500\n",
            "20/20 [==============================] - 0s 4ms/step - loss: 0.3788 - accuracy: 0.8427 - val_loss: 0.4928 - val_accuracy: 0.7948\n",
            "Epoch 406/500\n",
            "20/20 [==============================] - 0s 4ms/step - loss: 0.3945 - accuracy: 0.8347 - val_loss: 0.6012 - val_accuracy: 0.7537\n",
            "Epoch 407/500\n",
            "20/20 [==============================] - 0s 4ms/step - loss: 0.4064 - accuracy: 0.8299 - val_loss: 0.5132 - val_accuracy: 0.8060\n",
            "Epoch 408/500\n",
            "20/20 [==============================] - 0s 4ms/step - loss: 0.3918 - accuracy: 0.8395 - val_loss: 0.6083 - val_accuracy: 0.7575\n",
            "Epoch 409/500\n",
            "20/20 [==============================] - 0s 4ms/step - loss: 0.3905 - accuracy: 0.8283 - val_loss: 0.5389 - val_accuracy: 0.7799\n",
            "Epoch 410/500\n",
            "20/20 [==============================] - 0s 3ms/step - loss: 0.3944 - accuracy: 0.8347 - val_loss: 0.4986 - val_accuracy: 0.7948\n",
            "Epoch 411/500\n",
            "20/20 [==============================] - 0s 4ms/step - loss: 0.3913 - accuracy: 0.8331 - val_loss: 0.4981 - val_accuracy: 0.8097\n",
            "Epoch 412/500\n",
            "20/20 [==============================] - 0s 5ms/step - loss: 0.3941 - accuracy: 0.8331 - val_loss: 0.5005 - val_accuracy: 0.8134\n",
            "Epoch 413/500\n",
            "20/20 [==============================] - 0s 5ms/step - loss: 0.4020 - accuracy: 0.8186 - val_loss: 0.4995 - val_accuracy: 0.8022\n",
            "Epoch 414/500\n",
            "20/20 [==============================] - 0s 4ms/step - loss: 0.3904 - accuracy: 0.8395 - val_loss: 0.4973 - val_accuracy: 0.7948\n",
            "Epoch 415/500\n",
            "20/20 [==============================] - 0s 3ms/step - loss: 0.3888 - accuracy: 0.8363 - val_loss: 0.5092 - val_accuracy: 0.7948\n",
            "Epoch 416/500\n",
            "20/20 [==============================] - 0s 4ms/step - loss: 0.4046 - accuracy: 0.8266 - val_loss: 0.5054 - val_accuracy: 0.7948\n",
            "Epoch 417/500\n",
            "20/20 [==============================] - 0s 4ms/step - loss: 0.3926 - accuracy: 0.8234 - val_loss: 0.5020 - val_accuracy: 0.7985\n",
            "Epoch 418/500\n",
            "20/20 [==============================] - 0s 4ms/step - loss: 0.3848 - accuracy: 0.8379 - val_loss: 0.5009 - val_accuracy: 0.7948\n",
            "Epoch 419/500\n",
            "20/20 [==============================] - 0s 4ms/step - loss: 0.3967 - accuracy: 0.8250 - val_loss: 0.5166 - val_accuracy: 0.8022\n",
            "Epoch 420/500\n",
            "20/20 [==============================] - 0s 4ms/step - loss: 0.4027 - accuracy: 0.8266 - val_loss: 0.5029 - val_accuracy: 0.7948\n",
            "Epoch 421/500\n",
            "20/20 [==============================] - 0s 4ms/step - loss: 0.3987 - accuracy: 0.8363 - val_loss: 0.5031 - val_accuracy: 0.8172\n",
            "Epoch 422/500\n",
            "20/20 [==============================] - 0s 5ms/step - loss: 0.3907 - accuracy: 0.8379 - val_loss: 0.5083 - val_accuracy: 0.8022\n",
            "Epoch 423/500\n",
            "20/20 [==============================] - 0s 5ms/step - loss: 0.3895 - accuracy: 0.8347 - val_loss: 0.4967 - val_accuracy: 0.8172\n",
            "Epoch 424/500\n",
            "20/20 [==============================] - 0s 5ms/step - loss: 0.3901 - accuracy: 0.8283 - val_loss: 0.5025 - val_accuracy: 0.8134\n",
            "Epoch 425/500\n",
            "20/20 [==============================] - 0s 4ms/step - loss: 0.3938 - accuracy: 0.8347 - val_loss: 0.5012 - val_accuracy: 0.7948\n",
            "Epoch 426/500\n",
            "20/20 [==============================] - 0s 4ms/step - loss: 0.3983 - accuracy: 0.8283 - val_loss: 0.4964 - val_accuracy: 0.7910\n",
            "Epoch 427/500\n",
            "20/20 [==============================] - 0s 4ms/step - loss: 0.3913 - accuracy: 0.8443 - val_loss: 0.5033 - val_accuracy: 0.7910\n",
            "Epoch 428/500\n",
            "20/20 [==============================] - 0s 5ms/step - loss: 0.3932 - accuracy: 0.8315 - val_loss: 0.5084 - val_accuracy: 0.7985\n",
            "Epoch 429/500\n",
            "20/20 [==============================] - 0s 4ms/step - loss: 0.3894 - accuracy: 0.8234 - val_loss: 0.4991 - val_accuracy: 0.7873\n",
            "Epoch 430/500\n",
            "20/20 [==============================] - 0s 4ms/step - loss: 0.3988 - accuracy: 0.8491 - val_loss: 0.5052 - val_accuracy: 0.8134\n",
            "Epoch 431/500\n",
            "20/20 [==============================] - 0s 4ms/step - loss: 0.3896 - accuracy: 0.8315 - val_loss: 0.5012 - val_accuracy: 0.7873\n",
            "Epoch 432/500\n",
            "20/20 [==============================] - 0s 5ms/step - loss: 0.4019 - accuracy: 0.8250 - val_loss: 0.5071 - val_accuracy: 0.8172\n",
            "Epoch 433/500\n",
            "20/20 [==============================] - 0s 4ms/step - loss: 0.3895 - accuracy: 0.8443 - val_loss: 0.5024 - val_accuracy: 0.8172\n",
            "Epoch 434/500\n",
            "20/20 [==============================] - 0s 4ms/step - loss: 0.3841 - accuracy: 0.8427 - val_loss: 0.4956 - val_accuracy: 0.7948\n",
            "Epoch 435/500\n",
            "20/20 [==============================] - 0s 4ms/step - loss: 0.3974 - accuracy: 0.8202 - val_loss: 0.5117 - val_accuracy: 0.7910\n",
            "Epoch 436/500\n",
            "20/20 [==============================] - 0s 5ms/step - loss: 0.4086 - accuracy: 0.8170 - val_loss: 0.5054 - val_accuracy: 0.7910\n",
            "Epoch 437/500\n",
            "20/20 [==============================] - 0s 4ms/step - loss: 0.4044 - accuracy: 0.8170 - val_loss: 0.5080 - val_accuracy: 0.7836\n",
            "Epoch 438/500\n",
            "20/20 [==============================] - 0s 4ms/step - loss: 0.3903 - accuracy: 0.8363 - val_loss: 0.5096 - val_accuracy: 0.8246\n",
            "Epoch 439/500\n",
            "20/20 [==============================] - 0s 4ms/step - loss: 0.3874 - accuracy: 0.8411 - val_loss: 0.5030 - val_accuracy: 0.7985\n",
            "Epoch 440/500\n",
            "20/20 [==============================] - 0s 4ms/step - loss: 0.3975 - accuracy: 0.8250 - val_loss: 0.5242 - val_accuracy: 0.8060\n",
            "Epoch 441/500\n",
            "20/20 [==============================] - 0s 4ms/step - loss: 0.3901 - accuracy: 0.8395 - val_loss: 0.4982 - val_accuracy: 0.7761\n",
            "Epoch 442/500\n",
            "20/20 [==============================] - 0s 4ms/step - loss: 0.3899 - accuracy: 0.8347 - val_loss: 0.5063 - val_accuracy: 0.8060\n",
            "Epoch 443/500\n",
            "20/20 [==============================] - 0s 4ms/step - loss: 0.3884 - accuracy: 0.8379 - val_loss: 0.4955 - val_accuracy: 0.7910\n",
            "Epoch 444/500\n",
            "20/20 [==============================] - 0s 5ms/step - loss: 0.3890 - accuracy: 0.8411 - val_loss: 0.4924 - val_accuracy: 0.7910\n",
            "Epoch 445/500\n",
            "20/20 [==============================] - 0s 4ms/step - loss: 0.4015 - accuracy: 0.8379 - val_loss: 0.5007 - val_accuracy: 0.7910\n",
            "Epoch 446/500\n",
            "20/20 [==============================] - 0s 4ms/step - loss: 0.3888 - accuracy: 0.8443 - val_loss: 0.5125 - val_accuracy: 0.8097\n",
            "Epoch 447/500\n",
            "20/20 [==============================] - 0s 4ms/step - loss: 0.3791 - accuracy: 0.8331 - val_loss: 0.5325 - val_accuracy: 0.7836\n",
            "Epoch 448/500\n",
            "20/20 [==============================] - 0s 4ms/step - loss: 0.3934 - accuracy: 0.8331 - val_loss: 0.4981 - val_accuracy: 0.7985\n",
            "Epoch 449/500\n",
            "20/20 [==============================] - 0s 4ms/step - loss: 0.3953 - accuracy: 0.8283 - val_loss: 0.5024 - val_accuracy: 0.8060\n",
            "Epoch 450/500\n",
            "20/20 [==============================] - 0s 4ms/step - loss: 0.3869 - accuracy: 0.8283 - val_loss: 0.5150 - val_accuracy: 0.7985\n",
            "Epoch 451/500\n",
            "20/20 [==============================] - 0s 4ms/step - loss: 0.3981 - accuracy: 0.8299 - val_loss: 0.5044 - val_accuracy: 0.7948\n",
            "Epoch 452/500\n",
            "20/20 [==============================] - 0s 4ms/step - loss: 0.3889 - accuracy: 0.8331 - val_loss: 0.5172 - val_accuracy: 0.8172\n",
            "Epoch 453/500\n",
            "20/20 [==============================] - 0s 4ms/step - loss: 0.3928 - accuracy: 0.8379 - val_loss: 0.5006 - val_accuracy: 0.8060\n",
            "Epoch 454/500\n",
            "20/20 [==============================] - 0s 4ms/step - loss: 0.3894 - accuracy: 0.8347 - val_loss: 0.4941 - val_accuracy: 0.8134\n",
            "Epoch 455/500\n",
            "20/20 [==============================] - 0s 5ms/step - loss: 0.3871 - accuracy: 0.8299 - val_loss: 0.4992 - val_accuracy: 0.7910\n",
            "Epoch 456/500\n",
            "20/20 [==============================] - 0s 4ms/step - loss: 0.3958 - accuracy: 0.8218 - val_loss: 0.5053 - val_accuracy: 0.7836\n",
            "Epoch 457/500\n",
            "20/20 [==============================] - 0s 6ms/step - loss: 0.3892 - accuracy: 0.8202 - val_loss: 0.5193 - val_accuracy: 0.7985\n",
            "Epoch 458/500\n",
            "20/20 [==============================] - 0s 4ms/step - loss: 0.3982 - accuracy: 0.8170 - val_loss: 0.4995 - val_accuracy: 0.7948\n",
            "Epoch 459/500\n",
            "20/20 [==============================] - 0s 4ms/step - loss: 0.3964 - accuracy: 0.8299 - val_loss: 0.5007 - val_accuracy: 0.7948\n",
            "Epoch 460/500\n",
            "20/20 [==============================] - 0s 4ms/step - loss: 0.3887 - accuracy: 0.8299 - val_loss: 0.4999 - val_accuracy: 0.7948\n",
            "Epoch 461/500\n",
            "20/20 [==============================] - 0s 4ms/step - loss: 0.3839 - accuracy: 0.8347 - val_loss: 0.5159 - val_accuracy: 0.8060\n",
            "Epoch 462/500\n",
            "20/20 [==============================] - 0s 5ms/step - loss: 0.3956 - accuracy: 0.8315 - val_loss: 0.5126 - val_accuracy: 0.8097\n",
            "Epoch 463/500\n",
            "20/20 [==============================] - 0s 4ms/step - loss: 0.3861 - accuracy: 0.8283 - val_loss: 0.4956 - val_accuracy: 0.7873\n",
            "Epoch 464/500\n",
            "20/20 [==============================] - 0s 4ms/step - loss: 0.3958 - accuracy: 0.8459 - val_loss: 0.5025 - val_accuracy: 0.7985\n",
            "Epoch 465/500\n",
            "20/20 [==============================] - 0s 4ms/step - loss: 0.4019 - accuracy: 0.8250 - val_loss: 0.5009 - val_accuracy: 0.8284\n",
            "Epoch 466/500\n",
            "20/20 [==============================] - 0s 5ms/step - loss: 0.3899 - accuracy: 0.8202 - val_loss: 0.5097 - val_accuracy: 0.8097\n",
            "Epoch 467/500\n",
            "20/20 [==============================] - 0s 4ms/step - loss: 0.3849 - accuracy: 0.8443 - val_loss: 0.5099 - val_accuracy: 0.8134\n",
            "Epoch 468/500\n",
            "20/20 [==============================] - 0s 4ms/step - loss: 0.3919 - accuracy: 0.8234 - val_loss: 0.4941 - val_accuracy: 0.7873\n",
            "Epoch 469/500\n",
            "20/20 [==============================] - 0s 4ms/step - loss: 0.3893 - accuracy: 0.8266 - val_loss: 0.4960 - val_accuracy: 0.7948\n",
            "Epoch 470/500\n",
            "20/20 [==============================] - 0s 4ms/step - loss: 0.3993 - accuracy: 0.8186 - val_loss: 0.5236 - val_accuracy: 0.7910\n",
            "Epoch 471/500\n",
            "20/20 [==============================] - 0s 4ms/step - loss: 0.3989 - accuracy: 0.8379 - val_loss: 0.4997 - val_accuracy: 0.7873\n",
            "Epoch 472/500\n",
            "20/20 [==============================] - 0s 4ms/step - loss: 0.3908 - accuracy: 0.8266 - val_loss: 0.5092 - val_accuracy: 0.7985\n",
            "Epoch 473/500\n",
            "20/20 [==============================] - 0s 4ms/step - loss: 0.3935 - accuracy: 0.8427 - val_loss: 0.5108 - val_accuracy: 0.8134\n",
            "Epoch 474/500\n",
            "20/20 [==============================] - 0s 4ms/step - loss: 0.3839 - accuracy: 0.8363 - val_loss: 0.5056 - val_accuracy: 0.8097\n",
            "Epoch 475/500\n",
            "20/20 [==============================] - 0s 4ms/step - loss: 0.3979 - accuracy: 0.8234 - val_loss: 0.5334 - val_accuracy: 0.8060\n",
            "Epoch 476/500\n",
            "20/20 [==============================] - 0s 4ms/step - loss: 0.3950 - accuracy: 0.8379 - val_loss: 0.4970 - val_accuracy: 0.7948\n",
            "Epoch 477/500\n",
            "20/20 [==============================] - 0s 6ms/step - loss: 0.3998 - accuracy: 0.8363 - val_loss: 0.5135 - val_accuracy: 0.8060\n",
            "Epoch 478/500\n",
            "20/20 [==============================] - 0s 4ms/step - loss: 0.3868 - accuracy: 0.8411 - val_loss: 0.4954 - val_accuracy: 0.7910\n",
            "Epoch 479/500\n",
            "20/20 [==============================] - 0s 4ms/step - loss: 0.3973 - accuracy: 0.8170 - val_loss: 0.4952 - val_accuracy: 0.7948\n",
            "Epoch 480/500\n",
            "20/20 [==============================] - 0s 4ms/step - loss: 0.3898 - accuracy: 0.8363 - val_loss: 0.4954 - val_accuracy: 0.8097\n",
            "Epoch 481/500\n",
            "20/20 [==============================] - 0s 4ms/step - loss: 0.3880 - accuracy: 0.8459 - val_loss: 0.5015 - val_accuracy: 0.8172\n",
            "Epoch 482/500\n",
            "20/20 [==============================] - 0s 4ms/step - loss: 0.3844 - accuracy: 0.8379 - val_loss: 0.5048 - val_accuracy: 0.7910\n",
            "Epoch 483/500\n",
            "20/20 [==============================] - 0s 4ms/step - loss: 0.3891 - accuracy: 0.8443 - val_loss: 0.4963 - val_accuracy: 0.8172\n",
            "Epoch 484/500\n",
            "20/20 [==============================] - 0s 4ms/step - loss: 0.3927 - accuracy: 0.8427 - val_loss: 0.5137 - val_accuracy: 0.7948\n",
            "Epoch 485/500\n",
            "20/20 [==============================] - 0s 4ms/step - loss: 0.3921 - accuracy: 0.8218 - val_loss: 0.5308 - val_accuracy: 0.8022\n",
            "Epoch 486/500\n",
            "20/20 [==============================] - 0s 4ms/step - loss: 0.3919 - accuracy: 0.8283 - val_loss: 0.5350 - val_accuracy: 0.8022\n",
            "Epoch 487/500\n",
            "20/20 [==============================] - 0s 4ms/step - loss: 0.3867 - accuracy: 0.8331 - val_loss: 0.4958 - val_accuracy: 0.7948\n",
            "Epoch 488/500\n",
            "20/20 [==============================] - 0s 4ms/step - loss: 0.3918 - accuracy: 0.8331 - val_loss: 0.5118 - val_accuracy: 0.8097\n",
            "Epoch 489/500\n",
            "20/20 [==============================] - 0s 4ms/step - loss: 0.3905 - accuracy: 0.8347 - val_loss: 0.5007 - val_accuracy: 0.7985\n",
            "Epoch 490/500\n",
            "20/20 [==============================] - 0s 4ms/step - loss: 0.3864 - accuracy: 0.8331 - val_loss: 0.5178 - val_accuracy: 0.7948\n",
            "Epoch 491/500\n",
            "20/20 [==============================] - 0s 5ms/step - loss: 0.3959 - accuracy: 0.8315 - val_loss: 0.5058 - val_accuracy: 0.7948\n",
            "Epoch 492/500\n",
            "20/20 [==============================] - 0s 4ms/step - loss: 0.3871 - accuracy: 0.8347 - val_loss: 0.4953 - val_accuracy: 0.7948\n",
            "Epoch 493/500\n",
            "20/20 [==============================] - 0s 4ms/step - loss: 0.3876 - accuracy: 0.8331 - val_loss: 0.5074 - val_accuracy: 0.7910\n",
            "Epoch 494/500\n",
            "20/20 [==============================] - 0s 4ms/step - loss: 0.3850 - accuracy: 0.8379 - val_loss: 0.5153 - val_accuracy: 0.8022\n",
            "Epoch 495/500\n",
            "20/20 [==============================] - 0s 5ms/step - loss: 0.3897 - accuracy: 0.8315 - val_loss: 0.5254 - val_accuracy: 0.8022\n",
            "Epoch 496/500\n",
            "20/20 [==============================] - 0s 4ms/step - loss: 0.3921 - accuracy: 0.8202 - val_loss: 0.5046 - val_accuracy: 0.7873\n",
            "Epoch 497/500\n",
            "20/20 [==============================] - 0s 4ms/step - loss: 0.3871 - accuracy: 0.8266 - val_loss: 0.5102 - val_accuracy: 0.8060\n",
            "Epoch 498/500\n",
            "20/20 [==============================] - 0s 4ms/step - loss: 0.3870 - accuracy: 0.8283 - val_loss: 0.5027 - val_accuracy: 0.7836\n",
            "Epoch 499/500\n",
            "20/20 [==============================] - 0s 5ms/step - loss: 0.3895 - accuracy: 0.8122 - val_loss: 0.5145 - val_accuracy: 0.8134\n",
            "Epoch 500/500\n",
            "20/20 [==============================] - 0s 4ms/step - loss: 0.3911 - accuracy: 0.8379 - val_loss: 0.5031 - val_accuracy: 0.7948\n"
          ]
        }
      ]
    },
    {
      "cell_type": "code",
      "source": [
        "import matplotlib.pyplot as plt"
      ],
      "metadata": {
        "id": "HM0TQnzuT94E"
      },
      "execution_count": 106,
      "outputs": []
    },
    {
      "cell_type": "code",
      "source": [
        "chart_epochs = range(1, epochs + 1)\n",
        "\n",
        "plt.plot(chart_epochs, run_history.history['accuracy'], label=\"Training Accuracy\")\n",
        "plt.plot(chart_epochs, run_history.history['val_accuracy'], label=\"Validation Accuracy\")\n",
        "plt.legend()\n",
        "\n",
        "plt.figure()\n",
        "plt.plot(chart_epochs, run_history.history['loss'], label=\"Training Loss\")\n",
        "plt.plot(chart_epochs, run_history.history['val_loss'], label=\"Validation Loss\")\n",
        "plt.legend()\n",
        "\n",
        "plt.show()"
      ],
      "metadata": {
        "colab": {
          "base_uri": "https://localhost:8080/",
          "height": 533
        },
        "id": "O8aAtuEgUBZR",
        "outputId": "04f8adc7-3be2-4498-8b37-5c4a8c034da6"
      },
      "execution_count": 107,
      "outputs": [
        {
          "output_type": "display_data",
          "data": {
            "text/plain": [
              "<Figure size 432x288 with 1 Axes>"
            ],
            "image/png": "[encoded data removed]"
          },
          "metadata": {
            "needs_background": "light"
          }
        },
        {
          "output_type": "display_data",
          "data": {
            "text/plain": [
              "<Figure size 432x288 with 1 Axes>"
            ],
            "image/png": "[encoded data removed]"
          },
          "metadata": {
            "needs_background": "light"
          }
        }
      ]
    },
    {
      "cell_type": "code",
      "source": [
        "test_df = pd.read_csv(\"test.csv\")"
      ],
      "metadata": {
        "id": "9GlYh3NInpIj"
      },
      "execution_count": 39,
      "outputs": []
    },
    {
      "cell_type": "code",
      "source": [
        "test_df.info()"
      ],
      "metadata": {
        "id": "PrXjNd0in1qt",
        "outputId": "be633e74-75aa-4127-a1ff-92c023e60f09",
        "colab": {
          "base_uri": "https://localhost:8080/"
        }
      },
      "execution_count": 40,
      "outputs": [
        {
          "output_type": "stream",
          "name": "stdout",
          "text": [
            "<class 'pandas.core.frame.DataFrame'>\n",
            "RangeIndex: 418 entries, 0 to 417\n",
            "Data columns (total 11 columns):\n",
            " #   Column       Non-Null Count  Dtype  \n",
            "---  ------       --------------  -----  \n",
            " 0   PassengerId  418 non-null    int64  \n",
            " 1   Pclass       418 non-null    int64  \n",
            " 2   Name         418 non-null    object \n",
            " 3   Sex          418 non-null    object \n",
            " 4   Age          332 non-null    float64\n",
            " 5   SibSp        418 non-null    int64  \n",
            " 6   Parch        418 non-null    int64  \n",
            " 7   Ticket       418 non-null    object \n",
            " 8   Fare         417 non-null    float64\n",
            " 9   Cabin        91 non-null     object \n",
            " 10  Embarked     418 non-null    object \n",
            "dtypes: float64(2), int64(4), object(5)\n",
            "memory usage: 36.0+ KB\n"
          ]
        }
      ]
    },
    {
      "cell_type": "code",
      "source": [
        "test_df[\"Age\"] = test_df[\"Age\"].fillna(mean_age)"
      ],
      "metadata": {
        "id": "hipCZi15n3dI"
      },
      "execution_count": 41,
      "outputs": []
    },
    {
      "cell_type": "code",
      "source": [
        "test_df[\"Fare\"] = test_df[\"Fare\"].fillna(round(df_data[\"Fare\"].mean(), 2))"
      ],
      "metadata": {
        "id": "Aczgyl7UqISh"
      },
      "execution_count": 42,
      "outputs": []
    },
    {
      "cell_type": "code",
      "source": [
        "test_df.info()"
      ],
      "metadata": {
        "id": "em-PnZbYpl4I",
        "outputId": "7fd32c4a-e499-4d1b-c524-940a78d8e30c",
        "colab": {
          "base_uri": "https://localhost:8080/"
        }
      },
      "execution_count": 43,
      "outputs": [
        {
          "output_type": "stream",
          "name": "stdout",
          "text": [
            "<class 'pandas.core.frame.DataFrame'>\n",
            "RangeIndex: 418 entries, 0 to 417\n",
            "Data columns (total 11 columns):\n",
            " #   Column       Non-Null Count  Dtype  \n",
            "---  ------       --------------  -----  \n",
            " 0   PassengerId  418 non-null    int64  \n",
            " 1   Pclass       418 non-null    int64  \n",
            " 2   Name         418 non-null    object \n",
            " 3   Sex          418 non-null    object \n",
            " 4   Age          418 non-null    float64\n",
            " 5   SibSp        418 non-null    int64  \n",
            " 6   Parch        418 non-null    int64  \n",
            " 7   Ticket       418 non-null    object \n",
            " 8   Fare         418 non-null    float64\n",
            " 9   Cabin        91 non-null     object \n",
            " 10  Embarked     418 non-null    object \n",
            "dtypes: float64(2), int64(4), object(5)\n",
            "memory usage: 36.0+ KB\n"
          ]
        }
      ]
    },
    {
      "cell_type": "code",
      "source": [
        "test_df = test_df.replace(encoding_ref)"
      ],
      "metadata": {
        "id": "7ojaesC4-Hj0"
      },
      "execution_count": 44,
      "outputs": []
    },
    {
      "cell_type": "code",
      "source": [
        "test_df.head()"
      ],
      "metadata": {
        "id": "y9tHD_7Y-faS",
        "outputId": "ce371721-a806-470c-b79f-c083b40c3afe",
        "colab": {
          "base_uri": "https://localhost:8080/",
          "height": 221
        }
      },
      "execution_count": 45,
      "outputs": [
        {
          "output_type": "execute_result",
          "data": {
            "text/plain": [
              "   PassengerId  Pclass                                          Name  Sex  \\\n",
              "0          892       3                              Kelly, Mr. James    0   \n",
              "1          893       3              Wilkes, Mrs. James (Ellen Needs)    1   \n",
              "2          894       2                     Myles, Mr. Thomas Francis    0   \n",
              "3          895       3                              Wirz, Mr. Albert    0   \n",
              "4          896       3  Hirvonen, Mrs. Alexander (Helga E Lindqvist)    1   \n",
              "\n",
              "    Age  SibSp  Parch   Ticket     Fare Cabin Embarked  \n",
              "0  34.5      0      0   330911   7.8292   NaN        Q  \n",
              "1  47.0      1      0   363272   7.0000   NaN        S  \n",
              "2  62.0      0      0   240276   9.6875   NaN        Q  \n",
              "3  27.0      0      0   315154   8.6625   NaN        S  \n",
              "4  22.0      1      1  3101298  12.2875   NaN        S  "
            ],
            "text/html": [
              "\n",
              "  <div id=\"df-0e331d76-dbc4-4aee-bfc1-90ae29cd5827\">\n",
              "    <div class=\"colab-df-container\">\n",
              "      <div>\n",
              "<style scoped>\n",
              "    .dataframe tbody tr th:only-of-type {\n",
              "        vertical-align: middle;\n",
              "    }\n",
              "\n",
              "    .dataframe tbody tr th {\n",
              "        vertical-align: top;\n",
              "    }\n",
              "\n",
              "    .dataframe thead th {\n",
              "        text-align: right;\n",
              "    }\n",
              "</style>\n",
              "<table border=\"1\" class=\"dataframe\">\n",
              "  <thead>\n",
              "    <tr style=\"text-align: right;\">\n",
              "      <th></th>\n",
              "      <th>PassengerId</th>\n",
              "      <th>Pclass</th>\n",
              "      <th>Name</th>\n",
              "      <th>Sex</th>\n",
              "      <th>Age</th>\n",
              "      <th>SibSp</th>\n",
              "      <th>Parch</th>\n",
              "      <th>Ticket</th>\n",
              "      <th>Fare</th>\n",
              "      <th>Cabin</th>\n",
              "      <th>Embarked</th>\n",
              "    </tr>\n",
              "  </thead>\n",
              "  <tbody>\n",
              "    <tr>\n",
              "      <th>0</th>\n",
              "      <td>892</td>\n",
              "      <td>3</td>\n",
              "      <td>Kelly, Mr. James</td>\n",
              "      <td>0</td>\n",
              "      <td>34.5</td>\n",
              "      <td>0</td>\n",
              "      <td>0</td>\n",
              "      <td>330911</td>\n",
              "      <td>7.8292</td>\n",
              "      <td>NaN</td>\n",
              "      <td>Q</td>\n",
              "    </tr>\n",
              "    <tr>\n",
              "      <th>1</th>\n",
              "      <td>893</td>\n",
              "      <td>3</td>\n",
              "      <td>Wilkes, Mrs. James (Ellen Needs)</td>\n",
              "      <td>1</td>\n",
              "      <td>47.0</td>\n",
              "      <td>1</td>\n",
              "      <td>0</td>\n",
              "      <td>363272</td>\n",
              "      <td>7.0000</td>\n",
              "      <td>NaN</td>\n",
              "      <td>S</td>\n",
              "    </tr>\n",
              "    <tr>\n",
              "      <th>2</th>\n",
              "      <td>894</td>\n",
              "      <td>2</td>\n",
              "      <td>Myles, Mr. Thomas Francis</td>\n",
              "      <td>0</td>\n",
              "      <td>62.0</td>\n",
              "      <td>0</td>\n",
              "      <td>0</td>\n",
              "      <td>240276</td>\n",
              "      <td>9.6875</td>\n",
              "      <td>NaN</td>\n",
              "      <td>Q</td>\n",
              "    </tr>\n",
              "    <tr>\n",
              "      <th>3</th>\n",
              "      <td>895</td>\n",
              "      <td>3</td>\n",
              "      <td>Wirz, Mr. Albert</td>\n",
              "      <td>0</td>\n",
              "      <td>27.0</td>\n",
              "      <td>0</td>\n",
              "      <td>0</td>\n",
              "      <td>315154</td>\n",
              "      <td>8.6625</td>\n",
              "      <td>NaN</td>\n",
              "      <td>S</td>\n",
              "    </tr>\n",
              "    <tr>\n",
              "      <th>4</th>\n",
              "      <td>896</td>\n",
              "      <td>3</td>\n",
              "      <td>Hirvonen, Mrs. Alexander (Helga E Lindqvist)</td>\n",
              "      <td>1</td>\n",
              "      <td>22.0</td>\n",
              "      <td>1</td>\n",
              "      <td>1</td>\n",
              "      <td>3101298</td>\n",
              "      <td>12.2875</td>\n",
              "      <td>NaN</td>\n",
              "      <td>S</td>\n",
              "    </tr>\n",
              "  </tbody>\n",
              "</table>\n",
              "</div>\n",
              "      <button class=\"colab-df-convert\" onclick=\"convertToInteractive('df-0e331d76-dbc4-4aee-bfc1-90ae29cd5827')\"\n",
              "              title=\"Convert this dataframe to an interactive table.\"\n",
              "              style=\"display:none;\">\n",
              "        \n",
              "  <svg xmlns=\"http://www.w3.org/2000/svg\" height=\"24px\"viewBox=\"0 0 24 24\"\n",
              "       width=\"24px\">\n",
              "    <path d=\"M0 0h24v24H0V0z\" fill=\"none\"/>\n",
              "    <path d=\"M18.56 5.44l.94 2.06.94-2.06 2.06-.94-2.06-.94-.94-2.06-.94 2.06-2.06.94zm-11 1L8.5 8.5l.94-2.06 2.06-.94-2.06-.94L8.5 2.5l-.94 2.06-2.06.94zm10 10l.94 2.06.94-2.06 2.06-.94-2.06-.94-.94-2.06-.94 2.06-2.06.94z\"/><path d=\"M17.41 7.96l-1.37-1.37c-.4-.4-.92-.59-1.43-.59-.52 0-1.04.2-1.43.59L10.3 9.45l-7.72 7.72c-.78.78-.78 2.05 0 2.83L4 21.41c.39.39.9.59 1.41.59.51 0 1.02-.2 1.41-.59l7.78-7.78 2.81-2.81c.8-.78.8-2.07 0-2.86zM5.41 20L4 18.59l7.72-7.72 1.47 1.35L5.41 20z\"/>\n",
              "  </svg>\n",
              "      </button>\n",
              "      \n",
              "  <style>\n",
              "    .colab-df-container {\n",
              "      display:flex;\n",
              "      flex-wrap:wrap;\n",
              "      gap: 12px;\n",
              "    }\n",
              "\n",
              "    .colab-df-convert {\n",
              "      background-color: #E8F0FE;\n",
              "      border: none;\n",
              "      border-radius: 50%;\n",
              "      cursor: pointer;\n",
              "      display: none;\n",
              "      fill: #1967D2;\n",
              "      height: 32px;\n",
              "      padding: 0 0 0 0;\n",
              "      width: 32px;\n",
              "    }\n",
              "\n",
              "    .colab-df-convert:hover {\n",
              "      background-color: #E2EBFA;\n",
              "      box-shadow: 0px 1px 2px rgba(60, 64, 67, 0.3), 0px 1px 3px 1px rgba(60, 64, 67, 0.15);\n",
              "      fill: #174EA6;\n",
              "    }\n",
              "\n",
              "    [theme=dark] .colab-df-convert {\n",
              "      background-color: #3B4455;\n",
              "      fill: #D2E3FC;\n",
              "    }\n",
              "\n",
              "    [theme=dark] .colab-df-convert:hover {\n",
              "      background-color: #434B5C;\n",
              "      box-shadow: 0px 1px 3px 1px rgba(0, 0, 0, 0.15);\n",
              "      filter: drop-shadow(0px 1px 2px rgba(0, 0, 0, 0.3));\n",
              "      fill: #FFFFFF;\n",
              "    }\n",
              "  </style>\n",
              "\n",
              "      <script>\n",
              "        const buttonEl =\n",
              "          document.querySelector('#df-0e331d76-dbc4-4aee-bfc1-90ae29cd5827 button.colab-df-convert');\n",
              "        buttonEl.style.display =\n",
              "          google.colab.kernel.accessAllowed ? 'block' : 'none';\n",
              "\n",
              "        async function convertToInteractive(key) {\n",
              "          const element = document.querySelector('#df-0e331d76-dbc4-4aee-bfc1-90ae29cd5827');\n",
              "          const dataTable =\n",
              "            await google.colab.kernel.invokeFunction('convertToInteractive',\n",
              "                                                     [key], {});\n",
              "          if (!dataTable) return;\n",
              "\n",
              "          const docLinkHtml = 'Like what you see? Visit the ' +\n",
              "            '<a target=\"_blank\" href=https://colab.research.google.com/notebooks/data_table.ipynb>data table notebook</a>'\n",
              "            + ' to learn more about interactive tables.';\n",
              "          element.innerHTML = '';\n",
              "          dataTable['output_type'] = 'display_data';\n",
              "          await google.colab.output.renderOutput(dataTable, element);\n",
              "          const docLink = document.createElement('div');\n",
              "          docLink.innerHTML = docLinkHtml;\n",
              "          element.appendChild(docLink);\n",
              "        }\n",
              "      </script>\n",
              "    </div>\n",
              "  </div>\n",
              "  "
            ]
          },
          "metadata": {},
          "execution_count": 45
        }
      ]
    },
    {
      "cell_type": "code",
      "source": [
        "test_data = test_df[[\"Pclass\", \"Sex\", \"Age\", \"Fare\"]].to_numpy()"
      ],
      "metadata": {
        "id": "NNdnZT24-AXr"
      },
      "execution_count": 46,
      "outputs": []
    },
    {
      "cell_type": "code",
      "source": [
        "test_data = test_data / 100."
      ],
      "metadata": {
        "id": "_t3wuVgf-ui1"
      },
      "execution_count": 47,
      "outputs": []
    },
    {
      "cell_type": "code",
      "source": [
        "test_data.shape"
      ],
      "metadata": {
        "id": "TR0_eAV5_0fi",
        "outputId": "18e522e8-1923-4754-f481-0dbf3cff6531",
        "colab": {
          "base_uri": "https://localhost:8080/"
        }
      },
      "execution_count": 48,
      "outputs": [
        {
          "output_type": "execute_result",
          "data": {
            "text/plain": [
              "(418, 4)"
            ]
          },
          "metadata": {},
          "execution_count": 48
        }
      ]
    },
    {
      "cell_type": "code",
      "source": [
        "test_data[0]"
      ],
      "metadata": {
        "id": "bXyahRTg_48m",
        "outputId": "cf283b32-ebe7-44de-ffc5-ec370adac0cb",
        "colab": {
          "base_uri": "https://localhost:8080/"
        }
      },
      "execution_count": 49,
      "outputs": [
        {
          "output_type": "execute_result",
          "data": {
            "text/plain": [
              "array([0.03    , 0.      , 0.345   , 0.078292])"
            ]
          },
          "metadata": {},
          "execution_count": 49
        }
      ]
    },
    {
      "cell_type": "code",
      "source": [
        "prediction = (model.predict(test_data)>0.5).astype(\"int32\")"
      ],
      "metadata": {
        "id": "TYJOhPRI-5O-"
      },
      "execution_count": 77,
      "outputs": []
    },
    {
      "cell_type": "code",
      "source": [
        "test_df[\"Survived\"] = prediction"
      ],
      "metadata": {
        "id": "ObLqdLJzoChn"
      },
      "execution_count": 84,
      "outputs": []
    },
    {
      "cell_type": "code",
      "source": [
        "test_df.head()"
      ],
      "metadata": {
        "id": "5KgqPQgaoJac",
        "outputId": "295e66d0-c6e8-4241-fd78-8945bcb60b6a",
        "colab": {
          "base_uri": "https://localhost:8080/",
          "height": 221
        }
      },
      "execution_count": 85,
      "outputs": [
        {
          "output_type": "execute_result",
          "data": {
            "text/plain": [
              "   PassengerId  Pclass                                          Name  Sex  \\\n",
              "0          892       3                              Kelly, Mr. James    0   \n",
              "1          893       3              Wilkes, Mrs. James (Ellen Needs)    1   \n",
              "2          894       2                     Myles, Mr. Thomas Francis    0   \n",
              "3          895       3                              Wirz, Mr. Albert    0   \n",
              "4          896       3  Hirvonen, Mrs. Alexander (Helga E Lindqvist)    1   \n",
              "\n",
              "    Age  SibSp  Parch   Ticket     Fare Cabin Embarked  Survived  \n",
              "0  34.5      0      0   330911   7.8292   NaN        Q         0  \n",
              "1  47.0      1      0   363272   7.0000   NaN        S         0  \n",
              "2  62.0      0      0   240276   9.6875   NaN        Q         0  \n",
              "3  27.0      0      0   315154   8.6625   NaN        S         0  \n",
              "4  22.0      1      1  3101298  12.2875   NaN        S         1  "
            ],
            "text/html": [
              "\n",
              "  <div id=\"df-83c08eeb-35d1-4a81-ac4e-104624dd2d97\">\n",
              "    <div class=\"colab-df-container\">\n",
              "      <div>\n",
              "<style scoped>\n",
              "    .dataframe tbody tr th:only-of-type {\n",
              "        vertical-align: middle;\n",
              "    }\n",
              "\n",
              "    .dataframe tbody tr th {\n",
              "        vertical-align: top;\n",
              "    }\n",
              "\n",
              "    .dataframe thead th {\n",
              "        text-align: right;\n",
              "    }\n",
              "</style>\n",
              "<table border=\"1\" class=\"dataframe\">\n",
              "  <thead>\n",
              "    <tr style=\"text-align: right;\">\n",
              "      <th></th>\n",
              "      <th>PassengerId</th>\n",
              "      <th>Pclass</th>\n",
              "      <th>Name</th>\n",
              "      <th>Sex</th>\n",
              "      <th>Age</th>\n",
              "      <th>SibSp</th>\n",
              "      <th>Parch</th>\n",
              "      <th>Ticket</th>\n",
              "      <th>Fare</th>\n",
              "      <th>Cabin</th>\n",
              "      <th>Embarked</th>\n",
              "      <th>Survived</th>\n",
              "    </tr>\n",
              "  </thead>\n",
              "  <tbody>\n",
              "    <tr>\n",
              "      <th>0</th>\n",
              "      <td>892</td>\n",
              "      <td>3</td>\n",
              "      <td>Kelly, Mr. James</td>\n",
              "      <td>0</td>\n",
              "      <td>34.5</td>\n",
              "      <td>0</td>\n",
              "      <td>0</td>\n",
              "      <td>330911</td>\n",
              "      <td>7.8292</td>\n",
              "      <td>NaN</td>\n",
              "      <td>Q</td>\n",
              "      <td>0</td>\n",
              "    </tr>\n",
              "    <tr>\n",
              "      <th>1</th>\n",
              "      <td>893</td>\n",
              "      <td>3</td>\n",
              "      <td>Wilkes, Mrs. James (Ellen Needs)</td>\n",
              "      <td>1</td>\n",
              "      <td>47.0</td>\n",
              "      <td>1</td>\n",
              "      <td>0</td>\n",
              "      <td>363272</td>\n",
              "      <td>7.0000</td>\n",
              "      <td>NaN</td>\n",
              "      <td>S</td>\n",
              "      <td>0</td>\n",
              "    </tr>\n",
              "    <tr>\n",
              "      <th>2</th>\n",
              "      <td>894</td>\n",
              "      <td>2</td>\n",
              "      <td>Myles, Mr. Thomas Francis</td>\n",
              "      <td>0</td>\n",
              "      <td>62.0</td>\n",
              "      <td>0</td>\n",
              "      <td>0</td>\n",
              "      <td>240276</td>\n",
              "      <td>9.6875</td>\n",
              "      <td>NaN</td>\n",
              "      <td>Q</td>\n",
              "      <td>0</td>\n",
              "    </tr>\n",
              "    <tr>\n",
              "      <th>3</th>\n",
              "      <td>895</td>\n",
              "      <td>3</td>\n",
              "      <td>Wirz, Mr. Albert</td>\n",
              "      <td>0</td>\n",
              "      <td>27.0</td>\n",
              "      <td>0</td>\n",
              "      <td>0</td>\n",
              "      <td>315154</td>\n",
              "      <td>8.6625</td>\n",
              "      <td>NaN</td>\n",
              "      <td>S</td>\n",
              "      <td>0</td>\n",
              "    </tr>\n",
              "    <tr>\n",
              "      <th>4</th>\n",
              "      <td>896</td>\n",
              "      <td>3</td>\n",
              "      <td>Hirvonen, Mrs. Alexander (Helga E Lindqvist)</td>\n",
              "      <td>1</td>\n",
              "      <td>22.0</td>\n",
              "      <td>1</td>\n",
              "      <td>1</td>\n",
              "      <td>3101298</td>\n",
              "      <td>12.2875</td>\n",
              "      <td>NaN</td>\n",
              "      <td>S</td>\n",
              "      <td>1</td>\n",
              "    </tr>\n",
              "  </tbody>\n",
              "</table>\n",
              "</div>\n",
              "      <button class=\"colab-df-convert\" onclick=\"convertToInteractive('df-83c08eeb-35d1-4a81-ac4e-104624dd2d97')\"\n",
              "              title=\"Convert this dataframe to an interactive table.\"\n",
              "              style=\"display:none;\">\n",
              "        \n",
              "  <svg xmlns=\"http://www.w3.org/2000/svg\" height=\"24px\"viewBox=\"0 0 24 24\"\n",
              "       width=\"24px\">\n",
              "    <path d=\"M0 0h24v24H0V0z\" fill=\"none\"/>\n",
              "    <path d=\"M18.56 5.44l.94 2.06.94-2.06 2.06-.94-2.06-.94-.94-2.06-.94 2.06-2.06.94zm-11 1L8.5 8.5l.94-2.06 2.06-.94-2.06-.94L8.5 2.5l-.94 2.06-2.06.94zm10 10l.94 2.06.94-2.06 2.06-.94-2.06-.94-.94-2.06-.94 2.06-2.06.94z\"/><path d=\"M17.41 7.96l-1.37-1.37c-.4-.4-.92-.59-1.43-.59-.52 0-1.04.2-1.43.59L10.3 9.45l-7.72 7.72c-.78.78-.78 2.05 0 2.83L4 21.41c.39.39.9.59 1.41.59.51 0 1.02-.2 1.41-.59l7.78-7.78 2.81-2.81c.8-.78.8-2.07 0-2.86zM5.41 20L4 18.59l7.72-7.72 1.47 1.35L5.41 20z\"/>\n",
              "  </svg>\n",
              "      </button>\n",
              "      \n",
              "  <style>\n",
              "    .colab-df-container {\n",
              "      display:flex;\n",
              "      flex-wrap:wrap;\n",
              "      gap: 12px;\n",
              "    }\n",
              "\n",
              "    .colab-df-convert {\n",
              "      background-color: #E8F0FE;\n",
              "      border: none;\n",
              "      border-radius: 50%;\n",
              "      cursor: pointer;\n",
              "      display: none;\n",
              "      fill: #1967D2;\n",
              "      height: 32px;\n",
              "      padding: 0 0 0 0;\n",
              "      width: 32px;\n",
              "    }\n",
              "\n",
              "    .colab-df-convert:hover {\n",
              "      background-color: #E2EBFA;\n",
              "      box-shadow: 0px 1px 2px rgba(60, 64, 67, 0.3), 0px 1px 3px 1px rgba(60, 64, 67, 0.15);\n",
              "      fill: #174EA6;\n",
              "    }\n",
              "\n",
              "    [theme=dark] .colab-df-convert {\n",
              "      background-color: #3B4455;\n",
              "      fill: #D2E3FC;\n",
              "    }\n",
              "\n",
              "    [theme=dark] .colab-df-convert:hover {\n",
              "      background-color: #434B5C;\n",
              "      box-shadow: 0px 1px 3px 1px rgba(0, 0, 0, 0.15);\n",
              "      filter: drop-shadow(0px 1px 2px rgba(0, 0, 0, 0.3));\n",
              "      fill: #FFFFFF;\n",
              "    }\n",
              "  </style>\n",
              "\n",
              "      <script>\n",
              "        const buttonEl =\n",
              "          document.querySelector('#df-83c08eeb-35d1-4a81-ac4e-104624dd2d97 button.colab-df-convert');\n",
              "        buttonEl.style.display =\n",
              "          google.colab.kernel.accessAllowed ? 'block' : 'none';\n",
              "\n",
              "        async function convertToInteractive(key) {\n",
              "          const element = document.querySelector('#df-83c08eeb-35d1-4a81-ac4e-104624dd2d97');\n",
              "          const dataTable =\n",
              "            await google.colab.kernel.invokeFunction('convertToInteractive',\n",
              "                                                     [key], {});\n",
              "          if (!dataTable) return;\n",
              "\n",
              "          const docLinkHtml = 'Like what you see? Visit the ' +\n",
              "            '<a target=\"_blank\" href=https://colab.research.google.com/notebooks/data_table.ipynb>data table notebook</a>'\n",
              "            + ' to learn more about interactive tables.';\n",
              "          element.innerHTML = '';\n",
              "          dataTable['output_type'] = 'display_data';\n",
              "          await google.colab.output.renderOutput(dataTable, element);\n",
              "          const docLink = document.createElement('div');\n",
              "          docLink.innerHTML = docLinkHtml;\n",
              "          element.appendChild(docLink);\n",
              "        }\n",
              "      </script>\n",
              "    </div>\n",
              "  </div>\n",
              "  "
            ]
          },
          "metadata": {},
          "execution_count": 85
        }
      ]
    },
    {
      "cell_type": "code",
      "source": [
        "output_df = test_df[[\"PassengerId\", \"Survived\"]]"
      ],
      "metadata": {
        "id": "fr_iP4jnoT9B"
      },
      "execution_count": 86,
      "outputs": []
    },
    {
      "cell_type": "code",
      "source": [
        "output_df.to_csv(\"mysubmission2.csv\", index=False)"
      ],
      "metadata": {
        "id": "0MazXdTbodpV"
      },
      "execution_count": 93,
      "outputs": []
    },
    {
      "cell_type": "code",
      "source": [
        "!kaggle competitions submit -c titanic -f mysubmission2.csv -m \"Prediction 1 - SRS 12 SEPT\""
      ],
      "metadata": {
        "id": "rSqoyF8CouJM",
        "outputId": "b1f765a3-e20d-4789-afe1-2f34fa787ffb",
        "colab": {
          "base_uri": "https://localhost:8080/"
        }
      },
      "execution_count": 94,
      "outputs": [
        {
          "output_type": "stream",
          "name": "stdout",
          "text": [
            "100% 2.77k/2.77k [00:00<00:00, 7.44kB/s]\n",
            "Successfully submitted to Titanic - Machine Learning from Disaster"
          ]
        }
      ]
    }
  ]
}