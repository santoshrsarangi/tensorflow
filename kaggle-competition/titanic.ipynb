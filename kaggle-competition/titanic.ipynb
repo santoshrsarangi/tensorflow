{
  "nbformat": 4,
  "nbformat_minor": 0,
  "metadata": {
    "colab": {
      "provenance": [],
      "authorship_tag": "ABX9TyOHe5GQB9F13Rl1BEptDe+u",
      "include_colab_link": true
    },
    "kernelspec": {
      "name": "python3",
      "display_name": "Python 3"
    },
    "language_info": {
      "name": "python"
    }
  },
  "cells": [
    {
      "cell_type": "markdown",
      "metadata": {
        "id": "view-in-github",
        "colab_type": "text"
      },
      "source": [
        "<a href=\"https://colab.research.google.com/github/santoshrsarangi/tensorflow/blob/main/kaggle-competition/titanic.ipynb\" target=\"_parent\"><img src=\"https://colab.research.google.com/assets/colab-badge.svg\" alt=\"Open In Colab\"/></a>"
      ]
    },
    {
      "cell_type": "code",
      "execution_count": 1,
      "metadata": {
        "id": "8MFuTPzrHrFc",
        "colab": {
          "resources": {
            "http://localhost:8080/nbextensions/google.colab/files.js": {
              "data": "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",
              "ok": true,
              "headers": [
                [
                  "content-type",
                  "application/javascript"
                ]
              ],
              "status": 200,
              "status_text": ""
            }
          },
          "base_uri": "https://localhost:8080/",
          "height": 92
        },
        "outputId": "9f90d6e1-8576-4ac5-92a8-95ab0933f16f"
      },
      "outputs": [
        {
          "output_type": "display_data",
          "data": {
            "text/plain": [
              "<IPython.core.display.HTML object>"
            ],
            "text/html": [
              "\n",
              "     <input type=\"file\" id=\"files-8e0cdd41-b83d-43b6-a169-afaeb30b3452\" name=\"files[]\" multiple disabled\n",
              "        style=\"border:none\" />\n",
              "     <output id=\"result-8e0cdd41-b83d-43b6-a169-afaeb30b3452\">\n",
              "      Upload widget is only available when the cell has been executed in the\n",
              "      current browser session. Please rerun this cell to enable.\n",
              "      </output>\n",
              "      <script src=\"/nbextensions/google.colab/files.js\"></script> "
            ]
          },
          "metadata": {}
        },
        {
          "output_type": "stream",
          "name": "stdout",
          "text": [
            "Saving kaggle.json to kaggle.json\n"
          ]
        }
      ],
      "source": [
        "from google.colab import files\n",
        "r = files.upload()"
      ]
    },
    {
      "cell_type": "code",
      "source": [
        "!mkdir ~/.kaggle\n",
        "!cp kaggle.json ~/.kaggle/\n",
        "!chmod 600 ~/.kaggle/kaggle.json"
      ],
      "metadata": {
        "id": "MJcnPKeSIy5X"
      },
      "execution_count": 2,
      "outputs": []
    },
    {
      "cell_type": "code",
      "source": [
        "!kaggle competitions download -c titanic "
      ],
      "metadata": {
        "colab": {
          "base_uri": "https://localhost:8080/"
        },
        "id": "vVIKkOdZJBnK",
        "outputId": "d6fd1a6c-a672-4b45-bfd8-6ad10616af13"
      },
      "execution_count": 3,
      "outputs": [
        {
          "output_type": "stream",
          "name": "stdout",
          "text": [
            "Downloading titanic.zip to /content\n",
            "\r  0% 0.00/34.1k [00:00<?, ?B/s]\n",
            "\r100% 34.1k/34.1k [00:00<00:00, 28.4MB/s]\n"
          ]
        }
      ]
    },
    {
      "cell_type": "code",
      "source": [
        "!unzip -qq titanic.zip"
      ],
      "metadata": {
        "id": "5ROR06bqJYok"
      },
      "execution_count": 4,
      "outputs": []
    },
    {
      "cell_type": "code",
      "source": [
        "import numpy as np\n",
        "import pandas as pd"
      ],
      "metadata": {
        "id": "nxEOLJ9HJk20"
      },
      "execution_count": 5,
      "outputs": []
    },
    {
      "cell_type": "code",
      "source": [
        "df = pd.read_csv(\"train.csv\")"
      ],
      "metadata": {
        "id": "4K40roYCJ8Ww"
      },
      "execution_count": 70,
      "outputs": []
    },
    {
      "cell_type": "code",
      "source": [
        "df.info()"
      ],
      "metadata": {
        "colab": {
          "base_uri": "https://localhost:8080/"
        },
        "id": "W7j3bIOVKI2P",
        "outputId": "cc4c29a8-227d-4a3d-9807-f9ca5ab0330b"
      },
      "execution_count": 71,
      "outputs": [
        {
          "output_type": "stream",
          "name": "stdout",
          "text": [
            "<class 'pandas.core.frame.DataFrame'>\n",
            "RangeIndex: 891 entries, 0 to 890\n",
            "Data columns (total 12 columns):\n",
            " #   Column       Non-Null Count  Dtype  \n",
            "---  ------       --------------  -----  \n",
            " 0   PassengerId  891 non-null    int64  \n",
            " 1   Survived     891 non-null    int64  \n",
            " 2   Pclass       891 non-null    int64  \n",
            " 3   Name         891 non-null    object \n",
            " 4   Sex          891 non-null    object \n",
            " 5   Age          714 non-null    float64\n",
            " 6   SibSp        891 non-null    int64  \n",
            " 7   Parch        891 non-null    int64  \n",
            " 8   Ticket       891 non-null    object \n",
            " 9   Fare         891 non-null    float64\n",
            " 10  Cabin        204 non-null    object \n",
            " 11  Embarked     889 non-null    object \n",
            "dtypes: float64(2), int64(5), object(5)\n",
            "memory usage: 83.7+ KB\n"
          ]
        }
      ]
    },
    {
      "cell_type": "code",
      "source": [
        "import seaborn as sns"
      ],
      "metadata": {
        "id": "eG7GoPvKYNLb"
      },
      "execution_count": 8,
      "outputs": []
    },
    {
      "cell_type": "code",
      "source": [
        "sns.heatmap(df.isnull(), cbar=False)"
      ],
      "metadata": {
        "id": "ufPGI_SKY7tc",
        "outputId": "e7321b5d-6faa-4634-9e95-fd2118ccfea3",
        "colab": {
          "base_uri": "https://localhost:8080/",
          "height": 359
        }
      },
      "execution_count": 9,
      "outputs": [
        {
          "output_type": "execute_result",
          "data": {
            "text/plain": [
              "<matplotlib.axes._subplots.AxesSubplot at 0x7f706c69ae90>"
            ]
          },
          "metadata": {},
          "execution_count": 9
        },
        {
          "output_type": "display_data",
          "data": {
            "text/plain": [
              "<Figure size 432x288 with 1 Axes>"
            ],
            "image/png": "[encoded data removed]"
          },
          "metadata": {
            "needs_background": "light"
          }
        }
      ]
    },
    {
      "cell_type": "code",
      "source": [
        "df.head(1)"
      ],
      "metadata": {
        "colab": {
          "base_uri": "https://localhost:8080/",
          "height": 100
        },
        "id": "igNUPIrcKK9N",
        "outputId": "f2a4a7af-8b4a-4e31-df1c-bf3331ef5232"
      },
      "execution_count": 10,
      "outputs": [
        {
          "output_type": "execute_result",
          "data": {
            "text/plain": [
              "   PassengerId  Survived  Pclass                     Name   Sex   Age  SibSp  \\\n",
              "0            1         0       3  Braund, Mr. Owen Harris  male  22.0      1   \n",
              "\n",
              "   Parch     Ticket  Fare Cabin Embarked  \n",
              "0      0  A/5 21171  7.25   NaN        S  "
            ],
            "text/html": [
              "\n",
              "  <div id=\"df-6f31dbe4-477d-4433-9366-95bdcc1819f0\">\n",
              "    <div class=\"colab-df-container\">\n",
              "      <div>\n",
              "<style scoped>\n",
              "    .dataframe tbody tr th:only-of-type {\n",
              "        vertical-align: middle;\n",
              "    }\n",
              "\n",
              "    .dataframe tbody tr th {\n",
              "        vertical-align: top;\n",
              "    }\n",
              "\n",
              "    .dataframe thead th {\n",
              "        text-align: right;\n",
              "    }\n",
              "</style>\n",
              "<table border=\"1\" class=\"dataframe\">\n",
              "  <thead>\n",
              "    <tr style=\"text-align: right;\">\n",
              "      <th></th>\n",
              "      <th>PassengerId</th>\n",
              "      <th>Survived</th>\n",
              "      <th>Pclass</th>\n",
              "      <th>Name</th>\n",
              "      <th>Sex</th>\n",
              "      <th>Age</th>\n",
              "      <th>SibSp</th>\n",
              "      <th>Parch</th>\n",
              "      <th>Ticket</th>\n",
              "      <th>Fare</th>\n",
              "      <th>Cabin</th>\n",
              "      <th>Embarked</th>\n",
              "    </tr>\n",
              "  </thead>\n",
              "  <tbody>\n",
              "    <tr>\n",
              "      <th>0</th>\n",
              "      <td>1</td>\n",
              "      <td>0</td>\n",
              "      <td>3</td>\n",
              "      <td>Braund, Mr. Owen Harris</td>\n",
              "      <td>male</td>\n",
              "      <td>22.0</td>\n",
              "      <td>1</td>\n",
              "      <td>0</td>\n",
              "      <td>A/5 21171</td>\n",
              "      <td>7.25</td>\n",
              "      <td>NaN</td>\n",
              "      <td>S</td>\n",
              "    </tr>\n",
              "  </tbody>\n",
              "</table>\n",
              "</div>\n",
              "      <button class=\"colab-df-convert\" onclick=\"convertToInteractive('df-6f31dbe4-477d-4433-9366-95bdcc1819f0')\"\n",
              "              title=\"Convert this dataframe to an interactive table.\"\n",
              "              style=\"display:none;\">\n",
              "        \n",
              "  <svg xmlns=\"http://www.w3.org/2000/svg\" height=\"24px\"viewBox=\"0 0 24 24\"\n",
              "       width=\"24px\">\n",
              "    <path d=\"M0 0h24v24H0V0z\" fill=\"none\"/>\n",
              "    <path d=\"M18.56 5.44l.94 2.06.94-2.06 2.06-.94-2.06-.94-.94-2.06-.94 2.06-2.06.94zm-11 1L8.5 8.5l.94-2.06 2.06-.94-2.06-.94L8.5 2.5l-.94 2.06-2.06.94zm10 10l.94 2.06.94-2.06 2.06-.94-2.06-.94-.94-2.06-.94 2.06-2.06.94z\"/><path d=\"M17.41 7.96l-1.37-1.37c-.4-.4-.92-.59-1.43-.59-.52 0-1.04.2-1.43.59L10.3 9.45l-7.72 7.72c-.78.78-.78 2.05 0 2.83L4 21.41c.39.39.9.59 1.41.59.51 0 1.02-.2 1.41-.59l7.78-7.78 2.81-2.81c.8-.78.8-2.07 0-2.86zM5.41 20L4 18.59l7.72-7.72 1.47 1.35L5.41 20z\"/>\n",
              "  </svg>\n",
              "      </button>\n",
              "      \n",
              "  <style>\n",
              "    .colab-df-container {\n",
              "      display:flex;\n",
              "      flex-wrap:wrap;\n",
              "      gap: 12px;\n",
              "    }\n",
              "\n",
              "    .colab-df-convert {\n",
              "      background-color: #E8F0FE;\n",
              "      border: none;\n",
              "      border-radius: 50%;\n",
              "      cursor: pointer;\n",
              "      display: none;\n",
              "      fill: #1967D2;\n",
              "      height: 32px;\n",
              "      padding: 0 0 0 0;\n",
              "      width: 32px;\n",
              "    }\n",
              "\n",
              "    .colab-df-convert:hover {\n",
              "      background-color: #E2EBFA;\n",
              "      box-shadow: 0px 1px 2px rgba(60, 64, 67, 0.3), 0px 1px 3px 1px rgba(60, 64, 67, 0.15);\n",
              "      fill: #174EA6;\n",
              "    }\n",
              "\n",
              "    [theme=dark] .colab-df-convert {\n",
              "      background-color: #3B4455;\n",
              "      fill: #D2E3FC;\n",
              "    }\n",
              "\n",
              "    [theme=dark] .colab-df-convert:hover {\n",
              "      background-color: #434B5C;\n",
              "      box-shadow: 0px 1px 3px 1px rgba(0, 0, 0, 0.15);\n",
              "      filter: drop-shadow(0px 1px 2px rgba(0, 0, 0, 0.3));\n",
              "      fill: #FFFFFF;\n",
              "    }\n",
              "  </style>\n",
              "\n",
              "      <script>\n",
              "        const buttonEl =\n",
              "          document.querySelector('#df-6f31dbe4-477d-4433-9366-95bdcc1819f0 button.colab-df-convert');\n",
              "        buttonEl.style.display =\n",
              "          google.colab.kernel.accessAllowed ? 'block' : 'none';\n",
              "\n",
              "        async function convertToInteractive(key) {\n",
              "          const element = document.querySelector('#df-6f31dbe4-477d-4433-9366-95bdcc1819f0');\n",
              "          const dataTable =\n",
              "            await google.colab.kernel.invokeFunction('convertToInteractive',\n",
              "                                                     [key], {});\n",
              "          if (!dataTable) return;\n",
              "\n",
              "          const docLinkHtml = 'Like what you see? Visit the ' +\n",
              "            '<a target=\"_blank\" href=https://colab.research.google.com/notebooks/data_table.ipynb>data table notebook</a>'\n",
              "            + ' to learn more about interactive tables.';\n",
              "          element.innerHTML = '';\n",
              "          dataTable['output_type'] = 'display_data';\n",
              "          await google.colab.output.renderOutput(dataTable, element);\n",
              "          const docLink = document.createElement('div');\n",
              "          docLink.innerHTML = docLinkHtml;\n",
              "          element.appendChild(docLink);\n",
              "        }\n",
              "      </script>\n",
              "    </div>\n",
              "  </div>\n",
              "  "
            ]
          },
          "metadata": {},
          "execution_count": 10
        }
      ]
    },
    {
      "cell_type": "code",
      "source": [
        "df_label = df[\"Survived\"]"
      ],
      "metadata": {
        "id": "kmvRs73mKQrN"
      },
      "execution_count": 11,
      "outputs": []
    },
    {
      "cell_type": "code",
      "source": [
        "df_label.head(10)"
      ],
      "metadata": {
        "colab": {
          "base_uri": "https://localhost:8080/"
        },
        "id": "FLttxM4xKp8_",
        "outputId": "44e455fa-a8f2-4588-9def-6e423de876d3"
      },
      "execution_count": 12,
      "outputs": [
        {
          "output_type": "execute_result",
          "data": {
            "text/plain": [
              "0    0\n",
              "1    1\n",
              "2    1\n",
              "3    1\n",
              "4    0\n",
              "5    0\n",
              "6    0\n",
              "7    0\n",
              "8    1\n",
              "9    1\n",
              "Name: Survived, dtype: int64"
            ]
          },
          "metadata": {},
          "execution_count": 12
        }
      ]
    },
    {
      "cell_type": "code",
      "source": [
        "df_data = df[[\"PassengerId\", \"Pclass\", \"Sex\", \"Age\", \"SibSp\", \"Parch\", \"Fare\", \"Survived\"]]"
      ],
      "metadata": {
        "id": "ecgLgiJpKuRY"
      },
      "execution_count": 72,
      "outputs": []
    },
    {
      "cell_type": "code",
      "source": [
        "df_data.info()"
      ],
      "metadata": {
        "colab": {
          "base_uri": "https://localhost:8080/"
        },
        "id": "NN9T-0RjLeKQ",
        "outputId": "9991617d-d0ff-4fba-b0d7-be86aa1d3e15"
      },
      "execution_count": 73,
      "outputs": [
        {
          "output_type": "stream",
          "name": "stdout",
          "text": [
            "<class 'pandas.core.frame.DataFrame'>\n",
            "RangeIndex: 891 entries, 0 to 890\n",
            "Data columns (total 8 columns):\n",
            " #   Column       Non-Null Count  Dtype  \n",
            "---  ------       --------------  -----  \n",
            " 0   PassengerId  891 non-null    int64  \n",
            " 1   Pclass       891 non-null    int64  \n",
            " 2   Sex          891 non-null    object \n",
            " 3   Age          714 non-null    float64\n",
            " 4   SibSp        891 non-null    int64  \n",
            " 5   Parch        891 non-null    int64  \n",
            " 6   Fare         891 non-null    float64\n",
            " 7   Survived     891 non-null    int64  \n",
            "dtypes: float64(2), int64(5), object(1)\n",
            "memory usage: 55.8+ KB\n"
          ]
        }
      ]
    },
    {
      "cell_type": "code",
      "source": [
        "sns.heatmap(df_data.isnull(), cbar=False)"
      ],
      "metadata": {
        "id": "EU6uHlrhYRgz",
        "outputId": "ed7ae6a7-4e81-401e-aafc-7f1955e3ad9c",
        "colab": {
          "base_uri": "https://localhost:8080/",
          "height": 359
        }
      },
      "execution_count": 74,
      "outputs": [
        {
          "output_type": "execute_result",
          "data": {
            "text/plain": [
              "<matplotlib.axes._subplots.AxesSubplot at 0x7f706c5de450>"
            ]
          },
          "metadata": {},
          "execution_count": 74
        },
        {
          "output_type": "display_data",
          "data": {
            "text/plain": [
              "<Figure size 432x288 with 1 Axes>"
            ],
            "image/png": "[encoded data removed]"
          },
          "metadata": {
            "needs_background": "light"
          }
        }
      ]
    },
    {
      "cell_type": "code",
      "source": [
        "r = sns.displot(data=df_data[\"Survived\"])"
      ],
      "metadata": {
        "id": "D0nG-f4a4hfa",
        "outputId": "4b777d52-b4be-45f1-a139-2e2ae9ead121",
        "colab": {
          "base_uri": "https://localhost:8080/",
          "height": 390
        }
      },
      "execution_count": 16,
      "outputs": [
        {
          "output_type": "display_data",
          "data": {
            "text/plain": [
              "<Figure size 360x360 with 1 Axes>"
            ],
            "image/png": "[encoded data removed]"
          },
          "metadata": {
            "needs_background": "light"
          }
        }
      ]
    },
    {
      "cell_type": "code",
      "source": [
        "r = sns.catplot(data=df_data, x=\"Pclass\", y=\"Survived\", kind='bar', ci=None)"
      ],
      "metadata": {
        "id": "pHiq4cIF5OtD",
        "outputId": "2ca55d76-c7e1-4b96-f979-184fa4d74e5f",
        "colab": {
          "base_uri": "https://localhost:8080/",
          "height": 390
        }
      },
      "execution_count": 17,
      "outputs": [
        {
          "output_type": "display_data",
          "data": {
            "text/plain": [
              "<Figure size 360x360 with 1 Axes>"
            ],
            "image/png": "[encoded data removed]"
          },
          "metadata": {
            "needs_background": "light"
          }
        }
      ]
    },
    {
      "cell_type": "code",
      "source": [
        "r = sns.catplot(data=df_data, y=\"Survived\", x=\"Pclass\", hue=\"Sex\", kind=\"bar\", ci=None)"
      ],
      "metadata": {
        "id": "vv-9MH1V-azP",
        "outputId": "88954704-d951-44a2-d6dc-b59c02638200",
        "colab": {
          "base_uri": "https://localhost:8080/",
          "height": 390
        }
      },
      "execution_count": 18,
      "outputs": [
        {
          "output_type": "display_data",
          "data": {
            "text/plain": [
              "<Figure size 430.5x360 with 1 Axes>"
            ],
            "image/png": "[encoded data removed]"
          },
          "metadata": {
            "needs_background": "light"
          }
        }
      ]
    },
    {
      "cell_type": "code",
      "source": [
        "r= sns.catplot(data=df_data, x=\"Survived\", y=\"Age\", hue=\"Sex\", kind=\"violin\")"
      ],
      "metadata": {
        "id": "-zCFwrTL_V_7",
        "outputId": "d216d89c-d041-44b6-c040-ffc0f8b6b360",
        "colab": {
          "base_uri": "https://localhost:8080/",
          "height": 390
        }
      },
      "execution_count": 19,
      "outputs": [
        {
          "output_type": "display_data",
          "data": {
            "text/plain": [
              "<Figure size 430.5x360 with 1 Axes>"
            ],
            "image/png": "[encoded data removed]"
          },
          "metadata": {
            "needs_background": "light"
          }
        }
      ]
    },
    {
      "cell_type": "code",
      "source": [
        "r=sns.catplot(data=df_data, x=\"Survived\", y=\"Age\", hue=\"Pclass\", kind=\"violin\")"
      ],
      "metadata": {
        "id": "8E45dAR6BEaP",
        "outputId": "e9388c21-44db-4783-e9f5-84ad2301948b",
        "colab": {
          "base_uri": "https://localhost:8080/",
          "height": 390
        }
      },
      "execution_count": 20,
      "outputs": [
        {
          "output_type": "display_data",
          "data": {
            "text/plain": [
              "<Figure size 402.375x360 with 1 Axes>"
            ],
            "image/png": "[encoded data removed]"
          },
          "metadata": {
            "needs_background": "light"
          }
        }
      ]
    },
    {
      "cell_type": "code",
      "source": [
        "encoding_ref = {\"Sex\": {\"male\": 0, \"female\": 1}}"
      ],
      "metadata": {
        "id": "9o65lu-wD1Xm"
      },
      "execution_count": 75,
      "outputs": []
    },
    {
      "cell_type": "code",
      "source": [
        "df_data = df_data.replace(encoding_ref)\n",
        "\n",
        "df_data.head(5)"
      ],
      "metadata": {
        "colab": {
          "base_uri": "https://localhost:8080/",
          "height": 221
        },
        "id": "YAGq1Ch2EGxT",
        "outputId": "cf69aef9-9884-40bd-849a-7ae996a9769c"
      },
      "execution_count": 76,
      "outputs": [
        {
          "output_type": "execute_result",
          "data": {
            "text/plain": [
              "   PassengerId  Pclass  Sex   Age  SibSp  Parch     Fare  Survived\n",
              "0            1       3    0  22.0      1      0   7.2500         0\n",
              "1            2       1    1  38.0      1      0  71.2833         1\n",
              "2            3       3    1  26.0      0      0   7.9250         1\n",
              "3            4       1    1  35.0      1      0  53.1000         1\n",
              "4            5       3    0  35.0      0      0   8.0500         0"
            ],
            "text/html": [
              "\n",
              "  <div id=\"df-b809ccf7-df36-4e5e-a6be-c47109d8099b\">\n",
              "    <div class=\"colab-df-container\">\n",
              "      <div>\n",
              "<style scoped>\n",
              "    .dataframe tbody tr th:only-of-type {\n",
              "        vertical-align: middle;\n",
              "    }\n",
              "\n",
              "    .dataframe tbody tr th {\n",
              "        vertical-align: top;\n",
              "    }\n",
              "\n",
              "    .dataframe thead th {\n",
              "        text-align: right;\n",
              "    }\n",
              "</style>\n",
              "<table border=\"1\" class=\"dataframe\">\n",
              "  <thead>\n",
              "    <tr style=\"text-align: right;\">\n",
              "      <th></th>\n",
              "      <th>PassengerId</th>\n",
              "      <th>Pclass</th>\n",
              "      <th>Sex</th>\n",
              "      <th>Age</th>\n",
              "      <th>SibSp</th>\n",
              "      <th>Parch</th>\n",
              "      <th>Fare</th>\n",
              "      <th>Survived</th>\n",
              "    </tr>\n",
              "  </thead>\n",
              "  <tbody>\n",
              "    <tr>\n",
              "      <th>0</th>\n",
              "      <td>1</td>\n",
              "      <td>3</td>\n",
              "      <td>0</td>\n",
              "      <td>22.0</td>\n",
              "      <td>1</td>\n",
              "      <td>0</td>\n",
              "      <td>7.2500</td>\n",
              "      <td>0</td>\n",
              "    </tr>\n",
              "    <tr>\n",
              "      <th>1</th>\n",
              "      <td>2</td>\n",
              "      <td>1</td>\n",
              "      <td>1</td>\n",
              "      <td>38.0</td>\n",
              "      <td>1</td>\n",
              "      <td>0</td>\n",
              "      <td>71.2833</td>\n",
              "      <td>1</td>\n",
              "    </tr>\n",
              "    <tr>\n",
              "      <th>2</th>\n",
              "      <td>3</td>\n",
              "      <td>3</td>\n",
              "      <td>1</td>\n",
              "      <td>26.0</td>\n",
              "      <td>0</td>\n",
              "      <td>0</td>\n",
              "      <td>7.9250</td>\n",
              "      <td>1</td>\n",
              "    </tr>\n",
              "    <tr>\n",
              "      <th>3</th>\n",
              "      <td>4</td>\n",
              "      <td>1</td>\n",
              "      <td>1</td>\n",
              "      <td>35.0</td>\n",
              "      <td>1</td>\n",
              "      <td>0</td>\n",
              "      <td>53.1000</td>\n",
              "      <td>1</td>\n",
              "    </tr>\n",
              "    <tr>\n",
              "      <th>4</th>\n",
              "      <td>5</td>\n",
              "      <td>3</td>\n",
              "      <td>0</td>\n",
              "      <td>35.0</td>\n",
              "      <td>0</td>\n",
              "      <td>0</td>\n",
              "      <td>8.0500</td>\n",
              "      <td>0</td>\n",
              "    </tr>\n",
              "  </tbody>\n",
              "</table>\n",
              "</div>\n",
              "      <button class=\"colab-df-convert\" onclick=\"convertToInteractive('df-b809ccf7-df36-4e5e-a6be-c47109d8099b')\"\n",
              "              title=\"Convert this dataframe to an interactive table.\"\n",
              "              style=\"display:none;\">\n",
              "        \n",
              "  <svg xmlns=\"http://www.w3.org/2000/svg\" height=\"24px\"viewBox=\"0 0 24 24\"\n",
              "       width=\"24px\">\n",
              "    <path d=\"M0 0h24v24H0V0z\" fill=\"none\"/>\n",
              "    <path d=\"M18.56 5.44l.94 2.06.94-2.06 2.06-.94-2.06-.94-.94-2.06-.94 2.06-2.06.94zm-11 1L8.5 8.5l.94-2.06 2.06-.94-2.06-.94L8.5 2.5l-.94 2.06-2.06.94zm10 10l.94 2.06.94-2.06 2.06-.94-2.06-.94-.94-2.06-.94 2.06-2.06.94z\"/><path d=\"M17.41 7.96l-1.37-1.37c-.4-.4-.92-.59-1.43-.59-.52 0-1.04.2-1.43.59L10.3 9.45l-7.72 7.72c-.78.78-.78 2.05 0 2.83L4 21.41c.39.39.9.59 1.41.59.51 0 1.02-.2 1.41-.59l7.78-7.78 2.81-2.81c.8-.78.8-2.07 0-2.86zM5.41 20L4 18.59l7.72-7.72 1.47 1.35L5.41 20z\"/>\n",
              "  </svg>\n",
              "      </button>\n",
              "      \n",
              "  <style>\n",
              "    .colab-df-container {\n",
              "      display:flex;\n",
              "      flex-wrap:wrap;\n",
              "      gap: 12px;\n",
              "    }\n",
              "\n",
              "    .colab-df-convert {\n",
              "      background-color: #E8F0FE;\n",
              "      border: none;\n",
              "      border-radius: 50%;\n",
              "      cursor: pointer;\n",
              "      display: none;\n",
              "      fill: #1967D2;\n",
              "      height: 32px;\n",
              "      padding: 0 0 0 0;\n",
              "      width: 32px;\n",
              "    }\n",
              "\n",
              "    .colab-df-convert:hover {\n",
              "      background-color: #E2EBFA;\n",
              "      box-shadow: 0px 1px 2px rgba(60, 64, 67, 0.3), 0px 1px 3px 1px rgba(60, 64, 67, 0.15);\n",
              "      fill: #174EA6;\n",
              "    }\n",
              "\n",
              "    [theme=dark] .colab-df-convert {\n",
              "      background-color: #3B4455;\n",
              "      fill: #D2E3FC;\n",
              "    }\n",
              "\n",
              "    [theme=dark] .colab-df-convert:hover {\n",
              "      background-color: #434B5C;\n",
              "      box-shadow: 0px 1px 3px 1px rgba(0, 0, 0, 0.15);\n",
              "      filter: drop-shadow(0px 1px 2px rgba(0, 0, 0, 0.3));\n",
              "      fill: #FFFFFF;\n",
              "    }\n",
              "  </style>\n",
              "\n",
              "      <script>\n",
              "        const buttonEl =\n",
              "          document.querySelector('#df-b809ccf7-df36-4e5e-a6be-c47109d8099b button.colab-df-convert');\n",
              "        buttonEl.style.display =\n",
              "          google.colab.kernel.accessAllowed ? 'block' : 'none';\n",
              "\n",
              "        async function convertToInteractive(key) {\n",
              "          const element = document.querySelector('#df-b809ccf7-df36-4e5e-a6be-c47109d8099b');\n",
              "          const dataTable =\n",
              "            await google.colab.kernel.invokeFunction('convertToInteractive',\n",
              "                                                     [key], {});\n",
              "          if (!dataTable) return;\n",
              "\n",
              "          const docLinkHtml = 'Like what you see? Visit the ' +\n",
              "            '<a target=\"_blank\" href=https://colab.research.google.com/notebooks/data_table.ipynb>data table notebook</a>'\n",
              "            + ' to learn more about interactive tables.';\n",
              "          element.innerHTML = '';\n",
              "          dataTable['output_type'] = 'display_data';\n",
              "          await google.colab.output.renderOutput(dataTable, element);\n",
              "          const docLink = document.createElement('div');\n",
              "          docLink.innerHTML = docLinkHtml;\n",
              "          element.appendChild(docLink);\n",
              "        }\n",
              "      </script>\n",
              "    </div>\n",
              "  </div>\n",
              "  "
            ]
          },
          "metadata": {},
          "execution_count": 76
        }
      ]
    },
    {
      "cell_type": "code",
      "source": [
        "df_data.info()"
      ],
      "metadata": {
        "colab": {
          "base_uri": "https://localhost:8080/"
        },
        "id": "6nz9Wym2SgE9",
        "outputId": "88f8f6b3-1980-4fbb-9dd6-c8d42d323bce"
      },
      "execution_count": 77,
      "outputs": [
        {
          "output_type": "stream",
          "name": "stdout",
          "text": [
            "<class 'pandas.core.frame.DataFrame'>\n",
            "RangeIndex: 891 entries, 0 to 890\n",
            "Data columns (total 8 columns):\n",
            " #   Column       Non-Null Count  Dtype  \n",
            "---  ------       --------------  -----  \n",
            " 0   PassengerId  891 non-null    int64  \n",
            " 1   Pclass       891 non-null    int64  \n",
            " 2   Sex          891 non-null    int64  \n",
            " 3   Age          714 non-null    float64\n",
            " 4   SibSp        891 non-null    int64  \n",
            " 5   Parch        891 non-null    int64  \n",
            " 6   Fare         891 non-null    float64\n",
            " 7   Survived     891 non-null    int64  \n",
            "dtypes: float64(2), int64(6)\n",
            "memory usage: 55.8 KB\n"
          ]
        }
      ]
    },
    {
      "cell_type": "code",
      "source": [
        "mean_age = round(df_data[\"Age\"].mean(), 2)\n",
        "mean_age"
      ],
      "metadata": {
        "colab": {
          "base_uri": "https://localhost:8080/"
        },
        "id": "2u7wU91tSsvT",
        "outputId": "57017bd5-5084-4bf7-84a6-54c8ea200864"
      },
      "execution_count": 78,
      "outputs": [
        {
          "output_type": "execute_result",
          "data": {
            "text/plain": [
              "29.7"
            ]
          },
          "metadata": {},
          "execution_count": 78
        }
      ]
    },
    {
      "cell_type": "code",
      "source": [
        "#Fill blanks with mean of Age\n",
        "#df_data[\"Age\"] = df_data[\"Age\"].fillna(mean_age)\n",
        "df_data[\"Age\"] = df_data[\"Age\"].fillna(0)\n"
      ],
      "metadata": {
        "id": "lK5rCoC5S2_U"
      },
      "execution_count": 79,
      "outputs": []
    },
    {
      "cell_type": "code",
      "source": [
        "df_data.info()"
      ],
      "metadata": {
        "colab": {
          "base_uri": "https://localhost:8080/"
        },
        "id": "DSicwrCSTTFO",
        "outputId": "9fe6c21c-5000-4971-d965-f8c7c1f02ec0"
      },
      "execution_count": 80,
      "outputs": [
        {
          "output_type": "stream",
          "name": "stdout",
          "text": [
            "<class 'pandas.core.frame.DataFrame'>\n",
            "RangeIndex: 891 entries, 0 to 890\n",
            "Data columns (total 8 columns):\n",
            " #   Column       Non-Null Count  Dtype  \n",
            "---  ------       --------------  -----  \n",
            " 0   PassengerId  891 non-null    int64  \n",
            " 1   Pclass       891 non-null    int64  \n",
            " 2   Sex          891 non-null    int64  \n",
            " 3   Age          891 non-null    float64\n",
            " 4   SibSp        891 non-null    int64  \n",
            " 5   Parch        891 non-null    int64  \n",
            " 6   Fare         891 non-null    float64\n",
            " 7   Survived     891 non-null    int64  \n",
            "dtypes: float64(2), int64(6)\n",
            "memory usage: 55.8 KB\n"
          ]
        }
      ]
    },
    {
      "cell_type": "code",
      "source": [
        "df_data.head(10)"
      ],
      "metadata": {
        "id": "sbx_XxAd3irj",
        "outputId": "78e1db7a-f0ab-46f2-8090-08aa5848da17",
        "colab": {
          "base_uri": "https://localhost:8080/",
          "height": 374
        }
      },
      "execution_count": 81,
      "outputs": [
        {
          "output_type": "execute_result",
          "data": {
            "text/plain": [
              "   PassengerId  Pclass  Sex   Age  SibSp  Parch     Fare  Survived\n",
              "0            1       3    0  22.0      1      0   7.2500         0\n",
              "1            2       1    1  38.0      1      0  71.2833         1\n",
              "2            3       3    1  26.0      0      0   7.9250         1\n",
              "3            4       1    1  35.0      1      0  53.1000         1\n",
              "4            5       3    0  35.0      0      0   8.0500         0\n",
              "5            6       3    0   0.0      0      0   8.4583         0\n",
              "6            7       1    0  54.0      0      0  51.8625         0\n",
              "7            8       3    0   2.0      3      1  21.0750         0\n",
              "8            9       3    1  27.0      0      2  11.1333         1\n",
              "9           10       2    1  14.0      1      0  30.0708         1"
            ],
            "text/html": [
              "\n",
              "  <div id=\"df-14263c22-5648-4131-b521-669068fdd658\">\n",
              "    <div class=\"colab-df-container\">\n",
              "      <div>\n",
              "<style scoped>\n",
              "    .dataframe tbody tr th:only-of-type {\n",
              "        vertical-align: middle;\n",
              "    }\n",
              "\n",
              "    .dataframe tbody tr th {\n",
              "        vertical-align: top;\n",
              "    }\n",
              "\n",
              "    .dataframe thead th {\n",
              "        text-align: right;\n",
              "    }\n",
              "</style>\n",
              "<table border=\"1\" class=\"dataframe\">\n",
              "  <thead>\n",
              "    <tr style=\"text-align: right;\">\n",
              "      <th></th>\n",
              "      <th>PassengerId</th>\n",
              "      <th>Pclass</th>\n",
              "      <th>Sex</th>\n",
              "      <th>Age</th>\n",
              "      <th>SibSp</th>\n",
              "      <th>Parch</th>\n",
              "      <th>Fare</th>\n",
              "      <th>Survived</th>\n",
              "    </tr>\n",
              "  </thead>\n",
              "  <tbody>\n",
              "    <tr>\n",
              "      <th>0</th>\n",
              "      <td>1</td>\n",
              "      <td>3</td>\n",
              "      <td>0</td>\n",
              "      <td>22.0</td>\n",
              "      <td>1</td>\n",
              "      <td>0</td>\n",
              "      <td>7.2500</td>\n",
              "      <td>0</td>\n",
              "    </tr>\n",
              "    <tr>\n",
              "      <th>1</th>\n",
              "      <td>2</td>\n",
              "      <td>1</td>\n",
              "      <td>1</td>\n",
              "      <td>38.0</td>\n",
              "      <td>1</td>\n",
              "      <td>0</td>\n",
              "      <td>71.2833</td>\n",
              "      <td>1</td>\n",
              "    </tr>\n",
              "    <tr>\n",
              "      <th>2</th>\n",
              "      <td>3</td>\n",
              "      <td>3</td>\n",
              "      <td>1</td>\n",
              "      <td>26.0</td>\n",
              "      <td>0</td>\n",
              "      <td>0</td>\n",
              "      <td>7.9250</td>\n",
              "      <td>1</td>\n",
              "    </tr>\n",
              "    <tr>\n",
              "      <th>3</th>\n",
              "      <td>4</td>\n",
              "      <td>1</td>\n",
              "      <td>1</td>\n",
              "      <td>35.0</td>\n",
              "      <td>1</td>\n",
              "      <td>0</td>\n",
              "      <td>53.1000</td>\n",
              "      <td>1</td>\n",
              "    </tr>\n",
              "    <tr>\n",
              "      <th>4</th>\n",
              "      <td>5</td>\n",
              "      <td>3</td>\n",
              "      <td>0</td>\n",
              "      <td>35.0</td>\n",
              "      <td>0</td>\n",
              "      <td>0</td>\n",
              "      <td>8.0500</td>\n",
              "      <td>0</td>\n",
              "    </tr>\n",
              "    <tr>\n",
              "      <th>5</th>\n",
              "      <td>6</td>\n",
              "      <td>3</td>\n",
              "      <td>0</td>\n",
              "      <td>0.0</td>\n",
              "      <td>0</td>\n",
              "      <td>0</td>\n",
              "      <td>8.4583</td>\n",
              "      <td>0</td>\n",
              "    </tr>\n",
              "    <tr>\n",
              "      <th>6</th>\n",
              "      <td>7</td>\n",
              "      <td>1</td>\n",
              "      <td>0</td>\n",
              "      <td>54.0</td>\n",
              "      <td>0</td>\n",
              "      <td>0</td>\n",
              "      <td>51.8625</td>\n",
              "      <td>0</td>\n",
              "    </tr>\n",
              "    <tr>\n",
              "      <th>7</th>\n",
              "      <td>8</td>\n",
              "      <td>3</td>\n",
              "      <td>0</td>\n",
              "      <td>2.0</td>\n",
              "      <td>3</td>\n",
              "      <td>1</td>\n",
              "      <td>21.0750</td>\n",
              "      <td>0</td>\n",
              "    </tr>\n",
              "    <tr>\n",
              "      <th>8</th>\n",
              "      <td>9</td>\n",
              "      <td>3</td>\n",
              "      <td>1</td>\n",
              "      <td>27.0</td>\n",
              "      <td>0</td>\n",
              "      <td>2</td>\n",
              "      <td>11.1333</td>\n",
              "      <td>1</td>\n",
              "    </tr>\n",
              "    <tr>\n",
              "      <th>9</th>\n",
              "      <td>10</td>\n",
              "      <td>2</td>\n",
              "      <td>1</td>\n",
              "      <td>14.0</td>\n",
              "      <td>1</td>\n",
              "      <td>0</td>\n",
              "      <td>30.0708</td>\n",
              "      <td>1</td>\n",
              "    </tr>\n",
              "  </tbody>\n",
              "</table>\n",
              "</div>\n",
              "      <button class=\"colab-df-convert\" onclick=\"convertToInteractive('df-14263c22-5648-4131-b521-669068fdd658')\"\n",
              "              title=\"Convert this dataframe to an interactive table.\"\n",
              "              style=\"display:none;\">\n",
              "        \n",
              "  <svg xmlns=\"http://www.w3.org/2000/svg\" height=\"24px\"viewBox=\"0 0 24 24\"\n",
              "       width=\"24px\">\n",
              "    <path d=\"M0 0h24v24H0V0z\" fill=\"none\"/>\n",
              "    <path d=\"M18.56 5.44l.94 2.06.94-2.06 2.06-.94-2.06-.94-.94-2.06-.94 2.06-2.06.94zm-11 1L8.5 8.5l.94-2.06 2.06-.94-2.06-.94L8.5 2.5l-.94 2.06-2.06.94zm10 10l.94 2.06.94-2.06 2.06-.94-2.06-.94-.94-2.06-.94 2.06-2.06.94z\"/><path d=\"M17.41 7.96l-1.37-1.37c-.4-.4-.92-.59-1.43-.59-.52 0-1.04.2-1.43.59L10.3 9.45l-7.72 7.72c-.78.78-.78 2.05 0 2.83L4 21.41c.39.39.9.59 1.41.59.51 0 1.02-.2 1.41-.59l7.78-7.78 2.81-2.81c.8-.78.8-2.07 0-2.86zM5.41 20L4 18.59l7.72-7.72 1.47 1.35L5.41 20z\"/>\n",
              "  </svg>\n",
              "      </button>\n",
              "      \n",
              "  <style>\n",
              "    .colab-df-container {\n",
              "      display:flex;\n",
              "      flex-wrap:wrap;\n",
              "      gap: 12px;\n",
              "    }\n",
              "\n",
              "    .colab-df-convert {\n",
              "      background-color: #E8F0FE;\n",
              "      border: none;\n",
              "      border-radius: 50%;\n",
              "      cursor: pointer;\n",
              "      display: none;\n",
              "      fill: #1967D2;\n",
              "      height: 32px;\n",
              "      padding: 0 0 0 0;\n",
              "      width: 32px;\n",
              "    }\n",
              "\n",
              "    .colab-df-convert:hover {\n",
              "      background-color: #E2EBFA;\n",
              "      box-shadow: 0px 1px 2px rgba(60, 64, 67, 0.3), 0px 1px 3px 1px rgba(60, 64, 67, 0.15);\n",
              "      fill: #174EA6;\n",
              "    }\n",
              "\n",
              "    [theme=dark] .colab-df-convert {\n",
              "      background-color: #3B4455;\n",
              "      fill: #D2E3FC;\n",
              "    }\n",
              "\n",
              "    [theme=dark] .colab-df-convert:hover {\n",
              "      background-color: #434B5C;\n",
              "      box-shadow: 0px 1px 3px 1px rgba(0, 0, 0, 0.15);\n",
              "      filter: drop-shadow(0px 1px 2px rgba(0, 0, 0, 0.3));\n",
              "      fill: #FFFFFF;\n",
              "    }\n",
              "  </style>\n",
              "\n",
              "      <script>\n",
              "        const buttonEl =\n",
              "          document.querySelector('#df-14263c22-5648-4131-b521-669068fdd658 button.colab-df-convert');\n",
              "        buttonEl.style.display =\n",
              "          google.colab.kernel.accessAllowed ? 'block' : 'none';\n",
              "\n",
              "        async function convertToInteractive(key) {\n",
              "          const element = document.querySelector('#df-14263c22-5648-4131-b521-669068fdd658');\n",
              "          const dataTable =\n",
              "            await google.colab.kernel.invokeFunction('convertToInteractive',\n",
              "                                                     [key], {});\n",
              "          if (!dataTable) return;\n",
              "\n",
              "          const docLinkHtml = 'Like what you see? Visit the ' +\n",
              "            '<a target=\"_blank\" href=https://colab.research.google.com/notebooks/data_table.ipynb>data table notebook</a>'\n",
              "            + ' to learn more about interactive tables.';\n",
              "          element.innerHTML = '';\n",
              "          dataTable['output_type'] = 'display_data';\n",
              "          await google.colab.output.renderOutput(dataTable, element);\n",
              "          const docLink = document.createElement('div');\n",
              "          docLink.innerHTML = docLinkHtml;\n",
              "          element.appendChild(docLink);\n",
              "        }\n",
              "      </script>\n",
              "    </div>\n",
              "  </div>\n",
              "  "
            ]
          },
          "metadata": {},
          "execution_count": 81
        }
      ]
    },
    {
      "cell_type": "code",
      "source": [
        "df_data[\"Age\"] = df_data[\"Age\"]/df_data[\"Age\"].mean()"
      ],
      "metadata": {
        "id": "KLOgK3B_3tFw"
      },
      "execution_count": 82,
      "outputs": []
    },
    {
      "cell_type": "code",
      "source": [
        "df_data[\"Fare\"] = df_data[\"Fare\"] / df_data[\"Fare\"].mean()"
      ],
      "metadata": {
        "id": "3-86ZQt64Abp"
      },
      "execution_count": 84,
      "outputs": []
    },
    {
      "cell_type": "code",
      "source": [
        "df_data.head()"
      ],
      "metadata": {
        "id": "LABarwC1352f",
        "outputId": "f5d138e3-44fd-49ad-c1ce-3070ff9c1409",
        "colab": {
          "base_uri": "https://localhost:8080/",
          "height": 221
        }
      },
      "execution_count": 85,
      "outputs": [
        {
          "output_type": "execute_result",
          "data": {
            "text/plain": [
              "   PassengerId  Pclass  Sex       Age  SibSp  Parch      Fare  Survived\n",
              "0            1       3    0  0.924397      1      0  0.225126         0\n",
              "1            2       1    1  1.596686      1      0  2.213478         1\n",
              "2            3       3    1  1.092469      0      0  0.246086         1\n",
              "3            4       1    1  1.470632      1      0  1.648853         1\n",
              "4            5       3    0  1.470632      0      0  0.249967         0"
            ],
            "text/html": [
              "\n",
              "  <div id=\"df-fbf47212-4ef9-47a6-80cf-4bbe8767098e\">\n",
              "    <div class=\"colab-df-container\">\n",
              "      <div>\n",
              "<style scoped>\n",
              "    .dataframe tbody tr th:only-of-type {\n",
              "        vertical-align: middle;\n",
              "    }\n",
              "\n",
              "    .dataframe tbody tr th {\n",
              "        vertical-align: top;\n",
              "    }\n",
              "\n",
              "    .dataframe thead th {\n",
              "        text-align: right;\n",
              "    }\n",
              "</style>\n",
              "<table border=\"1\" class=\"dataframe\">\n",
              "  <thead>\n",
              "    <tr style=\"text-align: right;\">\n",
              "      <th></th>\n",
              "      <th>PassengerId</th>\n",
              "      <th>Pclass</th>\n",
              "      <th>Sex</th>\n",
              "      <th>Age</th>\n",
              "      <th>SibSp</th>\n",
              "      <th>Parch</th>\n",
              "      <th>Fare</th>\n",
              "      <th>Survived</th>\n",
              "    </tr>\n",
              "  </thead>\n",
              "  <tbody>\n",
              "    <tr>\n",
              "      <th>0</th>\n",
              "      <td>1</td>\n",
              "      <td>3</td>\n",
              "      <td>0</td>\n",
              "      <td>0.924397</td>\n",
              "      <td>1</td>\n",
              "      <td>0</td>\n",
              "      <td>0.225126</td>\n",
              "      <td>0</td>\n",
              "    </tr>\n",
              "    <tr>\n",
              "      <th>1</th>\n",
              "      <td>2</td>\n",
              "      <td>1</td>\n",
              "      <td>1</td>\n",
              "      <td>1.596686</td>\n",
              "      <td>1</td>\n",
              "      <td>0</td>\n",
              "      <td>2.213478</td>\n",
              "      <td>1</td>\n",
              "    </tr>\n",
              "    <tr>\n",
              "      <th>2</th>\n",
              "      <td>3</td>\n",
              "      <td>3</td>\n",
              "      <td>1</td>\n",
              "      <td>1.092469</td>\n",
              "      <td>0</td>\n",
              "      <td>0</td>\n",
              "      <td>0.246086</td>\n",
              "      <td>1</td>\n",
              "    </tr>\n",
              "    <tr>\n",
              "      <th>3</th>\n",
              "      <td>4</td>\n",
              "      <td>1</td>\n",
              "      <td>1</td>\n",
              "      <td>1.470632</td>\n",
              "      <td>1</td>\n",
              "      <td>0</td>\n",
              "      <td>1.648853</td>\n",
              "      <td>1</td>\n",
              "    </tr>\n",
              "    <tr>\n",
              "      <th>4</th>\n",
              "      <td>5</td>\n",
              "      <td>3</td>\n",
              "      <td>0</td>\n",
              "      <td>1.470632</td>\n",
              "      <td>0</td>\n",
              "      <td>0</td>\n",
              "      <td>0.249967</td>\n",
              "      <td>0</td>\n",
              "    </tr>\n",
              "  </tbody>\n",
              "</table>\n",
              "</div>\n",
              "      <button class=\"colab-df-convert\" onclick=\"convertToInteractive('df-fbf47212-4ef9-47a6-80cf-4bbe8767098e')\"\n",
              "              title=\"Convert this dataframe to an interactive table.\"\n",
              "              style=\"display:none;\">\n",
              "        \n",
              "  <svg xmlns=\"http://www.w3.org/2000/svg\" height=\"24px\"viewBox=\"0 0 24 24\"\n",
              "       width=\"24px\">\n",
              "    <path d=\"M0 0h24v24H0V0z\" fill=\"none\"/>\n",
              "    <path d=\"M18.56 5.44l.94 2.06.94-2.06 2.06-.94-2.06-.94-.94-2.06-.94 2.06-2.06.94zm-11 1L8.5 8.5l.94-2.06 2.06-.94-2.06-.94L8.5 2.5l-.94 2.06-2.06.94zm10 10l.94 2.06.94-2.06 2.06-.94-2.06-.94-.94-2.06-.94 2.06-2.06.94z\"/><path d=\"M17.41 7.96l-1.37-1.37c-.4-.4-.92-.59-1.43-.59-.52 0-1.04.2-1.43.59L10.3 9.45l-7.72 7.72c-.78.78-.78 2.05 0 2.83L4 21.41c.39.39.9.59 1.41.59.51 0 1.02-.2 1.41-.59l7.78-7.78 2.81-2.81c.8-.78.8-2.07 0-2.86zM5.41 20L4 18.59l7.72-7.72 1.47 1.35L5.41 20z\"/>\n",
              "  </svg>\n",
              "      </button>\n",
              "      \n",
              "  <style>\n",
              "    .colab-df-container {\n",
              "      display:flex;\n",
              "      flex-wrap:wrap;\n",
              "      gap: 12px;\n",
              "    }\n",
              "\n",
              "    .colab-df-convert {\n",
              "      background-color: #E8F0FE;\n",
              "      border: none;\n",
              "      border-radius: 50%;\n",
              "      cursor: pointer;\n",
              "      display: none;\n",
              "      fill: #1967D2;\n",
              "      height: 32px;\n",
              "      padding: 0 0 0 0;\n",
              "      width: 32px;\n",
              "    }\n",
              "\n",
              "    .colab-df-convert:hover {\n",
              "      background-color: #E2EBFA;\n",
              "      box-shadow: 0px 1px 2px rgba(60, 64, 67, 0.3), 0px 1px 3px 1px rgba(60, 64, 67, 0.15);\n",
              "      fill: #174EA6;\n",
              "    }\n",
              "\n",
              "    [theme=dark] .colab-df-convert {\n",
              "      background-color: #3B4455;\n",
              "      fill: #D2E3FC;\n",
              "    }\n",
              "\n",
              "    [theme=dark] .colab-df-convert:hover {\n",
              "      background-color: #434B5C;\n",
              "      box-shadow: 0px 1px 3px 1px rgba(0, 0, 0, 0.15);\n",
              "      filter: drop-shadow(0px 1px 2px rgba(0, 0, 0, 0.3));\n",
              "      fill: #FFFFFF;\n",
              "    }\n",
              "  </style>\n",
              "\n",
              "      <script>\n",
              "        const buttonEl =\n",
              "          document.querySelector('#df-fbf47212-4ef9-47a6-80cf-4bbe8767098e button.colab-df-convert');\n",
              "        buttonEl.style.display =\n",
              "          google.colab.kernel.accessAllowed ? 'block' : 'none';\n",
              "\n",
              "        async function convertToInteractive(key) {\n",
              "          const element = document.querySelector('#df-fbf47212-4ef9-47a6-80cf-4bbe8767098e');\n",
              "          const dataTable =\n",
              "            await google.colab.kernel.invokeFunction('convertToInteractive',\n",
              "                                                     [key], {});\n",
              "          if (!dataTable) return;\n",
              "\n",
              "          const docLinkHtml = 'Like what you see? Visit the ' +\n",
              "            '<a target=\"_blank\" href=https://colab.research.google.com/notebooks/data_table.ipynb>data table notebook</a>'\n",
              "            + ' to learn more about interactive tables.';\n",
              "          element.innerHTML = '';\n",
              "          dataTable['output_type'] = 'display_data';\n",
              "          await google.colab.output.renderOutput(dataTable, element);\n",
              "          const docLink = document.createElement('div');\n",
              "          docLink.innerHTML = docLinkHtml;\n",
              "          element.appendChild(docLink);\n",
              "        }\n",
              "      </script>\n",
              "    </div>\n",
              "  </div>\n",
              "  "
            ]
          },
          "metadata": {},
          "execution_count": 85
        }
      ]
    },
    {
      "cell_type": "code",
      "source": [
        "def return_data_and_label(df_data):\n",
        "  #shuffle rows\n",
        "  df_data = df_data.sample(frac = 1)\n",
        "  return df_data[[\"Pclass\", \"Sex\", \"Age\", \"SibSp\", \"Parch\", \"Fare\"]].to_numpy(), df_data[\"Survived\"].to_numpy()"
      ],
      "metadata": {
        "id": "OYMX6ZnvJIJn"
      },
      "execution_count": 86,
      "outputs": []
    },
    {
      "cell_type": "code",
      "source": [
        "training_data, training_label = return_data_and_label(df_data)"
      ],
      "metadata": {
        "id": "PoGRFjQ_JX3n"
      },
      "execution_count": 87,
      "outputs": []
    },
    {
      "cell_type": "code",
      "source": [
        "training_data.shape"
      ],
      "metadata": {
        "colab": {
          "base_uri": "https://localhost:8080/"
        },
        "id": "2dHjFQ6BLFib",
        "outputId": "86c2b71a-00ed-4f16-eec0-71de66c34c79"
      },
      "execution_count": 88,
      "outputs": [
        {
          "output_type": "execute_result",
          "data": {
            "text/plain": [
              "(891, 6)"
            ]
          },
          "metadata": {},
          "execution_count": 88
        }
      ]
    },
    {
      "cell_type": "code",
      "source": [
        "#normalize data\n",
        "training_data = training_data / 10."
      ],
      "metadata": {
        "id": "GXzYKZHyP-xW"
      },
      "execution_count": 89,
      "outputs": []
    },
    {
      "cell_type": "code",
      "source": [
        "training_data"
      ],
      "metadata": {
        "colab": {
          "base_uri": "https://localhost:8080/"
        },
        "id": "-uoKZ-WDSSbn",
        "outputId": "5402fa91-82ce-4a9a-e38f-09d98a32b31d"
      },
      "execution_count": 90,
      "outputs": [
        {
          "output_type": "execute_result",
          "data": {
            "text/plain": [
              "array([[0.1       , 0.1       , 0.13025597, 0.        , 0.2       ,\n",
              "        0.51194148],\n",
              "       [0.1       , 0.        , 0.        , 0.        , 0.        ,\n",
              "        0.15525921],\n",
              "       [0.1       , 0.        , 0.14706319, 0.        , 0.        ,\n",
              "        1.59087657],\n",
              "       ...,\n",
              "       [0.3       , 0.        , 0.14706319, 0.        , 0.        ,\n",
              "        0.02189155],\n",
              "       [0.3       , 0.        , 0.21429208, 0.        , 0.        ,\n",
              "        0.02406518],\n",
              "       [0.3       , 0.        , 0.10504514, 0.1       , 0.        ,\n",
              "        0.02414281]])"
            ]
          },
          "metadata": {},
          "execution_count": 90
        }
      ]
    },
    {
      "cell_type": "code",
      "source": [
        "training_label.shape"
      ],
      "metadata": {
        "colab": {
          "base_uri": "https://localhost:8080/"
        },
        "id": "Wkd2NWkwLOlj",
        "outputId": "2db8cb94-9df0-451a-c472-4b6c4c86482c"
      },
      "execution_count": 91,
      "outputs": [
        {
          "output_type": "execute_result",
          "data": {
            "text/plain": [
              "(891,)"
            ]
          },
          "metadata": {},
          "execution_count": 91
        }
      ]
    },
    {
      "cell_type": "code",
      "source": [
        "import tensorflow as tf\n",
        "from tensorflow import keras\n",
        "from tensorflow.keras import layers"
      ],
      "metadata": {
        "id": "rXn6mEY7OJMk"
      },
      "execution_count": 92,
      "outputs": []
    },
    {
      "cell_type": "code",
      "source": [
        "def get_model():\n",
        "  model = keras.Sequential([\n",
        "      layers.Input(shape=(6,)),\n",
        "      #layers.Dense(64, activation=\"relu\"),\n",
        "      #layers.Dense(256, activation=\"relu\"),\n",
        "      #layers.Dense(128, activation=\"relu\"),\n",
        "      #layers.Dense(64, activation=\"relu\"),\n",
        "      layers.Dense(64, activation=\"relu\"),\n",
        "      layers.Dense(32, activation=\"relu\"),\n",
        "      layers.Dropout(0.5),\n",
        "      layers.Dense(1, activation=\"sigmoid\")\n",
        "  ])\n",
        "\n",
        "  model.compile(optimizer=\"rmsprop\",\n",
        "                loss=\"binary_crossentropy\",\n",
        "                metrics=['accuracy'])\n",
        "\n",
        "  return model"
      ],
      "metadata": {
        "id": "MyE5J_E6LRSX"
      },
      "execution_count": 162,
      "outputs": []
    },
    {
      "cell_type": "code",
      "source": [
        "#Try various options. Training loss bottoms out around 320 epochs\n",
        "epochs=300"
      ],
      "metadata": {
        "id": "4TRmqV4tUELL"
      },
      "execution_count": 144,
      "outputs": []
    },
    {
      "cell_type": "code",
      "source": [
        "mycallback = [\n",
        "    keras.callbacks.ModelCheckpoint(filepath=\"titanic.keras\", monitor='val_loss', save_best_only=True)\n",
        "]"
      ],
      "metadata": {
        "id": "sV3Tr4fJJ-zA"
      },
      "execution_count": 145,
      "outputs": []
    },
    {
      "cell_type": "code",
      "source": [
        "model = get_model()\n",
        "\n",
        "run_history = model.fit(training_data,\n",
        "                        training_label,\n",
        "                        epochs = epochs,\n",
        "                        validation_split=0.3,\n",
        "                        batch_size=32,\n",
        "                        callbacks=mycallback)"
      ],
      "metadata": {
        "colab": {
          "base_uri": "https://localhost:8080/"
        },
        "id": "_E8QmZ7iPFpa",
        "outputId": "65c79508-708b-4fe9-d0c4-8d969a256b20"
      },
      "execution_count": 163,
      "outputs": [
        {
          "output_type": "stream",
          "name": "stdout",
          "text": [
            "Epoch 1/300\n",
            "20/20 [==============================] - 1s 11ms/step - loss: 0.6869 - accuracy: 0.5682 - val_loss: 0.6703 - val_accuracy: 0.7463\n",
            "Epoch 2/300\n",
            "20/20 [==============================] - 0s 4ms/step - loss: 0.6684 - accuracy: 0.6870 - val_loss: 0.6522 - val_accuracy: 0.7500\n",
            "Epoch 3/300\n",
            "20/20 [==============================] - 0s 3ms/step - loss: 0.6587 - accuracy: 0.6774 - val_loss: 0.6305 - val_accuracy: 0.7500\n",
            "Epoch 4/300\n",
            "20/20 [==============================] - 0s 3ms/step - loss: 0.6386 - accuracy: 0.6950 - val_loss: 0.6111 - val_accuracy: 0.7463\n",
            "Epoch 5/300\n",
            "20/20 [==============================] - 0s 3ms/step - loss: 0.6258 - accuracy: 0.6966 - val_loss: 0.5963 - val_accuracy: 0.7388\n",
            "Epoch 6/300\n",
            "20/20 [==============================] - 0s 4ms/step - loss: 0.6185 - accuracy: 0.7127 - val_loss: 0.5780 - val_accuracy: 0.7500\n",
            "Epoch 7/300\n",
            "20/20 [==============================] - 0s 4ms/step - loss: 0.6063 - accuracy: 0.7175 - val_loss: 0.5629 - val_accuracy: 0.7575\n",
            "Epoch 8/300\n",
            "20/20 [==============================] - 0s 4ms/step - loss: 0.5913 - accuracy: 0.7239 - val_loss: 0.5466 - val_accuracy: 0.7649\n",
            "Epoch 9/300\n",
            "20/20 [==============================] - 0s 4ms/step - loss: 0.5771 - accuracy: 0.6966 - val_loss: 0.5445 - val_accuracy: 0.7724\n",
            "Epoch 10/300\n",
            "20/20 [==============================] - 0s 4ms/step - loss: 0.5635 - accuracy: 0.7239 - val_loss: 0.5418 - val_accuracy: 0.7836\n",
            "Epoch 11/300\n",
            "20/20 [==============================] - 0s 4ms/step - loss: 0.5667 - accuracy: 0.7400 - val_loss: 0.5186 - val_accuracy: 0.7761\n",
            "Epoch 12/300\n",
            "20/20 [==============================] - 0s 4ms/step - loss: 0.5675 - accuracy: 0.7271 - val_loss: 0.5031 - val_accuracy: 0.8022\n",
            "Epoch 13/300\n",
            "20/20 [==============================] - 0s 4ms/step - loss: 0.5552 - accuracy: 0.7448 - val_loss: 0.4973 - val_accuracy: 0.7948\n",
            "Epoch 14/300\n",
            "20/20 [==============================] - 0s 4ms/step - loss: 0.5467 - accuracy: 0.7400 - val_loss: 0.4891 - val_accuracy: 0.7985\n",
            "Epoch 15/300\n",
            "20/20 [==============================] - 0s 3ms/step - loss: 0.5351 - accuracy: 0.7737 - val_loss: 0.4814 - val_accuracy: 0.7910\n",
            "Epoch 16/300\n",
            "20/20 [==============================] - 0s 4ms/step - loss: 0.5299 - accuracy: 0.7721 - val_loss: 0.4737 - val_accuracy: 0.8097\n",
            "Epoch 17/300\n",
            "20/20 [==============================] - 0s 4ms/step - loss: 0.5244 - accuracy: 0.7528 - val_loss: 0.4709 - val_accuracy: 0.7985\n",
            "Epoch 18/300\n",
            "20/20 [==============================] - 0s 3ms/step - loss: 0.5145 - accuracy: 0.7624 - val_loss: 0.4568 - val_accuracy: 0.8172\n",
            "Epoch 19/300\n",
            "20/20 [==============================] - 0s 3ms/step - loss: 0.5241 - accuracy: 0.7705 - val_loss: 0.4644 - val_accuracy: 0.7985\n",
            "Epoch 20/300\n",
            "20/20 [==============================] - 0s 4ms/step - loss: 0.5232 - accuracy: 0.7657 - val_loss: 0.4544 - val_accuracy: 0.8060\n",
            "Epoch 21/300\n",
            "20/20 [==============================] - 0s 4ms/step - loss: 0.5006 - accuracy: 0.7737 - val_loss: 0.4454 - val_accuracy: 0.8172\n",
            "Epoch 22/300\n",
            "20/20 [==============================] - 0s 4ms/step - loss: 0.4952 - accuracy: 0.7592 - val_loss: 0.4575 - val_accuracy: 0.7836\n",
            "Epoch 23/300\n",
            "20/20 [==============================] - 0s 4ms/step - loss: 0.5045 - accuracy: 0.7769 - val_loss: 0.4382 - val_accuracy: 0.8209\n",
            "Epoch 24/300\n",
            "20/20 [==============================] - 0s 4ms/step - loss: 0.4940 - accuracy: 0.7769 - val_loss: 0.4432 - val_accuracy: 0.7948\n",
            "Epoch 25/300\n",
            "20/20 [==============================] - 0s 3ms/step - loss: 0.4978 - accuracy: 0.7737 - val_loss: 0.4364 - val_accuracy: 0.8060\n",
            "Epoch 26/300\n",
            "20/20 [==============================] - 0s 4ms/step - loss: 0.4792 - accuracy: 0.7705 - val_loss: 0.4269 - val_accuracy: 0.8358\n",
            "Epoch 27/300\n",
            "20/20 [==============================] - 0s 4ms/step - loss: 0.5047 - accuracy: 0.7640 - val_loss: 0.4253 - val_accuracy: 0.8396\n",
            "Epoch 28/300\n",
            "20/20 [==============================] - 0s 4ms/step - loss: 0.4934 - accuracy: 0.7801 - val_loss: 0.4280 - val_accuracy: 0.8134\n",
            "Epoch 29/300\n",
            "20/20 [==============================] - 0s 3ms/step - loss: 0.4864 - accuracy: 0.7801 - val_loss: 0.4291 - val_accuracy: 0.8097\n",
            "Epoch 30/300\n",
            "20/20 [==============================] - 0s 4ms/step - loss: 0.4897 - accuracy: 0.7721 - val_loss: 0.4363 - val_accuracy: 0.7873\n",
            "Epoch 31/300\n",
            "20/20 [==============================] - 0s 3ms/step - loss: 0.4757 - accuracy: 0.7849 - val_loss: 0.4216 - val_accuracy: 0.8321\n",
            "Epoch 32/300\n",
            "20/20 [==============================] - 0s 4ms/step - loss: 0.4982 - accuracy: 0.7673 - val_loss: 0.4203 - val_accuracy: 0.8396\n",
            "Epoch 33/300\n",
            "20/20 [==============================] - 0s 3ms/step - loss: 0.4904 - accuracy: 0.7753 - val_loss: 0.4282 - val_accuracy: 0.8060\n",
            "Epoch 34/300\n",
            "20/20 [==============================] - 0s 4ms/step - loss: 0.4830 - accuracy: 0.7849 - val_loss: 0.4165 - val_accuracy: 0.8470\n",
            "Epoch 35/300\n",
            "20/20 [==============================] - 0s 3ms/step - loss: 0.4723 - accuracy: 0.7801 - val_loss: 0.4189 - val_accuracy: 0.8246\n",
            "Epoch 36/300\n",
            "20/20 [==============================] - 0s 3ms/step - loss: 0.4824 - accuracy: 0.7737 - val_loss: 0.4352 - val_accuracy: 0.7873\n",
            "Epoch 37/300\n",
            "20/20 [==============================] - 0s 4ms/step - loss: 0.4801 - accuracy: 0.7721 - val_loss: 0.4106 - val_accuracy: 0.8433\n",
            "Epoch 38/300\n",
            "20/20 [==============================] - 0s 4ms/step - loss: 0.4937 - accuracy: 0.7801 - val_loss: 0.4240 - val_accuracy: 0.8209\n",
            "Epoch 39/300\n",
            "20/20 [==============================] - 0s 4ms/step - loss: 0.4747 - accuracy: 0.7624 - val_loss: 0.4095 - val_accuracy: 0.8507\n",
            "Epoch 40/300\n",
            "20/20 [==============================] - 0s 5ms/step - loss: 0.4913 - accuracy: 0.7721 - val_loss: 0.4144 - val_accuracy: 0.8433\n",
            "Epoch 41/300\n",
            "20/20 [==============================] - 0s 3ms/step - loss: 0.4845 - accuracy: 0.7657 - val_loss: 0.4197 - val_accuracy: 0.8321\n",
            "Epoch 42/300\n",
            "20/20 [==============================] - 0s 3ms/step - loss: 0.4774 - accuracy: 0.7769 - val_loss: 0.4202 - val_accuracy: 0.8246\n",
            "Epoch 43/300\n",
            "20/20 [==============================] - 0s 4ms/step - loss: 0.4858 - accuracy: 0.7801 - val_loss: 0.4150 - val_accuracy: 0.8396\n",
            "Epoch 44/300\n",
            "20/20 [==============================] - 0s 3ms/step - loss: 0.4831 - accuracy: 0.7849 - val_loss: 0.4134 - val_accuracy: 0.8433\n",
            "Epoch 45/300\n",
            "20/20 [==============================] - 0s 4ms/step - loss: 0.4645 - accuracy: 0.7849 - val_loss: 0.4216 - val_accuracy: 0.8172\n",
            "Epoch 46/300\n",
            "20/20 [==============================] - 0s 3ms/step - loss: 0.4681 - accuracy: 0.7833 - val_loss: 0.4193 - val_accuracy: 0.8172\n",
            "Epoch 47/300\n",
            "20/20 [==============================] - 0s 3ms/step - loss: 0.4675 - accuracy: 0.7849 - val_loss: 0.4249 - val_accuracy: 0.8022\n",
            "Epoch 48/300\n",
            "20/20 [==============================] - 0s 3ms/step - loss: 0.4681 - accuracy: 0.7865 - val_loss: 0.4075 - val_accuracy: 0.8433\n",
            "Epoch 49/300\n",
            "20/20 [==============================] - 0s 4ms/step - loss: 0.4729 - accuracy: 0.7849 - val_loss: 0.4078 - val_accuracy: 0.8433\n",
            "Epoch 50/300\n",
            "20/20 [==============================] - 0s 3ms/step - loss: 0.4742 - accuracy: 0.7785 - val_loss: 0.4220 - val_accuracy: 0.8060\n",
            "Epoch 51/300\n",
            "20/20 [==============================] - 0s 4ms/step - loss: 0.4725 - accuracy: 0.7785 - val_loss: 0.4324 - val_accuracy: 0.7873\n",
            "Epoch 52/300\n",
            "20/20 [==============================] - 0s 4ms/step - loss: 0.4711 - accuracy: 0.7801 - val_loss: 0.4115 - val_accuracy: 0.8396\n",
            "Epoch 53/300\n",
            "20/20 [==============================] - 0s 4ms/step - loss: 0.4572 - accuracy: 0.7913 - val_loss: 0.4112 - val_accuracy: 0.8396\n",
            "Epoch 54/300\n",
            "20/20 [==============================] - 0s 3ms/step - loss: 0.4722 - accuracy: 0.7737 - val_loss: 0.4162 - val_accuracy: 0.8209\n",
            "Epoch 55/300\n",
            "20/20 [==============================] - 0s 3ms/step - loss: 0.4725 - accuracy: 0.7801 - val_loss: 0.4246 - val_accuracy: 0.8060\n",
            "Epoch 56/300\n",
            "20/20 [==============================] - 0s 4ms/step - loss: 0.4746 - accuracy: 0.7737 - val_loss: 0.4188 - val_accuracy: 0.8134\n",
            "Epoch 57/300\n",
            "20/20 [==============================] - 0s 3ms/step - loss: 0.4741 - accuracy: 0.7849 - val_loss: 0.4172 - val_accuracy: 0.8134\n",
            "Epoch 58/300\n",
            "20/20 [==============================] - 0s 3ms/step - loss: 0.4680 - accuracy: 0.7833 - val_loss: 0.4256 - val_accuracy: 0.8022\n",
            "Epoch 59/300\n",
            "20/20 [==============================] - 0s 4ms/step - loss: 0.4688 - accuracy: 0.7897 - val_loss: 0.4080 - val_accuracy: 0.8470\n",
            "Epoch 60/300\n",
            "20/20 [==============================] - 0s 4ms/step - loss: 0.4520 - accuracy: 0.8042 - val_loss: 0.4150 - val_accuracy: 0.8209\n",
            "Epoch 61/300\n",
            "20/20 [==============================] - 0s 4ms/step - loss: 0.4722 - accuracy: 0.7865 - val_loss: 0.4218 - val_accuracy: 0.8134\n",
            "Epoch 62/300\n",
            "20/20 [==============================] - 0s 4ms/step - loss: 0.4767 - accuracy: 0.7753 - val_loss: 0.4145 - val_accuracy: 0.8396\n",
            "Epoch 63/300\n",
            "20/20 [==============================] - 0s 4ms/step - loss: 0.4647 - accuracy: 0.7865 - val_loss: 0.4169 - val_accuracy: 0.8246\n",
            "Epoch 64/300\n",
            "20/20 [==============================] - 0s 3ms/step - loss: 0.4730 - accuracy: 0.7881 - val_loss: 0.4147 - val_accuracy: 0.8284\n",
            "Epoch 65/300\n",
            "20/20 [==============================] - 0s 4ms/step - loss: 0.4597 - accuracy: 0.7865 - val_loss: 0.4056 - val_accuracy: 0.8433\n",
            "Epoch 66/300\n",
            "20/20 [==============================] - 0s 4ms/step - loss: 0.4486 - accuracy: 0.7897 - val_loss: 0.4041 - val_accuracy: 0.8545\n",
            "Epoch 67/300\n",
            "20/20 [==============================] - 0s 3ms/step - loss: 0.4543 - accuracy: 0.7929 - val_loss: 0.4151 - val_accuracy: 0.8209\n",
            "Epoch 68/300\n",
            "20/20 [==============================] - 0s 4ms/step - loss: 0.4695 - accuracy: 0.7769 - val_loss: 0.4066 - val_accuracy: 0.8433\n",
            "Epoch 69/300\n",
            "20/20 [==============================] - 0s 3ms/step - loss: 0.4597 - accuracy: 0.7753 - val_loss: 0.4039 - val_accuracy: 0.8507\n",
            "Epoch 70/300\n",
            "20/20 [==============================] - 0s 3ms/step - loss: 0.4747 - accuracy: 0.7849 - val_loss: 0.4139 - val_accuracy: 0.8321\n",
            "Epoch 71/300\n",
            "20/20 [==============================] - 0s 3ms/step - loss: 0.4674 - accuracy: 0.7961 - val_loss: 0.4196 - val_accuracy: 0.8209\n",
            "Epoch 72/300\n",
            "20/20 [==============================] - 0s 4ms/step - loss: 0.4668 - accuracy: 0.7833 - val_loss: 0.4098 - val_accuracy: 0.8470\n",
            "Epoch 73/300\n",
            "20/20 [==============================] - 0s 4ms/step - loss: 0.4528 - accuracy: 0.7945 - val_loss: 0.4092 - val_accuracy: 0.8396\n",
            "Epoch 74/300\n",
            "20/20 [==============================] - 0s 4ms/step - loss: 0.4493 - accuracy: 0.7785 - val_loss: 0.4170 - val_accuracy: 0.8284\n",
            "Epoch 75/300\n",
            "20/20 [==============================] - 0s 3ms/step - loss: 0.4565 - accuracy: 0.7865 - val_loss: 0.4049 - val_accuracy: 0.8545\n",
            "Epoch 76/300\n",
            "20/20 [==============================] - 0s 4ms/step - loss: 0.4528 - accuracy: 0.7817 - val_loss: 0.4040 - val_accuracy: 0.8582\n",
            "Epoch 77/300\n",
            "20/20 [==============================] - 0s 4ms/step - loss: 0.4666 - accuracy: 0.7737 - val_loss: 0.4048 - val_accuracy: 0.8470\n",
            "Epoch 78/300\n",
            "20/20 [==============================] - 0s 3ms/step - loss: 0.4491 - accuracy: 0.7994 - val_loss: 0.4051 - val_accuracy: 0.8545\n",
            "Epoch 79/300\n",
            "20/20 [==============================] - 0s 3ms/step - loss: 0.4544 - accuracy: 0.7865 - val_loss: 0.4111 - val_accuracy: 0.8433\n",
            "Epoch 80/300\n",
            "20/20 [==============================] - 0s 4ms/step - loss: 0.4555 - accuracy: 0.7929 - val_loss: 0.4230 - val_accuracy: 0.8097\n",
            "Epoch 81/300\n",
            "20/20 [==============================] - 0s 3ms/step - loss: 0.4662 - accuracy: 0.7737 - val_loss: 0.4126 - val_accuracy: 0.8358\n",
            "Epoch 82/300\n",
            "20/20 [==============================] - 0s 3ms/step - loss: 0.4497 - accuracy: 0.7881 - val_loss: 0.4067 - val_accuracy: 0.8507\n",
            "Epoch 83/300\n",
            "20/20 [==============================] - 0s 4ms/step - loss: 0.4435 - accuracy: 0.8042 - val_loss: 0.4060 - val_accuracy: 0.8507\n",
            "Epoch 84/300\n",
            "20/20 [==============================] - 0s 4ms/step - loss: 0.4629 - accuracy: 0.7945 - val_loss: 0.4145 - val_accuracy: 0.8358\n",
            "Epoch 85/300\n",
            "20/20 [==============================] - 0s 4ms/step - loss: 0.4491 - accuracy: 0.8026 - val_loss: 0.4069 - val_accuracy: 0.8582\n",
            "Epoch 86/300\n",
            "20/20 [==============================] - 0s 4ms/step - loss: 0.4492 - accuracy: 0.7817 - val_loss: 0.4102 - val_accuracy: 0.8396\n",
            "Epoch 87/300\n",
            "20/20 [==============================] - 0s 4ms/step - loss: 0.4676 - accuracy: 0.7865 - val_loss: 0.4229 - val_accuracy: 0.8172\n",
            "Epoch 88/300\n",
            "20/20 [==============================] - 0s 4ms/step - loss: 0.4633 - accuracy: 0.7705 - val_loss: 0.4161 - val_accuracy: 0.8284\n",
            "Epoch 89/300\n",
            "20/20 [==============================] - 0s 3ms/step - loss: 0.4506 - accuracy: 0.7897 - val_loss: 0.4123 - val_accuracy: 0.8321\n",
            "Epoch 90/300\n",
            "20/20 [==============================] - 0s 4ms/step - loss: 0.4606 - accuracy: 0.7994 - val_loss: 0.4074 - val_accuracy: 0.8582\n",
            "Epoch 91/300\n",
            "20/20 [==============================] - 0s 3ms/step - loss: 0.4580 - accuracy: 0.7753 - val_loss: 0.4160 - val_accuracy: 0.8358\n",
            "Epoch 92/300\n",
            "20/20 [==============================] - 0s 3ms/step - loss: 0.4576 - accuracy: 0.7817 - val_loss: 0.4082 - val_accuracy: 0.8545\n",
            "Epoch 93/300\n",
            "20/20 [==============================] - 0s 3ms/step - loss: 0.4623 - accuracy: 0.7849 - val_loss: 0.4108 - val_accuracy: 0.8507\n",
            "Epoch 94/300\n",
            "20/20 [==============================] - 0s 4ms/step - loss: 0.4459 - accuracy: 0.8042 - val_loss: 0.4284 - val_accuracy: 0.8022\n",
            "Epoch 95/300\n",
            "20/20 [==============================] - 0s 4ms/step - loss: 0.4565 - accuracy: 0.7945 - val_loss: 0.4154 - val_accuracy: 0.8321\n",
            "Epoch 96/300\n",
            "20/20 [==============================] - 0s 3ms/step - loss: 0.4670 - accuracy: 0.7833 - val_loss: 0.4201 - val_accuracy: 0.8396\n",
            "Epoch 97/300\n",
            "20/20 [==============================] - 0s 3ms/step - loss: 0.4457 - accuracy: 0.8122 - val_loss: 0.4211 - val_accuracy: 0.8321\n",
            "Epoch 98/300\n",
            "20/20 [==============================] - 0s 3ms/step - loss: 0.4296 - accuracy: 0.7961 - val_loss: 0.4083 - val_accuracy: 0.8619\n",
            "Epoch 99/300\n",
            "20/20 [==============================] - 0s 3ms/step - loss: 0.4607 - accuracy: 0.7833 - val_loss: 0.4057 - val_accuracy: 0.8582\n",
            "Epoch 100/300\n",
            "20/20 [==============================] - 0s 4ms/step - loss: 0.4565 - accuracy: 0.7929 - val_loss: 0.4191 - val_accuracy: 0.8284\n",
            "Epoch 101/300\n",
            "20/20 [==============================] - 0s 4ms/step - loss: 0.4434 - accuracy: 0.7945 - val_loss: 0.4154 - val_accuracy: 0.8358\n",
            "Epoch 102/300\n",
            "20/20 [==============================] - 0s 3ms/step - loss: 0.4528 - accuracy: 0.7961 - val_loss: 0.4055 - val_accuracy: 0.8507\n",
            "Epoch 103/300\n",
            "20/20 [==============================] - 0s 4ms/step - loss: 0.4471 - accuracy: 0.8026 - val_loss: 0.4121 - val_accuracy: 0.8433\n",
            "Epoch 104/300\n",
            "20/20 [==============================] - 0s 4ms/step - loss: 0.4451 - accuracy: 0.8010 - val_loss: 0.4096 - val_accuracy: 0.8396\n",
            "Epoch 105/300\n",
            "20/20 [==============================] - 0s 4ms/step - loss: 0.4508 - accuracy: 0.7849 - val_loss: 0.4168 - val_accuracy: 0.8246\n",
            "Epoch 106/300\n",
            "20/20 [==============================] - 0s 4ms/step - loss: 0.4390 - accuracy: 0.7961 - val_loss: 0.4041 - val_accuracy: 0.8433\n",
            "Epoch 107/300\n",
            "20/20 [==============================] - 0s 4ms/step - loss: 0.4373 - accuracy: 0.7913 - val_loss: 0.4052 - val_accuracy: 0.8545\n",
            "Epoch 108/300\n",
            "20/20 [==============================] - 0s 4ms/step - loss: 0.4434 - accuracy: 0.8074 - val_loss: 0.4414 - val_accuracy: 0.8060\n",
            "Epoch 109/300\n",
            "20/20 [==============================] - 0s 4ms/step - loss: 0.4436 - accuracy: 0.8122 - val_loss: 0.4116 - val_accuracy: 0.8507\n",
            "Epoch 110/300\n",
            "20/20 [==============================] - 0s 3ms/step - loss: 0.4433 - accuracy: 0.7849 - val_loss: 0.4063 - val_accuracy: 0.8545\n",
            "Epoch 111/300\n",
            "20/20 [==============================] - 0s 4ms/step - loss: 0.4474 - accuracy: 0.8026 - val_loss: 0.4152 - val_accuracy: 0.8396\n",
            "Epoch 112/300\n",
            "20/20 [==============================] - 0s 3ms/step - loss: 0.4457 - accuracy: 0.8010 - val_loss: 0.4083 - val_accuracy: 0.8582\n",
            "Epoch 113/300\n",
            "20/20 [==============================] - 0s 4ms/step - loss: 0.4426 - accuracy: 0.7929 - val_loss: 0.4174 - val_accuracy: 0.8321\n",
            "Epoch 114/300\n",
            "20/20 [==============================] - 0s 3ms/step - loss: 0.4506 - accuracy: 0.8010 - val_loss: 0.4281 - val_accuracy: 0.8172\n",
            "Epoch 115/300\n",
            "20/20 [==============================] - 0s 4ms/step - loss: 0.4554 - accuracy: 0.8010 - val_loss: 0.4115 - val_accuracy: 0.8507\n",
            "Epoch 116/300\n",
            "20/20 [==============================] - 0s 4ms/step - loss: 0.4366 - accuracy: 0.8122 - val_loss: 0.4202 - val_accuracy: 0.8246\n",
            "Epoch 117/300\n",
            "20/20 [==============================] - 0s 4ms/step - loss: 0.4534 - accuracy: 0.7913 - val_loss: 0.4309 - val_accuracy: 0.8060\n",
            "Epoch 118/300\n",
            "20/20 [==============================] - 0s 4ms/step - loss: 0.4404 - accuracy: 0.8010 - val_loss: 0.4120 - val_accuracy: 0.8507\n",
            "Epoch 119/300\n",
            "20/20 [==============================] - 0s 3ms/step - loss: 0.4431 - accuracy: 0.7865 - val_loss: 0.4170 - val_accuracy: 0.8396\n",
            "Epoch 120/300\n",
            "20/20 [==============================] - 0s 4ms/step - loss: 0.4524 - accuracy: 0.7897 - val_loss: 0.4125 - val_accuracy: 0.8507\n",
            "Epoch 121/300\n",
            "20/20 [==============================] - 0s 4ms/step - loss: 0.4396 - accuracy: 0.7961 - val_loss: 0.4306 - val_accuracy: 0.8172\n",
            "Epoch 122/300\n",
            "20/20 [==============================] - 0s 4ms/step - loss: 0.4547 - accuracy: 0.8090 - val_loss: 0.4371 - val_accuracy: 0.8060\n",
            "Epoch 123/300\n",
            "20/20 [==============================] - 0s 4ms/step - loss: 0.4485 - accuracy: 0.8074 - val_loss: 0.4138 - val_accuracy: 0.8433\n",
            "Epoch 124/300\n",
            "20/20 [==============================] - 0s 3ms/step - loss: 0.4322 - accuracy: 0.7913 - val_loss: 0.4135 - val_accuracy: 0.8507\n",
            "Epoch 125/300\n",
            "20/20 [==============================] - 0s 4ms/step - loss: 0.4361 - accuracy: 0.7945 - val_loss: 0.4139 - val_accuracy: 0.8470\n",
            "Epoch 126/300\n",
            "20/20 [==============================] - 0s 4ms/step - loss: 0.4414 - accuracy: 0.7994 - val_loss: 0.4191 - val_accuracy: 0.8321\n",
            "Epoch 127/300\n",
            "20/20 [==============================] - 0s 4ms/step - loss: 0.4432 - accuracy: 0.7929 - val_loss: 0.4123 - val_accuracy: 0.8433\n",
            "Epoch 128/300\n",
            "20/20 [==============================] - 0s 3ms/step - loss: 0.4369 - accuracy: 0.8122 - val_loss: 0.4111 - val_accuracy: 0.8545\n",
            "Epoch 129/300\n",
            "20/20 [==============================] - 0s 3ms/step - loss: 0.4221 - accuracy: 0.8106 - val_loss: 0.4362 - val_accuracy: 0.8060\n",
            "Epoch 130/300\n",
            "20/20 [==============================] - 0s 4ms/step - loss: 0.4347 - accuracy: 0.8074 - val_loss: 0.4145 - val_accuracy: 0.8433\n",
            "Epoch 131/300\n",
            "20/20 [==============================] - 0s 3ms/step - loss: 0.4430 - accuracy: 0.8026 - val_loss: 0.4222 - val_accuracy: 0.8284\n",
            "Epoch 132/300\n",
            "20/20 [==============================] - 0s 3ms/step - loss: 0.4436 - accuracy: 0.8090 - val_loss: 0.4182 - val_accuracy: 0.8433\n",
            "Epoch 133/300\n",
            "20/20 [==============================] - 0s 3ms/step - loss: 0.4467 - accuracy: 0.7994 - val_loss: 0.4202 - val_accuracy: 0.8284\n",
            "Epoch 134/300\n",
            "20/20 [==============================] - 0s 3ms/step - loss: 0.4382 - accuracy: 0.8170 - val_loss: 0.4158 - val_accuracy: 0.8470\n",
            "Epoch 135/300\n",
            "20/20 [==============================] - 0s 4ms/step - loss: 0.4347 - accuracy: 0.8010 - val_loss: 0.4105 - val_accuracy: 0.8470\n",
            "Epoch 136/300\n",
            "20/20 [==============================] - 0s 4ms/step - loss: 0.4255 - accuracy: 0.8202 - val_loss: 0.4072 - val_accuracy: 0.8507\n",
            "Epoch 137/300\n",
            "20/20 [==============================] - 0s 4ms/step - loss: 0.4334 - accuracy: 0.8090 - val_loss: 0.4328 - val_accuracy: 0.8097\n",
            "Epoch 138/300\n",
            "20/20 [==============================] - 0s 4ms/step - loss: 0.4308 - accuracy: 0.7994 - val_loss: 0.4131 - val_accuracy: 0.8358\n",
            "Epoch 139/300\n",
            "20/20 [==============================] - 0s 3ms/step - loss: 0.4464 - accuracy: 0.8090 - val_loss: 0.4108 - val_accuracy: 0.8470\n",
            "Epoch 140/300\n",
            "20/20 [==============================] - 0s 4ms/step - loss: 0.4375 - accuracy: 0.7978 - val_loss: 0.4096 - val_accuracy: 0.8470\n",
            "Epoch 141/300\n",
            "20/20 [==============================] - 0s 3ms/step - loss: 0.4285 - accuracy: 0.8026 - val_loss: 0.4105 - val_accuracy: 0.8507\n",
            "Epoch 142/300\n",
            "20/20 [==============================] - 0s 3ms/step - loss: 0.4352 - accuracy: 0.8010 - val_loss: 0.4070 - val_accuracy: 0.8507\n",
            "Epoch 143/300\n",
            "20/20 [==============================] - 0s 3ms/step - loss: 0.4374 - accuracy: 0.8266 - val_loss: 0.4177 - val_accuracy: 0.8396\n",
            "Epoch 144/300\n",
            "20/20 [==============================] - 0s 4ms/step - loss: 0.4305 - accuracy: 0.7978 - val_loss: 0.4408 - val_accuracy: 0.8060\n",
            "Epoch 145/300\n",
            "20/20 [==============================] - 0s 4ms/step - loss: 0.4383 - accuracy: 0.8058 - val_loss: 0.4186 - val_accuracy: 0.8321\n",
            "Epoch 146/300\n",
            "20/20 [==============================] - 0s 4ms/step - loss: 0.4390 - accuracy: 0.8058 - val_loss: 0.4162 - val_accuracy: 0.8358\n",
            "Epoch 147/300\n",
            "20/20 [==============================] - 0s 4ms/step - loss: 0.4267 - accuracy: 0.8186 - val_loss: 0.4188 - val_accuracy: 0.8396\n",
            "Epoch 148/300\n",
            "20/20 [==============================] - 0s 4ms/step - loss: 0.4204 - accuracy: 0.8234 - val_loss: 0.4492 - val_accuracy: 0.8060\n",
            "Epoch 149/300\n",
            "20/20 [==============================] - 0s 4ms/step - loss: 0.4348 - accuracy: 0.8074 - val_loss: 0.4107 - val_accuracy: 0.8470\n",
            "Epoch 150/300\n",
            "20/20 [==============================] - 0s 4ms/step - loss: 0.4332 - accuracy: 0.8138 - val_loss: 0.4123 - val_accuracy: 0.8433\n",
            "Epoch 151/300\n",
            "20/20 [==============================] - 0s 3ms/step - loss: 0.4375 - accuracy: 0.8218 - val_loss: 0.4178 - val_accuracy: 0.8358\n",
            "Epoch 152/300\n",
            "20/20 [==============================] - 0s 4ms/step - loss: 0.4324 - accuracy: 0.8074 - val_loss: 0.4169 - val_accuracy: 0.8396\n",
            "Epoch 153/300\n",
            "20/20 [==============================] - 0s 4ms/step - loss: 0.4422 - accuracy: 0.8058 - val_loss: 0.4158 - val_accuracy: 0.8470\n",
            "Epoch 154/300\n",
            "20/20 [==============================] - 0s 4ms/step - loss: 0.4313 - accuracy: 0.8042 - val_loss: 0.4111 - val_accuracy: 0.8507\n",
            "Epoch 155/300\n",
            "20/20 [==============================] - 0s 3ms/step - loss: 0.4223 - accuracy: 0.8122 - val_loss: 0.4118 - val_accuracy: 0.8433\n",
            "Epoch 156/300\n",
            "20/20 [==============================] - 0s 4ms/step - loss: 0.4273 - accuracy: 0.8202 - val_loss: 0.4213 - val_accuracy: 0.8358\n",
            "Epoch 157/300\n",
            "20/20 [==============================] - 0s 4ms/step - loss: 0.4309 - accuracy: 0.8058 - val_loss: 0.4164 - val_accuracy: 0.8396\n",
            "Epoch 158/300\n",
            "20/20 [==============================] - 0s 3ms/step - loss: 0.4471 - accuracy: 0.8138 - val_loss: 0.4152 - val_accuracy: 0.8396\n",
            "Epoch 159/300\n",
            "20/20 [==============================] - 0s 4ms/step - loss: 0.4377 - accuracy: 0.8090 - val_loss: 0.4316 - val_accuracy: 0.8246\n",
            "Epoch 160/300\n",
            "20/20 [==============================] - 0s 3ms/step - loss: 0.4477 - accuracy: 0.7945 - val_loss: 0.4131 - val_accuracy: 0.8433\n",
            "Epoch 161/300\n",
            "20/20 [==============================] - 0s 4ms/step - loss: 0.4296 - accuracy: 0.8090 - val_loss: 0.4074 - val_accuracy: 0.8396\n",
            "Epoch 162/300\n",
            "20/20 [==============================] - 0s 5ms/step - loss: 0.4258 - accuracy: 0.8090 - val_loss: 0.4083 - val_accuracy: 0.8507\n",
            "Epoch 163/300\n",
            "20/20 [==============================] - 0s 4ms/step - loss: 0.4273 - accuracy: 0.8090 - val_loss: 0.4312 - val_accuracy: 0.8358\n",
            "Epoch 164/300\n",
            "20/20 [==============================] - 0s 4ms/step - loss: 0.4366 - accuracy: 0.8154 - val_loss: 0.4211 - val_accuracy: 0.8396\n",
            "Epoch 165/300\n",
            "20/20 [==============================] - 0s 4ms/step - loss: 0.4321 - accuracy: 0.8122 - val_loss: 0.4252 - val_accuracy: 0.8321\n",
            "Epoch 166/300\n",
            "20/20 [==============================] - 0s 5ms/step - loss: 0.4365 - accuracy: 0.8138 - val_loss: 0.4127 - val_accuracy: 0.8470\n",
            "Epoch 167/300\n",
            "20/20 [==============================] - 0s 4ms/step - loss: 0.4266 - accuracy: 0.8250 - val_loss: 0.4143 - val_accuracy: 0.8396\n",
            "Epoch 168/300\n",
            "20/20 [==============================] - 0s 4ms/step - loss: 0.4488 - accuracy: 0.8026 - val_loss: 0.4192 - val_accuracy: 0.8358\n",
            "Epoch 169/300\n",
            "20/20 [==============================] - 0s 4ms/step - loss: 0.4343 - accuracy: 0.8218 - val_loss: 0.4243 - val_accuracy: 0.8284\n",
            "Epoch 170/300\n",
            "20/20 [==============================] - 0s 3ms/step - loss: 0.4143 - accuracy: 0.8138 - val_loss: 0.4100 - val_accuracy: 0.8470\n",
            "Epoch 171/300\n",
            "20/20 [==============================] - 0s 4ms/step - loss: 0.4257 - accuracy: 0.8154 - val_loss: 0.4075 - val_accuracy: 0.8507\n",
            "Epoch 172/300\n",
            "20/20 [==============================] - 0s 3ms/step - loss: 0.4263 - accuracy: 0.8138 - val_loss: 0.4082 - val_accuracy: 0.8545\n",
            "Epoch 173/300\n",
            "20/20 [==============================] - 0s 4ms/step - loss: 0.4333 - accuracy: 0.8250 - val_loss: 0.4080 - val_accuracy: 0.8470\n",
            "Epoch 174/300\n",
            "20/20 [==============================] - 0s 4ms/step - loss: 0.4194 - accuracy: 0.8218 - val_loss: 0.4123 - val_accuracy: 0.8396\n",
            "Epoch 175/300\n",
            "20/20 [==============================] - 0s 4ms/step - loss: 0.4422 - accuracy: 0.8074 - val_loss: 0.4135 - val_accuracy: 0.8433\n",
            "Epoch 176/300\n",
            "20/20 [==============================] - 0s 3ms/step - loss: 0.4268 - accuracy: 0.8090 - val_loss: 0.4084 - val_accuracy: 0.8433\n",
            "Epoch 177/300\n",
            "20/20 [==============================] - 0s 4ms/step - loss: 0.4298 - accuracy: 0.8186 - val_loss: 0.4198 - val_accuracy: 0.8433\n",
            "Epoch 178/300\n",
            "20/20 [==============================] - 0s 4ms/step - loss: 0.4360 - accuracy: 0.8010 - val_loss: 0.4312 - val_accuracy: 0.8284\n",
            "Epoch 179/300\n",
            "20/20 [==============================] - 0s 4ms/step - loss: 0.4363 - accuracy: 0.8074 - val_loss: 0.4167 - val_accuracy: 0.8433\n",
            "Epoch 180/300\n",
            "20/20 [==============================] - 0s 3ms/step - loss: 0.4197 - accuracy: 0.8186 - val_loss: 0.4120 - val_accuracy: 0.8507\n",
            "Epoch 181/300\n",
            "20/20 [==============================] - 0s 3ms/step - loss: 0.4214 - accuracy: 0.8202 - val_loss: 0.4301 - val_accuracy: 0.8284\n",
            "Epoch 182/300\n",
            "20/20 [==============================] - 0s 4ms/step - loss: 0.4288 - accuracy: 0.8010 - val_loss: 0.4171 - val_accuracy: 0.8396\n",
            "Epoch 183/300\n",
            "20/20 [==============================] - 0s 3ms/step - loss: 0.4363 - accuracy: 0.8234 - val_loss: 0.4142 - val_accuracy: 0.8396\n",
            "Epoch 184/300\n",
            "20/20 [==============================] - 0s 4ms/step - loss: 0.4240 - accuracy: 0.8202 - val_loss: 0.4186 - val_accuracy: 0.8433\n",
            "Epoch 185/300\n",
            "20/20 [==============================] - 0s 3ms/step - loss: 0.4216 - accuracy: 0.8058 - val_loss: 0.4170 - val_accuracy: 0.8321\n",
            "Epoch 186/300\n",
            "20/20 [==============================] - 0s 4ms/step - loss: 0.4305 - accuracy: 0.8186 - val_loss: 0.4146 - val_accuracy: 0.8433\n",
            "Epoch 187/300\n",
            "20/20 [==============================] - 0s 4ms/step - loss: 0.4237 - accuracy: 0.8202 - val_loss: 0.4079 - val_accuracy: 0.8545\n",
            "Epoch 188/300\n",
            "20/20 [==============================] - 0s 4ms/step - loss: 0.4229 - accuracy: 0.8299 - val_loss: 0.4086 - val_accuracy: 0.8433\n",
            "Epoch 189/300\n",
            "20/20 [==============================] - 0s 4ms/step - loss: 0.4204 - accuracy: 0.8186 - val_loss: 0.4233 - val_accuracy: 0.8396\n",
            "Epoch 190/300\n",
            "20/20 [==============================] - 0s 4ms/step - loss: 0.4259 - accuracy: 0.8154 - val_loss: 0.4113 - val_accuracy: 0.8358\n",
            "Epoch 191/300\n",
            "20/20 [==============================] - 0s 4ms/step - loss: 0.4258 - accuracy: 0.8347 - val_loss: 0.4274 - val_accuracy: 0.8284\n",
            "Epoch 192/300\n",
            "20/20 [==============================] - 0s 3ms/step - loss: 0.4130 - accuracy: 0.8299 - val_loss: 0.4111 - val_accuracy: 0.8433\n",
            "Epoch 193/300\n",
            "20/20 [==============================] - 0s 3ms/step - loss: 0.4202 - accuracy: 0.8234 - val_loss: 0.4155 - val_accuracy: 0.8396\n",
            "Epoch 194/300\n",
            "20/20 [==============================] - 0s 3ms/step - loss: 0.4215 - accuracy: 0.8138 - val_loss: 0.4116 - val_accuracy: 0.8433\n",
            "Epoch 195/300\n",
            "20/20 [==============================] - 0s 4ms/step - loss: 0.4174 - accuracy: 0.8250 - val_loss: 0.4317 - val_accuracy: 0.8284\n",
            "Epoch 196/300\n",
            "20/20 [==============================] - 0s 3ms/step - loss: 0.4202 - accuracy: 0.8266 - val_loss: 0.4153 - val_accuracy: 0.8396\n",
            "Epoch 197/300\n",
            "20/20 [==============================] - 0s 4ms/step - loss: 0.4201 - accuracy: 0.8186 - val_loss: 0.4122 - val_accuracy: 0.8433\n",
            "Epoch 198/300\n",
            "20/20 [==============================] - 0s 4ms/step - loss: 0.4241 - accuracy: 0.8283 - val_loss: 0.4392 - val_accuracy: 0.8246\n",
            "Epoch 199/300\n",
            "20/20 [==============================] - 0s 4ms/step - loss: 0.4316 - accuracy: 0.8186 - val_loss: 0.4180 - val_accuracy: 0.8358\n",
            "Epoch 200/300\n",
            "20/20 [==============================] - 0s 3ms/step - loss: 0.4173 - accuracy: 0.8154 - val_loss: 0.4130 - val_accuracy: 0.8470\n",
            "Epoch 201/300\n",
            "20/20 [==============================] - 0s 4ms/step - loss: 0.4201 - accuracy: 0.8202 - val_loss: 0.4239 - val_accuracy: 0.8284\n",
            "Epoch 202/300\n",
            "20/20 [==============================] - 0s 4ms/step - loss: 0.4308 - accuracy: 0.8186 - val_loss: 0.4281 - val_accuracy: 0.8321\n",
            "Epoch 203/300\n",
            "20/20 [==============================] - 0s 4ms/step - loss: 0.4316 - accuracy: 0.8218 - val_loss: 0.4086 - val_accuracy: 0.8470\n",
            "Epoch 204/300\n",
            "20/20 [==============================] - 0s 4ms/step - loss: 0.4183 - accuracy: 0.8186 - val_loss: 0.4170 - val_accuracy: 0.8321\n",
            "Epoch 205/300\n",
            "20/20 [==============================] - 0s 4ms/step - loss: 0.4242 - accuracy: 0.8363 - val_loss: 0.4183 - val_accuracy: 0.8358\n",
            "Epoch 206/300\n",
            "20/20 [==============================] - 0s 3ms/step - loss: 0.4265 - accuracy: 0.8250 - val_loss: 0.4246 - val_accuracy: 0.8284\n",
            "Epoch 207/300\n",
            "20/20 [==============================] - 0s 4ms/step - loss: 0.4202 - accuracy: 0.8138 - val_loss: 0.4117 - val_accuracy: 0.8396\n",
            "Epoch 208/300\n",
            "20/20 [==============================] - 0s 3ms/step - loss: 0.4207 - accuracy: 0.8234 - val_loss: 0.4152 - val_accuracy: 0.8358\n",
            "Epoch 209/300\n",
            "20/20 [==============================] - 0s 3ms/step - loss: 0.4180 - accuracy: 0.8283 - val_loss: 0.4112 - val_accuracy: 0.8321\n",
            "Epoch 210/300\n",
            "20/20 [==============================] - 0s 4ms/step - loss: 0.4179 - accuracy: 0.8379 - val_loss: 0.4310 - val_accuracy: 0.8321\n",
            "Epoch 211/300\n",
            "20/20 [==============================] - 0s 4ms/step - loss: 0.4270 - accuracy: 0.8218 - val_loss: 0.4259 - val_accuracy: 0.8284\n",
            "Epoch 212/300\n",
            "20/20 [==============================] - 0s 4ms/step - loss: 0.4028 - accuracy: 0.8315 - val_loss: 0.4538 - val_accuracy: 0.8172\n",
            "Epoch 213/300\n",
            "20/20 [==============================] - 0s 4ms/step - loss: 0.4295 - accuracy: 0.8202 - val_loss: 0.4257 - val_accuracy: 0.8470\n",
            "Epoch 214/300\n",
            "20/20 [==============================] - 0s 4ms/step - loss: 0.4236 - accuracy: 0.8154 - val_loss: 0.4117 - val_accuracy: 0.8321\n",
            "Epoch 215/300\n",
            "20/20 [==============================] - 0s 4ms/step - loss: 0.4302 - accuracy: 0.8106 - val_loss: 0.4234 - val_accuracy: 0.8321\n",
            "Epoch 216/300\n",
            "20/20 [==============================] - 0s 4ms/step - loss: 0.4269 - accuracy: 0.8218 - val_loss: 0.4285 - val_accuracy: 0.8321\n",
            "Epoch 217/300\n",
            "20/20 [==============================] - 0s 3ms/step - loss: 0.4190 - accuracy: 0.8202 - val_loss: 0.4184 - val_accuracy: 0.8396\n",
            "Epoch 218/300\n",
            "20/20 [==============================] - 0s 4ms/step - loss: 0.4124 - accuracy: 0.8218 - val_loss: 0.4257 - val_accuracy: 0.8284\n",
            "Epoch 219/300\n",
            "20/20 [==============================] - 0s 3ms/step - loss: 0.4036 - accuracy: 0.8363 - val_loss: 0.4280 - val_accuracy: 0.8246\n",
            "Epoch 220/300\n",
            "20/20 [==============================] - 0s 4ms/step - loss: 0.4275 - accuracy: 0.8395 - val_loss: 0.4206 - val_accuracy: 0.8358\n",
            "Epoch 221/300\n",
            "20/20 [==============================] - 0s 3ms/step - loss: 0.4098 - accuracy: 0.8202 - val_loss: 0.4158 - val_accuracy: 0.8284\n",
            "Epoch 222/300\n",
            "20/20 [==============================] - 0s 4ms/step - loss: 0.4108 - accuracy: 0.8283 - val_loss: 0.4103 - val_accuracy: 0.8321\n",
            "Epoch 223/300\n",
            "20/20 [==============================] - 0s 4ms/step - loss: 0.4111 - accuracy: 0.8170 - val_loss: 0.4114 - val_accuracy: 0.8358\n",
            "Epoch 224/300\n",
            "20/20 [==============================] - 0s 4ms/step - loss: 0.4170 - accuracy: 0.8347 - val_loss: 0.4082 - val_accuracy: 0.8396\n",
            "Epoch 225/300\n",
            "20/20 [==============================] - 0s 3ms/step - loss: 0.4219 - accuracy: 0.8250 - val_loss: 0.4239 - val_accuracy: 0.8284\n",
            "Epoch 226/300\n",
            "20/20 [==============================] - 0s 3ms/step - loss: 0.4248 - accuracy: 0.8202 - val_loss: 0.4209 - val_accuracy: 0.8396\n",
            "Epoch 227/300\n",
            "20/20 [==============================] - 0s 4ms/step - loss: 0.4206 - accuracy: 0.8234 - val_loss: 0.4160 - val_accuracy: 0.8396\n",
            "Epoch 228/300\n",
            "20/20 [==============================] - 0s 4ms/step - loss: 0.4197 - accuracy: 0.8218 - val_loss: 0.4085 - val_accuracy: 0.8358\n",
            "Epoch 229/300\n",
            "20/20 [==============================] - 0s 3ms/step - loss: 0.4089 - accuracy: 0.8283 - val_loss: 0.4256 - val_accuracy: 0.8284\n",
            "Epoch 230/300\n",
            "20/20 [==============================] - 0s 3ms/step - loss: 0.4101 - accuracy: 0.8234 - val_loss: 0.4110 - val_accuracy: 0.8284\n",
            "Epoch 231/300\n",
            "20/20 [==============================] - 0s 4ms/step - loss: 0.4107 - accuracy: 0.8250 - val_loss: 0.4100 - val_accuracy: 0.8321\n",
            "Epoch 232/300\n",
            "20/20 [==============================] - 0s 3ms/step - loss: 0.3972 - accuracy: 0.8315 - val_loss: 0.4307 - val_accuracy: 0.8246\n",
            "Epoch 233/300\n",
            "20/20 [==============================] - 0s 3ms/step - loss: 0.4143 - accuracy: 0.8379 - val_loss: 0.4120 - val_accuracy: 0.8396\n",
            "Epoch 234/300\n",
            "20/20 [==============================] - 0s 4ms/step - loss: 0.4024 - accuracy: 0.8299 - val_loss: 0.4317 - val_accuracy: 0.8321\n",
            "Epoch 235/300\n",
            "20/20 [==============================] - 0s 4ms/step - loss: 0.4144 - accuracy: 0.8266 - val_loss: 0.4231 - val_accuracy: 0.8433\n",
            "Epoch 236/300\n",
            "20/20 [==============================] - 0s 4ms/step - loss: 0.4195 - accuracy: 0.8154 - val_loss: 0.4191 - val_accuracy: 0.8433\n",
            "Epoch 237/300\n",
            "20/20 [==============================] - 0s 4ms/step - loss: 0.4146 - accuracy: 0.8266 - val_loss: 0.4282 - val_accuracy: 0.8284\n",
            "Epoch 238/300\n",
            "20/20 [==============================] - 0s 4ms/step - loss: 0.4176 - accuracy: 0.8250 - val_loss: 0.4151 - val_accuracy: 0.8396\n",
            "Epoch 239/300\n",
            "20/20 [==============================] - 0s 4ms/step - loss: 0.4137 - accuracy: 0.8154 - val_loss: 0.4273 - val_accuracy: 0.8358\n",
            "Epoch 240/300\n",
            "20/20 [==============================] - 0s 4ms/step - loss: 0.4260 - accuracy: 0.8347 - val_loss: 0.4403 - val_accuracy: 0.8284\n",
            "Epoch 241/300\n",
            "20/20 [==============================] - 0s 4ms/step - loss: 0.4168 - accuracy: 0.8266 - val_loss: 0.4213 - val_accuracy: 0.8433\n",
            "Epoch 242/300\n",
            "20/20 [==============================] - 0s 4ms/step - loss: 0.4188 - accuracy: 0.8250 - val_loss: 0.4481 - val_accuracy: 0.8396\n",
            "Epoch 243/300\n",
            "20/20 [==============================] - 0s 3ms/step - loss: 0.4136 - accuracy: 0.8218 - val_loss: 0.4164 - val_accuracy: 0.8396\n",
            "Epoch 244/300\n",
            "20/20 [==============================] - 0s 4ms/step - loss: 0.4082 - accuracy: 0.8299 - val_loss: 0.4134 - val_accuracy: 0.8358\n",
            "Epoch 245/300\n",
            "20/20 [==============================] - 0s 4ms/step - loss: 0.4163 - accuracy: 0.8170 - val_loss: 0.4209 - val_accuracy: 0.8433\n",
            "Epoch 246/300\n",
            "20/20 [==============================] - 0s 3ms/step - loss: 0.4100 - accuracy: 0.8379 - val_loss: 0.4460 - val_accuracy: 0.8321\n",
            "Epoch 247/300\n",
            "20/20 [==============================] - 0s 5ms/step - loss: 0.4218 - accuracy: 0.8186 - val_loss: 0.4321 - val_accuracy: 0.8284\n",
            "Epoch 248/300\n",
            "20/20 [==============================] - 0s 4ms/step - loss: 0.4149 - accuracy: 0.8283 - val_loss: 0.4399 - val_accuracy: 0.8321\n",
            "Epoch 249/300\n",
            "20/20 [==============================] - 0s 4ms/step - loss: 0.4141 - accuracy: 0.8266 - val_loss: 0.4426 - val_accuracy: 0.8246\n",
            "Epoch 250/300\n",
            "20/20 [==============================] - 0s 4ms/step - loss: 0.4048 - accuracy: 0.8266 - val_loss: 0.4134 - val_accuracy: 0.8396\n",
            "Epoch 251/300\n",
            "20/20 [==============================] - 0s 3ms/step - loss: 0.4164 - accuracy: 0.8266 - val_loss: 0.4311 - val_accuracy: 0.8396\n",
            "Epoch 252/300\n",
            "20/20 [==============================] - 0s 4ms/step - loss: 0.4175 - accuracy: 0.8315 - val_loss: 0.4131 - val_accuracy: 0.8396\n",
            "Epoch 253/300\n",
            "20/20 [==============================] - 0s 3ms/step - loss: 0.4022 - accuracy: 0.8331 - val_loss: 0.4172 - val_accuracy: 0.8284\n",
            "Epoch 254/300\n",
            "20/20 [==============================] - 0s 4ms/step - loss: 0.4008 - accuracy: 0.8266 - val_loss: 0.4187 - val_accuracy: 0.8396\n",
            "Epoch 255/300\n",
            "20/20 [==============================] - 0s 4ms/step - loss: 0.4100 - accuracy: 0.8250 - val_loss: 0.4267 - val_accuracy: 0.8358\n",
            "Epoch 256/300\n",
            "20/20 [==============================] - 0s 4ms/step - loss: 0.4066 - accuracy: 0.8218 - val_loss: 0.4161 - val_accuracy: 0.8358\n",
            "Epoch 257/300\n",
            "20/20 [==============================] - 0s 3ms/step - loss: 0.4045 - accuracy: 0.8411 - val_loss: 0.4144 - val_accuracy: 0.8358\n",
            "Epoch 258/300\n",
            "20/20 [==============================] - 0s 4ms/step - loss: 0.4103 - accuracy: 0.8315 - val_loss: 0.4144 - val_accuracy: 0.8358\n",
            "Epoch 259/300\n",
            "20/20 [==============================] - 0s 5ms/step - loss: 0.4011 - accuracy: 0.8315 - val_loss: 0.4194 - val_accuracy: 0.8358\n",
            "Epoch 260/300\n",
            "20/20 [==============================] - 0s 4ms/step - loss: 0.4200 - accuracy: 0.8138 - val_loss: 0.4158 - val_accuracy: 0.8396\n",
            "Epoch 261/300\n",
            "20/20 [==============================] - 0s 3ms/step - loss: 0.4165 - accuracy: 0.8331 - val_loss: 0.4163 - val_accuracy: 0.8396\n",
            "Epoch 262/300\n",
            "20/20 [==============================] - 0s 3ms/step - loss: 0.4227 - accuracy: 0.8234 - val_loss: 0.4171 - val_accuracy: 0.8396\n",
            "Epoch 263/300\n",
            "20/20 [==============================] - 0s 4ms/step - loss: 0.4091 - accuracy: 0.8299 - val_loss: 0.4149 - val_accuracy: 0.8396\n",
            "Epoch 264/300\n",
            "20/20 [==============================] - 0s 4ms/step - loss: 0.4154 - accuracy: 0.8074 - val_loss: 0.4255 - val_accuracy: 0.8358\n",
            "Epoch 265/300\n",
            "20/20 [==============================] - 0s 4ms/step - loss: 0.3960 - accuracy: 0.8395 - val_loss: 0.4404 - val_accuracy: 0.8358\n",
            "Epoch 266/300\n",
            "20/20 [==============================] - 0s 4ms/step - loss: 0.4004 - accuracy: 0.8363 - val_loss: 0.4116 - val_accuracy: 0.8396\n",
            "Epoch 267/300\n",
            "20/20 [==============================] - 0s 4ms/step - loss: 0.4040 - accuracy: 0.8218 - val_loss: 0.4269 - val_accuracy: 0.8396\n",
            "Epoch 268/300\n",
            "20/20 [==============================] - 0s 4ms/step - loss: 0.4014 - accuracy: 0.8347 - val_loss: 0.4360 - val_accuracy: 0.8209\n",
            "Epoch 269/300\n",
            "20/20 [==============================] - 0s 4ms/step - loss: 0.3994 - accuracy: 0.8347 - val_loss: 0.4124 - val_accuracy: 0.8358\n",
            "Epoch 270/300\n",
            "20/20 [==============================] - 0s 4ms/step - loss: 0.4154 - accuracy: 0.8347 - val_loss: 0.4201 - val_accuracy: 0.8358\n",
            "Epoch 271/300\n",
            "20/20 [==============================] - 0s 4ms/step - loss: 0.3959 - accuracy: 0.8299 - val_loss: 0.4314 - val_accuracy: 0.8284\n",
            "Epoch 272/300\n",
            "20/20 [==============================] - 0s 4ms/step - loss: 0.3975 - accuracy: 0.8395 - val_loss: 0.4158 - val_accuracy: 0.8321\n",
            "Epoch 273/300\n",
            "20/20 [==============================] - 0s 4ms/step - loss: 0.4083 - accuracy: 0.8299 - val_loss: 0.4330 - val_accuracy: 0.8246\n",
            "Epoch 274/300\n",
            "20/20 [==============================] - 0s 4ms/step - loss: 0.4049 - accuracy: 0.8491 - val_loss: 0.4265 - val_accuracy: 0.8321\n",
            "Epoch 275/300\n",
            "20/20 [==============================] - 0s 4ms/step - loss: 0.4136 - accuracy: 0.8186 - val_loss: 0.4184 - val_accuracy: 0.8321\n",
            "Epoch 276/300\n",
            "20/20 [==============================] - 0s 4ms/step - loss: 0.3993 - accuracy: 0.8283 - val_loss: 0.4257 - val_accuracy: 0.8321\n",
            "Epoch 277/300\n",
            "20/20 [==============================] - 0s 4ms/step - loss: 0.4028 - accuracy: 0.8315 - val_loss: 0.4173 - val_accuracy: 0.8396\n",
            "Epoch 278/300\n",
            "20/20 [==============================] - 0s 4ms/step - loss: 0.4057 - accuracy: 0.8427 - val_loss: 0.4358 - val_accuracy: 0.8284\n",
            "Epoch 279/300\n",
            "20/20 [==============================] - 0s 4ms/step - loss: 0.3965 - accuracy: 0.8315 - val_loss: 0.4206 - val_accuracy: 0.8358\n",
            "Epoch 280/300\n",
            "20/20 [==============================] - 0s 3ms/step - loss: 0.4046 - accuracy: 0.8299 - val_loss: 0.4241 - val_accuracy: 0.8433\n",
            "Epoch 281/300\n",
            "20/20 [==============================] - 0s 4ms/step - loss: 0.3974 - accuracy: 0.8347 - val_loss: 0.4176 - val_accuracy: 0.8433\n",
            "Epoch 282/300\n",
            "20/20 [==============================] - 0s 4ms/step - loss: 0.4083 - accuracy: 0.8283 - val_loss: 0.4496 - val_accuracy: 0.8396\n",
            "Epoch 283/300\n",
            "20/20 [==============================] - 0s 5ms/step - loss: 0.4089 - accuracy: 0.8331 - val_loss: 0.4216 - val_accuracy: 0.8358\n",
            "Epoch 284/300\n",
            "20/20 [==============================] - 0s 4ms/step - loss: 0.3900 - accuracy: 0.8363 - val_loss: 0.4192 - val_accuracy: 0.8396\n",
            "Epoch 285/300\n",
            "20/20 [==============================] - 0s 4ms/step - loss: 0.4052 - accuracy: 0.8299 - val_loss: 0.4128 - val_accuracy: 0.8433\n",
            "Epoch 286/300\n",
            "20/20 [==============================] - 0s 4ms/step - loss: 0.3955 - accuracy: 0.8411 - val_loss: 0.4415 - val_accuracy: 0.8209\n",
            "Epoch 287/300\n",
            "20/20 [==============================] - 0s 4ms/step - loss: 0.4151 - accuracy: 0.8234 - val_loss: 0.4234 - val_accuracy: 0.8358\n",
            "Epoch 288/300\n",
            "20/20 [==============================] - 0s 4ms/step - loss: 0.3967 - accuracy: 0.8218 - val_loss: 0.4302 - val_accuracy: 0.8321\n",
            "Epoch 289/300\n",
            "20/20 [==============================] - 0s 4ms/step - loss: 0.4013 - accuracy: 0.8379 - val_loss: 0.4313 - val_accuracy: 0.8358\n",
            "Epoch 290/300\n",
            "20/20 [==============================] - 0s 3ms/step - loss: 0.4106 - accuracy: 0.8315 - val_loss: 0.4173 - val_accuracy: 0.8396\n",
            "Epoch 291/300\n",
            "20/20 [==============================] - 0s 4ms/step - loss: 0.3864 - accuracy: 0.8427 - val_loss: 0.4215 - val_accuracy: 0.8358\n",
            "Epoch 292/300\n",
            "20/20 [==============================] - 0s 5ms/step - loss: 0.3933 - accuracy: 0.8427 - val_loss: 0.4163 - val_accuracy: 0.8321\n",
            "Epoch 293/300\n",
            "20/20 [==============================] - 0s 4ms/step - loss: 0.4060 - accuracy: 0.8266 - val_loss: 0.4140 - val_accuracy: 0.8321\n",
            "Epoch 294/300\n",
            "20/20 [==============================] - 0s 4ms/step - loss: 0.4057 - accuracy: 0.8186 - val_loss: 0.4282 - val_accuracy: 0.8284\n",
            "Epoch 295/300\n",
            "20/20 [==============================] - 0s 4ms/step - loss: 0.4015 - accuracy: 0.8315 - val_loss: 0.4276 - val_accuracy: 0.8284\n",
            "Epoch 296/300\n",
            "20/20 [==============================] - 0s 4ms/step - loss: 0.4068 - accuracy: 0.8363 - val_loss: 0.4330 - val_accuracy: 0.8209\n",
            "Epoch 297/300\n",
            "20/20 [==============================] - 0s 4ms/step - loss: 0.4054 - accuracy: 0.8315 - val_loss: 0.4523 - val_accuracy: 0.8358\n",
            "Epoch 298/300\n",
            "20/20 [==============================] - 0s 3ms/step - loss: 0.3969 - accuracy: 0.8363 - val_loss: 0.4121 - val_accuracy: 0.8470\n",
            "Epoch 299/300\n",
            "20/20 [==============================] - 0s 4ms/step - loss: 0.3988 - accuracy: 0.8218 - val_loss: 0.4253 - val_accuracy: 0.8358\n",
            "Epoch 300/300\n",
            "20/20 [==============================] - 0s 4ms/step - loss: 0.3990 - accuracy: 0.8363 - val_loss: 0.4223 - val_accuracy: 0.8321\n"
          ]
        }
      ]
    },
    {
      "cell_type": "code",
      "source": [
        "import matplotlib.pyplot as plt"
      ],
      "metadata": {
        "id": "HM0TQnzuT94E"
      },
      "execution_count": 127,
      "outputs": []
    },
    {
      "cell_type": "code",
      "source": [
        "chart_epochs = range(1, len(run_history.history['accuracy']) + 1)\n",
        "\n",
        "plt.plot(chart_epochs, run_history.history['accuracy'], label=\"Training Accuracy\")\n",
        "plt.plot(chart_epochs, run_history.history['val_accuracy'], label=\"Validation Accuracy\")\n",
        "plt.legend()\n",
        "\n",
        "plt.figure()\n",
        "plt.plot(chart_epochs, run_history.history['loss'], label=\"Training Loss\")\n",
        "plt.plot(chart_epochs, run_history.history['val_loss'], label=\"Validation Loss\")\n",
        "plt.legend()\n",
        "\n",
        "plt.show()"
      ],
      "metadata": {
        "colab": {
          "base_uri": "https://localhost:8080/",
          "height": 533
        },
        "id": "O8aAtuEgUBZR",
        "outputId": "da2f4884-3d14-4e80-a469-47598da0b2a1"
      },
      "execution_count": 150,
      "outputs": [
        {
          "output_type": "display_data",
          "data": {
            "text/plain": [
              "<Figure size 432x288 with 1 Axes>"
            ],
            "image/png": "[encoded data removed]"
          },
          "metadata": {
            "needs_background": "light"
          }
        },
        {
          "output_type": "display_data",
          "data": {
            "text/plain": [
              "<Figure size 432x288 with 1 Axes>"
            ],
            "image/png": "[encoded data removed]"
          },
          "metadata": {
            "needs_background": "light"
          }
        }
      ]
    },
    {
      "cell_type": "code",
      "source": [
        "test_df = pd.read_csv(\"test.csv\")"
      ],
      "metadata": {
        "id": "9GlYh3NInpIj"
      },
      "execution_count": 99,
      "outputs": []
    },
    {
      "cell_type": "code",
      "source": [
        "test_df.info()"
      ],
      "metadata": {
        "id": "PrXjNd0in1qt",
        "outputId": "9f5f4d03-fa95-49ed-80f3-ad11c6276328",
        "colab": {
          "base_uri": "https://localhost:8080/"
        }
      },
      "execution_count": 100,
      "outputs": [
        {
          "output_type": "stream",
          "name": "stdout",
          "text": [
            "<class 'pandas.core.frame.DataFrame'>\n",
            "RangeIndex: 418 entries, 0 to 417\n",
            "Data columns (total 11 columns):\n",
            " #   Column       Non-Null Count  Dtype  \n",
            "---  ------       --------------  -----  \n",
            " 0   PassengerId  418 non-null    int64  \n",
            " 1   Pclass       418 non-null    int64  \n",
            " 2   Name         418 non-null    object \n",
            " 3   Sex          418 non-null    object \n",
            " 4   Age          332 non-null    float64\n",
            " 5   SibSp        418 non-null    int64  \n",
            " 6   Parch        418 non-null    int64  \n",
            " 7   Ticket       418 non-null    object \n",
            " 8   Fare         417 non-null    float64\n",
            " 9   Cabin        91 non-null     object \n",
            " 10  Embarked     418 non-null    object \n",
            "dtypes: float64(2), int64(4), object(5)\n",
            "memory usage: 36.0+ KB\n"
          ]
        }
      ]
    },
    {
      "cell_type": "code",
      "source": [
        "#test_df[\"Age\"] = test_df[\"Age\"].fillna(mean_age)\n",
        "test_df[\"Age\"] = test_df[\"Age\"].fillna(0)"
      ],
      "metadata": {
        "id": "hipCZi15n3dI"
      },
      "execution_count": 101,
      "outputs": []
    },
    {
      "cell_type": "code",
      "source": [
        "#test_df[\"Fare\"] = test_df[\"Fare\"].fillna(round(df_data[\"Fare\"].mean(), 2))\n",
        "test_df[\"Fare\"] = test_df[\"Fare\"].fillna(0)\n"
      ],
      "metadata": {
        "id": "Aczgyl7UqISh"
      },
      "execution_count": 102,
      "outputs": []
    },
    {
      "cell_type": "code",
      "source": [
        "test_df.info()"
      ],
      "metadata": {
        "id": "em-PnZbYpl4I",
        "outputId": "92ad66b2-e3c1-4b3c-dfdc-2cec93a547b3",
        "colab": {
          "base_uri": "https://localhost:8080/"
        }
      },
      "execution_count": 103,
      "outputs": [
        {
          "output_type": "stream",
          "name": "stdout",
          "text": [
            "<class 'pandas.core.frame.DataFrame'>\n",
            "RangeIndex: 418 entries, 0 to 417\n",
            "Data columns (total 11 columns):\n",
            " #   Column       Non-Null Count  Dtype  \n",
            "---  ------       --------------  -----  \n",
            " 0   PassengerId  418 non-null    int64  \n",
            " 1   Pclass       418 non-null    int64  \n",
            " 2   Name         418 non-null    object \n",
            " 3   Sex          418 non-null    object \n",
            " 4   Age          418 non-null    float64\n",
            " 5   SibSp        418 non-null    int64  \n",
            " 6   Parch        418 non-null    int64  \n",
            " 7   Ticket       418 non-null    object \n",
            " 8   Fare         418 non-null    float64\n",
            " 9   Cabin        91 non-null     object \n",
            " 10  Embarked     418 non-null    object \n",
            "dtypes: float64(2), int64(4), object(5)\n",
            "memory usage: 36.0+ KB\n"
          ]
        }
      ]
    },
    {
      "cell_type": "code",
      "source": [
        "test_df = test_df.replace(encoding_ref)"
      ],
      "metadata": {
        "id": "7ojaesC4-Hj0"
      },
      "execution_count": 104,
      "outputs": []
    },
    {
      "cell_type": "code",
      "source": [
        "test_df[\"Age\"] = test_df[\"Age\"]/test_df[\"Age\"].mean()"
      ],
      "metadata": {
        "id": "Bc6CGPPi5TUr"
      },
      "execution_count": 106,
      "outputs": []
    },
    {
      "cell_type": "code",
      "source": [
        "test_df[\"Fare\"] = test_df[\"Age\"]/test_df[\"Fare\"].mean()"
      ],
      "metadata": {
        "id": "ciW2xePv5bdA"
      },
      "execution_count": 107,
      "outputs": []
    },
    {
      "cell_type": "code",
      "source": [
        "test_df.head()"
      ],
      "metadata": {
        "id": "y9tHD_7Y-faS",
        "outputId": "128ca3aa-a18f-4df6-b2a7-c147fcf07d9e",
        "colab": {
          "base_uri": "https://localhost:8080/",
          "height": 221
        }
      },
      "execution_count": 108,
      "outputs": [
        {
          "output_type": "execute_result",
          "data": {
            "text/plain": [
              "   PassengerId  Pclass                                          Name  Sex  \\\n",
              "0          892       3                              Kelly, Mr. James    0   \n",
              "1          893       3              Wilkes, Mrs. James (Ellen Needs)    1   \n",
              "2          894       2                     Myles, Mr. Thomas Francis    0   \n",
              "3          895       3                              Wirz, Mr. Albert    0   \n",
              "4          896       3  Hirvonen, Mrs. Alexander (Helga E Lindqvist)    1   \n",
              "\n",
              "        Age  SibSp  Parch   Ticket      Fare Cabin Embarked  \n",
              "0  1.434854      0      0   330911  0.040371   NaN        Q  \n",
              "1  1.954729      1      0   363272  0.054998   NaN        S  \n",
              "2  2.578578      0      0   240276  0.072550   NaN        Q  \n",
              "3  1.122929      0      0   315154  0.031594   NaN        S  \n",
              "4  0.914979      1      1  3101298  0.025744   NaN        S  "
            ],
            "text/html": [
              "\n",
              "  <div id=\"df-32208021-f783-41eb-b8e4-1efdc4ba735e\">\n",
              "    <div class=\"colab-df-container\">\n",
              "      <div>\n",
              "<style scoped>\n",
              "    .dataframe tbody tr th:only-of-type {\n",
              "        vertical-align: middle;\n",
              "    }\n",
              "\n",
              "    .dataframe tbody tr th {\n",
              "        vertical-align: top;\n",
              "    }\n",
              "\n",
              "    .dataframe thead th {\n",
              "        text-align: right;\n",
              "    }\n",
              "</style>\n",
              "<table border=\"1\" class=\"dataframe\">\n",
              "  <thead>\n",
              "    <tr style=\"text-align: right;\">\n",
              "      <th></th>\n",
              "      <th>PassengerId</th>\n",
              "      <th>Pclass</th>\n",
              "      <th>Name</th>\n",
              "      <th>Sex</th>\n",
              "      <th>Age</th>\n",
              "      <th>SibSp</th>\n",
              "      <th>Parch</th>\n",
              "      <th>Ticket</th>\n",
              "      <th>Fare</th>\n",
              "      <th>Cabin</th>\n",
              "      <th>Embarked</th>\n",
              "    </tr>\n",
              "  </thead>\n",
              "  <tbody>\n",
              "    <tr>\n",
              "      <th>0</th>\n",
              "      <td>892</td>\n",
              "      <td>3</td>\n",
              "      <td>Kelly, Mr. James</td>\n",
              "      <td>0</td>\n",
              "      <td>1.434854</td>\n",
              "      <td>0</td>\n",
              "      <td>0</td>\n",
              "      <td>330911</td>\n",
              "      <td>0.040371</td>\n",
              "      <td>NaN</td>\n",
              "      <td>Q</td>\n",
              "    </tr>\n",
              "    <tr>\n",
              "      <th>1</th>\n",
              "      <td>893</td>\n",
              "      <td>3</td>\n",
              "      <td>Wilkes, Mrs. James (Ellen Needs)</td>\n",
              "      <td>1</td>\n",
              "      <td>1.954729</td>\n",
              "      <td>1</td>\n",
              "      <td>0</td>\n",
              "      <td>363272</td>\n",
              "      <td>0.054998</td>\n",
              "      <td>NaN</td>\n",
              "      <td>S</td>\n",
              "    </tr>\n",
              "    <tr>\n",
              "      <th>2</th>\n",
              "      <td>894</td>\n",
              "      <td>2</td>\n",
              "      <td>Myles, Mr. Thomas Francis</td>\n",
              "      <td>0</td>\n",
              "      <td>2.578578</td>\n",
              "      <td>0</td>\n",
              "      <td>0</td>\n",
              "      <td>240276</td>\n",
              "      <td>0.072550</td>\n",
              "      <td>NaN</td>\n",
              "      <td>Q</td>\n",
              "    </tr>\n",
              "    <tr>\n",
              "      <th>3</th>\n",
              "      <td>895</td>\n",
              "      <td>3</td>\n",
              "      <td>Wirz, Mr. Albert</td>\n",
              "      <td>0</td>\n",
              "      <td>1.122929</td>\n",
              "      <td>0</td>\n",
              "      <td>0</td>\n",
              "      <td>315154</td>\n",
              "      <td>0.031594</td>\n",
              "      <td>NaN</td>\n",
              "      <td>S</td>\n",
              "    </tr>\n",
              "    <tr>\n",
              "      <th>4</th>\n",
              "      <td>896</td>\n",
              "      <td>3</td>\n",
              "      <td>Hirvonen, Mrs. Alexander (Helga E Lindqvist)</td>\n",
              "      <td>1</td>\n",
              "      <td>0.914979</td>\n",
              "      <td>1</td>\n",
              "      <td>1</td>\n",
              "      <td>3101298</td>\n",
              "      <td>0.025744</td>\n",
              "      <td>NaN</td>\n",
              "      <td>S</td>\n",
              "    </tr>\n",
              "  </tbody>\n",
              "</table>\n",
              "</div>\n",
              "      <button class=\"colab-df-convert\" onclick=\"convertToInteractive('df-32208021-f783-41eb-b8e4-1efdc4ba735e')\"\n",
              "              title=\"Convert this dataframe to an interactive table.\"\n",
              "              style=\"display:none;\">\n",
              "        \n",
              "  <svg xmlns=\"http://www.w3.org/2000/svg\" height=\"24px\"viewBox=\"0 0 24 24\"\n",
              "       width=\"24px\">\n",
              "    <path d=\"M0 0h24v24H0V0z\" fill=\"none\"/>\n",
              "    <path d=\"M18.56 5.44l.94 2.06.94-2.06 2.06-.94-2.06-.94-.94-2.06-.94 2.06-2.06.94zm-11 1L8.5 8.5l.94-2.06 2.06-.94-2.06-.94L8.5 2.5l-.94 2.06-2.06.94zm10 10l.94 2.06.94-2.06 2.06-.94-2.06-.94-.94-2.06-.94 2.06-2.06.94z\"/><path d=\"M17.41 7.96l-1.37-1.37c-.4-.4-.92-.59-1.43-.59-.52 0-1.04.2-1.43.59L10.3 9.45l-7.72 7.72c-.78.78-.78 2.05 0 2.83L4 21.41c.39.39.9.59 1.41.59.51 0 1.02-.2 1.41-.59l7.78-7.78 2.81-2.81c.8-.78.8-2.07 0-2.86zM5.41 20L4 18.59l7.72-7.72 1.47 1.35L5.41 20z\"/>\n",
              "  </svg>\n",
              "      </button>\n",
              "      \n",
              "  <style>\n",
              "    .colab-df-container {\n",
              "      display:flex;\n",
              "      flex-wrap:wrap;\n",
              "      gap: 12px;\n",
              "    }\n",
              "\n",
              "    .colab-df-convert {\n",
              "      background-color: #E8F0FE;\n",
              "      border: none;\n",
              "      border-radius: 50%;\n",
              "      cursor: pointer;\n",
              "      display: none;\n",
              "      fill: #1967D2;\n",
              "      height: 32px;\n",
              "      padding: 0 0 0 0;\n",
              "      width: 32px;\n",
              "    }\n",
              "\n",
              "    .colab-df-convert:hover {\n",
              "      background-color: #E2EBFA;\n",
              "      box-shadow: 0px 1px 2px rgba(60, 64, 67, 0.3), 0px 1px 3px 1px rgba(60, 64, 67, 0.15);\n",
              "      fill: #174EA6;\n",
              "    }\n",
              "\n",
              "    [theme=dark] .colab-df-convert {\n",
              "      background-color: #3B4455;\n",
              "      fill: #D2E3FC;\n",
              "    }\n",
              "\n",
              "    [theme=dark] .colab-df-convert:hover {\n",
              "      background-color: #434B5C;\n",
              "      box-shadow: 0px 1px 3px 1px rgba(0, 0, 0, 0.15);\n",
              "      filter: drop-shadow(0px 1px 2px rgba(0, 0, 0, 0.3));\n",
              "      fill: #FFFFFF;\n",
              "    }\n",
              "  </style>\n",
              "\n",
              "      <script>\n",
              "        const buttonEl =\n",
              "          document.querySelector('#df-32208021-f783-41eb-b8e4-1efdc4ba735e button.colab-df-convert');\n",
              "        buttonEl.style.display =\n",
              "          google.colab.kernel.accessAllowed ? 'block' : 'none';\n",
              "\n",
              "        async function convertToInteractive(key) {\n",
              "          const element = document.querySelector('#df-32208021-f783-41eb-b8e4-1efdc4ba735e');\n",
              "          const dataTable =\n",
              "            await google.colab.kernel.invokeFunction('convertToInteractive',\n",
              "                                                     [key], {});\n",
              "          if (!dataTable) return;\n",
              "\n",
              "          const docLinkHtml = 'Like what you see? Visit the ' +\n",
              "            '<a target=\"_blank\" href=https://colab.research.google.com/notebooks/data_table.ipynb>data table notebook</a>'\n",
              "            + ' to learn more about interactive tables.';\n",
              "          element.innerHTML = '';\n",
              "          dataTable['output_type'] = 'display_data';\n",
              "          await google.colab.output.renderOutput(dataTable, element);\n",
              "          const docLink = document.createElement('div');\n",
              "          docLink.innerHTML = docLinkHtml;\n",
              "          element.appendChild(docLink);\n",
              "        }\n",
              "      </script>\n",
              "    </div>\n",
              "  </div>\n",
              "  "
            ]
          },
          "metadata": {},
          "execution_count": 108
        }
      ]
    },
    {
      "cell_type": "code",
      "source": [
        "test_data = test_df[[\"Pclass\", \"Sex\", \"Age\", \"SibSp\", \"Parch\", \"Fare\"]].to_numpy()"
      ],
      "metadata": {
        "id": "NNdnZT24-AXr"
      },
      "execution_count": 109,
      "outputs": []
    },
    {
      "cell_type": "code",
      "source": [
        "test_data = test_data / 10."
      ],
      "metadata": {
        "id": "_t3wuVgf-ui1"
      },
      "execution_count": 110,
      "outputs": []
    },
    {
      "cell_type": "code",
      "source": [
        "test_data.shape"
      ],
      "metadata": {
        "id": "TR0_eAV5_0fi",
        "outputId": "c4f45e19-41f5-4cdd-c9a6-92deb5fa11b5",
        "colab": {
          "base_uri": "https://localhost:8080/"
        }
      },
      "execution_count": 111,
      "outputs": [
        {
          "output_type": "execute_result",
          "data": {
            "text/plain": [
              "(418, 6)"
            ]
          },
          "metadata": {},
          "execution_count": 111
        }
      ]
    },
    {
      "cell_type": "code",
      "source": [
        "test_data[0]"
      ],
      "metadata": {
        "id": "bXyahRTg_48m",
        "outputId": "a1cbf85c-a1a2-4d06-a254-9acd6ffe557a",
        "colab": {
          "base_uri": "https://localhost:8080/"
        }
      },
      "execution_count": 112,
      "outputs": [
        {
          "output_type": "execute_result",
          "data": {
            "text/plain": [
              "array([0.3       , 0.        , 0.1434854 , 0.        , 0.        ,\n",
              "       0.00403707])"
            ]
          },
          "metadata": {},
          "execution_count": 112
        }
      ]
    },
    {
      "cell_type": "code",
      "source": [
        "evalmodel = keras.models.load_model(\"titanic.keras\")"
      ],
      "metadata": {
        "id": "BkFiYzCNOM9F"
      },
      "execution_count": 151,
      "outputs": []
    },
    {
      "cell_type": "code",
      "source": [
        "prediction = (evalmodel.predict(test_data)>0.5).astype(\"int32\")"
      ],
      "metadata": {
        "id": "TYJOhPRI-5O-"
      },
      "execution_count": 152,
      "outputs": []
    },
    {
      "cell_type": "code",
      "source": [
        "#prediction = evalmodel.predict(test_data)"
      ],
      "metadata": {
        "id": "0UF1UGRg18te"
      },
      "execution_count": 66,
      "outputs": []
    },
    {
      "cell_type": "code",
      "source": [
        "test_df[\"Survived\"] = prediction"
      ],
      "metadata": {
        "id": "ObLqdLJzoChn"
      },
      "execution_count": 153,
      "outputs": []
    },
    {
      "cell_type": "code",
      "source": [
        "test_df.head()"
      ],
      "metadata": {
        "colab": {
          "base_uri": "https://localhost:8080/",
          "height": 221
        },
        "id": "5KgqPQgaoJac",
        "outputId": "28192de8-880f-4dc6-99ec-21449b4f2566"
      },
      "execution_count": 154,
      "outputs": [
        {
          "output_type": "execute_result",
          "data": {
            "text/plain": [
              "   PassengerId  Pclass                                          Name  Sex  \\\n",
              "0          892       3                              Kelly, Mr. James    0   \n",
              "1          893       3              Wilkes, Mrs. James (Ellen Needs)    1   \n",
              "2          894       2                     Myles, Mr. Thomas Francis    0   \n",
              "3          895       3                              Wirz, Mr. Albert    0   \n",
              "4          896       3  Hirvonen, Mrs. Alexander (Helga E Lindqvist)    1   \n",
              "\n",
              "        Age  SibSp  Parch   Ticket      Fare Cabin Embarked  Survived  \n",
              "0  1.434854      0      0   330911  0.040371   NaN        Q         0  \n",
              "1  1.954729      1      0   363272  0.054998   NaN        S         0  \n",
              "2  2.578578      0      0   240276  0.072550   NaN        Q         0  \n",
              "3  1.122929      0      0   315154  0.031594   NaN        S         0  \n",
              "4  0.914979      1      1  3101298  0.025744   NaN        S         0  "
            ],
            "text/html": [
              "\n",
              "  <div id=\"df-9f9931c5-667e-4db7-9d52-fcde0b7b6550\">\n",
              "    <div class=\"colab-df-container\">\n",
              "      <div>\n",
              "<style scoped>\n",
              "    .dataframe tbody tr th:only-of-type {\n",
              "        vertical-align: middle;\n",
              "    }\n",
              "\n",
              "    .dataframe tbody tr th {\n",
              "        vertical-align: top;\n",
              "    }\n",
              "\n",
              "    .dataframe thead th {\n",
              "        text-align: right;\n",
              "    }\n",
              "</style>\n",
              "<table border=\"1\" class=\"dataframe\">\n",
              "  <thead>\n",
              "    <tr style=\"text-align: right;\">\n",
              "      <th></th>\n",
              "      <th>PassengerId</th>\n",
              "      <th>Pclass</th>\n",
              "      <th>Name</th>\n",
              "      <th>Sex</th>\n",
              "      <th>Age</th>\n",
              "      <th>SibSp</th>\n",
              "      <th>Parch</th>\n",
              "      <th>Ticket</th>\n",
              "      <th>Fare</th>\n",
              "      <th>Cabin</th>\n",
              "      <th>Embarked</th>\n",
              "      <th>Survived</th>\n",
              "    </tr>\n",
              "  </thead>\n",
              "  <tbody>\n",
              "    <tr>\n",
              "      <th>0</th>\n",
              "      <td>892</td>\n",
              "      <td>3</td>\n",
              "      <td>Kelly, Mr. James</td>\n",
              "      <td>0</td>\n",
              "      <td>1.434854</td>\n",
              "      <td>0</td>\n",
              "      <td>0</td>\n",
              "      <td>330911</td>\n",
              "      <td>0.040371</td>\n",
              "      <td>NaN</td>\n",
              "      <td>Q</td>\n",
              "      <td>0</td>\n",
              "    </tr>\n",
              "    <tr>\n",
              "      <th>1</th>\n",
              "      <td>893</td>\n",
              "      <td>3</td>\n",
              "      <td>Wilkes, Mrs. James (Ellen Needs)</td>\n",
              "      <td>1</td>\n",
              "      <td>1.954729</td>\n",
              "      <td>1</td>\n",
              "      <td>0</td>\n",
              "      <td>363272</td>\n",
              "      <td>0.054998</td>\n",
              "      <td>NaN</td>\n",
              "      <td>S</td>\n",
              "      <td>0</td>\n",
              "    </tr>\n",
              "    <tr>\n",
              "      <th>2</th>\n",
              "      <td>894</td>\n",
              "      <td>2</td>\n",
              "      <td>Myles, Mr. Thomas Francis</td>\n",
              "      <td>0</td>\n",
              "      <td>2.578578</td>\n",
              "      <td>0</td>\n",
              "      <td>0</td>\n",
              "      <td>240276</td>\n",
              "      <td>0.072550</td>\n",
              "      <td>NaN</td>\n",
              "      <td>Q</td>\n",
              "      <td>0</td>\n",
              "    </tr>\n",
              "    <tr>\n",
              "      <th>3</th>\n",
              "      <td>895</td>\n",
              "      <td>3</td>\n",
              "      <td>Wirz, Mr. Albert</td>\n",
              "      <td>0</td>\n",
              "      <td>1.122929</td>\n",
              "      <td>0</td>\n",
              "      <td>0</td>\n",
              "      <td>315154</td>\n",
              "      <td>0.031594</td>\n",
              "      <td>NaN</td>\n",
              "      <td>S</td>\n",
              "      <td>0</td>\n",
              "    </tr>\n",
              "    <tr>\n",
              "      <th>4</th>\n",
              "      <td>896</td>\n",
              "      <td>3</td>\n",
              "      <td>Hirvonen, Mrs. Alexander (Helga E Lindqvist)</td>\n",
              "      <td>1</td>\n",
              "      <td>0.914979</td>\n",
              "      <td>1</td>\n",
              "      <td>1</td>\n",
              "      <td>3101298</td>\n",
              "      <td>0.025744</td>\n",
              "      <td>NaN</td>\n",
              "      <td>S</td>\n",
              "      <td>0</td>\n",
              "    </tr>\n",
              "  </tbody>\n",
              "</table>\n",
              "</div>\n",
              "      <button class=\"colab-df-convert\" onclick=\"convertToInteractive('df-9f9931c5-667e-4db7-9d52-fcde0b7b6550')\"\n",
              "              title=\"Convert this dataframe to an interactive table.\"\n",
              "              style=\"display:none;\">\n",
              "        \n",
              "  <svg xmlns=\"http://www.w3.org/2000/svg\" height=\"24px\"viewBox=\"0 0 24 24\"\n",
              "       width=\"24px\">\n",
              "    <path d=\"M0 0h24v24H0V0z\" fill=\"none\"/>\n",
              "    <path d=\"M18.56 5.44l.94 2.06.94-2.06 2.06-.94-2.06-.94-.94-2.06-.94 2.06-2.06.94zm-11 1L8.5 8.5l.94-2.06 2.06-.94-2.06-.94L8.5 2.5l-.94 2.06-2.06.94zm10 10l.94 2.06.94-2.06 2.06-.94-2.06-.94-.94-2.06-.94 2.06-2.06.94z\"/><path d=\"M17.41 7.96l-1.37-1.37c-.4-.4-.92-.59-1.43-.59-.52 0-1.04.2-1.43.59L10.3 9.45l-7.72 7.72c-.78.78-.78 2.05 0 2.83L4 21.41c.39.39.9.59 1.41.59.51 0 1.02-.2 1.41-.59l7.78-7.78 2.81-2.81c.8-.78.8-2.07 0-2.86zM5.41 20L4 18.59l7.72-7.72 1.47 1.35L5.41 20z\"/>\n",
              "  </svg>\n",
              "      </button>\n",
              "      \n",
              "  <style>\n",
              "    .colab-df-container {\n",
              "      display:flex;\n",
              "      flex-wrap:wrap;\n",
              "      gap: 12px;\n",
              "    }\n",
              "\n",
              "    .colab-df-convert {\n",
              "      background-color: #E8F0FE;\n",
              "      border: none;\n",
              "      border-radius: 50%;\n",
              "      cursor: pointer;\n",
              "      display: none;\n",
              "      fill: #1967D2;\n",
              "      height: 32px;\n",
              "      padding: 0 0 0 0;\n",
              "      width: 32px;\n",
              "    }\n",
              "\n",
              "    .colab-df-convert:hover {\n",
              "      background-color: #E2EBFA;\n",
              "      box-shadow: 0px 1px 2px rgba(60, 64, 67, 0.3), 0px 1px 3px 1px rgba(60, 64, 67, 0.15);\n",
              "      fill: #174EA6;\n",
              "    }\n",
              "\n",
              "    [theme=dark] .colab-df-convert {\n",
              "      background-color: #3B4455;\n",
              "      fill: #D2E3FC;\n",
              "    }\n",
              "\n",
              "    [theme=dark] .colab-df-convert:hover {\n",
              "      background-color: #434B5C;\n",
              "      box-shadow: 0px 1px 3px 1px rgba(0, 0, 0, 0.15);\n",
              "      filter: drop-shadow(0px 1px 2px rgba(0, 0, 0, 0.3));\n",
              "      fill: #FFFFFF;\n",
              "    }\n",
              "  </style>\n",
              "\n",
              "      <script>\n",
              "        const buttonEl =\n",
              "          document.querySelector('#df-9f9931c5-667e-4db7-9d52-fcde0b7b6550 button.colab-df-convert');\n",
              "        buttonEl.style.display =\n",
              "          google.colab.kernel.accessAllowed ? 'block' : 'none';\n",
              "\n",
              "        async function convertToInteractive(key) {\n",
              "          const element = document.querySelector('#df-9f9931c5-667e-4db7-9d52-fcde0b7b6550');\n",
              "          const dataTable =\n",
              "            await google.colab.kernel.invokeFunction('convertToInteractive',\n",
              "                                                     [key], {});\n",
              "          if (!dataTable) return;\n",
              "\n",
              "          const docLinkHtml = 'Like what you see? Visit the ' +\n",
              "            '<a target=\"_blank\" href=https://colab.research.google.com/notebooks/data_table.ipynb>data table notebook</a>'\n",
              "            + ' to learn more about interactive tables.';\n",
              "          element.innerHTML = '';\n",
              "          dataTable['output_type'] = 'display_data';\n",
              "          await google.colab.output.renderOutput(dataTable, element);\n",
              "          const docLink = document.createElement('div');\n",
              "          docLink.innerHTML = docLinkHtml;\n",
              "          element.appendChild(docLink);\n",
              "        }\n",
              "      </script>\n",
              "    </div>\n",
              "  </div>\n",
              "  "
            ]
          },
          "metadata": {},
          "execution_count": 154
        }
      ]
    },
    {
      "cell_type": "code",
      "source": [
        "#outputtofile = pd.DataFrame(prediction)\n"
      ],
      "metadata": {
        "id": "ujiXSvfh03N0"
      },
      "execution_count": 67,
      "outputs": []
    },
    {
      "cell_type": "code",
      "source": [
        "#outputtofile.to_csv(\"confidence.csv\")"
      ],
      "metadata": {
        "id": "1oHCts681Sx8"
      },
      "execution_count": 68,
      "outputs": []
    },
    {
      "cell_type": "code",
      "source": [
        "#files.download(\"confidence.csv\")"
      ],
      "metadata": {
        "id": "OQpKzKnB1ct8",
        "outputId": "63ef0aff-3a24-4fdc-d2f4-b6c94a2085f6",
        "colab": {
          "base_uri": "https://localhost:8080/",
          "height": 38
        }
      },
      "execution_count": 69,
      "outputs": [
        {
          "output_type": "display_data",
          "data": {
            "text/plain": [
              "<IPython.core.display.Javascript object>"
            ],
            "application/javascript": [
              "\n",
              "    async function download(id, filename, size) {\n",
              "      if (!google.colab.kernel.accessAllowed) {\n",
              "        return;\n",
              "      }\n",
              "      const div = document.createElement('div');\n",
              "      const label = document.createElement('label');\n",
              "      label.textContent = `Downloading \"${filename}\": `;\n",
              "      div.appendChild(label);\n",
              "      const progress = document.createElement('progress');\n",
              "      progress.max = size;\n",
              "      div.appendChild(progress);\n",
              "      document.body.appendChild(div);\n",
              "\n",
              "      const buffers = [];\n",
              "      let downloaded = 0;\n",
              "\n",
              "      const channel = await google.colab.kernel.comms.open(id);\n",
              "      // Send a message to notify the kernel that we're ready.\n",
              "      channel.send({})\n",
              "\n",
              "      for await (const message of channel.messages) {\n",
              "        // Send a message to notify the kernel that we're ready.\n",
              "        channel.send({})\n",
              "        if (message.buffers) {\n",
              "          for (const buffer of message.buffers) {\n",
              "            buffers.push(buffer);\n",
              "            downloaded += buffer.byteLength;\n",
              "            progress.value = downloaded;\n",
              "          }\n",
              "        }\n",
              "      }\n",
              "      const blob = new Blob(buffers, {type: 'application/binary'});\n",
              "      const a = document.createElement('a');\n",
              "      a.href = window.URL.createObjectURL(blob);\n",
              "      a.download = filename;\n",
              "      div.appendChild(a);\n",
              "      a.click();\n",
              "      div.remove();\n",
              "    }\n",
              "  "
            ]
          },
          "metadata": {}
        },
        {
          "output_type": "display_data",
          "data": {
            "text/plain": [
              "<IPython.core.display.Javascript object>"
            ],
            "application/javascript": [
              "download(\"download_844666d9-f1c8-4754-98c6-7bd80695dad7\", \"confidence.csv\", 6056)"
            ]
          },
          "metadata": {}
        }
      ]
    },
    {
      "cell_type": "code",
      "source": [
        "output_df = test_df[[\"PassengerId\", \"Survived\"]]"
      ],
      "metadata": {
        "id": "fr_iP4jnoT9B"
      },
      "execution_count": 155,
      "outputs": []
    },
    {
      "cell_type": "code",
      "source": [
        "import uuid\n",
        "fname = uuid.uuid4()"
      ],
      "metadata": {
        "id": "Prunq6cGI3ze"
      },
      "execution_count": 156,
      "outputs": []
    },
    {
      "cell_type": "code",
      "source": [
        "submission_comments = input(\"Enter comments to enter with your submission: \")"
      ],
      "metadata": {
        "id": "ODx3WIBWIizf",
        "outputId": "1423ea42-49aa-4c45-fee1-be5a2220225c",
        "colab": {
          "base_uri": "https://localhost:8080/"
        }
      },
      "execution_count": 135,
      "outputs": [
        {
          "name": "stdout",
          "output_type": "stream",
          "text": [
            "Enter comments to enter with your submission: test\n"
          ]
        }
      ]
    },
    {
      "cell_type": "code",
      "source": [
        "submission_filename = f\"{fname}.csv\"\n",
        "submission_filename"
      ],
      "metadata": {
        "id": "T4knF1RwMMsL",
        "outputId": "ee69a10f-1795-41d4-f4a4-fee9fdf9280e",
        "colab": {
          "base_uri": "https://localhost:8080/",
          "height": 58
        }
      },
      "execution_count": 157,
      "outputs": [
        {
          "output_type": "execute_result",
          "data": {
            "text/plain": [
              "'e291c710-916f-4949-acf7-565055ecdcec.csv'"
            ],
            "application/vnd.google.colaboratory.intrinsic+json": {
              "type": "string"
            }
          },
          "metadata": {},
          "execution_count": 157
        }
      ]
    },
    {
      "cell_type": "code",
      "source": [
        "output_df.to_csv(submission_filename, index=False)"
      ],
      "metadata": {
        "id": "0MazXdTbodpV"
      },
      "execution_count": 158,
      "outputs": []
    },
    {
      "cell_type": "code",
      "source": [
        "!kaggle competitions submit -c titanic -f {submission_filename} -m \"updated model\""
      ],
      "metadata": {
        "colab": {
          "base_uri": "https://localhost:8080/"
        },
        "id": "rSqoyF8CouJM",
        "outputId": "66bd8f63-f7bb-4010-8c74-cd7da21ad106"
      },
      "execution_count": 159,
      "outputs": [
        {
          "output_type": "stream",
          "name": "stdout",
          "text": [
            "\r  0% 0.00/2.77k [00:00<?, ?B/s]\r100% 2.77k/2.77k [00:00<00:00, 13.6kB/s]\n",
            "Successfully submitted to Titanic - Machine Learning from Disaster"
          ]
        }
      ]
    }
  ]
}