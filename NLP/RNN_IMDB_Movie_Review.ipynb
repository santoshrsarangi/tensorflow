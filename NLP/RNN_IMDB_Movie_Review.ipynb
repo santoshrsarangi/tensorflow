{
  "nbformat": 4,
  "nbformat_minor": 0,
  "metadata": {
    "colab": {
      "provenance": [],
      "authorship_tag": "ABX9TyNX16MQwg/aDheItKArZApE",
      "include_colab_link": true
    },
    "kernelspec": {
      "name": "python3",
      "display_name": "Python 3"
    },
    "language_info": {
      "name": "python"
    }
  },
  "cells": [
    {
      "cell_type": "markdown",
      "metadata": {
        "id": "view-in-github",
        "colab_type": "text"
      },
      "source": [
        "<a href=\"https://colab.research.google.com/github/santoshrsarangi/tensorflow/blob/main/NLP/RNN_IMDB_Movie_Review.ipynb\" target=\"_parent\"><img src=\"https://colab.research.google.com/assets/colab-badge.svg\" alt=\"Open In Colab\"/></a>"
      ]
    },
    {
      "cell_type": "code",
      "source": [
        "!curl -O https://ai.stanford.edu/~amaas/data/sentiment/aclImdb_v1.tar.gz"
      ],
      "metadata": {
        "colab": {
          "base_uri": "https://localhost:8080/"
        },
        "id": "QSMf4Y9bP34C",
        "outputId": "88268551-473e-4985-950b-3dc4d82c8f7c"
      },
      "execution_count": 1,
      "outputs": [
        {
          "output_type": "stream",
          "name": "stdout",
          "text": [
            "  % Total    % Received % Xferd  Average Speed   Time    Time     Time  Current\n",
            "                                 Dload  Upload   Total   Spent    Left  Speed\n",
            "100 80.2M  100 80.2M    0     0  8952k      0  0:00:09  0:00:09 --:--:-- 16.4M\n"
          ]
        }
      ]
    },
    {
      "cell_type": "code",
      "source": [
        "!tar -xf aclImdb_v1.tar.gz"
      ],
      "metadata": {
        "id": "prbj9z6eP_Mu"
      },
      "execution_count": 2,
      "outputs": []
    },
    {
      "cell_type": "code",
      "source": [
        "!ls -l"
      ],
      "metadata": {
        "colab": {
          "base_uri": "https://localhost:8080/"
        },
        "id": "w2O8AkFuQKgP",
        "outputId": "ab002a69-157e-4aa3-afbd-5c71afb2d3be"
      },
      "execution_count": 3,
      "outputs": [
        {
          "output_type": "stream",
          "name": "stdout",
          "text": [
            "total 82164\n",
            "drwxr-xr-x 4 7297 1000     4096 Jun 26  2011 aclImdb\n",
            "-rw-r--r-- 1 root root 84125825 Dec 28 02:31 aclImdb_v1.tar.gz\n",
            "drwxr-xr-x 1 root root     4096 Dec 20 20:19 sample_data\n"
          ]
        }
      ]
    },
    {
      "cell_type": "code",
      "source": [
        "!rm -r aclImdb/train/unsup"
      ],
      "metadata": {
        "id": "uKv9H7HrQRxK"
      },
      "execution_count": 4,
      "outputs": []
    },
    {
      "cell_type": "code",
      "source": [
        "!cat aclImdb/train/pos/4077_10.txt"
      ],
      "metadata": {
        "colab": {
          "base_uri": "https://localhost:8080/"
        },
        "id": "npJQuGS8Q5o-",
        "outputId": "c30f0bc4-b1f2-492d-fc07-af59803a13cd"
      },
      "execution_count": 5,
      "outputs": [
        {
          "output_type": "stream",
          "name": "stdout",
          "text": [
            "I first saw this back in the early 90s on UK TV, i did like it then but i missed the chance to tape it, many years passed but the film always stuck with me and i lost hope of seeing it TV again, the main thing that stuck with me was the end, the hole castle part really touched me, its easy to watch, has a great story, great music, the list goes on and on, its OK me saying how good it is but everyone will take there own best bits away with them once they have seen it, yes the animation is top notch and beautiful to watch, it does show its age in a very few parts but that has now become part of it beauty, i am so glad it has came out on DVD as it is one of my top 10 films of all time. Buy it or rent it just see it, best viewing is at night alone with drink and food in reach so you don't have to stop the film.<br /><br />Enjoy"
          ]
        }
      ]
    },
    {
      "cell_type": "code",
      "source": [
        "import os, pathlib, shutil, random"
      ],
      "metadata": {
        "id": "HDMUQz35SaEV"
      },
      "execution_count": 6,
      "outputs": []
    },
    {
      "cell_type": "code",
      "source": [
        "base_dir = pathlib.Path(\"aclImdb\")\n",
        "val_dir = base_dir / \"val\"\n",
        "train_dir = base_dir / \"train\""
      ],
      "metadata": {
        "id": "TC5aWBDWSiuN"
      },
      "execution_count": 7,
      "outputs": []
    },
    {
      "cell_type": "code",
      "source": [
        "for category in (\"pos\", \"neg\"):\n",
        "  os.makedirs(val_dir / category)\n",
        "  files = os.listdir(train_dir / category)\n",
        "  random.Random(1337).shuffle(files)\n",
        "  num_of_val_files = int(len(files) * 0.2)\n",
        "\n",
        "  val_files = files[-num_of_val_files:]\n",
        "\n",
        "  for fname in val_files:\n",
        "    shutil.move(train_dir / category / fname, val_dir / category / fname)"
      ],
      "metadata": {
        "id": "k1UVcksMS0ty"
      },
      "execution_count": 8,
      "outputs": []
    },
    {
      "cell_type": "code",
      "source": [
        "import tensorflow as tf\n",
        "from tensorflow import keras"
      ],
      "metadata": {
        "id": "kyaIA4K2L6uv"
      },
      "execution_count": 9,
      "outputs": []
    },
    {
      "cell_type": "code",
      "source": [
        "batch_size = 32"
      ],
      "metadata": {
        "id": "ux19tuOKOth9"
      },
      "execution_count": 10,
      "outputs": []
    },
    {
      "cell_type": "code",
      "source": [
        "train_ds = keras.utils.text_dataset_from_directory(\"aclImdb/train\", batch_size = batch_size)"
      ],
      "metadata": {
        "colab": {
          "base_uri": "https://localhost:8080/"
        },
        "id": "vz6JS_2wOhAY",
        "outputId": "d270ffe6-cfea-4214-ffc5-8818abd2a8a4"
      },
      "execution_count": 11,
      "outputs": [
        {
          "output_type": "stream",
          "name": "stdout",
          "text": [
            "Found 20000 files belonging to 2 classes.\n"
          ]
        }
      ]
    },
    {
      "cell_type": "code",
      "source": [
        "val_ds = keras.utils.text_dataset_from_directory(\"aclImdb/val\", batch_size=batch_size)"
      ],
      "metadata": {
        "colab": {
          "base_uri": "https://localhost:8080/"
        },
        "id": "fBqBJvMcOzYT",
        "outputId": "10988ef8-0bc0-4780-815d-be6b9f83e805"
      },
      "execution_count": 12,
      "outputs": [
        {
          "output_type": "stream",
          "name": "stdout",
          "text": [
            "Found 5000 files belonging to 2 classes.\n"
          ]
        }
      ]
    },
    {
      "cell_type": "code",
      "source": [
        "test_ds = keras.utils.text_dataset_from_directory(\"aclImdb/test\", batch_size = batch_size)"
      ],
      "metadata": {
        "colab": {
          "base_uri": "https://localhost:8080/"
        },
        "id": "FwEKkfUYPOqj",
        "outputId": "89cce674-d979-41e0-f9d2-cad51014a0cc"
      },
      "execution_count": 13,
      "outputs": [
        {
          "output_type": "stream",
          "name": "stdout",
          "text": [
            "Found 25000 files belonging to 2 classes.\n"
          ]
        }
      ]
    },
    {
      "cell_type": "code",
      "source": [
        "for inputs, targets in train_ds:\n",
        "  print(inputs[0])\n",
        "  print(targets[0])\n",
        "  print(inputs.shape)\n",
        "  print(targets.shape)\n",
        "  print(inputs.dtype)\n",
        "  print(targets.dtype)\n",
        "  data = inputs[0]\n",
        "  break"
      ],
      "metadata": {
        "colab": {
          "base_uri": "https://localhost:8080/"
        },
        "id": "yVI8lBxlPo6V",
        "outputId": "d5636094-93f9-44a2-ed68-c8563a342290"
      },
      "execution_count": 14,
      "outputs": [
        {
          "output_type": "stream",
          "name": "stdout",
          "text": [
            "tf.Tensor(b'This was my first, and probably the last Angelopoulos movie. I was eager to get into it, as it featured Mastroianni, one of my favorite actors and was a film By Theo, of whom I\\'ve heard a lot. The opening was promising, a long shot over a jeep of soldiers across the Albanian-Greek border. OK! but that was all. Nothing left. The movie had big holes and I don\\'t know which to mention first. The main plot of the story is revealed to the journalist by the old woman. during a long walk. It\\'s like a 15 minutes monologue, killing the action and viewers patience, nothing happening on screen for 15 or even 20 minutes, apart this old lady telling a story. All that is presumed to be shown through action, was simply told to the camera by the old lady. In a moment, the equippe of TV was heading to the bar. They turn the corner and immediately the winter begins! Probably, shot in different days, continuity leaked. A lot of problems with the story-telling, it went from absurd to irrational never sticking to a style, making the viewer asking questions that never got answers. Poor Mastroianni, given a role which lacked integrity or charm. On the other hand, as many Greeks or Albanians or Balcan people would agree with, the movies showed lot of historic, ethnic, or politically incorrectness, just for the sake of making a movie about \"humanity\" as a red in another review. A lot more to say, but no time to lose on a poor movie, which was not movie at all, but lunacies of a person impressed on film and paid with state money.', shape=(), dtype=string)\n",
            "tf.Tensor(0, shape=(), dtype=int32)\n",
            "(32,)\n",
            "(32,)\n",
            "<dtype: 'string'>\n",
            "<dtype: 'int32'>\n"
          ]
        }
      ]
    },
    {
      "cell_type": "code",
      "source": [
        "from keras.layers import TextVectorization"
      ],
      "metadata": {
        "id": "9Ip0SueCP_d1"
      },
      "execution_count": 15,
      "outputs": []
    },
    {
      "cell_type": "code",
      "source": [
        "text_vectorization = TextVectorization(output_mode=\"multi_hot\", max_tokens=2000)"
      ],
      "metadata": {
        "id": "-30ryub_Qp2d"
      },
      "execution_count": 24,
      "outputs": []
    },
    {
      "cell_type": "code",
      "source": [
        "text_ds = train_ds.map(lambda x, y: x)"
      ],
      "metadata": {
        "id": "dnlhBUSQSE1Y"
      },
      "execution_count": 17,
      "outputs": []
    },
    {
      "cell_type": "code",
      "source": [
        "target_train_ds = train_ds.map(lambda x, y: y)"
      ],
      "metadata": {
        "id": "gKI01TcFo_9C"
      },
      "execution_count": 36,
      "outputs": []
    },
    {
      "cell_type": "code",
      "source": [
        "target_train_ds"
      ],
      "metadata": {
        "colab": {
          "base_uri": "https://localhost:8080/"
        },
        "id": "I4QZZkXLpIaY",
        "outputId": "8dbf43a6-202f-449f-fd46-dc6e703b4d95"
      },
      "execution_count": 37,
      "outputs": [
        {
          "output_type": "execute_result",
          "data": {
            "text/plain": [
              "<MapDataset element_spec=TensorSpec(shape=(None,), dtype=tf.int32, name=None)>"
            ]
          },
          "metadata": {},
          "execution_count": 37
        }
      ]
    },
    {
      "cell_type": "code",
      "source": [
        "type(train_ds)"
      ],
      "metadata": {
        "colab": {
          "base_uri": "https://localhost:8080/"
        },
        "id": "uUS1M8XgoOoD",
        "outputId": "4a71d036-0853-4288-f43b-e1302142dd14"
      },
      "execution_count": 29,
      "outputs": [
        {
          "output_type": "execute_result",
          "data": {
            "text/plain": [
              "tensorflow.python.data.ops.dataset_ops.BatchDataset"
            ]
          },
          "metadata": {},
          "execution_count": 29
        }
      ]
    },
    {
      "cell_type": "code",
      "source": [
        "type(text_ds)"
      ],
      "metadata": {
        "colab": {
          "base_uri": "https://localhost:8080/"
        },
        "id": "OOLMLkr3oSIp",
        "outputId": "3570d30e-fe19-4ddd-eba3-9b8d5fa2e159"
      },
      "execution_count": 30,
      "outputs": [
        {
          "output_type": "execute_result",
          "data": {
            "text/plain": [
              "tensorflow.python.data.ops.dataset_ops.MapDataset"
            ]
          },
          "metadata": {},
          "execution_count": 30
        }
      ]
    },
    {
      "cell_type": "code",
      "source": [
        "len(train_ds)"
      ],
      "metadata": {
        "colab": {
          "base_uri": "https://localhost:8080/"
        },
        "id": "hHCGPQLHoWaf",
        "outputId": "49e4be21-9dd5-4562-a940-29caf1ce1425"
      },
      "execution_count": 31,
      "outputs": [
        {
          "output_type": "execute_result",
          "data": {
            "text/plain": [
              "625"
            ]
          },
          "metadata": {},
          "execution_count": 31
        }
      ]
    },
    {
      "cell_type": "code",
      "source": [
        "len(text_ds)"
      ],
      "metadata": {
        "colab": {
          "base_uri": "https://localhost:8080/"
        },
        "id": "IAS1HuVLoavi",
        "outputId": "3e9ec995-6c7a-48da-f579-9a4186670800"
      },
      "execution_count": 32,
      "outputs": [
        {
          "output_type": "execute_result",
          "data": {
            "text/plain": [
              "625"
            ]
          },
          "metadata": {},
          "execution_count": 32
        }
      ]
    },
    {
      "cell_type": "code",
      "source": [
        "text_ds"
      ],
      "metadata": {
        "colab": {
          "base_uri": "https://localhost:8080/"
        },
        "id": "ho5lGyk3ouI3",
        "outputId": "a8471da5-b51a-44ba-be98-cecc932ec704"
      },
      "execution_count": 35,
      "outputs": [
        {
          "output_type": "execute_result",
          "data": {
            "text/plain": [
              "<MapDataset element_spec=TensorSpec(shape=(None,), dtype=tf.string, name=None)>"
            ]
          },
          "metadata": {},
          "execution_count": 35
        }
      ]
    },
    {
      "cell_type": "code",
      "source": [
        "train_ds"
      ],
      "metadata": {
        "colab": {
          "base_uri": "https://localhost:8080/"
        },
        "id": "gJLSx2Nyod4R",
        "outputId": "6a69546b-4dc7-43e2-97e1-15f36961d46a"
      },
      "execution_count": 34,
      "outputs": [
        {
          "output_type": "execute_result",
          "data": {
            "text/plain": [
              "<BatchDataset element_spec=(TensorSpec(shape=(None,), dtype=tf.string, name=None), TensorSpec(shape=(None,), dtype=tf.int32, name=None))>"
            ]
          },
          "metadata": {},
          "execution_count": 34
        }
      ]
    },
    {
      "cell_type": "code",
      "source": [
        "text_vectorization.adapt(inputs)"
      ],
      "metadata": {
        "id": "XKzkUNclRLtD"
      },
      "execution_count": 25,
      "outputs": []
    },
    {
      "cell_type": "code",
      "source": [
        "ds = text_vectorization.get_vocabulary()"
      ],
      "metadata": {
        "id": "FXlr42CeRfxB"
      },
      "execution_count": 26,
      "outputs": []
    },
    {
      "cell_type": "code",
      "source": [
        "print(ds)"
      ],
      "metadata": {
        "colab": {
          "base_uri": "https://localhost:8080/"
        },
        "id": "Vps1IffgVU5O",
        "outputId": "c5f48318-7349-4395-e460-c40a1e297b83"
      },
      "execution_count": 27,
      "outputs": [
        {
          "output_type": "stream",
          "name": "stdout",
          "text": [
            "['[UNK]', 'the', 'and', 'of', 'a', 'to', 'is', 'in', 'as', 'it', 'that', 'this', 'film', 'i', 'was', 'for', 'with', 'his', 'be', 'on', 'but', 'br', 'one', 'he', 'not', 'movie', 'its', 'by', 'all', 'are', 'her', 'you', 'from', 'has', 'an', 'who', 'at', 'just', 'have', 'about', 'would', 'story', 'or', 'which', 'very', 'she', 'films', 'what', 'so', 'if', 'even', 'into', 'really', 'never', 'more', 'first', 'when', 'they', 'character', 'like', 'were', 'tarzan', 'only', 'no', 'much', 'good', 'time', 'their', 'other', 'had', 'can', 'well', 'there', 'some', 'scene', 'movies', 'most', 'lot', 'best', 'see', 'could', 'back', 'also', 'while', 'than', 'should', 'seen', 'rob', 'points', 'out', 'my', 'me', 'man', 'do', 'been', 'any', 'world', 'watch', 'up', 'too', 'through', 'then', 'them', 'take', 'know', 'him', 'here', 'get', 'before', 'after', 'zizek', 'your', 'though', 'think', 'same', 'roth', 'poor', 'jane', 'interesting', 'great', 'death', 'course', 'actually', 'acting', 'young', 'yet', 'why', 'way', 'watching', 'these', 'thats', 'someone', 'script', 'probably', 'place', 'now', 'making', 'long', 'little', 'horror', 'hes', 'go', 'fact', 'dont', 'does', 'actors', 'years', 'weapon', 'we', 'want', 'used', 'trying', 'theres', 'soon', 'seems', 'point', 'own', 'over', 'makes', 'make', 'find', 'fight', 'ever', 'doing', 'director', 'different', 'both', 'being', 'because', 'bad', 'away', 'art', 'ape', 'another', 'again', 'abortion', 'year', 'without', 'until', 'two', 'thinking', 'such', 'something', 'simply', 'shot', 'seeing', 'screen', 'reason', 'put', 'person', 'people', 'old', 'off', 'nothing', 'name', 'music', 'might', 'mean', 'may', 'many', 'made', 'love', 'lady', 'how', 'herself', 'having', 'funny', 'fantasy', 'experience', 'every', 'else', 'directed', 'day', 'come', 'cinema', 'certainly', 'cast', 'carmen', 'cant', 'believable', 'anything', 'almost', 'work', 'woman', 'will', 'whole', 'war', 'view', 'version', 'usual', 'try', 'true', 'three', 'things', 'sword', 'star', 'songs', 'situation', 'showing', 'second', 'scenes', 'say', 'role', 'release', 'quite', 'prolife', 'plot', 'performance', 'original', 'next', 'moment', 'matrix', 'mate', 'mary', 'male', 'major', 'main', 'looks', 'look', 'life', 'level', 'late', 'ive', 'itself', 'isnt', 'including', 'ill', 'hollywood', 'hard', 'hand', 'got', 'going', 'goes', 'given', 'funniest', 'flamenco', 'final', 'excellent', 'evil', 'entire', 'during', 'duran', 'down', 'double', 'direction', 'did', 'dialogue', 'days', 'couple', 'comes', 'classic', 'characters', 'boyer', 'better', 'becomes', 'already', 'across', 'written', 'writing', 'wouldnt', 'worth', 'works', 'words', 'wonderful', 'whom', 'where', 'went', 'waste', 'violent', 'violence', 'villain', 'unfortunately', 'turn', 'truly', 'towards', 'touch', 'top', 'tone', 'those', 'terrifying', 'telling', 'takes', 'sympathetic', 'swim', 'superb', 'style', 'studio', 'started', 'start', 'special', 'since', 'side', 'shows', 'series', 'save', 'roths', 'remember', 'recommended', 'reality', 'real', 'rape', 'random', 'pregnant', 'played', 'period', 'perhaps', 'particular', 'opera', 'ones', 'obviously', 'nyaako', 'mop', 'money', 'middle', 'men', 'matter', 'lynch', 'looking', 'lines', 'legendary', 'least', 'lead', 'later', 'last', 'kind', 'jungle', 'jack', 'inspired', 'innocence', 'idea', 'however', 'house', 'hidden', 'hero', 'heard', 'head', 'hawks', 'hands', 'halloween', 'half', 'guy', 'greatest', 'graveyard', 'gives', 'girl', 'gibbons', 'getting', 'gades', 'fun', 'found', 'forward', 'former', 'finds', 'figure', 'few', 'female', 'far', 'fans', 'famous', 'face', 'england', 'easily', 'due', 'dr', 'doesnt', 'direct', 'dancer', 'comments', 'college', 'claymore', 'chaplin', 'case', 'carell', 'career', 'brings', 'bollywood', 'black', 'bit', 'between', 'believe', 'behind', 'become', 'bank', 'band', 'artemesia', 'arlington', 'appeared', 'appear', 'andy', 'amitabh', 'always', 'action', '80s', '1', 'yourself', 'yeah', 'writer', 'worst', 'word', 'wonder', 'wins', 'winner', 'win', 'willing', 'wife', 'whos', 'whether', 'whatever', 'waters', 'watched', 'wanda', 'villains', 'video', 'utter', 'uses', 'unusual', 'unfaithful', 'typical', 'type', 'twenty', 'tutoring', 'turns', 'triad', 'together', 'today', 'tired', 'times', 'thrusting', 'thrust', 'thought', 'thinks', 'thing', 'theme', 'territory', 'terrible', 'tell', 'teacher', 'tales', 'tale', 'symbolism', 'surprising', 'sure', 'suppose', 'supporting', 'super', 'stupid', 'strong', 'stroking', 'striking', 'storytelling', 'stop', 'stock', 'still', 'states', 'stanwyck', 'stance', 'spanish', 'somewhat', 'somehow', 'slashes', 'sitting', 'simple', 'sight', 'showed', 'shortly', 'short', 'shes', 'sex', 'several', 'sequel', 'sees', 'seenbr', 'seem', 'sects', 'scifi', 'scandal', 'savage', 'said', 'rudd', 'rooney', 'romantic', 'rogen', 'right', 'richard', 'returns', 'return', 'representations', 'released', 'ready', 'rapier', 'radio', 'questions', 'puts', 'psychosexual', 'production', 'produced', 'primarily', 'precode', 'powerful', 'power', 'potential', 'possible', 'please', 'plays', 'picture', 'perverts', 'perlman', 'paxinou', 'paul', 'pathetic', 'parts', 'part', 'paranoid', 'packed', 'others', 'osullivan', 'opponents', 'opening', 'onbr', 'official', 'nyatta', 'nude', 'novella', 'note', 'nor', 'noble', 'new', 'neither', 'needs', 'neck', 'nearly', 'mérimée', 'mrs', 'mr', 'move', 'mother', 'mood', 'moments', 'miyan', 'mission', 'minutes', 'mind', 'mgms', 'mgm', 'message', 'mess', 'mermaid', 'melendez', 'maureen', 'mastroianni', 'mask', 'mander', 'malco', 'mad', 'loved', 'lord', 'looked', 'local', 'literally', 'less', 'left', 'leading', 'lauren', 'latter', 'known', 'knew', 'killing', 'killer', 'kill', 'keener', 'katina', 'john', 'jhoom', 'janel', 'instant', 'implied', 'impact', 'immediately', 'im', 'ii', 'ie', 'human', 'hoyos', 'hope', 'hitchcock', 'hit', 'historical', 'himself', 'highly', 'herbert', 'henderson', 'hell', 'hed', 'heading', 'happy', 'happened', 'happen', 'guns', 'guide', 'grow', 'gripping', 'grieco', 'govinda', 'gets', 'george', 'genre', 'further', 'fully', 'filming', 'fighting', 'fell', 'favorite', 'fatherhood', 'father', 'fast', 'fantastic', 'family', 'fair', 'extremely', 'explain', 'expected', 'except', 'exactly', 'everything', 'everyone', 'especially', 'episodes', 'epic', 'enjoyed', 'energy', 'ending', 'end', 'elsewhere', 'ek', 'either', 'effort', 'effects', 'effect', 'each', 'dwayne', 'dvd', 'driving', 'drive', 'done', 'distinctly', 'disney', 'dinosaurs', 'didnt', 'design', 'depiction', 'dentist', 'denard', 'degree', 'definitely', 'definite', 'decided', 'deadon', 'dead', 'de', 'david', 'daughter', 'darkness', 'dark', 'cute', 'curtis', 'creative', 'create', 'coworker', 'cover', 'coulouris', 'cops', 'cook', 'conway', 'confusing', 'complex', 'competent', 'comparisons', 'company', 'comedy', 'clinic', 'classics', 'civil', 'chose', 'chick', 'chest', 'cheesy', 'charlies', 'charlie', 'cat', 'capturing', 'camp', 'camera', 'came', 'call', 'busfields', 'brutal', 'brothers', 'brother', 'bronchitis', 'braveheart', 'branch', 'boyers', 'boy', 'boring', 'bogie', 'boat', 'blue', 'bizets', 'big', 'beginning', 'became', 'beautiful', 'bastard', 'basketball', 'bar', 'bacall', 'awesome', 'aur', 'attractive', 'atmosphere', 'artist', 'arent', 'anybody', 'antonio', 'annoying', 'analysis', 'american', 'am', 'allow', 'ahead', 'africa', 'actor', 'act', 'accurate', 'able', '8', '40', '1915', '15', '£1775', 'zizeks', 'zippo', 'zapruder', 'youre', 'youll', 'yikesbr', 'yearold', 'yanked', 'wrote', 'writings', 'wreck', 'wow', 'wouldve', 'woulda', 'workload', 'workings', 'woods', 'wonderfully', 'women', 'womanizing', 'womanizer', 'within', 'wishes', 'wished', 'wish', 'winter', 'william', 'wifes', 'wideboygangsterbynumbers', 'whose', 'white', 'whatsoeverbr', 'whatsoever', 'whats', 'western', 'wellrounded', 'wellmeaning', 'wellknown', 'welcome', 'weissmuller', 'week', 'wears', 'weakness', 'weak', 'watchable', 'wasted', 'wasnt', 'warners', 'warmhearted', 'wanted', 'wanna', 'walrus', 'walks', 'walking', 'walk', 'waking', 'wait', 'wade', 'wachs', 'voyage', 'vomiting', 'vomit', 'volo', 'voiceover', 'voice', 'vivacious', 'viva', 'vital', 'visual', 'vision', 'virgin', 'villabr', 'viewpoints', 'viewersbr', 'viewers', 'viewer', 'viewed', 'videothe', 'victor', 'victims', 'veteran', 'vertigo', 'venture', 'ventriloquist', 'velvetbr', 'velvet', 'vault', 'vaugier', 'varma', 'value', 'vader', 'using', 'use', 'us', 'ursula', 'urban', 'upper', 'upon', 'unsurpassed', 'unreality', 'unpopular', 'unnecessaryan', 'unlikely', 'unique', 'uninspiring', 'unimpressive', 'unhollywood', 'unhappy', 'uneven', 'undoubtedly', 'underwritten', 'underwear', 'under', 'uncommon', 'uncertain', 'uncapturable', 'uncanny', 'unaware', 'unapologetically', 'um', 'ultraviolence', 'ultimate', 'typically', 'twists', 'tv', 'turning', 'turncoat', 'tuned', 'trusted', 'truck', 'triumph', 'trio', 'triggerhappy', 'tried', 'tribes', 'tribe', 'trial', 'tremendous', 'treats', 'treat', 'treasure', 'traumatic', 'tramp', 'train', 'trail', 'tragic', 'tradition', 'toughluck', 'tough', 'touched', 'totally', 'tortured', 'torture', 'topless', 'topbut', 'took', 'tolerates', 'tolerate', 'told', 'toilet', 'titular', 'titled', 'tippi', 'timothy', 'timon', 'timing', 'throws', 'throughbr', 'thrillers', 'thoroughly', 'thingbr', 'thin', 'theorist', 'theo', 'themselves', 'thatbr', 'terrificshe', 'terms', 'tepper', 'tent', 'tension', 'tenant', 'teeth', 'technical', 'tech', 'tea', 'task', 'tarkovsky', 'tame', 'tall', 'talents', 'talented', 'talent', 'taken', 'takebr', 't', 'symbolismbr', 'swift', 'suspicious', 'surreal', 'surprisingly', 'surface', 'supernatural', 'superego', 'sung', 'summer', 'suits', 'suit', 'suicide', 'suggests', 'suggest', 'suffer', 'succeeds', 'subtlety', 'subsequent', 'submission', 'subjectivity', 'subject', 'stupidbut', 'stunning', 'stuff', 'students', 'studentathlete', 'stroh', 'stress', 'stratosphere', 'strategically', 'strangely', 'strange', 'straight', 'storyline', 'storm', 'stories', 'store', 'stonecold', 'stitzer', 'sticks', 'sticking', 'steve', 'stereotypical', 'stereotypes', 'step', 'stefania', 'steals', 'state', 'startling', 'starring', 'stanley', 'stalks', 'stalker', 'stability', 'stabbing', 'spring', 'spread', 'sports', 'spoilers', 'spoil', 'split', 'splendidly', 'spinoff', 'spidercreature', 'spend', 'spectacular', 'spark', 'spain', 'spaghetti', 'southern', 'sources', 'source', 'soup', 'sound', 'soul', 'sorts', 'sorry', 'sophistication', 'sophie', 'sons', 'sonny', 'song', 'solution', 'solely', 'soldiers', 'solarislike', 'sol', 'softporn', 'sockets', 'sober', 'soapbox', 'soap', 'sneers', 'snatching', 'smallest', 'slow', 'slices', 'slavoj', 'slashing', 'skip', 'situations', 'sith', 'sister', 'single', 'singing', 'sincere', 'simplistic', 'silk', 'silhouette', 'silent', 'sidesand', 'sided', 'sickeningly', 'sick', 'shunning', 'shumlin', 'shrewdly', 'shown', 'show', 'shouldnt', 'shots', 'shorts', 'shoots', 'sholay', 'shola', 'shockingly', 'shines', 'shifts', 'shelley', 'shaved', 'sharp', 'shame', 'shambles', 'shall', 'shah', 'shabnam', 'seymour', 'sexuality', 'sexual', 'sexiness', 'sexes', 'seventies', 'seven', 'setup', 'seth', 'set', 'services', 'serious', 'serial', 'sequences', 'sent', 'sensual', 'sensitivities', 'sensationalized', 'sensation', 'sendups', 'selfobsessed', 'selfcensorship', 'self', 'seeunless', 'seesbr', 'seesaw', 'seemed', 'seduce', 'section', 'secretive', 'seconds', 'secaucus', 'screwfly', 'scream', 'scottish', 'scott', 'scorseses', 'scorsese', 'scientist', 'school', 'scathingly', 'scared', 'saw', 'sauras', 'sauragades', 'saura', 'satisfying', 'sasural', 'sans', 'sank', 'sanjay', 'sangre', 'sake', 'safaris', 'sadly', 'sad', 'saajan', 'russia', 'running', 'run', 'rukh', 'ruin', 'rpm', 'royalty', 'roy', 'round', 'rothbr', 'rose', 'ron', 'romany', 'romance', 'roller', 'roles', 'rocca', 'robs', 'robbery', 'road', 'riveting', 'rival', 'risqué', 'rip', 'rings', 'rights', 'rightly', 'rightfully', 'richmond', 'rice', 'ribbing', 'rhythmic', 'rhys', 'revolution', 'revised', 'review', 'revenge', 'revealed', 'returning', 'returned', 'retrospective', 'retrieve', 'retreat', 'retelling', 'resumed', 'resulting', 'rest', 'respect', 'reserved', 'required', 'republicans', 'replies', 'repellent', 'repeats', 'repeatedly', 'rep', 'renting', 'rent', 'reminds', 'remarkablebr', 'remake', 'remains', 'remain', 'relax', 'relative', 'related', 'rehash', 'regarding', 'refusing', 'refreshing', 'referring', 'references', 'redhot', 'redeeming', 'red', 'recover', 'recently', 'recent', 'rebirth', 'reasons', 'realizing', 'read', 'reactionary', 'ray', 'raunchy', 'rather', 'rates', 'rare', 'rapture', 'rapiers', 'ramsay', 'ram', 'raja', 'raj', 'raise', 'raines', 'racial', 'r', 'quips', 'quickly', 'quicker', 'questionsother', 'questionable', 'quest', 'queen', 'quasi', 'quality', 'qualities', 'putting', 'push', 'pursuit', 'purrs', 'purposes', 'purpose', 'purchase', 'pumbaa', 'pulling', 'pulled', 'pub', 'psychos', 'psychopath', 'psycho', 'pseudofather', 'prowling', 'provocative', 'proved', 'protagonist', 'prosper', 'proportions', 'proponent', 'prop', 'promising', 'projects', 'project', 'producers', 'prodigiously', 'problems', 'problem', 'private', 'prior', 'primordial', 'priest', 'prevent', 'pretty', 'pretends', 'presumed', 'press', 'presentation', 'presence', 'pregnancy', 'prefer', 'predictable', 'predator', 'praise', 'practically', 'pound', 'post', 'possessive', 'portrays', 'portrayal', 'pop', 'politically', 'policy', 'pointless', 'pocahontas', 'pluto', 'plus', 'plenty', 'pleasance', 'playing', 'play', 'plausible', 'plasters', 'plants', 'plans', 'pivotal', 'pillow', 'piece', 'pianist', 'physically', 'physical', 'phones', 'phone', 'philosopher', 'phantom', 'peter', 'pet', 'perverse', 'perspective', 'perkins', 'perfume', 'performs', 'performed', 'performances', 'perfect', 'perennial', 'peppered', 'penguin', 'penchant', 'peak', 'pavignano', 'patience', 'past', 'passionate', 'pass', 'particularly', 'parrying', 'pardner', 'parade', 'pamphlet', 'paints', 'painters', 'paint', 'painful', 'paid', 'pad', 'paco', 'pacing', 'pacey', 'p', 'owners', 'overthetop', 'overnight', 'overload', 'overlap', 'outstanding', 'outside', 'outgrowth', 'outcry', 'our', 'otherwise', 'oscarwinning', 'oscars', 'origins', 'originaland', 'organisationbr', 'ordered', 'ordeal', 'opéracomique', 'opportunity', 'opens', 'open', 'okay', 'ok', 'ohsosympathetic', 'oh', 'ogle', 'ofr', 'office', 'offer', 'offcamera', 'obtuse', 'observant', 'oblivion', 'nursed', 'numbers', 'number', 'nuance', 'novice', 'novelty', 'novellaopera', 'novel', 'nonsensical', 'nonevent', 'nominated', 'noir', 'nobody', 'no1', 'nishabd', 'nipples', 'nightmares', 'nietzsche', 'nick', 'nice', 'newly', 'newest', 'nevertheless', 'neutrality', 'netherworld', 'neil', 'negative', 'needed', 'native', 'narrow', 'nancy', 'names', 'named', 'naked', 'mystery', 'musician', 'musical', 'murky', 'murderous', 'murdered', 'multifaceted', 'moviebr', 'movement', 'moustache', 'mothers', 'mostly', 'morgana', 'morality', 'monster', 'monologue', 'modern', 'missing', 'minus', 'minds', 'miles', 'mickey', 'metal', 'messages', 'mention', 'mental', 'meloni', 'melody', 'melodramatic', 'meena', 'mebr', 'meatball', 'means', 'meaning', 'meal', 'mckay', 'maybe', 'matches', 'masters', 'masterpiece', 'masterful', 'mastana', 'masala', 'marx', 'marvelous', 'marvellous', 'martin', 'martial', 'marriage', 'marlowe', 'mark', 'mario', 'marilyn', 'manner', 'mann', 'manjayegi', 'manhungry', 'mangeshkar', 'mancuso', 'manages', 'managed', 'maloney', 'malil', 'mainly', 'macdonalds', 'mabuse', 'lunacies', 'luis', 'ludicrous', 'luck', 'lucia', 'loyal', 'low', 'lover', 'lovely', 'lots', 'lost', 'loses', 'losers', 'lose', 'lorre', 'loomis', 'locations', 'livesbr', 'live', 'listed', 'limittarzan', 'likewise', 'liked', 'lighter', 'lifebr', 'licata', 'liberties', 'levels', 'leslie', 'leone', 'lego', 'leeli', 'lee', 'leaving', 'leanings', 'leaked', 'leads', 'lawn', 'laura', 'latex', 'language', 'ladys', 'lacks', 'lacked', 'kumari', 'kum', 'knocking', 'knife', 'kids', 'kidding', 'kicks', 'kick', 'khan', 'keeper', 'keep', 'kathryn', 'kat', 'karen', 'kandice', 'kagan', 'judd', 'jr', 'journalist', 'joke', 'joined', 'johnny', 'joe', 'jodie', 'jodi', 'jeep', 'janitorial', 'janitor', 'janebr', 'jamie', 'james', 'jam', 'jafar', 'jacket', 'ivory', 'italy', 'italian', 'issue', 'isolated', 'island', 'irrational', 'ironically', 'involving', 'inveterate', 'intrusion', 'interview', 'intersect', 'interrupting', 'interrupted', 'international', 'interference', 'interested', 'interest', 'intention', 'intent', 'intended', 'integrity', 'instead', 'inspire', 'insisting', 'inside', 'insects', 'innuendo', 'ingredient', 'influence', 'inexplicably', 'industrybr', 'indulges', 'individuals', 'indifferencehe', 'indian', 'indescribably', 'independent', 'indeed', 'incorrectness', 'incorporated', 'incomplete', 'inclined', 'inane', 'improved', 'impressively', 'impressed', 'implications', 'impeccable', 'immortalized', 'immortal', 'immediate', 'imdb', 'imagining', 'imaginative', 'images', 'ifans', 'idsuperegoego', 'idiotic', 'identity', 'ideals', 'id', 'icon', 'hysterically', 'hyping', 'hype', 'husbandfather', 'husband', 'hurt', 'hunters', 'hung', 'humphrey', 'humanity', 'howard', 'hot', 'hosted', 'horrortype', 'horrific', 'horrible', 'hook', 'honor', 'honesty', 'honestly', 'homophobic', 'homework', 'home', 'holy', 'holts', 'holt', 'holmes', 'holiday', 'holes', 'holds', 'hitler', 'history', 'historic', 'hinting', 'highway', 'highconcept', 'hideous', 'heyy', 'heros', 'herman', 'hendrixs', 'hendrix', 'help', 'hefty', 'hedrens', 'heavy', 'heart', 'health', 'heads', 'headache', 'hays', 'hasnt', 'haseena', 'harry', 'harpos', 'harping', 'hardy', 'happens', 'happenings', 'happening', 'haphazard', 'hansel', 'hams', 'hamilton', 'hallways', 'hair', 'hadnt', 'gyarah', 'gutted', 'gutbusting', 'gunslinging', 'guitarists', 'guilt', 'groupcan', 'group', 'grossly', 'grim', 'gretal', 'greene', 'greeks', 'gratuitous', 'grasps', 'graphic', 'graham', 'grade', 'graceful', 'grabbing', 'governments', 'government', 'gotten', 'gorillas', 'gorgeous', 'gopal', 'goodspirited', 'goodbut', 'gone', 'gold', 'god', 'glasses', 'give', 'girlfriend', 'gimmick', 'gifts', 'gerry', 'german', 'georges', 'genredavid', 'generalbr', 'general', 'gazes', 'gather', 'gang', 'gag', 'fuses', 'funnier', 'funand', 'full', 'fuel', 'fruit', 'frolic', 'friends', 'friend', 'freudian', 'freud', 'frequently', 'frenchmen', 'freedom', 'free', 'frank', 'francken', 'franchot', 'foxes', 'four', 'foster', 'fortune', 'formats', 'format', 'form', 'forgotten', 'forget', 'foreigners', 'foreign', 'footage', 'foot', 'food', 'followsbr', 'follows', 'folks', 'foes', 'flesh', 'flashed', 'fisherman', 'fish', 'fires', 'fire', 'fine', 'finally', 'filth', 'filmed', 'filmand', 'filled', 'fights', 'fightbr', 'fiercely', 'fiennes', 'fictional', 'fiction', 'feuerstein', 'fencer', 'femme', 'felt', 'feels', 'feelings', 'feeling', 'features', 'featured', 'fear', 'favor', 'fault', 'fatale', 'fascination', 'fascinating', 'farright', 'farreaching', 'fantasized', 'fan', 'familiar', 'falsely', 'falls', 'fall', 'falangistsbr', 'falagists', 'fairly', 'fail', 'facts', 'fabulous', 'fabricated', 'fabio', 'eye', 'extras', 'extraordinarily', 'extrabiblical', 'extensively', 'exposition', 'explored', 'exploit', 'expert', 'expecting', 'expect', 'expansive', 'existence', 'exist', 'exhusband', 'exhausted', 'execute', 'excuse', 'exciting', 'excited', 'excellence', 'examples', 'example', 'evidently', 'events', 'evangelical', 'ethnic', 'essentially', 'essanay', 'esperanto', 'escaped', 'erupts', 'eroticism', 'erotic', 'era', 'equippe', 'equally', 'envelope', 'entirely', 'entertainment', 'entertained', 'enters', 'enough', 'enormously', 'enjoybade', 'enjoyable', 'enjoy', 'engulf', 'english', 'engaged', 'ends', 'endless', 'employer', 'emmanuelle', 'emerges', 'ella', 'elizabeth', 'elisha', 'elephants', 'elements', 'elegant', 'electronics', 'el', 'ego', 'eg', 'efforts', 'effectively', 'effectivebr', 'edited', 'edges', 'edged', 'edgar', 'eddie', 'early', 'earlier', 'eager', 'dynamics', 'duoive', 'dumbed', 'dual', 'drumming', 'drudge', 'drink', 'dresses', 'dream', 'drastically', 'dramatic', 'drag', 'downfall', 'donned', 'donna', 'donald', 'dog', 'documentaries', 'doctors', 'doctor', 'dock', 'disturbing', 'distrust', 'distribution', 'distinction', 'dissects', 'dissect', 'display', 'disneys', 'dismal', 'dislike', 'disgusting', 'disappeared', 'directing', 'dire', 'diplomat', 'dinosaur', 'dinner', 'dignity', 'digging', 'difference', 'dies', 'dictionary', 'diction', 'dialog', 'dhavangovinda', 'dhavan', 'devoted', 'devoid', 'development', 'determined', 'detail', 'destroys', 'destroying', 'despite', 'desperately', 'desire', 'desirable', 'deserving', 'deserves']\n"
          ]
        }
      ]
    },
    {
      "cell_type": "code",
      "source": [
        "len(ds)"
      ],
      "metadata": {
        "colab": {
          "base_uri": "https://localhost:8080/"
        },
        "id": "L9f2XnjOknSN",
        "outputId": "e48f75f5-4d51-45fb-80e6-124ceb585570"
      },
      "execution_count": 28,
      "outputs": [
        {
          "output_type": "execute_result",
          "data": {
            "text/plain": [
              "2000"
            ]
          },
          "metadata": {},
          "execution_count": 28
        }
      ]
    },
    {
      "cell_type": "code",
      "source": [],
      "metadata": {
        "id": "S9oIih0ykpE1"
      },
      "execution_count": null,
      "outputs": []
    }
  ]
}