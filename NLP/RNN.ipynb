{
  "nbformat": 4,
  "nbformat_minor": 0,
  "metadata": {
    "colab": {
      "provenance": [],
      "authorship_tag": "ABX9TyOnNb8zKoOxq8/HP14Pyq6O",
      "include_colab_link": true
    },
    "kernelspec": {
      "name": "python3",
      "display_name": "Python 3"
    },
    "language_info": {
      "name": "python"
    }
  },
  "cells": [
    {
      "cell_type": "markdown",
      "metadata": {
        "id": "view-in-github",
        "colab_type": "text"
      },
      "source": [
        "<a href=\"https://colab.research.google.com/github/santoshrsarangi/tensorflow/blob/main/NLP/RNN.ipynb\" target=\"_parent\"><img src=\"https://colab.research.google.com/assets/colab-badge.svg\" alt=\"Open In Colab\"/></a>"
      ]
    },
    {
      "cell_type": "code",
      "execution_count": 1,
      "metadata": {
        "id": "pfF47Zlq3j8A"
      },
      "outputs": [],
      "source": [
        "import tensorflow as tf\n",
        "from tensorflow import keras\n",
        "from keras import layers\n"
      ]
    },
    {
      "cell_type": "code",
      "source": [
        "from keras.layers import TextVectorization"
      ],
      "metadata": {
        "id": "rBY0vmrLtfGr"
      },
      "execution_count": 2,
      "outputs": []
    },
    {
      "cell_type": "code",
      "source": [
        "text_vectorization = TextVectorization(output_mode=\"int\")"
      ],
      "metadata": {
        "id": "Epoiuy7RtnA9"
      },
      "execution_count": 3,
      "outputs": []
    },
    {
      "cell_type": "code",
      "source": [
        "import re\n",
        "import string"
      ],
      "metadata": {
        "id": "TCRMVFARuz9E"
      },
      "execution_count": 4,
      "outputs": []
    },
    {
      "cell_type": "code",
      "source": [
        "print(string.punctuation)"
      ],
      "metadata": {
        "colab": {
          "base_uri": "https://localhost:8080/"
        },
        "id": "kBugSBl5vRj8",
        "outputId": "f19005f7-66e1-428c-f5b6-0fd77436fa79"
      },
      "execution_count": 5,
      "outputs": [
        {
          "output_type": "stream",
          "name": "stdout",
          "text": [
            "!\"#$%&'()*+,-./:;<=>?@[\\]^_`{|}~\n"
          ]
        }
      ]
    },
    {
      "cell_type": "code",
      "source": [
        "from numpy import string_\n",
        "def custom_standardization_fn(string_tensor):\n",
        "  lowercase_string = tf.strings.lower(string_tensor)\n",
        "    "
      ],
      "metadata": {
        "id": "kKEOaTSsu34F"
      },
      "execution_count": 6,
      "outputs": []
    },
    {
      "cell_type": "code",
      "source": [
        "dataset = [\n",
        "    \"hello, this, is a sample text which I'd like to test on Text Vecrotization leayer of keras. This should/, help in NLP. How?\"\n",
        "]"
      ],
      "metadata": {
        "id": "RvrDqo6IIz4t"
      },
      "execution_count": 13,
      "outputs": []
    },
    {
      "cell_type": "code",
      "source": [
        "text_vectorization.adapt(dataset)"
      ],
      "metadata": {
        "id": "EDXsDfeFJED9"
      },
      "execution_count": 14,
      "outputs": []
    },
    {
      "cell_type": "code",
      "source": [
        "vocab=text_vectorization.get_vocabulary()"
      ],
      "metadata": {
        "id": "c2AlbLGmJJX6"
      },
      "execution_count": 15,
      "outputs": []
    },
    {
      "cell_type": "code",
      "source": [
        "vocab"
      ],
      "metadata": {
        "id": "wzL6ojMjlBdT",
        "outputId": "66b8979f-b371-41dc-db1a-e401927d8cd4",
        "colab": {
          "base_uri": "https://localhost:8080/"
        }
      },
      "execution_count": 16,
      "outputs": [
        {
          "output_type": "execute_result",
          "data": {
            "text/plain": [
              "['',\n",
              " '[UNK]',\n",
              " 'this',\n",
              " 'text',\n",
              " 'which',\n",
              " 'vecrotization',\n",
              " 'to',\n",
              " 'test',\n",
              " 'should',\n",
              " 'sample',\n",
              " 'on',\n",
              " 'of',\n",
              " 'nlp',\n",
              " 'like',\n",
              " 'leayer',\n",
              " 'keras',\n",
              " 'is',\n",
              " 'in',\n",
              " 'id',\n",
              " 'how',\n",
              " 'help',\n",
              " 'hello',\n",
              " 'a']"
            ]
          },
          "metadata": {},
          "execution_count": 16
        }
      ]
    },
    {
      "cell_type": "code",
      "source": [
        "encoded_sentense = text_vectorization(\"Hello, how far have you learned NLP Text Vectorization using Keras\")"
      ],
      "metadata": {
        "id": "BehgMIR2JW3U"
      },
      "execution_count": 17,
      "outputs": []
    },
    {
      "cell_type": "code",
      "source": [
        "print(encoded_sentense)"
      ],
      "metadata": {
        "colab": {
          "base_uri": "https://localhost:8080/"
        },
        "id": "62nFOURtLqyK",
        "outputId": "69607e18-0a6a-4d92-de0e-5a9af8e04db2"
      },
      "execution_count": 12,
      "outputs": [
        {
          "output_type": "stream",
          "name": "stdout",
          "text": [
            "tf.Tensor([20  1  1  1  1  1 12  3  1  1 15], shape=(11,), dtype=int64)\n"
          ]
        }
      ]
    },
    {
      "cell_type": "code",
      "source": [
        "print(encoded_sentense)"
      ],
      "metadata": {
        "id": "5Bt0KeVrlhrx",
        "outputId": "cf28418d-79b8-46f6-bf05-287894253e3f",
        "colab": {
          "base_uri": "https://localhost:8080/"
        }
      },
      "execution_count": 18,
      "outputs": [
        {
          "output_type": "stream",
          "name": "stdout",
          "text": [
            "tf.Tensor([21 19  1  1  1  1 12  3  1  1 15], shape=(11,), dtype=int64)\n"
          ]
        }
      ]
    },
    {
      "cell_type": "code",
      "source": [
        "inverse_vocab = dict(enumerate(vocab))"
      ],
      "metadata": {
        "id": "6Dq6unsbK21x"
      },
      "execution_count": 19,
      "outputs": []
    },
    {
      "cell_type": "code",
      "source": [
        "inverse_vocab"
      ],
      "metadata": {
        "id": "G2kwnQwVlorX",
        "outputId": "0488f132-abc1-48e6-cfa9-cee39611aaf5",
        "colab": {
          "base_uri": "https://localhost:8080/"
        }
      },
      "execution_count": 20,
      "outputs": [
        {
          "output_type": "execute_result",
          "data": {
            "text/plain": [
              "{0: '',\n",
              " 1: '[UNK]',\n",
              " 2: 'this',\n",
              " 3: 'text',\n",
              " 4: 'which',\n",
              " 5: 'vecrotization',\n",
              " 6: 'to',\n",
              " 7: 'test',\n",
              " 8: 'should',\n",
              " 9: 'sample',\n",
              " 10: 'on',\n",
              " 11: 'of',\n",
              " 12: 'nlp',\n",
              " 13: 'like',\n",
              " 14: 'leayer',\n",
              " 15: 'keras',\n",
              " 16: 'is',\n",
              " 17: 'in',\n",
              " 18: 'id',\n",
              " 19: 'how',\n",
              " 20: 'help',\n",
              " 21: 'hello',\n",
              " 22: 'a'}"
            ]
          },
          "metadata": {},
          "execution_count": 20
        }
      ]
    },
    {
      "cell_type": "code",
      "source": [
        "decoded_sentense = \" \".join(inverse_vocab[int(i)] for i in encoded_sentense)"
      ],
      "metadata": {
        "id": "PYtv64ljLH2-"
      },
      "execution_count": 21,
      "outputs": []
    },
    {
      "cell_type": "code",
      "source": [
        "print(decoded_sentense)"
      ],
      "metadata": {
        "colab": {
          "base_uri": "https://localhost:8080/"
        },
        "id": "PXeqRJBVLvjV",
        "outputId": "8716fba8-ee12-4096-dcf1-4d9eadfbf02d"
      },
      "execution_count": 22,
      "outputs": [
        {
          "output_type": "stream",
          "name": "stdout",
          "text": [
            "hello how [UNK] [UNK] [UNK] [UNK] nlp text [UNK] [UNK] keras\n"
          ]
        }
      ]
    }
  ]
}