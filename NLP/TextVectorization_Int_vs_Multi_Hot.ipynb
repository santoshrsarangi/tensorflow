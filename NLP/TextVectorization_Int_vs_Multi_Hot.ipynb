{
  "nbformat": 4,
  "nbformat_minor": 0,
  "metadata": {
    "colab": {
      "provenance": [],
      "authorship_tag": "ABX9TyOJWOEcEsi0UqXz5Bxu+NqB",
      "include_colab_link": true
    },
    "kernelspec": {
      "name": "python3",
      "display_name": "Python 3"
    },
    "language_info": {
      "name": "python"
    }
  },
  "cells": [
    {
      "cell_type": "markdown",
      "metadata": {
        "id": "view-in-github",
        "colab_type": "text"
      },
      "source": [
        "<a href=\"https://colab.research.google.com/github/santoshrsarangi/tensorflow/blob/main/NLP/TextVectorization_Int_vs_Multi_Hot.ipynb\" target=\"_parent\"><img src=\"https://colab.research.google.com/assets/colab-badge.svg\" alt=\"Open In Colab\"/></a>"
      ]
    },
    {
      "cell_type": "code",
      "execution_count": 28,
      "metadata": {
        "id": "4sAlQqjqUsdK"
      },
      "outputs": [],
      "source": [
        "import tensorflow as tf\n",
        "from tensorflow import keras\n",
        "from keras.layers import TextVectorization"
      ]
    },
    {
      "cell_type": "code",
      "source": [
        "text_dataset = tf.data.Dataset.from_tensor_slices([\"foo\", \"bar\", \"baz\"])"
      ],
      "metadata": {
        "id": "uu9xdhb4U1YO"
      },
      "execution_count": 29,
      "outputs": []
    },
    {
      "cell_type": "code",
      "source": [
        "max_features = 5000"
      ],
      "metadata": {
        "id": "knmhZQMdVEDN"
      },
      "execution_count": 30,
      "outputs": []
    },
    {
      "cell_type": "code",
      "source": [
        "max_len = 4"
      ],
      "metadata": {
        "id": "h_9uSC6QVHZ_"
      },
      "execution_count": 31,
      "outputs": []
    },
    {
      "cell_type": "code",
      "source": [
        "vectorize_layer = TextVectorization(\n",
        "    max_tokens=max_features,\n",
        "    output_mode=\"int\",\n",
        "    output_sequence_length=max_len\n",
        ")"
      ],
      "metadata": {
        "id": "1TIJj2-rVL56"
      },
      "execution_count": 33,
      "outputs": []
    },
    {
      "cell_type": "code",
      "source": [
        "vectorize_layer = TextVectorization(\n",
        "    max_tokens=max_features,\n",
        "    output_mode=\"multi_hot\"\n",
        ")"
      ],
      "metadata": {
        "id": "N4tQUo0kdJBT"
      },
      "execution_count": 34,
      "outputs": []
    },
    {
      "cell_type": "code",
      "source": [
        "vectorize_layer.adapt(text_dataset.batch(64))"
      ],
      "metadata": {
        "id": "KGzsCv7XVchC"
      },
      "execution_count": 35,
      "outputs": []
    },
    {
      "cell_type": "code",
      "source": [
        "model = tf.keras.models.Sequential()"
      ],
      "metadata": {
        "id": "Qh0LH47-VjvB"
      },
      "execution_count": 36,
      "outputs": []
    },
    {
      "cell_type": "code",
      "source": [
        "model.add(tf.keras.Input(shape=(1,), dtype=tf.string))"
      ],
      "metadata": {
        "id": "PGwVGCC_Vs16"
      },
      "execution_count": 37,
      "outputs": []
    },
    {
      "cell_type": "code",
      "source": [
        "model.add(vectorize_layer)"
      ],
      "metadata": {
        "id": "m4GxdLMUV1EL"
      },
      "execution_count": 38,
      "outputs": []
    },
    {
      "cell_type": "code",
      "source": [
        "input_data = [[\"foo qux bar\"], [\"qux baz\"], [\"foo bar baz\"], [\"qux qwe baz\"], [\"hello\"]]"
      ],
      "metadata": {
        "id": "PbhgkPYHV9Rv"
      },
      "execution_count": 46,
      "outputs": []
    },
    {
      "cell_type": "code",
      "source": [
        "model.predict(input_data)"
      ],
      "metadata": {
        "colab": {
          "base_uri": "https://localhost:8080/"
        },
        "id": "8NfYNDoHWG39",
        "outputId": "4f6f839a-0458-4024-c67d-a93990d8e9af"
      },
      "execution_count": 47,
      "outputs": [
        {
          "output_type": "stream",
          "name": "stdout",
          "text": [
            "1/1 [==============================] - 0s 37ms/step\n"
          ]
        },
        {
          "output_type": "execute_result",
          "data": {
            "text/plain": [
              "array([[1., 1., 0., 1.],\n",
              "       [1., 0., 1., 0.],\n",
              "       [0., 1., 1., 1.],\n",
              "       [1., 0., 1., 0.],\n",
              "       [1., 0., 0., 0.]], dtype=float32)"
            ]
          },
          "metadata": {},
          "execution_count": 47
        }
      ]
    },
    {
      "cell_type": "code",
      "source": [
        "vocab = [\"earth\", \"wind\", \"and\", \"fire\"]"
      ],
      "metadata": {
        "id": "4FVppmi3WK1D"
      },
      "execution_count": 13,
      "outputs": []
    },
    {
      "cell_type": "code",
      "source": [
        "vectorize_layer = TextVectorization(\n",
        "    max_tokens=max_features,\n",
        "    output_mode= \"int\",\n",
        "    output_sequence_length=max_len,\n",
        "    vocabulary=vocab\n",
        ")"
      ],
      "metadata": {
        "id": "w3pcJe1bWu1m"
      },
      "execution_count": 22,
      "outputs": []
    },
    {
      "cell_type": "code",
      "source": [
        "vectorize_layer.get_vocabulary()"
      ],
      "metadata": {
        "colab": {
          "base_uri": "https://localhost:8080/"
        },
        "id": "4V2ZJLgoXBoz",
        "outputId": "bfb0a750-4e76-45c2-eb80-cf750dbee7c9"
      },
      "execution_count": 16,
      "outputs": [
        {
          "output_type": "execute_result",
          "data": {
            "text/plain": [
              "['', '[UNK]', 'earth', 'wind', 'and', 'fire']"
            ]
          },
          "metadata": {},
          "execution_count": 16
        }
      ]
    },
    {
      "cell_type": "code",
      "source": [
        "vectorize_layer.get_vocabulary()"
      ],
      "metadata": {
        "colab": {
          "base_uri": "https://localhost:8080/"
        },
        "id": "VN4-m36YXKH9",
        "outputId": "172736d2-bea8-4dfd-dda8-84c38b6d465e"
      },
      "execution_count": 43,
      "outputs": [
        {
          "output_type": "execute_result",
          "data": {
            "text/plain": [
              "['[UNK]', 'foo', 'baz', 'bar']"
            ]
          },
          "metadata": {},
          "execution_count": 43
        }
      ]
    }
  ]
}