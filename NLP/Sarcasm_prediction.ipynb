{
  "nbformat": 4,
  "nbformat_minor": 0,
  "metadata": {
    "colab": {
      "provenance": [],
      "authorship_tag": "ABX9TyNFWIEBvMgq+2jRNUlhy38e",
      "include_colab_link": true
    },
    "kernelspec": {
      "name": "python3",
      "display_name": "Python 3"
    },
    "language_info": {
      "name": "python"
    }
  },
  "cells": [
    {
      "cell_type": "markdown",
      "metadata": {
        "id": "view-in-github",
        "colab_type": "text"
      },
      "source": [
        "<a href=\"https://colab.research.google.com/github/santoshrsarangi/tensorflow/blob/main/NLP/Sarcasm_prediction.ipynb\" target=\"_parent\"><img src=\"https://colab.research.google.com/assets/colab-badge.svg\" alt=\"Open In Colab\"/></a>"
      ]
    },
    {
      "cell_type": "code",
      "execution_count": 1,
      "metadata": {
        "id": "3fyxwmRsn0WN"
      },
      "outputs": [],
      "source": [
        "import json\n",
        "import tensorflow as tf\n",
        "from tensorflow import keras\n",
        "import numpy as np\n",
        "import urllib\n",
        "\n"
      ]
    },
    {
      "cell_type": "code",
      "source": [
        "url = 'https://storage.googleapis.com/download.tensorflow.org/data/sarcasm.json'\n",
        "urllib.request.urlretrieve(url, 'sarcasm.json')"
      ],
      "metadata": {
        "colab": {
          "base_uri": "https://localhost:8080/"
        },
        "id": "faKiankxn5oc",
        "outputId": "ec57840e-cb68-4d1a-c9a4-7cec86bd975e"
      },
      "execution_count": 2,
      "outputs": [
        {
          "output_type": "execute_result",
          "data": {
            "text/plain": [
              "('sarcasm.json', <http.client.HTTPMessage at 0x7f75323be410>)"
            ]
          },
          "metadata": {},
          "execution_count": 2
        }
      ]
    },
    {
      "cell_type": "code",
      "source": [
        "vocab_size = 1000\n",
        "embedding_dim = 16\n",
        "max_length = 120\n",
        "trunc_type='post'\n",
        "padding_type='post'\n",
        "oov_tok = \"<OOV>\"\n",
        "\n",
        "sentences = []\n",
        "labels = []"
      ],
      "metadata": {
        "id": "cuWAuFiYn87T"
      },
      "execution_count": 3,
      "outputs": []
    },
    {
      "cell_type": "code",
      "source": [
        "import pandas as pd\n",
        "\n",
        "df = pd.read_json('sarcasm.json')\n"
      ],
      "metadata": {
        "id": "Nq5ljhIxpYkf"
      },
      "execution_count": 4,
      "outputs": []
    },
    {
      "cell_type": "code",
      "source": [
        "df.head()"
      ],
      "metadata": {
        "colab": {
          "base_uri": "https://localhost:8080/",
          "height": 221
        },
        "id": "uwA4l-C1ppVE",
        "outputId": "d0f73dd9-8370-4990-c38e-045f58642999"
      },
      "execution_count": 5,
      "outputs": [
        {
          "output_type": "execute_result",
          "data": {
            "text/plain": [
              "                                        article_link  \\\n",
              "0  https://www.huffingtonpost.com/entry/versace-b...   \n",
              "1  https://www.huffingtonpost.com/entry/roseanne-...   \n",
              "2  https://local.theonion.com/mom-starting-to-fea...   \n",
              "3  https://politics.theonion.com/boehner-just-wan...   \n",
              "4  https://www.huffingtonpost.com/entry/jk-rowlin...   \n",
              "\n",
              "                                            headline  is_sarcastic  \n",
              "0  former versace store clerk sues over secret 'b...             0  \n",
              "1  the 'roseanne' revival catches up to our thorn...             0  \n",
              "2  mom starting to fear son's web series closest ...             1  \n",
              "3  boehner just wants wife to listen, not come up...             1  \n",
              "4  j.k. rowling wishes snape happy birthday in th...             0  "
            ],
            "text/html": [
              "\n",
              "  <div id=\"df-2e588bdf-79d5-4f03-8ac2-c602efac51ee\">\n",
              "    <div class=\"colab-df-container\">\n",
              "      <div>\n",
              "<style scoped>\n",
              "    .dataframe tbody tr th:only-of-type {\n",
              "        vertical-align: middle;\n",
              "    }\n",
              "\n",
              "    .dataframe tbody tr th {\n",
              "        vertical-align: top;\n",
              "    }\n",
              "\n",
              "    .dataframe thead th {\n",
              "        text-align: right;\n",
              "    }\n",
              "</style>\n",
              "<table border=\"1\" class=\"dataframe\">\n",
              "  <thead>\n",
              "    <tr style=\"text-align: right;\">\n",
              "      <th></th>\n",
              "      <th>article_link</th>\n",
              "      <th>headline</th>\n",
              "      <th>is_sarcastic</th>\n",
              "    </tr>\n",
              "  </thead>\n",
              "  <tbody>\n",
              "    <tr>\n",
              "      <th>0</th>\n",
              "      <td>https://www.huffingtonpost.com/entry/versace-b...</td>\n",
              "      <td>former versace store clerk sues over secret 'b...</td>\n",
              "      <td>0</td>\n",
              "    </tr>\n",
              "    <tr>\n",
              "      <th>1</th>\n",
              "      <td>https://www.huffingtonpost.com/entry/roseanne-...</td>\n",
              "      <td>the 'roseanne' revival catches up to our thorn...</td>\n",
              "      <td>0</td>\n",
              "    </tr>\n",
              "    <tr>\n",
              "      <th>2</th>\n",
              "      <td>https://local.theonion.com/mom-starting-to-fea...</td>\n",
              "      <td>mom starting to fear son's web series closest ...</td>\n",
              "      <td>1</td>\n",
              "    </tr>\n",
              "    <tr>\n",
              "      <th>3</th>\n",
              "      <td>https://politics.theonion.com/boehner-just-wan...</td>\n",
              "      <td>boehner just wants wife to listen, not come up...</td>\n",
              "      <td>1</td>\n",
              "    </tr>\n",
              "    <tr>\n",
              "      <th>4</th>\n",
              "      <td>https://www.huffingtonpost.com/entry/jk-rowlin...</td>\n",
              "      <td>j.k. rowling wishes snape happy birthday in th...</td>\n",
              "      <td>0</td>\n",
              "    </tr>\n",
              "  </tbody>\n",
              "</table>\n",
              "</div>\n",
              "      <button class=\"colab-df-convert\" onclick=\"convertToInteractive('df-2e588bdf-79d5-4f03-8ac2-c602efac51ee')\"\n",
              "              title=\"Convert this dataframe to an interactive table.\"\n",
              "              style=\"display:none;\">\n",
              "        \n",
              "  <svg xmlns=\"http://www.w3.org/2000/svg\" height=\"24px\"viewBox=\"0 0 24 24\"\n",
              "       width=\"24px\">\n",
              "    <path d=\"M0 0h24v24H0V0z\" fill=\"none\"/>\n",
              "    <path d=\"M18.56 5.44l.94 2.06.94-2.06 2.06-.94-2.06-.94-.94-2.06-.94 2.06-2.06.94zm-11 1L8.5 8.5l.94-2.06 2.06-.94-2.06-.94L8.5 2.5l-.94 2.06-2.06.94zm10 10l.94 2.06.94-2.06 2.06-.94-2.06-.94-.94-2.06-.94 2.06-2.06.94z\"/><path d=\"M17.41 7.96l-1.37-1.37c-.4-.4-.92-.59-1.43-.59-.52 0-1.04.2-1.43.59L10.3 9.45l-7.72 7.72c-.78.78-.78 2.05 0 2.83L4 21.41c.39.39.9.59 1.41.59.51 0 1.02-.2 1.41-.59l7.78-7.78 2.81-2.81c.8-.78.8-2.07 0-2.86zM5.41 20L4 18.59l7.72-7.72 1.47 1.35L5.41 20z\"/>\n",
              "  </svg>\n",
              "      </button>\n",
              "      \n",
              "  <style>\n",
              "    .colab-df-container {\n",
              "      display:flex;\n",
              "      flex-wrap:wrap;\n",
              "      gap: 12px;\n",
              "    }\n",
              "\n",
              "    .colab-df-convert {\n",
              "      background-color: #E8F0FE;\n",
              "      border: none;\n",
              "      border-radius: 50%;\n",
              "      cursor: pointer;\n",
              "      display: none;\n",
              "      fill: #1967D2;\n",
              "      height: 32px;\n",
              "      padding: 0 0 0 0;\n",
              "      width: 32px;\n",
              "    }\n",
              "\n",
              "    .colab-df-convert:hover {\n",
              "      background-color: #E2EBFA;\n",
              "      box-shadow: 0px 1px 2px rgba(60, 64, 67, 0.3), 0px 1px 3px 1px rgba(60, 64, 67, 0.15);\n",
              "      fill: #174EA6;\n",
              "    }\n",
              "\n",
              "    [theme=dark] .colab-df-convert {\n",
              "      background-color: #3B4455;\n",
              "      fill: #D2E3FC;\n",
              "    }\n",
              "\n",
              "    [theme=dark] .colab-df-convert:hover {\n",
              "      background-color: #434B5C;\n",
              "      box-shadow: 0px 1px 3px 1px rgba(0, 0, 0, 0.15);\n",
              "      filter: drop-shadow(0px 1px 2px rgba(0, 0, 0, 0.3));\n",
              "      fill: #FFFFFF;\n",
              "    }\n",
              "  </style>\n",
              "\n",
              "      <script>\n",
              "        const buttonEl =\n",
              "          document.querySelector('#df-2e588bdf-79d5-4f03-8ac2-c602efac51ee button.colab-df-convert');\n",
              "        buttonEl.style.display =\n",
              "          google.colab.kernel.accessAllowed ? 'block' : 'none';\n",
              "\n",
              "        async function convertToInteractive(key) {\n",
              "          const element = document.querySelector('#df-2e588bdf-79d5-4f03-8ac2-c602efac51ee');\n",
              "          const dataTable =\n",
              "            await google.colab.kernel.invokeFunction('convertToInteractive',\n",
              "                                                     [key], {});\n",
              "          if (!dataTable) return;\n",
              "\n",
              "          const docLinkHtml = 'Like what you see? Visit the ' +\n",
              "            '<a target=\"_blank\" href=https://colab.research.google.com/notebooks/data_table.ipynb>data table notebook</a>'\n",
              "            + ' to learn more about interactive tables.';\n",
              "          element.innerHTML = '';\n",
              "          dataTable['output_type'] = 'display_data';\n",
              "          await google.colab.output.renderOutput(dataTable, element);\n",
              "          const docLink = document.createElement('div');\n",
              "          docLink.innerHTML = docLinkHtml;\n",
              "          element.appendChild(docLink);\n",
              "        }\n",
              "      </script>\n",
              "    </div>\n",
              "  </div>\n",
              "  "
            ]
          },
          "metadata": {},
          "execution_count": 5
        }
      ]
    },
    {
      "cell_type": "code",
      "source": [
        "sentences=list(df['headline'])\n",
        "labels=list(df['is_sarcastic'])"
      ],
      "metadata": {
        "id": "R7gZ2qbCrGns"
      },
      "execution_count": 6,
      "outputs": []
    },
    {
      "cell_type": "code",
      "source": [
        "len(sentences)"
      ],
      "metadata": {
        "colab": {
          "base_uri": "https://localhost:8080/"
        },
        "id": "U4Jjc2rdrJcz",
        "outputId": "54b5fb8f-517f-4f88-8f09-068449191f84"
      },
      "execution_count": 7,
      "outputs": [
        {
          "output_type": "execute_result",
          "data": {
            "text/plain": [
              "26709"
            ]
          },
          "metadata": {},
          "execution_count": 7
        }
      ]
    },
    {
      "cell_type": "code",
      "source": [
        "training_size=int(len(sentences) * 0.7)"
      ],
      "metadata": {
        "id": "nCmCYusJrTDN"
      },
      "execution_count": 46,
      "outputs": []
    },
    {
      "cell_type": "code",
      "source": [
        "training_size"
      ],
      "metadata": {
        "colab": {
          "base_uri": "https://localhost:8080/"
        },
        "id": "YdMl_Iq8hu_6",
        "outputId": "ee790617-5e4c-4fcd-d2c9-fdf08d514302"
      },
      "execution_count": 47,
      "outputs": [
        {
          "output_type": "execute_result",
          "data": {
            "text/plain": [
              "18696"
            ]
          },
          "metadata": {},
          "execution_count": 47
        }
      ]
    },
    {
      "cell_type": "code",
      "source": [
        "testing_size = int(len(sentences) * 0.15)"
      ],
      "metadata": {
        "id": "X7xGqcIYh7-W"
      },
      "execution_count": 48,
      "outputs": []
    },
    {
      "cell_type": "code",
      "source": [
        "training_sentences= sentences[:training_size]\n",
        "training_labels = labels[:training_size]\n",
        "\n",
        "val_sentences= sentences[training_size : len(sentences) - testing_size]\n",
        "val_labels = labels[training_size : len(sentences) - testing_size]\n",
        "\n",
        "test_sentences = sentences[-testing_size:]\n",
        "test_labels = labels[-testing_size:]"
      ],
      "metadata": {
        "id": "pozHN2ztrbak"
      },
      "execution_count": 49,
      "outputs": []
    },
    {
      "cell_type": "code",
      "source": [
        "from keras.layers import TextVectorization"
      ],
      "metadata": {
        "id": "qZ9Oxk-x4RMm"
      },
      "execution_count": 10,
      "outputs": []
    },
    {
      "cell_type": "code",
      "source": [
        "text_vectorization = TextVectorization(output_mode=\"int\", max_tokens=vocab_size, output_sequence_length=max_length)"
      ],
      "metadata": {
        "id": "xRQ0QuwJ4vkT"
      },
      "execution_count": 11,
      "outputs": []
    },
    {
      "cell_type": "code",
      "source": [
        "text_vectorization.adapt(training_sentences)"
      ],
      "metadata": {
        "id": "em5LkLIj48-M"
      },
      "execution_count": 12,
      "outputs": []
    },
    {
      "cell_type": "code",
      "source": [
        "vec_train_sentences = text_vectorization(training_sentences)"
      ],
      "metadata": {
        "id": "tx-_WQnhH73q"
      },
      "execution_count": 13,
      "outputs": []
    },
    {
      "cell_type": "code",
      "source": [
        "vec_val_sentences = text_vectorization(training_sentences)"
      ],
      "metadata": {
        "id": "-3DE-PDmi-_e"
      },
      "execution_count": null,
      "outputs": []
    },
    {
      "cell_type": "code",
      "source": [
        "vec_test_sentences = text_vectorization(test_sentences)"
      ],
      "metadata": {
        "id": "dtgEYboXIDmc"
      },
      "execution_count": 15,
      "outputs": []
    },
    {
      "cell_type": "code",
      "source": [
        "model = tf.keras.Sequential([\n",
        "    tf.keras.layers.Embedding(vocab_size, embedding_dim, input_length=max_length),\n",
        "    tf.keras.layers.Bidirectional(keras.layers.LSTM(32)),\n",
        "    tf.keras.layers.Dense(120, activation='relu'),\n",
        "    tf.keras.layers.Dense(1, activation='sigmoid')\n",
        "])\n",
        "model.compile(loss='binary_crossentropy',optimizer='adam',metrics=['accuracy'])"
      ],
      "metadata": {
        "id": "HIfWoqrduSUk"
      },
      "execution_count": 36,
      "outputs": []
    },
    {
      "cell_type": "code",
      "source": [
        "model.summary()"
      ],
      "metadata": {
        "colab": {
          "base_uri": "https://localhost:8080/"
        },
        "id": "3HvQN1DD5XPt",
        "outputId": "cb574126-eb24-4aec-8efe-60508fe0d1ea"
      },
      "execution_count": 37,
      "outputs": [
        {
          "output_type": "stream",
          "name": "stdout",
          "text": [
            "Model: \"sequential_2\"\n",
            "_________________________________________________________________\n",
            " Layer (type)                Output Shape              Param #   \n",
            "=================================================================\n",
            " embedding_2 (Embedding)     (None, 120, 16)           16000     \n",
            "                                                                 \n",
            " bidirectional (Bidirectiona  (None, 64)               12544     \n",
            " l)                                                              \n",
            "                                                                 \n",
            " dense_4 (Dense)             (None, 120)               7800      \n",
            "                                                                 \n",
            " dense_5 (Dense)             (None, 1)                 121       \n",
            "                                                                 \n",
            "=================================================================\n",
            "Total params: 36,465\n",
            "Trainable params: 36,465\n",
            "Non-trainable params: 0\n",
            "_________________________________________________________________\n"
          ]
        }
      ]
    },
    {
      "cell_type": "code",
      "source": [
        "callbacks = [\n",
        "    keras.callbacks.ModelCheckpoint(\"1.h5\", save_best_only=True)\n",
        "]"
      ],
      "metadata": {
        "id": "gfhj4lkb5awe"
      },
      "execution_count": 18,
      "outputs": []
    },
    {
      "cell_type": "code",
      "source": [
        "history = model.fit(vec_train_sentences, np.array(training_labels),\n",
        "                    validation_data = (vec_val_sentences, np.array(val_labels)),\n",
        "                    callbacks=callbacks,\n",
        "                    epochs=32)"
      ],
      "metadata": {
        "colab": {
          "base_uri": "https://localhost:8080/"
        },
        "id": "ljU_u-VP5gr7",
        "outputId": "267f69ca-ffd2-4afa-9fca-899112e4b816"
      },
      "execution_count": 38,
      "outputs": [
        {
          "output_type": "stream",
          "name": "stdout",
          "text": [
            "Epoch 1/32\n",
            "625/625 [==============================] - 31s 45ms/step - loss: 0.4799 - accuracy: 0.7667 - val_loss: 0.6197 - val_accuracy: 0.5892\n",
            "Epoch 2/32\n",
            "625/625 [==============================] - 27s 43ms/step - loss: 0.3841 - accuracy: 0.8238 - val_loss: 0.3907 - val_accuracy: 0.8243\n",
            "Epoch 3/32\n",
            "625/625 [==============================] - 28s 46ms/step - loss: 0.3404 - accuracy: 0.8469 - val_loss: 0.3734 - val_accuracy: 0.8308\n",
            "Epoch 4/32\n",
            "625/625 [==============================] - 30s 48ms/step - loss: 0.3215 - accuracy: 0.8566 - val_loss: 0.3861 - val_accuracy: 0.8274\n",
            "Epoch 5/32\n",
            "625/625 [==============================] - 26s 42ms/step - loss: 0.3133 - accuracy: 0.8613 - val_loss: 0.3862 - val_accuracy: 0.8314\n",
            "Epoch 6/32\n",
            "625/625 [==============================] - 28s 44ms/step - loss: 0.3017 - accuracy: 0.8677 - val_loss: 0.3759 - val_accuracy: 0.8325\n",
            "Epoch 7/32\n",
            "625/625 [==============================] - 27s 43ms/step - loss: 0.2918 - accuracy: 0.8713 - val_loss: 0.3819 - val_accuracy: 0.8326\n",
            "Epoch 8/32\n",
            "625/625 [==============================] - 27s 43ms/step - loss: 0.2849 - accuracy: 0.8759 - val_loss: 0.3858 - val_accuracy: 0.8280\n",
            "Epoch 9/32\n",
            "625/625 [==============================] - 27s 43ms/step - loss: 0.2768 - accuracy: 0.8791 - val_loss: 0.3882 - val_accuracy: 0.8280\n",
            "Epoch 10/32\n",
            "625/625 [==============================] - 27s 43ms/step - loss: 0.2682 - accuracy: 0.8840 - val_loss: 0.3899 - val_accuracy: 0.8278\n",
            "Epoch 11/32\n",
            "625/625 [==============================] - 27s 43ms/step - loss: 0.2614 - accuracy: 0.8874 - val_loss: 0.3983 - val_accuracy: 0.8287\n",
            "Epoch 12/32\n",
            "625/625 [==============================] - 27s 43ms/step - loss: 0.2513 - accuracy: 0.8913 - val_loss: 0.4282 - val_accuracy: 0.8259\n",
            "Epoch 13/32\n",
            "625/625 [==============================] - 27s 43ms/step - loss: 0.2428 - accuracy: 0.8947 - val_loss: 0.4326 - val_accuracy: 0.8247\n",
            "Epoch 14/32\n",
            "625/625 [==============================] - 26s 42ms/step - loss: 0.2332 - accuracy: 0.9025 - val_loss: 0.4457 - val_accuracy: 0.8216\n",
            "Epoch 15/32\n",
            "625/625 [==============================] - 27s 44ms/step - loss: 0.2256 - accuracy: 0.9021 - val_loss: 0.4528 - val_accuracy: 0.8210\n",
            "Epoch 16/32\n",
            "625/625 [==============================] - 27s 43ms/step - loss: 0.2144 - accuracy: 0.9068 - val_loss: 0.5098 - val_accuracy: 0.8235\n",
            "Epoch 17/32\n",
            "625/625 [==============================] - 27s 43ms/step - loss: 0.2052 - accuracy: 0.9111 - val_loss: 0.5452 - val_accuracy: 0.8264\n",
            "Epoch 18/32\n",
            "625/625 [==============================] - 26s 42ms/step - loss: 0.1960 - accuracy: 0.9143 - val_loss: 0.5727 - val_accuracy: 0.8213\n",
            "Epoch 19/32\n",
            "625/625 [==============================] - 26s 42ms/step - loss: 0.1861 - accuracy: 0.9199 - val_loss: 0.5909 - val_accuracy: 0.8213\n",
            "Epoch 20/32\n",
            "625/625 [==============================] - 27s 43ms/step - loss: 0.1761 - accuracy: 0.9230 - val_loss: 0.6128 - val_accuracy: 0.8173\n",
            "Epoch 21/32\n",
            "625/625 [==============================] - 26s 42ms/step - loss: 0.1683 - accuracy: 0.9266 - val_loss: 0.6700 - val_accuracy: 0.8109\n",
            "Epoch 22/32\n",
            "625/625 [==============================] - 27s 42ms/step - loss: 0.1615 - accuracy: 0.9287 - val_loss: 0.7676 - val_accuracy: 0.8114\n",
            "Epoch 23/32\n",
            "625/625 [==============================] - 26s 42ms/step - loss: 0.1567 - accuracy: 0.9307 - val_loss: 0.8061 - val_accuracy: 0.8129\n",
            "Epoch 24/32\n",
            "625/625 [==============================] - 28s 45ms/step - loss: 0.1480 - accuracy: 0.9326 - val_loss: 0.8090 - val_accuracy: 0.8073\n",
            "Epoch 25/32\n",
            "625/625 [==============================] - 26s 42ms/step - loss: 0.1409 - accuracy: 0.9361 - val_loss: 0.8986 - val_accuracy: 0.8126\n",
            "Epoch 26/32\n",
            "625/625 [==============================] - 26s 42ms/step - loss: 0.1336 - accuracy: 0.9403 - val_loss: 0.8842 - val_accuracy: 0.8111\n",
            "Epoch 27/32\n",
            "625/625 [==============================] - 26s 42ms/step - loss: 0.1312 - accuracy: 0.9430 - val_loss: 0.9796 - val_accuracy: 0.8098\n",
            "Epoch 28/32\n",
            "625/625 [==============================] - 27s 43ms/step - loss: 0.1243 - accuracy: 0.9438 - val_loss: 0.9876 - val_accuracy: 0.8068\n",
            "Epoch 29/32\n",
            "625/625 [==============================] - 26s 42ms/step - loss: 0.1204 - accuracy: 0.9452 - val_loss: 1.0925 - val_accuracy: 0.8061\n",
            "Epoch 30/32\n",
            "625/625 [==============================] - 26s 42ms/step - loss: 0.1145 - accuracy: 0.9481 - val_loss: 1.1782 - val_accuracy: 0.8037\n",
            "Epoch 31/32\n",
            "625/625 [==============================] - 26s 42ms/step - loss: 0.1064 - accuracy: 0.9521 - val_loss: 1.2700 - val_accuracy: 0.8025\n",
            "Epoch 32/32\n",
            "625/625 [==============================] - 26s 42ms/step - loss: 0.1051 - accuracy: 0.9529 - val_loss: 1.1759 - val_accuracy: 0.7948\n"
          ]
        }
      ]
    },
    {
      "cell_type": "code",
      "source": [
        "print(model.predict(text_vectorization([\"dont See the news tonight\"])))"
      ],
      "metadata": {
        "colab": {
          "base_uri": "https://localhost:8080/"
        },
        "id": "_mgWTt1zKAeK",
        "outputId": "1b6085c1-0685-4817-e95a-6d791434eeb6"
      },
      "execution_count": 45,
      "outputs": [
        {
          "output_type": "stream",
          "name": "stdout",
          "text": [
            "1/1 [==============================] - 0s 19ms/step\n",
            "[[6.0186755e-07]]\n"
          ]
        }
      ]
    },
    {
      "cell_type": "code",
      "source": [],
      "metadata": {
        "id": "iM7VeLhCKzPo"
      },
      "execution_count": null,
      "outputs": []
    }
  ]
}