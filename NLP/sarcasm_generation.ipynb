{
  "nbformat": 4,
  "nbformat_minor": 0,
  "metadata": {
    "colab": {
      "provenance": [],
      "gpuType": "T4",
      "authorship_tag": "ABX9TyOlHmo6/dC/UZq1iBr9+oQ4",
      "include_colab_link": true
    },
    "kernelspec": {
      "name": "python3",
      "display_name": "Python 3"
    },
    "language_info": {
      "name": "python"
    },
    "accelerator": "GPU"
  },
  "cells": [
    {
      "cell_type": "markdown",
      "metadata": {
        "id": "view-in-github",
        "colab_type": "text"
      },
      "source": [
        "<a href=\"https://colab.research.google.com/github/santoshrsarangi/tensorflow/blob/main/NLP/sarcasm_generation.ipynb\" target=\"_parent\"><img src=\"https://colab.research.google.com/assets/colab-badge.svg\" alt=\"Open In Colab\"/></a>"
      ]
    },
    {
      "cell_type": "code",
      "execution_count": null,
      "metadata": {
        "id": "3fyxwmRsn0WN"
      },
      "outputs": [],
      "source": [
        "import json\n",
        "import tensorflow as tf\n",
        "from tensorflow import keras\n",
        "import numpy as np\n",
        "import urllib\n",
        "\n"
      ]
    },
    {
      "cell_type": "code",
      "source": [
        "url = 'https://storage.googleapis.com/download.tensorflow.org/data/sarcasm.json'\n",
        "urllib.request.urlretrieve(url, 'sarcasm.json')"
      ],
      "metadata": {
        "colab": {
          "base_uri": "https://localhost:8080/"
        },
        "id": "faKiankxn5oc",
        "outputId": "aefa955c-e339-42a8-f717-e502126a2603"
      },
      "execution_count": null,
      "outputs": [
        {
          "output_type": "execute_result",
          "data": {
            "text/plain": [
              "('sarcasm.json', <http.client.HTTPMessage at 0x7f41733d6ec0>)"
            ]
          },
          "metadata": {},
          "execution_count": 2
        }
      ]
    },
    {
      "cell_type": "code",
      "source": [
        "vocab_size = 1000\n",
        "embedding_dim = 16\n",
        "max_length = 120\n",
        "trunc_type='post'\n",
        "padding_type='post'\n",
        "oov_tok = \"<OOV>\"\n",
        "\n",
        "sentences = []\n",
        "labels = []"
      ],
      "metadata": {
        "id": "cuWAuFiYn87T"
      },
      "execution_count": null,
      "outputs": []
    },
    {
      "cell_type": "code",
      "source": [
        "import pandas as pd\n",
        "\n",
        "df = pd.read_json('sarcasm.json')\n"
      ],
      "metadata": {
        "id": "Nq5ljhIxpYkf"
      },
      "execution_count": null,
      "outputs": []
    },
    {
      "cell_type": "code",
      "source": [
        "df.head()"
      ],
      "metadata": {
        "colab": {
          "base_uri": "https://localhost:8080/",
          "height": 221
        },
        "id": "uwA4l-C1ppVE",
        "outputId": "00b40c0a-01c6-4d79-ca4b-eddddce38ffc"
      },
      "execution_count": null,
      "outputs": [
        {
          "output_type": "execute_result",
          "data": {
            "text/plain": [
              "                                        article_link  \\\n",
              "0  https://www.huffingtonpost.com/entry/versace-b...   \n",
              "1  https://www.huffingtonpost.com/entry/roseanne-...   \n",
              "2  https://local.theonion.com/mom-starting-to-fea...   \n",
              "3  https://politics.theonion.com/boehner-just-wan...   \n",
              "4  https://www.huffingtonpost.com/entry/jk-rowlin...   \n",
              "\n",
              "                                            headline  is_sarcastic  \n",
              "0  former versace store clerk sues over secret 'b...             0  \n",
              "1  the 'roseanne' revival catches up to our thorn...             0  \n",
              "2  mom starting to fear son's web series closest ...             1  \n",
              "3  boehner just wants wife to listen, not come up...             1  \n",
              "4  j.k. rowling wishes snape happy birthday in th...             0  "
            ],
            "text/html": [
              "\n",
              "  <div id=\"df-bc5dfff4-be56-4d30-9737-25b7a889787a\">\n",
              "    <div class=\"colab-df-container\">\n",
              "      <div>\n",
              "<style scoped>\n",
              "    .dataframe tbody tr th:only-of-type {\n",
              "        vertical-align: middle;\n",
              "    }\n",
              "\n",
              "    .dataframe tbody tr th {\n",
              "        vertical-align: top;\n",
              "    }\n",
              "\n",
              "    .dataframe thead th {\n",
              "        text-align: right;\n",
              "    }\n",
              "</style>\n",
              "<table border=\"1\" class=\"dataframe\">\n",
              "  <thead>\n",
              "    <tr style=\"text-align: right;\">\n",
              "      <th></th>\n",
              "      <th>article_link</th>\n",
              "      <th>headline</th>\n",
              "      <th>is_sarcastic</th>\n",
              "    </tr>\n",
              "  </thead>\n",
              "  <tbody>\n",
              "    <tr>\n",
              "      <th>0</th>\n",
              "      <td>https://www.huffingtonpost.com/entry/versace-b...</td>\n",
              "      <td>former versace store clerk sues over secret 'b...</td>\n",
              "      <td>0</td>\n",
              "    </tr>\n",
              "    <tr>\n",
              "      <th>1</th>\n",
              "      <td>https://www.huffingtonpost.com/entry/roseanne-...</td>\n",
              "      <td>the 'roseanne' revival catches up to our thorn...</td>\n",
              "      <td>0</td>\n",
              "    </tr>\n",
              "    <tr>\n",
              "      <th>2</th>\n",
              "      <td>https://local.theonion.com/mom-starting-to-fea...</td>\n",
              "      <td>mom starting to fear son's web series closest ...</td>\n",
              "      <td>1</td>\n",
              "    </tr>\n",
              "    <tr>\n",
              "      <th>3</th>\n",
              "      <td>https://politics.theonion.com/boehner-just-wan...</td>\n",
              "      <td>boehner just wants wife to listen, not come up...</td>\n",
              "      <td>1</td>\n",
              "    </tr>\n",
              "    <tr>\n",
              "      <th>4</th>\n",
              "      <td>https://www.huffingtonpost.com/entry/jk-rowlin...</td>\n",
              "      <td>j.k. rowling wishes snape happy birthday in th...</td>\n",
              "      <td>0</td>\n",
              "    </tr>\n",
              "  </tbody>\n",
              "</table>\n",
              "</div>\n",
              "      <button class=\"colab-df-convert\" onclick=\"convertToInteractive('df-bc5dfff4-be56-4d30-9737-25b7a889787a')\"\n",
              "              title=\"Convert this dataframe to an interactive table.\"\n",
              "              style=\"display:none;\">\n",
              "        \n",
              "  <svg xmlns=\"http://www.w3.org/2000/svg\" height=\"24px\"viewBox=\"0 0 24 24\"\n",
              "       width=\"24px\">\n",
              "    <path d=\"M0 0h24v24H0V0z\" fill=\"none\"/>\n",
              "    <path d=\"M18.56 5.44l.94 2.06.94-2.06 2.06-.94-2.06-.94-.94-2.06-.94 2.06-2.06.94zm-11 1L8.5 8.5l.94-2.06 2.06-.94-2.06-.94L8.5 2.5l-.94 2.06-2.06.94zm10 10l.94 2.06.94-2.06 2.06-.94-2.06-.94-.94-2.06-.94 2.06-2.06.94z\"/><path d=\"M17.41 7.96l-1.37-1.37c-.4-.4-.92-.59-1.43-.59-.52 0-1.04.2-1.43.59L10.3 9.45l-7.72 7.72c-.78.78-.78 2.05 0 2.83L4 21.41c.39.39.9.59 1.41.59.51 0 1.02-.2 1.41-.59l7.78-7.78 2.81-2.81c.8-.78.8-2.07 0-2.86zM5.41 20L4 18.59l7.72-7.72 1.47 1.35L5.41 20z\"/>\n",
              "  </svg>\n",
              "      </button>\n",
              "      \n",
              "  <style>\n",
              "    .colab-df-container {\n",
              "      display:flex;\n",
              "      flex-wrap:wrap;\n",
              "      gap: 12px;\n",
              "    }\n",
              "\n",
              "    .colab-df-convert {\n",
              "      background-color: #E8F0FE;\n",
              "      border: none;\n",
              "      border-radius: 50%;\n",
              "      cursor: pointer;\n",
              "      display: none;\n",
              "      fill: #1967D2;\n",
              "      height: 32px;\n",
              "      padding: 0 0 0 0;\n",
              "      width: 32px;\n",
              "    }\n",
              "\n",
              "    .colab-df-convert:hover {\n",
              "      background-color: #E2EBFA;\n",
              "      box-shadow: 0px 1px 2px rgba(60, 64, 67, 0.3), 0px 1px 3px 1px rgba(60, 64, 67, 0.15);\n",
              "      fill: #174EA6;\n",
              "    }\n",
              "\n",
              "    [theme=dark] .colab-df-convert {\n",
              "      background-color: #3B4455;\n",
              "      fill: #D2E3FC;\n",
              "    }\n",
              "\n",
              "    [theme=dark] .colab-df-convert:hover {\n",
              "      background-color: #434B5C;\n",
              "      box-shadow: 0px 1px 3px 1px rgba(0, 0, 0, 0.15);\n",
              "      filter: drop-shadow(0px 1px 2px rgba(0, 0, 0, 0.3));\n",
              "      fill: #FFFFFF;\n",
              "    }\n",
              "  </style>\n",
              "\n",
              "      <script>\n",
              "        const buttonEl =\n",
              "          document.querySelector('#df-bc5dfff4-be56-4d30-9737-25b7a889787a button.colab-df-convert');\n",
              "        buttonEl.style.display =\n",
              "          google.colab.kernel.accessAllowed ? 'block' : 'none';\n",
              "\n",
              "        async function convertToInteractive(key) {\n",
              "          const element = document.querySelector('#df-bc5dfff4-be56-4d30-9737-25b7a889787a');\n",
              "          const dataTable =\n",
              "            await google.colab.kernel.invokeFunction('convertToInteractive',\n",
              "                                                     [key], {});\n",
              "          if (!dataTable) return;\n",
              "\n",
              "          const docLinkHtml = 'Like what you see? Visit the ' +\n",
              "            '<a target=\"_blank\" href=https://colab.research.google.com/notebooks/data_table.ipynb>data table notebook</a>'\n",
              "            + ' to learn more about interactive tables.';\n",
              "          element.innerHTML = '';\n",
              "          dataTable['output_type'] = 'display_data';\n",
              "          await google.colab.output.renderOutput(dataTable, element);\n",
              "          const docLink = document.createElement('div');\n",
              "          docLink.innerHTML = docLinkHtml;\n",
              "          element.appendChild(docLink);\n",
              "        }\n",
              "      </script>\n",
              "    </div>\n",
              "  </div>\n",
              "  "
            ]
          },
          "metadata": {},
          "execution_count": 5
        }
      ]
    },
    {
      "cell_type": "code",
      "source": [
        "sentences=list(df['headline'])\n",
        "labels=list(df['is_sarcastic'])"
      ],
      "metadata": {
        "id": "R7gZ2qbCrGns"
      },
      "execution_count": null,
      "outputs": []
    },
    {
      "cell_type": "code",
      "source": [
        "len(sentences)"
      ],
      "metadata": {
        "colab": {
          "base_uri": "https://localhost:8080/"
        },
        "id": "U4Jjc2rdrJcz",
        "outputId": "7fc4cc8a-df99-44e7-8868-e730411648e8"
      },
      "execution_count": null,
      "outputs": [
        {
          "output_type": "execute_result",
          "data": {
            "text/plain": [
              "26709"
            ]
          },
          "metadata": {},
          "execution_count": 7
        }
      ]
    },
    {
      "cell_type": "code",
      "source": [
        "training_size=int(len(sentences) * 0.7)"
      ],
      "metadata": {
        "id": "nCmCYusJrTDN"
      },
      "execution_count": null,
      "outputs": []
    },
    {
      "cell_type": "code",
      "source": [
        "training_size"
      ],
      "metadata": {
        "colab": {
          "base_uri": "https://localhost:8080/"
        },
        "id": "YdMl_Iq8hu_6",
        "outputId": "345a573a-b0f9-4daf-ae8d-9024501b7c47"
      },
      "execution_count": null,
      "outputs": [
        {
          "output_type": "execute_result",
          "data": {
            "text/plain": [
              "18696"
            ]
          },
          "metadata": {},
          "execution_count": 9
        }
      ]
    },
    {
      "cell_type": "code",
      "source": [
        "testing_size = int(len(sentences) * 0.15)"
      ],
      "metadata": {
        "id": "X7xGqcIYh7-W"
      },
      "execution_count": null,
      "outputs": []
    },
    {
      "cell_type": "code",
      "source": [
        "training_sentences= sentences[:training_size]\n",
        "training_labels = labels[:training_size]\n",
        "\n",
        "val_sentences= sentences[training_size : len(sentences) - testing_size]\n",
        "val_labels = labels[training_size : len(sentences) - testing_size]\n",
        "\n",
        "test_sentences = sentences[-testing_size:]\n",
        "test_labels = labels[-testing_size:]"
      ],
      "metadata": {
        "id": "pozHN2ztrbak"
      },
      "execution_count": null,
      "outputs": []
    },
    {
      "cell_type": "code",
      "source": [
        "from keras.layers import TextVectorization"
      ],
      "metadata": {
        "id": "qZ9Oxk-x4RMm"
      },
      "execution_count": null,
      "outputs": []
    },
    {
      "cell_type": "code",
      "source": [
        "text_vectorization = TextVectorization(output_mode=\"int\", max_tokens=vocab_size, output_sequence_length=max_length)"
      ],
      "metadata": {
        "id": "xRQ0QuwJ4vkT"
      },
      "execution_count": null,
      "outputs": []
    },
    {
      "cell_type": "code",
      "source": [
        "text_vectorization.adapt(training_sentences)"
      ],
      "metadata": {
        "id": "em5LkLIj48-M"
      },
      "execution_count": null,
      "outputs": []
    },
    {
      "cell_type": "code",
      "source": [
        "vec_train_sentences = text_vectorization(training_sentences)"
      ],
      "metadata": {
        "id": "tx-_WQnhH73q"
      },
      "execution_count": null,
      "outputs": []
    },
    {
      "cell_type": "code",
      "source": [
        "vec_val_sentences = text_vectorization(val_sentences)"
      ],
      "metadata": {
        "id": "-3DE-PDmi-_e"
      },
      "execution_count": null,
      "outputs": []
    },
    {
      "cell_type": "code",
      "source": [
        "vec_test_sentences = text_vectorization(test_sentences)"
      ],
      "metadata": {
        "id": "dtgEYboXIDmc"
      },
      "execution_count": null,
      "outputs": []
    },
    {
      "cell_type": "code",
      "source": [
        "model = tf.keras.Sequential([\n",
        "    tf.keras.layers.Embedding(vocab_size, embedding_dim, input_length=max_length),\n",
        "    tf.keras.layers.Bidirectional(keras.layers.LSTM(32)),\n",
        "    tf.keras.layers.Dense(120, activation='relu'),\n",
        "    tf.keras.layers.Dense(1, activation='sigmoid')\n",
        "])\n",
        "model.compile(loss='binary_crossentropy',optimizer='adam',metrics=['accuracy'])"
      ],
      "metadata": {
        "id": "HIfWoqrduSUk"
      },
      "execution_count": null,
      "outputs": []
    },
    {
      "cell_type": "code",
      "source": [
        "model.summary()"
      ],
      "metadata": {
        "colab": {
          "base_uri": "https://localhost:8080/"
        },
        "id": "3HvQN1DD5XPt",
        "outputId": "9a3f31ee-3b3f-4f8a-9195-e4a37afd5a20"
      },
      "execution_count": null,
      "outputs": [
        {
          "output_type": "stream",
          "name": "stdout",
          "text": [
            "Model: \"sequential\"\n",
            "_________________________________________________________________\n",
            " Layer (type)                Output Shape              Param #   \n",
            "=================================================================\n",
            " embedding (Embedding)       (None, 120, 16)           16000     \n",
            "                                                                 \n",
            " bidirectional (Bidirectiona  (None, 64)               12544     \n",
            " l)                                                              \n",
            "                                                                 \n",
            " dense (Dense)               (None, 120)               7800      \n",
            "                                                                 \n",
            " dense_1 (Dense)             (None, 1)                 121       \n",
            "                                                                 \n",
            "=================================================================\n",
            "Total params: 36,465\n",
            "Trainable params: 36,465\n",
            "Non-trainable params: 0\n",
            "_________________________________________________________________\n"
          ]
        }
      ]
    },
    {
      "cell_type": "code",
      "source": [
        "callbacks = [\n",
        "    keras.callbacks.ModelCheckpoint(\"1.h5\", save_best_only=True)\n",
        "]"
      ],
      "metadata": {
        "id": "gfhj4lkb5awe"
      },
      "execution_count": null,
      "outputs": []
    },
    {
      "cell_type": "code",
      "source": [
        "history = model.fit(vec_train_sentences, np.array(training_labels),\n",
        "                    validation_data = (vec_val_sentences, np.array(val_labels)),\n",
        "                    callbacks=callbacks,\n",
        "                    epochs=32)"
      ],
      "metadata": {
        "colab": {
          "base_uri": "https://localhost:8080/"
        },
        "id": "ljU_u-VP5gr7",
        "outputId": "53d7b1c0-a6f2-4897-ba0c-54678834079d"
      },
      "execution_count": null,
      "outputs": [
        {
          "output_type": "stream",
          "name": "stdout",
          "text": [
            "Epoch 1/32\n",
            "585/585 [==============================] - 10s 17ms/step - loss: 0.3622 - accuracy: 0.8370 - val_loss: 0.3749 - val_accuracy: 0.8298\n",
            "Epoch 2/32\n",
            "585/585 [==============================] - 9s 16ms/step - loss: 0.3350 - accuracy: 0.8490 - val_loss: 0.3774 - val_accuracy: 0.8303\n",
            "Epoch 3/32\n",
            "585/585 [==============================] - 9s 15ms/step - loss: 0.3141 - accuracy: 0.8611 - val_loss: 0.3699 - val_accuracy: 0.8320\n",
            "Epoch 4/32\n",
            "585/585 [==============================] - 9s 15ms/step - loss: 0.3001 - accuracy: 0.8697 - val_loss: 0.3820 - val_accuracy: 0.8300\n",
            "Epoch 5/32\n",
            "585/585 [==============================] - 8s 14ms/step - loss: 0.2897 - accuracy: 0.8722 - val_loss: 0.3836 - val_accuracy: 0.8310\n",
            "Epoch 6/32\n",
            "585/585 [==============================] - 9s 15ms/step - loss: 0.2809 - accuracy: 0.8784 - val_loss: 0.4023 - val_accuracy: 0.8233\n",
            "Epoch 7/32\n",
            "585/585 [==============================] - 8s 14ms/step - loss: 0.2721 - accuracy: 0.8820 - val_loss: 0.4109 - val_accuracy: 0.8143\n",
            "Epoch 8/32\n",
            "585/585 [==============================] - 8s 13ms/step - loss: 0.2619 - accuracy: 0.8880 - val_loss: 0.3985 - val_accuracy: 0.8261\n",
            "Epoch 9/32\n",
            "585/585 [==============================] - 8s 14ms/step - loss: 0.2538 - accuracy: 0.8927 - val_loss: 0.4144 - val_accuracy: 0.8295\n",
            "Epoch 10/32\n",
            "585/585 [==============================] - 8s 14ms/step - loss: 0.2464 - accuracy: 0.8962 - val_loss: 0.4191 - val_accuracy: 0.8221\n",
            "Epoch 11/32\n",
            "585/585 [==============================] - 8s 14ms/step - loss: 0.2378 - accuracy: 0.9000 - val_loss: 0.4337 - val_accuracy: 0.8233\n",
            "Epoch 12/32\n",
            "585/585 [==============================] - 8s 14ms/step - loss: 0.2295 - accuracy: 0.9044 - val_loss: 0.4673 - val_accuracy: 0.8178\n",
            "Epoch 13/32\n",
            "585/585 [==============================] - 7s 13ms/step - loss: 0.2202 - accuracy: 0.9078 - val_loss: 0.4863 - val_accuracy: 0.8166\n",
            "Epoch 14/32\n",
            "585/585 [==============================] - 8s 14ms/step - loss: 0.2152 - accuracy: 0.9102 - val_loss: 0.4739 - val_accuracy: 0.8211\n",
            "Epoch 15/32\n",
            "585/585 [==============================] - 9s 15ms/step - loss: 0.2059 - accuracy: 0.9128 - val_loss: 0.5224 - val_accuracy: 0.8228\n",
            "Epoch 16/32\n",
            "585/585 [==============================] - 8s 13ms/step - loss: 0.1982 - accuracy: 0.9172 - val_loss: 0.5571 - val_accuracy: 0.8176\n",
            "Epoch 17/32\n",
            "585/585 [==============================] - 8s 14ms/step - loss: 0.1907 - accuracy: 0.9214 - val_loss: 0.5598 - val_accuracy: 0.8218\n",
            "Epoch 18/32\n",
            "585/585 [==============================] - 8s 14ms/step - loss: 0.1827 - accuracy: 0.9251 - val_loss: 0.6139 - val_accuracy: 0.8188\n",
            "Epoch 19/32\n",
            "585/585 [==============================] - 8s 13ms/step - loss: 0.1760 - accuracy: 0.9269 - val_loss: 0.7030 - val_accuracy: 0.8131\n",
            "Epoch 20/32\n",
            "585/585 [==============================] - 8s 14ms/step - loss: 0.1688 - accuracy: 0.9314 - val_loss: 0.6871 - val_accuracy: 0.8196\n",
            "Epoch 21/32\n",
            "585/585 [==============================] - 9s 15ms/step - loss: 0.1629 - accuracy: 0.9334 - val_loss: 0.6739 - val_accuracy: 0.8138\n",
            "Epoch 22/32\n",
            "585/585 [==============================] - 8s 13ms/step - loss: 0.1553 - accuracy: 0.9364 - val_loss: 0.7882 - val_accuracy: 0.8146\n",
            "Epoch 23/32\n",
            "585/585 [==============================] - 8s 14ms/step - loss: 0.1514 - accuracy: 0.9370 - val_loss: 0.7538 - val_accuracy: 0.8146\n",
            "Epoch 24/32\n",
            "585/585 [==============================] - 8s 14ms/step - loss: 0.1429 - accuracy: 0.9420 - val_loss: 0.8017 - val_accuracy: 0.8108\n",
            "Epoch 25/32\n",
            "585/585 [==============================] - 8s 13ms/step - loss: 0.1404 - accuracy: 0.9414 - val_loss: 0.8440 - val_accuracy: 0.8171\n",
            "Epoch 26/32\n",
            "585/585 [==============================] - 8s 14ms/step - loss: 0.1346 - accuracy: 0.9427 - val_loss: 0.9825 - val_accuracy: 0.8116\n",
            "Epoch 27/32\n",
            "585/585 [==============================] - 8s 14ms/step - loss: 0.1284 - accuracy: 0.9466 - val_loss: 0.9314 - val_accuracy: 0.8148\n",
            "Epoch 28/32\n",
            "585/585 [==============================] - 8s 13ms/step - loss: 0.1205 - accuracy: 0.9486 - val_loss: 1.0766 - val_accuracy: 0.8101\n",
            "Epoch 29/32\n",
            "585/585 [==============================] - 9s 15ms/step - loss: 0.1167 - accuracy: 0.9512 - val_loss: 1.2595 - val_accuracy: 0.8091\n",
            "Epoch 30/32\n",
            "585/585 [==============================] - 8s 13ms/step - loss: 0.1146 - accuracy: 0.9518 - val_loss: 1.1458 - val_accuracy: 0.8053\n",
            "Epoch 31/32\n",
            "585/585 [==============================] - 8s 13ms/step - loss: 0.1119 - accuracy: 0.9509 - val_loss: 1.0884 - val_accuracy: 0.8076\n",
            "Epoch 32/32\n",
            "585/585 [==============================] - 8s 14ms/step - loss: 0.1127 - accuracy: 0.9523 - val_loss: 1.2025 - val_accuracy: 0.8111\n"
          ]
        }
      ]
    },
    {
      "cell_type": "code",
      "source": [
        "test_sentences[2]"
      ],
      "metadata": {
        "id": "4Eq3OglVmZ8V",
        "outputId": "6fb753a7-697d-4823-ab46-3241fcfd18de",
        "colab": {
          "base_uri": "https://localhost:8080/",
          "height": 56
        }
      },
      "execution_count": null,
      "outputs": [
        {
          "output_type": "execute_result",
          "data": {
            "text/plain": [
              "'10 secrets of irresistible people'"
            ],
            "application/vnd.google.colaboratory.intrinsic+json": {
              "type": "string"
            }
          },
          "metadata": {},
          "execution_count": 34
        }
      ]
    },
    {
      "cell_type": "code",
      "source": [
        "print(text_vectorization(test_sentences[2]))"
      ],
      "metadata": {
        "id": "IqbfMCLDmf72",
        "outputId": "75d0cef7-4aaa-4458-d3a1-4c7167ec63b4",
        "colab": {
          "base_uri": "https://localhost:8080/"
        }
      },
      "execution_count": null,
      "outputs": [
        {
          "output_type": "stream",
          "name": "stdout",
          "text": [
            "tf.Tensor(\n",
            "[152   1   3   1  64   0   0   0   0   0   0   0   0   0   0   0   0   0\n",
            "   0   0   0   0   0   0   0   0   0   0   0   0   0   0   0   0   0   0\n",
            "   0   0   0   0   0   0   0   0   0   0   0   0   0   0   0   0   0   0\n",
            "   0   0   0   0   0   0   0   0   0   0   0   0   0   0   0   0   0   0\n",
            "   0   0   0   0   0   0   0   0   0   0   0   0   0   0   0   0   0   0\n",
            "   0   0   0   0   0   0   0   0   0   0   0   0   0   0   0   0   0   0\n",
            "   0   0   0   0   0   0   0   0   0   0   0   0], shape=(120,), dtype=int64)\n"
          ]
        }
      ]
    },
    {
      "cell_type": "code",
      "source": [
        "print(model.predict(text_vectorization([\"this is example of laziness\", \"My neighbors listen to good music whether they like it or not\"])))"
      ],
      "metadata": {
        "colab": {
          "base_uri": "https://localhost:8080/"
        },
        "id": "_mgWTt1zKAeK",
        "outputId": "4d51d186-0023-4f16-c107-c0b1109d8025"
      },
      "execution_count": null,
      "outputs": [
        {
          "output_type": "stream",
          "name": "stdout",
          "text": [
            "1/1 [==============================] - 0s 124ms/step\n",
            "[[0.00130517]\n",
            " [0.99801743]]\n"
          ]
        }
      ]
    }
  ]
}