{
  "nbformat": 4,
  "nbformat_minor": 0,
  "metadata": {
    "colab": {
      "provenance": [],
      "gpuType": "T4",
      "authorship_tag": "ABX9TyP+vIRWvvI5cOaG4ZGEdmZG",
      "include_colab_link": true
    },
    "kernelspec": {
      "name": "python3",
      "display_name": "Python 3"
    },
    "language_info": {
      "name": "python"
    },
    "accelerator": "GPU"
  },
  "cells": [
    {
      "cell_type": "markdown",
      "metadata": {
        "id": "view-in-github",
        "colab_type": "text"
      },
      "source": [
        "<a href=\"https://colab.research.google.com/github/santoshrsarangi/tensorflow/blob/main/NLP/sarcasm_generation.ipynb\" target=\"_parent\"><img src=\"https://colab.research.google.com/assets/colab-badge.svg\" alt=\"Open In Colab\"/></a>"
      ]
    },
    {
      "cell_type": "code",
      "execution_count": 1,
      "metadata": {
        "id": "3fyxwmRsn0WN"
      },
      "outputs": [],
      "source": [
        "import json\n",
        "import numpy as np\n",
        "import urllib"
      ]
    },
    {
      "cell_type": "code",
      "source": [
        "url = 'https://storage.googleapis.com/download.tensorflow.org/data/sarcasm.json'\n",
        "urllib.request.urlretrieve(url, 'sarcasm.json')"
      ],
      "metadata": {
        "colab": {
          "base_uri": "https://localhost:8080/"
        },
        "id": "faKiankxn5oc",
        "outputId": "2536ace8-a5d4-47c0-c9cf-6ee70547b4ad"
      },
      "execution_count": 2,
      "outputs": [
        {
          "output_type": "execute_result",
          "data": {
            "text/plain": [
              "('sarcasm.json', <http.client.HTTPMessage at 0x7f0e6de5e680>)"
            ]
          },
          "metadata": {},
          "execution_count": 2
        }
      ]
    },
    {
      "cell_type": "code",
      "source": [
        "vocab_size = 10000\n",
        "embedding_dim = 256\n",
        "trunc_type='pre'\n",
        "padding_type='post'\n",
        "oov_tok = \"<OOV>\"\n",
        "\n",
        "sentences = []\n",
        "labels = []"
      ],
      "metadata": {
        "id": "cuWAuFiYn87T"
      },
      "execution_count": 3,
      "outputs": []
    },
    {
      "cell_type": "code",
      "source": [
        "import pandas as pd\n",
        "\n",
        "df = pd.read_json('sarcasm.json')\n"
      ],
      "metadata": {
        "id": "Nq5ljhIxpYkf"
      },
      "execution_count": 4,
      "outputs": []
    },
    {
      "cell_type": "code",
      "source": [
        "df.head()"
      ],
      "metadata": {
        "colab": {
          "base_uri": "https://localhost:8080/",
          "height": 221
        },
        "id": "uwA4l-C1ppVE",
        "outputId": "51071e6d-77ca-49e0-e35c-38b14f457808"
      },
      "execution_count": 5,
      "outputs": [
        {
          "output_type": "execute_result",
          "data": {
            "text/plain": [
              "                                        article_link  \\\n",
              "0  https://www.huffingtonpost.com/entry/versace-b...   \n",
              "1  https://www.huffingtonpost.com/entry/roseanne-...   \n",
              "2  https://local.theonion.com/mom-starting-to-fea...   \n",
              "3  https://politics.theonion.com/boehner-just-wan...   \n",
              "4  https://www.huffingtonpost.com/entry/jk-rowlin...   \n",
              "\n",
              "                                            headline  is_sarcastic  \n",
              "0  former versace store clerk sues over secret 'b...             0  \n",
              "1  the 'roseanne' revival catches up to our thorn...             0  \n",
              "2  mom starting to fear son's web series closest ...             1  \n",
              "3  boehner just wants wife to listen, not come up...             1  \n",
              "4  j.k. rowling wishes snape happy birthday in th...             0  "
            ],
            "text/html": [
              "\n",
              "  <div id=\"df-edeb9de1-c8c9-4b41-8e66-562e4df3bdf1\">\n",
              "    <div class=\"colab-df-container\">\n",
              "      <div>\n",
              "<style scoped>\n",
              "    .dataframe tbody tr th:only-of-type {\n",
              "        vertical-align: middle;\n",
              "    }\n",
              "\n",
              "    .dataframe tbody tr th {\n",
              "        vertical-align: top;\n",
              "    }\n",
              "\n",
              "    .dataframe thead th {\n",
              "        text-align: right;\n",
              "    }\n",
              "</style>\n",
              "<table border=\"1\" class=\"dataframe\">\n",
              "  <thead>\n",
              "    <tr style=\"text-align: right;\">\n",
              "      <th></th>\n",
              "      <th>article_link</th>\n",
              "      <th>headline</th>\n",
              "      <th>is_sarcastic</th>\n",
              "    </tr>\n",
              "  </thead>\n",
              "  <tbody>\n",
              "    <tr>\n",
              "      <th>0</th>\n",
              "      <td>https://www.huffingtonpost.com/entry/versace-b...</td>\n",
              "      <td>former versace store clerk sues over secret 'b...</td>\n",
              "      <td>0</td>\n",
              "    </tr>\n",
              "    <tr>\n",
              "      <th>1</th>\n",
              "      <td>https://www.huffingtonpost.com/entry/roseanne-...</td>\n",
              "      <td>the 'roseanne' revival catches up to our thorn...</td>\n",
              "      <td>0</td>\n",
              "    </tr>\n",
              "    <tr>\n",
              "      <th>2</th>\n",
              "      <td>https://local.theonion.com/mom-starting-to-fea...</td>\n",
              "      <td>mom starting to fear son's web series closest ...</td>\n",
              "      <td>1</td>\n",
              "    </tr>\n",
              "    <tr>\n",
              "      <th>3</th>\n",
              "      <td>https://politics.theonion.com/boehner-just-wan...</td>\n",
              "      <td>boehner just wants wife to listen, not come up...</td>\n",
              "      <td>1</td>\n",
              "    </tr>\n",
              "    <tr>\n",
              "      <th>4</th>\n",
              "      <td>https://www.huffingtonpost.com/entry/jk-rowlin...</td>\n",
              "      <td>j.k. rowling wishes snape happy birthday in th...</td>\n",
              "      <td>0</td>\n",
              "    </tr>\n",
              "  </tbody>\n",
              "</table>\n",
              "</div>\n",
              "      <button class=\"colab-df-convert\" onclick=\"convertToInteractive('df-edeb9de1-c8c9-4b41-8e66-562e4df3bdf1')\"\n",
              "              title=\"Convert this dataframe to an interactive table.\"\n",
              "              style=\"display:none;\">\n",
              "        \n",
              "  <svg xmlns=\"http://www.w3.org/2000/svg\" height=\"24px\"viewBox=\"0 0 24 24\"\n",
              "       width=\"24px\">\n",
              "    <path d=\"M0 0h24v24H0V0z\" fill=\"none\"/>\n",
              "    <path d=\"M18.56 5.44l.94 2.06.94-2.06 2.06-.94-2.06-.94-.94-2.06-.94 2.06-2.06.94zm-11 1L8.5 8.5l.94-2.06 2.06-.94-2.06-.94L8.5 2.5l-.94 2.06-2.06.94zm10 10l.94 2.06.94-2.06 2.06-.94-2.06-.94-.94-2.06-.94 2.06-2.06.94z\"/><path d=\"M17.41 7.96l-1.37-1.37c-.4-.4-.92-.59-1.43-.59-.52 0-1.04.2-1.43.59L10.3 9.45l-7.72 7.72c-.78.78-.78 2.05 0 2.83L4 21.41c.39.39.9.59 1.41.59.51 0 1.02-.2 1.41-.59l7.78-7.78 2.81-2.81c.8-.78.8-2.07 0-2.86zM5.41 20L4 18.59l7.72-7.72 1.47 1.35L5.41 20z\"/>\n",
              "  </svg>\n",
              "      </button>\n",
              "      \n",
              "  <style>\n",
              "    .colab-df-container {\n",
              "      display:flex;\n",
              "      flex-wrap:wrap;\n",
              "      gap: 12px;\n",
              "    }\n",
              "\n",
              "    .colab-df-convert {\n",
              "      background-color: #E8F0FE;\n",
              "      border: none;\n",
              "      border-radius: 50%;\n",
              "      cursor: pointer;\n",
              "      display: none;\n",
              "      fill: #1967D2;\n",
              "      height: 32px;\n",
              "      padding: 0 0 0 0;\n",
              "      width: 32px;\n",
              "    }\n",
              "\n",
              "    .colab-df-convert:hover {\n",
              "      background-color: #E2EBFA;\n",
              "      box-shadow: 0px 1px 2px rgba(60, 64, 67, 0.3), 0px 1px 3px 1px rgba(60, 64, 67, 0.15);\n",
              "      fill: #174EA6;\n",
              "    }\n",
              "\n",
              "    [theme=dark] .colab-df-convert {\n",
              "      background-color: #3B4455;\n",
              "      fill: #D2E3FC;\n",
              "    }\n",
              "\n",
              "    [theme=dark] .colab-df-convert:hover {\n",
              "      background-color: #434B5C;\n",
              "      box-shadow: 0px 1px 3px 1px rgba(0, 0, 0, 0.15);\n",
              "      filter: drop-shadow(0px 1px 2px rgba(0, 0, 0, 0.3));\n",
              "      fill: #FFFFFF;\n",
              "    }\n",
              "  </style>\n",
              "\n",
              "      <script>\n",
              "        const buttonEl =\n",
              "          document.querySelector('#df-edeb9de1-c8c9-4b41-8e66-562e4df3bdf1 button.colab-df-convert');\n",
              "        buttonEl.style.display =\n",
              "          google.colab.kernel.accessAllowed ? 'block' : 'none';\n",
              "\n",
              "        async function convertToInteractive(key) {\n",
              "          const element = document.querySelector('#df-edeb9de1-c8c9-4b41-8e66-562e4df3bdf1');\n",
              "          const dataTable =\n",
              "            await google.colab.kernel.invokeFunction('convertToInteractive',\n",
              "                                                     [key], {});\n",
              "          if (!dataTable) return;\n",
              "\n",
              "          const docLinkHtml = 'Like what you see? Visit the ' +\n",
              "            '<a target=\"_blank\" href=https://colab.research.google.com/notebooks/data_table.ipynb>data table notebook</a>'\n",
              "            + ' to learn more about interactive tables.';\n",
              "          element.innerHTML = '';\n",
              "          dataTable['output_type'] = 'display_data';\n",
              "          await google.colab.output.renderOutput(dataTable, element);\n",
              "          const docLink = document.createElement('div');\n",
              "          docLink.innerHTML = docLinkHtml;\n",
              "          element.appendChild(docLink);\n",
              "        }\n",
              "      </script>\n",
              "    </div>\n",
              "  </div>\n",
              "  "
            ]
          },
          "metadata": {},
          "execution_count": 5
        }
      ]
    },
    {
      "cell_type": "code",
      "source": [
        "df.sort_values(by=\"is_sarcastic\", ascending=False)"
      ],
      "metadata": {
        "id": "Fb7HdP8bLRlO",
        "outputId": "bc1eabe2-f842-4b04-f60a-16b8ca8b52ed",
        "colab": {
          "base_uri": "https://localhost:8080/",
          "height": 433
        }
      },
      "execution_count": 6,
      "outputs": [
        {
          "output_type": "execute_result",
          "data": {
            "text/plain": [
              "                                            article_link  \\\n",
              "21954  https://local.theonion.com/area-mans-biggest-a...   \n",
              "10347  https://politics.theonion.com/melania-trump-ho...   \n",
              "20977  https://local.theonion.com/opening-soda-bottle...   \n",
              "10326  https://entertainment.theonion.com/david-blain...   \n",
              "10327  https://local.theonion.com/neighbor-bragging-a...   \n",
              "...                                                  ...   \n",
              "11465  https://www.huffingtonpost.com/entry/medical-m...   \n",
              "11462  https://www.huffingtonpost.com/entry/trump-nat...   \n",
              "11461  https://www.huffingtonpost.com/entry/how-imani...   \n",
              "11460  https://www.huffingtonpost.com/entry/barack-ob...   \n",
              "26708  https://www.huffingtonpost.com/entry/gourmet-g...   \n",
              "\n",
              "                                                headline  is_sarcastic  \n",
              "21954  area man's biggest accomplishment not ever kil...             1  \n",
              "10347  melania trump hosts state dinner in stunning b...             1  \n",
              "20977  opening soda bottle inadvertently makes man loser             1  \n",
              "10326  david blaine starves self of attention for 33 ...             1  \n",
              "10327    neighbor bragging about 20-pound box he fedexed             1  \n",
              "...                                                  ...           ...  \n",
              "11465  new proposal could make it easier to research ...             0  \n",
              "11462  trump's national security transition is 'a mes...             0  \n",
              "11461  how imani boyette's love for basketball helped...             0  \n",
              "11460  barack obama is fourth president to put americ...             0  \n",
              "26708                  gourmet gifts for the foodie 2014             0  \n",
              "\n",
              "[26709 rows x 3 columns]"
            ],
            "text/html": [
              "\n",
              "  <div id=\"df-f498a337-086f-420f-a3b0-392fc05513ef\">\n",
              "    <div class=\"colab-df-container\">\n",
              "      <div>\n",
              "<style scoped>\n",
              "    .dataframe tbody tr th:only-of-type {\n",
              "        vertical-align: middle;\n",
              "    }\n",
              "\n",
              "    .dataframe tbody tr th {\n",
              "        vertical-align: top;\n",
              "    }\n",
              "\n",
              "    .dataframe thead th {\n",
              "        text-align: right;\n",
              "    }\n",
              "</style>\n",
              "<table border=\"1\" class=\"dataframe\">\n",
              "  <thead>\n",
              "    <tr style=\"text-align: right;\">\n",
              "      <th></th>\n",
              "      <th>article_link</th>\n",
              "      <th>headline</th>\n",
              "      <th>is_sarcastic</th>\n",
              "    </tr>\n",
              "  </thead>\n",
              "  <tbody>\n",
              "    <tr>\n",
              "      <th>21954</th>\n",
              "      <td>https://local.theonion.com/area-mans-biggest-a...</td>\n",
              "      <td>area man's biggest accomplishment not ever kil...</td>\n",
              "      <td>1</td>\n",
              "    </tr>\n",
              "    <tr>\n",
              "      <th>10347</th>\n",
              "      <td>https://politics.theonion.com/melania-trump-ho...</td>\n",
              "      <td>melania trump hosts state dinner in stunning b...</td>\n",
              "      <td>1</td>\n",
              "    </tr>\n",
              "    <tr>\n",
              "      <th>20977</th>\n",
              "      <td>https://local.theonion.com/opening-soda-bottle...</td>\n",
              "      <td>opening soda bottle inadvertently makes man loser</td>\n",
              "      <td>1</td>\n",
              "    </tr>\n",
              "    <tr>\n",
              "      <th>10326</th>\n",
              "      <td>https://entertainment.theonion.com/david-blain...</td>\n",
              "      <td>david blaine starves self of attention for 33 ...</td>\n",
              "      <td>1</td>\n",
              "    </tr>\n",
              "    <tr>\n",
              "      <th>10327</th>\n",
              "      <td>https://local.theonion.com/neighbor-bragging-a...</td>\n",
              "      <td>neighbor bragging about 20-pound box he fedexed</td>\n",
              "      <td>1</td>\n",
              "    </tr>\n",
              "    <tr>\n",
              "      <th>...</th>\n",
              "      <td>...</td>\n",
              "      <td>...</td>\n",
              "      <td>...</td>\n",
              "    </tr>\n",
              "    <tr>\n",
              "      <th>11465</th>\n",
              "      <td>https://www.huffingtonpost.com/entry/medical-m...</td>\n",
              "      <td>new proposal could make it easier to research ...</td>\n",
              "      <td>0</td>\n",
              "    </tr>\n",
              "    <tr>\n",
              "      <th>11462</th>\n",
              "      <td>https://www.huffingtonpost.com/entry/trump-nat...</td>\n",
              "      <td>trump's national security transition is 'a mes...</td>\n",
              "      <td>0</td>\n",
              "    </tr>\n",
              "    <tr>\n",
              "      <th>11461</th>\n",
              "      <td>https://www.huffingtonpost.com/entry/how-imani...</td>\n",
              "      <td>how imani boyette's love for basketball helped...</td>\n",
              "      <td>0</td>\n",
              "    </tr>\n",
              "    <tr>\n",
              "      <th>11460</th>\n",
              "      <td>https://www.huffingtonpost.com/entry/barack-ob...</td>\n",
              "      <td>barack obama is fourth president to put americ...</td>\n",
              "      <td>0</td>\n",
              "    </tr>\n",
              "    <tr>\n",
              "      <th>26708</th>\n",
              "      <td>https://www.huffingtonpost.com/entry/gourmet-g...</td>\n",
              "      <td>gourmet gifts for the foodie 2014</td>\n",
              "      <td>0</td>\n",
              "    </tr>\n",
              "  </tbody>\n",
              "</table>\n",
              "<p>26709 rows × 3 columns</p>\n",
              "</div>\n",
              "      <button class=\"colab-df-convert\" onclick=\"convertToInteractive('df-f498a337-086f-420f-a3b0-392fc05513ef')\"\n",
              "              title=\"Convert this dataframe to an interactive table.\"\n",
              "              style=\"display:none;\">\n",
              "        \n",
              "  <svg xmlns=\"http://www.w3.org/2000/svg\" height=\"24px\"viewBox=\"0 0 24 24\"\n",
              "       width=\"24px\">\n",
              "    <path d=\"M0 0h24v24H0V0z\" fill=\"none\"/>\n",
              "    <path d=\"M18.56 5.44l.94 2.06.94-2.06 2.06-.94-2.06-.94-.94-2.06-.94 2.06-2.06.94zm-11 1L8.5 8.5l.94-2.06 2.06-.94-2.06-.94L8.5 2.5l-.94 2.06-2.06.94zm10 10l.94 2.06.94-2.06 2.06-.94-2.06-.94-.94-2.06-.94 2.06-2.06.94z\"/><path d=\"M17.41 7.96l-1.37-1.37c-.4-.4-.92-.59-1.43-.59-.52 0-1.04.2-1.43.59L10.3 9.45l-7.72 7.72c-.78.78-.78 2.05 0 2.83L4 21.41c.39.39.9.59 1.41.59.51 0 1.02-.2 1.41-.59l7.78-7.78 2.81-2.81c.8-.78.8-2.07 0-2.86zM5.41 20L4 18.59l7.72-7.72 1.47 1.35L5.41 20z\"/>\n",
              "  </svg>\n",
              "      </button>\n",
              "      \n",
              "  <style>\n",
              "    .colab-df-container {\n",
              "      display:flex;\n",
              "      flex-wrap:wrap;\n",
              "      gap: 12px;\n",
              "    }\n",
              "\n",
              "    .colab-df-convert {\n",
              "      background-color: #E8F0FE;\n",
              "      border: none;\n",
              "      border-radius: 50%;\n",
              "      cursor: pointer;\n",
              "      display: none;\n",
              "      fill: #1967D2;\n",
              "      height: 32px;\n",
              "      padding: 0 0 0 0;\n",
              "      width: 32px;\n",
              "    }\n",
              "\n",
              "    .colab-df-convert:hover {\n",
              "      background-color: #E2EBFA;\n",
              "      box-shadow: 0px 1px 2px rgba(60, 64, 67, 0.3), 0px 1px 3px 1px rgba(60, 64, 67, 0.15);\n",
              "      fill: #174EA6;\n",
              "    }\n",
              "\n",
              "    [theme=dark] .colab-df-convert {\n",
              "      background-color: #3B4455;\n",
              "      fill: #D2E3FC;\n",
              "    }\n",
              "\n",
              "    [theme=dark] .colab-df-convert:hover {\n",
              "      background-color: #434B5C;\n",
              "      box-shadow: 0px 1px 3px 1px rgba(0, 0, 0, 0.15);\n",
              "      filter: drop-shadow(0px 1px 2px rgba(0, 0, 0, 0.3));\n",
              "      fill: #FFFFFF;\n",
              "    }\n",
              "  </style>\n",
              "\n",
              "      <script>\n",
              "        const buttonEl =\n",
              "          document.querySelector('#df-f498a337-086f-420f-a3b0-392fc05513ef button.colab-df-convert');\n",
              "        buttonEl.style.display =\n",
              "          google.colab.kernel.accessAllowed ? 'block' : 'none';\n",
              "\n",
              "        async function convertToInteractive(key) {\n",
              "          const element = document.querySelector('#df-f498a337-086f-420f-a3b0-392fc05513ef');\n",
              "          const dataTable =\n",
              "            await google.colab.kernel.invokeFunction('convertToInteractive',\n",
              "                                                     [key], {});\n",
              "          if (!dataTable) return;\n",
              "\n",
              "          const docLinkHtml = 'Like what you see? Visit the ' +\n",
              "            '<a target=\"_blank\" href=https://colab.research.google.com/notebooks/data_table.ipynb>data table notebook</a>'\n",
              "            + ' to learn more about interactive tables.';\n",
              "          element.innerHTML = '';\n",
              "          dataTable['output_type'] = 'display_data';\n",
              "          await google.colab.output.renderOutput(dataTable, element);\n",
              "          const docLink = document.createElement('div');\n",
              "          docLink.innerHTML = docLinkHtml;\n",
              "          element.appendChild(docLink);\n",
              "        }\n",
              "      </script>\n",
              "    </div>\n",
              "  </div>\n",
              "  "
            ]
          },
          "metadata": {},
          "execution_count": 6
        }
      ]
    },
    {
      "cell_type": "code",
      "source": [
        "df = df[df['is_sarcastic'] > 0]"
      ],
      "metadata": {
        "id": "-qRE3fyDNT0b"
      },
      "execution_count": 7,
      "outputs": []
    },
    {
      "cell_type": "code",
      "source": [
        "max_length = int(df['headline'].str.len().max()) + 1"
      ],
      "metadata": {
        "id": "LmMLVz2hPlQx"
      },
      "execution_count": 8,
      "outputs": []
    },
    {
      "cell_type": "code",
      "source": [
        "sentences=list(df['headline'])\n"
      ],
      "metadata": {
        "id": "R7gZ2qbCrGns"
      },
      "execution_count": 9,
      "outputs": []
    },
    {
      "cell_type": "code",
      "source": [
        "len(sentences)"
      ],
      "metadata": {
        "colab": {
          "base_uri": "https://localhost:8080/"
        },
        "id": "U4Jjc2rdrJcz",
        "outputId": "69c9a492-67b0-428c-8504-4d21426500cd"
      },
      "execution_count": 10,
      "outputs": [
        {
          "output_type": "execute_result",
          "data": {
            "text/plain": [
              "11724"
            ]
          },
          "metadata": {},
          "execution_count": 10
        }
      ]
    },
    {
      "cell_type": "code",
      "source": [
        "import tensorflow as tf\n",
        "\n",
        "from tensorflow.keras.layers import Embedding, LSTM, Dense, Bidirectional\n",
        "from tensorflow.keras.models import Sequential\n",
        "from tensorflow.keras.optimizers import Adam\n",
        "\n",
        "from tensorflow.keras.preprocessing import sequence\n",
        "from tensorflow.keras.preprocessing.text import Tokenizer\n"
      ],
      "metadata": {
        "id": "CWNYzyvBdbQc"
      },
      "execution_count": 11,
      "outputs": []
    },
    {
      "cell_type": "code",
      "source": [
        "from tensorflow.keras.layers import TextVectorization"
      ],
      "metadata": {
        "id": "bGCpTx5TxEON"
      },
      "execution_count": 12,
      "outputs": []
    },
    {
      "cell_type": "code",
      "source": [
        "text_vectorization = TextVectorization (ragged=True, output_mode=\"int\")"
      ],
      "metadata": {
        "id": "BaL390ayHvbz"
      },
      "execution_count": 13,
      "outputs": []
    },
    {
      "cell_type": "code",
      "source": [
        "text_vectorization.adapt(sentences)"
      ],
      "metadata": {
        "id": "vV_gvHfkINXH"
      },
      "execution_count": 14,
      "outputs": []
    },
    {
      "cell_type": "code",
      "source": [
        "total_words = len(text_vectorization.get_vocabulary()) + 1"
      ],
      "metadata": {
        "id": "6ykLHEtL1S0B"
      },
      "execution_count": 21,
      "outputs": []
    },
    {
      "cell_type": "code",
      "source": [
        "vec_sentences = text_vectorization(sentences)"
      ],
      "metadata": {
        "id": "1liIDjPoISfi"
      },
      "execution_count": 15,
      "outputs": []
    },
    {
      "cell_type": "code",
      "source": [
        "vec_sentences[12]"
      ],
      "metadata": {
        "id": "_UJ-FXZNJBEh",
        "outputId": "1ff28bf0-7912-40a7-de59-fd257ec460ce",
        "colab": {
          "base_uri": "https://localhost:8080/"
        }
      },
      "execution_count": 16,
      "outputs": [
        {
          "output_type": "execute_result",
          "data": {
            "text/plain": [
              "<tf.Tensor: shape=(8,), dtype=int64, numpy=array([7009, 4350,  403, 6112, 2300,   54,   26, 1376])>"
            ]
          },
          "metadata": {},
          "execution_count": 16
        }
      ]
    },
    {
      "cell_type": "code",
      "source": [
        "vec_sentences[2]"
      ],
      "metadata": {
        "id": "7JLLlT2oz4rI",
        "outputId": "6a3c8b27-4a08-435a-bb3b-c1a41958c4b4",
        "colab": {
          "base_uri": "https://localhost:8080/"
        }
      },
      "execution_count": 17,
      "outputs": [
        {
          "output_type": "execute_result",
          "data": {
            "text/plain": [
              "<tf.Tensor: shape=(7,), dtype=int64, numpy=array([  423,  2830, 15052,   391,  3986,  1824,   125])>"
            ]
          },
          "metadata": {},
          "execution_count": 17
        }
      ]
    },
    {
      "cell_type": "code",
      "source": [
        "input_sequences = []\n",
        "for line in vec_sentences:\n",
        "\tfor i in range(1, len(line)):\n",
        "\t\tn_gram_sequence = line[:i+1]\n",
        "\t\tinput_sequences.append(n_gram_sequence)"
      ],
      "metadata": {
        "id": "rFMqt_YMz8xX"
      },
      "execution_count": 18,
      "outputs": []
    },
    {
      "cell_type": "code",
      "source": [
        "max_sequence_len = max([len(x) for x in input_sequences])\n",
        "input_sequences = np.array(sequence.pad_sequences(input_sequences, maxlen=max_sequence_len, padding='pre'))"
      ],
      "metadata": {
        "id": "AgMFxhqr0ohW"
      },
      "execution_count": 20,
      "outputs": []
    },
    {
      "cell_type": "code",
      "source": [
        "xs, labels = input_sequences[:,:-1],input_sequences[:,-1]\n",
        "\n",
        "ys = tf.keras.utils.to_categorical(labels, num_classes=total_words)"
      ],
      "metadata": {
        "id": "fIIXPkfN1BuQ"
      },
      "execution_count": 22,
      "outputs": []
    },
    {
      "cell_type": "code",
      "source": [
        "model = Sequential()\n",
        "model.add(Embedding(total_words, 100, input_length=max_sequence_len-1))\n",
        "model.add(Bidirectional(LSTM(150)))\n",
        "model.add(Dense(total_words, activation='softmax'))\n",
        "adam = Adam(learning_rate=0.01)\n",
        "model.compile(loss='categorical_crossentropy', optimizer=adam, metrics=['accuracy'])"
      ],
      "metadata": {
        "id": "HIfWoqrduSUk"
      },
      "execution_count": 24,
      "outputs": []
    },
    {
      "cell_type": "code",
      "source": [
        "model.summary()"
      ],
      "metadata": {
        "colab": {
          "base_uri": "https://localhost:8080/"
        },
        "id": "3HvQN1DD5XPt",
        "outputId": "422b74a7-676a-4cda-fd11-625ab712e348"
      },
      "execution_count": 25,
      "outputs": [
        {
          "output_type": "stream",
          "name": "stdout",
          "text": [
            "Model: \"sequential_1\"\n",
            "_________________________________________________________________\n",
            " Layer (type)                Output Shape              Param #   \n",
            "=================================================================\n",
            " embedding_1 (Embedding)     (None, 38, 100)           1916100   \n",
            "                                                                 \n",
            " bidirectional_1 (Bidirectio  (None, 300)              301200    \n",
            " nal)                                                            \n",
            "                                                                 \n",
            " dense_1 (Dense)             (None, 19161)             5767461   \n",
            "                                                                 \n",
            "=================================================================\n",
            "Total params: 7,984,761\n",
            "Trainable params: 7,984,761\n",
            "Non-trainable params: 0\n",
            "_________________________________________________________________\n"
          ]
        }
      ]
    },
    {
      "cell_type": "code",
      "source": [
        "callbacks = [\n",
        "    tf.keras.callbacks.ModelCheckpoint(\"1.h5\", save_best_only=True)\n",
        "]"
      ],
      "metadata": {
        "id": "gfhj4lkb5awe"
      },
      "execution_count": 28,
      "outputs": []
    },
    {
      "cell_type": "code",
      "source": [
        "history = model.fit(xs, ys, epochs=100, verbose=1)"
      ],
      "metadata": {
        "colab": {
          "base_uri": "https://localhost:8080/"
        },
        "id": "ljU_u-VP5gr7",
        "outputId": "84a4bfe7-2c4e-41af-81e1-3edc86ce7599"
      },
      "execution_count": 29,
      "outputs": [
        {
          "output_type": "stream",
          "name": "stdout",
          "text": [
            "Epoch 1/100\n",
            "3254/3254 [==============================] - 78s 21ms/step - loss: 8.3156 - accuracy: 0.0606\n",
            "Epoch 2/100\n",
            "3254/3254 [==============================] - 48s 15ms/step - loss: 7.5170 - accuracy: 0.0859\n",
            "Epoch 3/100\n",
            "3254/3254 [==============================] - 44s 13ms/step - loss: 6.4536 - accuracy: 0.1070\n",
            "Epoch 4/100\n",
            "3254/3254 [==============================] - 42s 13ms/step - loss: 5.5767 - accuracy: 0.1391\n",
            "Epoch 5/100\n",
            "3254/3254 [==============================] - 44s 13ms/step - loss: 5.0275 - accuracy: 0.1703\n",
            "Epoch 6/100\n",
            "3254/3254 [==============================] - 42s 13ms/step - loss: 4.7110 - accuracy: 0.1929\n",
            "Epoch 7/100\n",
            "3254/3254 [==============================] - 43s 13ms/step - loss: 4.5178 - accuracy: 0.2093\n",
            "Epoch 8/100\n",
            "3254/3254 [==============================] - 42s 13ms/step - loss: 4.3925 - accuracy: 0.2183\n",
            "Epoch 9/100\n",
            "3254/3254 [==============================] - 42s 13ms/step - loss: 4.3021 - accuracy: 0.2286\n",
            "Epoch 10/100\n",
            "3254/3254 [==============================] - 43s 13ms/step - loss: 4.2433 - accuracy: 0.2335\n",
            "Epoch 11/100\n",
            "3254/3254 [==============================] - 42s 13ms/step - loss: 4.1851 - accuracy: 0.2388\n",
            "Epoch 12/100\n",
            "3254/3254 [==============================] - 42s 13ms/step - loss: 4.1572 - accuracy: 0.2424\n",
            "Epoch 13/100\n",
            "3254/3254 [==============================] - 43s 13ms/step - loss: 4.1332 - accuracy: 0.2481\n",
            "Epoch 14/100\n",
            "3254/3254 [==============================] - 42s 13ms/step - loss: 4.1222 - accuracy: 0.2507\n",
            "Epoch 15/100\n",
            "3254/3254 [==============================] - 42s 13ms/step - loss: 4.1068 - accuracy: 0.2535\n",
            "Epoch 16/100\n",
            "3254/3254 [==============================] - 42s 13ms/step - loss: 4.0895 - accuracy: 0.2548\n",
            "Epoch 17/100\n",
            "3254/3254 [==============================] - 43s 13ms/step - loss: 4.0493 - accuracy: 0.2592\n",
            "Epoch 18/100\n",
            "3254/3254 [==============================] - 43s 13ms/step - loss: 4.0671 - accuracy: 0.2597\n",
            "Epoch 19/100\n",
            "3254/3254 [==============================] - 43s 13ms/step - loss: 4.0512 - accuracy: 0.2634\n",
            "Epoch 20/100\n",
            "3254/3254 [==============================] - 42s 13ms/step - loss: 4.0379 - accuracy: 0.2663\n",
            "Epoch 21/100\n",
            "3254/3254 [==============================] - 42s 13ms/step - loss: 4.0133 - accuracy: 0.2688\n",
            "Epoch 22/100\n",
            "3254/3254 [==============================] - 43s 13ms/step - loss: 4.0367 - accuracy: 0.2679\n",
            "Epoch 23/100\n",
            "3254/3254 [==============================] - 43s 13ms/step - loss: 4.0309 - accuracy: 0.2706\n",
            "Epoch 24/100\n",
            "3254/3254 [==============================] - 43s 13ms/step - loss: 4.0152 - accuracy: 0.2728\n",
            "Epoch 25/100\n",
            "3254/3254 [==============================] - 42s 13ms/step - loss: 4.0302 - accuracy: 0.2727\n",
            "Epoch 26/100\n",
            "3254/3254 [==============================] - 42s 13ms/step - loss: 4.0672 - accuracy: 0.2672\n",
            "Epoch 27/100\n",
            "3254/3254 [==============================] - 42s 13ms/step - loss: 4.0390 - accuracy: 0.2740\n",
            "Epoch 28/100\n",
            "3254/3254 [==============================] - 43s 13ms/step - loss: 4.0295 - accuracy: 0.2755\n",
            "Epoch 29/100\n",
            "3254/3254 [==============================] - 41s 13ms/step - loss: 4.0514 - accuracy: 0.2742\n",
            "Epoch 30/100\n",
            "3254/3254 [==============================] - 42s 13ms/step - loss: 4.0032 - accuracy: 0.2796\n",
            "Epoch 31/100\n",
            "3254/3254 [==============================] - 41s 13ms/step - loss: 3.9807 - accuracy: 0.2820\n",
            "Epoch 32/100\n",
            "3254/3254 [==============================] - 41s 13ms/step - loss: 3.9905 - accuracy: 0.2826\n",
            "Epoch 33/100\n",
            "3254/3254 [==============================] - 43s 13ms/step - loss: 4.0108 - accuracy: 0.2835\n",
            "Epoch 34/100\n",
            "3254/3254 [==============================] - 42s 13ms/step - loss: 3.9860 - accuracy: 0.2835\n",
            "Epoch 35/100\n",
            "3254/3254 [==============================] - 43s 13ms/step - loss: 4.0521 - accuracy: 0.2816\n",
            "Epoch 36/100\n",
            "3254/3254 [==============================] - 42s 13ms/step - loss: 4.0203 - accuracy: 0.2821\n",
            "Epoch 37/100\n",
            "3254/3254 [==============================] - 42s 13ms/step - loss: 4.0155 - accuracy: 0.2858\n",
            "Epoch 38/100\n",
            "3254/3254 [==============================] - 42s 13ms/step - loss: 3.9986 - accuracy: 0.2874\n",
            "Epoch 39/100\n",
            "3254/3254 [==============================] - 42s 13ms/step - loss: 4.0062 - accuracy: 0.2869\n",
            "Epoch 40/100\n",
            "3254/3254 [==============================] - 42s 13ms/step - loss: 3.9816 - accuracy: 0.2900\n",
            "Epoch 41/100\n",
            "3254/3254 [==============================] - 43s 13ms/step - loss: 3.9996 - accuracy: 0.2892\n",
            "Epoch 42/100\n",
            "3254/3254 [==============================] - 43s 13ms/step - loss: 4.0205 - accuracy: 0.2860\n",
            "Epoch 43/100\n",
            "3254/3254 [==============================] - 45s 14ms/step - loss: 4.0055 - accuracy: 0.2914\n",
            "Epoch 44/100\n",
            "3254/3254 [==============================] - 43s 13ms/step - loss: 4.0809 - accuracy: 0.2872\n",
            "Epoch 45/100\n",
            "3254/3254 [==============================] - 43s 13ms/step - loss: 3.9887 - accuracy: 0.2953\n",
            "Epoch 46/100\n",
            "3254/3254 [==============================] - 43s 13ms/step - loss: 3.9901 - accuracy: 0.2943\n",
            "Epoch 47/100\n",
            "3254/3254 [==============================] - 43s 13ms/step - loss: 3.9633 - accuracy: 0.2975\n",
            "Epoch 48/100\n",
            "3254/3254 [==============================] - 42s 13ms/step - loss: 3.9613 - accuracy: 0.2985\n",
            "Epoch 49/100\n",
            "3254/3254 [==============================] - 42s 13ms/step - loss: 3.9617 - accuracy: 0.3002\n",
            "Epoch 50/100\n",
            "3254/3254 [==============================] - 43s 13ms/step - loss: 3.9657 - accuracy: 0.2996\n",
            "Epoch 51/100\n",
            "3254/3254 [==============================] - 42s 13ms/step - loss: 3.9766 - accuracy: 0.2966\n",
            "Epoch 52/100\n",
            "3254/3254 [==============================] - 42s 13ms/step - loss: 3.9557 - accuracy: 0.2992\n",
            "Epoch 53/100\n",
            "3254/3254 [==============================] - 41s 13ms/step - loss: 3.9288 - accuracy: 0.3024\n",
            "Epoch 54/100\n",
            "3254/3254 [==============================] - 42s 13ms/step - loss: 3.9374 - accuracy: 0.3012\n",
            "Epoch 55/100\n",
            "3254/3254 [==============================] - 42s 13ms/step - loss: 3.9135 - accuracy: 0.3051\n",
            "Epoch 56/100\n",
            "3254/3254 [==============================] - 42s 13ms/step - loss: 3.9176 - accuracy: 0.3058\n",
            "Epoch 57/100\n",
            "3254/3254 [==============================] - 42s 13ms/step - loss: 3.9315 - accuracy: 0.3051\n",
            "Epoch 58/100\n",
            "3254/3254 [==============================] - 42s 13ms/step - loss: 3.9097 - accuracy: 0.3077\n",
            "Epoch 59/100\n",
            "3254/3254 [==============================] - 42s 13ms/step - loss: 3.9258 - accuracy: 0.3081\n",
            "Epoch 60/100\n",
            "3254/3254 [==============================] - 42s 13ms/step - loss: 3.8958 - accuracy: 0.3085\n",
            "Epoch 61/100\n",
            "3254/3254 [==============================] - 41s 13ms/step - loss: 3.9017 - accuracy: 0.3103\n",
            "Epoch 62/100\n",
            "3254/3254 [==============================] - 42s 13ms/step - loss: 3.9155 - accuracy: 0.3112\n",
            "Epoch 63/100\n",
            "3254/3254 [==============================] - 42s 13ms/step - loss: 3.9024 - accuracy: 0.3100\n",
            "Epoch 64/100\n",
            "3254/3254 [==============================] - 43s 13ms/step - loss: 3.8978 - accuracy: 0.3114\n",
            "Epoch 65/100\n",
            "3254/3254 [==============================] - 42s 13ms/step - loss: 3.9087 - accuracy: 0.3130\n",
            "Epoch 66/100\n",
            "3254/3254 [==============================] - 42s 13ms/step - loss: 3.8843 - accuracy: 0.3136\n",
            "Epoch 67/100\n",
            "3254/3254 [==============================] - 42s 13ms/step - loss: 3.9912 - accuracy: 0.3104\n",
            "Epoch 68/100\n",
            "3254/3254 [==============================] - 42s 13ms/step - loss: 4.1380 - accuracy: 0.3046\n",
            "Epoch 69/100\n",
            "3254/3254 [==============================] - 42s 13ms/step - loss: 4.0199 - accuracy: 0.3099\n",
            "Epoch 70/100\n",
            "3254/3254 [==============================] - 42s 13ms/step - loss: 3.9785 - accuracy: 0.3133\n",
            "Epoch 71/100\n",
            "3254/3254 [==============================] - 42s 13ms/step - loss: 3.9588 - accuracy: 0.3143\n",
            "Epoch 72/100\n",
            "3254/3254 [==============================] - 42s 13ms/step - loss: 3.9305 - accuracy: 0.3152\n",
            "Epoch 73/100\n",
            "3254/3254 [==============================] - 42s 13ms/step - loss: 3.9499 - accuracy: 0.3133\n",
            "Epoch 74/100\n",
            "3254/3254 [==============================] - 43s 13ms/step - loss: 3.9480 - accuracy: 0.3125\n",
            "Epoch 75/100\n",
            "3254/3254 [==============================] - 42s 13ms/step - loss: 3.9318 - accuracy: 0.3133\n",
            "Epoch 76/100\n",
            "3254/3254 [==============================] - 42s 13ms/step - loss: 3.9208 - accuracy: 0.3161\n",
            "Epoch 77/100\n",
            "3254/3254 [==============================] - 43s 13ms/step - loss: 3.9363 - accuracy: 0.3167\n",
            "Epoch 78/100\n",
            "3254/3254 [==============================] - 42s 13ms/step - loss: 3.9027 - accuracy: 0.3176\n",
            "Epoch 79/100\n",
            "3254/3254 [==============================] - 42s 13ms/step - loss: 3.9064 - accuracy: 0.3187\n",
            "Epoch 80/100\n",
            "3254/3254 [==============================] - 42s 13ms/step - loss: 3.9001 - accuracy: 0.3197\n",
            "Epoch 81/100\n",
            "3254/3254 [==============================] - 43s 13ms/step - loss: 3.8929 - accuracy: 0.3218\n",
            "Epoch 82/100\n",
            "3254/3254 [==============================] - 42s 13ms/step - loss: 3.9009 - accuracy: 0.3208\n",
            "Epoch 83/100\n",
            "3254/3254 [==============================] - 42s 13ms/step - loss: 3.9233 - accuracy: 0.3201\n",
            "Epoch 84/100\n",
            "3254/3254 [==============================] - 42s 13ms/step - loss: 3.9437 - accuracy: 0.3184\n",
            "Epoch 85/100\n",
            "3254/3254 [==============================] - 43s 13ms/step - loss: 3.9100 - accuracy: 0.3213\n",
            "Epoch 86/100\n",
            "3254/3254 [==============================] - 42s 13ms/step - loss: 3.9026 - accuracy: 0.3202\n",
            "Epoch 87/100\n",
            "3254/3254 [==============================] - 42s 13ms/step - loss: 3.9078 - accuracy: 0.3227\n",
            "Epoch 88/100\n",
            "3254/3254 [==============================] - 42s 13ms/step - loss: 3.9062 - accuracy: 0.3209\n",
            "Epoch 89/100\n",
            "3254/3254 [==============================] - 43s 13ms/step - loss: 3.8922 - accuracy: 0.3216\n",
            "Epoch 90/100\n",
            "3254/3254 [==============================] - 42s 13ms/step - loss: 3.9032 - accuracy: 0.3232\n",
            "Epoch 91/100\n",
            "3254/3254 [==============================] - 42s 13ms/step - loss: 3.8798 - accuracy: 0.3235\n",
            "Epoch 92/100\n",
            "3254/3254 [==============================] - 42s 13ms/step - loss: 3.8809 - accuracy: 0.3245\n",
            "Epoch 93/100\n",
            "3254/3254 [==============================] - 42s 13ms/step - loss: 3.8899 - accuracy: 0.3245\n",
            "Epoch 94/100\n",
            "3254/3254 [==============================] - 42s 13ms/step - loss: 3.8880 - accuracy: 0.3281\n",
            "Epoch 95/100\n",
            "3254/3254 [==============================] - 42s 13ms/step - loss: 3.8864 - accuracy: 0.3277\n",
            "Epoch 96/100\n",
            "3254/3254 [==============================] - 42s 13ms/step - loss: 3.8915 - accuracy: 0.3277\n",
            "Epoch 97/100\n",
            "3254/3254 [==============================] - 42s 13ms/step - loss: 3.8839 - accuracy: 0.3267\n",
            "Epoch 98/100\n",
            "3254/3254 [==============================] - 41s 13ms/step - loss: 3.8769 - accuracy: 0.3271\n",
            "Epoch 99/100\n",
            "3254/3254 [==============================] - 42s 13ms/step - loss: 3.8428 - accuracy: 0.3284\n",
            "Epoch 100/100\n",
            "3254/3254 [==============================] - 43s 13ms/step - loss: 3.8452 - accuracy: 0.3308\n"
          ]
        }
      ]
    },
    {
      "cell_type": "code",
      "source": [
        "print(text_vectorization.get_vocabulary()[11])"
      ],
      "metadata": {
        "id": "PTaZ99ZGJDQf",
        "outputId": "00fc37fa-8c66-46ef-b8d5-73cc4c50b8fc",
        "colab": {
          "base_uri": "https://localhost:8080/"
        }
      },
      "execution_count": 35,
      "outputs": [
        {
          "output_type": "stream",
          "name": "stdout",
          "text": [
            "by\n"
          ]
        }
      ]
    },
    {
      "cell_type": "code",
      "source": [
        "seed_text = \"There goes\"\n",
        "next_words = 15\n",
        "\n",
        "for _ in range(next_words):\n",
        "\ttoken_list = text_vectorization([seed_text])[0]\n",
        "\ttoken_list = sequence.pad_sequences([token_list], maxlen=max_sequence_len-1, padding='pre')\n",
        "\tpredicted = np.argmax(model.predict(token_list), axis=-1)\n",
        "\toutput_word = \"\"\n",
        "\toutput_word = text_vectorization.get_vocabulary()[int(predicted)]\n",
        "\tseed_text += \" \" + output_word\n",
        "print(seed_text)"
      ],
      "metadata": {
        "id": "s9ZSFVz62pQC",
        "outputId": "20716a13-875c-4853-d157-94f8052a069d",
        "colab": {
          "base_uri": "https://localhost:8080/"
        }
      },
      "execution_count": 39,
      "outputs": [
        {
          "output_type": "stream",
          "name": "stdout",
          "text": [
            "1/1 [==============================] - 0s 22ms/step\n",
            "1/1 [==============================] - 0s 20ms/step\n",
            "1/1 [==============================] - 0s 20ms/step\n",
            "1/1 [==============================] - 0s 20ms/step\n",
            "1/1 [==============================] - 0s 21ms/step\n",
            "1/1 [==============================] - 0s 21ms/step\n",
            "1/1 [==============================] - 0s 32ms/step\n",
            "1/1 [==============================] - 0s 21ms/step\n",
            "1/1 [==============================] - 0s 19ms/step\n",
            "1/1 [==============================] - 0s 22ms/step\n",
            "1/1 [==============================] - 0s 21ms/step\n",
            "1/1 [==============================] - 0s 20ms/step\n",
            "1/1 [==============================] - 0s 19ms/step\n",
            "1/1 [==============================] - 0s 19ms/step\n",
            "1/1 [==============================] - 0s 19ms/step\n",
            "There goes straight from to be in the goddamn beautiful cinnamon roll over the goddamn beautiful cinnamon\n"
          ]
        }
      ]
    },
    {
      "cell_type": "code",
      "source": [],
      "metadata": {
        "id": "KiB6v_fVJdG_"
      },
      "execution_count": null,
      "outputs": []
    }
  ]
}