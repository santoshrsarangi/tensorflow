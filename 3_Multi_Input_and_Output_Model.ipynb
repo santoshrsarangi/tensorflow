{
  "nbformat": 4,
  "nbformat_minor": 0,
  "metadata": {
    "colab": {
      "provenance": [],
      "collapsed_sections": [],
      "authorship_tag": "ABX9TyMHSJzDJks2JboFuh7byIKT",
      "include_colab_link": true
    },
    "kernelspec": {
      "name": "python3",
      "display_name": "Python 3"
    },
    "language_info": {
      "name": "python"
    }
  },
  "cells": [
    {
      "cell_type": "markdown",
      "metadata": {
        "id": "view-in-github",
        "colab_type": "text"
      },
      "source": [
        "<a href=\"https://colab.research.google.com/github/santoshrsarangi/tensorflow/blob/main/3_Multi_Input_and_Output_Model.ipynb\" target=\"_parent\"><img src=\"https://colab.research.google.com/assets/colab-badge.svg\" alt=\"Open In Colab\"/></a>"
      ]
    },
    {
      "cell_type": "code",
      "execution_count": 1,
      "metadata": {
        "id": "5Qa3Bpljn8X9"
      },
      "outputs": [],
      "source": [
        "import tensorflow as tf\n",
        "from tensorflow import keras\n",
        "from keras import layers"
      ]
    },
    {
      "cell_type": "code",
      "source": [
        "input_1 = keras.Input(shape=(32,))\n",
        "input_2 = keras.Input(shape=(16,))\n",
        "input_3 = keras.Input(shape=(10,))\n",
        "\n",
        "my_concatenate_layer = keras.layers.Concatenate()([input_1, input_2, input_3])\n",
        "my_dense_layer = keras.layers.Dense(units=128, activation=\"relu\")(my_concatenate_layer)\n",
        "\n",
        "output_1 = layers.Dense(units=1, activation=\"sigmoid\")(my_dense_layer)\n",
        "output_2 = layers.Dense(units=10, activation = \"softmax\")(my_dense_layer)"
      ],
      "metadata": {
        "id": "kVF-Hq3DoWOh"
      },
      "execution_count": 9,
      "outputs": []
    },
    {
      "cell_type": "code",
      "source": [
        "model = keras.Model([input_1, input_2, input_3], [output_1, output_2])"
      ],
      "metadata": {
        "id": "ziuaGMUOqoKG"
      },
      "execution_count": 10,
      "outputs": []
    },
    {
      "cell_type": "code",
      "source": [
        "model.summary()"
      ],
      "metadata": {
        "colab": {
          "base_uri": "https://localhost:8080/"
        },
        "id": "FY5debVbvZj8",
        "outputId": "35c056a5-5ea1-4877-89fb-8f54d6a0be15"
      },
      "execution_count": 11,
      "outputs": [
        {
          "output_type": "stream",
          "name": "stdout",
          "text": [
            "Model: \"model\"\n",
            "__________________________________________________________________________________________________\n",
            " Layer (type)                   Output Shape         Param #     Connected to                     \n",
            "==================================================================================================\n",
            " input_10 (InputLayer)          [(None, 32)]         0           []                               \n",
            "                                                                                                  \n",
            " input_11 (InputLayer)          [(None, 16)]         0           []                               \n",
            "                                                                                                  \n",
            " input_12 (InputLayer)          [(None, 10)]         0           []                               \n",
            "                                                                                                  \n",
            " concatenate_3 (Concatenate)    (None, 58)           0           ['input_10[0][0]',               \n",
            "                                                                  'input_11[0][0]',               \n",
            "                                                                  'input_12[0][0]']               \n",
            "                                                                                                  \n",
            " dense_1 (Dense)                (None, 128)          7552        ['concatenate_3[0][0]']          \n",
            "                                                                                                  \n",
            " dense_2 (Dense)                (None, 1)            129         ['dense_1[0][0]']                \n",
            "                                                                                                  \n",
            " dense_3 (Dense)                (None, 10)           1290        ['dense_1[0][0]']                \n",
            "                                                                                                  \n",
            "==================================================================================================\n",
            "Total params: 8,971\n",
            "Trainable params: 8,971\n",
            "Non-trainable params: 0\n",
            "__________________________________________________________________________________________________\n"
          ]
        }
      ]
    },
    {
      "cell_type": "code",
      "source": [
        "keras.utils.plot_model(model)"
      ],
      "metadata": {
        "colab": {
          "base_uri": "https://localhost:8080/",
          "height": 369
        },
        "id": "ADbsqMODwKKj",
        "outputId": "da2aea8a-f1ea-49d4-f4f1-11a5d7b10a57"
      },
      "execution_count": 12,
      "outputs": [
        {
          "output_type": "execute_result",
          "data": {
            "image/png": "[encoded data removed]",
            "text/plain": [
              "<IPython.core.display.Image object>"
            ]
          },
          "metadata": {},
          "execution_count": 12
        }
      ]
    }
  ]
}