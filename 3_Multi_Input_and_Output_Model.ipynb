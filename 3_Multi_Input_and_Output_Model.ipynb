{
  "nbformat": 4,
  "nbformat_minor": 0,
  "metadata": {
    "colab": {
      "provenance": [],
      "collapsed_sections": [],
      "authorship_tag": "ABX9TyPHM8ZbqhjopHqfr/BdeUt8",
      "include_colab_link": true
    },
    "kernelspec": {
      "name": "python3",
      "display_name": "Python 3"
    },
    "language_info": {
      "name": "python"
    }
  },
  "cells": [
    {
      "cell_type": "markdown",
      "metadata": {
        "id": "view-in-github",
        "colab_type": "text"
      },
      "source": [
        "<a href=\"https://colab.research.google.com/github/santoshrsarangi/tensorflow/blob/main/3_Multi_Input_and_Output_Model.ipynb\" target=\"_parent\"><img src=\"https://colab.research.google.com/assets/colab-badge.svg\" alt=\"Open In Colab\"/></a>"
      ]
    },
    {
      "cell_type": "code",
      "execution_count": null,
      "metadata": {
        "id": "5Qa3Bpljn8X9"
      },
      "outputs": [],
      "source": [
        "import tensorflow as tf\n",
        "from tensorflow import keras\n",
        "from keras import layers"
      ]
    },
    {
      "cell_type": "code",
      "source": [
        "input_1 = keras.Input(shape=(32,), name=\"i1\")\n",
        "input_2 = keras.Input(shape=(16,), name=\"i2\")\n",
        "input_3 = keras.Input(shape=(10,), name=\"i3\")\n",
        "\n",
        "my_concatenate_layer = layers.Concatenate(name=\"c1\")([input_1, input_2, input_3])\n",
        "my_dense_layer = layers.Dense(units=128, activation=\"relu\", name=\"d1\")(my_concatenate_layer)\n",
        "\n",
        "output_1 = layers.Dense(units=1, activation=\"sigmoid\", name=\"o1\")(my_dense_layer)\n",
        "output_2 = layers.Dense(units=10, activation = \"softmax\", name=\"o2\")(my_dense_layer)"
      ],
      "metadata": {
        "id": "kVF-Hq3DoWOh"
      },
      "execution_count": null,
      "outputs": []
    },
    {
      "cell_type": "code",
      "source": [
        "model = keras.Model([input_1, input_2, input_3], [output_1, output_2], name=\"multi-output-model\")"
      ],
      "metadata": {
        "id": "ziuaGMUOqoKG"
      },
      "execution_count": null,
      "outputs": []
    },
    {
      "cell_type": "code",
      "source": [
        "model.summary()"
      ],
      "metadata": {
        "colab": {
          "base_uri": "https://localhost:8080/"
        },
        "id": "FY5debVbvZj8",
        "outputId": "b0e1afeb-5344-4b48-8030-f30db3c76d4f"
      },
      "execution_count": null,
      "outputs": [
        {
          "output_type": "stream",
          "name": "stdout",
          "text": [
            "Model: \"multi-output-model\"\n",
            "__________________________________________________________________________________________________\n",
            " Layer (type)                   Output Shape         Param #     Connected to                     \n",
            "==================================================================================================\n",
            " i1 (InputLayer)                [(None, 32)]         0           []                               \n",
            "                                                                                                  \n",
            " i2 (InputLayer)                [(None, 16)]         0           []                               \n",
            "                                                                                                  \n",
            " i3 (InputLayer)                [(None, 10)]         0           []                               \n",
            "                                                                                                  \n",
            " c1 (Concatenate)               (None, 58)           0           ['i1[0][0]',                     \n",
            "                                                                  'i2[0][0]',                     \n",
            "                                                                  'i3[0][0]']                     \n",
            "                                                                                                  \n",
            " d1 (Dense)                     (None, 128)          7552        ['c1[0][0]']                     \n",
            "                                                                                                  \n",
            " o1 (Dense)                     (None, 1)            129         ['d1[0][0]']                     \n",
            "                                                                                                  \n",
            " o2 (Dense)                     (None, 10)           1290        ['d1[0][0]']                     \n",
            "                                                                                                  \n",
            "==================================================================================================\n",
            "Total params: 8,971\n",
            "Trainable params: 8,971\n",
            "Non-trainable params: 0\n",
            "__________________________________________________________________________________________________\n"
          ]
        }
      ]
    },
    {
      "cell_type": "code",
      "source": [
        "keras.utils.plot_model(model, show_shapes=True)"
      ],
      "metadata": {
        "colab": {
          "base_uri": "https://localhost:8080/",
          "height": 385
        },
        "id": "ADbsqMODwKKj",
        "outputId": "30b23228-e889-4ab5-c690-fe5397a4e3c7"
      },
      "execution_count": null,
      "outputs": [
        {
          "output_type": "execute_result",
          "data": {
            "image/png": "[encoded data removed]",
            "text/plain": [
              "<IPython.core.display.Image object>"
            ]
          },
          "metadata": {},
          "execution_count": 66
        }
      ]
    },
    {
      "cell_type": "code",
      "source": [
        "model.layers"
      ],
      "metadata": {
        "colab": {
          "base_uri": "https://localhost:8080/"
        },
        "id": "_9j_KMBUiJeV",
        "outputId": "e67daf1e-0673-410f-bf62-d5ccb2220d15"
      },
      "execution_count": null,
      "outputs": [
        {
          "output_type": "execute_result",
          "data": {
            "text/plain": [
              "[<keras.engine.input_layer.InputLayer at 0x7f8290bc7550>,\n",
              " <keras.engine.input_layer.InputLayer at 0x7f8290b5e0d0>,\n",
              " <keras.engine.input_layer.InputLayer at 0x7f8290b1e310>,\n",
              " <keras.layers.merge.Concatenate at 0x7f8290b7d5d0>,\n",
              " <keras.layers.core.dense.Dense at 0x7f8290e40750>,\n",
              " <keras.layers.core.dense.Dense at 0x7f8290bd9c90>,\n",
              " <keras.layers.core.dense.Dense at 0x7f8290ddd610>]"
            ]
          },
          "metadata": {},
          "execution_count": 67
        }
      ]
    },
    {
      "cell_type": "code",
      "source": [
        "model.layers[3].input"
      ],
      "metadata": {
        "colab": {
          "base_uri": "https://localhost:8080/"
        },
        "id": "ULxp_TXviPvO",
        "outputId": "4e0baf30-3b4d-4026-fea1-2f153309eedc"
      },
      "execution_count": null,
      "outputs": [
        {
          "output_type": "execute_result",
          "data": {
            "text/plain": [
              "[<KerasTensor: shape=(None, 32) dtype=float32 (created by layer 'i1')>,\n",
              " <KerasTensor: shape=(None, 16) dtype=float32 (created by layer 'i2')>,\n",
              " <KerasTensor: shape=(None, 10) dtype=float32 (created by layer 'i3')>]"
            ]
          },
          "metadata": {},
          "execution_count": 68
        }
      ]
    },
    {
      "cell_type": "code",
      "source": [
        "model.layers[3].output"
      ],
      "metadata": {
        "colab": {
          "base_uri": "https://localhost:8080/"
        },
        "id": "XfBgUoqqibN2",
        "outputId": "66b0772c-608a-4750-be6d-a8527ea42beb"
      },
      "execution_count": null,
      "outputs": [
        {
          "output_type": "execute_result",
          "data": {
            "text/plain": [
              "<KerasTensor: shape=(None, 58) dtype=float32 (created by layer 'c1')>"
            ]
          },
          "metadata": {},
          "execution_count": 69
        }
      ]
    },
    {
      "cell_type": "code",
      "source": [
        "import numpy as np"
      ],
      "metadata": {
        "id": "ugo5Gq9YpzE-"
      },
      "execution_count": null,
      "outputs": []
    },
    {
      "cell_type": "code",
      "source": [
        "num_of_records = 5000"
      ],
      "metadata": {
        "id": "w1jFiUC3qVoB"
      },
      "execution_count": null,
      "outputs": []
    },
    {
      "cell_type": "code",
      "source": [
        "test_data_1 = np.random.randint(0, 2, size=(num_of_records, 32))"
      ],
      "metadata": {
        "id": "i9_H8M0Zp3hu"
      },
      "execution_count": null,
      "outputs": []
    },
    {
      "cell_type": "code",
      "source": [
        "test_data_1[0]"
      ],
      "metadata": {
        "colab": {
          "base_uri": "https://localhost:8080/"
        },
        "id": "mNzKTFrz7jUk",
        "outputId": "518c5c26-d079-4020-b19a-78792a4b94f0"
      },
      "execution_count": null,
      "outputs": [
        {
          "output_type": "execute_result",
          "data": {
            "text/plain": [
              "array([0, 0, 0, 0, 0, 1, 0, 1, 1, 0, 1, 1, 0, 0, 0, 0, 1, 1, 1, 1, 0, 1,\n",
              "       1, 0, 1, 0, 0, 1, 0, 1, 0, 0])"
            ]
          },
          "metadata": {},
          "execution_count": 35
        }
      ]
    },
    {
      "cell_type": "code",
      "source": [
        "test_data_2 = np.random.randint(0, 2, size = (num_of_records, 16))"
      ],
      "metadata": {
        "id": "aYMwxxhrqn1L"
      },
      "execution_count": null,
      "outputs": []
    },
    {
      "cell_type": "code",
      "source": [
        "test_data_3 = np.random.randint(0, 2, size = (num_of_records, 10))"
      ],
      "metadata": {
        "id": "oJxHhZkpqx3T"
      },
      "execution_count": null,
      "outputs": []
    },
    {
      "cell_type": "code",
      "source": [
        "test_label_1 = np.random.random(size=(num_of_records, 1))"
      ],
      "metadata": {
        "id": "RRvIno3Nq_Vo"
      },
      "execution_count": null,
      "outputs": []
    },
    {
      "cell_type": "code",
      "source": [
        "test_label_2 = np.random.randint(0,2, size=(num_of_records, 10))"
      ],
      "metadata": {
        "id": "L3eBNGYKrb9P"
      },
      "execution_count": null,
      "outputs": []
    },
    {
      "cell_type": "code",
      "source": [
        "model.compile(optimizer = \"rmsprop\",\n",
        "              loss = [\"mean_squared_error\",\"categorical_crossentropy\"],\n",
        "              metrics = [[\"mean_absolute_error\"],[\"accuracy\"]])"
      ],
      "metadata": {
        "id": "x4NUbkSlr1MZ"
      },
      "execution_count": null,
      "outputs": []
    },
    {
      "cell_type": "code",
      "source": [
        "model.compile(optimizer=\"rmsprop\",\n",
        "              loss={\"o1\": \"mean_squared_error\", \"o2\":\"categorical_crossentropy\"},\n",
        "              metrics = {\"o1\": [\"mean_absolute_error\"], \"o2\":[\"accuracy\"]})"
      ],
      "metadata": {
        "id": "QHlrbU7SbHll"
      },
      "execution_count": null,
      "outputs": []
    },
    {
      "cell_type": "code",
      "source": [
        "model.fit({\"i1\":test_data_1, \"i2\":test_data_2, \"i3\":test_data_3},\n",
        "          {\"o1\":test_label_1, \"o2\":test_label_2}, epochs=5)"
      ],
      "metadata": {
        "colab": {
          "base_uri": "https://localhost:8080/"
        },
        "id": "x00s3AKbtACa",
        "outputId": "d4482f4e-f3c0-49ac-d67c-e2af091ec333"
      },
      "execution_count": null,
      "outputs": [
        {
          "output_type": "stream",
          "name": "stdout",
          "text": [
            "Epoch 1/5\n",
            "157/157 [==============================] - 1s 2ms/step - loss: 18.0128 - o1_loss: 0.0914 - o2_loss: 17.9213 - o1_mean_absolute_error: 0.2568 - o2_accuracy: 0.0956\n",
            "Epoch 2/5\n",
            "157/157 [==============================] - 0s 2ms/step - loss: 24.0674 - o1_loss: 0.0980 - o2_loss: 23.9694 - o1_mean_absolute_error: 0.2626 - o2_accuracy: 0.1192\n",
            "Epoch 3/5\n",
            "157/157 [==============================] - 0s 2ms/step - loss: 23.1098 - o1_loss: 0.1094 - o2_loss: 23.0004 - o1_mean_absolute_error: 0.2747 - o2_accuracy: 0.1136\n",
            "Epoch 4/5\n",
            "157/157 [==============================] - 0s 2ms/step - loss: 22.3547 - o1_loss: 0.1275 - o2_loss: 22.2272 - o1_mean_absolute_error: 0.2937 - o2_accuracy: 0.1180\n",
            "Epoch 5/5\n",
            "157/157 [==============================] - 0s 2ms/step - loss: 20.6214 - o1_loss: 0.1422 - o2_loss: 20.4792 - o1_mean_absolute_error: 0.3069 - o2_accuracy: 0.1046\n"
          ]
        },
        {
          "output_type": "execute_result",
          "data": {
            "text/plain": [
              "<keras.callbacks.History at 0x7f8290e11210>"
            ]
          },
          "metadata": {},
          "execution_count": 64
        }
      ]
    },
    {
      "cell_type": "code",
      "source": [
        "model.evaluate([test_data_1, test_data_2, test_data_3],[test_label_1, test_label_2])"
      ],
      "metadata": {
        "colab": {
          "base_uri": "https://localhost:8080/"
        },
        "id": "0yBtpqv_9vn0",
        "outputId": "73748aa5-b319-46a2-8f19-5d68ad0acb4d"
      },
      "execution_count": null,
      "outputs": [
        {
          "output_type": "stream",
          "name": "stdout",
          "text": [
            "157/157 [==============================] - 1s 2ms/step - loss: 15.1366 - o-1_loss: 0.2635 - o-2_loss: 14.8731 - o-1_mean_absolute_error: 0.4334 - o-2_accuracy: 0.0290\n"
          ]
        },
        {
          "output_type": "execute_result",
          "data": {
            "text/plain": [
              "[15.136634826660156,\n",
              " 0.26352623105049133,\n",
              " 14.873106002807617,\n",
              " 0.43340829014778137,\n",
              " 0.028999999165534973]"
            ]
          },
          "metadata": {},
          "execution_count": 55
        }
      ]
    },
    {
      "cell_type": "code",
      "source": [
        "pred_o1, pred_o2 = model.predict([test_data_1, test_data_2, test_data_3])"
      ],
      "metadata": {
        "id": "JycbjIuX_AUr"
      },
      "execution_count": null,
      "outputs": []
    },
    {
      "cell_type": "code",
      "source": [],
      "metadata": {
        "id": "uzvsgnRqasBh"
      },
      "execution_count": null,
      "outputs": []
    }
  ]
}